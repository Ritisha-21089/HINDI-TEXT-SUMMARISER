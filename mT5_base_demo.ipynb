{
  "cells": [
    {
      "cell_type": "code",
      "source": [
        "from google.colab import drive\n",
        "drive.mount('/content/drive')"
      ],
      "metadata": {
        "colab": {
          "base_uri": "https://localhost:8080/"
        },
        "id": "WKvw91CJOBX6",
        "outputId": "288577be-3d31-4604-db09-7aefb31de710"
      },
      "execution_count": null,
      "outputs": [
        {
          "output_type": "stream",
          "name": "stdout",
          "text": [
            "Mounted at /content/drive\n"
          ]
        }
      ]
    },
    {
      "cell_type": "code",
      "execution_count": null,
      "metadata": {
        "colab": {
          "base_uri": "https://localhost:8080/"
        },
        "id": "Gka_OKziNyi4",
        "outputId": "6a9c007b-0278-4c41-bccf-c074e7764036"
      },
      "outputs": [
        {
          "output_type": "stream",
          "name": "stdout",
          "text": [
            "The number of rows in the Excel file is: 21225\n"
          ]
        }
      ],
      "source": [
        "import pandas as pd\n",
        "\n",
        "file_path = '/content/drive/MyDrive/Hindi_train.csv'\n",
        "\n",
        "df_train = pd.read_csv(file_path)\n",
        "\n",
        "num_rows = len(df_train)\n",
        "\n",
        "print(f'The number of rows in the Excel file is: {num_rows}')"
      ]
    },
    {
      "cell_type": "code",
      "execution_count": null,
      "metadata": {
        "id": "ahFdHN99Nyi8"
      },
      "outputs": [],
      "source": [
        "df_without_ids = df_train.drop('Id',axis=1)"
      ]
    },
    {
      "cell_type": "code",
      "execution_count": null,
      "metadata": {
        "id": "FSBXk_OXNyi8"
      },
      "outputs": [],
      "source": [
        "df = df_without_ids.drop_duplicates()\n",
        "# df.describe"
      ]
    },
    {
      "cell_type": "code",
      "execution_count": null,
      "metadata": {
        "id": "arUdogJfNyi8"
      },
      "outputs": [],
      "source": [
        "from sklearn.model_selection import train_test_split\n",
        "train, val = train_test_split(df, test_size=0.2)"
      ]
    },
    {
      "cell_type": "code",
      "source": [
        "!pip install transformers datasets evaluate torch\n",
        "!pip install accelerate -U\n",
        "!pip install transformers datasets evaluate torch rouge_score\n",
        "!pip install rouge bert_score\n"
      ],
      "metadata": {
        "id": "pE5o8iRzOj2c"
      },
      "execution_count": null,
      "outputs": []
    },
    {
      "cell_type": "code",
      "source": [
        "import torch\n",
        "from transformers import AutoTokenizer, AutoModelForSeq2SeqLM, Seq2SeqTrainingArguments, Seq2SeqTrainer, DataCollatorForSeq2Seq\n",
        "from datasets import load_dataset, Dataset, DatasetDict, load_metric\n",
        "import numpy as np\n",
        "import pandas as pd\n",
        "\n",
        "train_dataset = Dataset.from_pandas(train)\n",
        "val_dataset = Dataset.from_pandas(val)\n",
        "dataset = DatasetDict({'train': train_dataset, 'validation': val_dataset})\n",
        "\n",
        "\n",
        "tokenizer = AutoTokenizer.from_pretrained(\"google/mt5-base\")\n",
        "model = AutoModelForSeq2SeqLM.from_pretrained(\"google/mt5-base\")\n",
        "\n",
        "\n",
        "def map_to_model_inputs(batch):\n",
        "\n",
        "    prefix = \"summarize: \"\n",
        "\n",
        "    articles = [prefix + article for article in batch['Article']]\n",
        "    inputs = tokenizer(articles, padding='max_length', truncation=True, max_length=512)\n",
        "    outputs = tokenizer(batch['Summary'], padding='max_length', truncation=True, max_length=100)\n",
        "\n",
        "    batch['input_ids'] = inputs.input_ids\n",
        "    batch['attention_mask'] = inputs.attention_mask\n",
        "    batch['labels'] = [\n",
        "        [(label if label != tokenizer.pad_token_id else -100) for label in out] for out in outputs.input_ids\n",
        "    ]\n",
        "    return batch\n",
        "\n",
        "\n",
        "tokenized_dataset = dataset.map(map_to_model_inputs, batched=True)\n",
        "\n",
        "data_collator = DataCollatorForSeq2Seq(tokenizer, model=model)\n",
        "\n",
        "\n",
        "def compute_metrics(eval_pred):\n",
        "    predictions, labels = eval_pred\n",
        "    decoded_preds = tokenizer.batch_decode(predictions, skip_special_tokens=True)\n",
        "    labels = np.where(labels != -100, labels, tokenizer.pad_token_id)\n",
        "    decoded_labels = tokenizer.batch_decode(labels, skip_special_tokens=True)\n",
        "\n",
        "    rouge = load_metric('rouge')\n",
        "    bert_score = load_metric('bertscore')\n",
        "\n",
        "    rouge_output = rouge.compute(predictions=decoded_preds, references=decoded_labels, rouge_types=[\"rougeL\", \"rouge2\"])\n",
        "    bert_score_output = bert_score.compute(predictions=decoded_preds, references=decoded_labels, lang=\"hi\")\n",
        "\n",
        "    return {\n",
        "        \"rouge2\": rouge_output['rouge2'].mid.fmeasure,\n",
        "        \"rougeL\": rouge_output['rougeL'].mid.fmeasure,\n",
        "        \"bert_score\": bert_score_output['f1'][0]\n",
        "    }\n",
        "\n",
        "\n",
        "training_args = Seq2SeqTrainingArguments(\n",
        "    output_dir='./results_mt5',\n",
        "    evaluation_strategy=\"epoch\",\n",
        "    learning_rate=5e-5,\n",
        "    per_device_train_batch_size=4,\n",
        "    per_device_eval_batch_size=4,\n",
        "    weight_decay=0.005,\n",
        "    save_total_limit=1,\n",
        "    num_train_epochs=5,\n",
        "    predict_with_generate=True,\n",
        "    gradient_accumulation_steps = 16\n",
        ")\n",
        "\n",
        "trainer = Seq2SeqTrainer(\n",
        "    model=model,\n",
        "    args=training_args,\n",
        "    train_dataset=tokenized_dataset['train'],\n",
        "    eval_dataset=tokenized_dataset['validation'],\n",
        "    tokenizer=tokenizer,\n",
        "    data_collator=data_collator,\n",
        "    compute_metrics=compute_metrics\n",
        ")\n",
        "\n",
        "trainer.train()\n",
        "\n",
        "model.save_pretrained('/content/drive/MyDrive/Models/mt5_base_finetuned_model')\n",
        "tokenizer.save_pretrained('/content/drive/MyDrive/Models/mt5_base_finetuned_token')"
      ],
      "metadata": {
        "colab": {
          "base_uri": "https://localhost:8080/",
          "height": 1000,
          "referenced_widgets": [
            "4dc7f0b0c82542e0acb5a5e8b20bc7b1",
            "18d380cc4e87418ba56a6fda7ac5ebc1",
            "e28c7dbcfb7a47258c41743b91da4d34",
            "c11f01ebd19b400f9d812440ad6a0998",
            "a880ce23a2eb4453ba0bef1a0787f8dd",
            "c586a8c2e819441499545fc6efef8805",
            "a933df02c82d40b08992c81e8b4956a1",
            "fed172d2371042288b10da4a3ba36357",
            "aafbf1f0a14c43abb8fd39bff039e82e",
            "3e32e2b9908a48efa5cef3faf5595508",
            "832c47ed22954190bfead190e83a7965",
            "801afe4731954be8b5f790cf9ae8f3b1",
            "07fd95b06ed344c0be95aa43a5cc76e2",
            "6d621802a7d442d2874ae1933dd3dc1b",
            "32c441575e234858a882dc56b65767bc",
            "6d681639515d47a6ad7f436d7c8ed8b5",
            "d9f5d04318a1431da45b7f7603a83039",
            "a139b118be844289a4f6d2f2bee2e6c0",
            "2f88850e481d4b969c30fc086534ad7a",
            "73b7266bbda44b05988643c05b80d4e1",
            "b5b3b374856e4bceac0f8a1e6782927f",
            "c7a5b1bee1374d0ab6b0dbcb2513a508",
            "c33641574487413da36f638eb9f9ea9b",
            "7a8933b97db34abf8118103a2c4ac2f6",
            "c890ab869cd44ed5a87e07a54023f5f9",
            "17360cde65c745e4a1d6e09233e9313d",
            "e86c6f4f5d5f4181abd9dd99c8774814",
            "27a155e7149f4685a5b3e0b89e8b5278",
            "dac0a7e7af5349ea9a5e91d49cd97775",
            "31224248d8ff42efbfe7b9a20c6488e7",
            "1eee5cb11f2043bbaa1bc3014b28c31a",
            "4ea06db7b6ed4f168778cb549c3b7db9",
            "4ccfa16f5e224df294360780903f422a",
            "8a885972d53d496b98392df8d953bba2",
            "5a66631308e145dfbb59047af691498c",
            "efa120012bd449098419347949e6cc21",
            "d1942563e840489bb6c48f26c51e9c62",
            "0e48267488b54e01a594089d6b4f9bc6",
            "f3e9ad002ff14058a21932113f8577ec",
            "1ae3fac3a2c845419dde8e2ff2ccd1b6",
            "3163e083d9534db98bc928f9a596af8c",
            "d4368ba1aa144b2abbcc37f01cbc85f2",
            "6839348d3bba4c9996490b540f71563f",
            "3b028409fdef4718bc68bcfd7aa555a3",
            "fa7fffcd91b046898be7f6f69d43cada",
            "b1276a59930347c491a6f8e4d9628db0",
            "3a9771a44b1f49679e0ec0c2222d5b85",
            "5bf45c5a732c4b9c959c860f8c436f9e",
            "0bdbac16563a4830b32850696411c958",
            "9a7720671894496db9aec63faae7170a",
            "a9acde6076574faba275c8ac549391a2",
            "7816f328d4a4468c948776243c66e5a1",
            "47d69dc3d927474c9977d513a6615048",
            "c220796746124610b64d135d0438e89c",
            "335a55f73ecf4bdca6b22d157efc71aa",
            "080f40c7e4784877b1dc0a9109ffee38",
            "8e3cdf53430d498b96420cf6f9bd0730",
            "d558641eca3145cf97e2380b3034b5e0",
            "16e1a227ba9d4e8c8f53f62aa0856fb8",
            "4d77e571b80d4662a73db17d89d754a3",
            "c1143437a477456fac131e2cd88b6d04",
            "94a8e8cb72a84e37bf1ccd6af2c56496",
            "6390fb15e1c04621af842dcafc398420",
            "53475c6825be4d45bd68ab319179407a",
            "c360396427554a32a62faa9cacae7476",
            "a63d46dca156440799d1334dfbf22e35",
            "981492bf06454136b72f23d99f073943",
            "0c17402b48bc4412b6c23e2d1eb8414b",
            "4d780a0ad0d741c9a0d9a81c09c048f1",
            "bb6da3a9a5da43dcabdf7e546fc3cdaf",
            "8d804f65ff854e79a9d7dc850d8aaa1b",
            "e33bcd1ccc694158a3e2a13a590b152f",
            "12b0761c993c4ae8a569c70585afdd3a",
            "cd45492e6f1f4520845da7516eb63d2e",
            "0705eed0b4c946009f0e53e9a4b22b9b",
            "9173414552a5484a9382605d7b9b98db",
            "4b2e4da10dd347db8807ba00e4e7b0f6",
            "64ad3f7d1e004b3f90c1dbf36dcc5e98",
            "fd1d4aa982e045cd8f8421eefebd4b7d",
            "6f9a07a8dbc847ca94a937424c6929bf",
            "a6e44a4cbada462990f86b30c148ebd8",
            "9bd9566d700d47e29d4e84337b22e36b",
            "64e6cb6bf5d64798a82b2d318a6bb453",
            "02b20b8ed98e4e2c840f8e095f2a04d2",
            "3c2a451a7fb048c0b674c14aae0005d2",
            "ade9ab444e2843a8ad2f128cbaf6611f",
            "6b84ddab4b0846ffbfda2968891ebd59",
            "ed300aa11cbc45f1b8e4279599d8d2fe",
            "eacaf08f14974b8296d92c22afa11c7d",
            "9195a104a9eb42119161b38bc5c67da2",
            "c544bde2d44d4df7bb66e6cd83b347ae",
            "eeaa5a487d694424babbadb025cdd39e",
            "a59aa52679db48419b9ca0683d39cab4",
            "01427869120f45e3b7646b802e647a4b",
            "52f74e23a7b74d23af533333ab39d1e9",
            "0749530f4ee54251b8500220293498be",
            "d2c7e35047684035ac790f6adb306c71",
            "8c64d97270fd4761b15aef165622988c",
            "670ff8083eeb4e3c91978c8731402d33",
            "9f4e54e2bbdf45a1b574d330c580ffe1",
            "568909bba01647ec86f4fde4bfb86c8b",
            "6ded40b9e18447498eebf999f5f031ea",
            "9e3385acae0b43d6bd08e9fbf9753dac",
            "476ea99a9d6a4fd1b952e8b350fa8183",
            "4ff6774ab7aa4de4aabaabc69be73ab5",
            "1d03e3812f7547a583be4ad96438a142",
            "266c5be192d64a5ea81ac73a30e7268e",
            "562bb288e9fb4e1ca41dc0a1592729c5",
            "a3875031346a451db0c72d7669d6ecf7",
            "2bfbfb26f3084b42bb9ac98d6efee867",
            "a94468491d484089bb694bdf1cde875c",
            "3c16cce476df41bcb730572679295b9f",
            "976287c797f644b482a3a98b6f1cb57c",
            "66d737c799864da197aec3bf4fd8fe6c",
            "a1f911330caf4da3b6ecb38e9c47d4a8",
            "9aa3862c9917499e99beb0480229b346",
            "e600007f80ea412ebef6789e17e49371",
            "a38f24b5f93e4d36a3eba9381e86a76c",
            "9b99a933a492451e94da2da093a2acdd",
            "95bd3a9c7feb4746b49b8b750cc84409",
            "d3aec0a0411846cda04503cc96f56515",
            "e0a6829328e4429680cc4f52aa1e5131",
            "d87c2227c09143cf853ac1b31c78a6d4",
            "ea97e5104fc045feb3c26eb0de4474dc",
            "cb6e626794f143d383d2bed002d4012d",
            "7b2b1d3c4f7b4ad489b277595a8be870",
            "ad688152b596415686fabade538404a0",
            "1fe32f5183da4a30be0778e9f8b5ab61",
            "4ba232fe460a4b3aabb2d4576b2b2434",
            "6116812a64f34cbdad342c44e3cecd00",
            "ead2809594674ca5b8e0a778537e9cfd",
            "e341607e204945eb88332fb5916f73bb",
            "1eda3d48176f46c088086a8d29f2ef3e",
            "46f07bfb5ff24063b68a7273a4aa7302",
            "093dc440afd84aa3a9f9385506462375",
            "dc347c10494b44588cd08d539f732c41",
            "587fc073635c4da4a8f0bd7a555021d5",
            "63acc799bc7741bcb6da04dcab251b33",
            "bef1477bc2b240d2ba7c581eda1122b6",
            "915f327089454290b6f608043659b066",
            "d1bd84c54a294cd8a690e3538019a1de",
            "ee60a549f71246fab86fa705995fe35d",
            "dbd68c9cbfd54e568c618b887c05d70b",
            "4d911273ab9847e99e277be5b747725a",
            "bd45717d22194f248235507a6b4d83b4",
            "917650b8bcd148a490c017954b96265e",
            "628b717dc07e48ec8033f1887b4b662c",
            "5736956b73a5405a8ac91134e2bfb48f",
            "b02857741577432aa9a37be7caf76639",
            "870d153138324a47bc2fef5dedcc0487",
            "7d6d2dcbc5ac45499ee5137af9806dbc",
            "fa85091bfe1240eeb8a3af43c9244650",
            "37635fa1fe484d5a86acc69b944293d2",
            "09c268232018454c9d8f05471e8f4061",
            "d0e9b723d2c848b7acd857d485729de5",
            "a39f8c26fb7c421e92b013e6f1b25eb9",
            "db7c5746eaba4d29a5bd22622a429889",
            "197d590a9215422b9d8ce35e32540beb",
            "0fe25928046b49e8aa1c31bf5ede4717",
            "307a81b40efd4c8e9b832807bbd26f94",
            "37d652985bdc4cdda5f5133f893204ec",
            "12037a95d87e4f27bd3476625e533a38",
            "1421409015cc4fb8bb67df26510b6f5b",
            "2a7dadadc8e74a44b1007ae5c576f427",
            "e0622f72c3bb4ed48f0ea9cd75f7a999"
          ]
        },
        "id": "Z7G94fZBcrmK",
        "outputId": "390d1864-ae8c-4651-b903-dd197a9e7fea"
      },
      "execution_count": null,
      "outputs": [
        {
          "output_type": "stream",
          "name": "stderr",
          "text": [
            "/usr/local/lib/python3.10/dist-packages/huggingface_hub/utils/_token.py:89: UserWarning: \n",
            "The secret `HF_TOKEN` does not exist in your Colab secrets.\n",
            "To authenticate with the Hugging Face Hub, create a token in your settings tab (https://huggingface.co/settings/tokens), set it as secret in your Google Colab and restart your session.\n",
            "You will be able to reuse this secret in all of your notebooks.\n",
            "Please note that authentication is recommended but still optional to access public models or datasets.\n",
            "  warnings.warn(\n"
          ]
        },
        {
          "output_type": "display_data",
          "data": {
            "text/plain": [
              "tokenizer_config.json:   0%|          | 0.00/376 [00:00<?, ?B/s]"
            ],
            "application/vnd.jupyter.widget-view+json": {
              "version_major": 2,
              "version_minor": 0,
              "model_id": "4dc7f0b0c82542e0acb5a5e8b20bc7b1"
            }
          },
          "metadata": {}
        },
        {
          "output_type": "display_data",
          "data": {
            "text/plain": [
              "config.json:   0%|          | 0.00/702 [00:00<?, ?B/s]"
            ],
            "application/vnd.jupyter.widget-view+json": {
              "version_major": 2,
              "version_minor": 0,
              "model_id": "801afe4731954be8b5f790cf9ae8f3b1"
            }
          },
          "metadata": {}
        },
        {
          "output_type": "display_data",
          "data": {
            "text/plain": [
              "spiece.model:   0%|          | 0.00/4.31M [00:00<?, ?B/s]"
            ],
            "application/vnd.jupyter.widget-view+json": {
              "version_major": 2,
              "version_minor": 0,
              "model_id": "c33641574487413da36f638eb9f9ea9b"
            }
          },
          "metadata": {}
        },
        {
          "output_type": "display_data",
          "data": {
            "text/plain": [
              "special_tokens_map.json:   0%|          | 0.00/65.0 [00:00<?, ?B/s]"
            ],
            "application/vnd.jupyter.widget-view+json": {
              "version_major": 2,
              "version_minor": 0,
              "model_id": "8a885972d53d496b98392df8d953bba2"
            }
          },
          "metadata": {}
        },
        {
          "output_type": "stream",
          "name": "stderr",
          "text": [
            "You are using the default legacy behaviour of the <class 'transformers.models.t5.tokenization_t5.T5Tokenizer'>. This is expected, and simply means that the `legacy` (previous) behavior will be used so nothing changes for you. If you want to use the new behaviour, set `legacy=False`. This should only be set if you understand what it means, and thoroughly read the reason why this was added as explained in https://github.com/huggingface/transformers/pull/24565\n",
            "/usr/local/lib/python3.10/dist-packages/transformers/convert_slow_tokenizer.py:560: UserWarning: The sentencepiece tokenizer that you are converting to a fast tokenizer uses the byte fallback option which is not implemented in the fast tokenizers. In practice this means that the fast version of the tokenizer can produce unknown tokens whereas the sentencepiece version would have converted these unknown tokens into a sequence of byte tokens matching the original piece of text.\n",
            "  warnings.warn(\n"
          ]
        },
        {
          "output_type": "display_data",
          "data": {
            "text/plain": [
              "pytorch_model.bin:   0%|          | 0.00/2.33G [00:00<?, ?B/s]"
            ],
            "application/vnd.jupyter.widget-view+json": {
              "version_major": 2,
              "version_minor": 0,
              "model_id": "fa7fffcd91b046898be7f6f69d43cada"
            }
          },
          "metadata": {}
        },
        {
          "output_type": "display_data",
          "data": {
            "text/plain": [
              "generation_config.json:   0%|          | 0.00/147 [00:00<?, ?B/s]"
            ],
            "application/vnd.jupyter.widget-view+json": {
              "version_major": 2,
              "version_minor": 0,
              "model_id": "080f40c7e4784877b1dc0a9109ffee38"
            }
          },
          "metadata": {}
        },
        {
          "output_type": "display_data",
          "data": {
            "text/plain": [
              "Map:   0%|          | 0/16978 [00:00<?, ? examples/s]"
            ],
            "application/vnd.jupyter.widget-view+json": {
              "version_major": 2,
              "version_minor": 0,
              "model_id": "981492bf06454136b72f23d99f073943"
            }
          },
          "metadata": {}
        },
        {
          "output_type": "display_data",
          "data": {
            "text/plain": [
              "Map:   0%|          | 0/4245 [00:00<?, ? examples/s]"
            ],
            "application/vnd.jupyter.widget-view+json": {
              "version_major": 2,
              "version_minor": 0,
              "model_id": "64ad3f7d1e004b3f90c1dbf36dcc5e98"
            }
          },
          "metadata": {}
        },
        {
          "output_type": "display_data",
          "data": {
            "text/plain": [
              "<IPython.core.display.HTML object>"
            ],
            "text/html": [
              "\n",
              "    <div>\n",
              "      \n",
              "      <progress value='1325' max='1325' style='width:300px; height:20px; vertical-align: middle;'></progress>\n",
              "      [1325/1325 3:33:35, Epoch 4/5]\n",
              "    </div>\n",
              "    <table border=\"1\" class=\"dataframe\">\n",
              "  <thead>\n",
              " <tr style=\"text-align: left;\">\n",
              "      <th>Epoch</th>\n",
              "      <th>Training Loss</th>\n",
              "      <th>Validation Loss</th>\n",
              "      <th>Rouge2</th>\n",
              "      <th>Rougel</th>\n",
              "      <th>Bert Score</th>\n",
              "    </tr>\n",
              "  </thead>\n",
              "  <tbody>\n",
              "    <tr>\n",
              "      <td>0</td>\n",
              "      <td>No log</td>\n",
              "      <td>0.907583</td>\n",
              "      <td>0.014883</td>\n",
              "      <td>0.061726</td>\n",
              "      <td>0.643378</td>\n",
              "    </tr>\n",
              "    <tr>\n",
              "      <td>1</td>\n",
              "      <td>2.044200</td>\n",
              "      <td>0.852919</td>\n",
              "      <td>0.018757</td>\n",
              "      <td>0.068282</td>\n",
              "      <td>0.773380</td>\n",
              "    </tr>\n",
              "    <tr>\n",
              "      <td>2</td>\n",
              "      <td>2.044200</td>\n",
              "      <td>0.814713</td>\n",
              "      <td>0.022582</td>\n",
              "      <td>0.081509</td>\n",
              "      <td>0.781785</td>\n",
              "    </tr>\n",
              "    <tr>\n",
              "      <td>3</td>\n",
              "      <td>0.994900</td>\n",
              "      <td>0.800229</td>\n",
              "      <td>0.023755</td>\n",
              "      <td>0.084928</td>\n",
              "      <td>0.781785</td>\n",
              "    </tr>\n",
              "    <tr>\n",
              "      <td>4</td>\n",
              "      <td>0.994900</td>\n",
              "      <td>0.794920</td>\n",
              "      <td>0.024121</td>\n",
              "      <td>0.085654</td>\n",
              "      <td>0.781785</td>\n",
              "    </tr>\n",
              "  </tbody>\n",
              "</table><p>"
            ]
          },
          "metadata": {}
        },
        {
          "output_type": "stream",
          "name": "stderr",
          "text": [
            "/usr/local/lib/python3.10/dist-packages/transformers/generation/utils.py:1141: UserWarning: Using the model-agnostic default `max_length` (=20) to control the generation length. We recommend setting `max_new_tokens` to control the maximum length of the generation.\n",
            "  warnings.warn(\n",
            "<ipython-input-7-83e8feaa3850>:48: FutureWarning: load_metric is deprecated and will be removed in the next major version of datasets. Use 'evaluate.load' instead, from the new library 🤗 Evaluate: https://huggingface.co/docs/evaluate\n",
            "  rouge = load_metric('rouge')\n",
            "/usr/local/lib/python3.10/dist-packages/datasets/load.py:759: FutureWarning: The repository for rouge contains custom code which must be executed to correctly load the metric. You can inspect the repository content at https://raw.githubusercontent.com/huggingface/datasets/2.19.0/metrics/rouge/rouge.py\n",
            "You can avoid this message in future by passing the argument `trust_remote_code=True`.\n",
            "Passing `trust_remote_code=True` will be mandatory to load this metric from the next major release of `datasets`.\n",
            "  warnings.warn(\n"
          ]
        },
        {
          "output_type": "display_data",
          "data": {
            "text/plain": [
              "Downloading builder script:   0%|          | 0.00/2.17k [00:00<?, ?B/s]"
            ],
            "application/vnd.jupyter.widget-view+json": {
              "version_major": 2,
              "version_minor": 0,
              "model_id": "eacaf08f14974b8296d92c22afa11c7d"
            }
          },
          "metadata": {}
        },
        {
          "output_type": "stream",
          "name": "stderr",
          "text": [
            "/usr/local/lib/python3.10/dist-packages/datasets/load.py:759: FutureWarning: The repository for bertscore contains custom code which must be executed to correctly load the metric. You can inspect the repository content at https://raw.githubusercontent.com/huggingface/datasets/2.19.0/metrics/bertscore/bertscore.py\n",
            "You can avoid this message in future by passing the argument `trust_remote_code=True`.\n",
            "Passing `trust_remote_code=True` will be mandatory to load this metric from the next major release of `datasets`.\n",
            "  warnings.warn(\n"
          ]
        },
        {
          "output_type": "display_data",
          "data": {
            "text/plain": [
              "Downloading builder script:   0%|          | 0.00/2.92k [00:00<?, ?B/s]"
            ],
            "application/vnd.jupyter.widget-view+json": {
              "version_major": 2,
              "version_minor": 0,
              "model_id": "9f4e54e2bbdf45a1b574d330c580ffe1"
            }
          },
          "metadata": {}
        },
        {
          "output_type": "display_data",
          "data": {
            "text/plain": [
              "tokenizer_config.json:   0%|          | 0.00/49.0 [00:00<?, ?B/s]"
            ],
            "application/vnd.jupyter.widget-view+json": {
              "version_major": 2,
              "version_minor": 0,
              "model_id": "a94468491d484089bb694bdf1cde875c"
            }
          },
          "metadata": {}
        },
        {
          "output_type": "display_data",
          "data": {
            "text/plain": [
              "config.json:   0%|          | 0.00/625 [00:00<?, ?B/s]"
            ],
            "application/vnd.jupyter.widget-view+json": {
              "version_major": 2,
              "version_minor": 0,
              "model_id": "e0a6829328e4429680cc4f52aa1e5131"
            }
          },
          "metadata": {}
        },
        {
          "output_type": "display_data",
          "data": {
            "text/plain": [
              "vocab.txt:   0%|          | 0.00/996k [00:00<?, ?B/s]"
            ],
            "application/vnd.jupyter.widget-view+json": {
              "version_major": 2,
              "version_minor": 0,
              "model_id": "1eda3d48176f46c088086a8d29f2ef3e"
            }
          },
          "metadata": {}
        },
        {
          "output_type": "display_data",
          "data": {
            "text/plain": [
              "tokenizer.json:   0%|          | 0.00/1.96M [00:00<?, ?B/s]"
            ],
            "application/vnd.jupyter.widget-view+json": {
              "version_major": 2,
              "version_minor": 0,
              "model_id": "4d911273ab9847e99e277be5b747725a"
            }
          },
          "metadata": {}
        },
        {
          "output_type": "display_data",
          "data": {
            "text/plain": [
              "model.safetensors:   0%|          | 0.00/714M [00:00<?, ?B/s]"
            ],
            "application/vnd.jupyter.widget-view+json": {
              "version_major": 2,
              "version_minor": 0,
              "model_id": "d0e9b723d2c848b7acd857d485729de5"
            }
          },
          "metadata": {}
        },
        {
          "output_type": "stream",
          "name": "stderr",
          "text": [
            "/usr/local/lib/python3.10/dist-packages/transformers/generation/utils.py:1141: UserWarning: Using the model-agnostic default `max_length` (=20) to control the generation length. We recommend setting `max_new_tokens` to control the maximum length of the generation.\n",
            "  warnings.warn(\n",
            "/usr/local/lib/python3.10/dist-packages/datasets/load.py:759: FutureWarning: The repository for rouge contains custom code which must be executed to correctly load the metric. You can inspect the repository content at https://raw.githubusercontent.com/huggingface/datasets/2.19.0/metrics/rouge/rouge.py\n",
            "You can avoid this message in future by passing the argument `trust_remote_code=True`.\n",
            "Passing `trust_remote_code=True` will be mandatory to load this metric from the next major release of `datasets`.\n",
            "  warnings.warn(\n",
            "/usr/local/lib/python3.10/dist-packages/datasets/load.py:759: FutureWarning: The repository for bertscore contains custom code which must be executed to correctly load the metric. You can inspect the repository content at https://raw.githubusercontent.com/huggingface/datasets/2.19.0/metrics/bertscore/bertscore.py\n",
            "You can avoid this message in future by passing the argument `trust_remote_code=True`.\n",
            "Passing `trust_remote_code=True` will be mandatory to load this metric from the next major release of `datasets`.\n",
            "  warnings.warn(\n",
            "/usr/local/lib/python3.10/dist-packages/transformers/generation/utils.py:1141: UserWarning: Using the model-agnostic default `max_length` (=20) to control the generation length. We recommend setting `max_new_tokens` to control the maximum length of the generation.\n",
            "  warnings.warn(\n",
            "/usr/local/lib/python3.10/dist-packages/datasets/load.py:759: FutureWarning: The repository for rouge contains custom code which must be executed to correctly load the metric. You can inspect the repository content at https://raw.githubusercontent.com/huggingface/datasets/2.19.0/metrics/rouge/rouge.py\n",
            "You can avoid this message in future by passing the argument `trust_remote_code=True`.\n",
            "Passing `trust_remote_code=True` will be mandatory to load this metric from the next major release of `datasets`.\n",
            "  warnings.warn(\n",
            "/usr/local/lib/python3.10/dist-packages/datasets/load.py:759: FutureWarning: The repository for bertscore contains custom code which must be executed to correctly load the metric. You can inspect the repository content at https://raw.githubusercontent.com/huggingface/datasets/2.19.0/metrics/bertscore/bertscore.py\n",
            "You can avoid this message in future by passing the argument `trust_remote_code=True`.\n",
            "Passing `trust_remote_code=True` will be mandatory to load this metric from the next major release of `datasets`.\n",
            "  warnings.warn(\n",
            "/usr/local/lib/python3.10/dist-packages/transformers/generation/utils.py:1141: UserWarning: Using the model-agnostic default `max_length` (=20) to control the generation length. We recommend setting `max_new_tokens` to control the maximum length of the generation.\n",
            "  warnings.warn(\n",
            "/usr/local/lib/python3.10/dist-packages/datasets/load.py:759: FutureWarning: The repository for rouge contains custom code which must be executed to correctly load the metric. You can inspect the repository content at https://raw.githubusercontent.com/huggingface/datasets/2.19.0/metrics/rouge/rouge.py\n",
            "You can avoid this message in future by passing the argument `trust_remote_code=True`.\n",
            "Passing `trust_remote_code=True` will be mandatory to load this metric from the next major release of `datasets`.\n",
            "  warnings.warn(\n",
            "/usr/local/lib/python3.10/dist-packages/datasets/load.py:759: FutureWarning: The repository for bertscore contains custom code which must be executed to correctly load the metric. You can inspect the repository content at https://raw.githubusercontent.com/huggingface/datasets/2.19.0/metrics/bertscore/bertscore.py\n",
            "You can avoid this message in future by passing the argument `trust_remote_code=True`.\n",
            "Passing `trust_remote_code=True` will be mandatory to load this metric from the next major release of `datasets`.\n",
            "  warnings.warn(\n",
            "/usr/local/lib/python3.10/dist-packages/transformers/generation/utils.py:1141: UserWarning: Using the model-agnostic default `max_length` (=20) to control the generation length. We recommend setting `max_new_tokens` to control the maximum length of the generation.\n",
            "  warnings.warn(\n",
            "/usr/local/lib/python3.10/dist-packages/datasets/load.py:759: FutureWarning: The repository for rouge contains custom code which must be executed to correctly load the metric. You can inspect the repository content at https://raw.githubusercontent.com/huggingface/datasets/2.19.0/metrics/rouge/rouge.py\n",
            "You can avoid this message in future by passing the argument `trust_remote_code=True`.\n",
            "Passing `trust_remote_code=True` will be mandatory to load this metric from the next major release of `datasets`.\n",
            "  warnings.warn(\n",
            "/usr/local/lib/python3.10/dist-packages/datasets/load.py:759: FutureWarning: The repository for bertscore contains custom code which must be executed to correctly load the metric. You can inspect the repository content at https://raw.githubusercontent.com/huggingface/datasets/2.19.0/metrics/bertscore/bertscore.py\n",
            "You can avoid this message in future by passing the argument `trust_remote_code=True`.\n",
            "Passing `trust_remote_code=True` will be mandatory to load this metric from the next major release of `datasets`.\n",
            "  warnings.warn(\n"
          ]
        },
        {
          "output_type": "execute_result",
          "data": {
            "text/plain": [
              "('/content/drive/MyDrive/Models/mt5_base_finetuned_token/tokenizer_config.json',\n",
              " '/content/drive/MyDrive/Models/mt5_base_finetuned_token/special_tokens_map.json',\n",
              " '/content/drive/MyDrive/Models/mt5_base_finetuned_token/spiece.model',\n",
              " '/content/drive/MyDrive/Models/mt5_base_finetuned_token/added_tokens.json',\n",
              " '/content/drive/MyDrive/Models/mt5_base_finetuned_token/tokenizer.json')"
            ]
          },
          "metadata": {},
          "execution_count": 7
        }
      ]
    },
    {
      "cell_type": "code",
      "source": [
        "!pip install rouge_score"
      ],
      "metadata": {
        "colab": {
          "base_uri": "https://localhost:8080/"
        },
        "id": "_J-NqrLKR86p",
        "outputId": "aba8d476-1a5b-4315-f8e9-b65e6dd8cca3"
      },
      "execution_count": null,
      "outputs": [
        {
          "output_type": "stream",
          "name": "stdout",
          "text": [
            "Collecting rouge_score\n",
            "  Downloading rouge_score-0.1.2.tar.gz (17 kB)\n",
            "  Preparing metadata (setup.py) ... \u001b[?25l\u001b[?25hdone\n",
            "Requirement already satisfied: absl-py in /usr/local/lib/python3.10/dist-packages (from rouge_score) (1.4.0)\n",
            "Requirement already satisfied: nltk in /usr/local/lib/python3.10/dist-packages (from rouge_score) (3.8.1)\n",
            "Requirement already satisfied: numpy in /usr/local/lib/python3.10/dist-packages (from rouge_score) (1.25.2)\n",
            "Requirement already satisfied: six>=1.14.0 in /usr/local/lib/python3.10/dist-packages (from rouge_score) (1.16.0)\n",
            "Requirement already satisfied: click in /usr/local/lib/python3.10/dist-packages (from nltk->rouge_score) (8.1.7)\n",
            "Requirement already satisfied: joblib in /usr/local/lib/python3.10/dist-packages (from nltk->rouge_score) (1.3.2)\n",
            "Requirement already satisfied: regex>=2021.8.3 in /usr/local/lib/python3.10/dist-packages (from nltk->rouge_score) (2023.12.25)\n",
            "Requirement already satisfied: tqdm in /usr/local/lib/python3.10/dist-packages (from nltk->rouge_score) (4.66.2)\n",
            "Building wheels for collected packages: rouge_score\n",
            "  Building wheel for rouge_score (setup.py) ... \u001b[?25l\u001b[?25hdone\n",
            "  Created wheel for rouge_score: filename=rouge_score-0.1.2-py3-none-any.whl size=24933 sha256=7a4e1af4b1038577d9c630286de759d37edc2f8ca51270b1f5fdf00a55aab55b\n",
            "  Stored in directory: /root/.cache/pip/wheels/5f/dd/89/461065a73be61a532ff8599a28e9beef17985c9e9c31e541b4\n",
            "Successfully built rouge_score\n",
            "Installing collected packages: rouge_score\n",
            "Successfully installed rouge_score-0.1.2\n"
          ]
        }
      ]
    },
    {
      "cell_type": "code",
      "source": [
        "import torch\n",
        "device = torch.device(\"cuda\" if torch.cuda.is_available() else \"cpu\")\n",
        "\n",
        "from transformers import AutoModelForSeq2SeqLM, AutoTokenizer\n",
        "\n",
        "model = AutoModelForSeq2SeqLM.from_pretrained('/content/drive/MyDrive/Models/mt5_base_finetuned_model')\n",
        "tokenizer = AutoTokenizer.from_pretrained('/content/drive/MyDrive/Models/mt5_base_finetuned_token')"
      ],
      "metadata": {
        "colab": {
          "base_uri": "https://localhost:8080/"
        },
        "id": "CuxQ0wdku-xq",
        "outputId": "a60328d6-d919-46a5-d371-36d4a4ccc2cd"
      },
      "execution_count": null,
      "outputs": [
        {
          "output_type": "stream",
          "name": "stderr",
          "text": [
            "You set `add_prefix_space`. The tokenizer needs to be converted from the slow tokenizers\n",
            "/usr/local/lib/python3.10/dist-packages/transformers/convert_slow_tokenizer.py:560: UserWarning: The sentencepiece tokenizer that you are converting to a fast tokenizer uses the byte fallback option which is not implemented in the fast tokenizers. In practice this means that the fast version of the tokenizer can produce unknown tokens whereas the sentencepiece version would have converted these unknown tokens into a sequence of byte tokens matching the original piece of text.\n",
            "  warnings.warn(\n"
          ]
        }
      ]
    },
    {
      "cell_type": "code",
      "source": [
        "from transformers import pipeline\n",
        "\n",
        "summarizer = pipeline(\"summarization\", model=\"/content/drive/MyDrive/Models/mt5_base_finetuned_model\", tokenizer=\"/content/drive/MyDrive/Models/mt5_base_finetuned_token\")\n",
        "\n",
        "text = \"\"\"मानसून सीजन में हुई भारी बारिश ने कई राज्यों में भारी तबाही मचाई है। हिमाचल प्रदेश में पिछले 40 दिनों में 187 लोगों की जान जा चुकी है, वहीं 34 लोग लापता हैं।\n",
        "तेलंगाना में एक हफ्ते में 18 लोगों की मौत हो गई। करीब 12,000 लोगों को राहत शिविरों में पहुंचाया गया है।\n",
        "उधर, शनिवार को जम्मू-कश्मीर के गांदरबल जिले के एक गांव में बादल फट गया। जिससे सात घर, एक मस्जिद और दो स्कूल क्षतिग्रस्त हो गए।\n",
        "उत्तराखंड के चमोली में रविवार सुबह पहाड़ों से पत्थर गिरने के बाद बद्रीनाथ नेशनल हाईवे को बंद करना पड़ा। हालांकि, 2 घंटे बाद हाईवे ट्रैफिक के लिए खोल दिया गया।\n",
        "अगले 24 घंटे कैसे रहेंगे…\n",
        "इन राज्यों में तेज बारिश होगी: हिमाचल, महाराष्ट्र, उत्तराखंड, उत्तर प्रदेश, राजस्थान, मध्यप्रदेश, बिहार, झारखंड, गोवा, छत्तीसगढ़, ओडिशा, पश्चिम बंगाल, असम, अरुणाचल प्रदेश।\n",
        "बारिश की संभावना नहीं: जम्मू-कश्मीर, पंजाब, हरियाणा, पश्चिमी राजस्थान, गुजरात, कर्नाटक, आंध्र प्रदेश, केरल, तमिलनाडु में बारिश की संभावना नहीं है।\n",
        "अलग-अलग राज्यों से मानसून की तस्वीरें...\n",
        "अन्य राज्यों में मौसम का हाल...\"\"\"\n",
        "print(summarizer(text))\n"
      ],
      "metadata": {
        "colab": {
          "base_uri": "https://localhost:8080/"
        },
        "id": "Ue0e-AH9PGqb",
        "outputId": "d6ec9807-f56f-4236-89c3-4114f98fa32e"
      },
      "execution_count": null,
      "outputs": [
        {
          "output_type": "stream",
          "name": "stderr",
          "text": [
            "You set `add_prefix_space`. The tokenizer needs to be converted from the slow tokenizers\n",
            "/usr/local/lib/python3.10/dist-packages/transformers/convert_slow_tokenizer.py:560: UserWarning: The sentencepiece tokenizer that you are converting to a fast tokenizer uses the byte fallback option which is not implemented in the fast tokenizers. In practice this means that the fast version of the tokenizer can produce unknown tokens whereas the sentencepiece version would have converted these unknown tokens into a sequence of byte tokens matching the original piece of text.\n",
            "  warnings.warn(\n",
            "/usr/local/lib/python3.10/dist-packages/transformers/generation/utils.py:1141: UserWarning: Using the model-agnostic default `max_length` (=20) to control the generation length. We recommend setting `max_new_tokens` to control the maximum length of the generation.\n",
            "  warnings.warn(\n"
          ]
        },
        {
          "output_type": "stream",
          "name": "stdout",
          "text": [
            "[{'summary_text': 'महाराष्ट्र में पिछले 40 दिनों में 187 लोगों की जान जा चुकी'}]\n"
          ]
        }
      ]
    },
    {
      "cell_type": "code",
      "source": [
        "!pip install datasets\n",
        "!pip install bert_score\n",
        "!pip install rouge_score"
      ],
      "metadata": {
        "colab": {
          "base_uri": "https://localhost:8080/"
        },
        "id": "V-_oTYBMNNKH",
        "outputId": "19941deb-9319-439f-ce27-7ce342b1f705"
      },
      "execution_count": null,
      "outputs": [
        {
          "output_type": "stream",
          "name": "stdout",
          "text": [
            "Collecting rouge_score\n",
            "  Downloading rouge_score-0.1.2.tar.gz (17 kB)\n",
            "  Preparing metadata (setup.py) ... \u001b[?25l\u001b[?25hdone\n",
            "Requirement already satisfied: absl-py in /usr/local/lib/python3.10/dist-packages (from rouge_score) (1.4.0)\n",
            "Requirement already satisfied: nltk in /usr/local/lib/python3.10/dist-packages (from rouge_score) (3.8.1)\n",
            "Requirement already satisfied: numpy in /usr/local/lib/python3.10/dist-packages (from rouge_score) (1.25.2)\n",
            "Requirement already satisfied: six>=1.14.0 in /usr/local/lib/python3.10/dist-packages (from rouge_score) (1.16.0)\n",
            "Requirement already satisfied: click in /usr/local/lib/python3.10/dist-packages (from nltk->rouge_score) (8.1.7)\n",
            "Requirement already satisfied: joblib in /usr/local/lib/python3.10/dist-packages (from nltk->rouge_score) (1.4.0)\n",
            "Requirement already satisfied: regex>=2021.8.3 in /usr/local/lib/python3.10/dist-packages (from nltk->rouge_score) (2023.12.25)\n",
            "Requirement already satisfied: tqdm in /usr/local/lib/python3.10/dist-packages (from nltk->rouge_score) (4.66.2)\n",
            "Building wheels for collected packages: rouge_score\n",
            "  Building wheel for rouge_score (setup.py) ... \u001b[?25l\u001b[?25hdone\n",
            "  Created wheel for rouge_score: filename=rouge_score-0.1.2-py3-none-any.whl size=24933 sha256=031201bf378316d2cf347ae5e51c47edc33b7a2a4f7ae87bcb8d36b71fa4a2d6\n",
            "  Stored in directory: /root/.cache/pip/wheels/5f/dd/89/461065a73be61a532ff8599a28e9beef17985c9e9c31e541b4\n",
            "Successfully built rouge_score\n",
            "Installing collected packages: rouge_score\n",
            "Successfully installed rouge_score-0.1.2\n"
          ]
        }
      ]
    },
    {
      "cell_type": "code",
      "source": [
        "from transformers import pipeline\n",
        "from datasets import load_metric\n",
        "from bert_score import score as bert_score\n",
        "from sklearn.metrics.pairwise import cosine_similarity\n",
        "from sklearn.feature_extraction.text import TfidfVectorizer\n",
        "import pandas as pd\n",
        "\n",
        "\n",
        "summarizer = pipeline(\"summarization\", model=\"/content/drive/MyDrive/Models/mt5_base_finetuned_model\", tokenizer=\"/content/drive/MyDrive/Models/mt5_base_finetuned_token\")\n",
        "\n",
        "\n",
        "rouge = load_metric(\"rouge\")\n",
        "\n",
        "\n",
        "def compute_metrics(generated_summary, reference_summary):\n",
        "\n",
        "    rouge_scores = rouge.compute(predictions=[generated_summary], references=[reference_summary])\n",
        "\n",
        "    rouge_scores = {key: value.mid.fmeasure * 100 for key, value in rouge_scores.items()}\n",
        "\n",
        "    _, _, bertscore_f1 = bert_score([generated_summary], [reference_summary], lang=\"hi\", rescale_with_baseline=False)\n",
        "\n",
        "    metrics = {k: round(v, 4) for k, v in rouge_scores.items()}\n",
        "    metrics['bert_score_f1'] = round(bertscore_f1.mean().item() * 100, 4)\n",
        "    vectorizer = TfidfVectorizer()\n",
        "    vectors = vectorizer.fit_transform([generated_summary, reference_summary])\n",
        "    cosine_sim = cosine_similarity(vectors[0:1], vectors[1:])\n",
        "    metrics['cosine_similarity'] = round(cosine_sim[0][0] * 100, 4)\n",
        "    return metrics"
      ],
      "metadata": {
        "colab": {
          "base_uri": "https://localhost:8080/"
        },
        "id": "UH3yZsjaZ5GI",
        "outputId": "3a3b3deb-3308-46ee-f216-01a87719468e"
      },
      "execution_count": null,
      "outputs": [
        {
          "output_type": "stream",
          "name": "stderr",
          "text": [
            "/usr/local/lib/python3.10/dist-packages/transformers/convert_slow_tokenizer.py:560: UserWarning: The sentencepiece tokenizer that you are converting to a fast tokenizer uses the byte fallback option which is not implemented in the fast tokenizers. In practice this means that the fast version of the tokenizer can produce unknown tokens whereas the sentencepiece version would have converted these unknown tokens into a sequence of byte tokens matching the original piece of text.\n",
            "  warnings.warn(\n",
            "/usr/local/lib/python3.10/dist-packages/datasets/load.py:759: FutureWarning: The repository for rouge contains custom code which must be executed to correctly load the metric. You can inspect the repository content at https://raw.githubusercontent.com/huggingface/datasets/2.19.0/metrics/rouge/rouge.py\n",
            "You can avoid this message in future by passing the argument `trust_remote_code=True`.\n",
            "Passing `trust_remote_code=True` will be mandatory to load this metric from the next major release of `datasets`.\n",
            "  warnings.warn(\n"
          ]
        }
      ]
    },
    {
      "cell_type": "code",
      "source": [
        "for index, row in val.iterrows():\n",
        "\n",
        "    generated_summaries = summarizer(row[\"Article\"], max_length=80, min_length=30, length_penalty=2.0, num_beams=4)\n",
        "    generated_summary = generated_summaries[0]['summary_text']\n",
        "\n",
        "    metrics = compute_metrics(generated_summary, row[\"Summary\"])\n",
        "\n",
        "    print(f\"Article {index}:\")\n",
        "    print(f\"Article: {row['Article']}\")\n",
        "    print(f\"Generated Summary: {generated_summary}\")\n",
        "    print(f\"Reference Summary: {row['Summary']}\")\n",
        "    print(f\"Metrics: {metrics}\")\n",
        "    print(\"\\n---\\n\")"
      ],
      "metadata": {
        "colab": {
          "base_uri": "https://localhost:8080/",
          "height": 1000
        },
        "id": "_2I4gS9aMtC3",
        "outputId": "e7ffac9b-b08c-44ad-a84c-f0725120f10e"
      },
      "execution_count": null,
      "outputs": [
        {
          "metadata": {
            "tags": null
          },
          "name": "stderr",
          "output_type": "stream",
          "text": [
            "/usr/local/lib/python3.10/dist-packages/transformers/convert_slow_tokenizer.py:560: UserWarning: The sentencepiece tokenizer that you are converting to a fast tokenizer uses the byte fallback option which is not implemented in the fast tokenizers. In practice this means that the fast version of the tokenizer can produce unknown tokens whereas the sentencepiece version would have converted these unknown tokens into a sequence of byte tokens matching the original piece of text.\n",
            "  warnings.warn(\n",
            "/usr/local/lib/python3.10/dist-packages/datasets/load.py:759: FutureWarning: The repository for rouge contains custom code which must be executed to correctly load the metric. You can inspect the repository content at https://raw.githubusercontent.com/huggingface/datasets/2.19.0/metrics/rouge/rouge.py\n",
            "You can avoid this message in future by passing the argument `trust_remote_code=True`.\n",
            "Passing `trust_remote_code=True` will be mandatory to load this metric from the next major release of `datasets`.\n",
            "  warnings.warn(\n",
            "Some weights of RobertaModel were not initialized from the model checkpoint at roberta-large and are newly initialized: ['roberta.pooler.dense.bias', 'roberta.pooler.dense.weight']\n",
            "You should probably TRAIN this model on a down-stream task to be able to use it for predictions and inference.\n"
          ]
        },
        {
          "metadata": {
            "tags": null
          },
          "name": "stdout",
          "output_type": "stream",
          "text": [
            "Article 18722:\n",
            "Article: गुरुग्राम: संयुक्त हिंदू संघर्ष समिति (SHSS) ने घोषणा की है कि वह शहर के खुले इलाकों में जुमे की नमाज का विरोध करने के लिए 5 नवंबर को गुरुग्राम के सेक्टर 12 में गोवर्धन पूजा करेगी। इस अवसर पर संगठन के सदस्य 'अन्नकूट प्रसाद' भी वितरित करेंगे। इसकी घोषणा रविवार को यहां एक संवाददाता सम्मेलन में की गई।सेक्टर-12 वही जगह थी, जहां पुलिस ने 29 अक्टूबर को जुमे की नमाज में खलल डालने के प्रयास में हिंदू संगठनों के 30 सदस्यों को गिरफ्तार किया था।एसएचएसएस हरियाणा प्रदेश अध्यक्ष महावीर भारद्वाज ने पत्रकारों को संबोधित करते हुए कहा कि गुरुग्राम में सार्वजनिक स्थानों पर हो रही नमाज तत्काल बंद की जाए। उन्होंने मुख्यमंत्री से यह भी कहा है कि जिला प्रशासन बिना किसी अधिकारी के हस्ताक्षर वाले शुक्रवार की नमाज के लिए निर्धारित स्थलों की सूची दिखाकर सरकार को गुमराह कर रहा है।भारद्वाज ने हरियाणा सरकार से राज्य में सार्वजनिक स्थानों पर किसी भी धार्मिक प्रथा पर प्रतिबंध लगाने की अधिसूचना जारी करने की मांग की है।\n",
            "Generated Summary: संयुक्त हिंदू संघर्ष समिति (SHSS) ने घोषणा की है कि वह शहर के खुले इलाकों में जुमे की नमाज का विरोध करने के लिए 5 नवंबर को गुरुग्राम के सेक्टर 12 में गोवर्धन पूजा करेगी। इस अवसर पर संगठन के सदस्य 'अन्नकूट \n",
            "Reference Summary: गुरुग्राम की सेक्टर-12 वही जगह है, जहां पुलिस ने 29 अक्टूबर को जुमे की नमाज में खलल डालने के प्रयास में हिंदू संगठनों के 30 सदस्यों को गिरफ्तार किया था।\n",
            "Metrics: {'rouge1': 33.3333, 'rouge2': 0.0, 'rougeL': 33.3333, 'rougeLsum': 33.3333, 'bert_score_f1': 62.9661}\n",
            "\n",
            "---\n",
            "\n"
          ]
        },
        {
          "metadata": {
            "tags": null
          },
          "name": "stderr",
          "output_type": "stream",
          "text": [
            "Some weights of RobertaModel were not initialized from the model checkpoint at roberta-large and are newly initialized: ['roberta.pooler.dense.bias', 'roberta.pooler.dense.weight']\n",
            "You should probably TRAIN this model on a down-stream task to be able to use it for predictions and inference.\n"
          ]
        },
        {
          "metadata": {
            "tags": null
          },
          "name": "stdout",
          "output_type": "stream",
          "text": [
            "Article 5555:\n",
            "Article: करीब 3 साल पहले अंतरराष्ट्रीय क्रिकेट को अलविदा कह चुके महेंद्र सिंह धोनी की कुल संपत्ति (1,022 करोड़ रु.) 2020 के बाद पहली बार विराट कोहली (998 करोड़ रु.) से ज्यादा हो गई है। टीम इंडिया को टी20 वर्ल्ड चैंपियन, वनडे वर्ल्डकप चैंपियन और 4 बार चेन्नई को आईपीएल चैंपियन बनाने वाले 41 वर्षीय धोनी का क्रेज अब भी वैसा ही है।\n",
            "यही वजह है कि मौजूद आईपीएल में डिजिटल प्लेटफॉर्म पर अब तक की सबसे ज्यादा व्यूअरशिप (2.4 करोड़) उस वक्त दर्ज की गई, जब धोनी बेंगलुरू के होम ग्राउंड (चिन्नास्वामी स्टेडियम) पर बेंगलुरू के ही खिलाफ क्रीज पर थे। यही नहीं, डिजिटल पर दूसरी सबसे बड़ी व्यूअरशिप (2.2 करोड़) भी तभी आई, जब धोनी राजस्थान के खिलाफ क्रीज पर थे। कोलकाता हो या जयपुर, हर जगह दर्शकदीर्घा में पीली जर्सी पहने धोनी के फैंस सबसे ज्यादा दिखे।\n",
            "संपत्ति... तीन साल के बाद कोहली को पीछे छोड़ ऐसे आगे बढ़े धोनी\n",
            "आईपीएल; आज 1000 मैच पूरे करने वाली पहली क्रिकेट लीग बन जाएगी\n",
            "आईपीएल में कुल 998 मैच हो चुके हैं। रविवार को 2 मैचों के साथ 1000 हो जाएंगे। बिग बैश (552 मैच), पीएसएल (252), सीपीएल (357) जैसी लीग आसपास भी नहीं हैं।\n",
            "खेल... आईपीएल में टीम, बोर्ड और स्पॉन्सर ऐसे करते हैं कमाई\n",
            "\n",
            "Generated Summary: IPL में कुल 998 मैच हो चुके हैं। रविवार को 2 मैचों के साथ 1000 हो जाएंगे। बिग बैश (552 मैच), पीएसएल (252), सीपीएल (357) जैसी लीग आसपास भी नहीं हैं। खेल... आईपीएल में डिजिटल प्लेटफॉर्म पर अब तक\n",
            "Reference Summary: IPL 2023 Players Earning And Viewership Record - करीब 3 साल पहले अंतरराष्ट्रीय क्रिकेट को अलविदा कह चुके महेंद्र सिंह धोनी की कुल संपत्ति (1,022 करोड़ रु.) 2020 के बाद पहली बार विराट कोहली (998 करोड़ रु.) से ज्यादा हो गई है।\n",
            "Metrics: {'rouge1': 21.0526, 'rouge2': 0.0, 'rougeL': 21.0526, 'rougeLsum': 21.0526, 'bert_score_f1': 37.7748}\n",
            "\n",
            "---\n",
            "\n"
          ]
        },
        {
          "metadata": {
            "tags": null
          },
          "name": "stderr",
          "output_type": "stream",
          "text": [
            "Some weights of RobertaModel were not initialized from the model checkpoint at roberta-large and are newly initialized: ['roberta.pooler.dense.bias', 'roberta.pooler.dense.weight']\n",
            "You should probably TRAIN this model on a down-stream task to be able to use it for predictions and inference.\n"
          ]
        },
        {
          "metadata": {
            "tags": null
          },
          "name": "stdout",
          "output_type": "stream",
          "text": [
            "Article 7112:\n",
            "Article: बॉलीवुड एक्टर नवाजुद्दीन सिद्दीकी और उनकी पूर्व पत्नी के बीच बच्चों की कस्टडी को लेकर मामला उलझता जा रहा है। नवाज ने अपनी पूर्व पत्नी को कोर्ट के बाहर समझौते के लिए लेटर लिखा था, जिसका उन्हें कोई जवाब नहीं मिला।\n",
            "नवाज ने शर्त रखी थी कि अगर उन्हें उनके दो बच्चों से मिलने दिया जाए तो वे उनकी कस्टडी अपनी पूर्व पत्नी आलिया को दे देंगे।\n",
            "वैसे ये पहला मामला नहीं है; जब बड़े सेलिब्रिटीज में तलाक के बाद बच्चों की कस्टडी को लेकर विवाद हुआ हो। संजय दत्त से लेकर करिश्मा कपूर और कमल हासन तक को बच्चों की कस्टडी के लिए अपने एक्स पार्टनर से कानूनी लड़ाई लड़नी पड़ी थी।\n",
            "खबर में आगे बढ़ने से पहले इस पोल के जरिए अपनी राय देते जाइए\n",
            "संजय दत्त को आपराधिक रिकॉर्ड के चलते नहीं मिली थी बेटी की कस्टडी\n",
            "बॉलीवुड एक्टर संजय दत्त ने 1987 में ऋचा शर्मा शर्मा से शादी की थी। इस रिश्ते से उनको एक बेटी भी हुई। उनका नाम त्रिशाला रखा गया। लेकिन 1996 में कैंसर के चलते त्रिशाला की मां की मौत हो गई।\n",
            "जिसके बाद त्रिशाला के नाना-नानी ने कोर्ट से उनकी कस्टडी की मांग की। नाना-नानी का कहना था कि संजय दत्त के आपराधिक रिकॉर्ड हैं, ऐसे में उनके पास बच्ची को छोड़ना उसके भविष्य के लिए ठीक नहीं होगा। कोर्ट इस दावे से सहमत हुआ और त्रिशाला की कस्टडी उनके नाना-नानी को दे दी गई। जिसके बाद त्रिशाला अमेरिका रहने लगीं।\n",
            "32 साल की त्रिशाला फिलहाल अमेरिका में ही रहती हैं और पेशे से मनोचिकित्सक हैं। वो भले फिल्मी दुनिया से दूर हों, लेकिन अपनी बोल्ड फोटोज से अक्सर सोशल मीडिया पर सुर्खियां बटोरती रहती हैं।\n",
            "वैसे अब संजय और त्रिशाला के बीच किसी तरह का मनमुटाव नहीं है। संजय उनसे मिलने अक्सर अमेरिका जाते रहते हैं।\n",
            "करिश्मा कपूर ने जीती थी बच्चों की कस्टडी, वीकेंड पर एक्स हस्बैंड भी मिल सकते थे\n",
            "कपूर खानदान की बेटी और बॉलीवुड की चर्चित एक्ट्रेस करिश्मा कपूर को भी अपने बच्चों की कस्टडी के लिए लड़ाई लड़नी पड़ी थी। दरअसल, करिश्मा ने साल 2003 में संजय कपूर से लव मैरिज की थी। लेकिन उनका यह रिश्ता जल्दी ही बिगड़ने लगा। करिश्मा ने संजय पर हिंसा और उत्पीड़न का आरोप लगाया। आखिरकार दोनों ने 2014 में तलाक ले लिया।\n",
            "करिश्मा और संजय के दो बच्चे थे। जिसकी कस्टडी शुरू में करिश्मा के पास थी। लेकिन कुछ ही दिनों बाद संजय ने भी कोर्ट में बच्चों की कस्टडी के लिए दावा कर दिया। उन्होंने दावा किया कि करिश्मा उनको अपने बच्चों से मिलने नहीं देतीं। लंबी कानूनी लड़ाई के बाद बच्चों की कस्टडी करिश्मा को मिली। लेकिन कोर्ट ने यह भी आदेश दिया कि महीने में दो वीकेंड संजय अपने बच्चों से मिल सकेंगे और उन्हें ऐसा करने से करिश्मा रोक नहीं सकतीं।\n",
            "कमल हासन हार गए थे बेटी की कस्टडी, बड़ी होने पर खुद उनके पास आकर रहने लगी\n",
            "साउथ एक्टर कमल हसन भी अपनी बेटी की कस्टडी के लिए केस लड़े थे। इस केस में वो अपनी पूर्व पत्नी सारिका से हार गए। जिसके बाद उनकी बेटी श्रुति हासन की कस्टडी सारिका को मिली। लेकिन बाद में बड़ी होने के बाद श्रुति अपने पिता के करीब आईं। दोनों साथ-साथ रहने लगे। उन्होंने साथ में फिल्मों में काम भी किया है।\n",
            "पहली पत्नी से केस हार गए शिल्पा शेट्टी के पति राज कुंद्रा, बेटी से मिलने की इजाजत नहीं\n",
            "इसी तरह शिल्पा शेट्टी के पति राज कुंद्रा भी अपनी पहली पत्नी से बच्चों की कस्टडी की लड़ाई हार गए थे। शुरू में उनकी पत्नी को बच्चों की कस्टडी दी गई। बाद में राज ने बच्चों से मिलने देने किए कोर्ट का रुख किया। लेकिन कोर्ट ने उनकी इस अपील को भी ठुकरा दिया।\n",
            "Generated Summary: नवाजुद्दीन सिद्दीकी और उनकी पूर्व पत्नी के बीच बच्चों की कस्टडी को लेकर मामला उलझता जा रहा है। नवाज ने अपनी पूर्व पत्नी को कोर्ट के बाहर समझौते के लिए लेटर लिखा था, जिसका उन्हें कोई जवाब नहीं\n",
            "Reference Summary: संजय दत्त से लेकर करिश्मा कपूर और कमल हासन तक को बच्चों की कस्टडी के लिए अपने एक्स पार्टनर से कानूनी लड़ाई लड़नी पड़ी थी।\n",
            "Metrics: {'rouge1': 0.0, 'rouge2': 0.0, 'rougeL': 0.0, 'rougeLsum': 0.0, 'bert_score_f1': 56.2595}\n",
            "\n",
            "---\n",
            "\n"
          ]
        },
        {
          "metadata": {
            "tags": null
          },
          "name": "stderr",
          "output_type": "stream",
          "text": [
            "Some weights of RobertaModel were not initialized from the model checkpoint at roberta-large and are newly initialized: ['roberta.pooler.dense.bias', 'roberta.pooler.dense.weight']\n",
            "You should probably TRAIN this model on a down-stream task to be able to use it for predictions and inference.\n"
          ]
        },
        {
          "metadata": {
            "tags": null
          },
          "name": "stdout",
          "output_type": "stream",
          "text": [
            "Article 2124:\n",
            "Article: दिल्ली में मंगलवार को अखिल भारतीय विद्यार्थी परिषद (ABVP) के कार्यकर्ताओं को पुलिस ने हिरासत में लिया। वे कोचिंग इंस्टीट्यूट में मैनेजमेंट की कमी को लेकर सीएम हाउस के बाहर प्रदर्शन कर रहे थे। प्रदर्शन के दौरान कुछ छात्र बैरिकेडिंग तोड़कर अंदर घुस गए, जिन्हें पुलिस ने पकड़ लिया।\n",
            "छात्रों का आरोप है कि दिल्ली सरकार छात्र विरोधी है। वो शहर के कोचिंग सेंटरों में फायर सेफ्टी नियमों को लागू करने में लापरवाही बरत रही है। दरअसल, 15 जून को दिल्ली के कोचिंग हब मुखर्जी नगर के एक कोचिंग सेंटर में आग लगी थी, जिसमें 70 छात्र घायल हो गए थे।\n",
            "छात्र उस घटना को लेकर नाराज है। वे दोषियों पर कड़ी कार्रवाई की भी मांग कर रहे हैं।\n",
            "कोचिंग में आग लगने पर स्टूडेंट्स ने तीसरी मंजिल से कूदकर जान बचाई थी\n",
            "15 जून को दिल्ली के बत्रा सिनेमा के पास ज्ञाना बिल्डिंग में दोपहर 12 बजे आग लग गई थी। इस बिल्डिंग में संस्कृति कोचिंग सेंटर चल रहा था। जान बचाने के लिए छात्र बिल्डिंग की तीसरी मंजिल से तार के सहारे नीचे उतरे थे। कुछ ने खिड़कियों से कूदकर जान बचाई थी।\n",
            "न्यूज एंजेंसी ANI के मुताबिक, हादसे के बाद 61 लोगों को इलाज के लिए 3 अस्पतालों में भर्ती कराया गया था। जिनमें 50 को डिस्चार्ज कर दिया गया था। हादसे के दौरान 200-250 स्टूडेंट मौके पर मौजूद थे। शुरुआती जांच में पता चला है कि बिल्डिंग ग्राउंड फ्लोर पर लगे बिजली के मीटर में आग लगी थी।\n",
            "हालांकि, इस हादसे को लेकर कोचिंग के स्टूडेंट्स अगले दिन धरने पर भी बैठे थे। उनका आरोप था कि कुछ छात्र कमरे के अंदर मरे पड़े थे, लेकिन पुलिस ने किसी को अंदर जाने नहीं दिया। पुलिस ने आंकड़े छिपाए हैं। पूरी खबर पढ़ें...\n",
            "दिल्ली हाईकोर्ट ने सरकार व MCD को नोटिस भेजा, फायर ब्रिगेड से भी जवाब तलब किया\n",
            "अग्निकांड के इस मामले को लेकर 16 जून को दिल्ली हाईकोर्ट ने खुद ही हस्तक्षेप किया था। हाईकोर्ट ने दिल्ली सरकार, स्टेट फायर सर्विस, नगर निगम और स्थानीय पुलिस को नोटिस भेजकर 3 जुलाई तक स्पष्टीकरण देने को कहा था।\n",
            "मामले में हाईकोर्ट ने कोचिंग सेंटर में आग लगने की घटनाओं, फायर सर्विस डिपार्टमेंट से कोचिंग संस्थानों का फायर सेफ्टी ऑडिट करने का भी निर्देश दिया था। जस्टिस जसमीत सिंह और जस्टिस विकास महाजन की वेकेशनल बेंच ने कहा था कि न्यूज पेपर्स में छपी खबर के आधार पर हम घटना पर खुद ही हस्तक्षेप कर रहे हैं।\n",
            "रिपोर्ट्स के मुताबिक जिस कोचिंग सेंटर में आग लगी थी, उस दौरान वहां करीब 500 छात्र मौजूद थे। पूरी खबर पढ़ें...\n",
            "54 कोचिंग सेंटर को भी नोटिस दिया गया था\n",
            "19 जून को जिला विद्यालय निरीक्षक ने नोएडा व ग्रेटर नोएडा में आग से बचाव के इंतजाम किए बिना चल रहे 54 कोचिंग संस्थानों को नोटिस जारी किया था। नोटिस में सभी सेंटर को दो दिन के अंदर पंजीकरण कराने के निर्देश जारी किए गए थे।\n",
            "जिला विद्यालय निरीक्षक धर्मवीर सिंह ने बताया था कि उत्तर प्रदेश कोचिंग अधिनियम के तहत कोचिंग चलाने के लिए संबंधित जिले के जिला विद्यालयी निरीक्षक कार्यालय में पंजीकरण कराना जरूरी है। पंजीकरण के लिए अग्निशमन विभाग से अनापत्ति प्रमाण पत्र लेना भी अनिवार्य है।\n",
            "जिन कोचिंग सेंटर को नोटिस भेजा गया है वो माध्यमिक शिक्षा विभाग में पंजीकरण कराए बिना चल रहे हैं। ऐसे में इनके अग्निशमन विभाग की एनओसी पर भी संशय है।\n",
            "Generated Summary: दिल्ली में मंगलवार को अखिल भारतीय विद्यार्थी परिषद (ABVP) के कार्यकर्ताओं को पुलिस ने हिरासत में लिया। वे कोचिंग इंस्टीट्यूट में मैनेजमेंट की कमी को लेकर सीएम हाउस के बाहर प्रदर्शन कर रहे थे। प्रदर्शन के दौरान कुछ छात्र\n",
            "Reference Summary: Delhi CM House Protest - दिल्ली में मंगलवार को अखिल भारतीय विद्यार्थी परिषद (ABVP) के कार्यकर्ताओं को पुलिस ने हिरासत में ले लिया। वे कोचिंग इंस्टीट्यूट में मैनेजमेंट की कमी को लेकर सीएम हाउस के बाहर प्रदर्शन कर रहे थे\n",
            "Metrics: {'rouge1': 33.3333, 'rouge2': 0.0, 'rougeL': 33.3333, 'rougeLsum': 33.3333, 'bert_score_f1': 87.6758}\n",
            "\n",
            "---\n",
            "\n"
          ]
        },
        {
          "metadata": {
            "tags": null
          },
          "name": "stderr",
          "output_type": "stream",
          "text": [
            "Some weights of RobertaModel were not initialized from the model checkpoint at roberta-large and are newly initialized: ['roberta.pooler.dense.bias', 'roberta.pooler.dense.weight']\n",
            "You should probably TRAIN this model on a down-stream task to be able to use it for predictions and inference.\n"
          ]
        },
        {
          "metadata": {
            "tags": null
          },
          "name": "stdout",
          "output_type": "stream",
          "text": [
            "Article 2139:\n",
            "Article: हरियाणा के चरखी दादरी में रहने वाली 106 वर्षीय उड़नपरी दादी एक बार फिर सुर्खियों में हैं। सोमवार से युवरानी महेंद्र कुमारी की स्मृति में देहरादून में 18वीं राष्ट्रीय एथलेटिक्स चैंपियनशिप का आगाज हुआ। 2 दिवसीय प्रतियोगिता में विभिन्न राज्यों से आए 5 वर्ष की आयु से लेकर 106 वर्ष की आयु तक करीब 800 से अधिक खिलाड़ी भाग ले रहे हैं।\n",
            "वहीं सोमवार को इस प्रतियोगिता के मुख्य आकर्षण का केंद्र हरियाणा के चरखी दादरी की रहने वाली 106 वर्षीय उड़नपरी दादी रमाबाई रहीं। उन्होंने एक बार फिर अपने जलवे से सबको हैरान कर दिया। उन्होंने 100, 200 मीटर दौड़ में भाग लेकर गोल्ड मेडल जीता। उन्होंने शॉटपुट इवेंट में भी अपने दमदार प्रदर्शन की बदौलत सभी को हैरत में डाल दिया।\n",
            "उड़नपरी दादी के नाम से फेमस रामबाई\n",
            "बता दें कि रामबाई ने वडोदरा में हुई राष्ट्रीय स्तर की एथलेटिक्स चैंम्पियनशिप में 100 मीटर रेस में नया वर्ल्ड रिकॉर्ड बनाया था। चरखी दादरी जिले के गांव कादमा की रहने वाली रामबाई राष्ट्रीय स्तर की एथलेटिक्स चैम्पियनशिप में अपनी 3 पीढ़ियों के साथ 100, 200 मीटर दौड़, रिले दौड़, लंबी कूद में 4 गोल्ड मेडल जीतकर इतिहास बना चुकी हैं।\n",
            "इससे पहले नवंबर 2021 में हुई प्रतियोगिता में 4 गोल्ड मेडल जीते थे। राम बाई गांव की सबसे बुजुर्ग महिला हैं और सब उनको उड़नपरी पड़दादी (परदादी) कह कर बुलाते हैं। राम बाई गांव में आमतौर पर खेतों में और घर में भी काम करते दिखाई देती हैं। वो पूरी तरह से सेहतमंद हैं और इस उम्र में भी हर रोज 5 से 6 किलोमीटर दौड़ती हैं।\n",
            "सुबह 4 बजे उठ कर पैदल चलने का अभ्यास\n",
            "बता दें कि 1 जनवरी, 1917 को जन्मी गांव कादमा निवासी राम बाई बुजुर्ग एथलेटिक्स खिलाड़ी हैं। उन्होंने नवंबर, 2021 में वाराणसी में हुई मास्टर्स एथलैटिक मीट में भाग लिया था। 105 वर्ष की आयु में वृद्धावस्था की परवाह किए बिना खेल को जीवन का हिस्सा बनाकर कड़ी मेहनत से आगे बढ़ रही हैं।\n",
            "बुजुर्ग एथलीट राम बाई ने खेतों के कच्चे रास्तों पर खेल की प्रैक्टिस की है। वे सुबह 4 बजे उठकर अपने दिन की शुरुआत करती हैं। लगातार दौड़ और पैदल चलने का अभ्यास करती हैं। इसके अलावा वे इस उम्र में भी 5-6 किलोमीटर तक दौड़ लगाती है।\n",
            "हर दिन खाती हैं पाव भर घी\n",
            "आम तौर पर 80 की उम्र तक पहुंचकर अधिकतर लोग खाट (बिस्तर) पकड़ लेते हैं। यानी की चलना-फिरना मुश्किल हो जाता है। इसके विपरीत राम बाई 105 की उम्र में भी मिसाल बनी है और खेलों में भाग ले रही है। उनका कहना है कि गात (शरीर) में ऐसे थोड़े ही जान आ जाती है। वह चूरमा, दही खाती हैं और दूध भी खूब पीती हैं। 250 ग्राम घी हर रोज रोटी या चूरमे में लेती हैं और आधा किलो दही हर रोज की खुराक में शामिल है।\n",
            "बेटा-बहू भी चैम्पियन\n",
            "कादमा की राम बाई का पूरा परिवार ही खेलों में नाम कमा रहा है। उनकी बेटी 62 वर्षीय संतरा देवी रिले दौड़ में स्वर्ण पदक जीत चुकी है। राम बाई के पुत्र 70 वर्षीय मुख्तयार सिंह ने 200 मीटर दौड़ में कांस्य पदक जीता है। पुत्र वधु भतेरी भी रिले दौड़ में गोल्ड और 200 मीटर दौड़ में कांस्य पदक लेकर गांव और प्रदेश का नाम रोशन कर चुकी है।\n",
            "Generated Summary: युवरानी महेंद्र कुमारी की स्मृति में देहरादून में 18वीं राष्ट्रीय एथलेटिक्स चैंपियनशिप का आगाज हुआ। 2 दिवसीय प्रतियोगिता में विभिन्न राज्यों से आए 5 वर्ष की आयु से लेकर 106 वर्ष की आयु तक करीब 800 से अधिक खिलाड़ी भाग\n",
            "Reference Summary: सोमवार से युवरानी महेंद्र कुमारी की स्मृति में देहरादून में आयोजित 18वीं राष्ट्रीय एथलेटिक्स चैंपियनशिप का आगाज हो गया। दो दिवसीय प्रतियोगिता में विभिन्न राज्यों से आए करीब 800 से अधिक खिलाड़ी भाग ले रहे हैं। एथलेटिक्स प्रतियोगिता में 5 वर्ष की आयु से लेकर\n",
            "Metrics: {'rouge1': 75.0, 'rouge2': 0.0, 'rougeL': 50.0, 'rougeLsum': 50.0, 'bert_score_f1': 75.3545}\n",
            "\n",
            "---\n",
            "\n"
          ]
        },
        {
          "metadata": {
            "tags": null
          },
          "name": "stderr",
          "output_type": "stream",
          "text": [
            "Some weights of RobertaModel were not initialized from the model checkpoint at roberta-large and are newly initialized: ['roberta.pooler.dense.bias', 'roberta.pooler.dense.weight']\n",
            "You should probably TRAIN this model on a down-stream task to be able to use it for predictions and inference.\n"
          ]
        },
        {
          "metadata": {
            "tags": null
          },
          "name": "stdout",
          "output_type": "stream",
          "text": [
            "Article 19977:\n",
            "Article: ITMS in Noida: नोएडा में ऐसा हाईटेक सिस्टम लगाया गया है जिससे लोगों को काफी मदद मिलेगी। एक्सीडेंट की स्थिति में चंद मिनट में एंबुलेंस घटना स्थल पर पहुंच जाएगी और घायल को अस्पताल ले जाएगी। दरअसल, शहर के 20 चौराहों पर इसका ट्रायल शुरू हो चुका है। बहुत जल्द 84 और चौराहों पर भी सर्विलांस सिस्टम लागू होने जा रहा है। इसको इंटेलिजेंट ट्रैफिक मैनेजमेंट सिस्टम (ITMS) का नाम दिया गया है।डीजीएम एसपी सिंह के मुताबिक, कंट्रोल रूम में वीडियो वॉल तैयार की गई है। कंप्यूटर, डेस्क, माइक, स्पीकर लगाए गए हैं। यहां कैमरों के जरिए पूरे शहर की गतिविधियों की निगरानी आसान हो रही थी। सभी लोकेशन के ट्रैफिक मैनेजमेंट को भी इसी कंट्रोल रूम से संचालित किया जा रहा था। जून में पूरे शहर में ये सिस्टम 100% लागू हो जाएगा।जानिए चरणबद्ध तरीके से कैसे सिस्टम तैयार किया गया?ITMS योजना के लिए शहर में 76 पोल्स लगाए जा रहे हैं। सभी चौराहों पर पैनिक बटन लगाए गए हैं। जिसका फंक्शन ये होगा कि अगर किसी को मदद चाहिए तो वो इस बटन को दबा सकता है। कंट्रोल रूम में बैठा व्यक्ति मदद भेज देगा। साथ ही चार एंगल वाले 272 केंटीलीवर, 20 गेंट्री, 102 जंक्शन बॉक्स और 273 स्मार्ट जंक्शन बॉक्स लगाए जा रहे हैं।इसके अलावा, 150 एडाप्टिव ट्रैफिक कंट्रोल सिस्टम व 22 साइन बोर्ड लगाए जा रहे है। इसके लिए 106 किमी ड्रक्ट का काम पूरा किया जा चुका है। वहीं, 60 किमी फाइबर केबिल बिछाने का काम पूरा किया जा चुका है। इसमें 693 ऑटोमेटिक नंबर प्लेट रीडर (एएनपीआर) कैमरे, 278 फिक्स्ड कैमरें, 76 पैंटेल्ड जूम (पीटीजेड) कैमरे व 18 स्पीड डिटेक्शन कैमरा है। इन सभी को कंट्रोल रूम से आपरेट किया जाएगा। इसका काम पूरा हो चुका है।जिन 20 चौराहों पर ट्रायल किया गया था। इनमें आम्रपाली, गोलचक्कर, ओखला बर्ड मेट्रो स्टेशन, औषधि पार्क, एचसीएल, मयूर स्कूल, ओल्ड एचटीएमएस, माहामाया फ्लाईओवर के नीचे, बोटेनिकल गार्डन, डिग्री कॉलेज चौराहा, 31-25 चौराहा, सिटी सेंटर, सेक्टर-76, अट्‌टा पीर, सेक्टर-15, हाजीपुर, श्रमिक कुंज, सेक्टर-93, इल्डिको और सेक्टर-91 टी प्वाइंट पाथवे की निगरानी की गई।\n",
            "Generated Summary: नोएडा में ऐसा हाईटेक सिस्टम लगाया गया है जिससे लोगों को काफी मदद मिलेगी। एक्सीडेंट की स्थिति में चंद मिनट में एंबुलेंस घटना स्थल पर पहुंच जाएगी और घायल को अस्पताल ले जाएगी। दरअसल, शहर के 20\n",
            "Reference Summary: नोएडा में ऐसा हाईटेक सिस्टम लगाया गया है जिससे लोगों को काफी मदद मिलेगी। एक्सीडेंट की स्थिति में चंद मिनट में एंबुलेंस घटना स्थल पर पहुंच जाएगी और घायल को अस्पताल ले जाएगी।\n",
            "Metrics: {'rouge1': 0.0, 'rouge2': 0.0, 'rougeL': 0.0, 'rougeLsum': 0.0, 'bert_score_f1': 96.1832}\n",
            "\n",
            "---\n",
            "\n"
          ]
        },
        {
          "metadata": {
            "tags": null
          },
          "name": "stderr",
          "output_type": "stream",
          "text": [
            "Some weights of RobertaModel were not initialized from the model checkpoint at roberta-large and are newly initialized: ['roberta.pooler.dense.bias', 'roberta.pooler.dense.weight']\n",
            "You should probably TRAIN this model on a down-stream task to be able to use it for predictions and inference.\n"
          ]
        },
        {
          "metadata": {
            "tags": null
          },
          "name": "stdout",
          "output_type": "stream",
          "text": [
            "Article 19118:\n",
            "Article: बुराड़ी: कृषि कानूनों के खिलाफ प्रदर्शन कर रहे किसानों ने टिकरी और सिंघु बॉर्डर पर अपना डेरा बनाया हुआ है। हालांकि पंजाब से दिल्ली आए किसानों को बुराड़ी के निरंकारी मैदान पर प्रदर्शन की अनुमति दी गई है। जहां उनके ठहरने और अन्य सुविधाओं की व्यवस्था की जा रही है। बुराड़ी के निरंकारी ग्राउंड में रात भर में किसानों के लिए सुविधा पूरी हुई हो या न हुई हो, लेकिन आम आदमी पार्टी के पोस्टर जरूर लग चुके हैं। वहीं किसानों आगे की रणनीति के लिए एक मीटिंग कर रहे हैं।इस मीटिंग में यह तय होगा कि वे कहां आंदोलन करेंगे।दिल्ली टिकरी और सिंघु बॉर्डर पर किसान अभी भी जमे हुए है। हालांकि कुछ किसान रात भर में मैदान में भी आ चुके हैं। विभिन्न किसान संगठन इस वक्त बुराड़ी के निरंकारी मैदान में मौजूद है और अपने गाड़ियों और ट्रैक्टरों में किसान सोए हुए हैं।निरंकारी मैदान पर किसानों के लिए बेसिक आवश्यक सुविधाएं उपलब्ध कराई जा रही हैं। इसके तहत सबसे पहले यहां किसानों के लिए पेयजल की व्यवस्था की गई। जिसके लिए दिल्ली सरकार ने अपने विधायक एवं दिल्ली जल बोर्ड के उपाध्यक्ष राघव चड्ढा को बुराड़ी भेजकर व्यवस्था का जायजा लेने भेजा।किसानों के लिए टेंट, शेल्टर, चलते-फिरते टॉइलट उपलब्ध कराए जा रहे हैं और व्यवस्था करने की कोशिश जारी है। लेकिन सड़को और मैदानों में आम आदमी पार्टी के स्थानीय विधायकों के पोस्टर लग चुके हैं। जिसमें लिखा गया है कि, \"देश के अन्नदाता किसानों का दिल्ली में हार्दिक स्वागत है।\"दूसरी ओर पुलिस और सीआईएसएफ का पहरा भी लगातार बुराड़ी के निरंकारी मैदान में तैनात किया गया है। जानकारी के अनुसार सीआईएसएफ को साफ निर्देश दिए गए हैं कि मैदान में कई सारे संगठन आए हुए हैं। ध्यान रखना है कि आपस मे लड़ाई न हो, किसानों के बीच घूमते रहें।किसानों का अगर कोई अचानक प्लान बनता है तो उस पर भी नजर बनाए रखने के लिए कहा है। गाड़ियों की संघन चेकिंग होगी, किसी व्यक्ति के पास किसी तरह का एक्सप्लोसिव न हो, इस पर भी नजर बनाए रखी जाएगी।इनपुट-आईएएनएस\n",
            "Generated Summary: दिल्ली टिकरी और सिंघु बॉर्डर पर किसान अभी भी जमे हुए है। हालांकि कुछ किसान रात भर में मैदान में भी आ चुके हैं। विभिन्न किसान संगठन इस वक्त बुराड़ी के निरंकारी मैदान में मौजूद है और अपने गाड़ियों और ट्रै\n",
            "Reference Summary: किसान आगे की रणनीति के लिए एक मीटिंग कर रहे हैं।इस मीटिंग में यह तय होगा कि वे कहां आंदोलन करेंगे।\n",
            "Metrics: {'rouge1': 0.0, 'rouge2': 0.0, 'rougeL': 0.0, 'rougeLsum': 0.0, 'bert_score_f1': 42.6151}\n",
            "\n",
            "---\n",
            "\n"
          ]
        },
        {
          "metadata": {
            "tags": null
          },
          "name": "stderr",
          "output_type": "stream",
          "text": [
            "Some weights of RobertaModel were not initialized from the model checkpoint at roberta-large and are newly initialized: ['roberta.pooler.dense.bias', 'roberta.pooler.dense.weight']\n",
            "You should probably TRAIN this model on a down-stream task to be able to use it for predictions and inference.\n"
          ]
        },
        {
          "metadata": {
            "tags": null
          },
          "name": "stdout",
          "output_type": "stream",
          "text": [
            "Article 13796:\n",
            "Article: लखनऊ: हाथरस में दलित समुदाय की महिला के साथ कथित सामूहिक दुष्‍कर्म और उसकी मौत के मामले में भाजपा सरकार के वादी और प्रतिवादी सभी पक्षों का नार्को और पॉलीग्राफी टेस्‍ट कराये जाने के फैसले पर समाजवादी पार्टी के अध्‍यक्ष और पूर्व मुख्‍यमंत्री अखिलेश यादव ने कड़ी प्रतिक्रिया व्‍यक्‍त की है। अखिलेश ने शनिवार को ट्वीट किया ‘‘ हाथरस कांड में मृतका के परिजनों का नहीं बल्कि उन अधिकारियों का नार्को टेस्‍ट होना चाहिए, जिन्‍होंने इस कांड को अंजाम दिया। जिससे यह सच उजागर हो सके कि उन्‍होंने किसके 'महा-आदेश' पर ऐसा किया।'' अखिलेश ने लिखा, '' असली गुनहगार कितनी भी परतें ओढ़ लें लेकिन एक दिन सच सामने आ जाएगा और आज की सत्‍ता का राज जाएगा।'' हाथरस में दलित समुदाय की एक महिला के साथ कथित सामूहिक दुष्‍कर्म व उसकी मौत के मामले में मुख्‍यमंत्री योगी आदित्‍यनाथ ने शनिवार को सीबीआई से जांच कराए जाने के आदेश दिये हैं। मुख्‍यमंत्री कार्यालय ने ट्विटर पर यह जानकारी दी। कार्यालय के मुताबिक मुख्‍यमंत्री ने पूरे हाथरस प्रकरण की जांच सीबीआई से कराने के आदेश दिये हैं। उल्‍लेखनीय है कि मुख्‍यमंत्री के निर्देश पर शनिवार को अपर मुख्‍य सचिव गृह अवनीश कुमार अवस्‍थी और डीजीपी हितेष चंद्र अवस्‍थी हाथरस में पीडित परिवार से मिलने गये थे। मुख्‍यमंत्री कार्यालय के सूत्रों के मुताबिक योगी आदित्‍यनाथ ने अधिकारियों के साथ बैठक के बाद यह निर्णय लिया। इस मामले को लेकर विपक्ष पिछले कई दिनों से आंदोलन कर रहा है। कांग्रेस के पूर्व अध्‍यक्ष राहुल गांधी और महासचिव प्रियंका गांधी हाथरस में पीडि़त परिवार से मिलने पहुंचे जबकि समाजवादी पार्टी का प्रतिनिधिमंडल रविवार को वहां जाने वाला है। कांग्रेस के पूर्व अध्यक्ष राहुल गांधी और महासचिव प्रियंका गांधी वाद्रा ने कथित सामूहिक बलात्कार घटना की पीड़िता के घर शनिवार को पहुंचकर उसके परिवार से मुलाकात की। प्रशासन से अनुमति मिलने के बाद राहुल, प्रियंका और कांग्रेस के कुछ अन्य नेता हाथरस पहुंचे हैं। इससे पहले, डीएनडी पर कांग्रेस के नेताओं और कार्यकर्ताओं के बड़ी संख्या में जमा होने के बाद प्रशासन ने राहुल गांधी समेत पांच लोगों को हाथरस जाने की अनुमति दी। हाथरस रवाना होने से कुछ देर पहले, राहुल ने कहा कि उन्हें इस दुखी परिवार से मिलने से दुनिया की कोई भी ताकत नहीं रोक सकती। उन्होंने ट्वीट किया, ‘‘दुनिया की कोई भी ताक़त मुझे हाथरस के इस दुखी परिवार से मिलकर उनका दर्द बांटने से नहीं रोक सकती।’’ कांग्रेस नेता ने कहा, ‘‘इस प्यारी बच्ची और उसके परिवार के साथ उप्र सरकार और उसकी पुलिस द्वारा किया जा रहा व्यवहार मुझे स्वीकार नहीं। किसी भी हिन्दुस्तानी को यह स्वीकार नहीं करना चाहिए।’’ इससे पहले, बृहस्पतिवार को पीड़िता के परिवार से मुलाकात के लिए राहुल और प्रियंका के उत्तर प्रदेश स्थित हाथरस जाते समय पुलिस ने दोनों नेताओं को रोक कर हिरासत में ले लिया था। वहीं, कांग्रेस ने दावा किया कि राहुल और प्रियंका को उत्तर प्रदेश की पुलिस ने गिरफ्तार किया था। गौरतलब है कि 14 सितम्बर को हाथरस में चार युवकों ने 19 वर्षीय दलित लड़की से कथित तौर पर सामूहिक बलात्कार किया था। मंगलवार सुबह दिल्ली के सफदरजंग अस्पताल में पीड़िता की मौत हो गई, जिसके बाद बुधवार तड़के उसके शव का अंतिम संस्कार कर दिया गया। पीड़िता के परिजनों का आरोप है कि पुलिस ने उन्हें रात में ही अंतिम संस्कार करने के लिए बाध्य किया। बहरहाल, स्थानीय पुलिस का कहना है कि ‘‘परिवार की इच्छा के मुताबिक’’ अंतिम संस्कार किया गया।\n",
            "Generated Summary: भाजपा सरकार के वादी और प्रतिवादी सभी पक्षों का नार्को और पॉलीग्राफी टेस् ट कराये जाने के फैसले पर समाजवादी पार्टी के अध् यक्ष और पूर्व मुख् यमंत्री अखिलेश यादव ने कड़ी प्रतिक्रिया व् यक् त की है।\n",
            "Reference Summary: हाथरस में दलित समुदाय की महिला के साथ कथित सामूहिक दुष्कर्म और उसकी मौत के मामले में भाजपा सरकार के वादी और प्रतिवादी सभी पक्षों का नार्को और पॉलीग्राफी टेस्ट कराये जाने के फैसले पर समाजवादी पार्टी के अध्यक्ष और पूर्व मुख्यमंत्री अखिलेश यादव ने कड़ी प्रतिक्रिया व्यक्त की है।\n",
            "Metrics: {'rouge1': 0.0, 'rouge2': 0.0, 'rougeL': 0.0, 'rougeLsum': 0.0, 'bert_score_f1': 77.1127}\n",
            "\n",
            "---\n",
            "\n"
          ]
        },
        {
          "metadata": {
            "tags": null
          },
          "name": "stderr",
          "output_type": "stream",
          "text": [
            "Some weights of RobertaModel were not initialized from the model checkpoint at roberta-large and are newly initialized: ['roberta.pooler.dense.bias', 'roberta.pooler.dense.weight']\n",
            "You should probably TRAIN this model on a down-stream task to be able to use it for predictions and inference.\n"
          ]
        },
        {
          "metadata": {
            "tags": null
          },
          "name": "stdout",
          "output_type": "stream",
          "text": [
            "Article 6766:\n",
            "Article: यमन में 2014 से जारी गृह युद्ध खत्म हो सकता है। इसके लिए सऊदी अरब और ओमान के एक डेलीगेशन ने रविवार को यमन में हूती विद्रोहियों से बातचीत की है। अलजजीरा के मुताबिक दोनों पक्ष सीज फायर को लेकर समझौता कर सकते हैं।\n",
            "ये बातचीत पिछले महीने सऊदी अरब और ईरान के बीच हुए शांति समझौते का नतीजा मानी जा रही है। सऊदी और ओमान के डेलीगेशन ने यमन के सबसे ज्यादा हिस्से में कब्जा करने वाले हूती विद्रोहियों के हेड मेहदी अल मशत से मुलाकात की। दोनों पक्षों ने यमन में शांति स्थापित करने पर जोर दिया।\n",
            "डील में क्या-क्या तय हुआ? \n",
            "सउदी डेलीगेशन और हूती विद्रोहियों के बीच हुई डील को सार्वजनिक नहीं किया गया है। हालांकि, बीबीसी के मुताबिक इससे जुड़ी कई बातें सूत्रों के हवाले से बाहर आई हैं।\n",
            "जो काम अमेरिका नहीं कर पाया चीन ने कर दिखाया\n",
            "यमन में 9 सालों से चल रही जंग को जारी रखने में सऊदी अरब और ईरान दो महत्वपूर्ण ताकतें हैं। यमन की सरकार को जहां सऊदी का समर्थन है वहीं हूती विद्रोहियों को ईरान का। ऐसे में अगर ईरान और सऊदी के बीच बातचीत होती है और उनके रिश्ते सुधरते हैं तो यकीनन इसका असर यमन की जंग पर पड़ना तय माना जा रहा था।\n",
            "11 मार्च को चीन की राजधानी बीजिंग में ईरान और सऊदी अरब के बीच अहम समझौता हुआ। जो चीन ने करवाया। 2016 के बाद दोनों ने एक-दूसरे के मुल्क में अपनी-अपनी एम्बेसी फिर खोलने के लिए राजी हो गए थे। इससे दोनों देशों के बीच सात साल से जारी टकराव कम हुआ। दरअसल, सात साल पहले सऊदी अरब ने ईरान के लिए जासूसी के आरोप में 32 शिया मुसलमानों के खिलाफ मुकदमा शुरू किया था। इसमें 30 सऊदी अरब के ही नागरिक थे। ईरान ने बदला लेने की धमकी दी थी। ये सभी जेल में हैं।\n",
            "इसके बाद, सऊदी अरब ने ड्रग स्मगलिंग के आरोप में ईरान के तीन नागरिकों को सजा-ए-मौत दे दी। दोनों देश जंग की कगार पर पहुंच गए। इस दौरान अमेरिका सऊदी की मदद के लिए आया।\n",
            "इंटरसेप्ट की रिपोर्ट के मुताबिक अमेरिका में सत्ता में आने के बाद राष्ट्रपति जो बाइडेन ने दो साल में यमन के गृह युद्द को बंद करवाने का वादा किया था। जिसे चीन ने पूरा किया है। रिपोर्ट में कहा गया है कि हथियार सप्लाई करने की पॉलिसी पर चलने के कारण अमेरिका की मिडल ईस्ट में ऐसी छवि नहीं रह गई थी कि उसे शांति स्थापित करवाने के लायक समझा जा सके। जिसका चीन ने फायदा उठाया है। सऊदी और ईरान के बीच समझौता करवा कर चीन ने यमन में जंग खत्म करने के लिए रास्ता खोल दिया।\n",
            "मैप में देखें अरब देशों में किस समुदाय का दबदबा है\n",
            "2014 में कैसे शुरु हुई थी यमन की जंग? \n",
            "साल 2014 में यमन में गृह युद्ध की शुरुआत हुई। इसकी जड़ शिया और सुन्नी विवाद में है। दरअसल यमन की कुल आबादी में 35% की हिस्सेदारी शिया समुदाय की है जबकि 65% सुन्नी समुदाय के लोग रहते हैं। कार्नेजी मिडल ईस्ट सेंटर की रिपोर्ट के मुताबिक दोनों समुदायों में हमेशा से विवाद रहा था जो 2011 में अरब क्रांति की शुरूआत हुई तो गृह युद्ध में बदल गया। 2014 आते-आते शिया विद्रोहियों ने सुन्नी सरकार के खिलाफ मोर्चा खोल दिया।\n",
            "इस सरकार का नेतृत्व राष्ट्रपति अब्दरब्बू मंसूर हादी कर रहे थे। हादी ने अरब क्रांति के बाद लंबे समय से सत्ता पर काबिज पूर्व राष्ट्रपति अली अब्दुल्ला सालेह से फरवरी 2012 में सत्ता छीनी थी। देश बदलाव के दौर से गुजर रहा था और हादी स्थिरता लाने के लिए जूझ रहे थे। उसी समय सेना दो फाड़ हो गई और अलगाववादी हूती दक्षिण में लामबंद हो गए।\n",
            "अरब देशों में दबदबा बनाने की होड़ में ईरान और सउदी भी इस गृह युद्ध में कूद पड़े। एक तरफ हूती विद्रोहियों को शिया बहुल देश ईरान का समर्थन मिला। तो सरकार को सुन्नी बहुल देश सउदी अरब का। देखते ही देखते हूती के नाम से मशहूर विद्रोहियों ने देश के एक बड़े हिस्से पर कब्जा कर लिया। 2015 में हालात ये हो गए थे कि विद्रोहियों ने पूरी सरकार को निर्वासन में जाने पर मजबूर कर दिया था।\n",
            "Generated Summary: यमन में 2014 से जारी गृह युद्ध खत्म हो सकता है। इसके लिए सऊदी अरब और ओमान के एक डेलीगेशन ने रविवार को यमन में हूती विद्रोहियों से बातचीत की है। अलजजीरा के मुताबिक दोनों पक्ष सीज फायर को लेकर\n",
            "Reference Summary: Saudi Arabia And Oman Delegation Peace Talks With Houthis - यमन में 2014 से जारी जंग अब खत्म हो सकती है। इसके लिए सउदी अरब और ओमान के एक डेलीगेशन ने रविवार को यमन में हूती विद्रोहियों से बातचीत की है\n",
            "Metrics: {'rouge1': 18.1818, 'rouge2': 0.0, 'rougeL': 18.1818, 'rougeLsum': 18.1818, 'bert_score_f1': 75.9281}\n",
            "\n",
            "---\n",
            "\n"
          ]
        },
        {
          "metadata": {
            "tags": null
          },
          "name": "stderr",
          "output_type": "stream",
          "text": [
            "Some weights of RobertaModel were not initialized from the model checkpoint at roberta-large and are newly initialized: ['roberta.pooler.dense.bias', 'roberta.pooler.dense.weight']\n",
            "You should probably TRAIN this model on a down-stream task to be able to use it for predictions and inference.\n"
          ]
        },
        {
          "metadata": {
            "tags": null
          },
          "name": "stdout",
          "output_type": "stream",
          "text": [
            "Article 1999:\n",
            "Article: नवाजुद्दीन सिद्दीकी से अलग रहने वाली उनकी वाइफ आलिया सिद्दीकी बिग बॉस के घर से बाहर हो गई हैं। बाहर आते ही उन्होंने शो के होस्ट सलमान खान पर निशाना साधा है। आलिया ने सलमान पर पक्षपात करने का आरोप लगाया है।\n",
            "आलिया ने कहा कि सलमान इस शो में सिर्फ उन्हीं लोगों को सपोर्ट करते हैं, जो उनके करीबी होते हैं। बता दें सलमान ने आलिया को शो में पर्सनल बातें करने के लिए फटकार लगा दी थी।\n",
            "सलमान ने आलिया से कहा था कि वे अपने पति नवाजुद्दीन को लेकर कोई भी बात शो में नहीं करेंगी। सलमान के इस फटकार के बाद आलिया को इविक्शन का सामना करना पड़ा।\n",
            "आलिया ने कहा- सलमान शो में पक्षपात करते हैं\n",
            "घर से बाहर आने के बाद आलिया सिद्दीकी ने DNA से बातचीत में कहा, 'मैंने घर में अपने बारे में (निजी जीवन) बात कर ली, लेकिन उसके लिए मुझे टार्गेट करना समझ नहीं आया।' आलिया से पूछा गया कि क्या उन्हें लगता है कि सलमान शो में पक्षपात करते हैं।\n",
            "जवाब में आलिया ने कहा, '100%, सलमान हमेशा उन्हीं का साथ देंगे जो उनके इर्द-गिर्द हों। एक स्टार हमेशा दूसरे स्टार को ही सपोर्ट करेगा।'\n",
            "'देखती हूं कि सलमान, पूजा भट्ट को कैसा जवाब देते हैं'\n",
            "आलिया ने आगे कहा, 'शो में सभी अपनी पर्सनल लाइफ के बारे में बात करते हैं। पूजा भट्ट ने भी तो कहा कि वो महेश भट्ट की बेटी हैं। अब मैं देखना चाहूंगी कि वीकेंड वाले एपिसोड में सलमान पूजा के इस स्टेटमेंट पर कैसा रिएक्ट करते हैं। इसके बाद मैं देखूंगी कि ये शो कितना कितना फेयर है। मुझे नहीं लगता है कि ये जनता का बिग बॉस है।'\n",
            "बता दें कि इस बार शो का टैगलाइन 'जनता का बिग बॉस' है।\n",
            "पूजा भट्ट ने आलिया को किया था नॉमिनेट\n",
            "शो में आलिया और पूजा भट्ट के बीच बहस हो गई थी। पूजा ने आलिया से कहा कि उन्हें शो में विक्टिम कार्ड खेलना बंद करना चाहिए। पूजा ने कहा कि कई महिलाएं इस स्थिति से गुजरती हैं। उनकी भी शादी टूट चुकी है, लेकिन मूव ऑन कर लेना चाहिए।\n",
            "दरअसल पूजा ने घर से बाहर करने के लिए आलिया को नॉमिनेट कर दिया था। शो के रूल के हिसाब से जिस कंटेस्टेंट को घर वाले ज्यादा संख्या में नॉमिनेट करते हैं, उनका फ्यूचर जनता के हाथ में चला जाता है। अगर उन्हें जनता का वोट मिला तब तो वे सुरक्षित रहते हैं, वरना उन्हें घर से बाहर जाना पड़ता है।\n",
            "सलमान के रडार पर आ गई थीं आलिया, सुनाई थी खरी-खोटी\n",
            "आलिया का सलमान के प्रति गुस्सा इस लिए भी जाहिर है कि क्योंकि वीकेंड पर सलमान ने उन्हें काफी खरी खोटी सुना दी थी। सलमान ने आलिया से कहा- आप मेरी बात ध्यान से सुनिए। हमें आपकी पर्सनल लाइफ के बारे में सुनने में कोई दिलचस्पी नहीं है।\n",
            "अगर आप ये सोच कर आई हैं कि यहां पर्सनल बातें करेंगी तो ऐसा नहीं चलेगा। आपने ऑलरेडी बहुत सारी बातें कर ली हैं। आपने अपना वर्जन सभी को सुना दिया है। अब इससे आगे आप कुछ नहीं कह सकतीं। आपकी पर्सनल बातें, अब चाहे वो आपके पति से रिलेटेड हो, या सास और ननद से। ये सब इस घर में नहीं चलेगा।\n",
            "जाहिर है कि सलमान खान हर शनिवार को आकर बिग बॉस के घर में रह रहे कंटेस्टेंट से बात करते हैं। अगर उन्हें लगता है कि कोई सदस्य घर के नियमों का उल्लंघन कर रहा है तो उसे फटकार भी लगाते हैं। सलमान के रडार पर इस बार आलिया सिद्दीकी थीं\n",
            "Generated Summary: 'देखती हूं कि सलमान, पूजा भट्ट को कैसा जवाब देते हैं' आलिया ने आगे कहा, 'शो में सभी अपनी पर्सनल लाइफ के बारे में बात करते हैं। पूजा भट्ट ने भी तो कहा कि वो महेश भट्ट की बेटी हैं। अब मै\n",
            "Reference Summary: Bigg Boss OTT Season 2 Controversy - Aaliya Siddiqui Says Salman Khan been biased. नवाजुद्दीन सिद्दीकी से अलग रहने वाली उनकी वाइफ आलिया सिद्दीकी बिग बॉस के घर से बाहर हो गई हैं। बाहर आते ही उन्होंने शो के होस्ट सलमान खान पर निशाना साधा है।\n",
            "Metrics: {'rouge1': 0.0, 'rouge2': 0.0, 'rougeL': 0.0, 'rougeLsum': 0.0, 'bert_score_f1': 43.9234}\n",
            "\n",
            "---\n",
            "\n"
          ]
        },
        {
          "metadata": {
            "tags": null
          },
          "name": "stderr",
          "output_type": "stream",
          "text": [
            "Some weights of RobertaModel were not initialized from the model checkpoint at roberta-large and are newly initialized: ['roberta.pooler.dense.bias', 'roberta.pooler.dense.weight']\n",
            "You should probably TRAIN this model on a down-stream task to be able to use it for predictions and inference.\n"
          ]
        },
        {
          "metadata": {
            "tags": null
          },
          "name": "stdout",
          "output_type": "stream",
          "text": [
            "Article 14872:\n",
            "Article: नई दिल्ली। कांग्रेस पार्टी की कार्यसमिति (CWC) की बैठक से आ रहे बयानों के बाद पार्टी में मची हलचल पर कई ऐसे नेता भी सक्रिय हो चुके हैं जो पार्टी छोड़ चुके हैं लेकिन उन्हें राहुल गांधी का करीबी माना जाता है। ऐसे ही नेताओं में एक हैं हरियाणा के अशोक तंवर। पार्टी में अनदेखी की वजह से अशोक तंवर ने हरियाणा विधानसभा चुनाव से ठीक पहले कांग्रेस छोड़ दी थी, लेकिन उन्हें आज भी राहुल गांधी का करीबी माना जाता है। ये भी पढ़ें- CWC में छिड़ी 'महाभारत' के बीच ज्यादातर सदस्यों ने की राहुल गांधी को अध्यक्ष बनाने की मांगआज दिन में खबर आई कि राहुल गांधी ने CWC बैठक में कहा है कि जिन लोगों ने अध्यक्ष पद को लेकर सोनिया गांधी को चिट्ठी लिखी है वे भारतीय जनता पार्टी से मिले हुए हैं। इस बयान पर अशोक तंवर ने प्रतिक्रिया देते हुए कहा कि उनके जैसे कार्यकर्ता को कई वर्षों से ऐसे ही गद्दारों के साथ लड़ाई लड़ रहे थे। अशोक तंवर ने अपने ट्वीट संदेश में कहा, 'लोगों को आज समझ में आया है कि कुछ लोग भारतीय जनता पार्टी से मिलें हुए हैं परन्तु मेरे जैसे कार्यकर्ता तो कई वर्षों से ऐसे ग़द्दारों से ही लड़ाई लड़ रहे थे।' हालांकि, राहुल गांधी के इस बयान को लेकर पार्टी प्रवक्ता रणदीप सुरजेवाला की तरफ से कहा गया कि CWC की बैठक में राहुल गांधी ने ऐसा कोई बयान नहीं दिया है। कपिल सिब्बल भी पहले तथाकथित बया से भड़क गए थे लेकिन बाद में कपिल सिब्बल ने कहा कि खुद राहुल गांधी ने उन्हें बताया कि ऐसा कोई बयान नहीं दिया गया था। लेकिन सोचने की बात ये है कि अगर राहुल गांधी ने ऐसा कोई बयान नहीं दिया था तो फिर यह बयान कहां से बाहर आया।ये भी पढ़ें- भड़कने के बाद कपिल सिब्बल ने वापस लिया अपना ट्वीट, कहा- राहुल गांधी ने खुद की उनसे बात\n",
            "Generated Summary: कांग्रेस पार्टी की कार्यसमिति (CWC) की बैठक से आ रहे बयानों के बाद पार्टी में मची हलचल पर कई ऐसे नेता भी सक्रिय हो चुके हैं जो पार्टी छोड़ चुके हैं लेकिन उन्हें राहुल गांधी का करीबी माना जाता है। ऐसे ही नेताओं\n",
            "Reference Summary: अशोक तंवर ने अपने ट्वीट संदेश में कहा, 'लोगों को आज समझ में आया है कि कुछ लोग भारतीय जनता पार्टी से मिलें हुए हैं परन्तु मेरे जैसे कार्यकर्ता तो कई वर्षों से ऐसे ग़द्दारों से ही लड़ाई लड़ रहे थे।'\n",
            "Metrics: {'rouge1': 0.0, 'rouge2': 0.0, 'rougeL': 0.0, 'rougeLsum': 0.0, 'bert_score_f1': 53.9206}\n",
            "\n",
            "---\n",
            "\n"
          ]
        },
        {
          "metadata": {
            "tags": null
          },
          "name": "stderr",
          "output_type": "stream",
          "text": [
            "Some weights of RobertaModel were not initialized from the model checkpoint at roberta-large and are newly initialized: ['roberta.pooler.dense.bias', 'roberta.pooler.dense.weight']\n",
            "You should probably TRAIN this model on a down-stream task to be able to use it for predictions and inference.\n"
          ]
        },
        {
          "metadata": {
            "tags": null
          },
          "name": "stdout",
          "output_type": "stream",
          "text": [
            "Article 341:\n",
            "Article: शेयर बाजार में आज यानी मंगलवार (25 जुलाई) को फ्लैट कारोबार देखने को मिला। सेंसेक्स 29 अंक गिरकर 66,355 के स्तर पर बंद हुआ। वहीं निफ्टी में सिर्फ 8 अंक की तेजी रही, ये 19,680 के स्तर पर बंद हुआ। सेंसेक्स के 30 शेयरों में से 16 में तेजी और 14 में गिरावट देखने को मिली।\n",
            "टाटा मोटर्स समेत निफ्टी-50 के 25 शेयरों में तेजी रही\n",
            "हिंडाल्को, JSW स्टील, टाटा स्टील, अल्ट्राटेक सीमेंट, NTPC, टाटा मोटर्स समेत निफ्टी-50 के 25 शेयरों में तेजी रही। वहीं एशियन पेंट्स, ITC, LT, ब्रिटानिया, कोटक बैंक, SBI, SBI लाइफ और इंडसइंड बैंक समेत 25 शेयरों में ही गिरावट देखने को मिली। वहीं एक शेयर में कोई बदलाव नहीं हुआ।\n",
            "मेटल सेक्टर में सबसे ज्यादा 2.94% की तेजी रही\n",
            "NSE के 11 सेक्टोरल इंडेक्स में से 5 में तेजी और 6 में गिरावट देखने को मिली। मेटल सेक्टर में सबसे ज्यादा 2.94% की तेजी रही। मीडिया सेक्टर में 1.51% की तेजी देखने को मिली। ऑटो, फाइनेंशियल सर्विसेज और फार्मा में भी बढ़त रही। बैंक, FMCG, IT, PSU बैंक, प्राइवेट बैंक और रियल्टी सेक्टर में गिरावट रही।\n",
            "टाटा मोटर्स को 3,202 करोड़ रुपए का मुनाफा\n",
            "टाटा मोटर्स ने आज Q1FY24 यानी पहली तिमाही (अप्रैल-जून) का रिजल्ट्स अनाउंस किया। इस तिमाही में कंपनी को 3,202.8 करोड़ रुपए का मुनाफा हुआ है। पिछले पिछले वित्त वर्ष की समान तिमाही में कंपनी को 5,006.6 करोड़ रुपए का घाटा हुआ था। वहीं टाटा मोटर्स की आय 71,934.66 करोड़ रुपए से 42% बढ़कर 1,02,236.08 करोड़ रुपए हो गई है।\n",
            "टाटा स्टील का प्रॉफिट 93% गिरा\n",
            "टाटा स्टील ने सोमवार (24 जुलाई) को Q1FY24 यानी पहली तिमाही (अप्रैल-जून) के रिजल्ट्स अनाउंस किया। पहली तिमाही में कंपनी का नेट प्रॉफिट सालाना आधार पर 93% गिरकर 525 करोड़ रुपए रहा। पिछले फाइनेंशियल ईयर की समान तिमाही में यह 7,714 करोड़ रुपए था। वहीं पिछली तिमाही यानी (जनवरी-मार्च) Q4FY23 में कंपनी का नेट प्रॉफिट 1,566 करोड़ रुपए रहा था।\n",
            "पहली तिमाही में कंपनी का ऑपरेशन से रेवेन्यू भी 6.2% गिरकर 59,489 करोड़ रुपए रहा, जो पिछले साल की समान तिमाही में 63,430 करोड़ रुपए था। पिछली तिमाही की तुलना में भी कंपनी का रेवेन्यू 5.5% गिरा है। Q4FY23 में यह 62,961 करोड़ रुपए रहा था।\n",
            "कल बाजार में रही थी गिरावट\n",
            "इससे पहले शेयर बाजार में कल यानी सोमवार (24 जुलाई) को गिरावट देखने को मिली थी। सेंसेक्स 299 अंक गिरकर 66,384 के स्तर पर बंद हुआ था। निफ्टी में भी 72 अंक की गिरावट रही, ये 19,672 के स्तर पर बंद हुआ था। सेंसेक्स के 30 शेयरों में से 18 में तेजी और 12 में गिरावट देखने को मिली थी।\n",
            "\n",
            "Generated Summary: NSE के 11 सेक्टोरल इंडेक्स में से 5 में तेजी और 6 में गिरावट देखने को मिली। मेटल सेक्टर में सबसे ज्यादा 2.94% की तेजी रही। मीडिया सेक्टर में 1.51% की तेजी देखने को मिली। ऑटो, फाइनेंशियल सर्विसेज \n",
            "Reference Summary: BSE NSE Sensex Today, Stock Market Latest Updates. शेयर बाजार में आज यानी मंगलवार (25 जुलाई) को तेजी देखने को मिल रही है। सेंसेक्स 147 अंक बढ़कर 66,531 के स्तर पर खुला है\n",
            "Metrics: {'rouge1': 10.0, 'rouge2': 0.0, 'rougeL': 10.0, 'rougeLsum': 10.0, 'bert_score_f1': 44.3036}\n",
            "\n",
            "---\n",
            "\n"
          ]
        },
        {
          "metadata": {
            "tags": null
          },
          "name": "stderr",
          "output_type": "stream",
          "text": [
            "Some weights of RobertaModel were not initialized from the model checkpoint at roberta-large and are newly initialized: ['roberta.pooler.dense.bias', 'roberta.pooler.dense.weight']\n",
            "You should probably TRAIN this model on a down-stream task to be able to use it for predictions and inference.\n"
          ]
        },
        {
          "metadata": {
            "tags": null
          },
          "name": "stdout",
          "output_type": "stream",
          "text": [
            "Article 3370:\n",
            "Article: बनारस हिंदू विश्वविद्यालय (BHU) एकेडमिक सेशन 2023-24 में अंडर ग्रेजुएट प्रोग्रामों के लिए आवेदन आज, 7 जून से शुरू हैं। वे उम्मीदवार जो सीयूईटी यूजी 2023 में उपस्थित हुए हैं, एडमिशन पोर्टल bhuonline.in पर जाकर आवेदन फॉर्म भर सकते हैं। बीएचयू के यूजी प्रोग्राम में एडमिशन पाने की लास्ट डेट 26 जून 2023 है।\n",
            "एजुकेशनल क्वालिफिकेशन \n",
            "कैंडिडेट्स का किसी मान्यता प्राप्त बोर्ड से 12 वीं पास होना जरूरी है।\n",
            "इंफॉर्मेशन बुलेटिन जारी \n",
            "बीएचयू ने सभी बीए कोर्स के लिए इंफॉर्मेशन बुलेटिन रिलीज किया है। इसमें लोकेशन, इनटेक और काउंसलिंग कोड के विषय में बताया गया है। इसी में जानकारी दी गई है कि एससी/एसटी/इंप्लॉई के वॉर्ड/ओबीसी/ईडब्ल्यूएस वगैरह को कौन सी स्पेशल सुविधाएं दी जाएंगी।\n",
            "ऑनलाइन आवेदन \n",
            "Generated Summary: BHU एकेडमिक सेशन 2023-24 में अंडर ग्रेजुएट प्रोग्रामों के लिए आवेदन आज, 7 जून से शुरू हैं। वे उम्मीदवार जो सीयूईटी यूजी 2023 में उपस्थित हुए हैं, एडमिशन पोर्टल bhuonline.in पर जाकर आवेदन फॉर्म भर सकते\n",
            "Reference Summary: बनारस हिंदू विश्वविद्यालय (BHU) एकेडमिक सेशन 2023-24 में अंडर ग्रेजुएट प्रोग्रामों के लिए आवेदन आज यानी 7 जून से शुरू होगी। वे उम्मीदवार जो CUET UG 2023 में उपस्थित हुए हैं, वे एडमिशन पोर्टल bhuonline.in पर जाकर आवेदन फॉर्म भर सकते हैं। बीएचयू के यूजी\n",
            "Metrics: {'rouge1': 87.5, 'rouge2': 71.4286, 'rougeL': 87.5, 'rougeLsum': 87.5, 'bert_score_f1': 72.5495}\n",
            "\n",
            "---\n",
            "\n"
          ]
        },
        {
          "metadata": {
            "tags": null
          },
          "name": "stderr",
          "output_type": "stream",
          "text": [
            "Some weights of RobertaModel were not initialized from the model checkpoint at roberta-large and are newly initialized: ['roberta.pooler.dense.bias', 'roberta.pooler.dense.weight']\n",
            "You should probably TRAIN this model on a down-stream task to be able to use it for predictions and inference.\n"
          ]
        },
        {
          "metadata": {
            "tags": null
          },
          "name": "stdout",
          "output_type": "stream",
          "text": [
            "Article 15735:\n",
            "Article: नई दिल्ली: भारत में पिछले 24 घंटों में 38,949 नए कोविड मामले दर्ज किए गए और 40,026 लोगों को अस्पताल से छुट्टी दे दी गई, जिससे महामारी से उबरने वाले लोगों की संख्या बढ़ गई। केंद्रीय स्वास्थ्य और परिवार कल्याण मंत्रालय के अनुसार शुक्रवार को, 24 घंटों में 542 मौतें हुईं जो अप्रैल के बाद से वायरस की वजह से मरने वाले लोगों की सबसे कम संख्या है।पिछले 38 दिनों में एक लाख से कम लोगों के संक्रमित होने के कारण अब तक कुल 3,01,83,876 लोगों को अस्पतालों और स्वास्थ्य केंद्रों से छुट्टी दे दी गई है। कोरोना सक्रिय मामले अब 5 लाख से नीचे आ गए हैं। देश में वर्तमान में 4,30,422 सक्रिय मामले हैं और अब तक कुल 4,12,531 मौतें हुई हैं।मंत्रालय ने कहा कि देश में अब तक कुल 39,53,43,767 लोगों को टीका लगाया गया है, जिनमें 38,78,078 लोगों को पिछले 24 घंटों में टीका लगाया गया है।भारतीय आयुर्विज्ञान अनुसंधान परिषद के अनुसार, कोविड के लिए 15 जुलाई तक 44,00,23,239 नमूनों का परीक्षण किया गया है। इनमें से गुरुवार को 19,55,910 नमूनों की जांच की गई।\n",
            "Generated Summary: भारत में पिछले 24 घंटों में 38,949 नए कोविड मामले दर्ज किए गए और 40,026 लोगों को अस्पताल से छुट्टी दे दी गई, जिससे महामारी से उबरने वाले लोगों की संख्या बढ़ गई।\n",
            "Reference Summary: भारत में पिछले 24 घंटों में 38,949 नए कोविड मामले दर्ज किए गए और 40,026 लोगों को अस्पताल से छुट्टी दे दी गई, जिससे महामारी से उबरने वाले लोगों की संख्या बढ़ गई।\n",
            "Metrics: {'rouge1': 100.0, 'rouge2': 100.0, 'rougeL': 100.0, 'rougeLsum': 100.0, 'bert_score_f1': 100.0}\n",
            "\n",
            "---\n",
            "\n"
          ]
        },
        {
          "metadata": {
            "tags": null
          },
          "name": "stderr",
          "output_type": "stream",
          "text": [
            "Some weights of RobertaModel were not initialized from the model checkpoint at roberta-large and are newly initialized: ['roberta.pooler.dense.bias', 'roberta.pooler.dense.weight']\n",
            "You should probably TRAIN this model on a down-stream task to be able to use it for predictions and inference.\n"
          ]
        },
        {
          "metadata": {
            "tags": null
          },
          "name": "stdout",
          "output_type": "stream",
          "text": [
            "Article 3262:\n",
            "Article: टेलीकॉम कंपनी जियो ने भारत में सबसे सस्ता ब्लूटूथ ट्रैकिंग डिवाइस JioTag लॉन्च किया है। कंपनी की ऑफिशियल वेबसाइट पर डिवाइस 2199 रुपए में लिस्ट किया गया है।\n",
            "बायर्स इसे लॉन्चिंग ऑफर में 749 रुपए में खरीद सकते हैं। कंपनी डिवाइस को एपल के AirTag और सैमसंग SmartTag के टक्कर में लाई है। एपल के एयरटैग की कीमत 3,490 रुपए है। जियो टैग को Jio.com के साथ रिलायंस डिजिटल और जियो मार्ट से खरीदा जा सकता है। कंपनी डिवाइस के साथ एक साल की मैन्युफैक्चरिंग वॉरंटी ऑफर कर रही है।\n",
            "डिवाइस को जियो कम्युनिटी फाइंड फीचर सपोर्ट के साथ पेश किया गया है। JioTag, एपल AirTag और सैमसंग SmartTag के जैसे ही काम करता है। यूजर्स इसे स्मार्टफोन से ब्लूटूथ कनेक्टिविटी के जरिए जोड़ सकता है और उस आइटम को ट्रैक करने में मदद करता है जिससे ट्रैकर जुड़ा है।\n",
            "JioTag के स्पेसिफिकेशन और फीचर्स \n",
            "JioTag में रिप्लेसेबल CR2032 बैटरी दी गई है, जिसकी लाइफ एक साल तक की है। डिवाइस ब्लूटूथ v5.1 का उपयोग कर यूजर के स्मार्टफोन से कनेक्ट हो जाता है। यूजर आइटम को ट्रैक करने के लिए इसे अपने वॉलेट, हैंडबैग या किसी अन्य पर्सनल आइटम में रख सकते हैं। इसके साथ केबल मिलती है, जो ट्रैकर को अन्य डिवाइस या आइटम से एड करना आसान बनाती है।\n",
            "डिवाइस घर में 20 मीटर तक और बाहर 50 मीटर तक की ट्रैकिंग डिस्टेंस प्रदान करता है। JioTag का वैट 9.5 ग्राम है। रेगुलर यूज के आइटम ढूंढ़ने के अलावा ट्रैकर से यूजर के स्मार्टफोन को ट्रैक किया जा सकता है। फोन के साइलेंट मोड में होने पर भी JioTag को डबल-टैप करने से फोन की रिंग बजने लगती है।\n",
            "JioTag : कम्युनिटी फाइंड फीचर \n",
            "Jio कम्युनिटी फाइंड फीचर इस नए लॉन्च किए गए ब्लूटूथ ट्रैकर को सपोर्ट करता है। यानी जब यूजर लास्ट डिस्कनेक्ट लोकेशन पर कनेक्टेड डिवाइस को ढूंढ़ने में असमर्थ होता हैं, तो वे अपने JioTag को अपने स्मार्टफोन पर जियो थिंग्स एप्लिकेशन पर खोए हुए डिवाइस के रूप में लिस्ट कर सकते हैं और कम्युनिटी फाइंड फीचर खोए हुए JioTag की लोकेशन को सर्च करेगा और रिपोर्ट करेगा।\n",
            "Generated Summary: जियो ने भारत में सबसे सस्ता ब्लूटूथ ट्रैकिंग डिवाइस JioTag लॉन्च किया है। कंपनी की ऑफिशियल वेबसाइट पर डिवाइस 2199 रुपए में लिस्ट किया गया है। बायर्स इसे लॉन्चिंग ऑफर में 749 रुपए में खरीद सकते\n",
            "Reference Summary: एपल के AirTag से 4 गुना सस्ता है डिवाइस, मोबाइल पर मिलेगी खोए सामान की लोकेशन जियो ने ट्रैकिंग डिवाइस JioTag को भारत में लॉन्च किया है। कंपनी डिवाइस को एपल के AirTag की टक्कर में लाई है। JioTag, एपल AirTag के जैसे ही काम\n",
            "Metrics: {'rouge1': 22.2222, 'rouge2': 0.0, 'rougeL': 22.2222, 'rougeLsum': 22.2222, 'bert_score_f1': 56.777}\n",
            "\n",
            "---\n",
            "\n"
          ]
        },
        {
          "metadata": {
            "tags": null
          },
          "name": "stderr",
          "output_type": "stream",
          "text": [
            "Some weights of RobertaModel were not initialized from the model checkpoint at roberta-large and are newly initialized: ['roberta.pooler.dense.bias', 'roberta.pooler.dense.weight']\n",
            "You should probably TRAIN this model on a down-stream task to be able to use it for predictions and inference.\n"
          ]
        },
        {
          "metadata": {
            "tags": null
          },
          "name": "stdout",
          "output_type": "stream",
          "text": [
            "Article 16532:\n",
            "Article: पणजी: गोवा के मुख्यमंत्री प्रमोद सावंत ने सोमवार को कहा कि राज्य में 1 सितंबर से बार्स खोलने की अनुमति दी जाएगी। उन्होंने कहा कि केंद्रीय गृह मंत्रालय अनलॉक 4.0 दिशानिर्देशों को राज्य में लागू किया जाएगा।सावंत ने कहा, \"कल से बार्स खोले जाएंगे। सोशल डिस्टेंसिंग का अनुपालन अनिवार्य होगा।\"राज्य में 10,000 से अधिक लाइसेंस प्राप्त बार हैं और गोवा में बार मालिक बार-बार मुख्यमंत्री प्रमोद सावंत से बार को फिर से खोलने का आग्रह कर रहे थे, जिसे कोविड-19 महामारी को देखते हुए बंद कर दिया गया था।\n",
            "Generated Summary: गोवा के मुख्यमंत्री प्रमोद सावंत ने सोमवार को कहा कि राज्य में 1 सितंबर से बार्स खोलने की अनुमति दी जाएगी। उन्होंने कहा कि केंद्रीय गृह मंत्रालय अनलॉक 4.0 दिशानिर्देशों को राज्य में लागू किया जाएगा।\n",
            "Reference Summary: गोवा के मुख्यमंत्री प्रमोद सावंत ने सोमवार को कहा कि राज्य में 1 सितंबर से बार्स खोलने की अनुमति दी जाएगी।\n",
            "Metrics: {'rouge1': 50.0, 'rouge2': 0.0, 'rougeL': 50.0, 'rougeLsum': 50.0, 'bert_score_f1': 79.5294}\n",
            "\n",
            "---\n",
            "\n"
          ]
        },
        {
          "metadata": {
            "tags": null
          },
          "name": "stderr",
          "output_type": "stream",
          "text": [
            "Some weights of RobertaModel were not initialized from the model checkpoint at roberta-large and are newly initialized: ['roberta.pooler.dense.bias', 'roberta.pooler.dense.weight']\n",
            "You should probably TRAIN this model on a down-stream task to be able to use it for predictions and inference.\n"
          ]
        },
        {
          "metadata": {
            "tags": null
          },
          "name": "stdout",
          "output_type": "stream",
          "text": [
            "Article 16492:\n",
            "Article: लखनऊ। लखनऊ के मेदांता अस्पताल में कोरोना संक्रमित होने के बाद बीते 9 मई को भर्ती कराए गए सपा सांसद आजम खां की तबीयत को लेकर हेल्थ बुलेटिन जारी किया गया है। लखनऊ के मेदांता अस्पताल की ओर से जारी हेल्थ बुलेटिन के मुताबिक, सपा सांसद आजम खान को सीवियर कोविड इंफेक्शन के कारण कोविड ICU में रखा गया है। गुरुवार (13 मई) को खान को कम ऑक्सीजन सपोर्ट की जरूरत रही। उनका इलाज सीवियर इंफेक्शन डिजीज प्रोटोकॉल के तहत मेदांता हॉस्पिटल लखनऊ की क्रिटिकल केयर टीम के डॉक्टरों की कड़ी निगरानी में चल रहा है। उनकी हालत अभी स्थिर है। बता दें कि, खान के साथ उनके 30 वर्षीय बेटे मो. अब्दुल्ला खान की कोरोना संक्रमित होने के बाद अस्पताल में भर्ती कराया गया है जहां उनका भी इलाज चल रहा है। मो. अब्दुल्ला खान की स्थिति स्थिर एवं संतोषजनक है, उन्हें भी डॉक्टरों की निगरानी में रखा गया है। ये जानकारी लखनऊ के मेंदाता हास्पिटल के मेडिकल डायरेक्टर की ओर से दी गई है।  लखनऊ। लखनऊ के मेदांता अस्पताल में कोरोना संक्रमित होने के बाद बीते 9 मई को भर्ती कराए गए सपा सांसद आजम खां की तबीयत को लेकर हेल्थ बुलेटिन जारी किया गया है। लखनऊ के मेदांता अस्पताल की ओर से जारी हेल्थ बुलेटिन के मुताबिक, सपा सांसद आजम खान को सीवियर कोविड इंफेक्शन के कारण कोविड ICU में रखा गया है। गुरुवार (13 मई) को खान को कम ऑक्सीजन सपोर्ट की जरूरत रही। उनका इलाज सीवियर इंफेक्शन डिजीज प्रोटोकॉल के तहत मेदांता हॉस्पिटल लखनऊ की क्रिटिकल केयर टीम के डॉक्टरों की कड़ी निगरानी में चल रहा है। उनकी हालत अभी स्थिर है। बता दें कि, खान के साथ उनके 30 वर्षीय बेटे मो. अब्दुल्ला खान की कोरोना संक्रमित होने के बाद अस्पताल में भर्ती कराया गया है जहां उनका भी इलाज चल रहा है। मो. अब्दुल्ला खान की स्थिति स्थिर एवं संतोषजनक है, उन्हें भी डॉक्टरों की निगरानी में रखा गया है। ये जानकारी लखनऊ के मेंदाता हास्पिटल के मेडिकल डायरेक्टर की ओर से दी गई है। \n",
            "Generated Summary: लखनऊ के मेदांता अस्पताल की ओर से जारी हेल्थ बुलेटिन के मुताबिक, सपा सांसद आजम खान को सीवियर कोविड इंफेक्शन के कारण कोविड ICU में रखा गया है। गुरुवार (13 मई) को खान को कम ऑक्सीजन सपोर्ट\n",
            "Reference Summary: लखनऊ के मेदांता अस्पताल की ओर से जारी हेल्थ बुलेटिन के मुताबिक, सपा सांसद आजम खान को सीवियर कोविड इंफेक्शन के कारण कोविड ICU में रखा गया है। गुरुवार (13 मई) को खान को कम ऑक्सीजन सपोर्ट की जरूरत रही।\n",
            "Metrics: {'rouge1': 100.0, 'rouge2': 100.0, 'rougeL': 100.0, 'rougeLsum': 100.0, 'bert_score_f1': 97.3103}\n",
            "\n",
            "---\n",
            "\n"
          ]
        },
        {
          "metadata": {
            "tags": null
          },
          "name": "stderr",
          "output_type": "stream",
          "text": [
            "Some weights of RobertaModel were not initialized from the model checkpoint at roberta-large and are newly initialized: ['roberta.pooler.dense.bias', 'roberta.pooler.dense.weight']\n",
            "You should probably TRAIN this model on a down-stream task to be able to use it for predictions and inference.\n"
          ]
        },
        {
          "metadata": {
            "tags": null
          },
          "name": "stdout",
          "output_type": "stream",
          "text": [
            "Article 1218:\n",
            "Article: हिमाचल प्रदेश, उत्तराखंड, दिल्ली, यूपी और पंजाब में 6 दिनों से लगातार बारिश हो रही है। हिमाचल में 24 घंटे में 39 जगह लैंडस्लाइड हुआ। ब्यास नदी में उफान से बिल्डिंग्स बह गईं, पुल ढह गए।\n",
            "पिछले 72 घंटों में देश के अलग-अलग राज्यों में 76 लोगों की जान चली गई। यूपी में 34, हिमाचल में 20, जम्मू-कश्मीर में 15, दिल्ली में पांच और राजस्थान और हरियाणा में एक-एक की मौत हुई है।\n",
            "वहीं उत्तराखंड के उत्तरकाशी में मध्य प्रदेश के टूरिस्ट की गाड़ियों पर पहाड़ से टूटकर पत्थर गिर गए। इस हादसे में इंदौर के चार टूरिस्ट की मौत हो गई। वहीं 10 लोग घायल हुए हैं।\n",
            "उधर, जम्मू-कश्मीर के मौसम में कुछ सुधार हुआ और 4 दिन से अमरनाथ यात्रा फिर शुरू हो गई।\n",
            "दिल्ली में यमुना नदी का वाटर लेवल खतरे के निशान को पार कर गया है। इससे निचले इलाकों में बाढ़ का खतरा बढ़ गया है। किसाने के इलाकों के लोगों को वहां से हटने को कहा गया है। मंगलवार सुबह 8 बजे तक नदी का पानी 206.32 मीटर पर बह रहा था। 1978 में वाटर लेवल हाईएस्ट 207.49 मीटर तक गया था।\n",
            "मौसम से जुड़े अपडेट्स...\n",
            "अगले 24 घंटे कैसे रहेंगे…\n",
            "इन राज्यों में तेज बारिश होगी: राजस्थान, मध्य प्रदेश, हिमाचल, उत्तराखंड, हरियाणा, पंजाब, दिल्ली, उत्तर प्रदेश, बिहार, सिक्किम, पश्चिम बंगाल, असम, मेघालय, अरुणाचल प्रदेश, नगालैंड, मिजोरम, मणिपुर, त्रिपुरा, गुजरात, गोवा, कर्नाटक, केरल, आंध्र प्रदेश और ओडिशा\n",
            "इन राज्यों में हल्की बारिश होगी: झारखंड, छत्तीसगढ़, तेलंगाना और तमिलनाडु में बिजली चमकने के साथ हल्की बारिश हो सकती है।\n",
            "अलग-अलग राज्यों से मानसून की तस्वीरें...\n",
            "अन्य राज्यों में मौसम का हाल...\n",
            "MP के 11 जिलों में बारिश, उज्जैन में 2 इंच पानी गिरा; दो दिन पूरा प्रदेश भीगेगा\n",
            "मध्य प्रदेश में मंगलवार को 11 जिलों में कहीं हल्की तो कहीं तेज बारिश हुई। उज्जैन में 9 घंटे के भीतर दो इंच तो ग्वालियर में डेढ़ इंच से ज्यादा पानी गिरा। भोपाल, छिंदवाड़ा, बालाघाट, बैतूल, भोपाल, धार, नर्मदापुरम, इंदौर, खरगोन, पचमढ़ी और रतलाम में भी बारिश दर्ज की गई। पढ़ें पूरी खबर...\n",
            "राजस्थान के 3 जिलों में तेज बारिश की चेतावनी, एक दिन में 7 इंच तक पानी बरसा, स्कूल बंद, डैम ओवरफ्लो\n",
            "राजस्थान में आज कोटा, बारां, झालावाड़ में भारी बारिश की संभावना जताते हुए मौसम विभाग ने इन जिलों के लिए ऑरेंज अलर्ट जारी किया है। कोटा के कानावास कई एरिया में बीती रात से तेज बारिश हो रही है और अब तक 144MM बरसात हो चुकी है। बारां के शाहबाद, अटरू समेत कई जगह 2 इंच से ज्यादा पानी बरसा है। पढ़ें पूरी खबर...\n",
            "राजस्थान में बारिश के VIDEO-PHOTO: ड्रोन से रिकॉर्ड किए गए हालात देखने के लिए यहां क्लिक करें ...\n",
            "हरियाणा में बाढ़ से 3 मौतें, पानीपत की गौशाला में पानी घुसा \n",
            "हरियाणा में यमुना नदी का पानी गांवों में घुस गया है। यमुनानगर के अलावा करनाल और पानीपत के गांवों में यह पानी पहुंच गया है। पानीपत में इस पानी की वजह से गौशाला डूब गई। इस दौरान कुछ गायों की मौत भी हो गई है। पढ़ें पूरी खबर...\n",
            "पंजाब के 13 जिलों में बाढ़ का असर, अब तक 8 की मौत, 479 गांव प्रभावित; आर्मी-NDRF की टीमें बचाव में जुटी\n",
            "पंजाब में बाढ़ से तबाही शुरू हो गई है। सरकारी आंकड़ों के मुताबिक राज्य में अभी तक 8 लोगों की मौत हो चुकी है। इनमें मोहाली, रोपड़, फतेहगढ़ साहिब में 2-2 और नवांशहर व होशियारपुर 1-1 मौत हुई है। 3 लोग लापता हैं जबकि करीब 10 हजार लोगों को सुरक्षित जगहों पर पहुंचाया गया है। पढ़ें पूरी खबर...\n",
            "यूपी के सहारनपुर में रेलवे अंडरपास में डूबकर नाबालिग की मौत,मुरादाबाद में रेलवे ट्रैक पर भरा पानी, 32 ट्रेनें कैंसिल; अब तक 38 की मौत\n",
            "यूपी में जमकर बारिश हो रही है। हादसों में अब तक 38 लोगों की मौत हो चुकी है। सहारनपुर के बीच से होकर जाने वाली ढमोला और पांवधोई नदी उफान पर चल रही हैं। नदी का पानी लोगों के घर में घुस गया है। मुरादाबाद में रेलवे ट्रैक पर पानी भर गया है। इसकी वजह से अलग-अगल रूट की 32 ट्रेनें कैंसिल कर दी गईं। पढ़ें पूरी खबर...\n",
            "हिमाचल में भारी बारिश से तबाही, 1328 सड़कें बंद; आधे हिमाचल में ब्लैक आउट\n",
            "हिमाचल प्रदेश में भारी बारिश तबाही मचा रही है। तीन दिन से हो रही बारिश के कारण आई आपदा में 27 लोगों की जान चली गई। उधर, चंद्रताल में 300 और मणिमहेश में 200 लोग फंसे हुए है। चंद्रताल में फंसे लोगों को निकालने के लिए सुबह पांच बजे से रेस्क्यू ऑपरेशन जारी है। पढ़ें पूरी खबर...\n",
            "रायपुर में झमाझम बारिश, कई जिलों में आज पड़ सकती है बौछारें\n",
            "​​​​​​​​​​​राजधानी रायपुर में सोमवार देर रात से मंगलवार सुबह तक हुई बारिश ने लोगों को गर्मी से राहत दी है। सुबह से बादल छाए हुए हैं। मौसम विभाग ने कई जिलों में आज भी हल्की से मध्यम बारिश की संभावना जताई है। दो दिनों तक तापमान बढ़ने के आसार हैं। इसके बाद मानसून की गतिविधियां फिर बढ़ेंगी और बारिश होगी। पढ़ें पूरी खबर...\n",
            "अब पोल में हिस्सा लेकर अपनी राय दीजिए...\n",
            "\n",
            "Generated Summary: दिल्ली में यमुना नदी का वाटर लेवल खतरे के निशान को पार कर गया है। इससे निचले इलाकों में बारिश का खतरा बढ़ गया है। किसाने के इलाकों के लोगों को वहां से हटने को कहा गया है।\n",
            "Reference Summary: Monsoon Rainfall Tracker State Wise Update; Rainfall Expected in Rajasthan, Uttarakhand, Haryana, Punjab, Delhi, Uttar Pradesh, Bihar, Sikkim, West Bengal, Assam, Meghalaya, Arunachal Pradesh पिछले 72 घंटों में देश के अलग-अलग राज्यों में 76 लोगों की जान चली गई। यूपी में 34, हिमाचल में 20\n",
            "Metrics: {'rouge1': 0.0, 'rouge2': 0.0, 'rougeL': 0.0, 'rougeLsum': 0.0, 'bert_score_f1': 27.6098}\n",
            "\n",
            "---\n",
            "\n"
          ]
        },
        {
          "metadata": {
            "tags": null
          },
          "name": "stderr",
          "output_type": "stream",
          "text": [
            "Some weights of RobertaModel were not initialized from the model checkpoint at roberta-large and are newly initialized: ['roberta.pooler.dense.bias', 'roberta.pooler.dense.weight']\n",
            "You should probably TRAIN this model on a down-stream task to be able to use it for predictions and inference.\n"
          ]
        },
        {
          "metadata": {
            "tags": null
          },
          "name": "stdout",
          "output_type": "stream",
          "text": [
            "Article 259:\n",
            "Article: इलाहाबाद हाईकोर्ट ज्ञानवापी के ASI सर्वे पर आज यानी गुरुवार को फैसला सुनाएगा। तब तक ASI सर्वे पर रोक जारी रहेगी। मामले की दोपहर 3:30 बजे फिर से होगी। कोर्ट ने ASI के अफसर को भी पेश होने का आदेश भी दिया है। सुनवाई के दौरान ASI ने कोर्ट में हलफनामा दिया है। इसमें कहा है कि जांच से ढांचे को कोई नुकसान नहीं पहुंचेगा।\n",
            "इस दौरान मुस्लिम पक्ष ने सर्वे का विरोध किया। वकील SFA नकवी ने कहा- कानून प्री-मेच्योर स्टेज पर ASI सर्वे की इजाजत नहीं देता। सुन्नी सेंट्रल वक्फ बोर्ड के वकील पुनीत गुप्ता ने कहा- कोर्ट साक्ष्य बनाने की अनुमति नहीं दे सकता।\n",
            "अब पढ़िए सुनवाई के दौरान मुस्लिम और हिंदू पक्ष ने क्या-क्या दलीलें दीं...\n",
            "सवाल: कोर्ट ने पूछा जीपीएस, डेटिंग एक्सरसाइज क्या है?\n",
            "जवाब: एएसजीआई बोले- जांच का तरीका है। डेटिंग से स्ट्रक्चर की आयु पता होगी। साइंटिफिक जांच होगी।\n",
            "सवाल: कोर्ट ने एएसजीआई से पूछा- स्ट्रक्चर को नुकसान कैसे नहीं होगा?\n",
            "जवाब: एएसजीआई ने कहा- तकनीकी का इस्तेमाल करेंगे। कुछ भी हटाएंगे नहीं।\n",
            "सवाल: हिंदू पक्ष के वकील विष्णु शंकर जैन से कोर्ट ने पूछा, क्या आप ASI की मदद से बता सकते हैं कि आप क्या करने जा रहे हैं?\n",
            "जवाब: जैन ने कहा- जीपीआर और रडार से जांच करेंगे। कोई खुदाई नहीं होगी। कार्बन डेटिंग करेंगे।\n",
            "सवाल: हिंदू पक्ष के वकील की दलील से चीफ जस्टिस असंतुष्ट दिखे -पूछा क्या ड्रिल नहीं करेंगे, क्या करेंगे बताइए?\n",
            "जवाब: एएसजीआई ने कहा- जांच कर फोटो लेंगे, संपत्ति को क्षति नहीं होगी। फोटो डॉक्यूमेंट्स से जांच करेंगे।\n",
            "हिंदू पक्ष की दलीलें...\n",
            "मुस्लिम पक्ष की दलीलें...\n",
            "साइंटिफिक सर्वे के विरोध में मुस्लिम पक्ष ने दाखिल की याचिका, इसी पर चल रही सुनवाई\n",
            "वाराणसी के ज्ञानवापी परिसर के ASI सर्वे पर इलाहाबाद हाईकोर्ट में सुनवाई जारी है। सुप्रीम कोर्ट के ज्ञानवापी परिसर में हो रहे ASI सर्वे पर 26 जुलाई शाम 5 बजे तक रोक लगाने के आदेश के बाद मंगलवार को इलाहाबाद हाईकोर्ट में मुस्लिम पक्ष की ओर से रिट पिटीशन दाखिल की गई। इस याचिका पर चीफ जस्टिस प्रीतिंकर दिवाकर सुनवाई कर रहे हैं।\n",
            "मुस्लिम पक्ष की याचिका में ASI सर्वे के आदेश को चुनौती\n",
            "ASI सर्वे के खिलाफ मुस्लिम पक्ष ने इलाहाबाद हाईकोर्ट में रिट पिटीशन दाखिल की है। इससे पहले जिला जज ने ज्ञानवापी विवादित परिसर का ASI सर्वे का आदेश दिया था। इसके खिलाफ मुस्लिम पक्ष ने सुप्रीम कोर्ट में याचिका दाखिल की थी। सुप्रीम कोर्ट ने सोमवार को सुनवाई करते हुए 26 जुलाई शाम 5 बजे तक ASI सर्वे पर रोक लगा दी थी। वहीं, मंगलवार को सुनवाई करते हुए इलाहाबाद हाईकोर्ट ने ज्ञानवापी मस्जिद और विश्वेश्वर मंदिर विवाद मामले में फैसला सुरक्षित कर लिया था।\n",
            "हिंदू पक्ष ने दाखिल की है कैविएट, कहा-बिना हमें सुने न दें कोई फैसला\n",
            "मुस्लिम पक्ष की याचिका से पहले सोमवार को हिंदू पक्ष की वादी राखी सिंह ने हाईकोर्ट में कैविएट दाखिल की थी। ये कैविएट ​​​​​​उनके वकील सौरभ सिंह ने ऑनलाइन फाइल की थी। अपनी कैविएट में राखी ने हाईकोर्ट से आग्रह किया कि अगर अंजुमन इंतजामिया मस्जिद कमेटी वाराणसी कोर्ट के 21 जुलाई के आदेश यानी ज्ञानवापी परिसर के ASI सर्वे के आदेश को चुनौती देने के लिए उनके पास आती है, तो याचिकाकर्ता को सुने बिना फैसला न दिया जाए।\n",
            "वहीं, हिंदू पक्ष के वकील विष्णु शंकर जैन ने बताया कि मुस्लिम पक्ष ने ये दलील रखी है कि ये सर्वे नहीं होना चाहिए।\n",
            "चीफ जस्टिस ने पूछा- क्या ऐसा सर्वे पहले कभी हुआ है?\n",
            "इससे पूर्व ज्ञानवापी मस्जिद और विश्वेश्वर मंदिर विवाद मामले में इलाहाबाद हाईकोर्ट में सुनवाई हुई। हिंदू पक्ष के वकील विष्णु शंकर जैन ने बताया कि हाईकोर्ट ने राम मंदिर के संदर्भ में भी सर्वे का आदेश किया था।\n",
            "सर्वे तीन साल चला और कोई नुकसान नहीं हुआ। चीफ जस्टिस ने पूछा कि क्या ऐसा सर्वे पहले कभी कहीं हुआ है? विष्णु शंकर जैन ने इस पर बताया कि अयोध्या के राम जन्मभूमि मामले में ऐसा सर्वे हो चुका है। इसके बाद चीफ जस्टिस ने फिर पूछा कि क्या आपने कोर्ट को पूरा प्लान सब्मिट किया था कि सर्वे कैसे किया जाएगा?\n",
            "जैन ने कहा कि जी हां। मुस्लिम पक्ष के सीनियर एडवोकेट एसएफए नकवी ने कहा कि जिला कोर्ट के ऑर्डर में साफतौर पर लिखा है कि ASI खुदाई कर सकती है। मुस्लिम पक्ष ने कहा कि एएसआई सिर्फ एक हफ्ते के लिए खुदाई ना करने की बात कह रही है। इसके बाद वह खुदाई की कार्रवाई करने को स्वतंत्र है।\n",
            "मुस्लिम पक्ष ने हिन्दू पक्ष की ओर से जिला अदालत में रखी मांगों का हवाला देते हुए कहा कि उनकी मांगों में खुदाई के जरिए एएसआई से सर्वे कराने की बात कही गई थी।\n",
            "इस पर हिंदू पक्ष ने कहा कि चूंकि मुस्लिम पक्ष ने सुप्रीम कोर्ट में दावा किया था कि औरंगजेब ने यह मस्जिद बनाई है। ऐसे में यह औरंगजेब द्वारा बनाई मस्जिद थी या कोई हिंदू मंदिर था, इस सच का पता करने के लिए हमने जिला अदालत में सर्वे की मांग की थी।\n",
            "ASI ने 24 जुलाई को ज्ञानवापी में किया 3 घंटे सर्वे\n",
            "वाराणसी कोर्ट के फैसले के बाद ASI ने 24 जुलाई को ज्ञानवापी का सर्वे शुरू किया था। शुरुआती 3 घंटे के सर्वे में फीता लेकर पूरे परिसर को नापा गया। 4 स्टैंड कैमरे परिसर के चारों कोने पर लगाए गए। एक-एक एक्टिविटी रिकॉर्ड की गई।\n",
            "उधर, मुस्लिम पक्ष ने सर्वे का बहिष्कार किया। वह सर्वे के फैसले के खिलाफ सुप्रीम कोर्ट पहुंच गया। सोमवार को सुप्रीम कोर्ट में याचिका पर सुनवाई हुई। इसके बाद सुप्रीम कोर्ट ने 26 जुलाई शाम 5 बजे तक के लिए सर्वे पर रोक लगा दी।\n",
            "सुप्रीम कोर्ट ने आदेश दिया कि 26 जुलाई की शाम 5 बजे तक कोई सर्वे न किया जाए। सुप्रीम कोर्ट ने कहा है कि इस दौरान अगर मस्जिद कमेटी चाहे, तो वाराणसी कोर्ट के फैसले के खिलाफ हाईकोर्ट जा सकती है। फिलहाल सर्वे को लेकर मामला एक बार फिर हाईकोर्ट में पहुंच गया है।\n",
            "ASI की टीम जांच के लिए सभी अत्याधुनिक उपकरण के साथ-साथ फावड़ा, झाड़ू भी अपने साथ लेकर आई थी। ज्ञानवापी परिसर का ठीक एक साल पहले भी सर्वे किया गया था। स्थानीय कोर्ट क आदेश पर कमीशन ने यह सर्वे किया था। उस रिपोर्ट को कोर्ट में जमा किया था।\n",
            "रिपोर्ट में दावा किया गया था कि परिसर में शेषनाग की आकृति के अलावा खंडित देव विग्रह, मंदिर का मलबा, हिंदू देवी-देवताओं और कमल की आकृति, शिलापट्ट मिले हैं। यह रिपोर्ट स्टेट ट्रेजरी के लॉकर में सुरक्षित रखी गई है।\n",
            "3 बार अलग-अलग आदेशों पर लग चुकी है रोक\n",
            "इलाहाबाद हाईकोर्ट ने 12 मई 2023 को ज्ञानवापी स्थित वजूखाना में मिली शिवलिंग जैसी आकृति की कार्बन डेटिंग और वैज्ञानिक सर्वेक्षण का आदेश दिया था। कार्बन डेटिंग और वैज्ञानिक सर्वेक्षण का काम शुरू किए जाने से पहले ही 19 मई 2023 को सुप्रीम कोर्ट ने आदेश पर रोक लगा दी थी।\n",
            "इसी तरह 8 अप्रैल 2021 को वाराणसी की जिला अदालत ने ज्ञानवापी परिसर के सर्वे का आदेश एएसआई को दिया था, सर्वे का काम शुरू होने से पहले ही सितंबर 2021 में इलाहाबाद हाईकोर्ट ने उस पर रोक लगा दी थी। बाद में जिला जज की अदालत ने ज्ञानवापी परिसर का एएसआई सर्वे आदेश दिया था। इस पर कल सुप्रीम कोर्ट ने 26 जुलाई शांम पांच बजे तक अंतरिम रोक लगा दी थी।\n",
            "ये भी पढ़िए...\n",
            "ज्ञानवापी मस्जिद और विश्वेश्वर मंदिर विवाद मामले में फैसला सुरक्षित, 28 अगस्त को आएगा फैसला, ASI सर्वे के खिलाफ दाखिल रिट पिटीशन पर सुनवाई कल\n",
            "इलाहाबाद हाईकोर्ट ने ज्ञानवापी मस्जिद और विश्वेश्वर मंदिर विवाद मामले में फैसला सुरक्षित कर लिया है। इस केस में कोर्ट 28 अगस्त को अपना फैसला सुनाएगी। उधर, सुप्रीम कोर्ट के ज्ञानवापी परिसर में हो रहे एएसआई सर्वे पर 26 जुलाई शाम 5 बजे तक रोक लगाने के आदेश के बाद मंगलवार को इलाहाबाद हाईकोर्ट में मुस्लिम पक्ष की ओर से रिट पिटीशन दाखिल की गई। पढ़िए पूरी खबर...\n",
            "Generated Summary: दिल्ली के ज्ञानवापी परिसर के ASI सर्वे पर सुनवाई जारी है। सुप्रीम कोर्ट के ज्ञानवापी परिसर में हो रहे ASI सर्वे पर 26 जुलाई शाम 5 बजे तक रोक लगाने के आदेश के बाद मंगलवार को इलाहाबाद हाईकोर्ट में मुस्लिम पक्ष की ओर से रिट\n",
            "Reference Summary: UP Varanasi Gyanvapi Masjid Case Latest Update - Follow Gyanvapi ASI Survey Photos, Reports And Headlines On Dainik Bhaskar. वाराणसी के ज्ञानवापी परिसर के ASI सर्वे पर इलाहाबाद हाईकोर्ट में बुधवार को सुनवाई होगी। सुप्रीम कोर्ट के ज्ञानवापी परिसर में हो रहे ASI सर्वे पर 26 जुलाई शाम\n",
            "Metrics: {'rouge1': 24.0, 'rouge2': 17.3913, 'rougeL': 24.0, 'rougeLsum': 24.0, 'bert_score_f1': 55.302}\n",
            "\n",
            "---\n",
            "\n"
          ]
        },
        {
          "metadata": {
            "tags": null
          },
          "name": "stderr",
          "output_type": "stream",
          "text": [
            "Some weights of RobertaModel were not initialized from the model checkpoint at roberta-large and are newly initialized: ['roberta.pooler.dense.bias', 'roberta.pooler.dense.weight']\n",
            "You should probably TRAIN this model on a down-stream task to be able to use it for predictions and inference.\n"
          ]
        },
        {
          "metadata": {
            "tags": null
          },
          "name": "stdout",
          "output_type": "stream",
          "text": [
            "Article 19116:\n",
            "Article: रोहतक: वैश्य शिक्षण संस्था के ग्राऊंड में सोमवार को प्रैक्टिस कर रहे एक कुश्ती पहलवान की गोली मारकर हत्या कर दी गई। मोटर साइकिल सवार दो युवकों ने वैश्य शिक्षण संस्था के ग्राऊंड में प्रैक्टिस कर रहे कुश्ती पहलवान पर जमकर फायरिंग कर दी। जिससे पहलवान की मौके पर ही मौत हो गई। हत्या की सूचना पाकर घटना स्थल पर पुलिस पहुंच चुकी है और आगे की तफ्तीश कर रही है।  \n",
            "Generated Summary: वैश्य शिक्षण संस्था के ग्राऊंड में सोमवार को प्रैक्टिस कर रहे एक कुश्ती पहलवान की गोली मारकर हत्या कर दी गई। मोटर साइकिल सवार दो युवकों ने वैश्य शिक्षण संस्था के ग्राऊंड में प्रैक्टिस कर रहे कुश्ती पहलवान पर जमकर फायरिंग कर\n",
            "Reference Summary: वैश्य शिक्षण संस्था के ग्राऊंड में सोमवार को प्रैक्टिस कर रहे एक कुश्ती पहलवान की गोली मारकर हत्या कर दी गई।\n",
            "Metrics: {'rouge1': 0.0, 'rouge2': 0.0, 'rougeL': 0.0, 'rougeLsum': 0.0, 'bert_score_f1': 69.8381}\n",
            "\n",
            "---\n",
            "\n"
          ]
        },
        {
          "metadata": {
            "tags": null
          },
          "name": "stderr",
          "output_type": "stream",
          "text": [
            "Some weights of RobertaModel were not initialized from the model checkpoint at roberta-large and are newly initialized: ['roberta.pooler.dense.bias', 'roberta.pooler.dense.weight']\n",
            "You should probably TRAIN this model on a down-stream task to be able to use it for predictions and inference.\n"
          ]
        },
        {
          "metadata": {
            "tags": null
          },
          "name": "stdout",
          "output_type": "stream",
          "text": [
            "Article 15101:\n",
            "Article: लखनऊ: कानपुर के बिकरू गांव में हुए विकास दुबे कांड के मामले से कथित रूप से जुड़ा एक ऑडियो वायरल हो रहा है। कथित वायरल ऑडियो बिकरू कांड में शहीद CO देवेंद्र मिश्रा और पूर्व DGP एके जैन के बीच का है। दोनों के बीच हुई बातचीत में तत्कालीन CO देवेंद्र मिश्रा ने SSP अनंत देव को लुटेरा बताया है। कथित वायरल ऑडियो में देवेंद्र मिश्रा ने SSP अनंत देव को लेकर कहा कि वह ईट और सरिया व्यापारियों से लूटकर लोहिया पथ पर मकान बनवा रहा है। ऑडियो में देवेंद्र मिश्रा ने कहा कि ADG प्रेम प्रकाश के जाने के बाद अनंत देव ने खूब लूटा, वह अनंत देव को दबाए रहे थे।वायरल ऑडियो में देवेंद्र मिश्रा ने कहा कि अनंत देव ने जमीन के विवादों को निपटवाकर खूब कमाई की है। इतनी ही नहीं, वायरल ऑडिया में देवेंद्र मिश्रा ने अनंत देव पर अपने साले को जमीन खरीदवाने का भी आरोप लगाया। मिश्रा ने कहा कि अनंत देव अपने साले को जमीन की खरीद-फरोख्त करवाता है।बताया जा रहा है कि सीओ देवेन्द्र मिश्रा अपना बिल्हौर सर्किल छोड़ना नहीं चाहते थे और इसी संबंध मे उन्होंने पूर्व डीजीपी एके जैन को फोन किया था। सीओ देवेन्द्र मिश्रा ने नए एसएसपी से अपनी पैरवी करने के लिए पूर्व डीजीपी को फोन किया था।\n",
            "Generated Summary: वायरल ऑडियो में देवेंद्र मिश्रा ने SSP अनंत देव को लेकर कहा कि वह ईट और सरिया व्यापारियों से लूटकर लोहिया पथ पर मकान बनवा रहा है। ऑडियो में देवेंद्र मिश्रा ने कहा कि ADG प्रेम प्रकाश के जाने के बाद अनंत देव ने ख\n",
            "Reference Summary: कानपुर के बिकरू गांव में हुए विकास दुबे कांड के मामले से कथित रूप से जुड़ा एक ऑडियो वायरल हो रहा है। कथित वायरल ऑडियो बिकरू कांड में शहीद CO देवेंद्र मिश्रा और पूर्व DGP एके जैन के बीच का है।\n",
            "Metrics: {'rouge1': 0.0, 'rouge2': 0.0, 'rougeL': 0.0, 'rougeLsum': 0.0, 'bert_score_f1': 53.3492}\n",
            "\n",
            "---\n",
            "\n"
          ]
        },
        {
          "metadata": {
            "tags": null
          },
          "name": "stderr",
          "output_type": "stream",
          "text": [
            "Some weights of RobertaModel were not initialized from the model checkpoint at roberta-large and are newly initialized: ['roberta.pooler.dense.bias', 'roberta.pooler.dense.weight']\n",
            "You should probably TRAIN this model on a down-stream task to be able to use it for predictions and inference.\n"
          ]
        },
        {
          "metadata": {
            "tags": null
          },
          "name": "stdout",
          "output_type": "stream",
          "text": [
            "Article 18269:\n",
            "Article: हैदराबाद: तेलंगाना सरकार ने कोरोना वायरस के प्रसार को रोकने के लिए मंगलवार को राज्य में 12 मई से लॉकडाउन लगाने का फैसला किया है। एक आधिकारिक विज्ञप्ति के अनुसार, राज्य मंत्रिमंडल ने 12 मई (बुधवार) सुबह 10 बजे से अगले 10 दिनों के लिए लॉकडाउन लगाने का फैसला किया है। विज्ञप्ति के अनुसार, ‘‘सुबह छह बजे से सुबह 10 बजे तक सभी दैनिक गतिविधियों में छूट रहेगी।’’ सोमवार को तेलंगाना में कोविड-19 से संक्रमण का आंकड़ा बढ़कर करीब 50 हजार हो गया और 4,826 नए मामले आये, जबकि संक्रमण से 35 और लोगों की मौत होने से मृतक संख्या बढ़कर 2,771 हो गयी। विज्ञप्ति में कहा गया है कि मंत्रिमंडल ने कोविड-19 रोधी टीका खरीदने के लिए वैश्विक कंपनियों को भी आमंत्रित करने का फैसला किया है।तेलंगाना पुलिस राज्य के सीमावर्ती क्षेत्रों में पड़ोसी आंध्र प्रदेश (AP) से आने वाले मरीजों की एंबुलेंस को रोक रही है। अस्पतालों के पास बेड के लिए इंतजार कर रहे मरीजों की कतार से बचने के लिए यह कदम उठाया गया है। पुलिस अधिकारियों ने बताया कि जिन मरीजों को बेड दिए जाने की पुष्टि की गयी है, उन्हें ही सीमा से राज्य में आने की अनुमति दी जा रही है। तेलंगाना के सीमाई जिले के एक वरिष्ठ पुलिस अधिकारी ने बताया, ‘‘हम देख रहे हैं कि बेहतर इलाज की उम्मीद में बहुत सारे मरीज दूसरे राज्यों से आ रहे हैं। हालांकि जिन मरीजों को किसी भी अस्पताल में बेड मिलने की पुष्टि नहीं की गयी है उन्हें आने की इजाजत नहीं दी जा रही। बेड नहीं मिलने वाले लोग अस्पतालों के बाहर इंतजार करते रहते हैं।’’ पुलिस सूत्रों ने बताया कि हर दिन तेलंगाना में सीमा प्रवेश स्थल से विभिन्न अस्पतालों में भर्ती के लिए 500 से 600 एंबुलेंस आती है। आंध्र प्रदेश से लगे सीमाई जिले के एक पुलिस अधिकारी ने कहा कि एंबुलेंस को रोकने के लिए तेलंगाना सरकार से कोई लिखित आदेश नहीं मिला है लेकिन मौखिक निर्देश में ऐसा कहा गया है और अगले कुछ दिनों के लिए यह पाबंदी लागू रहेगी।\n",
            "Generated Summary: तेलंगाना पुलिस राज्य के सीमावर्ती क्षेत्रों में पड़ोसी आंध्र प्रदेश (AP) से आने वाले मरीजों की एंबुलेंस को रोक रही है। अस्पतालों के पास बेड के लिए इंतजार कर रहे मरीजों की कतार से बचने के लिए यह कदम\n",
            "Reference Summary: तेलंगाना सरकार ने कोरोना वायरस के प्रसार को रोकने के लिए मंगलवार को राज्य में 12 मई से लॉकडाउन लगाने का फैसला किया है।\n",
            "Metrics: {'rouge1': 0.0, 'rouge2': 0.0, 'rougeL': 0.0, 'rougeLsum': 0.0, 'bert_score_f1': 56.2946}\n",
            "\n",
            "---\n",
            "\n"
          ]
        },
        {
          "metadata": {
            "tags": null
          },
          "name": "stderr",
          "output_type": "stream",
          "text": [
            "Some weights of RobertaModel were not initialized from the model checkpoint at roberta-large and are newly initialized: ['roberta.pooler.dense.bias', 'roberta.pooler.dense.weight']\n",
            "You should probably TRAIN this model on a down-stream task to be able to use it for predictions and inference.\n"
          ]
        },
        {
          "metadata": {
            "tags": null
          },
          "name": "stdout",
          "output_type": "stream",
          "text": [
            "Article 1038:\n",
            "Article: हम में से ज्यादातर लोग ऑनलाइन ही पेमेंट करते होंगे। पर कभी सोचा है, अगर इंटरनेट नहीं हुआ तो हम कैसे पेमेंट करेंगे। इस कंडीशन में कैश नहीं हुआ तो मतलब हम कोई काम कर ही नहीं सकते।\n",
            "लेकिन अब आप बिना इंटरनेट और फीचर फोन के इस्तेमाल के जरिए पेमेंट कर सकते हैं। इसके लिए आपको अपने रजिस्टर्ड मोबाइल नंबर से कॉल करना होगा. जिसके बाद कुछ ही मिनटों में कॉल के जरिए ही पेमेंट कर पाएंगे।\n",
            "कॉल के जरिए पेमेंट करने की प्रोसेस जानने के लिए देखिए पूरा वीडियो सिर्फ एक मिनट में।\n",
            "Generated Summary: अब आप बिना इंटरनेट और फीचर फोन के इस्तेमाल के जरिए पेमेंट कर सकते हैं। इसके लिए आपको अपने रजिस्टर्ड मोबाइल नंबर से कॉल करना होगा. जिसके बाद कुछ ही मिनटों में कॉल के जरिए ही पेमेंट कर पा\n",
            "Reference Summary: UPI Payments Without Internet; Is it possible to transfer money without an internet connection? नेशनल पेमेंट्स कॉरपोरेशन ऑफ इंडिया ने UPI सर्विस के जरिए  कुछ नंबर जारी किए हैं. जिसके जरिए आप पेमेंट कर सकते हैं\n",
            "Metrics: {'rouge1': 0.0, 'rouge2': 0.0, 'rougeL': 0.0, 'rougeLsum': 0.0, 'bert_score_f1': 52.798}\n",
            "\n",
            "---\n",
            "\n"
          ]
        },
        {
          "metadata": {
            "tags": null
          },
          "name": "stderr",
          "output_type": "stream",
          "text": [
            "Some weights of RobertaModel were not initialized from the model checkpoint at roberta-large and are newly initialized: ['roberta.pooler.dense.bias', 'roberta.pooler.dense.weight']\n",
            "You should probably TRAIN this model on a down-stream task to be able to use it for predictions and inference.\n"
          ]
        },
        {
          "metadata": {
            "tags": null
          },
          "name": "stdout",
          "output_type": "stream",
          "text": [
            "Article 17528:\n",
            "Article: नई दिल्ली/लखनऊ। उत्तर प्रदेश में अबतक कोरोना वायरस के चलते योगी सरकार के दो मंत्रियों का निधन हो गया है। आज रविवार (16 अगस्त) लगभग शाम 4.30 बजे उत्तर प्रदेश के होमगार्ड मंत्री और पूर्व क्रिकेटर चेतन चौहान का गुरुग्राम के मेदांता अस्पताल में इलाज के दौरान किडनी फेल होने के बाद निधन हो गया। चेतन चौहान योगी सरकार के दूसरे कैबिनेट मंत्री हैं, जिनका कोरोना वायरस के कारण निधन हुआ है। इससे पहले कैबिनेट मंत्री कमला रानी का लखनऊ के पीजीआई में कोरोना वायरस के कारण निधन हुआ था।बता दें कि, बीते माह 11 जुलाई को चेतन चौहान की कोरोना रिपोर्ट पॉजीटिव आई थी, जिसके बाद उन्हें अस्पताल में भर्ती कराया गया है। दरअसल, कोविड-19 की वजह से उनकी किडनी में इंफेक्शन बढ़ गया। शनिवार शाम दिक्कत बढ़ने पर उनको लखनऊ पीजीआई से मेदांता गुरुग्राम ले जाया गया। 73 वर्षीय चेतन चौहान की एक दिन पहले ही तबीयत और बिगड़ गई थी, उनकी किडनी फेल हो गई थी। जिसके कारण उन्हें लाइफ सपोर्ट सिस्टम पर रखा गया था। जिस कारण मेदांता अस्पताल में लगभग 4:30 बजे उनका देहांत हो गया।भारतीय क्रिकेट टीम में बल्लेबाज रह चुके चेतन चौहान अमरोहा जिले की नौगांवा विधानसभा से विधायक थे। चेतन चौहान ने भारतीय क्रिकेट टीम के लिए 40 टेस्ट मुकाबले खेले हैं। भारत के लिए 40 टेस्ट खेलने वाले चौहान लंबे समय तक सुनील गावस्कर के सलामी जोड़ीदार रहे। वह दिल्ली और जिला क्रिकेट संघ में भी विभिन्न पदों पर रहे और आस्ट्रेलिया दौरे पर भारतीय टीम के मैनेजर भी थे। इसके अलावा चेतन चौहान ने सात एकदिवसीय मुकाबलों में भी भारत का प्रतिनिधित्व किया है। टेस्ट मुकाबलों मे चेतन चौहान के नाम 2084 रन दर्ज हैं, टेस्ट मैचों में उनका सर्वोच्च स्कोर 97 रन है।क्रिकेट से संन्यास लेकर वह राजनीति में सक्रिय भूमिका निभा रहे थे। चेतन चौहान भारतीय जनता पार्टी (बीजेपी) से लोकसभा सांसद भी रह चुके हैं। 1991 और 1998 के चुनाव में वह बीजेपी के टिकट पर सांसद बने थे। फिलहाल यूपी में योगी सरकार में वह सैनिक कल्याण, होम गार्ड, पीआरडी, नागरिक सुरक्षा विभाग के मंत्री थे। बता दें कि, चेतन चौहान से पहले 2 अगस्त को यूपी की एक अन्य कैबिनेट मंत्री कमला रानी वरुण का भी कोरोना के कारण निधन हो चुका है। वह प्राविधिक शिक्षा मंत्री थीं। इसके अतिरिक्त यूपी के कानून मंत्री बृजेश पाठक, उपेंद्र तिवारी, जेल मंत्री जय प्रताप सिंह, राजेंद्र प्रताप सिंह, धर्म सिंह सैनी, कैबिनेट मंत्री मोती सिंह व महेंद्र सिंह कोरोना से ठीक हो चुके हैं। इसके अलावा बीजेपी के प्रदेश अध्यक्ष स्वतंत्र देव सिंह भी बीते सप्ताह कोरोना पॉजिटिव पाए गए थे।उत्तर प्रदेश में पिछले 24 घंटों में कोविड-19 से 58 और लोगों की मौत हो गई तथा संक्रमण के 4454 नए मामले सामने आए। चिकित्सा एवं स्वास्थ्य विभाग के अपर मुख्य सचिव अमित मोहन प्रसाद ने रविवार को बताया कि पिछले 24 घंटों में प्रदेश में कोविड-19 से 58 और लोगों की मौत के साथ राज्य में इस बीमारी से मरने वालों की संख्या बढ़कर 2449 हो गई है। स्वास्थ्य विभाग द्वारा जारी आंकड़ों के मुताबिक सबसे ज्यादा 11 मौतें लखनऊ में हुई हैं। इसके अलावा मुरादाबाद में पांच, कानपुर नगर में चार तथा वाराणसी और सहारनपुर में तीन-तीन लोगों की मौत हो गई। शाहजहांपुर, प्रयागराज, लखीमपुर खीरी, गोरखपुर, गोंडा, देवरिया, बरेली, अयोध्या और अंबेडकर नगर में दो-दो, तथा आगरा, अमरोहा, औरैया, बागपत, बलिया, बलरामपुर, बुलंदशहर, फतेहपुर, गाजीपुर, जालौन, कौशांबी, ललितपुर, प्रतापगढ़ तथा उन्नाव में कोविड-19 से एक-एक व्यक्ति की मृत्यु हुई है। प्रदेश में पिछले 24 घंटों में संक्रमण के 4454 नए मामले सामने आए हैं। इनमें भी सबसे ज्यादा 814 मामले लखनऊ में सामले आए हैं इसके अलावा कानपुर नगर में 397 गोरखपुर में 385 तथा वाराणसी में 215 नए मामले सामने आए हैं। इस समय प्रदेश में उपचाराधीन मामलों की कुल संख्या 51,537 है। अब तक 100432 लोग पूरी तरह ठीक हो चुके हैं। अपर मुख्य सचिव प्रसाद ने कहा कि कुल संक्रमित लोगों की संख्या के सापेक्ष मृतक दर घटकर 1.58 प्रतिशत हो गयी है और पूरी तरह ठीक हो चुके लोगों का प्रतिशत लगातार बढ़ रहा है। अब यह 65.03 प्रतिशत हो गया है। शनिवार को प्रदेश में 90,914 नमूनों की जांच की गई। अब तक प्रदेश में कुल 37,86,633 नमूनें जांचे जा चुके हैं।\n",
            "Generated Summary: उत्तर प्रदेश में अबतक कोरोना वायरस के चलते योगी सरकार के दो मंत्रियों का निधन हो गया है। आज रविवार (16 अगस्त) लगभग शाम 4.30 बजे उत्तर प्रदेश के होमगार्ड मंत्री और पूर्व क्रिकेटर चेतन चौहान का गुरुग्राम के मेदांता अस्पताल में इलाज\n",
            "Reference Summary: उत्तर प्रदेश में कोरोना वायरस तेजी से पांव पसार रहा है। अबतक कोरोना वायरस के चलते योगी सरकार के दो मंत्रियों का निधन हो गया है।\n",
            "Metrics: {'rouge1': 0.0, 'rouge2': 0.0, 'rougeL': 0.0, 'rougeLsum': 0.0, 'bert_score_f1': 62.2085}\n",
            "\n",
            "---\n",
            "\n"
          ]
        },
        {
          "metadata": {
            "tags": null
          },
          "name": "stderr",
          "output_type": "stream",
          "text": [
            "Some weights of RobertaModel were not initialized from the model checkpoint at roberta-large and are newly initialized: ['roberta.pooler.dense.bias', 'roberta.pooler.dense.weight']\n",
            "You should probably TRAIN this model on a down-stream task to be able to use it for predictions and inference.\n"
          ]
        },
        {
          "metadata": {
            "tags": null
          },
          "name": "stdout",
          "output_type": "stream",
          "text": [
            "Article 695:\n",
            "Article: पीपल प्लीजर। आपने यह शब्द सुना है। इस शब्द का इस्तेमाल ज्यादातर ऑफिस में लोगों को करते देखा भी होगा। हमारे आपके एक-दो रिश्तेदार भी इसी कैटेगरी में आते हैं। क्या है इसका मतलब। कहीं यह कोई बीमारी तो नहीं। इससे कोई फायदा है या नुकसान। यह सब आज जानेंगे जरूरत की खबर में।\n",
            "सवाल: पीपल प्लीजर क्या होता है?\n",
            "जवाब: इस शब्द का इस्तेमाल ज्यादातर उन लोगों के लिए किया जाता है जो लोगों को खुश करने में लगे रहते हैं। पीपल प्लीजर के चक्कर में फंसा व्यक्ति दूसरों को हर समय कंफर्ट देने में लगा रहता है। ऐसा व्यक्ति भले ही खुद खुश न हो, पर उसे इस बात की चिंता लगी रहती है कि दूसरे उससे खुश रहें। इसलिए वह उनकी हां में हां मिलाते हैं।\n",
            "सवाल: तो पीपल प्लीजर यानी हां में हां मिलाने या जी हुजूरी करने में क्या कोई नुकसान होता है?\n",
            "जवाब: शुरू-शुरू में आपको लगेगा कि इसमें बुराई ही क्या है। पर आगे चलकर कई बार आपकी राय या मत सामने वाले से नहीं मिलता है और मजबूरी में आपको उसे खुश करना पड़ता है। इससे आपके वर्क प्लेस पर भी आगे चलकर कई दिक्कतें होने लगती हैं और आपके कॉन्फिडेंस और काबिलियत पर भी असर पड़ सकता है।\n",
            "इससे होने वाले नुकसान नीचे लगे क्रिएटिव से समझते हैं।\n",
            "सवाल: पीपल प्लीजर समस्या क्यों बन जाती है?\n",
            "जवाब: दरअसल में ऐसे लोग शुरुआत में दूसरों की बातों में हां में हां मिलाकर अच्छा फील करते और करवाते हैं। वो लोग अपने कलीग के सुविधा अनुसार काम करने लगते हैं और आगे जाकर ये उनके लिए मेंटल प्रेशर बन जाता है। इसके बाद से ही समस्या शुरू होती है। उनके निजी जीवन में इसका असर पड़ने लगता है।\n",
            "सवाल: व्यक्ति सामने वाले को खुश करने के लिए क्यों हां में हां मिलाता है?\n",
            "जवाब: ये सिचुएशन तब पैदा होती है जब किसी व्यक्ति को लगता है कि लोग उसे पसंद नहीं करेंगे, उससे बात नहीं करेंगे, उसे अपने ग्रुप में शामिल नहीं करेंगे।\n",
            "तो इस डर से पीपल प्लेजर डेवलेप होता है। व्यक्ति सोचता है कि शुरू-शुरू में हां में हां मिला लेते हैं, जिससे हमें भी लोग पूछेंगे।\n",
            "सवाल: लोगों को खुश करने की आदत से कैसे फ्री हों?\n",
            "जवाब: लोगों को खुश करने की आदत को तोड़ना मुश्किल हो सकता है, लेकिन कुछ शॉर्ट टर्म टैक्टिक्स हैं, जिनसे इस आदत से फ्री हो सकते हैं।\n",
            "छोटी शुरुआत करें: शुरुआत करने के लिए, एक समय में एक ही जरूरत को पूरा करने की कोशिश करें।\n",
            "टालना: जब कोई किसी काम का करने को कहे, तो तुरंत हां न बोलें। सोचने के लिए कुछ समय की मांग करें।\n",
            "टाइम लिमिट तय करना: किसी चीज के लिए हाँ कहते समय, शेड्यूल तय करने के लिए किसी और का इंतजार करने के बजाय एक लिमिटेड टाइम डिसाइड करें।\n",
            "न बोलने की प्रैक्टिस करें: किसी काम में आपको फायदा नहीं है या एनर्जी खराब हो रही, तो न कहने की आदत बनाएं। हर काम के लिए हां बोलना बहुत बार मुसीबत में डाल सकता है।\n",
            "लक्ष्य और प्रायोरिटी तय करें: आप अपना समय कहां बिताना चाहते हैं। आप किसकी मदद करना चाहते हैं? आप कौन से लक्ष्य को पूरा करना चाहते हैं, इन बातों पर गौर करें।\n",
            "सारी जिम्मेदारी खुद न लें: हर काम की जिम्मेदारी खुद न लें। टीम में, ऑफिस में और भी कर्मचारी हैं, जिनकी काम पूरा करने की जिम्मेदारी बनती हैं।\n",
            "एक्सपर्ट: \n",
            "डॉ. प्रीतेश गौतम, साइकोलॉजिस्ट, निर्वाण क्लिनिक, भोपाल\n",
            "अब जरूरत की कुछ और खबरें पढ़िए...\n",
            "1. बारिश में घर में नहीं आएंगे कीड़े:काटने पर लगाएं बर्फ और सिरका; नमक-हल्दी से भागेंगी चीटियां\n",
            "2. बारिश में बढ़ता अस्थमा का रिस्क:बच्चों में पहचानें लक्षण, इनहेलर के कम डोज से मिलेगा ज्यादा फायदा\n",
            "\n",
            "Generated Summary: पीपल प्लीजर के चक्कर में फंसा व्यक्ति दूसरों को हर समय कंफर्ट देने में लगा रहता है। ऐसा व्यक्ति भले ही खुद खुश न हो, पर उसे इस बात की चिंता लगी रहती है कि दूसरे उससे खुश रहें। इसलिए वह उनकी\n",
            "Reference Summary: People Pleaser Symptoms Expalined; How to Identify the Signs of People-Pleasing Behavior  जब कोई किसी काम का करने को कहे, तो तुरंत हां न बोलें। सोचने के लिए कुछ समय की मांग करें। किसी काम में आपको फायदा नहीं है या एनर्जी खराब हो रही, तो न कहने की आदत बनाएं। हर काम के लिए हां बोलना बहुत बार मुसीबत में डाल सकता है।\n",
            "Metrics: {'rouge1': 0.0, 'rouge2': 0.0, 'rougeL': 0.0, 'rougeLsum': 0.0, 'bert_score_f1': 48.7316}\n",
            "\n",
            "---\n",
            "\n"
          ]
        },
        {
          "metadata": {
            "tags": null
          },
          "name": "stderr",
          "output_type": "stream",
          "text": [
            "Some weights of RobertaModel were not initialized from the model checkpoint at roberta-large and are newly initialized: ['roberta.pooler.dense.bias', 'roberta.pooler.dense.weight']\n",
            "You should probably TRAIN this model on a down-stream task to be able to use it for predictions and inference.\n"
          ]
        },
        {
          "metadata": {
            "tags": null
          },
          "name": "stdout",
          "output_type": "stream",
          "text": [
            "Article 13550:\n",
            "Article: नई दिल्ली: उत्तराखंड के चमोली जिले में नंदादेवी ग्लेशियर का एक हिस्सा टूटने के बाद केन्द्रीय जल आयोग के अधिकारियों ने कहा कि जोशीमठ में धौली गंगा नदी का जल खतरनाक रूप से उच्च स्तर पर बह रहा है। ग्लेशियर टूटने से हिमस्खलन हुआ और अलकनंदा नदी तंत्र में एक जलप्रलय आयी जिसमें पनबिजली स्टेशन बह गये और 100 से अधिक मजदूर फंस गये, जिनकी मौत होने की आशंका है। केंद्रीय जल आयोग के अध्यक्ष सौमित्र हालदार ने कहा, ‘‘पूर्वाह्र 11 बजे, जोशीमठ में जल स्तर 1,388 मीटर दर्ज किया गया।’’ उन्होंने कहा कि 2013 में उत्तराखंड में बाढ़ के दौरान, जोशीमठ में जल का उच्चतम स्तर (एचएफएल) 1,385.54 मीटर था। केन्द्रीय जल आयोग (सीडब्ल्यूसी) के अधीक्षण अभियंता (ऊपरी और मध्य गंगा विभाग) राजेश कुमार ने बताया कि हालांकि, रविवार की शाम छह बजे तक नदी का जल स्तर उस सामान्य स्तर पर पहुंच गया जो एक दिन पहले दर्ज किया गया था। उन्होंने बताया कि जल स्तर घटने लगा है। जोशीमठ में, छह फरवरी को दोपहर को एक बजे जल स्तर 1,372.58 मीटर था। रविवार को शाम छह बजे, आपदा के बाद, जल स्तर 1,375 मीटर था। नदी के निचले हिस्सों में नंदप्रयाग में, शाम छह बजे जल स्तर 840.40 मीटर था। एक दिन पहले, यह अपराह्र एक बजे 848.30 मीटर था। कुमार ने कहा कि रुद्रप्रयाग, श्रीनगर, देवप्रयाग, ऋषिकेश और देवप्रयाग में स्थिति इसी तरह की थी। उत्तराखंड के चमोली जिले में रविवार को नंदा देवी ग्लेशियर का एक हिस्सा टूट जाने के कारण ऋषिगंगा घाटी में अचानक विकराल बाढ़ आ गई। इससे वहां दो पनबिजली परियोजनाओं में काम कर रहे कम से कम सात लोगों की मौत हो गई और 125 से ज्यादा मजदूर लापता हैं। प्रभावित क्षेत्र का जायजा लेकर लौटे मुख्यमंत्री त्रिवेंद्र सिंह रावत ने देहरादून में शाम को संवाददाताओं को बताया कि अभी तक आपदा में सात व्यक्तियों के शव बरामद हुए हैं।\n",
            "Generated Summary: उत्तराखंड के चमोली जिले में नंदादेवी ग्लेशियर का एक हिस्सा टूटने के बाद केन्द्रीय जल आयोग के अधिकारियों ने कहा कि जोशीमठ में धौली गंगा नदी का जल खतरनाक रूप से उच्च स्तर पर बह रहा है।\n",
            "Reference Summary: उत्तराखंड के चमोली जिले में नंदादेवी ग्लेशियर का एक हिस्सा टूटने के बाद केन्द्रीय जल आयोग के अधिकारियों ने कहा कि जोशीमठ में धौली गंगा नदी का जल खतरनाक रूप से उच्च स्तर पर बह रहा है।\n",
            "Metrics: {'rouge1': 0.0, 'rouge2': 0.0, 'rougeL': 0.0, 'rougeLsum': 0.0, 'bert_score_f1': 100.0}\n",
            "\n",
            "---\n",
            "\n"
          ]
        },
        {
          "metadata": {
            "tags": null
          },
          "name": "stderr",
          "output_type": "stream",
          "text": [
            "Some weights of RobertaModel were not initialized from the model checkpoint at roberta-large and are newly initialized: ['roberta.pooler.dense.bias', 'roberta.pooler.dense.weight']\n",
            "You should probably TRAIN this model on a down-stream task to be able to use it for predictions and inference.\n"
          ]
        },
        {
          "metadata": {
            "tags": null
          },
          "name": "stdout",
          "output_type": "stream",
          "text": [
            "Article 11715:\n",
            "Article: नई दिल्ली: पंजाब कांग्रेस के अध्यक्ष नवजोत सिंह सिद्धू आज दिल्ली के मुख्यमंत्री अरविंद केजरीवाल के घर के बाहर धरने पर बैठ गए। बता दें कि दिल्ली के गेस्ट टीचर्स स्थायी नौकरी की मांग को लेकर सिविल लाइन्स में केजरीवाल के घर के बाहर धरना प्रदर्शन कर रहे हैं। इनके समर्थन में सिद्धू भी पहुंच गए हैं। इस दौरान सिद्धू ने केजरीवाल के खिलाफ जमकर नारेबाजी की। उन्होंने नारा लगाया, 'ऊंची दुकान फीके पकवान।' इस प्रदर्शन में ऑल इंडिया गेस्ट टीचर्स एसोसिएशन नवजोत सिंह सिद्धू का साथ दे रही है।सिद्धू का कहना है कि दिल्ली में शिक्षा मॉडल दरअसल कॉन्ट्रैक्ट मॉडल है। यहां के स्कूल गेस्ट टीचर्स के जरिये चलते हैं। दिल्ली में 22 हजार गेस्ट टीचर्स हैं जो डेली वेज पर चलते हैं, हर 15 दिन पर इनका कॉन्ट्रैक्ट रिन्यू होता है। उन्होंने कहा कि अरविंद केजरीवाल कहां है? दिल्ली में 22 हजार गेस्ट टीचर्स से बंधुआ मजदूरों की तरह काम कराया जा रहा है उनसे दिहाड़ी मजदूरी करवाई जा रही है। नीति बनाकर विकास करना चाहिए। अरविंद केजरीवाल ने मायाजाल बिछा रखा है, मैं इनका रेत का महल तोड़कर जाऊंगा।आपको बता दें कि सिद्धू आज दिल्ली में गेस्ट टीचर्स के प्रदर्शन में पहुंचे हैं तो केजरीवाल 27 नवंबर को मोहाली गए थे। वहां वो पंजाब के टीचर्स के विरोध प्रदर्शन में शामिल हुए थे। सिद्धू ने कहा कि अरविंद केजरीवाल पंजाब में आकर टीचर्स को लालच दे रहे हैं लेकिन वो पहले ये बताएं कि दिल्ली के गेस्ट टीचर्स के लिए उन्होंने क्या किया है?\n",
            "Generated Summary: पंजाब कांग्रेस के अध्यक्ष नवजोत सिंह सिद्धू आज दिल्ली के मुख्यमंत्री अरविंद केजरीवाल के घर के बाहर धरने पर बैठ गए। बता दें कि दिल्ली के गेस्ट टीचर्स स्थायी नौकरी की मांग को लेकर सिविल लाइन्स में केजरीवाल के घर के बाहर\n",
            "Reference Summary: दिल्ली के गेस्ट टीचर्स स्थायी नौकरी की मांग को लेकर सिविल लाइन्स में केजरीवाल के घर के बाहर धरना प्रदर्शन कर रहे हैं। इनके समर्थन में नवोजत सिंह सिद्धू भी पहुंच गए।\n",
            "Metrics: {'rouge1': 0.0, 'rouge2': 0.0, 'rougeL': 0.0, 'rougeLsum': 0.0, 'bert_score_f1': 62.6597}\n",
            "\n",
            "---\n",
            "\n"
          ]
        },
        {
          "metadata": {
            "tags": null
          },
          "name": "stderr",
          "output_type": "stream",
          "text": [
            "Some weights of RobertaModel were not initialized from the model checkpoint at roberta-large and are newly initialized: ['roberta.pooler.dense.bias', 'roberta.pooler.dense.weight']\n",
            "You should probably TRAIN this model on a down-stream task to be able to use it for predictions and inference.\n"
          ]
        },
        {
          "metadata": {
            "tags": null
          },
          "name": "stdout",
          "output_type": "stream",
          "text": [
            "Article 16712:\n",
            "Article: रांची: बिहार के पूर्व मुख्यमंत्री एवं न्यायिक हिरासत में रांची के रिम्स में इलाज करवा रहे राष्ट्रीय जनता दल के प्रमुख लालू प्रसाद यादव के बड़े बेटे तेज प्रताप यादव को अपने यहां ठहराने पर एक होटल के मालिक और मैनेजर मुश्किल में फंस गए हैं। दरअसल, राजधानी के एक बड़े होटल के प्रबंधन के खिलाफ तेज प्रताप को कोविड-काल में नियमों के विरुद्ध ठहराने पर FIR दर्ज की गई है। रांची के नगर पुलिस अधीक्षक सौरभ कुमार ने बताया कि बिहार के पूर्व मंत्री तेज प्रताप यादव अपने कुछ सहयोगियों के साथ बुधवार को ‘कैपिटल रेजिडेन्सी’ होटल में ठहरे थे।होटल में तेज प्रताप यादव ने किया था आरामतेज प्रताप यादव के होटल में ठहरने को लेकर इसाके के क्षेत्राधिकारी ने पुलिस में शिकायत की थी। इसके आधार पर आपदा प्रबन्धन अधिनियम की संगत धाराओं में होटल के मालिक और प्रबंधक के खिलाफ शुक्रवार को प्राथमिकी दर्ज की गई। रिपोर्ट्स के मुताबिक, तेज प्रताप अपने पिता से मिलने बुधवार की रात सड़क मार्ग से रांची पहुंचे थे। रात्रि में उन्होंने यहां मुख्य मार्ग स्थित ‘कैपिटल रेजिडेन्सी’ होटल के कमरा संख्या 507 में आराम किया और गुरुवार को वह इसी होटल से अपने पिता से मिलने रिम्स गए थे।अभी झारखंड में होटल खोलने की इजाजत नहींइस बारे में जानकारी देते हुए पुलिस अधीक्षक ने बताया कि लॉकडाउन में अभी राज्य में होटल, लॉज या धर्मशालाओं को खोलने की अनुमति नहीं दी गई है। ऐसे में तेज प्रताप को नियम विरुद्ध होटल में ठहराने के मामले में यह प्राथमिकी दर्ज की गयी है और मामले की जांच की जा रही है। गौरतलब है कि लालू यादव के तलब करने पर गुरुवार केा तेज प्रताप यहां उनसे मिले थे जहां लालू ने बिहार चुनाव से पहले उन्हें संभलकर बयानबाजी करने की हिदायत दी थी।\n",
            "Generated Summary: बिहार के पूर्व मुख्यमंत्री एवं न्यायिक हिरासत में रांची के रिम्स में इलाज करवा रहे राष्ट्रीय जनता दल के प्रमुख लालू प्रसाद यादव के बड़े बेटे तेज प्रताप यादव को अपने यहां ठहराने पर एक होटल के मालिक और मैनेजर मुश्किल\n",
            "Reference Summary: बिहार के पूर्व मुख्यमंत्री एवं न्यायिक हिरासत में रांची के रिम्स में इलाज करवा रहे राष्ट्रीय जनता दल के प्रमुख लालू प्रसाद यादव के बड़े बेटे तेज प्रताप यादव को अपने यहां ठहराने पर एक होटल के मालिक और मैनेजर मुश्किल में फंस गए हैं।\n",
            "Metrics: {'rouge1': 0.0, 'rouge2': 0.0, 'rougeL': 0.0, 'rougeLsum': 0.0, 'bert_score_f1': 94.9902}\n",
            "\n",
            "---\n",
            "\n"
          ]
        },
        {
          "metadata": {
            "tags": null
          },
          "name": "stderr",
          "output_type": "stream",
          "text": [
            "Some weights of RobertaModel were not initialized from the model checkpoint at roberta-large and are newly initialized: ['roberta.pooler.dense.bias', 'roberta.pooler.dense.weight']\n",
            "You should probably TRAIN this model on a down-stream task to be able to use it for predictions and inference.\n"
          ]
        },
        {
          "metadata": {
            "tags": null
          },
          "name": "stdout",
          "output_type": "stream",
          "text": [
            "Article 10336:\n",
            "Article: नोएडा (उप्र): जिले के थाना बीटा-दो क्षेत्र के अल्फा-2 सेक्टर में रहने वाले एक बुजुर्ग दम्पत्ति की बृहस्पतिवार देर रात उनके ही घर में कथित तौर पर हत्या कर दी गई। घटना की जानकारी मिलते ही पुलिस आयुक्त आलोक सिंह, अपर पुलिस आयुक्त कानून व्यवस्था लव कुमार सहित कई आला अधिकारी मौके पर पहुंचे। मृतक दम्पत्ति को मध्यप्रदेश के पूर्व मुख्यमंत्री का रिश्तेदार बताया जा रहा है।पुलिस आयुक्त आलोक सिंह ने बताया कि थाना बीटा-दो क्षेत्र के अल्फा-2 सेक्टर के आई-24 नंबर मकान में रहने वाले नरेन्द्र नाथ (74) तथा उनकी पत्नी सुनीता नाथ (70) की उन्हीं के घर में हत्या कर दी गई। सुनीता का शव उनके घर के प्रथम तल पर मिला, जबकि नरेन्द्र नाथ का शव उनके घर के भूमिगत तल में बने एक स्टोर में मिला। उनके मुंह पर टेप लगी थी और हाथ बंधे थे।सुमननाथ भारतीय योग संस्थान में योग प्रशिक्षिका थी। घर की अलमारियां खुली पड़ी थी और सामान बिखरा हुआ थी। पुलिस मामले की छानबीन कर रही है। पुलिस के आला अधिकारियों का कहना है कि मृतक दंपति के मार्केट में काफी पैसे दे दिए हुए हैं, जिसके चलते इस हत्या की वारदात को अंजाम दिया जा सकता है। हालांकि घर के अंदर सामान पूरी तरीके से बिखरा पड़ा हुआ है। लूटपाट के दौरान विरोध करने पर हत्या करने की आशंका जताई जा रही है।पुलिस आयुक्त ने बताया कि जांच के दौरान पता चला कि देर रात उनके घर पर कुछ लोग आए थे और वहां पार्टी हुई थी। पुलिस मामले की जांच कर रही है और जल्द इस संबंध में जानकारी दी जाएगी। इस बीच, मृतक के बेटे रोहित नाथ ने पत्रकारों को बताया कि उनके तथा उनके परिवार की किसी से कोई दुश्मनी नहीं है।\n",
            "Generated Summary: जिले के थाना बीटा-दो क्षेत्र के अल्फा-2 सेक्टर में रहने वाले एक बुजुर्ग दम्पत्ति की बृहस्पतिवार देर रात उनके ही घर में कथित तौर पर हत्या कर दी गई। घटना की जानकारी मिलते ही पुलिस आयुक्त आलोक सिंह, अपर पुलिस\n",
            "Reference Summary: ग्रेटर नोएडा के थाना बीटा-दो क्षेत्र के अल्फा-2 सेक्टर में रहने वाले एक बुजुर्ग दम्पत्ति की बृहस्पतिवार देर रात उनके ही घर में कथित तौर पर हत्या कर दी गई।\n",
            "Metrics: {'rouge1': 100.0, 'rouge2': 0.0, 'rougeL': 100.0, 'rougeLsum': 100.0, 'bert_score_f1': 80.4711}\n",
            "\n",
            "---\n",
            "\n"
          ]
        },
        {
          "metadata": {
            "tags": null
          },
          "name": "stderr",
          "output_type": "stream",
          "text": [
            "Some weights of RobertaModel were not initialized from the model checkpoint at roberta-large and are newly initialized: ['roberta.pooler.dense.bias', 'roberta.pooler.dense.weight']\n",
            "You should probably TRAIN this model on a down-stream task to be able to use it for predictions and inference.\n"
          ]
        },
        {
          "metadata": {
            "tags": null
          },
          "name": "stdout",
          "output_type": "stream",
          "text": [
            "Article 6274:\n",
            "Article: महाराष्ट्र भूषण पुरस्कार समारोह का आयोजन नवी मुंबई में था। तेज धूप में बैठने की वजह से गर्मी ने 11 लोगों की जान ले ली। 120 के करीब लोगों को हॉस्पिटल में भर्ती होना पड़ा।\n",
            "300 लोगों ने डिहाइड्रेशन, हाई ब्लड प्रेशर और थकावट की भी शिकायत की। उस समय वहां का तापमान 38 डिग्री सेल्सियस था।\n",
            "बढ़ती गर्मी अगर हम ट्रैवल कर रहे हैं, ऐसी ही किसी रैली या फंक्शन का हिस्सा बनने वाले हैं, या फिर किसी की शादी-समारोह में जा रहे हैं तो खुद का ख्याल कैसे रखें इस पर आज बात करेंगे।\n",
            "जरूरत की खबर के एक्सपर्ट हैं-\n",
            "सवाल: तेज गर्मी से सबसे ज्यादा कौन से लोग प्रभावित होते हैं?\n",
            "जवाब: \n",
            "सवाल: कुछ लोगों का कहना है कि महाराष्ट्र का केस हीट स्ट्रोक का नहीं हीट एग्जॉशन का है , दोनों एक है या अलग?\n",
            "जवाब: हीट स्ट्रोक या सन स्‍ट्रोक को आम भाषा में 'लू लगना' कहते हैं। ये तब होता है, जब शरीर अपने तापमान को कंट्रोल नहीं कर पाता। इसमें शरीर का तापमान तेजी से बढ़ता है और कम नहीं होता।\n",
            "जब किसी को लू लगती है तो शरीर का स्वेटिंग मैकेनिज्म फेल हो जाता है। 10 से 15 मिनट के भीतर शरीर का तापमान 106°F या इससे अधिक हो सकता है। समय रहते इसका इलाज नहीं किया तो मौत या ऑर्गन फेल्योर हो सकता है।\n",
            "वहीं हीट एग्जॉशन का सीधा मतलब है शरीर से पानी और नमक दोनों पसीना निकलना जाना। सरल भाषा में कहे तो इस सिचुएशन में शरीर से काफी पसीना निकल जाता है। यह सीरियस प्रॉब्लम है, इसमें इमरजेंसी मेडिकल ट्रीटमेंट की जरूरत पड़ती है।\n",
            "महाराष्ट्र का केस हीट स्ट्रोक का नहीं हीट एग्जॉशन का ही है।\n",
            "हीट एग्जॉशन की ये वजहें हो सकती हैं…\n",
            "सवाल: हीट एग्जॉशन के लक्षण क्या हो सकते हैं?\n",
            "जवाब: \n",
            "सवाल: तेज गर्मी से किडनी पेशेंट को क्या प्रॉब्लम हो सकती है?\n",
            "जवाब: गर्मी में किडनी पेशेंट अगर बहुत कम पानी पीते हैं, तो डिहाइड्रेशन हो सकता है। अगर बहुत ज्यादा पानी या लिक्विड पीते हैं तो फ्लूइड ओवर लोड हो सकता है। इसलिए शरीर में पानी की मात्रा को बैलेंस रखना चाहिए।\n",
            "किडनी पेशेंट अपने डॉक्टर से इस बारे में कंसल्ट जरूर कर लें कि कितना पानी पीना चाहिए और कब पीना चाहिए।\n",
            "इसलिए जब तक बहुत जरूरी न हो धूप में न निकलें। अगर धूप में जा रहे हैं तब अपने साथ स्प्रे बॉटल में नींबू पानी रखें। ताकि मुंह सूखने और प्यास लगने पर पानी की कुछ बूंदे आराम दें सकें।\n",
            "सवाल: ब्लड प्रेशर के मरीजों को गर्मी क्यों ज्यादा प्रभावित करती हैं?\n",
            "जवाब: हाई और लो ब्लड प्रेशर दोनों के ही पेशेंट ज्यादा देर धूप में न रहें।\n",
            "गर्मी में बहुत अधिक समय तक तेज धूप में रहने पर ब्लड प्रेशर यानी बीपी कम हो जाता है। ऐसे में अगर लो बीपी के पेशेंट ज्यादा देर धूप में रहेंगे तो उनके शरीर में तेजी से पानी की कमी होगी, उनकी जान तक को खतरा हो सकता है।\n",
            "दूसरी ओर अगर हाई बीपी पेशेंट हैं तो उनकी दवाएं रेगुलर चलती हैं। इस वजह से उन्हें बार-बार यूरीन आता है और बॉडी से पानी जल्दी निकल जाता है। धूप में रहने पर सही मात्रा में बॉडी को पानी न मिले तब डिहाइड्रेशन होने लगती है। यह सिचुएशन रिस्की हो सकती है।\n",
            "सवाल: गर्मी की वजह से 4-5 घंटे लोग खुले मैदान खड़े है फंक्शन देखने के लिए, ऐसे में डिहाइड्रेशन यानी पानी की कमी होना लाजमी था, डिहाइड्रेशन के लक्षण क्या होते हैं?\n",
            "जवाब: नीचे दिए गए कुछ सिम्टम्स डिहाइड्रेशन के लक्षण हो सकते हैं, जैसे-\n",
            "सवाल: हम किसी ऐसी जगह पर जा रहे हैं जहां गर्मी के मौसम में खुले में ही 4-5 घंटे बिताना है, ऐसे में पानी की कमी न हो इसके लिए क्या सावधानी रखनी चाहिए?\n",
            "जवाब: अगर आप कहीं भी दोपहर से समय निकल रहे हैं। जैसे- एग्जामिनेशन पेपर देने, सफर पर, किसी धर्म स्थल पर मंदिर में दर्शन करने, राशन लेने या किसी इमरजेंसी में तो धूप में बिना तैयारियों के न निकलें। गर्मी या लू में बेफिक्र घूमने वालों को अलर्ट रहने की जरूरत है।\n",
            "सवाल: हीट एग्जॉशन की वजह से पानी कमी हुई और लोगों की जान गई, क्या ऐसा हो सकता है कि गर्मी की वजह से कुछ लोगों को हार्ट अटैक आया हो?\n",
            "जवाब: ये कन्फर्म तो नहीं बताया जा सकता है। पर फंक्शन में बहुत देर तक धूप में बैठने से लोगों के शरीर में पानी की कमी हुई होगी।\n",
            "पानी की कमी से खून गाढ़ा हो जाता है, जिससे बीपी बढ़ जाता है। यही कारण है कि हार्ट अटैक पड़ने के चांसेस बढ़ जाते हैं।\n",
            "गर्मी में शरीर का टेम्प्रेचर ज्यादा बढ़ने से हार्ट को अपना काम करने में दिक्कत आने लगती है। जिन्हें पहले से ही हार्ट रिलेटेड समस्या है, उन्हें बहुत ध्यान देना चाहिए।\n",
            "सवाल: तेज गर्मी से खुद को कैसे बचाएं?\n",
            "जवाब: \n",
            "अगर किसी को गर्मी लगी है तो तुरंत नीचे बताए तरीके अपनाएं…\n",
            "जरूरत की खबर के कुछ और आर्टिकल भी पढ़ें…\n",
            "1.तरबूज-खरबूज में 90% पानी, किडनी की करेगा सफाई:सही तरह नहीं खाएंगे तो होंगे बीमार, फल खाने का नियम जानें; कौन नहीं खा सकता फल\n",
            "2.फर्जी वसीयत बनाने पर 10 साल की जेल:लाश से अंगूठे का निशान लेकर अपने नाम की थी प्रॉपर्टी; वसीयत बनाना क्यों है जरूरी\n",
            "\n",
            "Generated Summary: महाराष्ट्र भूषण पुरस्कार समारोह का आयोजन नवी मुंबई में था। तेज धूप में बैठने की वजह से गर्मी ने 11 लोगों की जान ले ली। 120 के करीब लोगों को हॉस्पिटल में भर्ती होना पड़ा। 300 लोगों ने डिहाइड्रेशन, हाई ब्ल\n",
            "Reference Summary: Maharashtra Heatwave Deaths; All About  What Heatstroke Is, Its Causes, And Symptoms, And Get Important Tips To Prevent It. हीट-स्ट्रोक किसे कहते हैं, इसका कारण क्या है? तेज गर्मी से सबसे ज्यादा कौन से लोग प्रभावित होते हैं? तेज गर्मी से किडनी पेशेंट को क्या प्रॉब्लम हो सकती है?\n",
            "Metrics: {'rouge1': 0.0, 'rouge2': 0.0, 'rougeL': 0.0, 'rougeLsum': 0.0, 'bert_score_f1': 45.7447}\n",
            "\n",
            "---\n",
            "\n"
          ]
        },
        {
          "metadata": {
            "tags": null
          },
          "name": "stderr",
          "output_type": "stream",
          "text": [
            "Some weights of RobertaModel were not initialized from the model checkpoint at roberta-large and are newly initialized: ['roberta.pooler.dense.bias', 'roberta.pooler.dense.weight']\n",
            "You should probably TRAIN this model on a down-stream task to be able to use it for predictions and inference.\n"
          ]
        },
        {
          "metadata": {
            "tags": null
          },
          "name": "stdout",
          "output_type": "stream",
          "text": [
            "Article 17159:\n",
            "Article: नई दिल्ली: पाकिस्तान के प्रधानमंत्री इमरान खान और देश के सेना प्रमुख जनरल कमर बाजवा के बीच शुक्रवार को अनिर्धारित मुलाकात के बाद बढ़ते राजनीतिक संकट के बीच पाकिस्तान अटकलों से घिर गया है। इमरान खान, जनरल बाजवा और आईएसआई प्रमुख लेफ्टिनेंट जनरल नदीम अंजुम के बीच एक घंटे तक चली बैठक 'अप्रत्याशित' थी। हालांकि, पाकिस्तानी सेना ने मीडिया को बताया कि उन्होंने 'आपसी राष्ट्रीय, क्षेत्रीय और अंतर्राष्ट्रीय हित के मामलों' पर चर्चा की।सूत्रों का कहना है कि बैठक अविश्वास मत के बारे में थी, जिसे इमरान खान 'अवैध' साधनों का उपयोग करके विफल करने की कोशिश कर रहे हैं। सूत्र ने कहा, \"खान ने जहां बाजवा से उनकी 'तटस्थता' की शिकायत की, वहीं सेना प्रमुख ने उन्हें संविधान का पालन करने और जिम्मेदारी के साथ काम करने की सलाह दी।\"राजनीतिक तटस्थता का दावा करने के लिए इमरान खान के सेना प्रमुख जनरल बाजवा पर पलटवार करने के बाद दोनों के बीच यह पहली मुलाकात थी। खान ने खींझकर कहा, \"सिर्फ जानवर तटस्थ रहते हैं।\"खान ने सार्वजनिक रूप से यह भी कहा था कि बाजवा ने उनसे विपक्षी नेता फजल उर रहमान को 'डीजल' नहीं कहने के लिए कहा था, लेकिन खान ने अपने समर्थकों से कहा कि उन्होंने बाजवा से कहा, पूरा देश रहमान को 'डीजल' कहता है।पाकिस्तानी मीडिया में अटकलें थीं कि हार का सामना करने के बाद इमरान खान देश में आपातकाल लगाने की कोशिश कर सकते हैं। वह जनरल बाजवा की जगह लेने की कोशिश भी कर सकते हैं।डेली जंग के इरशाद भट्टी कहते हैं, \"यह खान के लिए आत्मघाती होगा। अगर वह असेम्ब्ली में बहुमत का समर्थन खो देते हैं, तो वह आपातकाल घोषित करने की अपनी शक्ति भी खो देंगे। अगर वह बाजवा पर हमला करते हैं, तो उन्हें तुरंत हटा दिया जाएगा। अपनी खातिर खान को लोकतांत्रिक और जिम्मेदारी से काम करना चाहिए।\"उन्होंने कहा कि हो सकता है, सरकार अल्पमत में आ जाने पर बाजवा इमरान खान को स्वेच्छा से पद छोड़ने के लिए कहें। लेकिन इमरान खान सत्ता में बने रहने पर अड़े हैं। उनके कुछ सहयोगियों और असंतुष्ट सदस्यों ने एक बार फिर प्रस्ताव दिया कि पीएम इमरान खान को सरकार को बचाने के लिए किसी और को प्रधानमंत्री बनने का मौका देना चाहिए। लेकिन नाराज इमरान खान ने इस 'माइनस-फॉर्मूला' प्रस्ताव को खारिज कर दिया। डेली जंग के मुताबिक, खान ने उन पर विपक्ष द्वारा खरीदे जाने का आरोप लगाया।उर्दू दैनिक डेली जंग ने खान के हवाले से कहा, \"अगर आप जाना चाहते हैं, तो आगे बढ़ें, लेकिन याद रखें, मैं आपके खिलाफ ऐसे कदम उठाऊंगा कि कोई पीठ में छुरा घोंपने की हिम्मत नहीं करेगा।\"इमरान खान की सत्तारूढ़ पाकिस्तान तहरीक-ए-इंसाफ (पीटीआई) पार्टी के असंतुष्ट नेताओं ने उन पर विद्रोहियों को मतदान से रोकने के लिए राज्य पुलिस और कानून लागू करने वाली एजेंसियों का इस्तेमाल करने का आरोप लगाया है। खान ने नेशनल असेम्बली के स्पीकर से विद्रोही सदस्यों को अयोग्य घोषित करने और उनके वोटों को अस्वीकार करने के लिए भी कहा है, लेकिन पाकिस्तानी विशेषज्ञों के अनुसार, स्पीकर वोट देने के बाद ही विद्रोहियों के खिलाफ कार्रवाई कर सकता है, उससे पहले नहीं।लेकिन खान 'समझदारी' वाली सलाह सुनने के मूड में नहीं हैं। उन्होंने अपने समर्थकों को इस्लामाबाद के डी-चौक पर इकट्ठा होकर मतदान के दिन संसद को घेरने और सांसदों को डराने के लिए बुलाया है, जिसने सैन्य प्रतिष्ठान को ओआईसी की बैठक से पहले इस्लामाबाद को 'सुरक्षित' करने के लिए मजबूर किया है।जनरल बाजवा ने अपने जनरलों को ओआईसी विदेश मंत्रियों की परिषद की बैठक और पाकिस्तान दिवस परेड के शांतिपूर्ण संचालन को सुनिश्चित करने के लिए व्यापक सुरक्षा उपाय करने का निर्देश दिया है। ओआईसी विदेश मंत्रियों की परिषद की बैठक 22-23 मार्च को इस्लामाबाद में होने वाली है, जबकि पाकिस्तान दिवस परेड 23 मार्च को होने वाली है।\n",
            "Generated Summary: Pakistan के प्रधानमंत्री इमरान खान और देश के सेना प्रमुख जनरल कमर बाजवा के बीच शुक्रवार को अनिर्धारित मुलाकात के बाद बढ़ते राजनीतिक संकट के बीच पाकिस्तान अटकलों से घिर गया है। इमरान खान, जनरल बाजवा और आईएसआई प्रमुख ले\n",
            "Reference Summary: सूत्रों का कहना है कि बैठक अविश्वास मत के बारे में थी, जिसे इमरान खान 'अवैध' साधनों का उपयोग करके विफल करने की कोशिश कर रहे हैं। सूत्र ने कहा, \"खान ने जहां बाजवा से उनकी 'तटस्थता' की शिकायत की, वहीं सेना प्रमुख ने उन्हें संविधान का पालन करने और जिम्मेदारी के साथ काम करने की सलाह दी।\"\n",
            "Metrics: {'rouge1': 0.0, 'rouge2': 0.0, 'rougeL': 0.0, 'rougeLsum': 0.0, 'bert_score_f1': 51.0223}\n",
            "\n",
            "---\n",
            "\n"
          ]
        },
        {
          "metadata": {
            "tags": null
          },
          "name": "stderr",
          "output_type": "stream",
          "text": [
            "Some weights of RobertaModel were not initialized from the model checkpoint at roberta-large and are newly initialized: ['roberta.pooler.dense.bias', 'roberta.pooler.dense.weight']\n",
            "You should probably TRAIN this model on a down-stream task to be able to use it for predictions and inference.\n"
          ]
        },
        {
          "metadata": {
            "tags": null
          },
          "name": "stdout",
          "output_type": "stream",
          "text": [
            "Article 18008:\n",
            "Article: नई दिल्ली: भारत और चीन के बीच लगातार जारी गतिरोध के बीच किसी भी स्थिती से निपटने को लेकर भारत LAC पर अपनी सुरक्षा को लेकर बहुत गंभीर है। भारत सीमा पर लगातार अपनी स्थिती को मजूबत करता जा रहा है। ऐसे में स्थिती का जायजा लेने के लिए चीफ ऑफ डिफेंस स्टाफ जनरल बिपिन रावत लद्दाख सेक्टर के दौरे पर हैं। जनरल बिपिन रावत को लेह स्थित 'फायर एंड फ्यूरी कॉर्प्स' (Fire and  Fury Corps) के शीर्ष कमांडरों द्वारा वहां तैनात सुरक्षाबलों की तैयारी और वर्तमान स्थिती की जानकारी दी जाएगी। पढ़ें- भारतीय रेलवे ने 10, 11 और 13 जनवरी को कई ट्रेनों को किया रद्द, कई के बदले रूट, देखें लिस्टपढ़ें- रेलवे ने माघ और कुंभ मेले के लिए किया कई स्पेशल ट्रेनों का ऐलान, देखें लिस्टइसके अलावा DRDO ने भारतीय जवानों के लिए ऐसी तकनीक बना दी है जिससे चीन सीमा पर भारतीय जवानों को मदद मिलेगी। दरअसल लद्दाख सहित सियाचीन और कश्मीर में तापमान -20 से -50 तक चला जाता है। इन इलाकों में तैनात भारतीय सेना के जवानों के लिए DRDO ने एक नई हीटिंग डिवाइस डवलप की है। Defence Institute of Physiology & Allied Sciences (DRDO) के डायरेक्टर डॉक्टर राजीव वार्ष्णेय ने बताया कि DRDO ने पूर्वी लद्दाख, सियाचिन और ऊंचाई वाले क्षेत्रों में तैनात भारतीय सेना के लिए 'हिम तपक' (Him Tapak) नामक नई space heating devices बनाई है। यह सुनिश्चित करेगा कि backblast और carbon monoxide poisoning के कारण जवानों की मौत न हो।पढ़ें- Bird Flu: चिकन के गिरे दाम, अब इतने का मिल रहा मुर्गा, देखें नई कीमतपढ़ें- मोदी सरकार का एक और बड़ा कदम, इससे होगा बड़ा फायदाइसके अलावा LAC पर भारतीय सेना कितनी मुस्तेद है इसका इस बात से अंदाजा लगाया जा सकता है कि हाल ही में पूर्वी लद्दाख में भारतीय सेना ने एक चीनी सैनिक को भारतीय इलाके में अवैध रुप से घुसने के बाद हिरासत में ले लिया था। हालांकि बाद में उसे पूछताछ के बाद दौबारा चीन को सौंप दिया गया। चीन की जनमुक्ति सेना (पीएलए) के सैनिक को शुक्रवार सुबह पूर्वी लद्दाख के पैंगोंग सो के दक्षिणी किनारे वाले क्षेत्र में पकड़ा गया था। चीनी सैनिक वास्तविक नियंत्रण रेखा (एलएसी) के भारतीय हिस्से में आ गया था। सूत्रों ने बताया था कि पूर्वी लद्दाख में सुबह 10 बजकर 10 मिनट पर चुशूल-मोल्दो सीमा स्थल पर सैनिक को चीन को सौंप दिया गया। पिछले आठ महीने से ज्यादा समय से पूर्वी लद्दाख में भारत और चीन की सेना के बीच गतिरोध चल रहा है। पढ़ें- किसान महापंचायत कार्यक्रम स्थल पर हिंसा, खट्टर ने कहा- किसानों को उकसाने के पीछे कांग्रेस और कम्यूनिस्ट पार्टीपढ़ें- कोवैक्सीन की डोज के बाद व्यक्ति की मौत, कंपनी ने दी सफाईपैंगोंग झील वाले क्षेत्र में दोनों पक्षों के बीच झड़प के बाद पिछले साल मई में यह गतिरोध शुरू हुआ था। सेना ने शनिवार को एक बयान में कहा था ‘‘पीएलए का सैनिक एलएसी पार कर अवैध रूप से घुसा था। इस क्षेत्र में तैनात भारतीय सैनिकों ने उसे हिरासत में ले लिया था। चीनी सैनिकों के अभूतपूर्व जमावड़े और तैनाती के चलते पिछले वर्ष तनाव उत्पन्न होने के बाद दोनों ओर से सैनिक एलएसी पर तैनात किये गए हैं।’’\n",
            "Generated Summary: भारत और चीन के बीच लगातार जारी गतिरोध के बीच किसी भी स्थिती से निपटने को लेकर भारत LAC पर अपनी सुरक्षा को लेकर बहुत गंभीर है। भारत सीमा पर लगातार अपनी स्थिती को मजूबत करता जा रहा है। ऐसे में स्थिती का\n",
            "Reference Summary: भारत और चीन के बीच लगातार जारी गतिरोध के बीच किसी भी स्थिती से निपटने को लेकर भारत LAC पर अपनी सुरक्षा को लेकर बहुत गंभीर है। भारत सीमा पर लगातार अपनी स्थिती को मजूबत करता जा रहा है।\n",
            "Metrics: {'rouge1': 100.0, 'rouge2': 0.0, 'rougeL': 100.0, 'rougeLsum': 100.0, 'bert_score_f1': 95.6428}\n",
            "\n",
            "---\n",
            "\n"
          ]
        },
        {
          "metadata": {
            "tags": null
          },
          "name": "stderr",
          "output_type": "stream",
          "text": [
            "Some weights of RobertaModel were not initialized from the model checkpoint at roberta-large and are newly initialized: ['roberta.pooler.dense.bias', 'roberta.pooler.dense.weight']\n",
            "You should probably TRAIN this model on a down-stream task to be able to use it for predictions and inference.\n"
          ]
        },
        {
          "metadata": {
            "tags": null
          },
          "name": "stdout",
          "output_type": "stream",
          "text": [
            "Article 4264:\n",
            "Article: भारतीय कुश्ती संघ (WFI) के पूर्व अध्यक्ष बृजभूषण शरण सिंह की गिरफ्तारी की मांग को लेकर पहलवानों ने मंगलवार को इंडिया गेट से मार्च निकाला। इसमें लोग तिरंगा लेकर शामिल हुए। पहलवानों ने आरोप लगाया कि पुलिस ने इंडिया गेट को खाली करा दिया, ताकि लोग उनके समर्थन में हिस्सा न ले सकें। बृजभूषण की गिरफ्तारी की मांग को लेकर पहलवानों के जंतर-मंतर पर चल रहे धरने को आज ही एक महीना पूरा हुआ है।\n",
            "पहलवानों के मार्च की तस्वीरें...\n",
            "बृजभूषण ने कहा- मामला गुड टच- बैड टच का, बजरंग की कुश्ती खत्म हो चुकी\n",
            "वहीं, बृजभूषण ने कहा, 'मैं उनसे मिलने कभी नहीं जाऊंगा। पहले वे मेरे पैर छूते थे और अब धरना देते हैं। वे षड्यंत्र के शिकार हैं। यह मामला यौन शोषण का नहीं, बल्कि गुड टच-बैड टच का है। बजरंग पूनिया की कुश्ती तो खत्म हो चुकी है।' जवाब में विनेश फोगाट ने कहा कि उनके भी घर में मां-बेटियां और महिलाएं हैं।\n",
            "बृजभूषण की रेसलर्स के खिलाफ बड़ी बातें...\n",
            "1. FIR ही सच तो जांच एजेंसी बंद करें, सबूत-गवाह नहीं चाहिए\n",
            "एक टीवी चैनल से बातचीत में बृजभूषण ने कहा- क्या FIR को फाइनल मान लिया जाएगा, क्या जांच एजेंसियां अपना काम बंद कर दें। क्या उसी को चार्जशीट मान लिया जाए। क्या सबूत-गवाह बयान की कोई आवश्यकता नहीं है। तो बंद कर दीजिए थानों को, बंद कर दीजिए जांच एजेंसियों को। कोई समाचार पत्र छापे और फांसी पर लटका दें।\n",
            "2. पहलवान षड्यंत्र के शिकार, मामला निपटने पर उन्हीं से गुस्सा होंगे\n",
            "पहलवानों से मिलने के सवाल पर बृजभूषण ने कहा- हम क्यों जाएं जंतर-मंतर पर। जब इन्होंने कुछ नहीं छोड़ा। मेरा क्या सम्मान किया है। 15 दिन पहले तक पैर छूते थे। मेरी तारीफ करते थे, मेरे घर आते थे, मैं उनके घर जाता था। मैं फिर कहना चाहता हूं, ये षड्यंत्र के शिकार हैं। जब यह सारी कार्रवाई पूरी होगी, तब मेरे ऊपर ये कम गुस्सा करेंगे। जिनके जाल में यह फंसे हैं उनके ऊपर ज्यादा गुस्सा करेंगे।\n",
            "3. CBI से जांच करा लें, मैं हर टेस्ट को तैयार\n",
            "जब जांच दिल्ली पुलिस के पास विचाराधीन है, तो अब दिल्ली पुलिस ही फैसला करेगी। मैंने 15 दिन पहले कहा था कि अभी समय है, आप जिस तरह से दिल्ली पुलिस के बारे में बात करते हैं, लगता है कि आप दिल्ली पुलिस पर सवाल उठाएंगे। तो अभी से आप कपिल सिब्बल के पास चले जाएं और उनसे कहे कि इसकी CBI जांच करवाएं या अन्य किसी से जांच करवा लें, क्योंकि फिर जब दिल्ली पुलिस की रिपोर्ट आएगी, आप फिर बोलेंगे। बृजभूषण ने कहा- मुझे हर जांच पर भरोसा है, हर टेस्ट करवाने के लिए मैं तैयार हूं।\n",
            "यूपी में कहा- मुकदमा छुआछूत का है\n",
            "बृजभूषण ने मंगलवार को यूपी के मऊ में महाराणा प्रताप की जयंती समारोह में कार्यक्रम में कहा, 'ये मुकदमा छुआछूत का है। सही छुआ या गलत छुआ। छुआछूत का रोग लेकर देवियां (महिला पहलवान) आ गई हैं। जो पहलवान प्रदर्शन कर रहे हैं, वे आज तक नहीं बता पाए कि कब हुआ, कहां हुआ, क्या- क्या हुआ, कैसे- कैसे हुआ।'\n",
            "उन्होंने कहा, 'कल खाप पंचायत हुई थी, उसमें यह तय हुआ कि सांसद जी का नार्को टेस्ट करा लिया जाए। शाम को मैंने बोल दिया कि मेरा नार्को करा लिया जाए, साथ ही आरोप लगाने वाली खिलाड़ियों का भी नार्को टेस्ट कराया जाए। ताकि षड्यंत्रकारियों का पता लगाया जा सके। ये जो मुकदमा है, वह बैड टच और गुड टच का है। ये छुआछूत का मुकदमा है।\n",
            "पहलवानों ने नार्को टेस्ट की चुनौती भी स्वीकारी\n",
            "बृजभूषण की नार्को टेस्ट की चुनौती को रेसलर्स ने सोमवार को स्वीकार कर लिया था। बजरंग पूनिया ने कहा कि हम सभी किसी भी टेस्ट के लिए तैयार हैं, लेकिन इसे सुप्रीम कोर्ट की निगरानी में कराया जाए। नार्को टेस्ट लाइव हो ताकि सवाल और जवाबों को पूरा देश सुने।\n",
            "अब पढ़िए धरने में अब तक क्या हुआ...\n",
            "\n",
            "Generated Summary: भारतीय कुश्ती संघ (WFI) के पूर्व अध्यक्ष बृजभूषण शरण सिंह की गिरफ्तारी की मांग को लेकर पहलवानों ने मंगलवार को इंडिया गेट से मार्च निकाला। इसमें लोग तिरंगा लेकर शामिल हुए। पहलवानों ने आरोप लगाया कि पुलिस ने इं\n",
            "Reference Summary: भारतीय कुश्ती संघ के अध्यक्ष बृजभूषण शरण सिंह की गिरफ्तारी की मांग को लेकर जंतर-मंतर पर देश के शीर्ष पहलवानों के धरने का आज 1 माह पूरा हो गया है। अभी तक शोषण के आरोपी BJP सांसद बृजभूषण शरण सिंह की गिरफ्तारी नहीं हुई है।\n",
            "Metrics: {'rouge1': 0.0, 'rouge2': 0.0, 'rougeL': 0.0, 'rougeLsum': 0.0, 'bert_score_f1': 61.6272}\n",
            "\n",
            "---\n",
            "\n"
          ]
        },
        {
          "metadata": {
            "tags": null
          },
          "name": "stderr",
          "output_type": "stream",
          "text": [
            "Some weights of RobertaModel were not initialized from the model checkpoint at roberta-large and are newly initialized: ['roberta.pooler.dense.bias', 'roberta.pooler.dense.weight']\n",
            "You should probably TRAIN this model on a down-stream task to be able to use it for predictions and inference.\n"
          ]
        },
        {
          "metadata": {
            "tags": null
          },
          "name": "stdout",
          "output_type": "stream",
          "text": [
            "Article 20211:\n",
            "Article: नई दिल्ली: संयुक्त किसान मोर्चा (SKM) ने उत्तर प्रदेश के लखीमपुर खीरी में हुई हिंसा के सिलसिले में केंद्रीय मंत्री अजय मिश्रा की बर्खास्तगी और गिरफ्तारी की मांग को लेकर तथा किसानों के आंदोलन के 11 महीने पूरे होने पर 26 अक्टूबर को देशव्यापी विरोध प्रदर्शन करने का शुक्रवार को आह्वान किया। किसान संघों के एक संयुक्त मंच एसकेएम ने बयान में केंद्र सरकार से तीन कृषि कानूनों को निरस्त करने, किसानों और सभी कृषि उपज के लिए न्यूनतम समर्थन मूल्य (एमएसपी) की कानूनी गारंटी, और अजय मिश्रा की बर्खास्तगी तथा गिरफ्तार किये जाने संबंधी उनकी ‘‘वैध मांगों’’ को पूरा करने की मांग की। केंद्र सरकार द्वारा पारित तीन कृषि कानूनों का विरोध करने के लिए पंजाब, हरियाणा और उत्तर प्रदेश के किसान पिछले साल 26 नवंबर से दिल्ली की सीमाओं- सिंघू, टीकरी और गाजीपुर बार्डर पर डेरा डाले हुए हैं। बयान में कहा गया है, ‘‘एसकेएम ने अब सभी घटकों से 26 अक्टूबर को देशव्यापी विरोध के साथ, अजय मिश्रा टेनी की बर्खास्तगी और गिरफ्तारी की मांग को तेज करने का आह्वान किया है।’’ बयान में कहा गया है, ‘‘उस दिन पूर्वान्ह्र 11 बजे से दोपहर दो बजे के बीच धरना और मार्च होगा।’’ गौरतलब है कि तीन अक्टूबर को हुई हिंसा में मारे गए आठ लोगों में से चार किसान थे, जिन्हें भारतीय जनता पार्टी (भाजपा) कार्यकर्ताओं को ले जा रहे एक वाहन ने कथित तौर पर टक्कर मार दी थी। अन्य मृतकों में भाजपा के दो कार्यकर्ता और उनका चालक शामिल हैं। किसानों ने दावा किया है कि अजय मिश्रा का बेटा आशीष एक वाहन में था। हालांकि, इस आरोप का आशीष और उनके पिता ने खंडन किया है। आशीष मिश्रा को इस मामले में नौ अक्टूबर को गिरफ्तार किया गया था। एसकेएम ने लखनऊ में होने वाली अपनी महापंचायत को स्थगित करने का भी फैसला किया, जो पहले 26 अक्टूबर से 22 नवंबर तक होने वाली थी। बयान में, मोर्चा ने यह भी स्पष्ट किया कि भारतीय सिख संगठन (जसबीर सिंह विर्क के नेतृत्व वाला) कभी भी एसकेएम का हिस्सा नहीं रहा है और न ही रहेगा। एसकेएम ने इस महीने की शुरुआत में सिंघू बॉर्डर पर कथित बेअदबी और हत्या मामले की उच्चतम न्यायालय के मौजूदा न्यायाधीश से गहन जांच की मांग दोहराई। दिल्ली-हरियाणा सीमा के पास कुंडली में एक किसान विरोध स्थल पर हाल में एक व्यक्ति का हाथ कटा हुआ पाया गया था जबकि उसे बैरिकेड से बांध दिया गया था।\n",
            "Generated Summary: संयुक्त किसान मोर्चा (SKM) ने उत्तर प्रदेश के लखीमपुर खीरी में हुई हिंसा के सिलसिले में केंद्रीय मंत्री अजय मिश्रा की बर्खास्तगी और गिरफ्तारी की मांग को लेकर तथा किसानों के आंदोलन के 11 महीने पूरे होने पर\n",
            "Reference Summary: केंद्र सरकार द्वारा पारित तीन कृषि कानूनों का विरोध करने के लिए पंजाब, हरियाणा और उत्तर प्रदेश के किसान पिछले साल 26 नवंबर से दिल्ली की सीमाओं- सिंघू, टीकरी और गाजीपुर बार्डर पर डेरा डाले हुए हैं।\n",
            "Metrics: {'rouge1': 0.0, 'rouge2': 0.0, 'rougeL': 0.0, 'rougeLsum': 0.0, 'bert_score_f1': 56.9226}\n",
            "\n",
            "---\n",
            "\n"
          ]
        },
        {
          "metadata": {
            "tags": null
          },
          "name": "stderr",
          "output_type": "stream",
          "text": [
            "Some weights of RobertaModel were not initialized from the model checkpoint at roberta-large and are newly initialized: ['roberta.pooler.dense.bias', 'roberta.pooler.dense.weight']\n",
            "You should probably TRAIN this model on a down-stream task to be able to use it for predictions and inference.\n"
          ]
        },
        {
          "metadata": {
            "tags": null
          },
          "name": "stdout",
          "output_type": "stream",
          "text": [
            "Article 6934:\n",
            "Article: नाम वीरेन्द्र प्रताप सिंह उर्फ काला राणा। पेशा कुख्यात गैंगस्टर लॉरेंस गैंग के सिंडिकेट का मेंबर बनकर हत्या, लूट, फिरौती और रंगदारी मांगना। कुछ साल के भीतर ही जुर्म की दुनिया में अपने नाम का सिक्का चलाने वाला काला राणा अब घुटनों के बल आ गया है।\n",
            "काला राणा की एक VIDEO सामने आई है, जिसमें वह न केवल अपने जुर्म की दास्तान सुना रहा है, बल्कि खुद को गंदा बताते हुए माफी भी मांग रहा है। बताया जा रहा है कि गैंगस्टरों की कमर तोड़ने के साथ ही उनके खौफ को खत्म करने के लिए वीडियो सामने आना पुलिस की प्लानिंग है। हालांकि यह वीडियो कहां और कब का है, इसके बारे में अभी पता नहीं चल पाया है।\n",
            "वीडियो में काला राणा ने क्या कहा...\n",
            "वीडियो में गैंगस्टर काला राणा कान पकड़कर उठक-बैठक लगा रहा है। वीडियो में वह बोलता है कि मेरा नाम वीरेन्द्र प्रताप उर्फ काला राणा है। मैंने 2012 में क्राइम की शुरुआत की। कई बेगुनाहों का मर्डर और कई लोगों से फिरौती वसूली। मुझे माफ कर दिया जाए। मैं गंदा आदमी हूं। काला राणा के कबूलनामे का यह वीडियो अब तेजी से वायरल हो रहा है।\n",
            "काला राणा के गैंगस्टर बनने की सिलसिलेवार कहानी पढ़िए\n",
            "2013 में लूट का पहला मामला दर्ज\n",
            "हरियाणा के यमुनानगर की कॉलोनी लक्ष्मी गार्डन में जन्मा वीरेन्द्र प्रताप सिंह उर्फ काला राणा की 2012 से पहले तक पहचान शक्ल-सूरत से हैंडसम और पूरी तरह स्टाइलिस्ट नौजवान के रूप में थी। मगर, इसी साल वह कुछ ऐसे लोगों की संगत में पड़ गया, जिनका अपराध से छोटा-मोटा नाता रहा।\n",
            "काला राणा ने इसी संगत में पड़ने के बाद अपराध की दुनिया में नाम कमाने का सपना बुनना शुरू कर दिया। पहली बार उसका नाम छोटे-मोटे लड़ाई-झगड़े में आया, लेकिन 2013 में उसने अपने अपराध की बड़ी शुरुआत एक गाड़ी लूटने से की और फिर पुलिस ने उसे गिरफ्तार कर जेल भेज दिया।\n",
            "जेल में संपत नेहरा से हुई दोस्ती\n",
            "लूट के केस में जेल जाने के बाद उसकी मुलाकात उसी जेल में बंद बॉलीवुड स्टार सलमान खान की हत्या की साजिश रचने वाले लॉरेंस के गुर्गे संपत नेहरा से हुई। दोनों में अच्छी खासी दोस्ती हो गई और फिर संपत नेहरा ने उसे लॉरेंस व काला जठेड़ी गैंग में शामिल करा दिया।\n",
            "इसके बाद जेल से बाहर आने पर काला राणा संपत नेहरा और लॉरेंस के शार्प शूटर्स के साथ मिलकर वारदातें करने लगा। उसने अपने गृह जिले यमुनानगर के अलावा आसपास के जिलों में कई वारदातें की। धीरे-धीरे उसका नाम पुलिस रिकॉर्ड में ऊपर आना शुरू हो गया।\n",
            "पूर्व MLA के भाई पर चलाई गोलियां\n",
            "काला राणा पर अकेले यमुनानगर में ही 19 संगीन मामले दर्ज है। इसके अलावा राजस्थान, पंजाब, हरियाणा, दिल्ली और चंडीगढ़ में काफी मामले दर्ज है। उसका नाम 2017 में उस वक्त सबसे ज्यादा सुर्खियों में आया जब उसने पूर्व MLA दिलबाग सिंह के भाई राजा पर संपत नेहरा के साथ मिलकर गोलियां चला दी।\n",
            "काफी समय तक पुलिस की पकड़ में नहीं आने पर उस पर 1 लाख रुपए का इनाम रखा गया। इस बीच वह फरारी के दौरान ही दिल्ली NCR के खूंखार गैंगस्टर काला जठेड़ी का खासमखास बन गया। हालांकि काला जठेड़ी भी उस वक्त तक फरारी काट रहा था, लेकिन पुलिस को काला जठेड़ी और काला राणा के बीच के गठजोड़ का पता नहीं चल पाया था।\n",
            "फर्जी पासपोर्ट से थाईलैंड भागा\n",
            "इधर, दिल्ली पुलिस ने 7 लाख रुपए के इनामी बदमाश काला जठेड़ी को यूपी के सहारनपुर से गिरफ्तार कर लिया। इसके बाद हुई पूछताछ में काला राणा का नाम सामने आया। तब तक तिहाड़ जेल में बने लॉरेंस गैंग के कंट्रोल रूम से पूरा सिंडिकेट चलता था।\n",
            "लेकिन 2020 में दिल्ली पुलिस की स्पेशल सेल ने राजू बसौदी नाम के गैंगस्टर को थाईलैंड से गिरफ्तार किया तो काला राणा के बारे में पता चला कि वह भी थाईलैंड में ही रह रहा है। वह लॉरेंस सिंडिकेट को थाईलैंड से ही ऑपरेट कर रहा है।\n",
            "वहीं दूसरी तरफ वर्ष 2021 में दिल्ली के जीटीबी अस्पताल में पुलिकर्मियों पर गोलियों की बौछार कर गैंगस्टर कुलदीप उर्फ फज्जा को कस्टडी से छुड़ाने की साजिश में काला राणा का नाम सामने आने के बाद दिल्ली पुलिस की स्पेशल सेल से लेकर क्राइम ब्रांच ने राणा पर शिकंजा कसना शुरू किया।\n",
            "वह किसी हरनाम सिंह व्यक्ति के नाम पर फर्जी पासपोर्ट बनवाकर देश से फरार हुआ था। इसके बाद काला राणा का रेड कार्नर जारी हुआ और उसे थाईलैंड से गिरफ्तार कर लिया गया। काला राणा पर सबसे ज्यादा मामले यमुनानगर, अंबाला, कुरूक्षेत्र, करनाल के अलावा साथ लगते पंजाब के जिलों में दर्ज है।\n",
            "लॉरेंस ग्रुप में गोल्डी संग नाम\n",
            "देश के कई राज्यों में खौफ का दूसरा नाम लॉरेंस पिछले साल 29 मई 2022 को उस वक्त सबसे ज्यादा सुर्खियों में आया जब उसने पंजाबी सिंगर सिद्धू मुसेवाला का मानसा में कत्ल करा दिया। बताया जाता है कि लॉरेंस के पास 600 से ज्यादा शार्पशूटर्स की फौज है। इसमें गोल्डी बराड़, काला जठेड़ी, संपत नेहरा के बाद विरेन्द्र प्रताप सिंह उर्फ काला राणा टॉप-5 की सूची में शामिल है। वहीं दीपक बॉक्सर, दीपक टीनू, कपिल पंडित, दीपक मुंडी, मोनू राणा, अंकित सेरसा, कुलदीप उर्फ जोकर जैसे अनगिनत शार्प शूटर्स शामिल है। लॉरेंस ने बॉलीवुड स्टार सलमान खान को भी मारने की धमकी दी हुई है।\n",
            "ये खबर भी पढ़ें...\n",
            "लॉरेंस को धमकाने वाले बवाना के पास 300 शूटर:‘दिल्ली का दाऊद’ नाम से मशहूर नीरज को D-कंपनी ने दी थी छोटा राजन की सुपारी\n",
            "दिल्ली-NCR में ‘दिल्ली का दाऊद’ नाम से मशहूर नीरज बवाना ने मूसेवाला के मर्डर का जिम्मा लेने वाले गैंगस्टर लॉरेंस को 2 दिन में बदला लेने की धमकी दी है। मीडिया रिपोर्ट्स के अनुसार, नीरज बवाना का नाम अंडरवर्ल्ड डॉन दाऊद इब्राहिम की D कंपनी से भी जुड़ चुका है। दिल्ली की तिहाड़ जेल में बंद अंडरवर्ल्ड डॉन छोटा राजन के कत्ल के लिए D कंपनी ने नीरज बवाना से ही संपर्क कर सुपारी दी थी (पूरी खबर पढ़ें)\n",
            "Generated Summary: दिल्ली-NCR में ‘दिल्ली का दाऊद’ नाम से मशहूर नीरज बवाना ने मूसेवाला के मर्डर का जिम्मा लेने वाले गैंगस्टर लॉरेंस को 2 दिन में बदला लेने की धमकी दी है। मीडिया रिपोर्ट्स के अनुसार, नीरज बवाना का नाम अंडर\n",
            "Reference Summary: Gangster Kala Rana Of Lawrence Bishnoi Gang Video Footage; Follow Punjab Amritsar Latest News, Videos and BJP News On Dainik Bhaskar  कुख्यात गैंगस्टर लॉरेंस गैंग के सिंडिकेट का मेंबर बनकर हत्या, लूट, फिरौती और रंगदारी मांगना। दरअसल, कुछ साल के भीतर ही जुर्म की दुनिया में अपने नाम का सिक्का चलाने वाला काला राणा अब घुटनों के बल आ गया है।\n",
            "Metrics: {'rouge1': 0.0, 'rouge2': 0.0, 'rougeL': 0.0, 'rougeLsum': 0.0, 'bert_score_f1': 48.2009}\n",
            "\n",
            "---\n",
            "\n"
          ]
        },
        {
          "metadata": {
            "tags": null
          },
          "name": "stderr",
          "output_type": "stream",
          "text": [
            "Some weights of RobertaModel were not initialized from the model checkpoint at roberta-large and are newly initialized: ['roberta.pooler.dense.bias', 'roberta.pooler.dense.weight']\n",
            "You should probably TRAIN this model on a down-stream task to be able to use it for predictions and inference.\n"
          ]
        },
        {
          "metadata": {
            "tags": null
          },
          "name": "stdout",
          "output_type": "stream",
          "text": [
            "Article 14083:\n",
            "Article: नयी दिल्ली: कैब सेवा देने वाले ओला एवं उबर के चालक कोविड-19 के मद्देनजर कर्ज की किस्त भुगतान पर लगाई गई रोक को बढ़ाए जाने और भाड़े में इजाफा किए जाने की मांग को लेकर दिल्ली-एनसीआर में मंगलवार को हड़ताल पर चले गए। ‘सर्वोदय ड्राइवर्स एसोसिएशन ऑफ डेल्ही’ के अध्यक्ष कमलजीत सिंह गिल ने बताया कि हड़ताल कर रहे सभी कैब चालक आज दिन में मंडी हाउस पर जमा होंगे और कर्ज की किस्त भुगतान पर लगाई गई रोक बढ़ाने तथा भाड़े में इजाफा की मांग करेंगे। गिल ने कहा, ‘‘हड़ताल की वजह से ग्रेटर नोएडा, द्वारका और उत्तम नगर सहित दिल्ली-एनसीआर के कई इलाकों में कैब की कमी रही।’’ कैब की हड़ताल की वजह से आईआईअी-जेईई मेन परीक्षा देने जा रहे छात्रों और अन्य लोगों को काफी परेशानी का सामना करना पड़ा। गिल ने कहा, \"लॉकडाउन के कारण गंभीर आर्थिक संकट की वजह से चालक मासिक किस्त अदा करने में असमर्थ हैं। ऋण की किस्त की अदायगी पर लगाई गई रोक आज खत्म हो गई और बैंक पहले से ही हम पर दबाव बना रहे हैं। चालकों को डर है कि किस्त नहीं भरने पर बैंक उनकी गाड़ी ले जाएंगे।\" चालकों के हड़ताल पर जाने की घोषणा को लेकर ओला और उबर की ओर से तत्काल कोई प्रतिक्रिया नहीं मिली है। हड़ताल से बड़ी संख्या में लोगों को दिक्कत हो सकती है, क्योंकि मेट्रो सेवा पहले से ही बंद है और सरकारी बसें सामाजिक दूरी के नियम के मद्देनजर कम क्षमता के साथ चल रही हैं।\n",
            "Generated Summary: उत्तरोदय ड्राइवर्स एसोसिएशन ऑफ डेल्ही’ के अध्यक्ष कमलजीत सिंह गिल ने बताया कि हड़ताल कर रहे सभी कैब चालक आज दिन में मंडी हाउस पर जमा होंगे और कर्ज की किस्त भुगतान पर लगाई गई रोक बढ़ाने तथा भाड़े\n",
            "Reference Summary: कैब सेवा देने वाले ओला एवं उबर के चालक कोविड-19 के मद्देनजर कर्ज की किस्त भुगतान पर लगाई गई रोक को बढ़ाए जाने और भाड़े में इजाफा किए जाने की मांग को लेकर दिल्ली-एनसीआर में मंगलवार को हड़ताल पर चले गए।\n",
            "Metrics: {'rouge1': 0.0, 'rouge2': 0.0, 'rougeL': 0.0, 'rougeLsum': 0.0, 'bert_score_f1': 61.8241}\n",
            "\n",
            "---\n",
            "\n"
          ]
        },
        {
          "metadata": {
            "tags": null
          },
          "name": "stderr",
          "output_type": "stream",
          "text": [
            "Some weights of RobertaModel were not initialized from the model checkpoint at roberta-large and are newly initialized: ['roberta.pooler.dense.bias', 'roberta.pooler.dense.weight']\n",
            "You should probably TRAIN this model on a down-stream task to be able to use it for predictions and inference.\n"
          ]
        },
        {
          "metadata": {
            "tags": null
          },
          "name": "stdout",
          "output_type": "stream",
          "text": [
            "Article 20619:\n",
            "Article: लखनऊ. भारतीय जनता पार्टी के पीलीभीत से सांसद वरुण गांधी ने लखीमपुर खीरी के तिकोनिया क्षेत्र में हुई हिंसा में किसानों समेत आठ लोगों की मौत के मामले में उत्तर प्रदेश के मुख्‍यमंत्री योगी आदित्‍यनाथ को पत्र लिखकर घटना के संदिग्धों को तत्काल चिह्नित कर हत्या का मुकदमा दर्ज करने और उच्चतम न्यायालय की निगरानी में केंद्रीय अन्‍वेषण ब्‍यूरो (सीबीआई) से जांच कराने की मांग की है।घटनास्‍थल खीरी जिले के पड़ोसी संसदीय क्षेत्र पीलीभीत के सांसद वरुण गांधी ने सोमवार को मुख्यमंत्री को लिखा अपना पत्र ट्विटर पर साझा किया जिसमें उन्होंने घटना की सीबीआई जांच की मांग के साथ ही पीड़ित परिवारों को एक-एक करोड़ रुपये मुआवजा दिये जाने की भी सिफारिश की है।वरुण गांधी ने अपने पत्र में मुख्यमंत्री से निवेदन करते हुए लिखा, “इस घटना में संलिप्त तमाम संदिग्धों को तत्काल चिह्नित कर आईपीसी की धारा 302 (हत्या) के तहत हत्या का मुकदमा कायम कर सख्त से सख्त कार्यवाही की जाए। इस विषय में आदरणीय सर्वोच्‍च न्‍यायालय की निगरानी में सीबीआई द्वारा समयबद्ध सीमा में जांच करवाकर दोषियों को सजा दिलवाना ज्यादा उपयुक्त होगा।”आगे उन्होंने लिखा, “इसके अलावा पीड़ित परिवारों को एक-एक करोड़ रुपये का मुआवजा भी दिया जाए। कृपया यह भी सुनिश्चित करने का कष्ट करें कि भविष्य में किसानों के साथ इस प्रकार का कोई भी अन्याय या ज्यादती न हो।”किसानों के हक में लगातार मुख्यमंत्री से पत्राचार कर रहे भाजपा सांसद ने खीरी की घटना के दूसरे ही दिन लिखे गये अपने पत्र में साफ कहा है, ''तीन अक्टूबर को खीरी में विरोध प्रदर्शन कर रहे किसानों को निर्दयता पूर्वक कुचलने की जो हृदय विदारक घटना हुई है, उससे सारे देश के नागरिकों में एक पीड़ा और रोष है।''गांधी ने कहा, “इस घटना से एक दिन पहले ही देश ने अहिंसा के पुजारी महात्मा गांधी जी की जयंती मनाई थी। अगले ही दिन लखीमपुर खीरी में हमारे अन्नदाताओं की जिस घटनाक्रम में हत्या की गई वह किसी भी सभ्य समाज में अक्षम्य है।” उन्होंने पत्र में लिखा, “आंदोलनकारी किसान भाई हमारे अपने नागरिक हैं। यदि कुछ मुद्दों को लेकर किसान भाई पीड़ित हैं और अपने लोकतांत्रिक अधिकारों के तहत विरोध-प्रदर्शन कर रहे हैं तो हमें उनके साथ बड़े ही संयम एवं धैर्य के साथ बर्ताव करना चाहिए। हमें हर हाल में अपने किसानों के साथ केवल और केवल गांधीवादी व लोकतांत्रिक तरीके से कानून के दायरे में ही संवेदनशीलता के साथ पेश आना चाहिए।'' उन्होंने आगे लिखा, '' इस घटना में शहीद हुए किसान भाइयों को श्रद्धांजलि देते हुए उनके परिजनों के प्रति अपनी शोक संवेदना प्रकट करता हूं।''गौरतलब है कि लखीमपुर खीरी के सांसद और केंद्रीय गृह राज्य मंत्री अजय कुमार मिश्र टेनी के विरोध में रविवार को वहां के आंदोलित किसानों ने उनके (टेनी) पैतृक गांव बनबीरपुर में आयोजित एक समारोह में उप मुख्‍यमंत्री केशव प्रसाद मौर्य के जाने का विरोध किया और इसके बाद भड़की हिंसा में चार किसानों समेत आठ लोगों की मौत हो गई। किसानों का आरोप है कि केंद्रीय गृह राज्य मंत्री मिश्रा का बेटा जिस एसयूवी में सवार था, उसी ने किसानों को कुचल दिया। हालांकि मिश्रा ने आरोप को खारिज किया है।\n",
            "Generated Summary: भारतीय जनता पार्टी के पीलीभीत से सांसद वरुण गांधी ने लखीमपुर खीरी के तिकोनिया क्षेत्र में हुई हिंसा में किसानों समेत आठ लोगों की मौत के मामले में उत्तर प्रदेश के मुख् यमंत्री योगी आदित् यनाथ को पत्र लिखकर घटना\n",
            "Reference Summary: घटनास्‍थल खीरी जिले के पड़ोसी संसदीय क्षेत्र पीलीभीत के सांसद वरुण गांधी ने सोमवार को मुख्यमंत्री को लिखा अपना पत्र ट्विटर पर साझा किया जिसमें उन्होंने घटना की सीबीआई जांच की मांग के साथ ही पीड़ित परिवारों को एक-एक करोड़ रुपये मुआवजा दिये जाने की भी सिफारिश की है।\n",
            "Metrics: {'rouge1': 0.0, 'rouge2': 0.0, 'rougeL': 0.0, 'rougeLsum': 0.0, 'bert_score_f1': 61.5782}\n",
            "\n",
            "---\n",
            "\n"
          ]
        },
        {
          "metadata": {
            "tags": null
          },
          "name": "stderr",
          "output_type": "stream",
          "text": [
            "Some weights of RobertaModel were not initialized from the model checkpoint at roberta-large and are newly initialized: ['roberta.pooler.dense.bias', 'roberta.pooler.dense.weight']\n",
            "You should probably TRAIN this model on a down-stream task to be able to use it for predictions and inference.\n"
          ]
        },
        {
          "metadata": {
            "tags": null
          },
          "name": "stdout",
          "output_type": "stream",
          "text": [
            "Article 149:\n",
            "Article: हरियाणा के कैथल में एक महिला खिलाड़ी के साथ उसके कोच ने दुष्कर्म करने का प्रयास किया है। शिकायत के बाद महिला थाना में कोच के खिलाफ विभिन्न धाराओं में केस दर्ज कर पुलिस ने छानबीन शुरू कर दी है। अभी कोच की गिरफ्तारी नहीं हुई है।\n",
            "कोच ने घर बुलाया था\n",
            "कैथल की 19 वर्षीय खिलाड़ी ने पुलिस को दी शिकायत में बताया कि 3 मई कोच दीपक ने उसे अपने घर बुलाया। इसके बाद उसने कोल्ड ड्रिंक में नशीला पदार्थ मिला कर पिला दिया। फिर कोच ने उससे छेड़छाड़ की है। उसी समय 2 अन्य खिलाड़ी अचानक कोच के घर आ गई थी। इस कारण कोच उससे रेप नहीं कर पाया और उसका बचाव हो गया।\n",
            "खेल से बाहर करने की धमकी\n",
            "महिला खिलाड़ी का कहना है कि कोच ने उसे धमकी दी कि इस बारे में किसी को बताया तो उसे खेल से बाहर कर दिया जाएगा। फिर उसने इस बारे किसी को नहीं बताया। उसे डर था कि कहीं उसका खेल व उसका करियर तबाह न हो जाए। इसके बाद भी कोच उस पर बुरी नजर रखे रहा। कोच ने उसे खेल में आगे ले जाने का लालच दे उसके साथ छेड़खानी की और रेप का प्रयास भी किया।\n",
            "8 खिलाड़ियों ने की एसपी से मुलाकात\n",
            "बता दें कि कोच के व्यवहार को लेकर खिलड़ियों ने इसकी जानकारी महिला कोच को दी। इसके बाद महिला कोच व महिला खिलाड़ी एसपी अभिषेक जोरवाल से मिलने पहुंची थी। खिलाड़ियों ने एसपी को पूरी बात बताई और कोच के खिलाफ एक शिकायत भी दी। इसी के बाद महिला थाना में कोच के खिलाफ केस दर्ज किया गया है।\n",
            "केस दर्ज, गिरफ्तारी नहीं\n",
            "महिला थाना प्रभारी इंस्पेक्टर गीता देवी ने बताया कि आरोपी कोच दीपक कुमार के खिलाफ केस दर्ज कर लिया है। पुलिस ने जांच शुरू कर दी है। जल्द ही कोच को गिरफ्तार किया जाएगा।\n",
            "Generated Summary: महिला खिलाड़ी का कहना है कि कोच ने उसे धमकी दी कि इस बारे में किसी को बताया तो उसे खेल से बाहर कर दिया जाएगा। फिर उसने इस बारे किसी को नहीं बताया। उसे डर था कि कहीं उसका खेल व उसका करियर तबाह न हो जाए\n",
            "Reference Summary: Kaithal Women Player Sex Harassments हरियाणा के कैथल में एक महिला खिलाड़ी के साथ उसके कोच ने दुष्कर्म करने का प्रयास किया है। शिकायत के बाद महिला थाना में कोच के खिलाफ विभिन्न धाराओं में केस दर्ज कर पुलिस ने छानबीन शुरू कर दी है। अभी कोच की गिरफ्तारी नहीं\n",
            "Metrics: {'rouge1': 0.0, 'rouge2': 0.0, 'rougeL': 0.0, 'rougeLsum': 0.0, 'bert_score_f1': 51.3003}\n",
            "\n",
            "---\n",
            "\n"
          ]
        },
        {
          "metadata": {
            "tags": null
          },
          "name": "stderr",
          "output_type": "stream",
          "text": [
            "Some weights of RobertaModel were not initialized from the model checkpoint at roberta-large and are newly initialized: ['roberta.pooler.dense.bias', 'roberta.pooler.dense.weight']\n",
            "You should probably TRAIN this model on a down-stream task to be able to use it for predictions and inference.\n"
          ]
        },
        {
          "metadata": {
            "tags": null
          },
          "name": "stdout",
          "output_type": "stream",
          "text": [
            "Article 20102:\n",
            "Article: इटावा (उत्तर प्रदेश): इटावा जिले के फ्रेंड्स कॉलोनी क्षेत्र में एक कार ने सड़क किनारे खड़े ट्रक में पीछे से टक्कर मार दी। दुर्घटना में कार सवार पिता-पुत्री समेत तीन लोगों की मौत हो गई। वरिष्ठ पुलिस अधीक्षक जयप्रकाश सिंह ने शनिवार को बताया कि इटावा-कानपुर राष्ट्रीय राजमार्ग पर फ्रेंडस कालोनी क्षेत्र के साईं कोल्डस्टोरेज के सामने शुक्रवार-शनिवार की दरमियानी रात वृन्दावन से होली मनाकर जालौन नगर लौटते समय कार ने सड़क पर खराब खड़े ट्रक में पीछे से टक्कर मार दी।उन्होंने बताया कि दुर्घटना में कार में सवार दीपू पोरवाल (45), उसकी पुत्री आयुषी (22) और कार चालक बब्बू की मौके पर ही मौत हो गई। उन्होंने बताया कि दुर्घटना में दीपू का भाई लाला, पुत्री शिवानी एवं दोस्त महेश गंभीर रूप से घायल हो गए।घायलों को सैफई मेडिकल कॉलेज में भर्ती कराया गया है। शवों को पोस्टमार्टम के लिए भेजा गया है।(इनपुट- एजेंसी)\n",
            "Generated Summary: इटावा जिले के फ्रेंड्स कॉलोनी क्षेत्र में एक कार ने सड़क किनारे खड़े ट्रक में पीछे से टक्कर मार दी। दुर्घटना में कार सवार पिता-पुत्री समेत तीन लोगों की मौत हो गई।\n",
            "Reference Summary: इटावा-कानपुर राष्ट्रीय राजमार्ग पर फ्रेंडस कालोनी क्षेत्र के साईं कोल्डस्टोरेज के सामने शुक्रवार-शनिवार की दरमियानी रात वृन्दावन से होली मनाकर जालौन नगर लौटते समय कार ने सड़क पर खराब खड़े ट्रक में पीछे से टक्कर मार दी।\n",
            "Metrics: {'rouge1': 0.0, 'rouge2': 0.0, 'rougeL': 0.0, 'rougeLsum': 0.0, 'bert_score_f1': 60.7602}\n",
            "\n",
            "---\n",
            "\n"
          ]
        },
        {
          "metadata": {
            "tags": null
          },
          "name": "stderr",
          "output_type": "stream",
          "text": [
            "Some weights of RobertaModel were not initialized from the model checkpoint at roberta-large and are newly initialized: ['roberta.pooler.dense.bias', 'roberta.pooler.dense.weight']\n",
            "You should probably TRAIN this model on a down-stream task to be able to use it for predictions and inference.\n"
          ]
        },
        {
          "metadata": {
            "tags": null
          },
          "name": "stdout",
          "output_type": "stream",
          "text": [
            "Article 19565:\n",
            "Article: Madhya Pradesh New Startup Policy: कांग्रेस की पिछली सरकारों पर निशाना साधते हुए प्रधानमंत्री नरेंद्र मोदी ने शुक्रवार को कहा कि देश में 1990 के दशक के दौरान सूचना प्रौद्योगिकी (आईटी) क्रांति से बने माहौल को भुनाया नहीं जा सका और बड़े घोटालों, नीतिगत लकवे तथा भाई-भतीजावाद के चलते युवाओं की एक समूची पीढ़ी के सपने तबाह हो गए थे। उन्होंने यह भी कहा कि उनकी सरकार द्वारा तय दिशा में स्पष्ट लक्ष्य और सोची-समझी रणनीति के साथ शुरू किए गए प्रयासों के कारण पिछले आठ साल के दौरान देश में मान्यताप्राप्त स्टार्टअप की तादाद 300-400 से बढ़कर करीब 70,000 पर पहुंच गई है और हर आठ से 10 दिन के भीतर एक स्टार्टअप ‘‘यूनिकॉर्न’’ में तब्दील हो रहा है यानी इस कम्पनी का मूल्यांकन बढ़कर 7,000 करोड़ रुपये का स्तर पार कर रहा है। दुनिया में तीसरा सबसे बड़ा स्टार्टअप इकोसिस्टममोदी ने मध्य प्रदेश सरकार की नयी स्टार्टअप नीति और इसकी कार्यान्वयन योजना की वीडियो कॉन्फ्रेंस के जरिये औपचारिक शुरुआत के दौरान नये उद्यमियों को संबोधित करते हुए ये बातें कहीं। उन्होंने कहा,‘‘वर्ष 2014 में जब हमारी सरकार आई थी, तब देश में स्टार्टअप की तादाद 300-400 तक सीमित थी और उद्योग जगत के तकनीकी गलियारों को छोड़कर अन्य क्षेत्रों में स्टार्टअप की चर्चा तक नहीं होती थी। लेकिन आठ साल के छोटे-से कालखंड के बाद आज देश में करीब 70,000 सरकारी मान्यताप्राप्त स्टार्टअप हैं और हमारा देश दुनिया में तीसरा सबसे बड़ा स्टार्टअप पारिस्थितिकी तंत्र बन चुका है।’’ पूरा दशक बड़े-बड़े घोटालों की भेंट चढ़ामोदी ने कहा,‘‘भारत के युवाओं में नवाचारी विचारों से समस्याओं के समाधान की ललक हमेशा रही है और इसका अनुभव हमने देश की आईटी क्रांति के शुरुआती दौर में भी किया। लेकिन दुर्भाग्यपूर्ण है कि उस दौर में हमारे युवाओं को (सरकार द्वारा) जरूरी प्रोत्साहन और समर्थन नहीं दिया गया।’’ उन्होंने 1990 के दशक की ओर साफ इशारा करते हुए कहा कि देश में आईटी क्रांति से बने माहौल को सही दिशा दिए जाने की जरूरत थी, लेकिन ऐसा नहीं हो सका। प्रधानमंत्री ने कहा,‘‘हमने देखा कि एक पूरा दशक बड़े-बड़े घोटालों, नीतिगत लकवे और भाई-भतीजावाद की भेंट चढ़ गया जिससे एक समूची पीढ़ी के सपने तबाह हो गए जबकि उस समय भी हमारे युवाओं के पास नवाचारी विचार थे। लेकिन ये विचार पहले की सरकारों के कार्यकाल के दौरान उचित नीतियों के अभाव में उलझकर रह गए।’’ 6,500 करोड़ रुपये से ज्यादा का कारोबारमोदी ने कहा कि उनकी सरकार ने नीतिगत प्रोत्साहन, बुनियादी ढांचे के विकास और सरकारी प्रक्रियाओं के सरलीकरण के जरिये नवाचार के लिए युवाओं की मानसिकता में बदलाव किया, जिससे आज स्टार्टअप आम लोगों की रोजमर्रा की बातचीत का हिस्सा और सामान्य भारतीय नौजवान के सपने पूरे करने का सशक्त माध्यम बन गए हैं। उन्होंने कहा कि सरकार के जेम पोर्टल पर 13,000 से अधिक स्टार्टअप पंजीकृत हैं और इन नये उद्यमों ने पोर्टल के जरिये कुल 6,500 करोड़ रुपये से ज्यादा का कारोबार किया है। देश के छोटे शहरों-कस्बों तक स्टार्टअपमोदी ने देश के छोटे शहरों और कस्बों तक स्टार्टअप के तेज विस्तार को रेखांकित करते हुए कहा कि मौजूदा स्टार्टअप 50 से ज्यादा उद्योगों से जुड़े हैं और कृषि, खुदरा कारोबार व स्वास्थ्य के क्षेत्रों में लगातार नये उद्यम उभर रहे हैं। प्रधानमंत्री ने युवा उद्यमियों से अपील की कि वे अंतरिक्ष तकनीकी, हरित ऊर्जा, जलवायु परिवर्तन, पर्यटन, खिलौना निर्माण, मोबाइल गेमिंग, खेलों आदि क्षेत्रों के अवसरों को भुनाने के लिए नवाचारी उपक्रम तैयार करें और कुटीर उद्योगों, हथकरघा बुनकरों और आदिवासियों के बनाए उत्पादों को बढ़ावा भी दें। उद्यमों को पहुंचेगा नई स्टार्टअप नीति का फायदाराज्य सरकार के एक अधिकारी ने बताया कि मोदी द्वारा पेश स्टार्टअप नीति में नये उद्यमों के लिए कार्यस्थल के किराये, कर्मचारियों के वेतन तथा उत्पादों के पेटेंट को लेकर अनुदान और सरकारी खरीद में आरक्षण समेत कई आकर्षक सुविधाओं तथा रियायतों का प्रावधान किया गया है। प्रधानमंत्री ने उस ऑनलाइन पोर्टल को लोकार्पित किया, जिसके जरिये नये उद्यमों को राज्य की स्टार्टअप नीति का फायदा पहुंचाया जाएगा। इस पोर्टल को केंद्र सरकार के संबंधित पोर्टल से जोड़ा गया है। मोदी ने इस मौके पर सूबे के चुनिंदा स्टार्टअप उद्यमियों के साथ संवाद भी किया और उनसे उनके कामकाज की जानकारी ली। नये उद्यमों को सरकारी फंडिंगकार्यक्रम के दौरान मुख्यमंत्री शिवराज सिंह चौहान इंदौर में मौजूद रहे और उन्होंने चार नये उद्यमों को वित्तीय सहायता प्रदान की। उन्होंने बताया कि राज्य की अलग-अलग समस्याओं के समाधान के लिए ‘‘स्टार्टअप इनोवेशन चैलेंज’’ जल्द ही शुरू किया जाएगा और इसमें चयनित उद्यमों को एक करोड़ रुपये तक का अनुदान दिया जाएगा। मुख्यमंत्री ने बताया कि नये उद्यमों के लिए अनुकूल वातावरण बनाए जाने के चलते सूबे के स्टार्टअप को 26 जनवरी से लेकर आज तक कुल 700 करोड़ रुपये का वित्तपोषण मिल चुका है।\n",
            "Generated Summary: कांग्रेस की पिछली सरकारों पर निशाना साधते हुए प्रधानमंत्री नरेंद्र मोदी ने शुक्रवार को कहा कि देश में 1990 के दशक के दौरान सूचना प्रौद्योगिकी (आईटी) क्रांति से बने माहौल को भुनाया नहीं जा सका और बड़े घोटालों, नीतिगत लकवे\n",
            "Reference Summary: कांग्रेस की पिछली सरकारों पर निशाना साधते हुए प्रधानमंत्री नरेंद्र मोदी ने शुक्रवार को कहा कि देश में 1990 के दशक के दौरान सूचना प्रौद्योगिकी (आईटी) क्रांति से बने माहौल को भुनाया नहीं जा सका और बड़े घोटालों, नीतिगत लकवे तथा भाई-भतीजावाद के चलते युवाओं की एक समूची पीढ़ी के सपने तबाह हो गए थे।\n",
            "Metrics: {'rouge1': 100.0, 'rouge2': 0.0, 'rougeL': 100.0, 'rougeLsum': 100.0, 'bert_score_f1': 91.8172}\n",
            "\n",
            "---\n",
            "\n"
          ]
        },
        {
          "metadata": {
            "tags": null
          },
          "name": "stderr",
          "output_type": "stream",
          "text": [
            "Some weights of RobertaModel were not initialized from the model checkpoint at roberta-large and are newly initialized: ['roberta.pooler.dense.bias', 'roberta.pooler.dense.weight']\n",
            "You should probably TRAIN this model on a down-stream task to be able to use it for predictions and inference.\n"
          ]
        },
        {
          "metadata": {
            "tags": null
          },
          "name": "stdout",
          "output_type": "stream",
          "text": [
            "Article 9705:\n",
            "Article: केंद्रीय गृह मंत्री अमित शाह ने उत्तर तुरा में शुक्रवार को कहा कि मेघालय में चुनाव से पहले ‌BJP ने NPP से गठबंधन तोड़ लिया है। BJP अब सभी 60 विधानसभा सीटों पर चुनाव लड़ सकेगी। \n",
            "आज की अन्य बड़ी खबरें...\n",
            "पटना में अतिक्रमण हटाने गई पुलिस से लोगों का विवाद, दो दुकानदारों ने खुद को आग लगाई\n",
            "पटना सिटी के गुलजारबाग में अतिक्रमण हटाने गई रेलवे पुलिस और लोगों के बीच विवाद हो गया। लोगों ने अतिक्रमण हटाने आए पुलिस को खदेड़ दिया। दो दुकानदारों ने खुद को आग लगाकर आत्महत्या करने का प्रयास किया। दोनों को अस्पताल में भर्ती कराया गया है। गुस्साए दुकानदारों और लोगों ने जेसीबी और रेलवे पुलिस पर पथराव कर दिया। स्थिति को नियंत्रित करने के लिए मौके पर भारी पुलिस बल तैनात कर दी गई है। पूरी खबर यहां पढ़ें...\n",
            "आंध्र प्रदेश के पूर्व भाजपा यूनिट हेड लक्ष्मी नारायण ने पार्टी से इस्तीफा दिया, कहा- पार्टी के रवैये से असंतुष्ट हूं \n",
            "आंध्र प्रदेश के पूर्व भाजपा यूनिट हेड कन्ना लक्ष्मी नारायण ने गुरुवार को पार्टी से इस्तीफा दे दिया। नेशनल एक्जीक्यूटिव कमेटी के मेंबर लक्ष्मीनारायण ने पार्टी अध्यक्ष जेपी नड्‌डा को इस्तीफा भेजने से पहले अपने फॉलोवर्स से मुलाकात की। उन्होंने बताया कि वे कुछ समय से राज्य भाजपा के व्यवहार से असंतुष्ट हैं और दूसरी पार्टी जॉइन करने का मन बना चुके हैं।\n",
            "दिल्ली शराब घोटाले से जुड़े मनी लॉन्ड्रिंग मामले में पांच आरोपियों की जमानत याचिका खारिज\n",
            "दिल्ली कोर्ट ने शराब घोटाले से जुड़े मनी लॉन्ड्रिंग मामले में पांच आरोपिंयों की जमानत याचिका खारिज कर दी है। इन पांच लोगों में AAP के मीडिया प्रभारी विजय नायर, अभिषेक मोइनपल्ली, समीर महेंदू, शरथ पी रेड्डी और बिनोय बाबू शामिल हैं।\n",
            "भाजपा विधायक हार्दिक पटेल के खिलाफ गिरफ्तारी वारंट जारी, 2017 के एक मामले में कोर्ट में नहीं हुए थे पेश\n",
            "गुजरात के सुरेंद्रनगर जिला कोर्ट ने भाजपा विधायक हार्दिक पटेल के खिलाफ गिरफ्तारी वारंट जारी किया है। कोर्ट ने 2017 के एक मामले में उनके पेश नहीं होने पर यह कार्रवाई की है। मीडिया रिपोर्ट्स के मुताबिक, उन पर आरोप है कि 2017 में उन्होंने राज्य विधानसभा चुनाव से पहले एक गांव में सरकारी आदेश का उल्लंघन किया था।\n",
            "गोरखपुर में यज्ञ पंडाल में हाथी का तांडव; 3 लोगों की मौत, कई को रौंदा\n",
            "गोरखपुर में गुरुवार को एक हाथी ने यज्ञ पंडाल में तांडव मचा दिया। गुस्साए हाथी ने कई लोगों को रौंद दिया। हाथी यज्ञ में बुलाया गया था, इसके चलते उसने पंडाल में भी तांडव मचाया। जिसमें 3 लोगों की मौत हो गई। जबकि, कई लोग गंभीर घायल हो गए। हाथी तांडव मचाते हुए सड़क पर दौड़ने लगा। इस दौरान जो भी उसके रास्ते में आया, वह उसे कुचलता चला गया। पूरी खबर यहां पढ़ें...\n",
            "पाकिस्तान में पेशावर से क्वेटा जा रही ट्रेन में ब्लास्ट, 1 यात्री की मौत, 3 घायल\n",
            "पाकिस्तान के पेशावर से क्वेटा शहर जा रही जाफर एक्सप्रेस में गुरुवार को ब्लास्ट हुआ है। धमाके में 1 यात्री की मौके पर ही मौत हो गई है, जबकि 3 यात्री घायल बताए जा रहे हैं। यह धमाका तब हुआ जब ट्रेन चिचावतनी रेलवे स्टेशन से गुजर रही थी।\n",
            "UP के सुलतानपुर में आमने-सामने टकराई 2 मालगाड़ियां, ड्राइवर घायल, 6 डिब्बे पटरी से उतरे\n",
            "UP के सुलतानपुर जंक्शन के दक्षिणी केबिन के पास गुरुवार सुबह दो मालगाड़ियों की आमने-सामने टक्कर हो गई। हादसे में 4 लोग घायल हुए हैं, चारों ही ड्राइवर हैं। इनकी हालत अब स्थिर है। वहीं, एक मालगाड़ी के करीब 6 डिब्बे पटरी से उतर गए हैं। हादसे के बाद लखनऊ-वाराणसी और अयोध्या-प्रयागराज रेलवे ट्रैक बाधित हुआ है।\n",
            "UP के बांदा में स्कॉर्पियो-बोलेरो की टक्कर में 5 की मौत, 6 घायल; बारात से लौट रही थीं दोनों गाड़ियां\n",
            "UP के बांदा में बुधवार देर रात एक स्कॉर्पियो और एक बोलेरो में टक्कर हो गई। हादसे में 5 लोगों की मौत हो गई, जबकि 6 लोग घायल हैं। यह दोनों गाड़ियां चित्रकूट के राजापुर में एक बारात में गईं थी। देर रात वहां से लौट रही थीं। दोनों गाड़ियां आगे पीछे चल रही थीं। तभी स्कॉर्पियो ने पीछे से बोलेरो को टक्कर मार दी। पूरी खबर यहां पढ़ें...\n",
            "जम्मू-कश्मीर के कुपवाड़ा में एक आतंकी मारा गया, सीमा पार से भारत में घुसने हो रही थी कोशिश\n",
            "जम्मू-कश्मीर के कुपवाड़ा में सुरक्षा बलों ने एक आतंकी को मार गिराया है। पुलिस के मुताबिक, बुधवार रात सैदपोरा इलाके में सेना और जम्मू-कश्मीर की संयुक्त टीम ने घुसपैठ की कोशिश को नाकाम कर दिया। टीम ने पहले भारतीय सीमा में घुसपैठ की कोशिश करने वाले ग्रुप को रोका। इस दौरान एक घुसपैठिए को ढेर भी कर दिया। आतंकवादी के पास से 2 राइफल और अन्य सामग्री बरामद हुई है। इलाके में सर्च ऑपरेशन जारी है।\n",
            "UP के मुरादाबाद में CA को उनके ऑफिस के बाहर अज्ञात लोगों ने गोली मारी, मौत\n",
            "उत्तर प्रदेश के मुरादाबाद में एक चार्टर्ड अकाउंटेंट को उनके ऑफिस के बाहर अज्ञात लोगों को गोली मार दी। इससे सीए की मौत हो गई। मृतक की पहचान श्वेताभ तिवारी के रूप में हुई है। मुरादाबाद के एसएसपी हेमराज मीणा ने बताया कि मामले में आगे की कार्रवाई की जा रही है।\n",
            "अमेरिकी विदेश मंत्री एंटनी ब्लिंकन रविवार को करेंगे तुर्की का दौरा\n",
            "अमेरिका के विदेश मंत्री एंटनी ब्लिंकन रविवार को तुर्की के दौरे पर जाएंगे। तुर्किये और सीरिया में भूकंप के 10 दिन बाद मौतों का आंकड़ा 41 हजार के पार पहुंच गया था। दोनों देशों में अब भी राहत ओर बचाव कार्य जारी है। दोनों देशों में दुनियाभर से मदद भेजी जा रही है।\n",
            "भारतीय विदेश मंत्री ने फिजी में 'सोलराइजेशन ऑफ रेजिडेंस ऑफ पैसिफिक हेड्स ऑफ स्टेट' प्रोजेक्ट का शुभारंभ किया\n",
            "भारत के विदेश मंत्री डॉ. एस. जयशंकर ने फिजी में सोलराइजेशन ऑफ रेजिडेंस ऑफ पैसिफिक हेड्स ऑफ स्टेट' प्रोजेक्ट का शुभारंभ किया। इस दौरान फिजी के राष्ट्रपति रातू विलीमे कटोनिवेरी भी मौजूद रहे।\n",
            "फिलीपींस में 6.1 तीव्रता का भूकंप आया, अभी तक किसी नुकसान की खबर नहीं\n",
            "फिलीपींस के मस्बते में बुधवार-गुरुवार की रात भूकंप का झटका महसूस किया गया। रिक्टर स्केल पर इसकी तीव्रता 6.1 दर्ज की गई। यूनाइटेड स्टेट्स जियोलॉजिकल सर्वे (USGS) ने इसकी जानकारी दी। हालांकि अभी तक किसी भी तरह के नुकसान की जानकारी नहीं मिली है।\n",
            "PM मोदी आज दिल्ली में ‘आदि महोत्सव’ जनजातीय मेले का उद्घाटन करेंगे\n",
            "भारत के प्रधानमंत्री नरेंद्र मोदी 16 फरवरी यानी आज सुबह 10:30 बजे दिल्ली में ‘आदि महोत्सव’ जनजातीय मेले का उद्घाटन करेंगे। इस मेले में देश के आदिवासी समुदायों की कला, शिल्प, संस्कृति, व्यापार और परंपराओं का संगम देखने को मिलेगा। मेजर ध्यानचंद राष्ट्रीय स्टेडियम में लगने वाला यह मेला 27 फरवरी तक चलेगा।\n",
            "लीबिया से यूरोप जा रही बोट समुद्र में पलटी, 73 माइग्रेंट्स के मारे जाने की आशंका, 11 शव मिले\n",
            "लीबिया से यूरोप जा रही एक बोट समुद्र में पलट गई। हादसे में 73 माइग्रेंट्स के मारे जाने की आशंका है। यूनाइटेड नेशंस इंटरनेशनल ऑर्गनाइजेशन फॉर माइग्रेंट्स ने कहा कि बोट मंगलवार को पलटी। लीबिया के अधिकारियों ने अब तक 11 लोगों के शव बरामद कर लिए हैं। नाव में 80 माइग्रेंट्स सवार थे। ये लीबिया की राजधानी त्रिपोली से 80 किलोमीटर दूर कसर अल-खैर गांव से यूरोपीय तटों के लिए रवाना हुए थे। 7 माइग्रेंट्स तैरकर बाहर आ गए। बाकी की तलाश की जा रही है।\n",
            "Generated Summary: भारत के प्रधानमंत्री नरेंद्र मोदी 16 फरवरी यानी आज सुबह 10:30 बजे दिल्ली में ‘आदि महोत्सव’ जनजातीय मेले का उद्घाटन करेंगे। इस मेले में देश के आदिवासी समुदायों की कला, शिल्प, संस्कृति, व्यापार और परंपराओं का संगम देखने को मिलेगा\n",
            "Reference Summary: Breaking News Headlines Update; Dainik Bhaskar Breaking News Headlines Today, India and World Latest Pictures Videos, Pictures, and More From Dainik Bhaskar  भारतीय विदेश मंत्री ने फिजी में 'सोलराइजेशन ऑफ रेजिडेंस ऑफ पैसिफिक हेड्स ऑफ स्टेट' प्रोजेक्ट का शुभारंभ किया. फिलीपींस में 6.1 तीव्रता का भूकंप आया, अभी तक किसी नुकसान की खबर नहीं\n",
            "Metrics: {'rouge1': 0.0, 'rouge2': 0.0, 'rougeL': 0.0, 'rougeLsum': 0.0, 'bert_score_f1': 45.4105}\n",
            "\n",
            "---\n",
            "\n"
          ]
        },
        {
          "metadata": {
            "tags": null
          },
          "name": "stderr",
          "output_type": "stream",
          "text": [
            "Some weights of RobertaModel were not initialized from the model checkpoint at roberta-large and are newly initialized: ['roberta.pooler.dense.bias', 'roberta.pooler.dense.weight']\n",
            "You should probably TRAIN this model on a down-stream task to be able to use it for predictions and inference.\n"
          ]
        },
        {
          "metadata": {
            "tags": null
          },
          "name": "stdout",
          "output_type": "stream",
          "text": [
            "Article 10514:\n",
            "Article: गुवाहाटी: असम सरकार ने मंगलवार को उन सात जिलों में पूर्ण लॉकडाउन की घोषणा की है, जहां कोविड-19 मामलों की संक्रमण दर अधिक है। स्वास्थ्य और परिवार कल्याण मंत्री केशब महंत ने कहा कि सरकार ने गोलपारा, गोलाघाट, जोरहाट, लखीमपुर, सोनितपुर, विश्वनाथ और मोरीगांव में पूर्ण कर्फ्यू लगा दिया, क्योंकि कुछ प्रतिबंधों के बावजूद इन जिलों में कोरोना वायरस के मामलों की संख्या लगातार बढ़ती रही है। उन्होंने एक संवाददाता सम्मेलन में कहा कि इन जिलों को निरूद्ध क्षेत्र के अंतर्गत लाया गया है। मंत्री ने कहा कि इन जिलों के ग्रामीण और चाय बागान क्षेत्रों में काफी संख्या में कोविड-19 के मामले सामने आ रहे हैं। उनके अनुसार, पिछले कुछ दिनों में सात जिलों में संक्रमण दर 2.68 प्रतिशत से 5.64 प्रतिशत के बीच दर्ज की गई।उन्होंने कहा कि इन जिलों में सभी सार्वजनिक और निजी परिवहन की आवाजाही पर पूर्ण प्रतिबंध रहेगा, हालांकि माल वाहनों को परिचालन की अनुमति होगी। महंत ने कहा कि उच्च संक्रमण दर वाले इन जिलों में सभी कार्यस्थल, व्यावसायिक और वाणिज्यिक प्रतिष्ठान, दुकानें, रेस्तरां और अन्य भोजनालय, कोल्ड स्टोरेज और गोदाम अगले आदेश तक बंद रहेंगे। ये चीजें 16 अन्य जिलों में प्रतिदिन दोपहर एक बजे तक खुली रहेंगी जहां 'मध्यम' कोविड संक्रमण दर दर्ज की गई है, और कर्फ्यू दोपहर दो बजे से सुबह पांच बजे तक लागू रहेगा। इन जिलों में शिवसागर, डिब्रूगढ़, कोकराझार, बारपेटा, नलबाड़ी, बक्सा, बजली, कामरूप, दरांग, नगांव, होजई, तिनसुकिया, धेमाजी, कछार, करीमगंज और कार्बी आंगलोंग शामिल हैं। महंत ने कहा कि शिवसागर और डिब्रूगढ़ जिलों को अगले एक सप्ताह तक कड़ी निगरानी में रखा जाएगा। मंत्री ने कहा कि धुबरी, कामरूप मेट्रो, दक्षिण सलमारा, माजुली, बोंगाईगांव, चिरांग, उदलगुरी, पश्चिम कार्बी आंगलोंग, दीमा हसाओ, चराइदेव और हैलाकांडी में भी कर्फ्यू शाम पांच बजे से सुबह पांच बजे तक लागू रहेगा, जहां कोविड-19 की स्थिति में सुधार हुआ है। उन्होंने कहा कि इन जिलों में व्यापारिक प्रतिष्ठानों को शाम चार बजे तक संचालित करने की अनुमति होगी। सभी अंतर-जिला यात्री परिवहन सेवाएं निलंबित रहेंगी। सरकार ने उन जिलों में सार्वजनिक समारोहों पर प्रतिबंध लगा दिया है जो निरूद्ध क्षेत्र के अंतर्गत आते हैं, जबकि अन्य स्थानों पर विवाह और अंतिम संस्कार कार्यक्रमों में 10 लोगों तक की अनुमति है। मंत्री ने कहा कि सार्वजनिक स्थानों पर फेस मास्क पहनना अनिवार्य है और वाहनों की आवाजाही के लिए सम-विषम फॉर्मूला जैसे अन्य प्रतिबंध लागू रहेंगे। उन्होंने कहा कि ये प्रतिबंध सात जुलाई से लागू होंगे और अगले आदेश तक प्रभावी रहेंगे। मंत्री ने उन माता-पिता से सतर्क रहने की अपील की जिनके 18 वर्ष से कम उम्र के बच्चे हैं, क्योंकि वे उन नाबालिगों में बीमारी फैला सकते हैं जिन्हें अभी तक टीका नहीं लगाया गया है। उन्होंने कहा कि असम में अब तक 36,000 से अधिक बच्चे इस बीमारी की चपेट में आ चुके हैं और वर्तमान में 18 साल से कम उम्र के 2,890 उपचाराधीन मरीज हैं। मंत्री ने कहा कि इस बीमारी से अब तक 38 बच्चों की मौत हो चुकी है। असम में वर्तमान में 22,243 उपचाराधीन मरीज हैं, और कुल संक्रमण दर 2.37 प्रतिशत है। पूर्वोत्तर राज्य में सोमवार तक कुल 5,19,834 मामले आ चुके थे, जबकि संक्रमण के कारण मरने वालों की संख्या 4,683 है और 4,91,561 लोग बीमारी से उबर चुके हैं।  /*.jw-reset-text, .jw-reset{line-height: 2em;}*/  .jw-time-tip .jw-time-chapter{display:none;}  if ('' == comscore_jw_loaded || 'undefined' == comscore_jw_loaded || undefined == comscore_jw_loaded) {var comscore_jw_loaded = 1;firstjw = document.getElementsByClassName('jwvidplayer')[0];cs_jw_script = document.createElement('script');cs_jw_script.src = 'https://sb.scorecardresearch.com/internal-c2/plugins/streamingtag_plugin_jwplayer.js';firstjw.parentNode.insertBefore(cs_jw_script, firstjw.nextSibling);  }  var jwconfig_3715697112 = {\"file\": \"https://vod-indiatv.akamaized.net/hls/2021/07/0_nr0ssnpz/master.m3u8\",\"image\": \"https://resize.indiatv.in/resize/vod/1200_-/2021/07/0_nr0ssnpz.jpg\",\"title\": \"अबकी बार किसकी सरकार | बुधवार को होगा पीएम मोदी का मंत्रिमंडल विस्तार\",\"height\": \"440px\",\"width\": \"100%\",\"aspectratio\": \"16:9\",\"autostart\": false,\"controls\": true,\"mute\": false,\"volume\": 100,\"floating\": false,\"sharing\": {\"code\": \"\",\"sites\": [\"facebook\",\"twitter\",\"email\"]},\"stretching\": \"exactfit\",\"primary\": \"html5\",\"hlshtml\": true,\"duration\": 1035,\"advertising\": {\"client\": \"vast\",\"autoplayadsmuted\": true,\"skipoffset\": 5,\"cuetext\": \"\",\"skipmessage\": \"Skip ad in xx\",\"skiptext\": \"SKIP\",\"preloadAds\": true,\"schedule\": [{\"offset\": \"pre\",\"tag\": \"https://pubads.g.doubleclick.net/gampad/ads?iu=/8323530/Hindi_Video_Desktop_PreRoll&description_url=http%3A%2F%2Fwww.indiatv.in&tfcd=0&npa=0&sz=640x480&gdfp_req=1&output=vast&unviewed_position_start=1&env=vp&impl=s&correlator=\",\"type\": \"linear\"},{\"offset\": \"50%\",\"tag\": \"https://pubads.g.doubleclick.net/gampad/ads?iu=/8323530/Hindi_Video_Desktop_MidRoll&description_url=http%3A%2F%2Fwww.indiatv.in&tfcd=0&npa=0&sz=640x480&gdfp_req=1&output=vast&unviewed_position_start=1&env=vp&impl=s&correlator=\"},{\"offset\": \"post\",\"tag\": \"https://pubads.g.doubleclick.net/gampad/ads?iu=/8323530/Hindi_Video_Desktop_PostRoll&description_url=http%3A%2F%2Fwww.indiatv.in&tfcd=0&npa=0&sz=640x480&gdfp_req=1&output=vast&unviewed_position_start=1&env=vp&impl=s&correlator=\",\"type\": \"linear\"}]}};  var jwvidplayer_3715697112 = '';  jwsetup_3715697112();  function jwsetup_3715697112() {jwvidplayer_3715697112 = jwplayer(\"jwvidplayer_3715697112\").setup(jwconfig_3715697112);jwvidplayer_3715697112.on('ready', function () {  ns_.StreamingAnalytics.JWPlayer(jwvidplayer_3715697112, {publisherId: \"20465327\",labelmapping: \"c2=\\\"20465327\\\", c3=\\\"India TV Hindi\\\", c4=\\\"null\\\", c6=\\\"null\\\", ns_st_mp=\\\"jwplayer\\\", ns_st_cl=\\\"0\\\", ns_st_ci=\\\"0_nr0ssnpz\\\", ns_st_pr=\\\"अबकी बार किसकी सरकार | बुधवार को होगा पीएम मोदी का मंत्रिमंडल विस्तार\\\", ns_st_sn=\\\"0\\\", ns_st_en=\\\"0\\\", ns_st_ep=\\\"अबकी बार किसकी सरकार | बुधवार को होगा पीएम मोदी का मंत्रिमंडल विस्तार\\\", ns_st_ct=\\\"null\\\", ns_st_ge=\\\"News\\\", ns_st_st=\\\"अबकी बार किसकी सरकार | बुधवार को होगा पीएम मोदी का मंत्रिमंडल विस्तार\\\", ns_st_ce=\\\"0\\\", ns_st_ia=\\\"0\\\", ns_st_ddt=\\\"2021-07-06\\\", ns_st_tdt=\\\"2021-07-06\\\", ns_st_pu=\\\"India TV Hindi\\\", ns_st_cu=\\\"https://vod-indiatv.akamaized.net/hls/2021/07/0_nr0ssnpz/master.m3u8\\\", ns_st_ty=\\\"video\\\"\"  });});jwvidplayer_3715697112.on('all', function (r) {  if (jwvidplayer_3715697112.getState() == 'error' || jwvidplayer_3715697112.getState() == 'setupError') {jwvidplayer_3715697112.stop();jwvidplayer_3715697112.remove();jwvidplayer_3715697112 = '';jwsetup_3715697112();return;  }});jwvidplayer_3715697112.on('error', function (t) {  jwvidplayer_3715697112.stop();  jwvidplayer_3715697112.remove();  jwvidplayer_3715697112 = '';  jwsetup_3715697112();  return;});jwvidplayer_3715697112.on('mute', function (event) {  ga('send', 'event', 'JW Player Events', 'Errors', event.message);});jwvidplayer_3715697112.on('adPlay', function (event) {  ga('send', 'event', 'JW Player Events', 'Errors', event.message);});jwvidplayer_3715697112.on('adPause', function (event) {  ga('send', 'event', 'JW Player Events', 'Errors', event.message);});jwvidplayer_3715697112.on('pause', function (event) {  ga('send', 'event', 'JW Player Events', 'Errors', event.message);});jwvidplayer_3715697112.on('error', function (event) {  ga('send', 'event', 'JW Player Events', 'Errors', event.message);});jwvidplayer_3715697112.on('adBlock', function (event) {  ga('send', 'event', 'JW Player Events', 'Errors', event.message);});jwvidplayer_3715697112.on('adSkipped', function (event) {  ga('send', 'event', 'JW Player Events', 'Errors', event.message);});  }ये भी पढ़ें\n",
            "Generated Summary: मुख्यमंत्री केशब महंत ने कहा कि सरकार ने गोलपारा, गोलाघाट, जोरहाट, लखीमपुर, सोनितपुर, विश्वनाथ और मोरीगांव में पूर्ण कर्फ्यू लगा दिया, क्योंकि कुछ प्रतिबंधों के बावजूद इन जिलों में कोरोना वायरस के मामलों\n",
            "Reference Summary: मंत्री ने कहा कि इन जिलों के ग्रामीण और चाय बागान क्षेत्रों में काफी संख्या में कोविड-19 के मामले सामने आ रहे हैं। उनके अनुसार, पिछले कुछ दिनों में सात जिलों में संक्रमण दर 2.68 प्रतिशत से 5.64 प्रतिशत के बीच दर्ज की गई।\n",
            "Metrics: {'rouge1': 0.0, 'rouge2': 0.0, 'rougeL': 0.0, 'rougeLsum': 0.0, 'bert_score_f1': 54.9771}\n",
            "\n",
            "---\n",
            "\n"
          ]
        },
        {
          "metadata": {
            "tags": null
          },
          "name": "stderr",
          "output_type": "stream",
          "text": [
            "Some weights of RobertaModel were not initialized from the model checkpoint at roberta-large and are newly initialized: ['roberta.pooler.dense.bias', 'roberta.pooler.dense.weight']\n",
            "You should probably TRAIN this model on a down-stream task to be able to use it for predictions and inference.\n"
          ]
        },
        {
          "metadata": {
            "tags": null
          },
          "name": "stdout",
          "output_type": "stream",
          "text": [
            "Article 11357:\n",
            "Article: गाजियाबाद (उत्तर प्रदेश): भारतीय किसान यूनियन (बीकेयू) ने नेता राकेश टिकैत ने मंगलवार को कहा कि केंद्र सरकार के तीन नये कृषि कानूनों के खिलाफ पूर्वांचल क्षेत्र में प्रदर्शन और तेज किया जाएगा। पूर्वांचल में पूर्वी उत्तर प्रदेश और पश्चिमी बिहार के हस्से आते हैं। राकेश टिकैत ने कहा कि दिल्ली की सीमाओं पर कृषि कानून के विरोध में प्रदर्शन का एक साल पूरा होने से चार दिन पहले 22 नवंबर को लखनऊ में किसान महापंचायत होगी। राकेश टिकैत ने एक ट्वीट में कहा, ‘‘ऐतिहासिक होगी लखनऊ में आयोजित 22 नवंबर की किसान महापंचायत। संयुक्त किसान मोर्चा की यह महापंचायत किसान विरोधी सरकार और तीनों काले कानूनों के विरोध में ताबूत में आखिरी कील साबित होगी। उन्होंने ट्वीट में आगे लिखा, \"अब पूर्वांचल में भी और तेज होगा अन्नदाता का आंदोलन।’’ बता दें कि बीकेयू, दिल्ली की तीन सीमाओं- सिंघु, टिकरी और गाजीपुर पर 26 नवंबर 2020 से किसानों के प्रदर्शन का नेतृत्व कर रहे संयुक्त किसान मोर्चा का हिस्सा है। प्रदर्शनकारी किसान तीन नए कृषि कानूनों को रद्द करने और अपनी फसल के लिए न्यूनतम समर्थन मूल्य (एमएसपी) की गारंटी की मांग कर रहे हैं।केंद्र सरकार द्वारा लाए गए तीन नए कृषि कानून- कृषक उपज व्यापार और वाणिज्य (संवर्धन और सरलीकरण) अधिनियम 2020, कृषक (सशक्तिकरण और संरक्षण) कीमत आश्वासन और कृषि सेवा पर करार अधिनियम 2020 तथा आवश्यक वस्तु (संशोधन) अधिनियम 2020 हैं।राकेश टिकैत ने एक अन्य ट्वीट में लिखा, \"साढ़े साथ सौ के आसपास किसान शहीद हो गए और भारत सरकार की तरफ से एक भी शोक संदेश नहीं आया। तो देश के किसानों को ये लगता है कि प्रधानमंत्री जो हैं, वो देश के किसानों के प्रधानमंत्री नहीं हैं।\"इससे पहले राकेश टिकैत ने एक नवंबर को कहा था कि केंद्र के पास विवादित कृषि कानूनों को निरस्त करने के लिए 26 नवंबर तक का वक्त है और इसके बाद दिल्ली की सीमाओं पर किए जा रहे विरोध प्रदर्शन को तेज़ किया जाएगा। बीकेयू के राष्ट्रीय प्रवक्ता टिकैत ने ट्वीट किया, “ केंद्र सरकार के पास 26 नवंबर तक का समय है। उसके बाद 27 नवंबर से किसान गांवों से ट्रैक्टरों से दिल्ली के चारों तरफ आंदोलन स्थलों पर बॉर्डर पर पहुंचेंगे और पक्की किलेबंदी के साथ आंदोलन और आंदोलन स्थल को मजबूत करेंगे।”\n",
            "Generated Summary: भारत किसान यूनियन (बीकेयू) ने नेता राकेश टिकैत ने मंगलवार को कहा कि केंद्र सरकार के तीन नये कृषि कानूनों के खिलाफ पूर्वांचल क्षेत्र में प्रदर्शन और तेज किया जाएगा। पूर्वांचल में पूर्वी उत्तर प्रदेश और पश्चिमी बिहार के हस्\n",
            "Reference Summary: बता दें कि बीकेयू, दिल्ली की तीन सीमाओं- सिंघु, टिकरी और गाजीपुर पर 26 नवंबर 2020 से किसानों के प्रदर्शन का नेतृत्व कर रहे संयुक्त किसान मोर्चा का हिस्सा है।\n",
            "Metrics: {'rouge1': 0.0, 'rouge2': 0.0, 'rougeL': 0.0, 'rougeLsum': 0.0, 'bert_score_f1': 57.0696}\n",
            "\n",
            "---\n",
            "\n"
          ]
        },
        {
          "metadata": {
            "tags": null
          },
          "name": "stderr",
          "output_type": "stream",
          "text": [
            "Some weights of RobertaModel were not initialized from the model checkpoint at roberta-large and are newly initialized: ['roberta.pooler.dense.bias', 'roberta.pooler.dense.weight']\n",
            "You should probably TRAIN this model on a down-stream task to be able to use it for predictions and inference.\n"
          ]
        },
        {
          "metadata": {
            "tags": null
          },
          "name": "stdout",
          "output_type": "stream",
          "text": [
            "Article 12239:\n",
            "Article: प्रधानमंत्री नरेंद्र मोदी ने 28 जनवरी को दिल्ली के करियप्पा ग्राउंड में राष्ट्रीय कैडेट कोर की रैली को संबोधित किया। पीएम मोदी ने एनसीसी अपने संबोधन में कहा कि इस समय देश अपनी आजादी का अमृत महोत्सव मना रहा है। जब युवा देश इस तरह के अवसर का साक्षी बनता है तो उसके उत्सव में एक अलग ही उत्साह दिखता है, यही उत्साह मैं करियप्पा ग्राउंड में भी मैंने देखा। मोदी ने कहा कि आजादी के अमृत महोत्सव में जो कार्य हुए वे आगे भी होते रहें, इसका ​दारोमदार युवाओं पर है। जो भी एनसीसी एनएसएस में हैं वे ज्यादातर इसी सदी में पैदा हुए हैं और युवा हैं। आपको ही 2047 तक देश को आन बान शान के साथ आगे ले जाना है। प्रधानमंत्री नरेंद्र मोदी ने 28 जनवरी को दिल्ली के करियप्पा ग्राउंड में राष्ट्रीय कैडेट कोर की रैली को संबोधित किया।मुझे एनसीसी ट्रेनिंग से जिम्मेदारियों के निर्वहन में मिली ताकत: मोदीपीएम मोदी ने कहा कि 2047 में जब देश आजादी के सौ साल पूरे करेगा। उस समय के भव्य भारत के निर्माण में युवा शक्ति की अहम भूमिका होगी। उन्होंने कहा कि मैं भी आप ही की तरह एनसीसी का सक्रिय कैडेट रहा हूं। मुझे एनसीसी में जो ट्रेनिंग मिली, आज देश के प्रति मेरी जिम्मेदारियों के निर्वहन में उस ट्रेनिंग से ताकत मिली। कुछ समय मुझे एनसीसी एलुमिनाई का कार्ड भी मिला था। उस नाते भी मैं आपका साथी हूं। आपसे जुड़ा हूं। मैं सभी को सैल्यूट करता हूं।एजुकेशन सिस्टम को एनसीसी से जोड़ने के लिए कई कदम उठाएआज स्वतंरता सेनानी लाजपत राय की जयंती है। आज की फील्ड मार्शल जनरल करियप्पा की भी जयंती है। इन वीर सपूतों को आदरपूर्वक नमन करता हूं। आज जब देश नए संकल्पों के साथ आगे बढ़ रहा है, एनसीसी को मजबूत करने के लिए प्रयास जारी हैं। हमने रीव्यू कमेटी बनाई। एजुकेशन सिस्टम को एनसीसी से जोड़ने के लिए भी देश कई कदम उठा रहा है। उन्होंने कहा कि नई राष्ट्रीय शिक्षा नीति के तहत 90 विवि ने एनसीसी को एक वैकल्पिक सब्जेक्ट के रूप में रखा है।महिला कैडेट से कहा कि महिलाएं देश के बदलते मिजाज का प्रतीक है। देश को आज आपके योगदान की जरूरत है। एनसीसी में भी ज्यादा से ज्यादा बेटियां शामिल होंदेश की बेटियां सैनिक स्कूल में एडमिशन ले रही हैं, फाइटर प्लेन उड़ा रही हैं। हमारा प्रयास है कि एनसीसी में भी ज्यादा से ज्यादा बेटियां शामिल हों। देश के ख्यात कवि माखन चतुर्वेदी कविता का उदाहरण देते हुए उन्होंने कहा कि शक्ति ऐसी हो कि कठिन से कठिन परिस्थितियों का भी मुकाबला कर सकें। आने वाले 25 साल देशभक्ति के ज्वार के हैं। आजादी के अमृत महोत्सव में जो कार्य हुए वे आगे भी होते रहें, इसका ​दारोमदार युवाओं पर है। जो भी लोग एनसीसी एनएसएस में हैं वे ज्यादातर इसी सदी में पैदा हुए है। आपको ही 2047 तक देश को आन बान शान के साथ ले जाना है। इन संकल्पों की सिद्धि मां भारती की सिद्धि राष्ट्रभक्ति से बड़ी कोई भक्ति नहीं होती।युवाओं ने भारत को स्टार्टअप में टॉप तीन में पहुंचायाआज हमारे युवाओं ने भारत को स्टार्टअप में टॉप तीन में पहुंचा दिया है। कोरोना के इस संकटकाल में जितने यूनिकॉर्न बने हैं, वे भारत के युवाओं का शक्ति प्रदर्शन हैं। 50 से ज्यादा यूनिकॉर्न कोरोनाकाल में बने हैं। हर यनिकॉर्न की वर्थ 7500 करोड रुपए से ज्यादा होती है। कषि, शिक्षा के क्षेत्र में उल्लेखनीय कार्य हो रहे हैं। भारत को आगे बढ़ने से दुनिया की कोई ताकत नहीं रोक सकती। खिलाड़ियों के परिश्रम का भी बहुत महत्व है। उसकी हार जीत के साथ 130 करोड़ लोग जुड़ जाते है। खिलाड़ियों में भी यह भावना प्रबल है कि मैं पुरस्कार के लिए नहीं, बल्कि देश के लिए खेल रहा हूं। एनसीसी और एनएसएस के युवाओं ने भी कोरोना के इस संकट में अपने सेवाभाव से सभी का दिल जीता है। जो कुछ सीखा उसे अमल में लाएंमोदी ने एनएसएस कैडेट्स से कहा कि जो कुछ आपने सीखा है वह पूरे जीवन में इसी तरह कैसे बना रहे, कैसे यहां की सीख का समाज को लाभ हो, इसे अमल में लाना होगा। स्वच्छता अभियान और गांव के बच्चों की शिक्षा के काम में महती भमिका निभाएं। पुनित सागर अभियान समुद्र तट की सफाई के लिए चलाया था, उसे एनसीसी कैडेट आगे भी जारी रखें। जल संरक्षण में एनसीसी को लोगों को जागरुक करना होगा। आजादी के अमृत काल में 25 वर्ष तक अपने कार्यों व सोच को देश के विकास के साथ जोड़ना है। आप सभी युवा वोकल फॉर लोकल में अहम भूमिका निभाना होगा।\n",
            "Generated Summary: प्रधानमंत्री नरेंद्र मोदी ने एनसीसी अपने संबोधन में कहा कि इस समय देश अपनी आजादी का अमृत महोत्सव मना रहा है। जब युवा देश इस तरह के अवसर का साक्षी बनता है तो उसके उत्सव में एक अलग ही उत्साह दिखता है, यही उत्साह मै\n",
            "Reference Summary: प्रधानमंत्री नरेंद्र मोदी ने 28 जनवरी को दिल्ली के करियप्पा ग्राउंड में राष्ट्रीय कैडेट कोर की रैली को संबोधित किया। पीएम मोदी ने एनसीसी अपने संबोधन में कहा कि इस समय देश अपनी आजादी का अमृत महोत्सव मना रहा है। जब युवा देश इस तरह के अवसर का साक्षी बनता है तो उसके उत्सव में एक अलग ही उत्साह दिखता है, यही उत्साह मैं करियप्पा ग्राउंड में भी मैंने देखा।\n",
            "Metrics: {'rouge1': 0.0, 'rouge2': 0.0, 'rougeL': 0.0, 'rougeLsum': 0.0, 'bert_score_f1': 73.4186}\n",
            "\n",
            "---\n",
            "\n"
          ]
        },
        {
          "metadata": {
            "tags": null
          },
          "name": "stderr",
          "output_type": "stream",
          "text": [
            "Some weights of RobertaModel were not initialized from the model checkpoint at roberta-large and are newly initialized: ['roberta.pooler.dense.bias', 'roberta.pooler.dense.weight']\n",
            "You should probably TRAIN this model on a down-stream task to be able to use it for predictions and inference.\n"
          ]
        },
        {
          "metadata": {
            "tags": null
          },
          "name": "stdout",
          "output_type": "stream",
          "text": [
            "Article 18393:\n",
            "Article: गोवा का नया मुख्यमंत्री चुनने के लिए भारतीय जनता पार्टी (भाजपा) की एक महत्वपूर्ण बैठक सोमवार शाम को पणजी में शुरू हुई। यह बैठक हाल ही में हुए विधानसभा चुनावों में भाजपा के 20 सीटें जीतकर सबसे बड़े राजनीतिक दल के रूप में उभरने के 11 दिन बाद हो रही है। भाजपा के केंद्रीय पर्यवेक्षक नरेंद्र सिंह तोमर और एल मुरुगन भाजपा विधायक दल के नेता के चुनाव की प्रक्रिया की निगरानी के लिए आज दोपहर यहां पहुंचे। भाजपा विधायक दल के नेता इस तटीय राज्य के अगले मुख्यमंत्री के रूप में कार्यभार संभालेंगे। भाजपा के नवनिर्वाचित विधायक राज्य की राजधानी पणजी स्थित पार्टी मुख्यालय में आयोजित बैठक में भाग ले रहे हैं। भाजपा ने राज्य विधानसभा चुनाव में 20 सीटें जीती हैं जो बहुमत के लिए जरूरी संख्या से केवल एक सीट कम है। भाजपा ने एमजीपी के दो विधायकों और तीन निर्दलीय विधायकों का समर्थन हासिल कर लिया है। इससे भाजपा नयी विधानसभा में संख्या के लिहाज से आरामदायक स्थिति में है। अगला मुख्यमंत्री चुनने के बाद, भाजपा नेता और विधायक नयी सरकार बनाने का दावा पेश करने के लिए राजभवन में राज्यपाल पी एस श्रीधरन पिल्लई से मिलने वाले हैं। भाजपा नेता एवं कार्यवाहक मुख्यमंत्री प्रमोद सावंत के शीर्ष पद पर बने रहने की संभावना जतायी जा रही है।\n",
            "Generated Summary: गोवा का नया मुख्यमंत्री चुनने के लिए भारतीय जनता पार्टी (भाजपा) की एक महत्वपूर्ण बैठक सोमवार शाम को पणजी में शुरू हुई। यह बैठक हाल ही में हुए विधानसभा चुनावों में भाजपा के 20 सीटें जीतकर सबसे\n",
            "Reference Summary: भाजपा विधायक दल के नेता इस तटीय राज्य के अगले मुख्यमंत्री के रूप में कार्यभार संभालेंगे। भाजपा के नवनिर्वाचित विधायक राज्य की राजधानी पणजी स्थित पार्टी मुख्यालय में आयोजित बैठक में भाग ले रहे हैं।\n",
            "Metrics: {'rouge1': 0.0, 'rouge2': 0.0, 'rougeL': 0.0, 'rougeLsum': 0.0, 'bert_score_f1': 57.9216}\n",
            "\n",
            "---\n",
            "\n"
          ]
        },
        {
          "metadata": {
            "tags": null
          },
          "name": "stderr",
          "output_type": "stream",
          "text": [
            "Some weights of RobertaModel were not initialized from the model checkpoint at roberta-large and are newly initialized: ['roberta.pooler.dense.bias', 'roberta.pooler.dense.weight']\n",
            "You should probably TRAIN this model on a down-stream task to be able to use it for predictions and inference.\n"
          ]
        },
        {
          "metadata": {
            "tags": null
          },
          "name": "stdout",
          "output_type": "stream",
          "text": [
            "Article 13661:\n",
            "Article: बेंगलुरु: हिजाब विवाद पर कर्नाटक हाईकोर्ट में आज लगातार दूसरे दिन भी सुनवाई होगी। इससे पहले सोमवार को कर्नाटक हाईकोर्ट में हुई सुनवाई में हिजाब पर बैन के खिलाफ अपील करनेवाली छात्रों के वकील ने कहा कि सरकर का आदेश आदेश संविधान के आर्टिकल 25 के खिलाफ है और यह कानूनन वैध नहीं है। आर्टिकल 25 में धार्मिक मान्यताओं के पालन की आजादी दी गई है। इसलिए हिजाब पर बैन को लेकर कानून नहीं है।उल्लेखनीय है कि कर्नाटक हाईकोर्ट ने अपने अंतरिम आदेश में हिजाब से संबंधित सभी याचिकाओं के लंबित रहने के दौरान राज्य सरकार से शैक्षणिक संस्थानों को फिर से खोलने का अनुरोध किया था और सभी छात्रों को भगवा शॉल, स्कार्फ, हिजाब और किसी भी धार्मिक ध्वज को कक्षा के भीतर पहनने पर रोक लगा दी थी। इस बीच कर्नाटक में 10वीं तक के स्कूल सोमवार को फिर से खुल गए। हालांकि, इस दौरान उडुपी (जहां पिछले हफ्ते हिंसा और तनाव दिखा), दक्षिण कन्नड़ तथा बेंगलुरु के संवेदनशील इलाकों में निषेधाज्ञा लागू रही। इन तीन जिलों के संवेदनशील इलाकों में दंड प्रक्रिया संहिता (सीआरपीसी) की धारा 144 लागू की गई है। शिक्षा विभाग के सूत्रों ने बताया कि उडुपी जिले में खुले सभी स्कूलों में सामान्य उपस्थिति दर्ज की गई। इस दौरान जो मुस्लिम छात्राएं हिजाब पहनकर स्कूल आईं, उन्होंने कक्षा में प्रवेश करने से पहले उन्हें उतार दिया। जिला प्रशासन ने शांति बनाए रखने के लिए सोमवार से 19 फरवरी तक जिले के सभी हाईस्कूलों के 200 मीटर के दायरे में सीआरपीसी की धारा 144 लागू कर दी है। कुछ स्कूलों का दौरा करने वाले उडुपी के तहसीलदार प्रदीप कुरुदेकर ने कहा कि मुस्लिम छात्राओं ने कक्षाओं में प्रवेश करने से पहले हिजाब हटाकर उच्च न्यायालय के अंतरिम आदेश का पालन किया। उन्होंने कहा कि भगवा शॉल में हिंदू छात्राओं के आने की कोई रिपोर्ट नहीं थी। कानून-व्यवस्था बनाए रखने और किसी भी अप्रिय घटना से बचने के लिए उडुपी शहर और स्कूलों के पास पुलिसकर्मियों को तैनात किया गया है। इनपुट-भाषा\n",
            "Generated Summary: हिजाब विवाद पर कर्नाटक हाईकोर्ट में आज लगातार दूसरे दिन भी सुनवाई होगी। इससे पहले सोमवार को कर्नाटक हाईकोर्ट में हुई सुनवाई में हिजाब पर बैन के खिलाफ अपील करनेवाली छात्रों के वकील ने कहा कि सरकर का आदेश\n",
            "Reference Summary: इस बीच कर्नाटक में 10वीं तक के स्कूल सोमवार को फिर से खुल गए। हालांकि, इस दौरान उडुपी, दक्षिण कन्नड़ तथा बेंगलुरु के संवेदनशील इलाकों में निषेधाज्ञा लागू रही।\n",
            "Metrics: {'rouge1': 0.0, 'rouge2': 0.0, 'rougeL': 0.0, 'rougeLsum': 0.0, 'bert_score_f1': 52.2759}\n",
            "\n",
            "---\n",
            "\n"
          ]
        },
        {
          "metadata": {
            "tags": null
          },
          "name": "stderr",
          "output_type": "stream",
          "text": [
            "Some weights of RobertaModel were not initialized from the model checkpoint at roberta-large and are newly initialized: ['roberta.pooler.dense.bias', 'roberta.pooler.dense.weight']\n",
            "You should probably TRAIN this model on a down-stream task to be able to use it for predictions and inference.\n"
          ]
        },
        {
          "metadata": {
            "tags": null
          },
          "name": "stdout",
          "output_type": "stream",
          "text": [
            "Article 14893:\n",
            "Article: अमरावती: आंध्र प्रदेश में बस पुल से नीचे गिरकर नहर में जा गिरी। इस हादसे में 9 लोगों की मौत हो गई है। राज्य सड़क परिवहन निगम (एपीएसआरटीसी) की बस पश्चिम गोदावरी जिले में जंगारेड्डीगुडेम के करीब नदी में गिर गई। इस हादसे में बस ड्राइवर की भी मौत हो गई है। हादसे में जख्मी हुए कम से कम 12 मुसाफिरों को जंगारेड्डीगुडेम के एक अस्पताल में भर्ती कराया गया है जबकि गंभीर रूप से जख्मी एक यात्री को एलुरु के जिला मुख्यालय अस्पताल में स्थानांतरित किया गया है। आरटीसी और राजस्व अधिकारियों ने बताया कि बस का कंडक्टर और कई अन्य यात्री बच गए हैं और उन्हें मामूली चोटें आई हैं। बस में 47 यात्री सवार थे और दो चालक दल के सदस्य थे। पश्चिम गोदावरी जिले के पुलिस अधीक्षक राहुल देव शर्मा ने बताया कि बस पड़ोसी राज्य तेलंगाना के असवरापेट से जंगारेड्डीगुडेम जा रही थी। बस ड्राइवर ने जलेरू नदी के ऊपर बने पुल पर विपरीत दिशा से आ रही एक लॉरी से बचने के लिए अपना रास्ता बदलने की कोशिश की, लेकिन वह बस से नियंत्रण खो बैठा। शर्मा ने कहा, “बस पुल की रेलिंग से टकराकर नदी में जा गिरी। हमने अब तक नौ शव बरामद किए हैं, जिनमें पांच महिला यात्री और ड्राइवर अप्पा राव शामिल है।” इस बीच, राज्य सरकार ने प्रत्येक मृतक के परिजन को पांच लाख रुपये की अनुग्रह राशि देने की घोषणा की है। परिवहन मंत्री पी वेंकटरमैया (नैनी) ने कहा कि सरकार घायलों के इलाज का खर्च उठाएगी। राज्यपाल बी. बी. हरिचंदन और मुख्यमंत्री वाई एस जगन मोहन रेड्डी ने बस दुर्घटना पर दुख व्यक्त किया। राज्यपाल ने शोक संतप्त परिवारों के प्रति अपनी संवेदना व्यक्त की। मुख्यमंत्री ने भी शोक संतप्त परिवारों के प्रति अपनी संवेदना व्यक्त की और पश्चिम गोदावरी के जिला कलेक्टर कार्तिकेय मिश्रा को घायल यात्रियों का बेहतर इलाज सुनिश्चित करने का निर्देश दिया। तेलुगु देशम पार्टी के प्रमुख एन चंद्रबाबू नायडू, प्रदेश कांग्रेस अध्यक्ष एस शैलजानाथ और भाजपा के प्रदेश महासचिव एस विष्णुवर्धन रेड्डी ने भी दुर्घटना पर दुख व्यक्त किया है।\n",
            "Generated Summary: आंध्र प्रदेश में बस पुल से नीचे गिरकर नहर में जा गिरी। इस हादसे में 9 लोगों की मौत हो गई है। राज्य सड़क परिवहन निगम (एपीएसआरटीसी) की बस पश्चिम गोदावरी जिले में जंगारेड्डीगुडेम के करीब नदी में गिर\n",
            "Reference Summary: बस का कंडक्टर और कई अन्य यात्री बच गए हैं और उन्हें मामूली चोटें आई हैं। बस में 45 यात्री सवार थे और दो चालक दल के सदस्य थे।\n",
            "Metrics: {'rouge1': 0.0, 'rouge2': 0.0, 'rougeL': 0.0, 'rougeLsum': 0.0, 'bert_score_f1': 47.9039}\n",
            "\n",
            "---\n",
            "\n"
          ]
        },
        {
          "metadata": {
            "tags": null
          },
          "name": "stderr",
          "output_type": "stream",
          "text": [
            "Some weights of RobertaModel were not initialized from the model checkpoint at roberta-large and are newly initialized: ['roberta.pooler.dense.bias', 'roberta.pooler.dense.weight']\n",
            "You should probably TRAIN this model on a down-stream task to be able to use it for predictions and inference.\n"
          ]
        },
        {
          "metadata": {
            "tags": null
          },
          "name": "stdout",
          "output_type": "stream",
          "text": [
            "Article 735:\n",
            "Article: सुप्रीम कोर्ट ने बुधवार को सोशल एक्टिविस्ट तीस्ता सीतलवाड़ को रेगुलर जमानत दे दी। साथ ही उन्हें गोधराकांड के बाद हुए दंगों के गवाहों को प्रभावित नहीं करने का आदेश दिया है।\n",
            "जस्टिस बी आर गवई, जस्टिस ए एस बोपन्ना और जस्टिस दीपांकर दत्ता की बेंच ने गुजरात हाईकोर्ट के एक जुलाई के उस आदेश को भी रद्द कर दिया, जिसमें तीस्ता को 1 जुलाई को सरेंडर करने को कहा गया था। कोर्ट ने कहा कि मामले में तीस्ता के खिलाफ आरोप पत्र दायर किया जा चुका है। इसलिए हिरासत में पूछताछ की जरूरत नहीं है।\n",
            "तीस्ता सीतलवाड़ पर साल 2002 के गुजरात दंगों से जुड़े मामलों में निर्दोष लोगों को फंसाने के लिए फर्जी सबूत गढ़ने का आरोप है।\n",
            "कोर्ट में सरेंडर किया गया तीस्ता का पासपोर्ट सेशन कोर्ट में ही जमा रहेगा। कोर्ट ने गुजरात पुलिस को छूट दी है कि कहीं भी गवाहों को प्रभावित करने की कोशिश की जाए तो सीधे सुप्रीम कोर्ट आएं।\n",
            "सुनवाई के दौरान जज ने कहा - आप 2022 तक क्या कर रहे थे?\n",
            "सुनवाई के दौरान जस्टिस गवई ने तीस्ता की गिरफ्तारी के उद्देश्य और समय पर सवाल उठाया। उन्होंने कहा,आप 2022 तक क्या कर रहे थे? आपने 24 जून और 25 जून के बीच क्या जांच की है जिसके आधार पर फैसला किया कि तीस्ता ने इतना घिनौना काम किया है कि उनकी गिरफ्तारी जरूरी हो गई है?\n",
            "यदि आपके तर्क को मान लें तो इविडेंस एक्ट की डेफिनिशन को ​​​कूड़ेदान में फेंकना होगा। हम आपको केवल इस बात से सावधान कर रहे हैं कि यदि आप इसमें और गहराई से जाएंगे, तो हमें अवलोकन करना होगा।\n",
            "वहीं जस्टिस दत्ता ने कहा- शुरुआत में हमें लग रहा था कि धारा 194 (मौत की सजा दिलाने के लिए झूठे सबूत देना) के तहत मामला है। अब हमें लगता है कि धारा 194 के तहत मामला संदिग्ध है। और आप चाहते हैं कि फैसला आने तक कोई विचाराधीन कैदी और हिरासत में रहे।\n",
            "सीतलवाड़ को पिछले साल 25 जून को गिरफ्तार किया गया था। उन्हें सात दिनों तक पुलिस रिमांड में रखा गया और 2 जुलाई को न्यायिक हिरासत में भेज दिया गया था।\n",
            "SC की टिप्पणी के बाद गुजरात पुलिस ने किया था गिरफ्तार\n",
            "सुप्रीम कोर्ट ने 2002 के गुजरात दंगों के मामले में तत्कालीन मुख्यमंत्री नरेंद्र मोदी को क्लीन चिट देने वाली SIT रिपोर्ट के खिलाफ याचिका को 24 जून, 2022 को खारिज कर दिया था। यह याचिका जकिया जाफरी ने दाखिल की थी। जकिया जाफरी के पति एहसान जाफरी की इन दंगों में मौत हुई थी।\n",
            "सुप्रीम कोर्ट ने कहा कि जकिया की याचिका में मेरिट नहीं है। कोर्ट ने यह भी कहा था कि मामले में को-पिटीशनर तीस्ता ने जकिया जाफरी की भावनाओं के साथ खिलवाड़ किया। कोर्ट ने तीस्ता की भूमिका की जांच की बात कही थी। इसके बाद तीस्ता को मुंबई से गिरफ्तार किया गया।\n",
            "अहमदाबाद सेशन कोर्ट ने 30 जुलाई को तीस्ता की जमानत अर्जी खारिज कर दी थी। इसके बाद वह हाईकोर्ट पहुंचीं। तीन अगस्त को हाईकोर्ट ने इस मामले में राज्य सरकार को नोटिस जारी किए और 19 सितंबर को सुनवाई की तारीख तय की। हाईकोर्ट ने उनकी दलीलें नहीं मानीं तो तीस्ता सुप्रीम कोर्ट पहुंच गईं।\n",
            "2 सितंबर को सुप्रीम कोर्ट ने उन्हें अंतरिम जमानत दे दी। कोर्ट ने कहा कि जब तक हाईकोर्ट जमानत पर फैसला नहीं करे तब तक वो अपना पासपोर्ट सेशन कोर्ट में जमा कर दें। हाईकोर्ट ने एक जुलाई को उन्हें तुरंत सरेंडर करने का आदेश दिया था।\n",
            "फर्जी दस्तावेज बनाकर साजिश का आरोप\n",
            "गुजरात दंगों के मामले में अहमदाबाद क्राइम ब्रांच ने तीस्ता सीतलवाड़, पूर्व IPS संजीव भट्ट और DGP आरबी श्रीकुमार के खिलाफ फर्जी दस्तावेज बनाकर साजिश रचने का मामला दर्ज किया था। संजीव भट्ट पहले से जेल में थे, जबकि तीस्ता और श्रीकुमार को पिछले साल एक साथ गिरफ्तार किया गया था।\n",
            "गुजरात में 2002 में हुई थी सांप्रदायिक हिंसा\n",
            "27 फरवरी 2002 को गुजरात के गोधरा स्टेशन पर साबरमती एक्सप्रेस ट्रेन के S-6 डिब्बे में आग लगा दी गई थी। आग लगने से 59 लोग मारे गए थे। ये सभी कारसेवक थे, जो अयोध्या से लौट रहे थे। गोधरा कांड के बाद पूरे गुजरात में दंगे भड़क उठे। इन दंगों में 1,044 लोग मारे गए थे। उस समय नरेंद्र मोदी गुजरात के मुख्यमंत्री थे।\n",
            "गोधरा कांड के अगले दिन, यानी 28 फरवरी को अहमदाबाद की गुलबर्ग हाउसिंग सोसायटी में बेकाबू भीड़ ने 69 लोगों की हत्या कर दी थी। मरने वालों में कांग्रेस के पूर्व सांसद एहसान जाफरी भी थे, जो इसी सोसायटी में रहते थे। इन दंगों से राज्य में हालात इतने बिगड़ गए थे कि तीसरे दिन सेना उतारनी पड़ी थी।\n",
            "जांच आयोग ने नरेंद्र मोदी को क्लीन चिट दी थी\n",
            "गोधरा कांड की जांच के लिए 6 मार्च 2002 को गुजरात सरकार ने नानावटी-शाह आयोग का गठन किया। हाईकोर्ट के रिटायर्ड जज केजी शाह और सुप्रीम कोर्ट के रिटायर्ड जज जीटी नानावटी इसके सदस्य बने। आयोग ने अपनी रिपोर्ट का पहला हिस्सा सितंबर 2008 को पेश किया। इसमें गोधरा कांड को सोची-समझी साजिश बताया गया। साथ ही नरेंद्र मोदी, उनके मंत्रियों और वरिष्ठ अफसरों को क्लीन चिट दी गई।\n",
            "2009 में जस्टिस केजी शाह का निधन हो गया। इसके बाद गुजरात हाईकोर्ट के रिटायर्ड जज जस्टिस अक्षय मेहता इसके सदस्य बने और इसका नाम नानावटी-मेहता आयोग हो गया। इसने दिसंबर 2019 में अपनी रिपोर्ट का दूसरा हिस्सा पेश किया। इसमें भी वही बात दोहराई गई, जो रिपोर्ट के पहले हिस्से में कही गई थी।​​​​​​\n",
            "Generated Summary: जस्टिस बी आर गवई, जस्टिस ए एस बोपन्ना और जस्टिस दीपांकर दत्ता की बेंच ने गुजरात हाईकोर्ट के एक जुलाई के उस आदेश को भी रद्द कर दिया, जिसमें तीस्ता को 1 जुलाई को सरेंडर करने को कहा गया था।\n",
            "Reference Summary: Teesta Setalvad VS Gujarat Riot Case सुप्रीम कोर्ट ने बुधवार को सोशल एक्टीविस्ट तीस्ता सीतलवाड़ को रेगुलर जमानत दे दी।साथ ही उन्हें गोधराकांड के बाद हुए दंगों के गवाहों को प्रभावित नहीं करने का आदेश दिया है।\n",
            "Metrics: {'rouge1': 0.0, 'rouge2': 0.0, 'rougeL': 0.0, 'rougeLsum': 0.0, 'bert_score_f1': 57.6755}\n",
            "\n",
            "---\n",
            "\n"
          ]
        },
        {
          "metadata": {
            "tags": null
          },
          "name": "stderr",
          "output_type": "stream",
          "text": [
            "Some weights of RobertaModel were not initialized from the model checkpoint at roberta-large and are newly initialized: ['roberta.pooler.dense.bias', 'roberta.pooler.dense.weight']\n",
            "You should probably TRAIN this model on a down-stream task to be able to use it for predictions and inference.\n"
          ]
        },
        {
          "metadata": {
            "tags": null
          },
          "name": "stdout",
          "output_type": "stream",
          "text": [
            "Article 4507:\n",
            "Article: पंजाब में शराब कारोबारी दीप मल्होत्रा के घर इनकम टैक्स की रेड शुक्रवार को भी जारी है। पिछले 30 घंटों से टीमें पूर्व विधायक का घर-ऑफिस, उनके 5 करीबियों के घर और ऑफिस खंगाल रही है। हालांकि मलहोत्रा फरीदकोट शहर स्थित आवास पर कभी-कभी ही आते हैं, वह भी कुछ घंटों के लिए, ऐसे में घर एक केयरटेकर के हवाले ही रहता है।\n",
            "इस बार रेड और जांच का दायरा बड़ा\n",
            "दिल्ली शराब घोटाले में मल्होत्रा के बेटे की गिरफ्तारी के बाद यह पहली रेड है, हालांकि गिरफ्तारी से पहले भी कई बार IT की टीम द्वारा मल्होत्रा के फरीदकोट वाले घर और उनके CA के घर में रेड पड़ती रही है, परंतु इस बार रेड और जांच का दायरा बड़ा है, इसलिए फरीदकोट में मल्होत्रा के घर, उनके माइखाना मोहल्ले में स्थित दफ्तर, आदर्श नगर में उनके एक रिश्तेदार व उनके 4 करीबियों के यहां बुधवार की सुबह से रेड अनवरत जारी है।\n",
            "दिल्ली शराब घोटाले से रेड का कनेक्शन\n",
            "फिरोजपुर में मल्होत्रा से जुड़े प्रतिष्ठानों, दफ्तर व उनके CEO का घर भी खंगाला जा रहा है। बताया जा रहा है कि आयकर विभाग की एक बहुत बड़ी टीम एक साथ फरीदकोट, फिरोजपुर, बठिंड़ा व लुधियाना में छापामारी कर रही है, परंतु अब तक की जांच में क्या कुछ मिला, इसका खुलासा अभी तक नहीं हो पाया है, परंतु उक्त छापामारी को दिल्ली शराब घोटाले से जोड़ कर देखा जा रहा है, जिसकी आंच CM अरविंद केजरीवाल तक भी पहुंची।\n",
            "Generated Summary: पंजाब में शराब कारोबारी दीप मल्होत्रा के घर इनकम टैक्स की रेड शुक्रवार को भी जारी है। पिछले 30 घंटों से टीमें पूर्व विधायक का घर-ऑफिस, उनके 5 करीबियों के घर और ऑफिस खंगाल रही है।\n",
            "Reference Summary: पंजाब में शराब कारोबारी दीप मल्होत्रा के घर इनकम टैक्स की रेड शुक्रवार को भी जारी है। पिछले 30 घंटों से टीमें पूर्व विधायक का घर-ऑफिस, उनके 5 करीबियों के घर और ऑफिस खंगाल रही है। \n",
            "Metrics: {'rouge1': 100.0, 'rouge2': 100.0, 'rougeL': 100.0, 'rougeLsum': 100.0, 'bert_score_f1': 99.9999}\n",
            "\n",
            "---\n",
            "\n"
          ]
        },
        {
          "metadata": {
            "tags": null
          },
          "name": "stderr",
          "output_type": "stream",
          "text": [
            "Some weights of RobertaModel were not initialized from the model checkpoint at roberta-large and are newly initialized: ['roberta.pooler.dense.bias', 'roberta.pooler.dense.weight']\n",
            "You should probably TRAIN this model on a down-stream task to be able to use it for predictions and inference.\n"
          ]
        },
        {
          "metadata": {
            "tags": null
          },
          "name": "stdout",
          "output_type": "stream",
          "text": [
            "Article 9441:\n",
            "Article: बॉर्डर-गावस्कर ट्रॉफी में 2-0 से पिछड़ चुकी ऑस्ट्रेलिया की मुश्किलें कम नहीं हो रहीं। टीम के 6 खिलाड़ी बीच सीरीज में ऑस्ट्रेलिया लौट चुके हैं। ओपनर डेविड वार्नर कोहनी की चोट के चलते सीरीज से बाहर हो गए हैं।\n",
            "वनडे सीरीज में ऑस्ट्रेलियाई टीम में शामिल किए गए ऑलराउंडर ग्लेन मैक्सवेल भी चोटिल हो गए हैं। वे ऑस्ट्रेलिया में विक्टोरिया के खिलाफ मैच में स्लिप में कैच लेते वक्त चोटिल हो गए। उनकी कलाई में फ्रैक्चर है। ऐसे में 17 मार्च से शुरू हो रही वन डे सीरीज में उनके खेलने पर संशय है।\n",
            "ग्राफिक में देखिए कौन सा प्लेयर किस वजह से घर लौटा\n",
            "अच्छी खबर भी: इंदौर में टेस्ट में वापसी करेंगे कमिंस, स्टार्क और ग्रीन भी फिट\n",
            "ऑस्ट्रेलिया टीम के कप्तान पैट कमिंस अपने घर सिडनी लौटे हैं। कमिंस की फैमिली में स्वास्थ्य संबंधी समस्या आई है, जिस वजह से टूर के बीच में उन्होंने घर जाने का फैसला लिया। हालांकि वे 1 मार्च से इंदौर में खेले जाने वाले तीसरे टेस्ट में खेलेंगे। टीम के पेसर मिचेल स्टार्क और ऑलराउंडर कैमरून ग्रीन फिट हो चुके हैं। वे अब इंदौर टेस्ट खेल सकते हैं।\n",
            "बुरी खबर: हेजलवुड सीरीज से बाहर, रेनशॉ को भी फ्रैक्चर\n",
            "वार्नर को सिराज की गेंद पर लगी थी चोट\n",
            "ऑस्ट्रेलिया के सलामी बल्लेबाज डेविड वार्नर दिल्ली टेस्ट के दूसरे दिन टीम से बाहर हो गए थे। उन्हें इंडियन पेसर मोहम्मद सिराज की गेंद पर सिर में चोट लगी थी। उन्हें कोहनी में भी चोट आई थी। इस कारण वे अब घर जा रहे हैं।\n",
            "ऑस्ट्रेलिया का मौजूदा टेस्ट स्क्वाड \n",
            "पैट कमिंस (कप्तान), एश्टन एगर, स्कॉट बोलैंड, एलेक्स केरी, कैमरून ग्रीन, पीटर हैंड्सकॉम्ब, जोश हेजलवुड, ट्रेविस हेड, उस्मान ख्वाजा, मैट कुह्नमैन, मारनस लाबुशेन, नाथन लायन, लांस मॉरिस, टॉड मर्फी, मैथ्यू रेनशॉ , स्टीव स्मिथ (उपकप्तान), मिचेल स्टार्क, मिशेल स्वेपसन, डेविड वार्नर।\n",
            "भारत से 3 वनडे खेलेगा ऑस्ट्रेलिया\n",
            "9 फरवरी से भारत और ऑस्ट्रेलिया के बीच टेस्ट सीरीज शुरू हो चुकी है। पहला और दूसरा टेस्ट भारत जीत चुका है। अब 1 से 5 मार्च तक इंदौर में तीसरा और 9 से 13 मार्च तक अहमदाबाद में चौथा टेस्ट खेला जाएगा। इसके बाद 17, 19 और 22 मार्च को 3 वनडे भी होंगे।\n",
            "Generated Summary: इंदौर में टेस्ट में वापसी करेंगे कमिंस, स्टार्क और ग्रीन भी फिट ऑस्ट्रेलिया टीम के कप्तान पैट कमिंस अपने घर सिडनी लौटे हैं। कमिंस की फैमिली में स्वास्थ्य संबंधी समस्या आई है, जिस वजह से टूर\n",
            "Reference Summary: India vs Australia Third Test Match बॉर्डर-गावस्कर ट्रॉफी में 2-0 से पिछड़ चुकी ऑस्ट्रेलिया की मुश्किलें कम नहीं हो रहीं। टीम के 6 खिलाड़ी बीच सीरीज में ऑस्ट्रेलिया लौट चुके हैं\n",
            "Metrics: {'rouge1': 0.0, 'rouge2': 0.0, 'rougeL': 0.0, 'rougeLsum': 0.0, 'bert_score_f1': 53.1245}\n",
            "\n",
            "---\n",
            "\n"
          ]
        },
        {
          "metadata": {
            "tags": null
          },
          "name": "stderr",
          "output_type": "stream",
          "text": [
            "Some weights of RobertaModel were not initialized from the model checkpoint at roberta-large and are newly initialized: ['roberta.pooler.dense.bias', 'roberta.pooler.dense.weight']\n",
            "You should probably TRAIN this model on a down-stream task to be able to use it for predictions and inference.\n"
          ]
        },
        {
          "metadata": {
            "tags": null
          },
          "name": "stdout",
          "output_type": "stream",
          "text": [
            "Article 12254:\n",
            "Article: बेंगलुरु: राज्य में कोविड-19 के मामलों में कमी आने की पृष्ठभूमि में कर्नाटक सरकार ने सोमवार को आदेश जारी कर 25 अक्टूबर से प्राथमिक विद्यालय (पहली से पांचवीं कक्षा) खोलने की अनुमति दे दी है, लेकिन इस दौरान संक्रमण से संबंधित सभी एहतियात बरतने होंगे और प्रोटोकॉल का कड़ाई से पालन करना होगा। सरकार ने साथ ही, राज्य के हवाई अड्डों पर आने वाले अंतरराष्ट्रीय यात्रियों के लिए नियमों में कुछ ढील देने और कुछ शर्तों के साथ स्विमिंग पुल खोलने की भी अनुमति दी है। मुख्य सचिव पी. रवि कुमार द्वारा जारी आदेश के अनुसार, ‘‘पहली से पांचवीं कक्षा तक के छात्रों के लिए स्कूल 25 अक्टूबर, 2021 से दोबारा खुलेंगे। इस दौरान कोविड-19 प्रोटोकॉल और प्राथमिक और माध्यमिक शिक्षा विभाग द्वारा जारी मानक संचालन प्रक्रिया का कड़ाई से पालन किया जाएगा। बच्चों के स्कूल आने के लिए उनके माता-पिता की लिखित सहमति अनिवार्य होगी।’’सरकार ने इस संबंध में कुछ नियम बनाए हैं, जैंसे प्रवेश के समय कोविड-19 के लक्षणों की जांच, कक्षा में कुल क्षमता की 50 प्रतिशत उपस्थिति, हैंड सेनेटाइजर, कम से कम एक मीटर की दूरी, भीड़ जमा नहीं करना, विशेष रूप से स्कूल के प्रवेश और निकास द्वार पर, एक प्रतिशत सोडियम हाइपोक्लोराइड सॉल्यूशन की मदद से रोजाना कक्षाओं और शौचालयों की सफाई करना आदि शामिल हैं। उसमें कहा गया है कि कोविड-19 टीके की दोनों खुराकें लगवा चुके शिक्षकों और कर्मचारियों को ही पहली से पांचवीं कक्षा के छात्रों की कक्षाओं में जाने की अनुमति होगी। वहीं, जिन शिक्षकों की आयु 50 साल से ज्यादा है उन्हें फेस शील्ड का भी उपयोग करना होगा। बयान के अनुसार, ‘‘पहली से पांचवीं कक्षा के लिए स्कूल फिर से शुरू करने से संबंधित संचालन दिशा-निर्देश प्राथमिक और माध्यमिक शिक्षा विभाग द्वारा जारी किए जाएंगे।’’ कर्नाटक में छठवीं से आठवीं कक्षा तक के लिए छह सितंबर और नौवीं से 12वीं कक्षा तक के लिए स्कूल 23 अगस्त से खुल चुके हैं। कर्नाटक के मुख्यमंत्री बसवराज बोम्मई ने आज दिन में कहा था कि राज्य में पहली से पांचवीं कक्षाओं तक के विद्यार्थियों के लिए विद्यालय खुलेंगे। उन्होंने कहा था, ‘‘विशेषज्ञ समिति पहले ही रिपोर्ट दे चुकी है, हम आदेश जारी करेंगे। इस बारे में, कि कक्षाएं कब से शुरू होंगी तथा अन्य ब्योरों को लेकर मुख्य सचिव शिक्षा विभाग के साथ बैठक करेंगे।’’ प्राथमिक एवं माध्यमिक शिक्षा मंत्री बी. सी. नागेश ने कहा था कि राज्य की तकनीकी सलाहकार समिति की सिफारिश के आधार पर पहली से पांचवीं कक्षाओं तक के विद्यार्थियों के लिए लिए विद्यालय खोले जायेंगे । उन्होंने कहा था, ‘‘यदि वे 21 अक्टूबर से कहते हैं तो हम 21 अक्टूबर से खोल देंगे, यदि वे एक सप्ताह बाद कहेंगे तो हम एक सप्ताह बाद विद्यालय खोलेंगे।’’\n",
            "Generated Summary: राज्य में कोविड-19 के मामलों में कमी आने की पृष्ठभूमि में कर्नाटक सरकार ने सोमवार को आदेश जारी कर 25 अक्टूबर से प्राथमिक विद्यालय (पहली से पांचवीं कक्षा) खोलने की अनुमति दे दी है, लेकिन इस दौरान संक्रमण से संबंध\n",
            "Reference Summary: प्राथमिक एवं माध्यमिक शिक्षा मंत्री बी. सी. नागेश ने कहा था कि राज्य की तकनीकी सलाहकार समिति की सिफारिश के आधार पर पहली से पांचवीं कक्षाओं तक के विद्यार्थियों के लिए लिए विद्यालय खोले जायेंगे।\n",
            "Metrics: {'rouge1': 0.0, 'rouge2': 0.0, 'rougeL': 0.0, 'rougeLsum': 0.0, 'bert_score_f1': 57.9001}\n",
            "\n",
            "---\n",
            "\n"
          ]
        },
        {
          "metadata": {
            "tags": null
          },
          "name": "stderr",
          "output_type": "stream",
          "text": [
            "Some weights of RobertaModel were not initialized from the model checkpoint at roberta-large and are newly initialized: ['roberta.pooler.dense.bias', 'roberta.pooler.dense.weight']\n",
            "You should probably TRAIN this model on a down-stream task to be able to use it for predictions and inference.\n"
          ]
        },
        {
          "metadata": {
            "tags": null
          },
          "name": "stdout",
          "output_type": "stream",
          "text": [
            "Article 12992:\n",
            "Article: लखनऊ. एक तरफ जहां प्रियंका गांधी उत्तर प्रदेश में कांग्रेस पार्टी को मजबूत करने की कोशिशें कर रही हैं, वहीं दूसरी तरफ उनके तमाम प्रयास नाकाम होते दिखाई दे रहे हैं। अभी चंद दिनों पहले ही केंद्र सरकार में मंत्री रहे जितिन प्रसाद ने बीजेपी का दामन थामा था, वहीं अब यूपी कांग्रेस के एक नेता पार्टी के प्रदेश अध्यक्ष अजय कुमार लल्लू के खिलाफ मुकदमा दर्ज करवाया है। अजय कुमार लल्लू के खिलाफ मुकदमा यूपी कांग्रेस के नेता सुनील राय ने लखनऊ के हुसैनगंज थाने में लिखवाया है। उन्होंने अजय कुमार लल्लू से अपनी जान को खतरा बताया है।इतना ही नहीं, यूपी कांग्रेस के प्रदेश सचिय सुनील राय ने प्रेस विज्ञप्ति जारी कर अजय कुमार लल्लू को सवर्ण विरोधी बताते हुए उन्हें पार्टी से हटाने की मांग की है। सुनील राय ने न सिर्फ अपनी बल्कि अपने लोगों की भी हत्या की आंशका जताई है। उन्होंने कहा कि अजय कुमार लल्लू सबको लेकर चलने में सक्षम नहीं हैं और लगातार पार्टी का जनाधार गिराने का काम कर रहे हैं। उन्होंने कहा कि पहले ये सर्वसमाज की पार्टी थी, पर अब लल्लू के व्यवहार से तमाम लोग कांग्रेस से कट गए हैं।\n",
            "Generated Summary: प्रियंका गांधी उत्तर प्रदेश में कांग्रेस पार्टी को मजबूत करने की कोशिशें कर रही हैं, वहीं दूसरी तरफ उनके तमाम प्रयास नाकाम होते दिखाई दे रहे हैं। अभी चंद दिनों पहले ही केंद्र सरकार में मंत्री रहे जितिन प्रसाद ने बीजेपी\n",
            "Reference Summary: यूपी कांग्रेस के प्रदेश सचिय सुनील राय ने प्रेस विज्ञप्ति जारी कर अजय कुमार लल्लू को सवर्ण विरोधी बताते हुए उन्हें पार्टी से हटाने की मांग की है। सुनील राय ने न सिर्फ अपनी बल्कि अपने लोगों की भी हत्या की आंशका जताई है।\n",
            "Metrics: {'rouge1': 0.0, 'rouge2': 0.0, 'rougeL': 0.0, 'rougeLsum': 0.0, 'bert_score_f1': 58.1664}\n",
            "\n",
            "---\n",
            "\n"
          ]
        },
        {
          "metadata": {
            "tags": null
          },
          "name": "stderr",
          "output_type": "stream",
          "text": [
            "Some weights of RobertaModel were not initialized from the model checkpoint at roberta-large and are newly initialized: ['roberta.pooler.dense.bias', 'roberta.pooler.dense.weight']\n",
            "You should probably TRAIN this model on a down-stream task to be able to use it for predictions and inference.\n"
          ]
        },
        {
          "metadata": {
            "tags": null
          },
          "name": "stdout",
          "output_type": "stream",
          "text": [
            "Article 9140:\n",
            "Article: मार्च महीने में अगर आपको बैंक में कोई काम है तो आपका ये जानना बहुत जरूरी है कि इस महीने बैंक में कितने दिन काम-काज होगा। मार्च में बैंक कुल 12 दिन बंद रहेंगे। इस महीने 4 रविवार और 2 शनिवार को बैंकों में काम नहीं होगा। इसके अलावा 6 दिन अलग-अलग जगहों पर बैंक बंद रहेंगे।\n",
            "होली और गुडी पडवा समेत कई त्योहारों पर बैंक बंद\n",
            "मार्च में होली के अलावा गुड़ी पड़वा और रामनवमी जैसे कई त्योहार मनाए जाएंगे। इन त्योहारों पर अगल-अलग राज्यों में बैंकों में काम काज नहीं होगा। यहां हम आपको मार्च महीने की बैंक हॉलिडे लिस्ट बता रहे हैं, ताकि आप बैंक से जुड़े काम निपटा सकें।\n",
            "नोट: बैंकों के लिए सभी राज्यों में छुट्टियों की लिस्ट एक सी नहीं होती। RBI के मुताबिक, सभी राज्यों की छुट्टियों की लिस्ट अलग होती है। RBI की साइट पर जाने के लिए यहां क्लिक करें\n",
            "Generated Summary: मार्च महीने में अगर आपको बैंक में कोई काम है तो आपका ये जानना बहुत जरूरी है कि इस महीने बैंक में कितने दिन काम-काज होगा। मार्च में बैंक कुल 12 दिन बंद रहेंगे। इस महीने 4 रविवार और 2 शनिवार को बैंकों में काम\n",
            "Reference Summary: Bank Holidays March 2023; How many holidays are there in March 2023 मार्च महीने में अगर आपको बैंक में कोई काम है तो आपका ये जानना बहुत जरूरी है कि इस महीने बैंक में कितने दिन काम-काज होगा। मार्च में बैंक कुल 12 दिन बंद रहेंगे\n",
            "Metrics: {'rouge1': 12.5, 'rouge2': 0.0, 'rougeL': 12.5, 'rougeLsum': 12.5, 'bert_score_f1': 74.6023}\n",
            "\n",
            "---\n",
            "\n"
          ]
        },
        {
          "metadata": {
            "tags": null
          },
          "name": "stderr",
          "output_type": "stream",
          "text": [
            "Some weights of RobertaModel were not initialized from the model checkpoint at roberta-large and are newly initialized: ['roberta.pooler.dense.bias', 'roberta.pooler.dense.weight']\n",
            "You should probably TRAIN this model on a down-stream task to be able to use it for predictions and inference.\n"
          ]
        },
        {
          "metadata": {
            "tags": null
          },
          "name": "stdout",
          "output_type": "stream",
          "text": [
            "Article 5059:\n",
            "Article: अटल पेंशन योजना (APY) को आज यानी 9 मई को 8 साल पूरे हो गए हैं। इस योजना की शुरुआत 9 मई 2015 को प्रधानमंत्री नरेन्द्र मोदी ने की थी। अटल पेंशन योजना के तहत 60 साल का होने पर हर महीने 1,000 से लेकर 5,000 रुपए की पेंशन मिलती है।\n",
            "ऐसे में इस योजना के जरिए आप अपने बुढ़ापे को आर्थिक सुरक्षा दे सकते हैं। इस योजना में अब तक 5 करोड़ से ज्यादा लोग रजिस्ट्रेशन करा चुके हैं। आज हम आपको इस योजना के बारे में बता रहे हैं, ताकि आप भी इसमें निवेश करके अपने लिए पेंशन का इंतजाम कर सकें।\n",
            "आपकी उम्र के हिसाब से तय होता है आपका योगदान\n",
            "अमाउंट कितना कटेगा यह इस बात पर निर्भर करेगा कि आप रिटायरमेंट के बाद कितनी पेंशन चाहते हैं। 1 से 5 हजार रुपए प्रतिमाह पेंशन लेने के लिए सब्स्क्राइबर को 42 से लेकर 210 रुपए प्रतिमाह तक भुगतान करना होगा। यह 18 साल की उम्र में स्कीम लेने पर होगा।\n",
            "वहीं, यदि कोई सब्स्क्राइबर 40 साल की उम्र में स्कीम लेता है तो उसे 291 से लेकर 1,454 रुपए प्रतिमाह तक का कॉन्ट्रीब्यूशन करना होगा। सब्स्क्राइबर जितना ज्यादा कॉन्ट्रीब्यूशन करेगा, उसे रिटायरमेंट के बाद उतनी ही ज्यादा पेंशन मिलेगी।\n",
            "यहां देखें अटल पेंशन योजना में कितने पैसे जमा करने पर कितनी पेंशन मिलती है?\n",
            "अगर 18 साल का कोई व्यक्ति हर महीने…\n",
            "अगर 40 साल का कोई व्यक्ति हर महीने…\n",
            "19 से 39 साल के लोगों के लिए भी अलग-अलग अमाउंट तय किया गया है, आप इसे ऑनलाइन या बैंक जाकर पता कर सकते हैं।\n",
            "अपनी सुविधा के हिसाब से दे सकते हैं किस्त\n",
            "इस योजना के तहत इन्वेस्टर्स मंथली, क्वाटरली या सेमी-एनुअल यानी 6 माह की अवधि में निवेश कर सकते हैं। कॉन्ट्रीब्यूशन ऑटो-डेबिट हो जाएगा, यानी आपके अकाउंट से तय राशि अपने आप कट जाएगी और आपके पेंशन खाते में जमा हो जाएगी।\n",
            "सब्सक्राइबर की मृत्यु के बाद उसके जीवनसाथी को मिलेगी पेंशन\n",
            "सब्सक्राइबर की मृत्यु के बाद उसके स्पाउस (जीवनसाथी) को समान पेंशन का भुगतान किया जाएगा और सबस्क्राइबर और स्पाउस दोनों के निधन पर 60 साल की आयु तक जमा की गई पेंशन राशि नॉमिनी को वापस कर दी जाएगी।\n",
            "वहीं अगर 60 साल से पहले ग्राहक की मृत्यु के मामले में उसका जीवनसाथी APY खाते में योगदान जारी रख सकता है। ग्राहक का पति या पत्नी वही पेंशन राशि प्राप्त करने का हकदार होगा जो ग्राहक को मिलनी थी। वहीं अगर वो चाहे तो ऐसा न करके APY खाते में जमा पूरा पैसा निकाल सकता है।\n",
            "टैक्सपेयर को नहीं मिलता योजना का लाभ\n",
            "अटल पेंशन योजना टैक्सपेयर्स के लिए नहीं है। यानी की अगर आप इनकम टैक्स चुकाते हैं तो इस योजना में अकाउंट नहीं खोल सकेंगे। ये नियम सरकार ने 1 अक्टूबर 2022 से लागू किया है।\n",
            "बैंक जाकर भी खोल सकते हैं अकाउंट\n",
            "किसी भी बैंक में जाकर अकाउंट ओपन करवा सकते हैं। अटल पेंशन योजना के फॉर्म को भरकर मांगे गए डॉक्यूमेंट्स के साथ आपको बैंक ब्रांच में जमा करना होगा। एप्लिकेशन अप्रूव होने के बाद आपके पास कंफर्मेशन का मैसेज आएगा। उसके बाद आपकी उम्र के आधार पर आपका मंथली कॉन्ट्रीब्यूशन तय हो जाएगा।\n",
            "अटल पेंशन योजना से जुड़े सवाल-जवाब\n",
            "सवाल: क्या सेविंग्स अकाउंट के बिना भी APY अकाउंट खोल सकते हैं?\n",
            "जवाब: नहीं, इस स्कीम के लिए सेविंग्स बैंक अकाउंट होना जरूरी है।\n",
            "सवाल: मंथली कॉन्ट्रिब्यूशन की तारीख कैसे तय होती है?\n",
            "जवाब: पहली इन्वेस्टमेंट की तारीख के आधार पर यह तय होती है।\n",
            "सवाल: क्या सब्सक्राइबर्स को नॉमिनी रखना जरूरी है?\n",
            "जवाब: हां, नॉमिनी रखना जरूरी है।\n",
            "सवाल: अटल पेंशन योजना के कितने अकाउंट खोल सकते हैं?\n",
            "जवाब: अटल पेंशन योजना का एक ही अकाउंट खोलने की इजाजत है।\n",
            "सवाल: अगर अकाउंट में मंथली कॉन्ट्रीब्यूशन के लिए बैलेंस नहीं है तो क्या होगा?\n",
            "जवाब: मंथली कॉन्ट्रीब्यूशन करने के लिए आपके अकाउंट में बैलेंस नहीं होने पर जुर्माना लगेगा। योजना के बारे में अधिक जानकारी के लिए यहां क्लिक करें\n",
            "Generated Summary: अटल पेंशन योजना में कितने पैसे जमा करने पर कितनी पेंशन मिलती है? अगर 18 साल का कोई व्यक्ति हर महीने... अगर 40 साल का कोई व्यक्ति हर महीने... 19 से 39 साल के लोगों के लिए भी अलग-अलग अमाउंट तय किया\n",
            "Reference Summary: Atal Pension Yojana; Atal Pension Yojana (APY) Scheme Details & Eligibility Important and Latest Information इस योजना की शुरुआत 9 मई 2015 को प्रधानमंत्री नरेन्द्र मोदी ने की थी। अटल पेंशन योजना के तहत 60 साल का होने पर हर महीने 1,000 से लेकर 5,000 रुपए की पेंशन मिलती है\n",
            "Metrics: {'rouge1': 0.0, 'rouge2': 0.0, 'rougeL': 0.0, 'rougeLsum': 0.0, 'bert_score_f1': 41.3873}\n",
            "\n",
            "---\n",
            "\n"
          ]
        },
        {
          "metadata": {
            "tags": null
          },
          "name": "stderr",
          "output_type": "stream",
          "text": [
            "Some weights of RobertaModel were not initialized from the model checkpoint at roberta-large and are newly initialized: ['roberta.pooler.dense.bias', 'roberta.pooler.dense.weight']\n",
            "You should probably TRAIN this model on a down-stream task to be able to use it for predictions and inference.\n"
          ]
        },
        {
          "metadata": {
            "tags": null
          },
          "name": "stdout",
          "output_type": "stream",
          "text": [
            "Article 2649:\n",
            "Article: बिग बॉस ओटीटी सीजन 2 शुरू हो चुका है। चौंकाने वाली बात यह है कि शनिवार को टेलीकास्ट हुए इसके लॉन्च एपिसोड के अगले दिन ही इस सीजन का पहला एलिमिनेशन भी हो गया। यूट्यूबर पुनीत सुपरस्टार को शो में पार्टिसिपेट करने के 24 घंटे के अंदर ही एलिमिनेट कर दिया गया। \n",
            "इसी के साथ बिग बॉस के इतिहास में शायद यह पहली बार हुआ है कि किसी कंटेस्टेंट को 24 घंटे से कम समय में बाहर कर दिया गया हो।\n",
            "घर में घुसते ही शुरू कर दीं अजीबोगरीब हरकतें\n",
            "पुनीत ने घर में एंट्री करते ही अपनी अजीबोगरीब हरकतें शुरू कर दी थीं। उन्होंने अपने चेहरे पर टूथपेस्ट लगाकर खुद पर केमिकल भी डाल लिया था। बिग बॉस ने पुनीत को इस बिहेवियर को लेकर वॉर्निंग भी दी पर वो नहीं माने। अंत में बाकी घरवालों ने उनके खिलाफ वोट करके उन्हें बाहर का रास्ता दिखाया।\n",
            "कौन हैं पुनीत सुपरस्टार\n",
            "पुनीत सुपरस्टार के नाम से मशहूर पुनीत शर्मा यूट्यूबर हैं। अपने रैंट वीडियोज के चलते पब्लिक के बीच फेमस हुए पुनीत की सोशल मीडिया पर जबरदस्त फैन फॉलोइंग है। बिग बॉस के घर से बाहर निकाले जाने के बाद से फैंस उनका सोशल मीडिया पर समर्थन कर रहे हैं।\n",
            "पैनलिस्ट ने दी थी 10वीं रैंक\n",
            "इससे पहले शनिवार को टेलीकास्ट हुए शो के लॉन्च एपिसोड में सलमान खान ने सभी 13 कंटेस्टेंट्स को इंट्रोड्यूस किया था। घर में एंट्री करने से पहले इन कंटेस्टेंट्स को पैनलिस्ट की एक टीम रोस्ट कर रही थी। इस टीम में क्रिकेटर अजय जडेजा, सनी लियोन और बिग बॉस 16 विनर एमसी स्टैन शामिल थे। जहां पब्लिक ने पुनीत को सेकंड रैंक दी थी वहीं पैनलिस्ट्स ने पुनीत को 10वीं रैंक दी थी।\n",
            "ये है कंटेस्टेंट्स की लिस्ट\n",
            "इस साल शो में टीवी एक्टर फलक नाज, जिया शंकर, अभिषेक मल्हान, आकांक्षा पुरी, बेबिका धुर्वे, अविनाश सचदेव और पलक पुरसवानी के अलावा टीवी एंकर-कॉमेडियन सायरस ब्रोचा, टिकटॉकर मनीषा रानी, लेबनान माॅडल जैद हदीदी और बॉलीवुड एक्टर-फिल्ममेकर पूजा भट्‌ट ने पार्टिसिपेट किया है। इसके अलावा बॉलीवुड एक्टर नवाजुद्दीन सिद्दीकी की पूर्व पत्नी आलिया सिद्दीकी भी शो में शामिल हुई हैं।\n",
            "Generated Summary: बिग बॉस ओटीटी सीजन 2 शुरू हो चुका है। चौंकाने वाली बात यह है कि शनिवार को टेलीकास्ट हुए इसके लॉन्च एपिसोड के अगले दिन ही इस सीजन का पहला एलिमिनेशन भी हो गया। यूट्यूबर पुनीत सुपरस्टा\n",
            "Reference Summary: Bigg Boss OTT Season 2 Launch Episode Update - बिग बॉस ओटीटी सीजन 2 के लॉन्च एपिसोड टेलीकास्ट होने के अगले ही दिन सीजन का पहला एलिमिनेशन हो गया। यूट्यूबर पुनीत सुपरस्टार को शो में पार्टिसिपेट करने के 24 घंटे के अंदर ही एलिमिनेट कर दिया गया\n",
            "Metrics: {'rouge1': 18.1818, 'rouge2': 0.0, 'rougeL': 18.1818, 'rougeLsum': 18.1818, 'bert_score_f1': 65.2627}\n",
            "\n",
            "---\n",
            "\n"
          ]
        },
        {
          "metadata": {
            "tags": null
          },
          "name": "stderr",
          "output_type": "stream",
          "text": [
            "Some weights of RobertaModel were not initialized from the model checkpoint at roberta-large and are newly initialized: ['roberta.pooler.dense.bias', 'roberta.pooler.dense.weight']\n",
            "You should probably TRAIN this model on a down-stream task to be able to use it for predictions and inference.\n"
          ]
        },
        {
          "metadata": {
            "tags": null
          },
          "name": "stdout",
          "output_type": "stream",
          "text": [
            "Article 4895:\n",
            "Article: एक्ट्रेस परिणीति चोपड़ा और AAP सांसद राघव चड्ढा 13 मई को सगाई करने वाले हैं। खबरों की मानें तो कपल के घर में सगाई की तैयारियां जोरों पर हैं। हाल ही में सोशल मीडिया पर एक वीडियो सामने आया है, जो कि कपल की सगाई की तरफ इशारा कर रहा है। चर्चित वीडियो परिणीति के घर का है, जिसकी बालकनी में लाइट की लड़ियां लगी हैं।\n",
            "मीडिया रिपोर्ट्स की मानें तो परिणीति की बहन प्रियंका चोपड़ा भी इस सेरेमनी में शिरकत करने वाली हैं। हालांकि, अभी तक परिणीति-राघव की तरफ से सगाई की खबरों को लेकर कोई पुष्टि नहीं की गई है।\n",
            "कपूरथला हाउस में होगी सगाई, 13 की सुबह मुंबई आएंगी प्रियंका \n",
            "हिंदुस्तान टाइम्स की रिपोर्ट्स के मुताबिक परिणीति-राघव की सगाई कनॉट प्लेस के कपूरथला हाउस में होने वाली है, जहां दोनों के करीबियों के बीच सेरेमनी होगी। मीडिया सोर्सेस की मानें तो बहन की सगाई के लिए प्रियंका 13 मई की सुबह दिल्ली पहुंचेंगी।\n",
            "काम से समय निकालकर इंडिया आएंगी प्रियंका \n",
            "मीडिया से जुड़े एक सोर्स ने कहा- ‘प्रियंका की यह इंडिया ट्रिप बेहद छोटी होने वाली है। वो अपने काम के बिजी शिड्यूल के बीच समय निकालकर इस इवेंट का हिस्सा बनने वाली हैं। इसलिए वो इवेंट में पहले नहीं आ सकी हैं। उनके पति निक शायद इस सेरेमनी में नहीं आ सकेंगे। हालांकि, अभी यह तय नहीं है मालती अपनी मौसी की सगाई का हिस्सा होंगी या नहीं।’\n",
            "परिणीति दिल्ली में कर रही सगाई की तैयारियां \n",
            "सोर्सेस की माने तो परिणीति पहले से ही अपने परिवार के साथ दिल्ली में हैं और सगाई की तैयारियों में बिजी हैं। वो सगाई को ज्यादा प्राइवेट रखने की कोशिश नहीं कर रही हैं। माना जा रहा है कपल केवल परिवार और करीबी दोस्तों के साथ यह सेरेमनी करने वाला है।’\n",
            "पंजाबी अंदाज में होगी कपल की सगाई\n",
            "परिणीति- राघव की सगाई में पंजाबी अंदाज देखने को मिलेगा। सेरेमनी नाच-गाना से भरपूर पंजाबी स्टाइल में होगी। सगाई का थीम पेस्टल रखा गया है और बाकी मेहमानों को भी पेस्टल ठीम फॉलो करने के लिए कहा गया है। माना जा रहा है कि 12 मई की रात से ही कपूरथला हाउस में मेहमानों का इंट्री शुरू हो जाएगी।\n",
            "सोर्सेस का कहाना हा कि सगाई में मीडिया की मोजूदगी को लेकर अभी भी श्योरिटी नहीं है। वो मीडिया के बीच आकर पब्लिक अपियरेंस देंगे या फिर नहीं इसे लेकर अभी तक कोई क्लियरिटी नहीं है। अभी इस बात को लेकर कपल ने कोई प्लानिंग नहीं की है।\n",
            "मनीश मल्होत्रा का डिजाइनर लहंगा पहनेंगी परिणीति \n",
            "गेस्ट लिस्ट की बात करें तो फैशन डिजाइनर मनीष मल्होत्रा इस सगाई का हिस्सा जरूर होंगे। परिणीति अपने खास दिन के लिए उन्हीं का डिजाइनर आउटफिट पहनेंगी। वहीं राघव अपने मामा फैशन डिजाइनर पवन सचदेव के डिजाइनर ड्रेस में नजर आएंगे।\n",
            "9 मई को एक साथ दिखे परिणीति-राघव\n",
            "सगाई की खबरों के बीच 9 मई की सुबह परणीति-राघव को मुंबई एयरपोर्ट पर स्पॉट किया गाय। इस दौरान परिणीति रेड सूट में नजर आईं। वहीं राघव ब्लैक शर्ट और पैंट में बेहद स्टाइलिश लगे। मुंबई से फ्लाइट लेने के बाद राघव और परिणीति दिल्ली पहुंचे। जहां वो पैपराजी से घिरे नजर आए। पैपराजी ने उनसे पूछा- क्या वह शादी में सभी को बुला रही हैं?’ इस पर परिणीति ने कोई जवाब नहीं दिया और मुस्कुराते हुए आगे बढ़ गईं।\n",
            "Generated Summary: Bollywood Actress Parineeti Chopra और AAP सांसद राघव चड्ढा 13 मई को सगाई करने वाले हैं। खबरों की मानें तो कपल के घर में सगाई की तैयारियां जोरों पर हैं। हाल ही में सोशल मीडिया पर एक वीडियो सामने आया है,\n",
            "Reference Summary: Actress Parineeti Chopra and AAP MP Raghav Chadha Engagement Ceremony Preparations Video - एक्ट्रेस परिणीति चोपड़ा और AAP सांसद राघव चड्ढा 13 मई को सगाई करने वाले हैं। खबरों की मानें तो कपल के घर में सगाई की तैयारियां जोरों पर हैं। हाल ही में सोशल मीडिया पर एक वीडियो सामने आया है\n",
            "Metrics: {'rouge1': 50.0, 'rouge2': 33.3333, 'rougeL': 50.0, 'rougeLsum': 50.0, 'bert_score_f1': 72.9207}\n",
            "\n",
            "---\n",
            "\n"
          ]
        },
        {
          "metadata": {
            "tags": null
          },
          "name": "stderr",
          "output_type": "stream",
          "text": [
            "Some weights of RobertaModel were not initialized from the model checkpoint at roberta-large and are newly initialized: ['roberta.pooler.dense.bias', 'roberta.pooler.dense.weight']\n",
            "You should probably TRAIN this model on a down-stream task to be able to use it for predictions and inference.\n"
          ]
        },
        {
          "metadata": {
            "tags": null
          },
          "name": "stdout",
          "output_type": "stream",
          "text": [
            "Article 9586:\n",
            "Article: भारत और ऑस्ट्रेलिया के बीच दूसरा टेस्ट दिल्ली में खेला जा रहा है। शनिवार को मैच के दूसरे दिन टीम इंडिया 262 रन पर ऑलआउट हो गई। ऑस्ट्रेलिया को एक रन की बढ़त मिली और दूसरे दिन का खेल खत्म होने तक उन्होंने अपनी दूसरी पारी शुरू कर दी। टीम ने एक विकेट के नुकसान पर 61 रन बना लिए हैं।\n",
            "मैच में विराट कोहली के LBW पर विवाद हुआ, 2 बार अंपायर का फैसला गलत रहा। पीटर हैंड्सकम्ब और श्रेयस अय्यर ने शानदार कैच पकड़े। वहीं, अपने 100वें टेस्ट में चेतेश्वर पुजारा शून्य पर आउट हो गए। मैच में दूसरे दिन के ऐसे ही टॉप मोमेंट्स को इस खबर में हम जानेंगे...\n",
            "100वें टेस्ट में शून्य पर आउट हुए पुजारा \n",
            "भारत के चेतेश्वर पुजारा का यह 100वां टेस्ट मैच है। ऐसा करने वाले वह भारत 13वें खिलाड़ी ही बने। लेकिन, मैच की पहली पारी उनके लिए खास नहीं रही। वह 7 बॉल खेल कर शून्य के स्कोर पर ही आउट हो गए। उन्हें नाथन लायन ने LBW आउट किया। अपने 100वें टेस्ट में शून्य पर आउट होने वाले पुजारा भारत के दूसरे और दुनिया 8वें खिलाड़ी बने।\n",
            "पुजारा से पहले भारत के दिलीप वेंगसरकर, ऑस्ट्रेलिया के एलन बॉर्डर और मार्क टेलर, वेस्टइंडीज के कर्टनी वॉल्श, इंग्लैंड के एलेस्टेयर कुक, न्यूजीलैंड ब्रेंडन मैक्कुलम और स्टीफन फ्लेमिंग भी अपने 100वें टेस्ट में शून्य के स्कोर पर आउट हो चुके हैं।\n",
            "विराट का विवादित विकेट\n",
            "विराट कोहली के आउट होने को लेकर कंट्रोवर्सी हुई। कोहली 44 रन पर बल्लेबाजी कर रहे थे। डेब्यू टेस्ट खेल रहे लेफ्ट आर्म स्पिनर मैथ्यू कुहनेमन की बॉल कोहली के बैट-पैड पर लगी। अंपायर नितिन मेनन ने कोहली को LBW आउट करार दे दिया।\n",
            "बैटर ने रिव्यू लिया, लेकिन री-प्ले से यह साफ नहीं हो रहा था कि गेंद पहले बैट पर लगी या पैड पर। ऐसा लग रहा था जैसे बॉल ने एक ही समय पर बैट और पैड को छुआ। थर्ड अंपायर ने ग्राउंड अंपायर के फैसले को बरकरार रखा और कोहली को पवेलियन लौटना पड़ा।\n",
            "आधिकारिक नियमों के अनुसार, अगर बॉल का संपर्क बैट और पैड से एक ही समय पर होता है तो बैटर को नॉटआउट करार दिया जाना चाहिए। पवेलियन लौटने के बाद कोहली भी इस फैसले पर नाराज दिखे। दूसरी पारी में फील्डिंग के दौरान भी कोहली अंपायर नितिन मेनन से बहुत देर तक LBW डिसीजन पर बातचीत करते नजर आए।\n",
            "हैंड्सकम्ब, अय्यर के शानदार कैच \n",
            "दिल्ली टेस्ट के दूसरे दिन दोनों ही टीमों से कुछ बेहतरीन कैच देखने को मिले। भारतीय पारी में 26वें ओवर की दूसरी बॉल पर पीटर हैंड्सकम्ब ने शॉर्ट लेग पर शानदार कैच पकड़ा। श्रेयस अय्यर ने नाथन लायन की शॉर्ट बॉल को लेग साइड में खेलना चाहा, लेकिन शॉर्ट लेग पर खड़े हैंड्सकम्ब ने डाइव मारी और 3-4 प्रयास में कैच पकड़ लिया। अय्यर 4 रन ही बना सके। इस पारी में पैट कमिंस और मैट रेन्शॉ ने भी अच्छे कैच पकड़े।\n",
            "ऑस्ट्रेलिया की पारी में श्रेयस अय्यर ने लेग स्लिप में शानदार कैच पकड़ा। छठे ओवर की पांचवीं बॉल रवींद्र जडेजा ने उस्मान ख्वाजा को फुलर लेंथ लेग स्टंप पर फेंकी। ख्वाजा स्वीप करने गए, जहां अय्यर ने शानदार रिफ्लेक्स दिखाते हुए कैच पकड़ लिया। ख्वाजा 6 रन बनाकर पवेलियन लौटे।\n",
            "अंपायर के 3 विवादित फैसले \n",
            "दिल्ली टेस्ट का दूसरा दिन अंपायरों के लिए थोड़ा खराब रहा। मैच में अंपायर के 3 विवादित फैसले देखने को मिले। अपने 100वें टेस्ट में दूसरी ही बॉल पर पुजारा ने नाथन लायन को आगे बढ़कर खेलना चाहा। बॉल पुजारा के पैड पर लगी, लेकिन अंपायर ने इसे नॉटआउट दे दिया। ऑस्ट्रेलिया की टीम ने DRS नहीं लिया था, लेकिन री-प्ले में दिखा कि पुजारा LBW आउट थे।\n",
            "20वें ओवर में एक बार फिर बॉल पुजारा के पैड पर लगी। अपील हुई और पुजारा फिर एक बार नॉटआउट रहे। कंगारू टीम ने रिव्यू लिया और मैदानी अंपायर को अपना फैसला बदलकर आउट देना पड़ा। तीसरा विवाद कोहली के LBW आउट पर हुआ। नॉटआउट रहने के बाद भी कोहली को पवेलियन लौटना पड़ा।\n",
            "रन दौड़ने में स्मिथ से भिड़े जडेजा\n",
            "41वें ओवर की पहली ही बॉल पर विराट कोहली ने एक रन लिया। जडेजा नॉन-स्ट्राइकर एंड से दौड़ते हुए स्लिप में खड़े स्मिथ से जा भिड़े। दोनों ही एक-दूसरे को नहीं देख रहे थे और गलती से भिड़ गए। दोनों ने एक-दूसरे को गले लगाया और आखिर में हंसते हुए हाथ मिलाया। जडेजा ने पहली पारी में 26 रन बनाए।\n",
            "\n",
            "Generated Summary: भारत और ऑस्ट्रेलिया के बीच दूसरा टेस्ट दिल्ली में खेला जा रहा है। शनिवार को मैच के दूसरे दिन टीम इंडिया 262 रन पर ऑलआउट हो गई। ऑस्ट्रेलिया को एक रन की बढ़त मिली और दूसरे दिन का खेल खत्म होने तक उन्ह\n",
            "Reference Summary: IND VS AUS 2nd Test Video; Rohit Sharma Cheteshwar Pujara | Kohli Controversy, मैच में विराट कोहली के LBW विकेट पर विवाद हुआ, 2 बार अंपायर का फैसला गलत रहा, मैट रेन्शॉ, पीटर हैंड्सकम्ब और पैट कमिंस ने शानदार कैच पकड़े तो वहीं, 100वें टेस्ट में चेतेश्वर पुजारा शून्य पर आउट हो गए।\n",
            "Metrics: {'rouge1': 0.0, 'rouge2': 0.0, 'rougeL': 0.0, 'rougeLsum': 0.0, 'bert_score_f1': 46.6265}\n",
            "\n",
            "---\n",
            "\n"
          ]
        },
        {
          "metadata": {
            "tags": null
          },
          "name": "stderr",
          "output_type": "stream",
          "text": [
            "Some weights of RobertaModel were not initialized from the model checkpoint at roberta-large and are newly initialized: ['roberta.pooler.dense.bias', 'roberta.pooler.dense.weight']\n",
            "You should probably TRAIN this model on a down-stream task to be able to use it for predictions and inference.\n"
          ]
        },
        {
          "metadata": {
            "tags": null
          },
          "name": "stdout",
          "output_type": "stream",
          "text": [
            "Article 10800:\n",
            "Article: श्रीनगर: जम्मू-कश्मीर के कुपवाड़ा जिले में सोमवार को आतंकवादियों के ग्रेनेड हमले में केंद्रीय रिजर्व पुलिस बल (सीआरपीएफ) का एक जवान घायल हो गया। अधिकारियों ने यहां बताया कि रात 9 बजकर 40 मिनट पर जिले के सरकारी मध्य विद्यालय, लांगेट में सीआरपीएफ दल पर निशाना बनाकर आतंकवादियों ने ग्रेनेड फेंका, जिसमें एक जवान घायल हो गया।अधिकारियों के अनुसार एक अन्य हमले में बारामूला शहर में बस पड़ाव के पास आजाद गंज में एक पुलिस दल पर आतंकवादियों ने ग्रेनेड फेंका, लेकिन इस हमले में कोई हताहत नहीं हुआ। हालांकि, एक वाहन क्षतिग्रस्त हो गया।गौरतलब है कि इससे पहले शनिवार को श्रीनगर में सुरक्षा बलों के एक दल पर आतंकवादियों द्वारा ग्रेनेड फेंके जाने से सीआरपीएफ का एक जवान घायल हो गया था। अधिकारियों ने कहा था कि घटना श्रीनगर के सनत नगर चौक पर रात करीब 8 बजकर 55 मिनट पर हुई थी। इससे पहले ऐसी ही एक अन्य घटना में आतंकवादियों ने शुक्रवार को जम्मू-कश्मीर के बारामुला जिले में सुरक्षा बलों के एक दल को निशाना बनाया था, जिसमें सीआरपीएफ कांस्टेबल और दो आम निवासी घायल हो गए थे।\n",
            "Generated Summary: जम्मू-कश्मीर के कुपवाड़ा जिले में सोमवार को आतंकवादियों के ग्रेनेड हमले में केंद्रीय रिजर्व पुलिस बल (सीआरपीएफ) का एक जवान घायल हो गया। अधिकारियों ने यहां बताया कि रात 9 बजकर 40 मिनट पर जिले के\n",
            "Reference Summary: जम्मू-कश्मीर के कुपवाड़ा जिले में सोमवार को आतंकवादियों के ग्रेनेड हमले में केंद्रीय रिजर्व पुलिस बल (सीआरपीएफ) का एक जवान घायल हो गया।\n",
            "Metrics: {'rouge1': 0.0, 'rouge2': 0.0, 'rougeL': 0.0, 'rougeLsum': 0.0, 'bert_score_f1': 91.0764}\n",
            "\n",
            "---\n",
            "\n"
          ]
        },
        {
          "metadata": {
            "tags": null
          },
          "name": "stderr",
          "output_type": "stream",
          "text": [
            "Some weights of RobertaModel were not initialized from the model checkpoint at roberta-large and are newly initialized: ['roberta.pooler.dense.bias', 'roberta.pooler.dense.weight']\n",
            "You should probably TRAIN this model on a down-stream task to be able to use it for predictions and inference.\n"
          ]
        },
        {
          "metadata": {
            "tags": null
          },
          "name": "stdout",
          "output_type": "stream",
          "text": [
            "Article 10267:\n",
            "Article: श्रीनगर: जम्मू कश्मीर के कुपवाडा जिले में मुठभेड़ में आतंकवादी संगठन लश्कर-ए-तैयबा के शीर्ष कमांडर के साथ मारे गए एक अन्य आतंकवादी की पहचान पाकिस्तान के आतंकवादी के तौर पर हुई है। पुलिस ने बृहस्पतिवार को यह जानकारी दी। उन्होंने बताया कि पाकिस्तानी आतंकवादी दानिश बुधवार को मुठभेड़ में मारा गया था। कश्मीर के पुलिस महानिरीक्षक विजय कुमार ने कहा कि दोनों आतंकवादियों का मुठभेड़ में मारा जाने सुरक्षा बलों के लिए बड़ी कामयाबी है। कुमार ने बुधवार को कहा था कि मारे गए आतंकवादियों में से एक आतंकवादी लश्कर-ए-तैयबा का कमांडर नसीरुद्दीन लोन था, लोन इस साल की शुरुआत में सीआरपीएफ के छह जवानों की हत्या में शामिल था। उन्होंने बृहस्पतिवार को कहा कि लोन के कब्जे से एक एके -47 रायफल बरामद हुई है जो चार मई को हंदवाडा के वनगाम में सीआरपीएफ के एक जवान पर हमला करके छीनी गई थी। उन्होंने कहा कि इससे साबित होता है कि वह सीआरपीएफ के तीन जवानों की हत्या में शामिल था। उन्होंने कहा कि लोन और दानिश का मारा जाना बलों के लिए बड़ी कामयाबी है।\n",
            "Generated Summary: जम्मू कश्मीर के कुपवाडा जिले में मुठभेड़ में आतंकवादी संगठन लश्कर-ए-तैयबा के शीर्ष कमांडर के साथ मारे गए एक अन्य आतंकवादी की पहचान पाकिस्तान के आतंकवादी के तौर पर हुई है। पुलिस ने बृह\n",
            "Reference Summary: जम्मू कश्मीर के कुपवाडा जिले में मुठभेड़ में आतंकवादी संगठन लश्कर-ए-तैयबा के शीर्ष कमांडर के साथ मारे गए एक अन्य आतंकवादी की पहचान पाकिस्तान के आतंकवादी के तौर पर हुई है।\n",
            "Metrics: {'rouge1': 0.0, 'rouge2': 0.0, 'rougeL': 0.0, 'rougeLsum': 0.0, 'bert_score_f1': 96.8202}\n",
            "\n",
            "---\n",
            "\n"
          ]
        },
        {
          "metadata": {
            "tags": null
          },
          "name": "stderr",
          "output_type": "stream",
          "text": [
            "Some weights of RobertaModel were not initialized from the model checkpoint at roberta-large and are newly initialized: ['roberta.pooler.dense.bias', 'roberta.pooler.dense.weight']\n",
            "You should probably TRAIN this model on a down-stream task to be able to use it for predictions and inference.\n"
          ]
        },
        {
          "metadata": {
            "tags": null
          },
          "name": "stdout",
          "output_type": "stream",
          "text": [
            "Article 10559:\n",
            "Article: नई दिल्ली। भारत में कोरोना वायरस की वैक्सीन को लेकर जिस तरह से काम हुआ है उसे लेकर विश्व स्वास्थ्य संगठन (WHO) चीफ ने भारत की प्रशंसा की है। WHO चीफ ड्रोस एडनोम ने भारत की प्रशंशा करते हुए एक ट्वीट किया है और उस ट्वीट में भारत के प्रधानमंत्री नरेंद्र मोदी को टैग किया है। अपने ट्वीट संदेश में ड्रोस ने लिखा, “भारत लगातार निर्णायक कार्रवाई कर रहा है और कोरोना महामारी को खत्म करने को लेकर अपनी प्रतिबद्धता को दर्शा रहा है। दुनिया का सबसे बड़ा वैक्सीन उत्पादक होने के नाते यह (भारत) अच्छी तरह से कर सकता है। अगर हम मिलकर काम करते हैं तो हर जगह सबसे पिछड़ों पर सुरक्षित और प्रभावकारी वैक्सीन का इस्तेमाल सुनिश्चित कर सकते हैं। अपने इस ट्वीट के साथ ड्रोस ने प्रधानमंत्री मोदी को टैग किया हुआ है।WHO चीफ से पहले दुनिया के बड़े कारोबारी और माइक्रोसॉफ्ट के संस्थापक बिल गेट्स ने कोरोना वायरस से लड़ाई में वैक्सीन को लेकर भारत की अग्रणी भूमिका की तारीफ की है। बिल गेट्स ने भी भारतीय लीडरशिपए वैज्ञानिक इनोवेशन और वैक्सीन उत्पादन क्षमता की सराहना की है। बता दें कि भारत में दो दिन पहले ही कोरोना की दो वैक्सीन को मंजूरी प्रदान कर दी है। इसमें देसी कंपनी भारत बायोटेक की कोवैक्सीन और सीरम इंस्टीट्यूट की कोविशील्ड शामिल हैं। कोविड-19 के खिलाफ भारत के दो वैक्सीनों को प्रयोग की अनुमति देने के बाद प्रधानमंत्री नरेंद्र मोदी ने कहा कि भारत दुनिया के सबसे बड़े वैक्सीनेशन प्रोग्राम को शुरू करने की दहलीज पर है। नेशनल मेट्रोलॉजी कॉनकलेव को वीडियो कॉन्फ्रेंसिंग के जरिए संबोधित करते हुए पीएम मोदी ने कहा। दुनिया का सबसे बड़ा वैक्सीनेशन प्रोग्राम भारत में शुरू होने वाला है। उन्होंने मेड इन इंडिया टीकों के लिए वैज्ञानिकों और तकनीशियनों की सराहना भी की।\n",
            "Generated Summary: भारत में कोरोना वायरस की वैक्सीन को लेकर जिस तरह से काम हुआ है उसे लेकर विश्व स्वास्थ्य संगठन (WHO) चीफ ने भारत की प्रशंसा की है।\n",
            "Reference Summary: WHO चीफ से पहले दुनिया के बड़े कारोबारी और माइक्रोसॉफ्ट के संस्थापक बिल गेट्स ने कोरोना वायरस से लड़ाई में वैक्सीन को लेकर भारत की अग्रणी भूमिका की तारीफ की है।\n",
            "Metrics: {'rouge1': 100.0, 'rouge2': 0.0, 'rougeL': 100.0, 'rougeLsum': 100.0, 'bert_score_f1': 61.5201}\n",
            "\n",
            "---\n",
            "\n"
          ]
        },
        {
          "metadata": {
            "tags": null
          },
          "name": "stderr",
          "output_type": "stream",
          "text": [
            "Some weights of RobertaModel were not initialized from the model checkpoint at roberta-large and are newly initialized: ['roberta.pooler.dense.bias', 'roberta.pooler.dense.weight']\n",
            "You should probably TRAIN this model on a down-stream task to be able to use it for predictions and inference.\n"
          ]
        },
        {
          "metadata": {
            "tags": null
          },
          "name": "stdout",
          "output_type": "stream",
          "text": [
            "Article 14590:\n",
            "Article: नई दिल्ली: जाने-माने अभिनेता रजनीकांत अब राजनीति के मैदान में नहीं उतरेंगे। रजनीकांत ने आज अपने इस अहम फैसले ऐलान किया है। उन्होंने स्वास्थ्य कारणों से राजनीति में नहीं आने का फैसला लिया है। रजनीकांत की ओर से इस संबंध में 4 पन्नों का बयान जारी किया गया है। इस बयान में उन्होंने लिखा है कि 10 दिन की शूटिंग में सिर्फ 16 लोग सेट पर थे वहां पर भी कोरोना आ गया, अभी कोरोना 2.0 का कहर शुरू हो गया है अगर मैं जनसभा करूंगा तो बड़ी भीड़ जुटेगी और कई लोग मुश्किल में पड़ सकते हैं इसीलिये मैं अपने पुराने एलान को वापस ले रहा हूं। रजनीकांत ने कहा-'बहुत दुःख के साथ कह रहा हूँ कि मैं राजनीति में नहीं आ सकता। ये फैसला लेने से पहले जो दर्द और पीड़ा हुई सिर्फ मैं ही उसे महसूस कर सकता हूं। उन्होंने कहा कि वे बिना राजनीति में आए जनता की सेवा करते रहेंगे। रजनीकांत ने इस फैसले के लिए अपने प्रशंसकों से माफी भी मांगी है। उन्होंने कहा-'मुझे पता है मेरे इस फैसले से तमिलनाडु की जनता और मेरे फैंस काफी दुःखी होंगे मैं सभी से माफी चाहता हूं।\n",
            "Generated Summary: जाने-माने अभिनेता रजनीकांत अब राजनीति के मैदान में नहीं उतरेंगे। रजनीकांत ने आज अपने इस अहम फैसले ऐलान किया है। उन्होंने स्वास्थ्य कारणों से राजनीति में नहीं आने का फैसला लिया है।\n",
            "Reference Summary: : जाने-माने अभिनेता रजनीकांत अब राजनीति के मैदान में नहीं उतरेंगे। रजनीकांत ने आज अपने इस अहम फैसले ऐलान किया है।\n",
            "Metrics: {'rouge1': 0.0, 'rouge2': 0.0, 'rougeL': 0.0, 'rougeLsum': 0.0, 'bert_score_f1': 82.7308}\n",
            "\n",
            "---\n",
            "\n"
          ]
        },
        {
          "metadata": {
            "tags": null
          },
          "name": "stderr",
          "output_type": "stream",
          "text": [
            "Some weights of RobertaModel were not initialized from the model checkpoint at roberta-large and are newly initialized: ['roberta.pooler.dense.bias', 'roberta.pooler.dense.weight']\n",
            "You should probably TRAIN this model on a down-stream task to be able to use it for predictions and inference.\n"
          ]
        },
        {
          "metadata": {
            "tags": null
          },
          "name": "stdout",
          "output_type": "stream",
          "text": [
            "Article 16739:\n",
            "Article: लखनऊ: उत्तर प्रदेश के मुख्यमंत्री योगी आदित्यनाथ आज राज्य को बड़ी सौगात देंगे। वह 5000 नए स्वास्थ्य उपकेन्द्रों का लोकार्पण करेंगे और Mantra App को भी लॉन्च करेंगे। बलरामपुर जिले में स्वास्थ्य सेवाओं को बेहतर बनाने के लिए उप स्वास्थ्य केन्द्रों का महत्वपूर्ण योगदान है। इसके माध्यम से सुदूर इलाकों में विभाग द्वारा संचालित योजनाएं आसानी से पहुंच जाती हैं। जिले में अब तक 206 केन्द्र थे, लेकिन अब 121 केन्द्र और मिलने जा रहे हैं। आज सीएम योगी आदित्यनाथ लखनऊ से ऑनलाइन सभी उपकेन्द्रों का उद्घाटन करेंगे। इन सभी उपकेन्द्रों पर टीकाकरण शुरू कर दिया गया है।अपर मुख्य चिकित्सा अधिकारी डॉ. बी.पी. सिंह ने जानकारी देते हुए बताया कि सरकार की मंशा है कि जिले के कोने-कोने तक सभी को प्राथमिक और बेहतर स्वास्थ्य सेवाएं मुहैया हो। इसके लिए विभाग लगातार प्रयासरत है। जिले में करीब 5 हजार की आबादी पर 1 उप स्वास्थ्य केन्द्र होना चाहिए था, लेकिन अभी तक करीब 10 हजार की आबादी पर एक केन्द्र था। जिले में अब तक कुल 206 उप स्वास्थ्य केन्द्र थे जिसके द्वारा स्वास्थ सेवाएं दी जा रहीं थीं।एसीएमओ ने बताया कि रविवार को सीएम योगी अदित्यनाथ लखनऊ से प्रदेश में 5 हजार नवीन उप केन्द्रों, 15 बी.एस.एल. टू लैब और मंत्र मां नवजात ट्रैकिंग ऐप का उद्घाटन करेंगें। इन केन्द्रों पर 72 एएनएम की तैनाती भी कर दी गई है। उद्घाटन से पूर्व व्यवस्था सुचारू रूप से संचालित करने के लिए इन 121 नवीन उप केन्द्रों पर टीकाकरण सत्र का भी आयोजन किया गया जिसमें कुल करीब 1200 टीके लगाए गए।मुख्य चिकित्सा अधिकारी डॉ. सुशील कुमार ने बताया कि किराए के भवन में संचालित किए जाने वाले, इन सभी उप केन्द्रों को भी हेल्थ एंड वेलनेस सेंटर के रूप में विकसित करने की योजना है। पहले इन केन्द्रों के लिए भूमि का चयन कर विभाग को प्रपोजल भेजा जाएगा जिसके बाद भारत सरकार द्वारा मिलने वाले फंड से निजी भवन का निर्माण शुरू कर दिया जाएगा।\n",
            "Generated Summary: उत्तर प्रदेश के मुख्यमंत्री योगी आदित्यनाथ आज राज्य को बड़ी सौगात देंगे। वह 5000 नए स्वास्थ्य उपकेन्द्रों का लोकार्पण करेंगे और Mantra App को भी लॉन्च करेंगे। बलरामपुर जिले में स्वास्थ्य सेवाओं को बेहतर बनाने के लिए उप स्वास्थ्य केन्द्रों का\n",
            "Reference Summary: सीएम योगी अदित्यनाथ लखनऊ से प्रदेश में 5 हजार नवीन उप केन्द्रों, 15 बी.एस.एल. टू लैब और मंत्र मां नवजात ट्रैकिंग ऐप का उद्घाटन करेंगें। इन केन्द्रों पर 72 एएनएम की तैनाती भी कर दी गई है।\n",
            "Metrics: {'rouge1': 0.0, 'rouge2': 0.0, 'rougeL': 0.0, 'rougeLsum': 0.0, 'bert_score_f1': 50.3704}\n",
            "\n",
            "---\n",
            "\n"
          ]
        },
        {
          "metadata": {
            "tags": null
          },
          "name": "stderr",
          "output_type": "stream",
          "text": [
            "Some weights of RobertaModel were not initialized from the model checkpoint at roberta-large and are newly initialized: ['roberta.pooler.dense.bias', 'roberta.pooler.dense.weight']\n",
            "You should probably TRAIN this model on a down-stream task to be able to use it for predictions and inference.\n"
          ]
        },
        {
          "metadata": {
            "tags": null
          },
          "name": "stdout",
          "output_type": "stream",
          "text": [
            "Article 6526:\n",
            "Article: माफिया अतीक अहमद के बेटे असद के एनकाउंटर पर कंगना रनोट का भी रिएक्शन आया है। उन्होंने यूपी के सीएम योगी आदित्यनाथ की तारीफ की है। कंगना ने योगी को अपना भाई बताया है। कंगना ने कहा है कि उनके भाई जैसा इस दुनिया में कोई नहीं है।\n",
            "जाहिर है कि कंगना कई मौकों पर योगी आदित्यनाथ के काम की तारीफ कर चुकी हैं। योगी जब पिछले साल दोबारा सीएम बने थे तो कंगना ने उन्हें पर्सनली मिल कर बधाई दी थी।\n",
            "'मेरे भाई जैसा कोई नहीं'\n",
            "कल से ही पूरे देश में यूपी पुलिस और असद का एनकाउंटर ट्रेंड कर रहा है। असद वो शख्स था जिसने दो निर्दोष लोगों की जान ले ली थी। कल यानी 13 अप्रैल को यूपी पुलिस ने उसे झांसी से मार गिराया।\n",
            "उसके एनकाउंटर की खबर के बाद से ही हर जगह इसकी चर्चा होने लगी। कुछ लोग इसे यूपी सरकार की कामयाबी बता रहे हैं। इसी बीच कंगना ने भी योगी आदित्यनाथ की तारीफ कर दी है।\n",
            "2022 में योगी से मिलकर जीत की बधाई दी थी\n",
            "2022 में जब योगी आदित्यनाथ दोबारा चुन के आए, तो कंगना ने उनसे मुलाकात कर बधाई दी थी। उन्होंने सोशल मीडिया पर पोस्ट शेयर करते हुए लिखा था, 'हाल के चुनावों में जबरदस्त जीत के बाद आज मुझे महाराज जी से मिलने का सौभाग्य मिला। उनके अंदर लोगों को लेकर चिंता और करूणा है जिसने मुझे काफी प्रभावित किया। उनसे मिल कर मैं सम्मानित महसूस कर रही हूं।'\n",
            "यूपी सरकार के एक प्रोग्राम की ब्रांड एंबेसडर हैं कंगना\n",
            "अक्टूबर 2022 में कंगना रनोट को यूपी सरकार वन डिस्ट्रिक्ट वन प्रोडक्ट प्रोग्राम का ब्रांड एंबेसडर बनाया था। ये सरकार का एक अहम स्कीम है जिसका उद्देश्य स्वदेशी उत्पादों को अपनाना और इसे प्रोत्साहित करना है। राज्य के हर जिलों में इसके लिए प्रोग्राम बनाए गए हैं।\n",
            "क्यों हुआ असद का एनकाउंटर?\n",
            "असद अहमद और उसके गुर्गे गुलाम के एनकाउंटर के बाद से योगी आदित्यनाथ और यूपी एसटीएफ गूगल पर ट्रेंड करने लगा था। लेकिन आखिरकार ऐसी नौबत क्यों आई कि एक 20-21 साल का लड़का अपराधी बन गया। दरअसल असद का बाप अतीक अहमद पूर्वांचल का बहुत बड़ा माफिया है।\n",
            "उसके ऊपर करीब 100 से भी ज्यादा केस हैं। इन दिनों वो पुलिस के रिमान्ड में है। उसका बुरा वक्त तब शुरू हुआ जब उसने विधायक राजू पाल की हत्या करवा दी थी। राजू पाल की हत्या सिर्फ इसलिए कराई थी क्योंकि वो अतीक के भाई के सामने चुनाव लड़ गया था।\n",
            "राजू पाल की मौत के आखिरी गवाह रहे उमेश पाल को भी असद और उसके साथियों ने 24 फरवरी 2023 को गोलियों से भून दिया। तभी से यूपी पुलिस को असद की तलाश थी।\n",
            "इंदिरा गांधी के रोल में नजर आने वाली हैं कंगना\n",
            "कंगना ने अभी हाल ही में अपनी फिल्म इमरजेंसी की शूटिंग खत्म की है। इस फिल्म में कंगना इंदिरा गांधी के रोल में नजर आएंगी। कंगना के मुताबिक, ये उनका ड्रीम प्रोजेक्ट है और इसके लिए उन्होंने अपनी प्रॉपर्टी तक गिरवी रख दी है।\n",
            "इस फिल्म का डायरेक्शन भी कंगना ही कर रही हैं। फिल्म में कंगना के अलावा महिमा चौधरी, अनुपम खेर, श्रेयस तलपड़े और विशाक नायर भी अहम भूमिका में नजर आएंगे।\n",
            "\n",
            "Generated Summary: अतीक अहमद और उसके गुर्गे गुलाम के एनकाउंटर के बाद से योगी आदित्यनाथ और यूपी एसटीएफ गूगल पर ट्रेंड करने लगा था। लेकिन आखिरकार ऐसी नौबत क्यों आई कि एक 20-21 साल का लड़का अपराधी बन गया। दरअसल\n",
            "Reference Summary: Bollywood Actress Kangana Ranaut Reaction On Atiq Ahmed Asad Encounter - माफिया अतीक अहमद के बेटे असद के एनकाउंटर पर कंगना रनोट का भी रिएक्शन आया है। उन्होंने यूपी के सीएम योगी आदित्यनाथ की तारीफ की है। कंगना ने योगी को अपना भाई बताया है।\n",
            "Metrics: {'rouge1': 0.0, 'rouge2': 0.0, 'rougeL': 0.0, 'rougeLsum': 0.0, 'bert_score_f1': 55.4552}\n",
            "\n",
            "---\n",
            "\n"
          ]
        },
        {
          "metadata": {
            "tags": null
          },
          "name": "stderr",
          "output_type": "stream",
          "text": [
            "Some weights of RobertaModel were not initialized from the model checkpoint at roberta-large and are newly initialized: ['roberta.pooler.dense.bias', 'roberta.pooler.dense.weight']\n",
            "You should probably TRAIN this model on a down-stream task to be able to use it for predictions and inference.\n"
          ]
        },
        {
          "metadata": {
            "tags": null
          },
          "name": "stdout",
          "output_type": "stream",
          "text": [
            "Article 65:\n",
            "Article: लंदन से भास्कर के लिए मोहम्मद अली\n",
            "M Tech की फीस के तौर पर भारतीय छात्र मॉन्टफोर्ट यूनिवर्सिटी को अब तक 15 करोड़ जमा कर चुके हैं। लेस्टर से सांसद रहे भारतवंशी कीथ वाज ने भास्कर को बताया कि उन्होंने इस मुद्दे को मॉन्टफोर्ट यूनिवर्सिटी प्रशासन के सामने उठाया है। नाम नहीं छापने की शर्त पर एक भारतीय छात्रा ने बताया कि स्टूडेंट्स ने सीएमए को शिकायत की थी। सीएमए ने यूनिवर्सिटी के कदम को गलत बताया। मॉन्टफोर्ट की यूनिवर्सिटी ने भारतीय छात्रों को सबक सिखाने के लिए फेल किया।\n",
            "आरोप है कि कॉपी जांचने वाले अंग्रेज थे, उन्होंने गुस्सा उतारने के लिए ऐसा किया। ब्रिटेन में नस्लीय भेदभाव का एक बड़ा मामला सामने आया है। ब्रिटेन के लेस्टर की ड मॉन्टफोर्ट यूनिवर्सिटी में M Tech कर रहे सभी 150 भारतीय छात्रों को एक पेपर में फेल कर दिया गया। कोर्स में शामिल 200 में से पास होने वाले सभी 50 श्वेत हैं। मॉन्टफोर्ट यूनिवर्सिटी ने इस पेपर को ही खत्म कर दूसरे पेपर के साथ मिला दिया है। फेल होने वाले छात्र पेपर दोबारा नहीं दे पाएंगे।\n",
            "भारतीय छात्रों को वापस लौटने का डर\n",
            "परीक्षा में फेल होने के कारण इन छात्रों पर भारत लौटने का खतरा पैदा हो गया है। ये सभी छात्र भारत से B Tech पास करने के बाद ब्रिटेन पहुंचे थे। M Tech के छात्र सुरेश कार्तिक ने दैनिक भास्कर को बताया कि एडमिशन के समय अपने विज्ञापन में यूनिवर्सिटी ने इस पेपर को वैकल्पिक बताया था। छात्र जब यहां पढ़ने लगे तो इसे अनिवार्य पेपर बताया गया। कुछ छात्रों ने इसकी शिकायत ब्रिटेन के CMA (कॉम्पिटीशन एंड मार्केट अथॉरिटी) से की। CMA ने भी मॉन्टफोर्ट यूनिवर्सिटी के कदम को गलत माना, लेकिन, यूनिवर्सिटी ने पेपर को ड्रॉप नहीं किया।\n",
            "पूरे सत्र के दौरान इस पेपर को पढ़ाने के लिए प्रोफेसर भी नियुक्त नहीं किए। भारतीय स्टूडेंट्स की ओर से शिकायत करने पर इस मामले की जांच के लिए मॉन्टफोर्ट ने एक स्वतंत्र नियामक का गठन किया है, लेकिन छात्रों का कहना है कि इसकी जांच रिपोर्ट तीन-चार महीने में आएगी।\n",
            "Generated Summary: ब्रिटेन के लेस्टर की ड मॉन्टफोर्ट यूनिवर्सिटी में M Tech कर रहे सभी 150 भारतीय छात्रों को एक पेपर में फेल कर दिया गया। कोर्स में शामिल 200 में से पास होने वाले सभी 50 श्वेत हैं। मॉन्टफोर्ट यूनिवर्सिटी ने इस पेपर\n",
            "Reference Summary: लंदन से भास्कर के लिए मोहम्मद अली एमटेक की फीस के तौर पर भारतीय छात्र मॉन्टफोर्ट यूनिवर्सिटी को अब तक 15 करोड़ जमा कर चुके हैं। लेस्टर से सांसद रहे भारतवंशी कीथ वाज ने भास्कर को बताया कि उन्होंने इस मुद्दे को मॉन्टफोर्ट यूनिवर्सिटी प्रशासनdiscrimination against indian students in britain\n",
            "Metrics: {'rouge1': 0.0, 'rouge2': 0.0, 'rougeL': 0.0, 'rougeLsum': 0.0, 'bert_score_f1': 58.3322}\n",
            "\n",
            "---\n",
            "\n"
          ]
        },
        {
          "metadata": {
            "tags": null
          },
          "name": "stderr",
          "output_type": "stream",
          "text": [
            "Some weights of RobertaModel were not initialized from the model checkpoint at roberta-large and are newly initialized: ['roberta.pooler.dense.bias', 'roberta.pooler.dense.weight']\n",
            "You should probably TRAIN this model on a down-stream task to be able to use it for predictions and inference.\n"
          ]
        },
        {
          "metadata": {
            "tags": null
          },
          "name": "stdout",
          "output_type": "stream",
          "text": [
            "Article 9391:\n",
            "Article: बिग बॉस सीजन-16 की कंटेस्टेंट अर्चना गौतम बुधवार सुबह हिमाचल के ऊना स्थित चिंतपूर्णी मंदिर पहुंची। यहां उन्होंने माथा टेका। इस दौरान पुजारी बारीदार सभा के प्रधान रविंदर छिंदा ने विधिवत पूजा अर्चना करवाई। बिग बॉस-16 के फाइनलिस्ट में मेरठ निवासी अर्चना गौतम भी शामिल थी। वह टॉप चार में पहुंची।\n",
            "बुधवार को अर्चना जब चिंतपूर्णी मंदिर पहुंची तो लोगों ने उनके साथ फोटो भी खिंचवाई। इस दौरान पुजारी रोहन कालिया, सचिन कालिया, पंकज कालिया, मनोज कालिया भी मौजूद रहे।\n",
            "परिवार भी साथ में मौजूद रहा\n",
            "मन्दिर में दर्शनों के बाद अर्चना गौतम ने कहा कि माता रानी के आशीर्वाद से ही वे टॉप चार में पहुंची और माता रानी का आशीर्वाद आगे भी उन पर यूं ही बना रहे। इस दौरान उनका परिवार भी उनके साथ मौजूद रहा।\n",
            "Generated Summary: बिग बॉस सीजन-16 की कंटेस्टेंट अर्चना गौतम बुधवार सुबह हिमाचल के ऊना स्थित चिंतपूर्णी मंदिर पहुंची। यहां उन्होंने माथा टेका। इस दौरान पुजारी बारीदार सभा के प्रधान रविंदर छिंदा ने विधिवत पूजा\n",
            "Reference Summary: बिग बॉस सीजन-16 की कंटेस्टेंट अर्चना गौतम बुधवार सुबह हिमाचल के ऊना स्थित चिंतपूर्णी मंदिर पहुंची। यहां उन्होंने माथा टेका। इस दौरान पुजारी बारीदार सभा के प्रधान रविंदर छिंदा ने विधिवत पूजा अर्चना करवाई।\n",
            "Metrics: {'rouge1': 100.0, 'rouge2': 0.0, 'rougeL': 100.0, 'rougeLsum': 100.0, 'bert_score_f1': 94.6167}\n",
            "\n",
            "---\n",
            "\n"
          ]
        },
        {
          "metadata": {
            "tags": null
          },
          "name": "stderr",
          "output_type": "stream",
          "text": [
            "Some weights of RobertaModel were not initialized from the model checkpoint at roberta-large and are newly initialized: ['roberta.pooler.dense.bias', 'roberta.pooler.dense.weight']\n",
            "You should probably TRAIN this model on a down-stream task to be able to use it for predictions and inference.\n"
          ]
        },
        {
          "metadata": {
            "tags": null
          },
          "name": "stdout",
          "output_type": "stream",
          "text": [
            "Article 3565:\n",
            "Article: सोमवार, 5 जून को मेष राशि के लोगों को गुस्से से बचना होगा, कोई रिश्ता बिगड़ सकता है। वृषभ राशि के लोगों के काम की गति धीमी रह सकती है, जिससे चिंताएं बढ़ सकती हैं। कन्या राशि के लोग पारिवारिक जिम्मेदारियां ठीक से निभाएंगे। टैरो कार्ड रीडर प्रणिता देशमुख से जानिए सभी 12 राशियों के दिन कैसा रह सकता है...\n",
            "मेष - QUEEN OF SWORDS \n",
            "जिन बातों से नाराजगी बढ़ती है, उन्हें सही समय पर प्रकट करें। वर्ना क्रोध के कारण आपका नुकसान हो सकता है। जिन लोगों के लिए नाराजगी है, उन्हें उनके व्यवहार के बारे में जानकारी जरूर दें। वर्ना आपके गुस्से की वजह से रिश्ता टूट सकता है। संवाद कौशल पर ध्यान दें।\n",
            "करियर : करियर संबंधी जो रुकावट है, उसे दूर करना आपके लिए संभव हो सकता है।\n",
            "लव : आपके किसी निर्णय की वजह से ही पार्टनर दुखी हो सकता है।\n",
            "हेल्थ : लो बीपी और शुगर के कारण तकलीफ हो सकती है।\n",
            "लकी कलर : सफेद\n",
            "लकी नंबर : 1\n",
            "वृषभ - THREE OF SWORDS \n",
            "काम की गति धीमी होने से चिंता बढ़ेगी। जो लोग विदेश में काम करने की इच्छा रखते हैं, उन्हें जरूरी अनुमति मिलने में वक्त लग सकता है। परिवार के लोगों के साथ वक्त बिताने की कोशिश करें। एक-दूसरे की समस्याओं को समझकर सुलझाएं।\n",
            "करियर : व्यापारी वर्ग को नुकसान होने की संभावना है। हर एक काम के लिए जागरूकता रखें।\n",
            "लव : रिलेशनशिप में महसूस होने वाले उतार-चढ़ाव तकलीफ का कारण हो सकते हैं।\n",
            "हेल्थ : पैर पर सूजन हो सकती है, जो तकलीफ का कारण बनेगी।\n",
            "लकी कलर : नीला\n",
            "लकी नंबर : 5\n",
            "मिथुन - FOUR OF PENTACLES \n",
            "पैसों से संबंधित चिंता बढ़ने की संभावना है। आपके गलत खर्च की वजह से पछतावा हो सकता है। पैसों की वजह से कोई जरूरी काम रुक सकता है। किसी व्यक्ति से उधार लेने से बचें। परिस्थिति सुधारने की क्षमता आप में है। संयम रखें और मेहनत करते रहें।\n",
            "करियर : आपकी महत्वपूर्ण जानकारी की वजह से दूसरे पक्ष को फायदा हो सकता है। सहकर्मियों को क्षमता के अनुसार मदद करते रहें, लेकिन प्रतिस्पर्धा के लिए सतर्क रहें।\n",
            "लव : रिलेशनशिप के बारे में गहराई से विचार करें और फिर निर्णय लें।\n",
            "हेल्थ : पेट दर्द की समस्या बढ़ सकती है।\n",
            "लकी कलर : ऑरेंज\n",
            "लकी नंबर : 3\n",
            "कर्क - THREE OF SWORDS\n",
            "मानसिक तनाव बढ़ने की संभावना है। परिवार के लोगों से गलतियों हो सकती हैं, उनका व्यवहार आपके लिए नकारात्मक बन सकता है। किसी रिश्तेदार से विवाद हो सकता है। अपनी समस्याओं की चर्चा संयम से करें। पैसों से संबंधित नुकसान नहीं होगा, लेकिन अपेक्षा के अनुसार लाभ न होने से निराशा हो सकती है।\n",
            "करियर : करियर संबंधी स्किल्स को बेहतरीन बनाने के लिए सही व्यक्ति की मदद मिलेगी।\n",
            "लव : रिलेशनशिप संबंधी विचारों में स्पष्टता आने में वक्त लग सकता है।\n",
            "हेल्थ : लो बीपी के कारण कमजोरी हो सकती है।\n",
            "लकी कलर : पीला\n",
            "लकी नंबर : 2\n",
            "सिंह - THREE OF CUPS \n",
            "मित्रों के साथ बिताए हुए वक्त की वजह से महत्वपूर्ण काम नजरअंदाज हो सकते हैं। संपर्क का दायरा बढ़ाने की आवश्यकता है। बेकार के खर्च आपके द्वारा किए जाएंगे, जिनकी वजह से जरूरी काम अटक सकता है। लोगों की मदद करनी पड़ेगी।\n",
            "करियर : मीडिया से जुड़े हुए लोगों को बड़ा प्रोजेक्ट मिलेगा, इस कारण आर्थिक स्थिति में सुधार होगा।\n",
            "लव : रिलेशनशिप की वजह से जीवन में सुधार होगा।\n",
            "हेल्थ : सेहत को नजरअंदाज न करें।\n",
            "लकी कलर : ग्रे\n",
            "लकी नंबर : 4\n",
            "कन्या - THE FOOL\n",
            "हाल ही में मिली प्रगति की वजह से नई बातों की ओर ध्यान देना आपके लिए संभव हो सकता है। आर्थिक स्थिति में सुधार होने से पारिवारिक जिम्मेदारियों को बखूबी निभाएंगे। परिवार संबंधी अनेक जिम्मेदारियों को निभाने की कोशिश करनी होगी। आपसी संबंध सुधरेंगे। मित्रों के साथ वक्त बिताने की कोशिश करें।\n",
            "करियर : आपके करियर से जुड़ा कोर्स या उच्च शिक्षा के लिए किए गए प्रयत्नों के कारण करियर में बदलाव हो सकता है।\n",
            "लव : पार्टनर के विश्वास को बनाए रखना होगा।\n",
            "हेल्थ : गलत खानपान की वजह से एलर्जी तकलीफ होने की संभावना है।\n",
            "लकी कलर : लाल\n",
            "लकी नंबर : 9\n",
            "तुला - TEN OF CUPS \n",
            "परिवार के लोगों से मिल मदद की वजह से समस्याएं दूर हो सकती हैं, लेकिन स्वभाव में नकारात्मक पहलू बार-बार आपके लिए समस्या का कारण बनेंगे। पैसों से जुड़ी हुई तकलीफ दूर होगी। अपनी जीवनशैली और आर्थिक स्थिति को सुधारने के लिए योजना बनाकर काम करें। व्यक्तिगत जीवन के प्रति गंभीरता बढ़ाएं।\n",
            "करियर : व्यापारी किसी व्यक्ति के साथ नए व्यापार की शुरुआत कर पाएंगे, लेकिन ये व्यापार कम समय के लिए ही लाभदायक रह सकता है।\n",
            "लव : पारिवारिक जिम्मेदारियों के साथ पार्टनर के लिए जो जिम्मेदारियां हैं, उन्हें भी समझने की कोशिश करें।\n",
            "हेल्थ : बदलते वातावरण की वजह से सेहत बिगड़ सकती है।\n",
            "लकी कलर : पर्पल\n",
            "लकी नंबर : 6\n",
            "वृश्चिक - THE EMPEROR \n",
            "वक्त का ठीक से इस्तेमाल न करने की वजह से महत्वपूर्ण काम अधूरा रह सकता है। सरकारी दस्तावेज या सरकारी काम से जुड़ी किसी भी बात को नजरअंदाज न करें। यदि नियम-कायदे से संबंधित कोई समस्या है तो उसे सुलझाने के लिए प्रभावशाली लोगों से मदद लेनी पड़ सकती है। मेहनत के अनुसार परिस्थिति को बदला जा सकता है, लेकिन गलतियां न हों, इस बात का ध्यान रखें।\n",
            "करियर : तय किया गया टारगेट पूरा करने के लिए खुद को ही प्रयत्न करने की आवश्यकता है। किसी भी व्यक्ति पर निर्भरता न बनने दें।\n",
            "लव : परिवार के विरोध की वजह से रिलेशनशिप में तनाव हो सकता है।\n",
            "हेल्थ : पैर दर्द की समस्या बढ़ सकती है।\n",
            "लकी कलर : सफेद\n",
            "लकी नंबर : 8\n",
            "धनु - KING OF CUPS \n",
            "कोई भी निर्णय लेते समय भावनाओं में न बहें। लोग आपको मुख्य उद्देश्य से भटका सकते हैं। किसी भी व्यक्ति को पैसे उधार देने से बचें, आज उतार-चढ़ाव का सामना करना पड़ सकता है। जिन लोगों के साथ संबंध तनाव पूर्ण थे, उनमें सुधार हो सकता है।\n",
            "करियर : काम की जगह गलत लोगों का साथ देने की वजह से आप पर गलत आरोप लग सकते हैं।\n",
            "लव : पार्टनर के लिए नाराजगी बढ़ सकती है।\n",
            "हेल्थ : परिवार के बुजुर्ग लोगों की सेहत पर ध्यान दें।\n",
            "लकी कलर : गुलाबी\n",
            "लकी नंबर : 7\n",
            "मकर - EIGHT OF WANDS \n",
            "बड़े बड़ा पूरा करने की कोशिश करनी होगी। मित्रों के साथ मिलकर कोई योजना बनाई जा सकती है, लेकिन इसे अमल में लाने में वक्त लगेगा। अध्यात्मिक बातों पर ध्यान दें, संयम बढ़ाने की कोशिश करें। भावनात्मक रूप से जो बातें आपको कमजोर बना रही हैं, उनसे बचें।\n",
            "करियर : स्टॉक मार्केट से जुड़े हुए लोग अनुभवी लोगों के साथ चर्चा करने के बाद ही बड़े निवेश करें।\n",
            "लव : विवाह संबंधी निर्णय आगे बढ़ सकता है।\n",
            "हेल्थ : कब्ज की तकलीफ होगी।\n",
            "लकी कलर : नीला\n",
            "लकी नंबर : 9\n",
            "कुंभ - ACE OF PENTACLES \n",
            "दिन आपके लिए सकारात्मक साबित होगा। लाभ मिल सकता है, जिसे निवेश करना आपके लिए आसान होगा। समस्याओं का हल दिन के अंत तक मिल सकता है। व्यक्तिगत जीवन में होने वाले बदलाव को अपनाने की कोशिश करें। खुद होकर किसी भी प्रकार का बड़ा बदलाव न करें।\n",
            "करियर : जिन लोगों को नौकरी में बदलाव करना है, उन्हें परिचित व्यक्ति से अवसर प्राप्त हो सकता है।\n",
            "लव : युवा वर्ग को रिलेशनशिप से अधिक खुद पर ध्यान देने की आवश्यकता है।\n",
            "हेल्थ : उल्टी और एसिडिटी बढ़ सकती है।\n",
            "लकी कलर : पीला\n",
            "लकी नंबर : 4\n",
            "मीन - THE CHARIOT \n",
            "अटके हुए काम आगे बढ़ेंगे। महत्वपूर्ण चर्चा किसी भी व्यक्ति के साथ न हो, इस बात का ध्यान रखें। आपकी नकारात्मकता आपको हानि पहुंचा सकती है। किसी भी व्यक्ति की बातों पर तुरंत विश्वास न करें।\n",
            "करियर : भागीदारी में किसी भी काम की शुरुआत सोच-समझकर करें।\n",
            "लव : पार्टनर्स को एक-दूसरे के व्यक्तित्व के अलग पहलू के लिए समझौता करने की आवश्यकता है।\n",
            "हेल्थ : दांत और त्वचा संबंधी विकार हो सकते हैं।\n",
            "लकी कलर : ऑरेंज\n",
            "लकी नंबर : 1\n",
            "Generated Summary: अटके हुए काम आगे बढ़ेंगे। महत्वपूर्ण चर्चा किसी भी व्यक्ति के साथ न हो, इस बात का ध्यान रखें। आपकी नकारात्मकता आपको हानि पहुंचा सकती है। किसी भी व्यक्ति की बातों पर तुरंत विश्वास न करें। करियर : \n",
            "Reference Summary: सोमवार, 5 जून को मेष राशि के लोगों को गुस्से से बचना होगा, कोई रिश्ता बिगड़ सकता है। वृषभ राशि के लोगों के काम की गति धीमी रह सकती है, जिससे चिंताएं बढ़ सकती हैं। कन्या राशि के लोग पारिवारिक जिम्मेदारियां ठीक से निभाएंगे। Monday, 5th Tarot rashifal in hindi, Somwar ka rashifal, Taurus sign, Virgo sign, daily rashifal\n",
            "Metrics: {'rouge1': 0.0, 'rouge2': 0.0, 'rougeL': 0.0, 'rougeLsum': 0.0, 'bert_score_f1': 46.4115}\n",
            "\n",
            "---\n",
            "\n"
          ]
        },
        {
          "metadata": {
            "tags": null
          },
          "name": "stderr",
          "output_type": "stream",
          "text": [
            "Some weights of RobertaModel were not initialized from the model checkpoint at roberta-large and are newly initialized: ['roberta.pooler.dense.bias', 'roberta.pooler.dense.weight']\n",
            "You should probably TRAIN this model on a down-stream task to be able to use it for predictions and inference.\n"
          ]
        },
        {
          "metadata": {
            "tags": null
          },
          "name": "stdout",
          "output_type": "stream",
          "text": [
            "Article 15827:\n",
            "Article: लताजी के निधन पर पीएम मोदी ने शो जताया है। उन्होंने अपने ट्वीट संदेश में कहा कि लता दीदी को भारतीय संस्कृति के कर्णधार के रूप में याद किया जाएगा। लता दीदी की आवाज में मंत्रमुग्ध करने की अद्भुत क्षमता थी। वे देश में एक खालीपन छोड़ गईं, जिसे भरा नहीं जा सकता। लता दीदी हमेशा मजबूत और विकसित भारत देखना चाहती थीं। उनका निधन मेरे लिए व्यक्तिगत क्षति: शाहलता मंगेशकर के निधन पर होम मिनिस्टर अमित शाह ने भी शोक जताया और उन्हें श्रद्धांजलि दी है। अमित शाह ने अपने ट्वीट संदेश में कहा कि संगीत जगत में उनके द्वारा दिए गए योगदान को शब्दों में बयां करना मुश्किल है। उनका निधन मेरे लिए व्यक्तिगत क्षति है।नितिन गडकरी ने जताया शोक सुर-साम्राज्ञी लता मंगेशकर का निधन पर केंद्रीय मंत्री नितिन गडकरी ने शोक जताया है। उन्होंने कहा है लताजी संगीत युग का इतिहास रही हैं, उन्होंने गीतों का विश्व का रिकॉर्ड तोड़ा है। मेरा उनसे व्यक्तिगत स्नेह था। उनके जाने से पूरे देश को बड़ी क्षति हुई। उनका जाना पूरे देश पर बड़ा आघात है, हम सबके जीवन में बड़ा धक्का है। उनके गीत लोग पीढ़ियों तक सुनते रहेंगे।\n",
            "Generated Summary: लता मंगेशकर के निधन पर होम मिनिस्टर अमित शाह ने भी शोक जताया और उन्हें श्रद्धांजलि दी है। अमित शाह ने अपने ट्वीट संदेश में कहा कि संगीत जगत में उनके द्वारा दिए गए योगदान को शब्दों में बयां करना मुश्किल\n",
            "Reference Summary: सुर-साम्राज्ञी लता मंगेशकर का निधन पर केंद्रीय मंत्री नितिन गडकरी ने शोक जताया है। उन्होंने कहा है लताजी संगीत युग का इतिहास रही हैं, उन्होंने गीतों का विश्व का रिकॉर्ड तोड़ा है।\n",
            "Metrics: {'rouge1': 0.0, 'rouge2': 0.0, 'rougeL': 0.0, 'rougeLsum': 0.0, 'bert_score_f1': 57.0651}\n",
            "\n",
            "---\n",
            "\n"
          ]
        },
        {
          "metadata": {
            "tags": null
          },
          "name": "stderr",
          "output_type": "stream",
          "text": [
            "Some weights of RobertaModel were not initialized from the model checkpoint at roberta-large and are newly initialized: ['roberta.pooler.dense.bias', 'roberta.pooler.dense.weight']\n",
            "You should probably TRAIN this model on a down-stream task to be able to use it for predictions and inference.\n"
          ]
        },
        {
          "metadata": {
            "tags": null
          },
          "name": "stdout",
          "output_type": "stream",
          "text": [
            "Article 2673:\n",
            "Article: बिपरजॉय तूफान आज पंजाब में पूर्वी मालवा में असर दिखाएगा। जिसके बाद मौसम विभाग ने आज से लेकर मंगलवार तक पूर्वी मालवा के अलावा पठानकोट, होशियारपुर और नवांशहर में भी येलो अलर्ट जारी किया है। 40 किमी की रफ्तार से हवाएं चल सकती हैं।\n",
            "इस दौरान किसानों को खेतों में न जाने, कच्चे व कमजोर घरों में न रुकने और तूफान के समय कांच की खिड़कियों से दूर रहने की हिदायत की गई है। वहीं पूर्वी मामला के साथ माझा-दोआबा के चार जिलों के अलावा अन्य पूरे राज्य में गर्मी जोर पकड़ेगी।\n",
            "माझा व दोआबा में बढ़ेगी गर्मी, मालवा को राहत\n",
            "बिपरजॉय जहां अन्य राज्यों में आफत लेकर आ रहा है, वहीं इससे पंजाब में मौसम सुहावना हो जाएगा। यहां रविवार- सोमवार तेज हवाएं चल सकती हैं। लेकिन अधिक नुकसान देखने को नहीं मिलेगा। पंजाब के माझा व दोआबा में बिपरजॉय का असर ना के बराबर होने के कारण अब तापमान में बढ़ोतरी देखने को मिलेगी। आज शाम तक माझा व दोआबा का तापमान 38 के पार हो जाएगा, जो बीते दिन 37 डिग्री के करीब था।\n",
            "वहीं मालवा में बिपरजॉय गर्मी से राहत देगा। बिपरजॉय के कारण गर्मी से राहत मिलेगी और तापमान में गिरावट होगी। मालवा में तापमान 38 डिग्री के करीब रहने का अनुमान है।\n",
            "पंजाब के प्रमुख शहरों का तापमान\n",
            "पंजाब में आज न्यूनतम तापमान में औसतन 2 डिग्री का उछाल देखने को मिला है। तापमान सामान्य से 2.9 डिग्री अधिक रहा है। वहीं गुरदासपुर में सबसे कम न्यूनतम तापमान 25.3 डिग्री दर्ज किया गया।\n",
            "अमृतसर- शहर का न्यूनतम तापमान 28 डिग्री रिकॉर्ड किया गया, जो बीते दिन से 2 डिग्री और सामान्य से 3.4 डिग्री अधिक है। वहीं आज का अधिकतम तापमान 38 डिग्री के करीब रहने का अनुमान है।\n",
            "जालंधर- जालंधर का न्यूनतम तापमान 28 डिग्री के करीब रहा। वहीं आज का अधिकतम तापमान 38 डिग्री के करीब रहने का अनुमान है।\n",
            "लुधियाना- शहर का न्यूनतम तापमान 28.7 डिग्री दर्ज किया गया है, जो बीते दिन से 2 डिग्री और सामान्य से 3.1 डिग्री अधिक है। मौसम विभाग के अनुसार आज अधिकतम तापमान 38 डिग्री तक पहुंचने का अनुमान है।\n",
            "Generated Summary: पंजाब के माझा व दोआबा में बिपरजॉय का असर ना के बराबर होने के कारण अब तापमान में बढ़ोतरी देखने को मिलेगी। आज शाम तक माझा व दोआबा का तापमान 38 के पार हो जाएगा, जो बीते दिन 37 डिग्री के करीब था\n",
            "Reference Summary: Punjab Weather Latest News Update; [Aaj 18th June Ka Mausam Kaisa Rahega] - बिपरजॉय तूफान आज पंजाब में पूर्वी मालवा में असर दिखाएगा। जिसके बाद मौसम विभाग ने आज से लेकर मंगलवार तक पूर्वी मालवा के अलावा पठानकोट, होशियारपुर और नवांशहर में भी येलो अलर्ट जारी किया है\n",
            "Metrics: {'rouge1': 0.0, 'rouge2': 0.0, 'rougeL': 0.0, 'rougeLsum': 0.0, 'bert_score_f1': 48.7402}\n",
            "\n",
            "---\n",
            "\n"
          ]
        },
        {
          "metadata": {
            "tags": null
          },
          "name": "stderr",
          "output_type": "stream",
          "text": [
            "Some weights of RobertaModel were not initialized from the model checkpoint at roberta-large and are newly initialized: ['roberta.pooler.dense.bias', 'roberta.pooler.dense.weight']\n",
            "You should probably TRAIN this model on a down-stream task to be able to use it for predictions and inference.\n"
          ]
        },
        {
          "metadata": {
            "tags": null
          },
          "name": "stdout",
          "output_type": "stream",
          "text": [
            "Article 15866:\n",
            "Article: बेंगलुरु: कर्नाटक में कोरोना वायरस के मामलों में बढ़ोतरी के बीच राज्य के राजस्व मंत्री ए अशोक ने दावा किया कि कई संक्रमित लोगों ने अपने मोबाइल बंद कर लिए हैं और उनमें से करीब 3000 लोग बेंगलुरु से लापता हैं। मंत्री ने संवाददाताओं से कहा कि पुलिस से ऐसे लोगों का पता लगाने को कहा गया है। अशोक ने कहा, ‘‘हम लोगों को निशुल्क दवाइयां दे रहे हैं जिससे 90 प्रतिशत तक मामले नियंत्रित किए जा सकते हैं लेकिन उन्होंने (संक्रमित लोगों) अपने मोबाइल फोन ही बंद कर लिए हैं। वे गंभीर स्थिति में अस्पताल पहुंच जाते हैं और फिर आईसीयू बेड तलाशते हैं। इन दिनों ऐसा ही हो रहा है।’’ उन्होंने कहा कि कई कोरोना संक्रमित लोगों ने अपने मोबाइल फोन बंद कर लिए हैं और अपने बारे में किसी को बता भी नहीं रहे इससे स्थिति काफी जटिल हो गयी है। मंत्री ने कहा, ‘‘मुझे लगता है कि बेंगलुरु में कम से कम 2,000 से 3,000 लोगों ने अपने फोन बंद कर लिए हैं और अपने घर से कहीं और चले गए हैं। हमें पता नहीं चल रहा कि वे कहां गए हैं।’’कोविड-19 के प्रसार को रोकने के लिए राज्य सरकार ने मंगलवार रात से 14 दिनों के लिए लॉकडाउन लगाया है। कर्नाटक में मंगलवार को संक्रमण के 30,000 से ज्यादा मामले आए। बेंगलुरु शहर में ही 17000 से ज्यादा लोगों में संक्रमण की पुष्टि हुई । राज्य में उपचाराधीन मरीजों की संख्या तीन लाख से ज्यादा है वहीं बेंगलुरु में दो लाख से ज्यादा मरीज हैं। इस बीच कोविड-19 के बढ़ते मामलों को नियंत्रित करने के प्रयास के तहत कर्नाटक सरकार ने राज्य भर में 14 दिनों के लिए लॉकडाउन लगा दिया है। राज्य मंत्रिमंडल ने 18 से 45 साल आयु वर्ग के लोगों को सरकारी अस्पतालों में कोविड-19 का टीका नि:शुल्क उपलब्ध कराने का निर्णय लिया है। मुख्यमंत्री बी.एस. येदियुरप्पा ने कहा, ‘‘कोविड-19 को नियंत्रित करने के लिए कड़े कदम उठाए जाएंगे। कल रात से अगले 14 दिनों के लिए पूरे राज्य में लॉकडाउन रहेगा।’’ कोविड-19 टीकाकरण के बारे में उन्होंने कहा कि 18 से 45 साल आयु वर्ग के लोगों को सरकारी अस्पतालों में टीका नि:शुल्क लगाया जाएगा। इस संबंध में आवश्यक दिशा-निर्देश स्वास्थ्य विभाग जारी करेगा। मुख्यमंत्री ने स्पष्ट किया कि ऑक्सीजन की कोई कमी नहीं है और केन्द्र सरकार ने राज्य को रोज मिलने वाले जीवन रक्षक गैस का कोटा 300 मीट्रिक टन से बढ़ाकर 800 मीट्रिक टन कर दिया है।ये भी पढ़ें\n",
            "Generated Summary: कर्नाटक में कोरोना वायरस के मामलों में बढ़ोतरी के बीच राज्य के राजस्व मंत्री ए अशोक ने दावा किया कि कई संक्रमित लोगों ने अपने मोबाइल बंद कर लिए हैं और उनमें से करीब 3000 लोग बेंगलुरु से लापता हैं।\n",
            "Reference Summary: राज्य के राजस्व मंत्री ए अशोक ने दावा किया कि कई संक्रमित लोगों ने अपने मोबाइल बंद कर लिए हैं और उनमें से करीब 3000 लोग बेंगलुरु से लापता हैं। मंत्री ने संवाददाताओं से कहा कि पुलिस से ऐसे लोगों का पता लगाने को कहा गया है।\n",
            "Metrics: {'rouge1': 100.0, 'rouge2': 0.0, 'rougeL': 100.0, 'rougeLsum': 100.0, 'bert_score_f1': 68.7748}\n",
            "\n",
            "---\n",
            "\n"
          ]
        },
        {
          "metadata": {
            "tags": null
          },
          "name": "stderr",
          "output_type": "stream",
          "text": [
            "Some weights of RobertaModel were not initialized from the model checkpoint at roberta-large and are newly initialized: ['roberta.pooler.dense.bias', 'roberta.pooler.dense.weight']\n",
            "You should probably TRAIN this model on a down-stream task to be able to use it for predictions and inference.\n"
          ]
        },
        {
          "metadata": {
            "tags": null
          },
          "name": "stdout",
          "output_type": "stream",
          "text": [
            "Article 9938:\n",
            "Article: नयी दिल्ली। दिल्ली की एक अदालत ने पिछले साल फरवरी में शहर के उत्तर पूर्वी हिस्से में हुए दंगों से जुड़े दो मामलों में तीन लोगों को शुक्रवार को ज़मानत दे दी। अदालत ने कहा कि पुलिस के गवाह द्वारा आरोपियों की पहचान करने में की गई देरी के कारण शायद ही कोई नतीजा निकला है। अतिरिक्त सत्र न्यायाधीश विनोद यादव ने मोहम्मद ताहिर, शीबू खान और हमीद को 20-20 हज़ार रुपये के मुचलके और इतनी ही राशि की जमानत पर राहत दे दी। ताहिर को गोकलपुरी इलाके में दंगाई भीड़ द्वारा कथित रूप से एक दुकान में की गई तोड़फोड़ और आगज़नी से जुड़े मामले में जमानत दी गई है जबकि खान और हमीद को दयालपुर इलाके में एक गन्ने के गोदाम में आग लगाने के मामले में राहत दी गई है। अदालत ने कहा, “पुलिस अधिकारी (जो घटना के समय क्षेत्र में बीट अधिकारी के तौर तैनात था) द्वारा आवेदकों (खान, ताहिर और हमीद) की पहचान से शायद ही कोई नतीजा निकले, क्योंकि अदालत यह नहीं समझ पा रही है कि बीट अधिकारी ने अपना बयान दर्ज कराने तक का इंतज़ार क्यों किया जबकि उसने 24 फरवरी 2020 को दंगों में शामिल आवेदको को स्पष्ट रूप से देख लिया और पहचान लिया था।  अदालत ने दो मामलों में एक जैसे पारित आदेशों में कहा, 'यह पुलिस के गवाह की विश्वसनीयता पर गंभीर संदेह पैदा करता है।' अदालत ने यह भी कहा कि आरोपियों का नाम ना प्राथमिकी में है ना ही उनके खिलाफ विशिष्ट आरोप है। उसने कहा कि ताहिर किसी भी सीसीटीवी फुटेज में नहीं दिख रहा है। अदालत ने कहा कि दोनों मामलों में कई सह आरोपियों को जमानत मिल गई है जिनकी भूमिका भी इन व्यक्तियों से मिलती जुलती थी।सुनवाई के दौरान आरोपियों ने दावा किया कि उन्हें फंसाया जा रहा है। पुलिस के विशेष लोक अभियोजक ने जमानत का विरोध करते हुए कहा कि आरोपी कथित रूप से क्षेत्र में दंगा करने में शामिल थे। गौरतलब है कि पिछले साल 24 फरवरी को संशोधिक नागरिकता कानून (सीएए) के समर्थकों एवं विरोधियों में हुई झड़प सांप्रदायिक हिंसा में तब्दील हो गई थी जिसमें 53 लोगों की मौत हुई है और कई घायल हो गये थे।\n",
            "Generated Summary: दिल्ली की एक अदालत ने पिछले साल फरवरी में शहर के उत्तर पूर्वी हिस्से में हुए दंगों से जुड़े दो मामलों में तीन लोगों को शुक्रवार को ज़मानत दे दी।\n",
            "Reference Summary: दिल्ली की एक अदालत ने पिछले साल फरवरी में शहर के उत्तर पूर्वी हिस्से में हुए दंगों से जुड़े दो मामलों में तीन लोगों को शुक्रवार को ज़मानत दे दी।\n",
            "Metrics: {'rouge1': 0.0, 'rouge2': 0.0, 'rougeL': 0.0, 'rougeLsum': 0.0, 'bert_score_f1': 100.0}\n",
            "\n",
            "---\n",
            "\n"
          ]
        },
        {
          "metadata": {
            "tags": null
          },
          "name": "stderr",
          "output_type": "stream",
          "text": [
            "Some weights of RobertaModel were not initialized from the model checkpoint at roberta-large and are newly initialized: ['roberta.pooler.dense.bias', 'roberta.pooler.dense.weight']\n",
            "You should probably TRAIN this model on a down-stream task to be able to use it for predictions and inference.\n"
          ]
        },
        {
          "metadata": {
            "tags": null
          },
          "name": "stdout",
          "output_type": "stream",
          "text": [
            "Article 10230:\n",
            "Article: लखनऊ। उत्तर प्रदेश के त्रिस्तरीय पंचायत चुनाव की कड़ी में शुक्रवार को राज्‍य में 349 क्षेत्र पंचायत प्रमुख निर्विरोध निर्वाचित घोषित किए गए, जबकि 476 पदों के लिए शनिवार को मतदान होगा। उत्तर प्रदेश में गांव तथा जिला की सरकार के गठन के बाद अब ब्लाक की सरकार के गठन की प्रक्रिया जारी है। उत्तर प्रदेश के राज्‍य निर्वाचन आयुक्‍त मनोज कुमार ने एक बयान में यह जानकारी दी। राज्‍य में 825 क्षेत्र पंचायत प्रमुखों के चुनाव की प्रक्रिया गुरुवार को नामांकन पत्र दाखिल करने के साथ शुरू हुई और आज शुक्रवार को नामांकन पत्रों की वापसी तय थी। शनिवार (10 जुलाई) को मतदान सुनिश्चित किया गया है। निर्वाचन आयुक्‍त ने बताया कि 825 प्रमुख क्षेत्र पंचायत के पदों के लिए कुल 1,718 नामांकन प्राप्त हुए जिनमें 68 नामांकन रद्द होने, 187 उम्मीदवारों द्वारा अपना नामांकन वापस लिए जाने के बाद 1,710 वैध उम्मीदवार पाए गए हैं। कुमार ने बताया कि शनिवार को 476 प्रमुख क्षेत्र पंचायत के पदों के लिए पूर्वाह्न 11 बजे से अपराह्न तीन बजे तक मतदान तथा अपराह्न तीन बजे से मतगणना कराई जाएगी। उन्होंने कहा कि गोंडा जिले के मुजेहना क्षेत्र पंचायत का कार्यकाल पूर्ण न होने के कारण वहां चुनाव नहीं कराया जा रहा है। यूपी के एडीजी (लॉ एंड ऑर्डर) प्रशांत कुमार ने शुक्रवार को बताया कि ब्लॉक प्रमुख चुनाव में हुई हिंसा में अब तक 25 गिरफ्तार, 22 ज़िलों के 24 थानों में चुनाव से जुड़ी 24 घटनाएं हुई हैं। कुमार ने आगे बताया कि 16 मुकदमे दर्ज हुए हैं जबकि 115 लोगों के खिलाफ नामजद मुकदमा दर्ज किया गया है। वहीं 1730 अज्ञात के खिलाफ मामला दर्ज किया गया है। मतगणना के दौरान सभी ब्लाक पर हंगामा रोकने के लिए स्थानीय पुलिस बल के साथ ही पीएसी को भी तैनात किया जाएगा।\n",
            "Generated Summary: उत्तर प्रदेश के त्रिस्तरीय पंचायत चुनाव की कड़ी में शुक्रवार को राज् य में 349 क्षेत्र पंचायत प्रमुख निर्विरोध निर्वाचित घोषित किए गए, जबकि 476 पदों के लिए शनिवार को मतदान होगा।\n",
            "Reference Summary: उत्तर प्रदेश के त्रिस्तरीय पंचायत चुनाव की कड़ी में शुक्रवार को राज्‍य में 349 क्षेत्र पंचायत प्रमुख निर्विरोध निर्वाचित घोषित किए गए, जबकि 476 पदों के लिए शनिवार को मतदान होगा।\n",
            "Metrics: {'rouge1': 100.0, 'rouge2': 100.0, 'rougeL': 100.0, 'rougeLsum': 100.0, 'bert_score_f1': 97.0487}\n",
            "\n",
            "---\n",
            "\n"
          ]
        },
        {
          "metadata": {
            "tags": null
          },
          "name": "stderr",
          "output_type": "stream",
          "text": [
            "Some weights of RobertaModel were not initialized from the model checkpoint at roberta-large and are newly initialized: ['roberta.pooler.dense.bias', 'roberta.pooler.dense.weight']\n",
            "You should probably TRAIN this model on a down-stream task to be able to use it for predictions and inference.\n"
          ]
        },
        {
          "metadata": {
            "tags": null
          },
          "name": "stdout",
          "output_type": "stream",
          "text": [
            "Article 10497:\n",
            "Article: नई दिल्ली: कांग्रेस नेता राहुल गांधी ने रविवार को किसान आंदोलन पर सरकार की जमकर खिंचाई की। राहुल गांधी ने आंदोलनकारी किसानों की तुलना 'सत्याग्रहियों' से की और कहा कि किसान सरकार से अपना हक लेकर रहेंगे। उन्होंने हिंदी में ट्वीट किया, देश चंपारण जैसी त्रासदी का सामना कर रहा है, तब अंग्रेज कंपनी बहादुर थे और अब पीएम के दोस्त कंपनी बहादुर हैं।उन्होंने कहा, लेकिन आंदोलन का हर एक किसान-मज़दूर सत्याग्रही है जो अपना अधिकार लेकर ही रहेगा।सत्याग्रह सरकार की नीतियों के खिलाफ राजनीतिक विरोध का एक तरीका है। ब्रिटिश शासन के खिलाफ महात्मा गांधी ने सत्याग्रह का तरीका अपनाया था।स्वतंत्रता आंदोलन के दौरान 1917 में महात्मा गांधी ने बिहार के चंपारण में सत्याग्रह किया था, जब उन्होंने किसानों के मजबूरन इंडिगो खेती करने के खिलाफ आंदोलन किया था।\n",
            "Generated Summary: कांग्रेस नेता राहुल गांधी ने रविवार को किसान आंदोलन पर सरकार की जमकर खिंचाई की। राहुल गांधी ने आंदोलनकारी किसानों की तुलना 'सत्याग्रहियों' से की और कहा कि किसान सरकार से अपना हक लेकर रहेंगे।\n",
            "Reference Summary: कांग्रेस नेता राहुल गांधी ने रविवार को किसान आंदोलन पर सरकार की जमकर खिंचाई की। राहुल गांधी ने आंदोलनकारी किसानों की तुलना 'सत्याग्रहियों' से की और कहा कि किसान सरकार से अपना हक लेकर रहेंगे।\n",
            "Metrics: {'rouge1': 0.0, 'rouge2': 0.0, 'rougeL': 0.0, 'rougeLsum': 0.0, 'bert_score_f1': 100.0}\n",
            "\n",
            "---\n",
            "\n"
          ]
        },
        {
          "metadata": {
            "tags": null
          },
          "name": "stderr",
          "output_type": "stream",
          "text": [
            "Some weights of RobertaModel were not initialized from the model checkpoint at roberta-large and are newly initialized: ['roberta.pooler.dense.bias', 'roberta.pooler.dense.weight']\n",
            "You should probably TRAIN this model on a down-stream task to be able to use it for predictions and inference.\n"
          ]
        },
        {
          "metadata": {
            "tags": null
          },
          "name": "stdout",
          "output_type": "stream",
          "text": [
            "Article 581:\n",
            "Article: गोरखपुर में दीनदयाल उपाध्याय यूनिवर्सिटी (DDU) में शुक्रवार शाम अखिल भारतीय विद्यार्थी परिषद (ABVP) के कार्यकर्ताओं ने वाइस चांसलर के चैंबर में घुसकर तोड़फोड़ कर दी। दरवाजा उखाड़कर फेंक दिया। इसके बाद वाइस चांसलर और रजिस्ट्रार को दौड़ा-दौड़ाकर पीटा। इतना ही नहीं, बीच-बचाव करने आए पुलिसवालों से भी मारपीट की।\n",
            "बाद में पुलिसवालों ने लाठीचार्ज कर ABVP कार्यकर्ताओं को खदेड़ा। बवाल में वाइस चांसलर, रजिस्ट्रार, 3-4 ABVP कार्यकर्ता और कुछ पुलिसकर्मी घायल हुए हैं। सभी को अस्पताल भेजा गया है। अभी मौके पर हंगामा हो रहा है। 3 से 4 थानों की फोर्स तैनात की गई है। वहीं, 10 कार्यकर्ताओं को हिरासत में लिया गया है।\n",
            "अब बवाल के 2 फुटेज देखिए...\n",
            "पहले जानते हैं क्यों हुआ बवाल\n",
            "ABVP कार्यकर्ता यूनिवर्सिटी में फैली अनियमितता के खिलाफ प्रदर्शन कर रहे थे। छात्रों के मुताबिक वाइस चांसलर के आश्वासन के बाद भी किसी समस्या का समाधान नहीं हुआ। इसके बाद 13 जुलाई को ABVP कार्यकर्ताओं ने मांगे पूरी न होने पर यूनिवर्सिटी में वाइस चांसलर का पुतला फूंककर प्रदर्शन किया।\n",
            "उस दिन कार्यकर्ताओं ने तीन गेट के ताले भी तोड़ दिए थे। इसके बाद वाइस चांसलर ने एक-एक कर छात्रों की समस्याएं सुनीं और आश्वासन दिया था कि जल्द ही इन सभी का समाधान कर दिया जाएगा।\n",
            "इसके बाद डीन डॉ. सत्यपाल सिंह ने हंगामा करने वाले 4 कार्यकर्ताओं के निलंबन और 4 कार्यकर्ताओं को यूनिवर्सिटी में प्रवेश वर्जित करने का आदेश जारी कर दिया।\n",
            "इस आदेश के विरोध में छात्र वाइस चांसलर से मिलने शुक्रवार को पहुंचे तो उन्होंने बात करने से मना कर दिया। इस पर कार्यकर्ताओं का गुस्सा भड़क गया।\n",
            "वाइस चांसलर नहीं आए तो उनके चैंबर में घुसे कार्यकर्ता\n",
            "ABVP कार्यकर्ता यूनिवर्सिटी के गेट पर वाइस चांसलर प्रोफेसर राजेश सिंह का इंतजार करते रहे। 3 बजे तक वे बाहर नहीं निकले। इसके बाद नाराज कार्यकर्ता वाइस चांसलर के चैंबर में पहुंच गए। इस दौरान पुलिस अपनी सुरक्षा में वाइस चांसलर को बाहर निकाल रही थी, तभी कार्यकर्ताओं ने हमला बोल दिया।\n",
            "अफरा-तफरी के माहौल की तस्वीरें देखिए...\n",
            "गमलों से किया हमला\n",
            "ABVP कार्यकर्ताओं ने गमले फेंककर वाइस चांसलर और रजिस्ट्रार को मारा। इस दौरान रजिस्ट्रार जमीन पर गिर गए। इसके बाद कार्यकर्ताओं ने उन्हें जमकर पीटा। पुलिस ने कड़ी मशक्कत के बाद 10 कार्यकर्ताओं को हिरासत में लिया। पुलिस मामले की छानबीन में जुटी है। घटना को लेकर अफरा-तफरी का माहौल है।\n",
            "ये भी पढ़ें..\n",
            "DDU छात्रों ने आधी रात घेरा कुलपति का आवास: स्टूडेंट्स बोले- न खाना मिल रहा न पानी\n",
            "दीनदयाल उपाध्याय गोरखपुर यूनिवर्सिटी के छात्रों ने बुधवार की रात हंगामा खड़ा कर दिया। यूनिवर्सिटी प्रशासन की अव्यवस्थाओं से नाराज आरपी शुक्ल हॉस्टल के छात्रों ने कुलपति आवास पर प्रदर्शन किया। इस दौरान छात्रों ने कुलपति के खिलाफ जमकर नारेबाजी भी की। सूचना पाते ही कैंट पुलिस भी मौके पर पहुंच गई। यूनिवर्सिटी प्रशासन और पुलिस ने किसी तरह छात्रों को समझा-समझा बुझाकर मामला शांत कराया। यहां पढ़ें पूरी खबर\n",
            "पूर्णिया विवि में लाखों की कॉपी हुई रद्दी, लगी दीमक:15 लाख खरीदी थी कॉपी, पहले VC राजेश सिंह के कार्यकाल में हुई थी खरीदारी\n",
            "नव स्थापित पूर्णिया विश्वविद्यालय में रुपयों का कैसे दुरुपयोग होता है तो परीक्षा विभाग चले जाए। वहां पर अभिभावक व छात्रों से लिए फीस के रुपये से खरीदी गई कॉपी को कैसे दीमक लगा दिया गया है। इसको देखकर लगता है कि विवि प्रशासन ने कैसे छात्रों के पैसे का दुरुपयोग किया है। यहां पढ़ें पूरी खबर \n",
            "Generated Summary: दिल्ली में दीनदयाल उपाध्याय यूनिवर्सिटी (DDU) में शुक्रवार शाम अखिल भारतीय विद्यार्थी परिषद (ABVP) के कार्यकर्ताओं ने वाइस चांसलर के चैंबर में घुसकर तोड़फोड़ कर दी। दरवाजा उखाड़कर फेंक दिया। इसके बाद वाइस\n",
            "Reference Summary: दीनदयाल उपाध्याय विश्वविद्यालय गोरखपुर में शुक्रवार को बड़ा बवाल हो गया। ABVP के कार्यकर्ताओं ने कुलपति और प्राक्टर की जमकर पिटाई की गई है। कई दिनों से धरने पर बैठे ABVP के कार्यकर्ताओं का गुस्सा शुक्रवार दोपहर बाद फूट गया। कार्यकर्ताओं ने कुलसचिव को बुरी\n",
            "Metrics: {'rouge1': 50.0, 'rouge2': 0.0, 'rougeL': 50.0, 'rougeLsum': 50.0, 'bert_score_f1': 54.1128}\n",
            "\n",
            "---\n",
            "\n"
          ]
        },
        {
          "metadata": {
            "tags": null
          },
          "name": "stderr",
          "output_type": "stream",
          "text": [
            "Some weights of RobertaModel were not initialized from the model checkpoint at roberta-large and are newly initialized: ['roberta.pooler.dense.bias', 'roberta.pooler.dense.weight']\n",
            "You should probably TRAIN this model on a down-stream task to be able to use it for predictions and inference.\n"
          ]
        },
        {
          "metadata": {
            "tags": null
          },
          "name": "stdout",
          "output_type": "stream",
          "text": [
            "Article 7153:\n",
            "Article: भारत में इजराइल के पूर्व राजदूत रॉन मल्का को हाइफा पोर्ट का एग्जीक्यूटिव चेयरमैन बनाया गया है। इसका स्वामित्व अडाणी ग्रुप और उसके इजराइली पार्टनर गैडोट ग्रुप के पास है। अडाणी पोर्ट्स एंड स्पेशल इकोनॉमिक जोन (APSEZ) के कंसोर्टियम ने जुलाई 2022 में पोर्ट के अधिग्रहण की घोषण की थी। अडाणी के पास इस पोर्ट की 70% हिस्सेदारी है और गैडोट के पास 30% हिस्सेदारी है।\n",
            "मल्का ने एक ट्वीट में कहा, “मैं हाइफा पोर्ट का एग्जीक्यूटिव चेयरमैन बनकर सम्मानित महसूस कर रहा हूं। अडाणी और गैडोट का अनुभव और विशेषज्ञता, पोर्ट वर्कर्स के डेडिकेशन के साथ संयुक्त रूप से हाइफा को समृद्धि की नई ऊंचाइयों पर ले जाएगा।” अडाणी और गैडोट ने 1.18 बिलियन डॉलर में इजराइल के मेडिटरेनियन कोस्ट पर मेजर ट्रेड हब के प्राइवेटाइजेशन की बोली जीती थी। टेंडर प्रक्रिया दो साल तक चली थी।\n",
            "अडाणी ग्रुप साल 2054 तक इस पोर्ट को ऑपरेट करेगा। पोर्ट का ऑफिशियल हैंडओवर जनवरी में किया गया था। इस इवेंट में इजराइल के प्रधानमंत्री बेंजामिन नेतन्याहू और गौतम अडाणी शामिल हुए थे। इवेंट के दौरान, अडाणी ने कहा था कि हाइफा पोर्ट का अधिग्रहण उनकी पिछले 6 सालों में की गई कड़ी मेहनत का परिणाम है। वहीं इजराइल के PM नेतन्याहू ने इस डील को एक 'बहुत बड़ा मील का पत्थर' कहा था।\n",
            "हाइफा डील से क्या फायदा?\n",
            "2018 में पहली बार इजराइल सरकार ने इस पोर्ट को प्राईवेट सेक्टर के हवाले करने का फैसला किया था। दरअसल, उसकी सोच यह थी कि ऐसा करने से इन्वेस्टमेंट आएगा और सरकार के खजाने में खासा इजाफा होगा। इसके अलावा शिपिंग और टांसपोर्टेशन टेक्नोलॉजी को और बेहतर किया जा सकेगा। सबसे बड़ा फायदा तो कनेक्टिविटी का है।\n",
            "वहीं मई में अडाणी पोर्ट के चीफ एग्जीक्यूटिव करण अडाणी ने कहा था कि कंपनी प्रीमियर ग्लोबल पोर्ट ग्रुप बनना चाहती है। ऐसे में इजराइल के इस पोर्ट की कमान मिलना इस ग्रुप के सफर का काफी अहम पड़ाव साबित हो सकता है।\n",
            "ऐसा इसलिए क्योंकि इंपोर्ट और एक्सपोर्ट के लिए समुद्री मार्ग पर निर्भर होने के कारण इजराइली सरकार इस सेक्टर को अपग्रेड कर रही है। पड़ोसी अरब देशों के साथ बढ़ते संबंध भी इजराइल के लिए नए व्यापार अवसर पैदा कर रहे हैं और हाइफा एक रीजनल हब बनने के लिए तैयार है। इसका फायदा अडाणी ग्रुप को मिलेगा।\n",
            "भारत का सबसे बड़ा प्राइवेट पोर्ट ऑपरेटर\n",
            "अडाणी पोर्ट्स एंड स्पेशल इकोनॉमिक ज़ोन लिमिटेड (APSEZ Ltd.) भारत का सबसे बड़ा प्राइवेट पोर्ट ऑपरेटर और एंड-टु-एंड लॉजिस्टिक्स प्रोवाइडर है। दो दशकों से भी कम समय में, इसने पूरे भारत में बंदरगाहों के बुनियादी ढांचे और सेवाओं के एक पोर्टफोलियो का निर्माण, अधिग्रहण और विकास किया है।\n",
            "इसके 14 स्ट्रैटेजिकली लोकेटेड पोर्ट्स और टर्मिनल देश की पोर्ट कैपेसिटी का 24% का प्रतिनिधित्व करते हैं। इसे 26 मई 1998 को इनकॉर्पोरेट किया गया था। पहले इसका नाम गुजरात अडाणी पोर्ट लिमिटेड (GAPL) था।\n",
            "Generated Summary: भारत में इजराइल के पूर्व राजदूत रॉन मल्का को हाइफा पोर्ट का एग्जीक्यूटिव चेयरमैन बनाया गया है। इसका स्वामित्व अडाणी ग्रुप और उसके इजराइली पार्टनर गैडोट ग्रुप के पास है।\n",
            "Reference Summary: Former Israel ambassador to India became Executive Chairman of Adani’s Haifa Port, भारत में इजराइल के पूर्व राजदूत रॉन मल्का को हाइफा पोर्ट का एग्जीक्यूटिव चेयरमैन बनाया गया है।\n",
            "Metrics: {'rouge1': 0.0, 'rouge2': 0.0, 'rougeL': 0.0, 'rougeLsum': 0.0, 'bert_score_f1': 68.4056}\n",
            "\n",
            "---\n",
            "\n"
          ]
        },
        {
          "metadata": {
            "tags": null
          },
          "name": "stderr",
          "output_type": "stream",
          "text": [
            "Some weights of RobertaModel were not initialized from the model checkpoint at roberta-large and are newly initialized: ['roberta.pooler.dense.bias', 'roberta.pooler.dense.weight']\n",
            "You should probably TRAIN this model on a down-stream task to be able to use it for predictions and inference.\n"
          ]
        },
        {
          "metadata": {
            "tags": null
          },
          "name": "stdout",
          "output_type": "stream",
          "text": [
            "Article 20482:\n",
            "Article: नई दिल्ली. राजधानी दिल्ली में कल मुख्मंत्री अरविंद केजरीवाल ने 6 दिन के लिए लॉकडाउन लागू करने का ऐलान किया, जिसके बाद यूपी  और बिहार के प्रवासी मजदूर अपने घर जाने के लिए आनंद विहार और यूपी के कौशांबी बस अड्डों पर उमड़े पड़े। महाराष्ट्र की राजधानी  मुंबई का भी यही हाल है, यहां विभिन्न रेलवे स्टेशनों के बाहर प्रवासी मजदूरों की भीड़ है। ऐसे हालातों में यात्रियों को सहूलियत को देखते हुए भारतीय रेलवे ने कई ट्रेनों के संचालन का फैसला किया है। रेलवे द्वारा चलाई जा रही ये सभी ट्रेनें पूरी तरह से रिजर्व हैं, यात्रियों की इनमें सवारी करने के लिए पहले से रिजर्वेशन करवाना होगा और यात्रा के दौरान कोविड-19 प्रोटोकॉल का पालन करना होगा। आइए आपको बताते हैं रेलवे द्वारा किन ट्रेनों के संचालन का किया गया है ऐलान।\n",
            "Generated Summary: राजधानी दिल्ली में कल मुख्मंत्री अरविंद केजरीवाल ने 6 दिन के लिए लॉकडाउन लागू करने का ऐलान किया, जिसके बाद यूपी और बिहार के प्रवासी मजदूर अपने घर जाने के लिए आनंद विहार और यूपी के कौशांबी बस अड्डों\n",
            "Reference Summary: रेलवे द्वारा चलाई जा रही ये सभी ट्रेनें पूरी तरह से रिजर्व हैं, यात्रियों की इनमें सवारी करने के लिए पहले से रिजर्वेशन करवाना होगा और यात्रा के दौरान कोविड-19 प्रोटोकॉल का पालन करना होगा।\n",
            "Metrics: {'rouge1': 0.0, 'rouge2': 0.0, 'rougeL': 0.0, 'rougeLsum': 0.0, 'bert_score_f1': 51.7562}\n",
            "\n",
            "---\n",
            "\n"
          ]
        },
        {
          "metadata": {
            "tags": null
          },
          "name": "stderr",
          "output_type": "stream",
          "text": [
            "Some weights of RobertaModel were not initialized from the model checkpoint at roberta-large and are newly initialized: ['roberta.pooler.dense.bias', 'roberta.pooler.dense.weight']\n",
            "You should probably TRAIN this model on a down-stream task to be able to use it for predictions and inference.\n"
          ]
        },
        {
          "metadata": {
            "tags": null
          },
          "name": "stdout",
          "output_type": "stream",
          "text": [
            "Article 12043:\n",
            "Article: नई दिल्ली. कांग्रेस ने कर्नाटक के मुख्यमंत्री पद से बीएस येदियुरप्पा के इस्तीफा देने के बाद सोमवार को प्रधानमंत्री नरेंद्र मोदी पर निशाना साधा और आरोप लगाया कि 'जबरन सेवानिवृत्ति क्लब' में शामिल किए गए येदियुरप्पा प्रधानमंत्री मोदी के 'सबसे ताजा शिकार' हैं। पार्टी महासचिव और कर्नाटक प्रभारी रणदीप सुरजेवाला ने यह दावा भी किया कि चेहरा बदलने से कर्नाटक में भाजपा का 'भ्रष्ट चरित्र' नहीं बदलने वाला है।उन्होंने ट्वीट किया, \"सिर्फ चेहरा बदलने से भाजपा का भ्रष्ट चरित्र नहीं बदलने वाला है। सच्चाई यह है कि मोदी जी आदततन वरिष्ठ भाजपा नेताओं को अपमानित करते हैं और उन्हें इतिहास के कूड़ेदान में डाल देते हैं।\"सुरजेवाला ने दावा किया, \"मोदी जी का रिकॉर्ड है कि उन्होंने आडवाणी जी, मुरली मनोहर जोशी जी, केशूभाई पटेल जी, शांता कुमार जी, यशवंत सिन्हा जी और कई अन्य लोगों की जबरन सेवानिवृत्ति करवाई। मोदी जी के शिकार भाजपा नेताओं में सुमित्रा महाजन, सुषमा स्वराज, उमा भारती, सीपी ठाकुर , एके पटेल, हरेन पांड्या, हरीन पाठक और कल्याण सिंह भी हैं। इनमें सबसे ताजा नाम हर्षवर्धन, रविशंकर प्रसाद और सुशील मोदी का है।\"उन्होंने आरोप लगाया, \"इस्तीफा देने के लिए आदेश देकर मोदी जी द्वारा येदियुरप्पा को अपमानित किया गया है। वह मोदी जी के सबसे ताजा शिकार हैं और ‘जबरन सेवानिवृत्ति क्लब’ के सदस्य बने हैं। हम जानते हैं कि अब भाजपा के विधायक नहीं, बल्कि दिल्ली का अधिनायकवाद मुख्यमंत्री का फैसला करता है।\"गौरतलब है कि बीएस येदियुरप्पा ने कर्नाटक के मुख्यमंत्री पद से अपना इस्तीफा सोमवार को राज्यपाल थावरचंद गहलोत को सौंप दिया। येदियुरप्पा ने राजभवन में गहलोत को इस्तीफा सौंपा। उन्होंने बताया कि उनका त्यागपत्र स्वीकार कर लिया गया है। इससे कुछ ही घंटों पहले, भारतीय जनता पार्टी (भाजपा) के 78 वर्षीय नेता ने कहा था कि वह मध्याह्न भोजन के बाद राज्यपाल को अपना इस्तीफा सौंप देंगे।\n",
            "Generated Summary: कांग्रेस ने कर्नाटक के मुख्यमंत्री पद से बीएस येदियुरप्पा के इस्तीफा देने के बाद सोमवार को प्रधानमंत्री नरेंद्र मोदी पर निशाना साधा और आरोप लगाया कि 'जबरन सेवानिवृत्ति क्लब' में शामिल किए गए येदियुरप्पा प्रधानमंत्री मोदी के\n",
            "Reference Summary: बीएस येदियुरप्पा ने कर्नाटक के मुख्यमंत्री पद से अपना इस्तीफा सोमवार को राज्यपाल थावरचंद गहलोत को सौंप दिया। येदियुरप्पा ने राजभवन में गहलोत को इस्तीफा सौंपा। उन्होंने बताया कि उनका त्यागपत्र स्वीकार कर लिया गया है।\n",
            "Metrics: {'rouge1': 0.0, 'rouge2': 0.0, 'rougeL': 0.0, 'rougeLsum': 0.0, 'bert_score_f1': 59.7315}\n",
            "\n",
            "---\n",
            "\n"
          ]
        },
        {
          "metadata": {
            "tags": null
          },
          "name": "stderr",
          "output_type": "stream",
          "text": [
            "Some weights of RobertaModel were not initialized from the model checkpoint at roberta-large and are newly initialized: ['roberta.pooler.dense.bias', 'roberta.pooler.dense.weight']\n",
            "You should probably TRAIN this model on a down-stream task to be able to use it for predictions and inference.\n"
          ]
        },
        {
          "metadata": {
            "tags": null
          },
          "name": "stdout",
          "output_type": "stream",
          "text": [
            "Article 17743:\n",
            "Article: देहरादून: कांग्रेस में एक बार फिर आरोप प्रत्यारोप का दौर शुरू हो गया है। पहले जहां, प्रीतम सिंह और हरीश रावत के बीच आरोप प्रत्यारोप चल रहे थे, तो वहीं अब रंजीत रावत भी इस आरोप प्रत्यारोप के दौर में बीच में कूद पड़े हैं। देहरादून में संवाददाताओं से बात करते हुए रंजीत रावत ने साफ तौर पर कहा कि हरीश रावत ने पैसे लेकर टिकट बांटे। टिकट नहीं मिलने पर लोग अब हरीश रावत को तलाश रहे हैं। कुछ लोगों के पैसे हरीश रावत के मैनेजर उन्हें वापस कर दिए। लेकिन कुछ अभी भी पैसे मांगते हुए नजर आ रहे हैं। वहीं रंजीत रावत ने सीधे तौर पर हरीश रावत पर निशाना साधते हुए कहा कि नए नेताओं को हरीश रावत ऐसे अफीम चटा देते हैं।उनके अनुसार हरीश रावत के सम्मोहन से निकलने में मुझे 36 साल लग गए। रंजीत रावत ने सीधे तौर पर हरीश रावत पर निशाना साधते हुए कहा कि हरीश रावत कांग्रेस की हार के सबसे बड़े जिम्मेदार हैं। उन्होंने साफ तौर पर हरीश रावत के उस बयान पर जवाब दिया कि 2017 में हरीश रावत रामनगर से चुनाव लड़ना चाहते थे।रंजीत रावत ने सीधे तौर पर कहा कि पार्टी के पदाधिकारियों और तमाम नेताओं के दबाव में मैंने इस बार गलती कर दी, क्योंकि रामनगर से ही मेरी पिछले 6 साल से तैयारी थी और साल्ट से मैं पिछले 6 साल से तैयारी नहीं कर रहा था, जिसके चलते हार का मुंह देखना पड़ा।(इनपुट- एजेंसी)\n",
            "Generated Summary: कांग्रेस में एक बार फिर आरोप प्रत्यारोप का दौर शुरू हो गया है। पहले जहां, प्रीतम सिंह और हरीश रावत के बीच आरोप प्रत्यारोप चल रहे थे, तो वहीं अब रंजीत रावत भी इस आरोप प्रत्यारोप के दौर में बीच में\n",
            "Reference Summary: रंजीत रावत ने सीधे तौर पर हरीश रावत पर निशाना साधते हुए कहा कि नए नेताओं को हरीश रावत ऐसे अफीम चटा देते हैं। उन्होंने कहा कि हरीश रावत कांग्रेस की हार के सबसे बड़े जिम्मेदार हैं।\n",
            "Metrics: {'rouge1': 0.0, 'rouge2': 0.0, 'rougeL': 0.0, 'rougeLsum': 0.0, 'bert_score_f1': 46.7697}\n",
            "\n",
            "---\n",
            "\n"
          ]
        },
        {
          "metadata": {
            "tags": null
          },
          "name": "stderr",
          "output_type": "stream",
          "text": [
            "Some weights of RobertaModel were not initialized from the model checkpoint at roberta-large and are newly initialized: ['roberta.pooler.dense.bias', 'roberta.pooler.dense.weight']\n",
            "You should probably TRAIN this model on a down-stream task to be able to use it for predictions and inference.\n"
          ]
        },
        {
          "metadata": {
            "tags": null
          },
          "name": "stdout",
          "output_type": "stream",
          "text": [
            "Article 19039:\n",
            "Article: Agriculture Laws: बीजेपी सांसद सुरेश गोपी ने दावा किया है कि वापस लिए गए कृषि कानून जल्द ही वापस लाए जाएंगे। सुरेश गोपी ने कहा कि देश के 'असली किसान' इन कानूनों को चाहते हैं। अगर इन्हें वापस नहीं लाया गया तो ये किसान सरकार बदल देंगे।\"जानकारी के मुताबिक अभिनेता से नेता बने सुरेश गोपी राज्यसभा सांसद हैं वे केरल में विशु कार्यक्रम के उद्घाटन के मौके पर लोगों को संबोधित कर रहे थे। उन्होंने कहा, \"मैं बीजेपी का आदमी हूं...मैं कृषि कानून वापस लिए जाने से बेहद नाराज हूं। आपको अच्छा लगे या बुरा, लेकिन मेरा मानना है कि ये कानून वापस आएंगे।\" उन्होंने कहा कि, \"मैं जानता हूं कि देश के असली किसान इन कानूनों को चाहते हैं, मुझे भरोसा है कि इन कानूनों की वापसी होगी, अगर ऐसा नहीं हुआ तो वे सरकार बदल देंगे।\"गौरतलब है कि इन कृषि कानूनों के खिलाफ देशभर के किसान सड़कों पर उतर आए थे और उनका आंदोलन साल भर से भी अधिक समय तक चला था। पिछले साल प्रधानमंत्री नरेंद्र मोदी ने इन कानूनों को वापस लेने की घोषणा की थी जिसके बाद संसद में इसे वापस ले लिया गया था। किसानों ने इन्हें काले कानून की संज्ञा दी थी और उनका तर्क था कि इन कानूनों के लागू होने से देश का कृषि क्षेत्र कार्पोरेट के हाथों में आ जाएगा और किसान अपने ही खेत में मजदूर बनकर रह जाएगा।इसके अलावा किसानों ने एमएसपी पर कानून बनाने की मांग की थी जिसे लेकर सरकार ने वादा किया था कि इसके लिए कमेटी बनाकर जल्द ही इस पर फैसला लिया जाएगा, लेकिन इस विषय में अभी तक कुछ नहीं हुआ है।\n",
            "Generated Summary: बीजेपी सांसद सुरेश गोपी ने दावा किया है कि वापस लिए गए कृषि कानून जल्द ही वापस लाए जाएंगे। सुरेश गोपी ने कहा कि देश के 'असली किसान' इन कानूनों को चाहते हैं। अगर इन्हें वापस नहीं लाया गया तो ये किसान सरकार बदल\n",
            "Reference Summary: बीजेपी सांसद सुरेश गोपी ने दावा किया है कि वापस लिए गए कृषि कानून जल्द ही वापस लाए जाएंगे। सुरेश गोपी ने कहा कि देश के 'असली किसान' इन कानूनों को चाहते हैं।\n",
            "Metrics: {'rouge1': 0.0, 'rouge2': 0.0, 'rougeL': 0.0, 'rougeLsum': 0.0, 'bert_score_f1': 92.0617}\n",
            "\n",
            "---\n",
            "\n"
          ]
        },
        {
          "metadata": {
            "tags": null
          },
          "name": "stderr",
          "output_type": "stream",
          "text": [
            "Some weights of RobertaModel were not initialized from the model checkpoint at roberta-large and are newly initialized: ['roberta.pooler.dense.bias', 'roberta.pooler.dense.weight']\n",
            "You should probably TRAIN this model on a down-stream task to be able to use it for predictions and inference.\n"
          ]
        },
        {
          "metadata": {
            "tags": null
          },
          "name": "stdout",
          "output_type": "stream",
          "text": [
            "Article 6399:\n",
            "Article: कुछ दिन पहले खबर आई थी कि वॉर 2 का डायरेक्शन करने के लिए यशराज फिल्म्स ने अयान मुखर्जी को अप्रोच किया है। उन्हें सिद्धार्थ आनंद की जगह लिया गया है। रिपोर्ट्स की मानें तो उन्हें इस फिल्म के लिए तकरीबन 32 करोड़ की मोटी रकम दी जा रही है।\n",
            "इसी बीच खबर ये भी है कि अयान का वॉर 2 में काम करना करण जौहर को रास नहीं आया है। रिपोर्ट्स की मानें तो करण इस बात से काफी नाराज हैं कि अयान ने ब्रह्मास्त्र के सीक्वल को बीच में छोड़कर यशराज फिल्म्स के साथ हाथ मिला लिया।\n",
            "32 करोड़ लेकर साइन किया कॉन्ट्रैक्ट\n",
            "रिपोर्ट्स की मानें को अयान ने डायरेक्टर की फीस के तौर पर 32 करोड़ लेकर कॉन्ट्रैक्ट साइन कर लिया है। वो इसी महीने से फिल्म के प्री-प्रोडक्शन का काम शुरू करने वाले हैं। नवंबर 2023 तक फिल्म की शूटिंग भी स्टार्ट हो जाएगी।\n",
            "ऋतिक रोशन स्टारर ये फिल्म 2024 के अंत या 2025 के शुरुआत में रिलीज होगी। वॉर के पहले पार्ट को सिद्धार्थ आनंद ने डायरेक्ट किया था, लेकिन उन्हें यशराज फिल्म्स ने अब दूसरी फिल्म की जिम्मेदारी दे दी है।\n",
            "अयान से खफा हुए करण जौहर\n",
            "ईटाइम्स की रिपोर्ट के मुताबिक, करण जौहर चाहते थे कि अयान पहले ब्रह्मास्त्र के सीक्वल पर काम करें और उसके बाद वॉर 2 की मेकिंग स्टार्ट करें। करण इस बात से खासे नाराज है कि अयान ने ब्रह्मास्त्र के सीक्वल को मझधार में छोड़ दिया है। जो कॉन्ट्रैक्ट था उसके हिसाब से अयान को पहले ब्रह्मास्त्र 2 में काम करना था, क्योंकि करण जौहर ने इस प्रोजेक्ट में 100 करोड़ से अधिक का इन्वेस्टमेंट किया है।\n",
            "हालांकि कुछ दिन पहले अयान ने एक स्टेटमेंट जारी कर कहा था कि वो ब्रह्मास्त्र के सीक्वल को बनाने में ज्यादे समय नहीं लगाएंगे। फिल्म के पहले पार्ट को बनाने में लगभग 10 सालों का समय लग गया था। अयान का कहना है कि अगर वो इतना ज्यादा समय लगाएंगे तो उनकी फिल्म देखने कोई नहीं आएगा।\n",
            "200 करोड़ के बजट में बनेगी वॉर 2\n",
            "वॉर का बजट तकरीबन 200 करोड़ बताया जा रहा है। ये यशराज स्पाई यूनिवर्स की छठी फिल्म है। इससे पहले पठान, वॉर और टाइगर जिंदा है जैसी फिल्में पहले ही इस स्पाई यूनिवर्स का हिस्सा हो चुकी हैं। 2012 में आई सलमान खान की फिल्म एक था टाइगर इस फ्रेंचाइजी की पहली फिल्म थी। आने वाले समय में इस यूनिवर्स में सलमान और शाहरुख की फिल्म पठान वर्सेज टाइगर भी शामिल होगी।\n",
            "अभी तक 3 फिल्में डायरेक्ट की, सभी रणबीर के साथ\n",
            "अयान मुखर्जी ने अपने करियर में चुनिंदा ही फिल्में डायरेक्ट की है, और मजे की बात ये है कि वो सभी फिल्में उन्होंने रणबीर कपूर के साथ की है। उनकी पहली फिल्म वेक अप सिड थी। इसके बाद ये जवानी है दीवानी और ब्रह्मास्त्र जैसी फिल्मों में रणबीर कपूर ही मुख्य भूमिका में थे। वॉर 2 उनके करियर की पहली ऐसी फिल्म होगी जिसमें रणबीर कपूर का कोई रोल नहीं होगा।\n",
            "\n",
            "Generated Summary: यशराज स्पाई यूनिवर्स की छठी फिल्म है। इससे पहले पठान, वॉर और टाइगर जिंदा है जैसी फिल्में पहले ही इस स्पाई यूनिवर्स का हिस्सा हो चुकी हैं। इससे पहले पठान, वॉर और टाइगर जिंदा है जै\n",
            "Reference Summary: Yash Raj Films Approaches Ayan Mukerji for Directing War 2 कुछ दिन पहले खबर आई थी कि वॉर 2 को डायरेक्ट करने के लिए यशराज फिल्म्स ने अयान मुखर्जी को अप्रोच किया है। उन्हें सिद्धार्थ आनंद की जगह लिया गया है।\n",
            "Metrics: {'rouge1': 0.0, 'rouge2': 0.0, 'rougeL': 0.0, 'rougeLsum': 0.0, 'bert_score_f1': 41.9853}\n",
            "\n",
            "---\n",
            "\n"
          ]
        },
        {
          "metadata": {
            "tags": null
          },
          "name": "stderr",
          "output_type": "stream",
          "text": [
            "Some weights of RobertaModel were not initialized from the model checkpoint at roberta-large and are newly initialized: ['roberta.pooler.dense.bias', 'roberta.pooler.dense.weight']\n",
            "You should probably TRAIN this model on a down-stream task to be able to use it for predictions and inference.\n"
          ]
        },
        {
          "metadata": {
            "tags": null
          },
          "name": "stdout",
          "output_type": "stream",
          "text": [
            "Article 12384:\n",
            "Article: नई दिल्ली: मशहूर सिंगर एसपी बालासुब्रमण्यम के निधन पर कांग्रेस अध्यक्ष सोनिया गांधी ने शोक जाहिर किया। उन्होंने एसपी बालासुब्रमण्यम के बेटे एसपीबी चरण को पत्र लिखकर अपनी संवेदना प्रकट की। सोनिया गांधी ने लिखा, \"मुझे एसपी बालासुब्रमण्यम के निधन का बहुत दुख है, जिन्होंने छह हफ्तों से ज्यादा कोरोना वायरस से जंग लड़ी।\"  उन्होंने कहा कि एसपी बालासुब्रमण्यम भारतीय संगीत के चमकते प्रतीक थे। सोनिया गांधी ने एसपीबी चरण को लिखे पत्र में कहा, 'इस दुख की घड़ी में मेरी संवेदनाएं आपके परिवार के साथ हैं। ईश्वर उनकी आत्मा को शांति दे।\" बता दें कि 5 अगस्त 2020 को एसपी बालासुब्रमण्यम के कोरोना पॉजिटिव होने की खबर आई थी और 13 अगस्त को ज्यादा तबीयत बिगड़ने के बाद उन्हें लाइफ सपोर्ट सिस्टम पर रखा गया था। लेकिन, उन्हें नहीं बचाया जा सका। उन्होंने शुक्रवार को आखिरी सांस ली।एसपी बालासुब्रमण्यम ने हिंदी के अलावा तमिल, तेलुगू, कन्नड़ और मलयालम भाषा में भी कई सुपरहिट गाने गाए। सिंगर अलावा वह म्यूज़िक डायरेक्ट, डबिंग आर्टिस्ट और एक्टर भी रह चुके थे। एसपी बालासुब्रमण्यम को प्लेबैक सिंगिंग के लिए छह बार नेशनल अवॉर्ड्स मिले थे, यह गाने अलग अलग भाषाओं में थे। बॉलीवुड में उन्हें फिल्म फेयर अवॉर्ड भी मिले।साल 2001 और 2011 में एसपी बालासुब्रमण्यम को पद्मश्री और पद्म भूषण पुरस्कारों से सम्मानित किया गया। बालासुब्रमण्यम ने अपने पांच दशक से अधिक लंबे करियर में 16 भाषाओं में 40,000 से अधिक गाने गाए हैं। बता दें कि उनका जन्म 4 जून, 1946 को हुआ था। उनके पिता का नाम एसपी सम्बामूर्ति था, जो एक हरि कथा कलाकार थे और मां का नाम सकुंतलम्मा था।संगीत के प्रति उनका रूझान बचपन के दिनों से ही था। उनकी छोटी बहन पी. सैलजा भी एक प्लेबैक सिंगर थीं। इंजीनियरिंग की पढ़ाई करते वक्त वह गायन प्रतियोगिताओं में भी हिस्सा लिया करते थे। उन्होंने इसमें कई ईनाम भी जीते हैं। बाद में फिल्मों में गाने का अवसर ढूंढ़ने के लिए उन्होंने खुद ही म्यूजिक डायरेक्टरों संग जाकर मिलना शुरू कर किया था।अपनी जिंदगी में एक बेहद ही विनम्र इंसान के तौर पर पहचाने जाने वाले एसपीबी ने कहा था कि जब एक इंसान अपनी जिंदगी में कुछ हासिल कर लेता है, तो इसके पीछे कई लोगों का हाथ होता है और उनके संदर्भ में, उन्हें दो लोगों का साथ मिला। अपने दोस्त व रूममेट मुरली के बारे में उन्होंने बताया कि अगर 1966 के दिसंबर में मुरली ने उन्हें जबरदस्ती रिकॉर्डिग स्टूडियो में न भेजा होता, तो वह शायद कभी प्लेबैक सिंगर न बन पाते।\n",
            "Generated Summary: मशहूर सिंगर एसपी बालासुब्रमण्यम के निधन पर कांग्रेस अध्यक्ष सोनिया गांधी ने शोक जाहिर किया। उन्होंने एसपी बालासुब्रमण्यम के बेटे एसपीबी चरण को पत्र लिखकर अपनी संवेदना प्रकट की।\n",
            "Reference Summary: मशहूर सिंगर एसपी बालासुब्रमण्यम के निधन पर कांग्रेस अध्यक्ष सोनिया गांधी ने शोक जाहिर किया। उन्होंने एसपी बालासुब्रमण्यम के बेटे एसपीबी चरण को पत्र लिखकर अपनी संवेदना प्रकट की।\n",
            "Metrics: {'rouge1': 0.0, 'rouge2': 0.0, 'rougeL': 0.0, 'rougeLsum': 0.0, 'bert_score_f1': 100.0001}\n",
            "\n",
            "---\n",
            "\n"
          ]
        },
        {
          "metadata": {
            "tags": null
          },
          "name": "stderr",
          "output_type": "stream",
          "text": [
            "Some weights of RobertaModel were not initialized from the model checkpoint at roberta-large and are newly initialized: ['roberta.pooler.dense.bias', 'roberta.pooler.dense.weight']\n",
            "You should probably TRAIN this model on a down-stream task to be able to use it for predictions and inference.\n"
          ]
        },
        {
          "metadata": {
            "tags": null
          },
          "name": "stdout",
          "output_type": "stream",
          "text": [
            "Article 7562:\n",
            "Article: भारत की यंगेस्ट डोनर का खिताब पाकर दुनिया को अलविदा कह चुकी 39 दिन की अबाबत कौर के माता-पिता के फैसले को आज प्रधानमंत्री नरेंद्र मोदी से सराहा। आज दोपहर मन की बात कार्यक्रम के दौरान प्रधानमंत्री नरेंद्र मोदी ने एग्रीकल्चर डेवलपमेंट ऑफिसर सुखबीर संधू और उनकी पत्नी साइंस प्रोफेसर सुप्रीत कौर के साथ फोन पर बातचीत की।\n",
            "प्रधानमंत्री ने दंपती से बातचीत के बाद घोषणा करते हुए भारत में ट्रांसप्लांट के लिए डोमिसाइल की शर्त को भी खत्म कर दिया। उन्होंने कहा कि देश में अब कोई भी किसी भी राज्य में जाकर बिना झिझक ट्रांसप्लांट करवा सकता है। सुखबीर व सुप्रीत ने अपनी 39 दिन की बच्ची की मौत के बाद अंगदान का निर्णय लेकर दूसरे को नया जीवन दिया।\n",
            "यह निर्णय आसान नहीं था, लेकिन दंपती ने हिम्मत दिखाई। उनकी बच्ची की किडनी का PGI में ट्रांसप्लांट किया गया। उसकी दोनों किडनी से किसी दूसरे इंसान को नया जीवन मिला। प्रधानमंत्री से बातचीत करते हुए दंपती ने कहा कि उनकी बच्ची किसी दूसरे को ही जीवन देने के लिए आई थी।\n",
            "28 अक्टूबर 2022 को हुआ था जन्म\n",
            "पंजाब के अमृतसर के रहने वाले एग्रीकल्चर डिवेल्पमेंट ऑफिसर सुखबीर सिंह संधू और प्रोफेसर सुप्रीत कौर के घर 28 अक्तूबर को बच्ची का जन्म लिया था। दोनों ने प्यार से उसका नाम अबाबत कौर संधू रखा। 24 दिन तक वह पूरी तरह से ठीक थी, लेकिन अचानक उसे अटैक आ गया। डॉक्टर्स के कहने पर वे बच्ची को PGI चंडीगढ़ ले गए।\n",
            "PGI के डॉक्टरों ने जांच में पाया कि उसके दिमाग तक खून नहीं पहुंच पा रहा है। वह अधिक समय तक जिंदा नहीं रह सकेगी और कुछ समय बाद दिसंबर 2022 को अबाबत कौर ने दुनिया का अलविदा कह दिया।\n",
            "पीजीआई में ही किया गया ट्रांसप्लांट\n",
            "दुख की इस घड़ी में भी दंपति ने इंसानियत का सोचा। उन्होंने अंगदान करने का फैसला किया। PGI की टीम भी तैयार हो गई। बिना देरी किए बच्ची की किडनी दो घंटे के ऑपरेशन में ट्रांसप्लांट सर्जन प्रो. आशीष शर्मा की टीम को सफलता मिली और अबाबत की किडनी से पटियाला जिले के एक 15 वर्षीय किशोर में ट्रांसप्लांट किया गया।\n",
            "विश्व व भारत के यंगेस्ट डोनर यूके की होप ली\n",
            "\n",
            "Generated Summary: भारत की यंगेस्ट डोनर का खिताब पाकर दुनिया को अलविदा कह चुकी 39 दिन की अबाबत कौर के माता-पिता के फैसले को आज प्रधानमंत्री नरेंद्र मोदी से सराहा। आज दोपहर मन की बात कार्यक्रम के दौरान प्रधानमंत्री नरेंद्र मोदी ने एग्रीकल्चर डेवल\n",
            "Reference Summary: India's Youngest Donor Ababat Kaur - भारत की यंगेस्ट डोनर का खिताब पाकर दुनिया को अलविदा कह चुकी 39 दिन की अबाबत कौर के माता-पिता के फैसले को आज प्रधानमंत्री नरेंद्र मोदी से सराहा\n",
            "Metrics: {'rouge1': 25.0, 'rouge2': 0.0, 'rougeL': 25.0, 'rougeLsum': 25.0, 'bert_score_f1': 73.4616}\n",
            "\n",
            "---\n",
            "\n"
          ]
        },
        {
          "metadata": {
            "tags": null
          },
          "name": "stderr",
          "output_type": "stream",
          "text": [
            "Some weights of RobertaModel were not initialized from the model checkpoint at roberta-large and are newly initialized: ['roberta.pooler.dense.bias', 'roberta.pooler.dense.weight']\n",
            "You should probably TRAIN this model on a down-stream task to be able to use it for predictions and inference.\n"
          ]
        },
        {
          "metadata": {
            "tags": null
          },
          "name": "stdout",
          "output_type": "stream",
          "text": [
            "Article 4597:\n",
            "Article: जनसंघर्ष यात्रा के बाद सचिन पायलट ने सीएम अशोक गहलोत के खिलाफ खुलकर लड़ाई छेड़ने की घोषणा के बावजूद अभी पूरे सियासी पत्ते नहीं खोले हैं। तीन मांगों पर आंदोलन का अल्टीमेटम पायलट की गहलोत हटाओ मुहिम का हिस्सा माना जा रहा है। पायलट ने नई पार्टी बनाने या कांग्रेस में रहकर गहलोत के खिलाफ मुहिम चलाने पर सीधा जवाब देने की जगह कहा कि करप्शन और पेपरलीक के खिलाफ लड़ाई जारी रहेगी, न रुकेंगे, न झुकेंगे।\n",
            "पांच दिन की जनसंघर्ष यात्रा के बाद दैनिक भास्कर को दिए इंटरव्यू में सचिन पायलट ने बीजेपी राज के करप्शन की जांच के गहलोत कैंप के दावों पर सवाल उठाते हुए कहा- कोर्ट से मामला रद्द होने का नाम लेकर वसुंधरा सरकार के करप्शन की जांच से बच नहीं सकते। ये बातें जनता के गले नहीं उतर रही हैं।\n",
            "दो बार बुरी तरह हार की जिम्मेदारी भी लें गहलोत\n",
            "पायलट ने गहलोत के 156 सीटें जीतकर घमंड नहीं करने वाले बयान पर पलटवार करते हुए कहा कि दो बार बुरी तरह हार की जिम्मेदारी तय होनी चाहिए। 156 सीट की जीत की बात करने वाले 50 और 20 सीटों पर लाकर छोड़ने की जिम्मेदारी भी लें।\n",
            "पढ़िए- पूरा इंटरव्यू...\n",
            "भास्कर : सचिन पायलट चुनावों में जनता के बीच किस भूमिका में जाएंगे? केवल टोंक विधायक के तौर पर या कोई पद लेकर, क्या माना जाए?\n",
            "पायलट : मैं तो आज केवल पब्लिक की बात को लेकर चल रहा हूं। 5 दिन में चिलचिलाती गर्मी में लोगों के पैरों में छाले पड़ गए, लेकिन साथ चले। लोग जज्बाती तौर पर उम्मीद कर रहे हैं, कुछ कार्रवाई चाहते हैं। मुझे लगता है पहले पब्लिक से जुड़ा बहुत अ​हम मुद्दा है।\n",
            "पद कोई मायने नहीं रखता, जनता की भावना का महत्व है। पता नहीं कौन क्या करेगा, यह समय बताएगा। मेरी संघर्ष यात्रा है। इसका मकसद साफ है कि युवाओं के साथ न्याय हो,करप्शन का खात्मा हो, एक स्वच्छ राजनीति का आगाज हो और इसमें हम सब आग्रह करेंगे सरकार से प्रभावी कार्रवाई करे।\n",
            "भास्कर : आपको सियासी न्याय(सीएम या प्रदेशाध्यक्ष पद) कब मिलेगा?\n",
            "पायलट : सियासत में समय आता रहता है, जाता रहता है। पद, पोस्ट, पक्ष, विपक्ष इंपोर्टेंट नहीं है, पब्लिक इश्यू इंपोर्टेंट है। पब्लिक के अंदर हमारी विश्वसनीयता बनी रहे, यह इंपोर्टेंट है।\n",
            "भास्कर : गहलोत कह रहे हैं कि 1998 में 156 सीट लेकर आया, लेकिन कभी घमंड नहीं किया। गहलोत-पायलट की जुबानी जंग कहां खत्म होगी?\n",
            "पायलट : जब कांग्रेस विपक्ष में होती है तो जो भी अध्यक्ष होता है, उसके कंधों पर सब दारोमदार रहता है। चाहे वह गहलोतजी अध्यक्ष रहे, सीपी जोशी रहे या मेरा कार्यकाल रहा। जब सरकार होती है तो मुख्यमंत्री लीड करता है। जब 2018 में वसुंधरा जी की सरकार गई तो दोष उस वक्त के प्रदेशाध्यक्ष अशोक परनामी को थोड़ी न मिला, वह दोष वसुंधराजी को मिला। सरकार को लीड करने वाला व्यक्ति होता है तो उसे हार-जीत की जिम्मेदारी लेनी चाहिए।\n",
            "सरकार को लीड करने वाले सीएम को जीत के साथ हार की जिम्मेदारी भी लेनी चाहिए। हम क्यों 100 से 20 पर आ जाते हैं। वह भी जिम्मेदारी लेनी पड़ेगी। दोबारा सरकार लानी है तो इन सब बातों को भी ध्यान में रखना पड़ेगा।\n",
            "भास्कर : आपकी यात्रा के बाद सीएम ने वसुंधरा राजे-कैलाश मेघवाल के सरकार बचाने में सहयोग करने वाली बात पर कहा कि किसी विधायक ने आकर उन्हें बोला था। क्या कहेंगे?\n",
            "पायलट : जो गंभीर राजनीति करते हैं, वे हल्के आरोप नहीं लगाते। मेरे पास सैकड़ों लोग आते हैं, जो विरोधियों के बारे में बहुत सारी बातें कहते हैं। उनकी बातों को मैं मंच पर दोहरा दूं तो यह गंभीर राजनीति का परिचय नहीं है। बाद में कह देना कि सुनी सुनाई बात थी, यह सही नहीं है।\n",
            "दूसरी बात यह है कि मैंने किसी पर आरोप लगाया ही नहीं है। मैंने कभी किसी के खिलाफ कुछ कहा नहीं। मैं तो सिर्फ सैद्धांतिक रूप से करप्शन और नौजवानों के मुद्दों को लेकर बात रख रहा हूं। मेरे मुद्दों पर पार्टी क्या करेगी? उन पर सरकार को कार्रवाई करनी है।\n",
            "सारी बातें उनके संज्ञान में हैं। कांग्रेस पार्टी ने करप्शन के खिलाफ आवाज उठाई, नौजवानों के प्रति पार्टी और राहुल गांधी जो कहते हैं, वह करना चाहिए। जब हम कुछ महीने बाद चुनाव में जाएंगे तो कम से कम जनता को यह तो कह सकेंगे, जो वादे किए थे, हमने पूरे किए और यह कार्रवाई की है।\n",
            "भास्कर : आपके उठाए गए मुद्दों पर अब मुख्यमंत्री खेमा सवाल उठा रहा है। बीजेपी राज के करप्शन के मुद्दे पर कहा जा रहा है कि कार्रवाई पूरी कर दी। आगे क्या होगा?\n",
            "पायलट : हम लोगों ने कहा था कि सरकार में आएंगे तो बीजेपी राज के करप्शन और बड़े घोटालों की जांच करवाएंगे। सीबीआई की जांच, सीएजी की जांच,खान घोटाले की जांच, कालीन चोरी व उसकी जांच, ललित मोदी की घोटाले की जांच, भू-माफिया शराब माफिया कोई अंत नहीं है। हमने पूरा विवरण दिया है। हमने कार्रवाई का वादा किया था। अब यह बहाना ले लेना कि कोर्ट में चला गया तो इसलिए जांच नहीं कर पा रहे हैं, यह बात पब्लिक के गले नहीं उतर रही है।\n",
            "टेक्निकल पॉइंट बनाकर रख देने से मामले का हल नहीं होता। बीजेपी राज के करप्शन पर छोटी-मोटी जांच के नाम पर उसको डिसमिस नहीं कर सकते। केंद्रीय मंत्री गजेंद्र सिंह गलत हैं तो कार्रवाई होनी चाहिए, यह अच्छी बात है। हम जब सत्ता में आए थे तो हमने यह नहीं कहा था कि हम गजेंद्र सिंह के खिलाफ कार्रवाई करके सत्ता में आएंगे। गजेंद्र सिंह पर कार्रवाई करें तो उसका स्वागत है। उन्होंने गलत किया तो स्कैंडल को उजागर करना चाहिए।\n",
            "हमें वसुंधरा राज के करप्शन पर कार्रवाई के वादे पर वोट मिला था। जांच में कुछ नहीं पाया जाता है तो हम कह देंगे हम गलत थे।\n",
            "भास्कर :  चुनावी साल में चेहरे के बदलाव पर आपकी डिमांड का क्या स्टेटस है? क्या बदलाव होगा?\n",
            "पायलट : यह मेरा इश्यू नहीं है। पार्टी को तय करना है, किसको क्या जिम्मेदारी देनी है। जब-जब भाजपा को करारी चुनौती देनी होती है, जब भी पार्टी मुझे जिम्मेदारी देती है, वह निभाता हूं। यूपी, बिहार, बंगाल, केरल तमिलनाडु, कश्मीर, गुजरात जहां पार्टी बोलती है, वहां जाकर सबसे मुखर होकर बीजेपी को चुनौती देकर हराने का काम किसी ने किया है तो मुझे बड़ा फक्र होता है।\n",
            "विनम्रता से कहना चाहता हूं- यह काम मैंने किया है। 25 साल से मैं राजनीति कर रहा हूं। राजस्थान में भी जब-जब भाजपा को पराजित करने का मौका आता है तो सबसे आगे मैं खड़ा रहता हूं।\n",
            "भास्कर : आप बात तो सरकार रिपीट करने की कर रहे हैं, लेकिन उसी सरकार को कठघरे में खड़ा कर दिया है। सरकार रिपीट कैसे होगी?\n",
            "पायलट : मैंने पार्टी को जो बातें कही हैं वह मेरे और पार्टी के बीच का मामला है। मैंने मेरी तरफ से एआईसीसी को जो सुझाव दिए हैं। उन पर कुछ कार्रवाई हुई है, कुछ कार्रवाई करनी बाकी है। लेकिन यह जो नौजवानों में उदासीनता हो रही है, उसको भी हमें खत्म करना पड़ेगा।\n",
            "जो सिस्टम करप्ट हुआ है चाहे वह निजी संस्थान हों, कोचिंग इंस्टीट्यूट हो, सरकार के मुलाजिम हों या कुछ नेताओं और पेपर प्रिंटिंग प्रेस का पूरा गिरोह बना हुआ है। पेपर लीक इसी वजह से हो रहे हैं। पूरा गिरोह बन गया है। इस व्यवस्था को बदलना पड़ेगा।\n",
            "आरपीएससी के पूरे सिस्टम में आमूलचूल बदलाव करना पड़ेगा। यही चलता रहा तो चेहरे बदलते रहेंगे लेकिन व्यवस्था नहीं बदलेगी। अगर व्यवस्थाओं में नौजवानों का विश्वास भी खत्म हो जाएगा तो हमारे देश-प्रदेश के लिए चिंता का विषय होगा।\n",
            "भास्कर : पांच दिन की यात्रा के बाद सचिन पायलट को सियासी रूप से क्या हासिल हुआ? \n",
            "पायलट : यात्रा कुछ हासिल करने के लिए नहीं थी। जन संघर्ष यात्रा थी। मुझे लगा पब्लिक के मुद्दे हैं, उनको अंकित करना जरूरी है। जो समर्थन मिला है वह मुझे नहीं, मुद्दों को मिला है। करप्शन एक मुद्दा है। इसको सब स्वीकार करते हैं। करप्शन के मुद्दे पर कांग्रेस पार्टी कर्नाटक में जीती है। भाजपा की सरकार राजस्थान में थी तो करप्शन हमारा मुख्य मुद्दा था। करप्शन के खिलाफ हमें जनादेश मिला। सरकार बनाने में कामयाब रहे।\n",
            "अब मैंने कहा कि- हमने जो आरोप लगाए थे, वे आरोप सिद्ध नहीं कर पाएंगे तो जनता हमारा विश्वास नहीं करेगी। जांच तो होनी ही चाहिए। बीजेपी राज के करप्शन पर अगर कुछ नहीं निकले तो हमें कोई दिक्कत नहीं है, कह देंगे हमने गलत बोला था। जांच नहीं करेंगे तो लोगों के जेहन में आशंका बढ़ सकती है। उसको दूर करने के लिए जब तक प्रभावी जांच नहीं करेंगे, तब तक इस तरह की अफवाहों का बाजार गर्म रहेगा।\n",
            "ये भी पढ़ें...\n",
            "पायलट ने दिए अनसुलझे सवालों के जवाब:कहा- सोनिया गांधी की खुलेआम बेइज्जती की गई, वसुंधरा धारीवाल को अरेस्ट कराने वाली थीं, मैंने बचाया\n",
            "‘पार्टी अनुशासन की बात उनको नहीं करनी चाहिए जो 25 सितंबर की घटना में शामिल थे। विधायकों से इस्तीफे दिलवाकर अपनी ही सरकार को गिराने के कगार पर कौन लेकर गया? किसके दबाव में काम हुआ?’ ‘मैं व्यक्तिगत तौर पर सबका सम्मान करता हूं, लेकिन कोई महिला है, पुरुष है, हिंदू है, मुसलमान है, इसकी आड़ में दुबक के जिम्मेदारी से नहीं बच सकते।’ (पूरी खबर पढ़ें)\n",
            "पहली बार आक्रामक हुए पायलट के 7 मैसेज:उठाई 3 नामुमकिन मांगें; इरादे साफ- लड़ेंगे, लेकिन कांग्रेस नहीं छोड़ेंगे, निकाला तो उसका भी प्लान\n",
            "सचिन पायलट खेमे की जनसंघर्ष यात्रा का भले ही जयपुर में समापन हो गया हो, लेकिन इसके साथ ही गहलोत के खिलाफ आर-पार की जंग की शुरुआत भी हो गई है। (पूरी खबर पढ़ें)\n",
            "Generated Summary: कांग्रेस पार्टी ने करप्शन के खिलाफ आवाज उठाई, नौजवानों के प्रति पार्टी और राहुल गांधी जो कहते हैं, वह करना चाहिए। जब हम कुछ महीने बाद चुनाव में जाएंगे तो कम से कम जनता को यह तो कह सकेंगे, जो वादे किए \n",
            "Reference Summary: Rajasthan Congress Internal Dispute - CM Ashok Gehlot's Camp MLAs Attack On Congress Leader Sachin Pilot. कांग्रेस में सचिन पायलट और अशोक गहलोत खेमों के बीच जुबानी जंग तेज हो गई है। सचिन पायलट के जयपुर में सभा करके तीन मुद्दों पर आंदोलन का अल्टीमेटम देने से कांग्रेस में खींचतान तेज हो गई है\n",
            "Metrics: {'rouge1': 0.0, 'rouge2': 0.0, 'rougeL': 0.0, 'rougeLsum': 0.0, 'bert_score_f1': 46.1575}\n",
            "\n",
            "---\n",
            "\n"
          ]
        },
        {
          "metadata": {
            "tags": null
          },
          "name": "stderr",
          "output_type": "stream",
          "text": [
            "Some weights of RobertaModel were not initialized from the model checkpoint at roberta-large and are newly initialized: ['roberta.pooler.dense.bias', 'roberta.pooler.dense.weight']\n",
            "You should probably TRAIN this model on a down-stream task to be able to use it for predictions and inference.\n"
          ]
        },
        {
          "metadata": {
            "tags": null
          },
          "name": "stdout",
          "output_type": "stream",
          "text": [
            "Article 11771:\n",
            "Article: नई दिल्ली: किसानों और सरकार के बीच आज 11वें राउंड की बातचीत खत्म हो चुकी है। आज 11वें राउंड की बातचीत भी बेनतीजा रही है। मीटिंग से बाहर निकल कर किसानों ने कहा कि आज बैठक में सिर्फ 30 मिनट की ही बातचीत हुई। वहीं कृषि मंत्री नरेंद्र सिंह तोमर ने कहा कि सरकार ने किसानों को सबसे बेहतर प्रस्ताव दिया है, अब किसानों को विचार करके बताना है। आज की बातचीत की सबसे अहम बात ये रही कि अगली बैठक कब होगी इसकी तारीख नहीं बतायी गई है। किसान नेताओं ने ये जरूर संकेत दिये कि अब बातचीत एक-डेढ़ महीने बाद होगी।आज हुई जीरो बातचीतकिसान नेताओं ने कहा कि आज जीरो बातचीत हुई। वहीं 26 जनवरी की ट्रैक्टर रैली को लेकर किसानों का कहना है कि ट्रैक्टर रैली होकर रहेगी लेकिन सरकार के आज के रवैये से साफ है कि अब किसानों की जिद के आगे सरकार नहीं झुकने वाली। सरकार ने कानून को स्टे करने का प्रस्ताव फिर से रखा, समय भी डेढ़ साल से बढ़ाने का प्रस्ताव दिया लेकिन किसानों ने नामंजूर कर दिया।सरकार और किसानों के बीच बन गई थी टकराव की स्थितिसूत्रों के मुताबिक, बैठक के दौरान सरकार और किसानों के बीच टकराव की स्थिति बन गई थी। किसान फिर कृषि मंत्री के सामने तीनों कृषि कानून रद्द करने की मांग पर अड़ गए हैं। मीटिंग में किसानों ने बिल्कुल साफ कह दिया है- जब तक सरकार कृषि कानून वापस नहीं लेगी, तब तक आंदोलन ख़त्म नहीं होने वाला है। हालांकि नरेंद्र सिंह तोमर ने किसानों से अपील की है कि वो सरकार के प्रस्ताव पर दोबारा विचार करें। बता दें कि केंद्र सरकार ने किसानों को डेढ़ साल तक किसान कानून टालने का प्रस्ताव दिया था जिसे किसान पहले से ठुकरा चुके हैं।इससे पहले गुरुवार को किसान संगठनों ने तीन कृषि कानूनों के क्रियान्वयन को डेढ़ साल तक स्थगित रखने और समाधान का रास्ता निकालने के लिए एक समिति के गठन संबंधी केन्द्र सरकार के प्रस्ताव को खारिज कर दिया। संयुक्त किसान मोर्चा के तत्वावधान में किसान नेताओं ने सरकार के इस प्रस्ताव पर सिंघू बॉर्डर पर एक मैराथन बैठक में यह फैसला लिया। इसी मोर्चा के बैनर तले कृषि कानूनों को निरस्त करने की मांग को लेकर किसान संगठन पिछले लगभग दो महीने से आंदोलन कर रहे हैं।ये भी पढ़ें\n",
            "Generated Summary: सरकार और किसानों के बीच आज 11वें राउंड की बातचीत खत्म हो चुकी है। आज 11वें राउंड की बातचीत भी बेनतीजा रही है। मीटिंग से बाहर निकल कर किसानों ने कहा कि आज बैठक में सिर्फ 30 मिनट की ही बातचीत\n",
            "Reference Summary: किसानों और सरकार के बीच आज 11वें राउंड की बातचीत खत्म हो चुकी है। आज 11वें राउंड की बातचीत भी बेनतीजा रही है। मीटिंग से बाहर निकल कर किसानों ने कहा कि आज बैठक में सिर्फ 30 मिनट की ही बातचीत हुई।\n",
            "Metrics: {'rouge1': 100.0, 'rouge2': 100.0, 'rougeL': 100.0, 'rougeLsum': 100.0, 'bert_score_f1': 96.9489}\n",
            "\n",
            "---\n",
            "\n"
          ]
        },
        {
          "metadata": {
            "tags": null
          },
          "name": "stderr",
          "output_type": "stream",
          "text": [
            "Some weights of RobertaModel were not initialized from the model checkpoint at roberta-large and are newly initialized: ['roberta.pooler.dense.bias', 'roberta.pooler.dense.weight']\n",
            "You should probably TRAIN this model on a down-stream task to be able to use it for predictions and inference.\n"
          ]
        },
        {
          "metadata": {
            "tags": null
          },
          "name": "stdout",
          "output_type": "stream",
          "text": [
            "Article 2685:\n",
            "Article: मेरा नाम देवती मलिक है। मैं मूल रूप से कोलकाता से हूं। लेकिन मेरी पैदाइश बेंगलुरु की है और वहीं पली-बढ़ी हूं। 12वीं तक आर्मी स्कूल में पढ़ी। आज मैं ‘वाइन सोमलियर’ यानी वाइन एक्सपर्ट हूं। शायद ये शब्द आपके लिए नया हो। मेरे लिए भी नया था लेकिन दिलचस्प लगा तो मैंने इसकी पढ़ाई ही कर डाली। आज मैं लोगों को वाइन पीने, खरीदने के तौर-तरीके सिखाती हूं। तो चलिए आज के ये मैं हूं जानिए मेरी वाइन एक्सपर्ट बनने की कहानी…\n",
            "बंगाली होने की वजह से घर का माहौल काफी खुला रहा\n",
            "घर में मेरे अलावा मम्मी और भाई हैं। बंगाली होने की वजह से मेरे घर का माहौल काफी खुले विचारों वाला रहा है। हमारे घर में सभी खाने के शौकीन हैं। मेरे मम्मी-पापा दोनों ही बहुत अच्छा खाना बनाते थे। वो हमें खिलाने के लिए नई-नई डिश बनाते।\n",
            "खानपान को लेकर भी हम काफी खुले विचारों के थे। मेरे घर में एक नियम था कि एक टाइम का खाना सबको साथ बैठकर खाना होता था। उस दौरान हम अपनी-अपनी लाइफ डिस्कस करते। हम दोनों भाई-बहन कुछ भी करते तो पेरेंट्स हमें रोकते नहीं लेकिन वो अपनी राय जरूर रखते थे। उन्हें हमें ख्याल होता लेकिन हमें आगे बढ़ने और कुछ नया करने से रोकते नहीं।\n",
            "कभी सिंगर, एक्ट्रेस तो कभी एडवोकेट या सीए बनना चाहती थी \n",
            "बचपन में मैं कभी सिंगर, कभी एक्ट्रेस तो कभी वकील बनना चाहती थी। लेकिन बारहवीं तक आते-आते मेरी रूचि फाइनेंस में होने लगी। कॉमर्स से पढ़ाई कर रही थी और चार्टेड अकाउंटेंड बनने का प्लान था। लेकिन उसी दौरान एक दिन ओबेरॉय होटल से कुछ लोग हमारे स्कूल आए। अपने अंडर ग्रेजुएट प्रोग्राम के बारे में बताया।\n",
            "उन्होंने बताया कि इसमें कोई फीस नहीं लगेगी बल्कि स्टाइपेंड मिलेगा। उन्होंने होटल की फोटो दिखाई तो मेरा मन बदल गया। खाने का शौक था तो शेफ के अंडर ग्रेजुएट प्रोग्राम के लिए अप्लाई कर दिया। कई राउंड के इंटरव्यू के बाद मेरी बातचीत और पर्सानैलिटी देख उन्होंने मुझे फूड एंड बेवरेज के कोर्स के लिए अप्लाई करने को कहा।\n",
            "कोर्स के दौरान ही वाइन को लेकर दिलचस्पी बढ़ी\n",
            "मैंने उनके एक अंडर ग्रेजुएट प्रोग्राम में एडमिशन ले लिया। इस डिग्री में पढ़ाई के दौरान स्टूडेंट को ऑन द जॉब एक्सपीरियंस मिलता है। उस कोर्स को करने वाले स्टूडेंट को ओबेरॉय के किसी भी होटल, रिसॉर्ट के किसी भी डिपार्टमेंट में काम करके एक्सपीरियंस लेना होता है। तीन साल का कोर्स करने के बाद मैं उनके पोस्ट ग्रेजुएट मैनेजमेंट प्रोग्राम के लिए दिल्ली चली गई।\n",
            "मेरी स्पेशलिटी फूड एंड बेवरेज डिपार्टमेंट में थी। उस कोर्स के बाद मैंने अपना करियर हॉस्पिटैलिटी इंडस्ट्री से शुरू किया। मेरी पोस्टिंग बेंगलुरू होटल ओबरॉय में बतौर बार मैनेजर हुई। मैंने तीन साल तक वहां काम किया। तीन साल तक बेंगलुरू ओबेरॉय के साथ काम करने के दौरान मैं होटल के बार ऑपरेशन, बेवरेज और वाइन लिस्ट हैंडल कर रही थी। ऐसे में धीरे-धीरे वाइन को लेकर मेरी दिलचस्पी बढ़ी।\n",
            "देवती की कहानी में आगे बढ़ने से पहले पोल पर अपनी राय देते चलिए... \n",
            "भारत में बियर-व्हिस्की पॉपुलर, वाइन का कॉन्सेप्ट नया\n",
            "हमारे देश में बियर-व्हिस्की की खपत ज्यादा है। वाइन का कॉन्सेप्ट लोगों के लिए नया है। मैं जब ग्रेजुएशन में थी, तभी से वाइन के बारे में ज्यादा जानने की कोशिश करती। लेकिन बार में काम करने के दौरान मैंने ज्यादा विस्तार से वाइन के बारे में पढ़ा और इसे समझा। सर्विस के लिए गेस्ट के सवालों को कैसे हैंडल करना है, उन्होंने वाइन के बारे में कैसे जानकारी दी जाती है, ये सब मैंने सीखा।\n",
            "काम के दौरान ही मैंने वाइन से जुड़े कई सर्टिफिकेट कोर्स किए। जब मैंने शुरू किया था, तब वाइन को लेकर ज्यादा करियर स्कोप नहीं था। मेरे फील्ड वाले ज्यादातर लोग कॉकटेल मेकिंग, रम, विहस्की का सर्टिफिकेशन ज्यादा कर रहे थे। मैंने ‘कोर्ट ऑफ मास्टर सोमलियर’ का कोर्स किया। जिसके बाद मैं एक सर्टिफाइड वाइन सोमलियर बन गई। जब मुझे बार मैनेजर की जिम्मेदारी मिली, उस वक्त पूरे देश में ओबेरॉय की इकलौती लड़की बार मैनेजर थी।\n",
            "सेटल नौकरी और अच्छी सैलरी छोड़ बिजनेस का रिस्क लिया\n",
            "तीन साल तक ओबेरॉय की नौकरी करने के बाद मैंने एक इंडियन वाइन ब्रांड से जुड़ी। ये कर्नाटक के हंपी में है। यहां मेरी जॉब ब्रांड हेड की रही। उनकी टीम काफी छोटी थी इसलिए वहां मैं कई जिम्मेदारियां संभालती थी। मैं मार्केटिंग, वाइन टेस्टिंग, वाइन इवेंट, ट्रेनिंग सबकुछ देखने लगी। यहां मेरी जॉब प्रोफाइल अच्छी थी और मेरा करियर अच्छी शेप लेने लगा। रेगुलर इनकम और प्रोमिसिंग फ्यूचर। लेकिन, दो साल तक वहां काम करने के बाद मैंने सोचा कि अब मुझे अपने कौशल और प्रोफेशनल जानकारियों के साथ आगे बढ़ना चाहिए और कुछ नया करना चाहिए। मैंने नौकरी छोड़ने रिस्क लिया और अपना बिजनेस खड़ा करना शुरू किया।\n",
            "होटल स्टाफ को वाइन सर्विस की देती हूं ट्रेनिंग\n",
            "साल 2022 में मैंने अपनी कंपनी बनाई, जिसका नाम Drink with D, Wine Solutions है। ये एक वाइन कंसल्टेंट कंपनी है। बड़े-बड़े होटल हो या रिसॉर्ट हर जगह स्टाफ को खाना, ड्रिंक सर्व करने की ट्रेनिंग दी जाती है। मेरी कंपनी होटल रिसार्ट के साथ ज्यादा काम करती है। मेरी कंपनी होटल स्टाफ को ट्रेनिंग देती है। वाइन कैसे सर्व की जाती है, वाइन के बारे में क्या जानना जरूरी है, गेस्ट से वाइन के बारे में कैसे बात करनी चाहिए, वाइन से जुड़ी टेक्निकल जानकारी भी दी जाती है। साथ ही, अगर कोई नया रेस्तरां खुल रहा है और वो अपना वाइन मेन्यू बनाना चाहते हैं तो मैं उनका वाइन मेन्यू भी डिजाइन करने में मदद करती हूं।\n",
            "मेरी कंपनी लोगों को वाइन एक्सपीरियंस भी देती है\n",
            "मैं बेंगलुरू, दिल्ली और गुड़गांव में नॉर्मल कंज्यूमर के लिए फन वाइन एक्सपीरियंस इवेंट करती हूं। ये दो घंटे का एक चार्जेबल इवेंट होता है। जहां, कस्मटर को 2-3 हजार तक की फीस देनी होती है। बदले में उन्हें थीम के अनुसार फूड और चार-पांच तरह की वाइन सर्व की जाती है। फिर मैं उन्हें परोसे जाने वाली वाइन के बारे में जानकारी देती हूं। किस तरह की वाइन खरीदें, वाइन को कैसे एंजॉय करें ये सब बताती हूं।\n",
            "मेरी कंपनी की तरफ से ऑर्गेनाइज होने वाले इस इवेंट को कोई भी बुक कर सकता है। मेरे वाइन एक्सपीरियंस इवेंट में 30-35 लोग होते हैं। इस इवेंट में आने वाले ऑडियंस 25 से 40 एज ग्रुप के होते हैं। उनमें बहुत सारे न्यू ड्रिंकर होते हैं, जिन्होंने अभी-अभी वाइन पीना शुरू किया।\n",
            "कुछ लोग ऐसे होते हैं, जो सालों से वाइन पी रहे हैं। इवेंट में वो मुझे वाइन से जुड़ी तमाम सवाल भी पूछते हैं। जैसे वाइन को घर में कैसे स्टोर कर सकते हैं? वाइन को पीने के क्या स्टेप्स होते हैं? वाइन खरीदते समय किन बातों का ध्यान में रखना होता है? किस देश में कौन सी वाइन बनती है और कौन सी वाइन सबसे बढ़िया है? वाइन के टेस्ट अलग हैं तो क्यों? मैं लोगों को वाइन का ग्लास पकड़ना और पीना भी सिखाती हूं। आम कस्टमर के लिए वाइन एक्सपीरियंस इवेंट करती हूं।\n",
            "वाइन एक्सपीरियंस के लिए ऑडियंस जुटाना चुनौती है\n",
            "मेरे जॉब में चैलेंज भी बहुत हैं। हमारे देश में सोमलियर बहुत सारे हैं। जो कि किसी न किसी होटल ऑर्गनाइजेशन से जुड़े हैं। लेकिन सिर्फ वाइन को लेकर काम करने वाले बहुत कम लोग हैं। खासकर इंडिपेंडेंट काम करने वालों की संख्या गिनी-चुनी ही है। इस वजह से मुझे अपना बिजनेस सेट करने में काफी दिक्कत हुई। फिर वाइन एक्सपीरियंस के लिए ऑडियंस जुटाना ये भी चुनौती है।\n",
            "भारत में भले ही वाइन इंडस्ट्री का सर्कल छोटा है लेकिन यहां सब बहुत खुली और सुलझी सोच रखते हैं। उनलोगों के बीच अपनी बात रखना आसान होता है लेकिन ऑडियंस के बीच खुद की पहचान बहुत बड़ी है। यंग जेनरेशन को इवेंट के लिए समझना थोड़ा आसान है। शुरुआत में काफी दिक्कत हुई लेकिन अब ‘वर्ड ऑफ माउथ’ के जरिए मेरी एक कम्युनिटी बन गई है। हमारे समाज में एल्कोहल से जुड़ी हर चीज खराब मानी जाती है। और ऐसे में उनके आपसी अंतर को समझना मुश्किल होता है। वाइन बाकी एल्कोहल से काफी अलग है। इसकी पहुंच एक सीमित क्लास तक ही है। ये एल्कोहल का वो रूप नहीं, जहां व्यक्ति बदहवास और बेकाबू हो जाए।\n",
            "कम उम्र होने के कारण सीनियर क्लाइंट सीरियसली नहीं लेते \n",
            "मैं कॉरपोरेट इवेंट भी करती हूं। कई दफा कंपनियां अपनी टॉप मैनेजमेंट या क्लाइंट ग्रुप के लिए कुछ बढ़िया करना चाहती हैं तो वो वाइन टेस्टिंग इवेंट बुक कर देती हैं। ऐसे में मुझे एक या डेढ़ घंटे का इवेंट मिल जाता है। जहां मैं उनके लिए वाइन एक्सपीरियंस इवेंट अरेंज करती हूं। इस इवेंट की चुनौती अलग होती है। टॉप मैनेजमेंट या क्लाइंट ग्रुप में वो लोग होते हैं, जो दुनिया घूम चुके हैं।\n",
            "वाइन के टेस्ट को चाहे न समझे लेकिन अलग-अलग तरह की वाइन को चख चुके होते हैं। उनके लिए मैं काफी यंग होती हूं। और जब मैं वाइन के बारे में बात करना शुरू करती हूं तो वो थोड़ा असहज महसूस करते हैं। उनके बिहेवियर से पता चलता है कि जैसे मेरी कही जाने वाली बात को वो हल्के में ले रहे हैं। उनके हावभाव से लगता है जैसे कह रहे हों ‘हमने दुनिया देखी है। ये कल की लड़की हमें वाइन पर क्या ज्ञान देगी।’\n",
            "लड़की बार मैनेजर हो सकती है गेस्ट के गले नहीं उतरा\n",
            "जब मैं बतौर बार मैनेजर काम कर रही थी, तब एक बार ऐसा हुआ कि हमारे एक गेस्ट को ड्रिंक पसंद नहीं आई और वो काफी गुस्से में थे। मेरे स्टाफ ने आकर मुझसे उनके बारे में बताया और कहा कि ‘आप प्लीज उनसे बात कर लीजिए’। मैं उस गेस्ट के पास गई और उनके खराब एक्सपीरियंस के लिए माफी मांगी लेकिन उन्होंने कहा मुझे आपसे बात नहीं करनी, आप मैनेजर को बुलाइए। मैं बार-बार कहती रही कि सर मैं ही मैनेजर हूं। फिर भी वो अपनी बात पर अड़े रहे। उनके लिए ये यकीन करना मुश्किल हो रहा था कि इतनी कम उम्र की लड़की बार मैनेजर कैसे हो सकती है।\n",
            "बार मैनेजर, बार टेंडर और वाइन सोमलियर में फर्क है\n",
            "बार मैनेजर, बार टेंडर और वाइन सोमलियर एक-दूसरे से जुड़े तो हैं लेकिन तीनों का वर्क प्रोफाइल अलग है। एक बार में आपको ये तीनों प्रोफेशनल मिलेंगे। लेकिन इन तीनों की स्किल्स, क्वालिफिकेशन और काम अलग होता है। बार मैनेजर का काम पूरी बार टीम को हैंडल करना है। वो बस ऑपरेशन संभलता है। जैसे ड्रिंक सही से बन रही है या नहीं, गेस्ट का एक्सपीरियंस अच्छा रहे। पूरी बार टीम अच्छे से परफॉर्म कर पाए।\n",
            "बार टेंडर का काम बार के अंदर रहकर सारे ड्रिंक को ‘डिस्पेंस’ करना यानी बनाना होता है। वो ही ड्रिंक बनाता है, बार को सेटअप करता है, बार को क्लीन रखने जैसी जिम्मेदारियां भी उसकी होती है। सोमलियर का काम वाइन से जुड़ा होता है। ‘बार टेंडर’ वाइन की बोतल देता है और ‘सोमलियर’ का काम उसे गेस्ट तक ले जाना और उनकी ग्लास में वाइन को ‘पोर’ यानी ग्लास में वाइन उड़ेलना होता है।\n",
            "इंटरनेशनल वाइन कम्पीटिशन में भारत को किया रिप्रेजेंट\n",
            "हाल ही में क्रोएशिया में तीन दिन का इंटरनेशनल वाइन कम्पीटिशन हुआ, जहां मैं बतौर ज्यूरी गई थी। इस कॉम्पिटिशन में कई देशों से वाइन प्रोफेशनल को बुलाया जाता है। इसमें अलग-अलग वाइन ब्रान्ड अपने सैंपल को लेकर आते हैं। और ज्यूरी में शामिल प्रोफेशनल उनको टेस्ट (चखकर) करके रैंक देते हैं। जैसे बेस्ट रेड वाइन, बेस्ट वाइट वाइन। जीतने वाले को फिर मेडल मिलता है। इसमें मुझे देश को रिप्रेजेंट करने का मौका मिला और काफी बढ़िया अनुभव रहा है।\n",
            "Generated Summary: भारत में बियर-व्हिस्की पॉपुलर, वाइन का कॉन्सेप्ट नया हमारे देश में बियर-व्हिस्की की खपत ज्यादा है। वाइन का कॉन्सेप्ट लोगों के लिए नया है। मैं जब ग्रेजुएशन में थी, तभी से वाइन के\n",
            "Reference Summary: आज के ये मैं हूं जानिए मेरी वाइन एक्सपर्ट देवती मलिक की कहानी।\n",
            "Metrics: {'rouge1': 0.0, 'rouge2': 0.0, 'rougeL': 0.0, 'rougeLsum': 0.0, 'bert_score_f1': 40.8903}\n",
            "\n",
            "---\n",
            "\n"
          ]
        },
        {
          "metadata": {
            "tags": null
          },
          "name": "stderr",
          "output_type": "stream",
          "text": [
            "Some weights of RobertaModel were not initialized from the model checkpoint at roberta-large and are newly initialized: ['roberta.pooler.dense.bias', 'roberta.pooler.dense.weight']\n",
            "You should probably TRAIN this model on a down-stream task to be able to use it for predictions and inference.\n"
          ]
        },
        {
          "metadata": {
            "tags": null
          },
          "name": "stdout",
          "output_type": "stream",
          "text": [
            "Article 13846:\n",
            "Article: Nirmala Sitharaman's attack on Congress: तमिलनाडु में वित्त मंत्री निर्मला सीतारमण ने रविवार को कांग्रेस पर हमला बोलते हुए आरोप लगाया कि उसके 'वाम अतिवादी ताकतों' से संबंध हैं जो देश की एकता के लिए खतरा पैदा करेंगे। तमिल साप्ताहिक पत्रिका 'तुगलक' के 52वें वार्षिक दिवस समारोह को संबोधित करते हुए उन्होंने कहा कि सत्तारूढ़ दल भारतीय जनता पार्टी (भाजपा) अपनी नीतियों के साथ देश में 'परिवर्तनकारी बदलाव' ला रही है और कोविड-19 महामारी के प्रभाव के बावजूद अर्थव्यवस्था तेजी से बढ़ रही है। कांग्रेस पर निशाना साधते हुए सीतारमण ने कहा, 'यहां तक कि उन जगहों पर जहां दिवंगत प्रधानमंत्री इंदिरा गांधी या राजीव गांधी सावधानी से कदम रखते थे वहां राहुल गांधी जाते हैं और वाम अतिवादी ताकतों के साथ खड़े होते हैं। ये ताकतें देश की एकता को खत्म कर सकती हैं। वे नासमझ राजनीति कर रहे हैं।' अपने तीखे हमले को जारी रखते हुए सीतारमण ने कहा, 'कांग्रेस खुद को नासमझ राजनीति में शामिल कर रही है और हमें कांग्रेस मुक्त भारत की जरूरत है। उन्होंने गलतियां की हैं, भ्रष्टाचार किया है, टू जी घोटाला किया है, और वंशवादी राजनीति में भी शामिल रहे हैं।'बता दें, अभी हाल ही में काठमांडू के पब में राहुल गांधी का वीडियो वायरल होने के बाद सियासत काफी गर्म हो गई। जहां भारतीय जनता पार्टी ने हमलावर रुख अपना लिया वहीं कांग्रेस अब रक्षात्मक मुद्रा में नजर आई। इस वीडियो में राहुल गांधी एक चीनी महिला के साथ नजर आ रहे हैं। जिसके बारे में यह दावा किया जा रहा है महिला नेपाल में चीन की राजदूत है। अब यह सवाल उठाया जा रहा है कि क्या राहुल गांधी नेपाल में चीनी राजदूत के साथ पार्टी कर रहे हैं? इनपुट-भाषा\n",
            "Generated Summary: तमिलनाडु में वित्त मंत्री निर्मला सीतारमण ने रविवार को कांग्रेस पर हमला बोलते हुए आरोप लगाया कि उसके 'वाम अतिवादी ताकतों' से संबंध हैं जो देश की एकता के लिए खतरा पैदा करेंगे।\n",
            "Reference Summary: कांग्रेस पर निशाना साधते हुए वित्त मंत्री निर्मला सीतारमण ने कहा, 'यहां तक कि उन जगहों पर जहां दिवंगत प्रधानमंत्री इंदिरा गांधी या राजीव गांधी सावधानी से कदम रखते थे वहां राहुल गांधी जाते हैं और वाम अतिवादी ताकतों के साथ खड़े होते हैं। ये ताकतें देश की एकता को खत्म कर सकती हैं।\n",
            "Metrics: {'rouge1': 0.0, 'rouge2': 0.0, 'rougeL': 0.0, 'rougeLsum': 0.0, 'bert_score_f1': 60.3437}\n",
            "\n",
            "---\n",
            "\n"
          ]
        },
        {
          "metadata": {
            "tags": null
          },
          "name": "stderr",
          "output_type": "stream",
          "text": [
            "Some weights of RobertaModel were not initialized from the model checkpoint at roberta-large and are newly initialized: ['roberta.pooler.dense.bias', 'roberta.pooler.dense.weight']\n",
            "You should probably TRAIN this model on a down-stream task to be able to use it for predictions and inference.\n"
          ]
        },
        {
          "metadata": {
            "tags": null
          },
          "name": "stdout",
          "output_type": "stream",
          "text": [
            "Article 13847:\n",
            "Article: मुंबई: महाराष्ट्र सरकार अनिल देशमुख मामले में बॉम्बे हाईकोर्ट के आदेश के खिलाफ सुप्रीम कोर्ट जाएगी। अनिल देशमुख के करीबी सूत्रों ने बताया कि महाराष्ट्र के गृह मंत्री दिल्ली पहुंच रहे हैं जहां वो महाराष्ट्र सदन में ठहरेंगे और वहीं प्रफुल पटेल से मुलाकात करेंगे। महाराष्ट्र सदन में ही सुप्रीम कोर्ट के वरिष्ठ वकीलों से भी मुलाकात करेंगे और कल सुप्रीम कोर्ट में हाईकोर्ट के फैसले को चुनौती देंगे। जानकारी के मुताबिक महाराष्ट्र सरकार की तरफ से वरिष्ठ वकील अभिषेक सिंघवी पैरवी करेंगे। वहीं अनिल देशमुख भी कोर्ट में एक अपील दायर करेंगे।बता दें कि बॉम्बे हाईकोर्ट ने सीबीआई को निर्देश दिया कि वह अनिल देशमुख पर मुंबई पुलिस के पूर्व पुलिस कमिश्नर परमबीर सिंह द्वारा लगाये गये भ्रष्टाचार एवं कदाचार के आरोपों की प्रारंभिक जांच 15 दिन के भीतर करे। हाईकोर्ट के आदेश के बाद देशमुख ने अपने पद से इस्तीफा दे दिया। मुख्य न्यायाधीश दीपांकर दत्त और न्यायमूर्ति जी एस कुलकर्णी की पीठ ने कहा कि यह असाधारण और अभूतपूर्व मामला है जिसकी स्वतंत्र जांच होनी चाहिए। अपने 52 पन्नों के फैसले में पीठ ने कहा कि देशमुख के खिलाफ सिंह के आरोपों ने राज्य पुलिस पर नागरिकों के भरोसे को दांव पर लगा दिया है। अदालत ने कहा कि एक सेवारत पुलिस अधिकारी द्वारा राज्य के गृह मंत्री के खिलाफ लगाए गए ऐसे आरोपों को बिना जांच के नहीं रहने दे सकते और जहां इसमें जांच की जरूरत होगी, यदि प्रथम दृष्टया, तो वे संज्ञेय अपराध का मामला बना सकते हैं। अदालत ने कहा कि मौजूदा मामले में एक स्वतंत्र एजेंसी से जांच कराया जाना जरूरी है जिससे लोगों का भरोसा कायम रहे और नागरिकों के मूलभूत अधिकारों की सुरक्षा हों।गौरतलब है कि कि 100 करोड़ वसूली के मामले में मुंबई के पूर्व पुलिस कमिश्नर परमबीर सिंह ने हाईकोर्ट का रुख किया था। बॉम्बे हाईकोर्ट ने सोमवार सुबह ही निर्देश दिया था कि इन आरोपों की जांच सीबीआई करे। सीबीआई को अगले पंद्रह दिनों में एक शुरुआती रिपोर्ट देनी होगी, इसी के बाद ये तय होगा कि अनिल देशमुख पर एफआईआर दर्ज होगी या नहीं।ये भी पढ़ें\n",
            "Generated Summary: महाराष्ट्र सरकार अनिल देशमुख मामले में बॉम्बे हाईकोर्ट के आदेश के खिलाफ सुप्रीम कोर्ट जाएगी। अनिल देशमुख के करीबी सूत्रों ने बताया कि महाराष्ट्र के गृह मंत्री दिल्ली पहुंच रहे हैं जहां वो महाराष्ट्र सदन में ठहरेंगे और वहीं प्रफुल पटेल\n",
            "Reference Summary: महाराष्ट्र सरकार अनिल देशमुख मामले में बॉम्बे हाईकोर्ट के आदेश के खिलाफ सुप्रीम कोर्ट जाएगी। अनिल देशमुख के करीबी सूत्रों ने बताया कि महाराष्ट्र के गृह मंत्री दिल्ली पहुंच रहे हैं जहां वो महाराष्ट्र सदन में ठहरेंगे और वहीं प्रफुल पटेल से मुलाकात करेंगे।\n",
            "Metrics: {'rouge1': 0.0, 'rouge2': 0.0, 'rougeL': 0.0, 'rougeLsum': 0.0, 'bert_score_f1': 97.5668}\n",
            "\n",
            "---\n",
            "\n"
          ]
        },
        {
          "metadata": {
            "tags": null
          },
          "name": "stderr",
          "output_type": "stream",
          "text": [
            "Some weights of RobertaModel were not initialized from the model checkpoint at roberta-large and are newly initialized: ['roberta.pooler.dense.bias', 'roberta.pooler.dense.weight']\n",
            "You should probably TRAIN this model on a down-stream task to be able to use it for predictions and inference.\n"
          ]
        },
        {
          "metadata": {
            "tags": null
          },
          "name": "stdout",
          "output_type": "stream",
          "text": [
            "Article 122:\n",
            "Article: सरकारी तेल कंपनी इंडियन ऑयल कॉर्पोरेशन ने वित्त वर्ष की पहली तिमाही में 13,750 करोड़ रुपए का मुनाफा दर्ज किया है। ये पिछली तिमाही यानी जनवरी-मार्च से 36.7% ज्यादा है। पिछली तिमाही में कंपनी का मुनाफा 10,058.7 करोड़ रुपए था। वहीं कंपनी को पिछले साल की समान तिमाही यानी Q1FY23 में 1,992 करोड़ रुपए का घाटा हुआ था।\n",
            "हालांकि, कंपनी का रेवेन्यू पिछली तिमाही की तुलना में 2.26 लाख करोड़ रुपए से 2.4% कम होकर 2.21 लाख करोड़ रुपए पर आ गया है। कंपनी का कुल खर्च 20% कम होकर 2.03 लाख करोड़ रुपए हो गया। पिछले साल की समान तिमाही में यह 2.55 लाख करोड़ था। EBITDA 15,340.42 करोड़ से 44.5% बढ़कर 22,163 करोड़ रुपए हो गया।\n",
            "पेट्रोलियम प्रोडक्ट्स से 2.11 लाख करोड़ रुपए रेवेन्यू आया\n",
            "पेट्रोलियम प्रोडक्ट्स से रेवेन्यू पहली तिमाही में 2.11 लाख करोड़ रुपए रहा, जो पिछले साल की समान अवधि में 2.42 लाख करोड़ रुपए से 13% कम है। पेट्रोकेमिकल सेगमेंट के रेवेन्यू में भी मामूली गिरावट आई है। ये 6,728 करोड़ रुपए रहा। अन्य बिजनेसेज से रेवेन्यू 7,839 करोड़ रुपए रहा। IOC का शेयर 3.50% गिरकर 95.45 रुपए पर बंद हुआ\n",
            "Generated Summary: इंडियन ऑयल कॉर्पोरेशन ने वित्त वर्ष की पहली तिमाही में 13,750 करोड़ रुपए का मुनाफा दर्ज किया है। ये पिछली तिमाही यानी जनवरी-मार्च से 36.7% ज्यादा है। पिछली तिमाही में कंपनी का मुनाफा 10,058.7 करोड़ रुपए\n",
            "Reference Summary: सरकारी तेल कंपनी इंडियन ऑयल कॉर्पोरेशन ने वित्त वर्ष की पहली तिमाही में 13,750 करोड़ रुपए का मुनाफा दर्ज किया है। ये पिछली तिमाही यानी जनवरी-मार्च से 36.7% ज्यादा है। पिछली तिमाही में कंपनी का मुनाफा 10,058.7 करोड़ रुपए था। Indian oil Q1 Results, Firm posts Rs 13,750 crore-profit\n",
            "Metrics: {'rouge1': 56.0, 'rouge2': 52.1739, 'rougeL': 56.0, 'rougeLsum': 56.0, 'bert_score_f1': 82.3781}\n",
            "\n",
            "---\n",
            "\n"
          ]
        },
        {
          "metadata": {
            "tags": null
          },
          "name": "stderr",
          "output_type": "stream",
          "text": [
            "Some weights of RobertaModel were not initialized from the model checkpoint at roberta-large and are newly initialized: ['roberta.pooler.dense.bias', 'roberta.pooler.dense.weight']\n",
            "You should probably TRAIN this model on a down-stream task to be able to use it for predictions and inference.\n"
          ]
        },
        {
          "metadata": {
            "tags": null
          },
          "name": "stdout",
          "output_type": "stream",
          "text": [
            "Article 4828:\n",
            "Article: एअर इंडिया ने क्रू मेंबर्स के साथ बदतमीजी करने वाले एक पैसेंजर पर दो साल का बैन लगा दिया है। ये मामला पिछले महीने का है, जब दिल्ली से लंदन जा रही एक फ्लाइट में पैसेंजर क्रू मेंबर्स से लड़ने लगा। उसने उनके साथ मारपीट भी की। जिसमें 2 क्रू मेंबर्स को चोटें भी आईं थीं। एअर इंडिया ने DGCA को रिक्वेस्ट की है, कि दोषी व्यक्ति को नो फ्लाइंग लिस्ट में डाला जाए।\n",
            "क्रू मेंबर्स के साथ पैसेंजर की सुरक्षा पर भी खतरा\n",
            "घटना के सामने आने के बाद एअर इंडिया ने पूरे मामले की जांच-पड़ताल की और मैनेजमेंट ने पाया कि, दोषी व्यक्ति का बिहेवियर काफी खराब था। ऐसे लोग अगर फ्लाइट में सफर करते हैं तो यह क्रू मेंबर्स के साथ पैसेंजर की सुरक्षा पर भी खतरा है। कमेटी ने निर्णय लिया है कि दोषी पर भारत में अगले दो साल तक उड़ान पर बैन लगाया जाता है।\n",
            "दिल्ली से लंदन जाने वाली फ्लाइट की घटना\n",
            "यह घटना 10 अप्रैल की है। जब AI-111 फ्लाइट ने दिल्ली से लंदन के हीथ्रो के लिए उड़ान भरी थी। टेकऑफ के बाद पैसेंजर ने बदतमीजी शुरू कर दी थी। विमान में स्टाफ ने उसे बार-बार चेतावनी दी पर पैसेंजर लगातार बुरा बर्ताव करता रहा। इसके बाद सुबह 10.30 बजे फ्लाइट वापस दिल्ली लौट आई।\n",
            "एयरलाइन ने यात्री के खिलाफ दिल्ली एयरपोर्ट पुलिस स्टेशन पर शिकायत की। पुलिस ने FIR दर्ज कर आरोपी को अपनी कस्टडी में ले लिया था। दिल्ली पुलिस के अनुसार दोषी व्यक्ति का नाम जसकीरत सिंह (25 साल) है जो कपूरथला पंजाब का रहने वाला है। वह अपने पेरेंट्स के साथ लंदन जा रहा था।\n",
            "पेशावर के नजदीक उड़ान भर रहा था विमान\n",
            "फ्लाइट को रीयल टाइम ट्रैक करने वाला ऐप Flightradar24 के मुताबिक, जिस समय एअर इंडिया के विमान को दिल्ली वापस लाने का फैसला किया गया, तब वह पाकिस्तान के पेशावर के नजदीक उड़ान भर रहा था।\n",
            "एअर इंडिया के CEO ने कहा- हर दिन शिकायत मिलती है\n",
            "एअर इंडिया के CEO कैंपबेल विल्सन ने फरवरी में एक इंटरव्यू में कहा था कि एयरलाइन क्रू को अक्सर ड्यूटी के दौरान पैसेंजर्स के दुर्व्यवहार का सामना करना पड़ता है। कोई ऐसा दिन नहीं है, जब हमें ऐसी रिपोर्ट नहीं मिलती हो। फ्लाइट में पैसेंजर्स के व्यवहार में गिरावट आई है।\n",
            "अब समझिए क्या होती है नो फ्लाइंग लिस्ट...\n",
            "डायरेक्टोरेट जनरल ऑफ सिविल एविएशन यानी DGCA सरकार की एक रेगुलेटरी बॉडी है, जो सिविल एविएशन को रेगुलेट करता है। यह मुख्य रूप से विमान हादसों और बाकी घटनाओं की जांच करता है। DGCA इंडियन एयरक्राफ्ट रूल्स 1937 के प्रोविजन 22, 23 और 29 के तहत विमान में हुड़दंग करने, ज्यादा शराब पीने या गाली गलौज करने पर यात्रियों को यात्रा करने से रोक सकता है और उन्हें विमान से उतार सकता है।\n",
            "प्रोविजन 22 कहता है कि किसी क्रू मेंबर पर हमला करना या धमकी देना, चाहे वह शारीरिक रूप से हो या मौखिक रूप से, यह उस क्रू मेंबर की ड्यूटी में हस्तक्षेप माना जाएगा। ऐसा करने पर पैसेंजर को विमान में बैठने से रोका जा सकता है। विमान में सुरक्षा उपायों को मानने से इनकार करना भी इस कैटेगरी में आता है।\n",
            "प्रोविजन 23 कहता है कि शराब या ड्रग्स के नशे में यात्री अगर प्लेन या किसी शख्स की सुरक्षा को खतरे में डालता है, तो उसे विमान से उतारा जा सकता है।\n",
            "ये खबरें भी पढ़ें...\n",
            "फ्यूल लीक, एअर इंडिया फ्लाइट की इमरजेंसी लैंडिंग, 300 यात्री अमेरिका से दिल्ली आ रहे थे\n",
            "अमेरिका से दिल्ली आ रही एअर इंडिया की फ्लाइट को तकनीकी खराबी की वजह से स्वीडन के स्टॉकहोम में इमरजेंसी लैंडिंग करानी पड़ी थी। विमान में 300 यात्री सवार थे। DGCA ने बताया था कि एअर इंडिया के बोइंग 777-300ER फ्लाइट ने अमेरिका के नेवार्क से दिल्ली के लिए उड़ान भरी थी। पूरी खबर यहां पढ़ें...\n",
            "Generated Summary: दिल्ली से लंदन जाने वाली फ्लाइट की घटना यह घटना 10 अप्रैल की है। जब AI-111 फ्लाइट ने दिल्ली से लंदन के हीथ्रो के लिए उड़ान भरी थी। टेकऑफ के बाद पैसेंजर ने बदतमीजी शुरू कर दी थी।\n",
            "Reference Summary: Air India Delhi To London Flight Assault Case Judgement - एयर इंडिया ने क्रू मेंबर्स के साथ बदतमीजी करने वाले एक पैसेंजर पर दो साल का बैन लगा दिया है। ये मामला पिछले महीने का है, जब दिल्ली से लंदन जा रही AI-111 फ्लाइट में एक पैसेंजर क्रू मेंबर्स से लड़ने लगा।\n",
            "Metrics: {'rouge1': 28.5714, 'rouge2': 16.6667, 'rougeL': 28.5714, 'rougeLsum': 28.5714, 'bert_score_f1': 51.5839}\n",
            "\n",
            "---\n",
            "\n"
          ]
        },
        {
          "metadata": {
            "tags": null
          },
          "name": "stderr",
          "output_type": "stream",
          "text": [
            "Some weights of RobertaModel were not initialized from the model checkpoint at roberta-large and are newly initialized: ['roberta.pooler.dense.bias', 'roberta.pooler.dense.weight']\n",
            "You should probably TRAIN this model on a down-stream task to be able to use it for predictions and inference.\n"
          ]
        },
        {
          "metadata": {
            "tags": null
          },
          "name": "stdout",
          "output_type": "stream",
          "text": [
            "Article 18569:\n",
            "Article: मुंबई: मुंबई में 26 नवंबर 2008 को हुए आतंकवादी हमले की 12वीं बरसी पर आज शहीद सुरक्षाकर्मियों को श्रद्धांजलि देकर उनके बलिदान को याद किया जा रहा है। शहीदों को श्रद्धांजलि देने का मुख्य कार्यक्रम दक्षिण मुंबई में पुलिस मुख्यालय में नवनिर्मित स्मारक स्थल पर आयोजित किया गया है। इसमें उन सुरक्षाकर्मियों के परिजन शामिल होंगे जिन्होंने मुंबई को दहशतगर्दों से बचाने के लिए अपनी जान कुर्बान कर दी। 26 नवंबर 2008 को लश्कर-ए-तैयबा के 10 आतंकवादी समुद्र के रास्ते यहां पहुंचे और गोलीबारी की जिसमें 18 सुरक्षाकर्मियों समेत 166 लोग मारे गए थे तथा अनेक लोग घायल हुए थे। एनएसजी और अन्य सुरक्षाबलों ने नौ आतंकवादियों को ढेर कर दिया था तथा अजमल आमिर कसाब नाम के आतंकवादी को जिंदा पकड़ लिया गया था जिसे 21 नवंबर 2012 को फांसी दे दी गई। हमले में जान गंवाने वालों में तत्कालीन एटीएस प्रमुख हेमंत करकरे, सेना के मेजर संदीप उन्नीकृष्णन, मुंबई के अतिरिक्त पुलिस आयुक्त अशोक काम्टे और वरिष्ठ पुलिस निरीक्षक विजय सालस्कर शामिल भी थे। नाव के जरिए मुंबई पहुंचे थे आतंकी26/11 की शाम मुंबई के लोगों के लिए आम दिनों की तरह ही थी। रेलवे स्टेशन, बस स्टॉप और सार्वजनिक जगहों पर रोजाना की तरह ही लोगों की भीड़ थी। रात के तक़रीबन आठ बजे थे, जब कराची से नाव के जरिए मुंबई पहुंचे हमलावर कोलाबा के पास कफ़ परेड के मछली बाज़ार पर उतरे। वहां से ये सभी चार ग्रुपों में बंट गए और टैक्सी लेकर तय ठिकानों की ओर निकल पड़े। आतंकियों ने दो-दो का ग्रुप बनायाइस बीच इनमें से दो आतंकियों ने दक्षिणी मुंबई के कोलाबा में स्थित लियोपोल्ड कैफे को निशाना बनाया। दो आतंकवादियों ने नरीमन हाउस, तो वहीं बाकी आतंकी दो-दो की टोली में छत्रपति शिवाजी टरमिनस, होटल ट्राइडेंट ओबरॉय और ताज होटल की तरफ बढ़ गए।सीएसटी में एके47 से अंधाधुंध फायरिंगरात के करीब साढ़े 9 बजे मुंबई के छत्रपति शिवाजी टर्मिनस (सीएसटी) पर गोलीबारी की ख़बर मिली। मुंबई के इस रेलवे स्टेशन के मेन हॉल में दो हमलावर घुसे और अंधाधुंध फ़ायरिंग शुरू कर दी। इनमें एक मो. अजमल क़साब था जिसे बाद में जिंदा पकड़ लिया गया और फांसी की सजा दी गई। सीएसटी में दोनों आतंकवादियों ने एके47 राइफल से पंद्रह मिनट में 52 लोगों को मौत के घाट उतार दिया और 109 लोगों को ज़ख़्मी कर दिया।लियोपोल्ड कैफे पर हमलाआतंक का यह खेल सिर्फ छत्रपति शिवाजी टर्मिनस तक सीमित नहीं था। दक्षिणी मुंबई का लियोपोल्ड कैफे भी उन चंद जगहों में से एक था जो तीन दिन तक चले इस हमले के शुरुआती निशाने थे। यह मुंबई के नामचीन रेस्त्रांओं में से एक है, इसलिए वहां हुई गोलीबारी में मारे गए 10 लोगों में कई विदेशी भी शामिल थे जबकि बहुत से घायल भी हुए। 1871 से मेहमानों की ख़ातिरदारी कर रहे लियोपोल्ड कैफे की दीवारों में धंसी गोलियां हमले के निशान छोड़ गईं।टैक्सी को बम से उड़ायारात 10:40 बजे विले पारले इलाके में एक टैक्सी को बम से उड़ाने की खबर मिली जिसमें ड्राइवर और एक यात्री मारा गया, तो इससे पंद्रह बीस मिनट पहले बोरीबंदर में इसी तरह के धमाके में एक टैक्सी ड्राइवर और दो यात्रियों की जानें जा चुकी थीं। तकरीबन 15 घायल भी हुए। दरअसल आतंकवादी जिस टैक्सी के जरिए अपने तय ठिकानों तक पहुंचे थे उसमें उन्होंने बम रख दिया था।एटीएस चीफ हेमंत करकरे शहीदकसाब और इस्माइल नाम के आतंकी ने ने 8 पुलिस अफसरों को निशाना बनाया। रात करीब 22:45 तक फायरिंग चली जिसके बाद दोनो आतंकी कामा अस्पताल की तरफ बढ़े। इन आतंकियों का मकसद था मरीजों और अस्पताल के स्टाफ को मारना, लेकिन मरीजों के वार्डों को पहले ही लॉक कर दिया गया। सीएसटी पर मुंबई एंटी टेरेरिस्ट स्केव्ड के हेमंत करकरे, विजय सालस्कर और अशोक काम्टे ने कमान संभाल ली और दोनों आतंकी अजमल कसाब और इस्माइल खान की तलाश में निकल पड़े। दोनों आतंकियों ने एंटी टेरेरिस्ट स्केव्ड की टीम को देख फायरिंग शुरू कर दी। दोनो तरफ से जोरदार फायरिंग हुई जिसमें हेमंत करकरे, विजय सालस्कर और अशोक काम्टे शहीद हो गए। ताज होटल में करीब 6 बम धमाकेताज होटल में करीब 6 बम धमाके किए गए इनमें से एक लॉबी में, दो एलिवेटर्स पर, तीन रेस्टोरेंट में और एक ओबरॉय ट्राइडेंट में। पहली ही रात अग्निशमन के अधिकारियों ने करीब 200 बंदी लोगों को वहां से निकाला।29 नवंबर को खत्म हुआ ऑपरेशनहोटल ओबरॉय के ऑपरेशन को ही खत्म करने में तीन दिन लग गए। यह 28 नवंबर की दोपहर को समाप्त हुआ और उसी दिन शाम तक नरीमन हाउस को भी खाली करा दिया गया, लेकिन ताज होटल में चली मुठभेड़ 29 नवंबर की सुबह समाप्त हुई। ताज होटल में आतंकियों के साथ मुठभेड़ में एनएसजी के मेजर संदीप उन्नीकृष्णन शहीद हो गए थे। मुंबई हमले में शामिल 10 में से 9 आतंकवादियों को मार गिराया गया जबकि अजमल कसाब नाम के एक आतंकी को जिंदा पकड़ लिया गया जिसे बाद में फांसी की सजा दे दी गई।\n",
            "Generated Summary: मुंबई में 26 नवंबर 2008 को हुए आतंकवादी हमले की 12वीं बरसी पर आज शहीद सुरक्षाकर्मियों को श्रद्धांजलि देकर उनके बलिदान को याद किया जा रहा है। शहीदों को श्रद्धांजलि देने का मुख्य कार्यक्रम दक्षिण मुंबई में पुलिस मुख्यालय में\n",
            "Reference Summary: 26 नवंबर 2008 को लश्कर-ए-तैयबा के 10 आतंकवादी समुद्र के रास्ते यहां पहुंचे और गोलीबारी की जिसमें 18 सुरक्षाकर्मियों समेत 166 लोग मारे गए थे तथा अनेक लोग घायल हुए थे।\n",
            "Metrics: {'rouge1': 50.0, 'rouge2': 33.3333, 'rougeL': 50.0, 'rougeLsum': 50.0, 'bert_score_f1': 51.4626}\n",
            "\n",
            "---\n",
            "\n"
          ]
        },
        {
          "metadata": {
            "tags": null
          },
          "name": "stderr",
          "output_type": "stream",
          "text": [
            "Some weights of RobertaModel were not initialized from the model checkpoint at roberta-large and are newly initialized: ['roberta.pooler.dense.bias', 'roberta.pooler.dense.weight']\n",
            "You should probably TRAIN this model on a down-stream task to be able to use it for predictions and inference.\n"
          ]
        },
        {
          "metadata": {
            "tags": null
          },
          "name": "stdout",
          "output_type": "stream",
          "text": [
            "Article 10459:\n",
            "Article: नई दिल्ली: देश में पिछले 24 घंटों में 25,166 नए कोविड मामले सामने आए, जो पिछले 154 दिनों में सबसे कम आंकड़ा है। सक्रिय मामले घटकर 3,69,846 रह गए हैं। रिकवरी रेट 97.51% है। वहीं पिछले 24 घंटे में 437 और लोगों की मौत होने के बाद मृतकों की संख्या बढ़कर 4,32,079 हो गई है।पिछले 24 घंटे में कोरोना वायरस के एक्टिव मामलों की कुल संख्या में 12,101 मामलों की कमी दर्ज की गई है। केंद्रीय स्वास्थ्य मंत्रालय के ताजा आंकड़ों के अनुसार यह जानकारी सामने आयी है। मंगलवार सुबह आठ बजे अपडेट किए गए आंकड़ों के मुताबिक, कोविड-19 के 437 और मरीजों की मौत के साथ देश में इस महामारी से मरने वालों की संख्या बढ़कर 4,32,079 हो गई है। स्वास्थ्य मंत्रालय ने कहा कि उपचाराधीन मरीजों की संख्या घटकर 3,69,846 रह गई है, जो 146 दिनों में सबसे कम है। यह संक्रमण के कुल मामलों का 1.15 प्रतिशत है, जो मार्च 2020 के बाद सबसे कम है। पिछले 24 घंटे की अवधि में कोविड-19 के उपचाराधीन मरीजों की कुल संख्या में 12,101 की कमी आई है। इसके अलावा, सोमवार को कोविड-19 के लिये 15,63,985 नमूनों की जांच की गई, जिससे देश में कोविड-19 का पता लगाने के लिए अब तक की गईं जांच की कुल संख्या बढ़कर 49,66,29,524 हो गई। दैनिक संक्रमण दर 1.61 प्रतिशत दर्ज की गई। पिछले 22 दिनों से यह तीन फीसदी से नीचे रही है। स्वास्थ्य मंत्रालय के मुताबिक साप्ताहिक संक्रमण दर 1.98 प्रतिशत दर्ज की गई। पिछले 53 दिनों से यह तीन फीसदी से नीचे रही है। आंकड़ों के अनुसार, बीमारी से स्वस्थ होने वाले लोगों की संख्या बढ़कर 3,14,48,754 हो गई, जबकि मृत्यु दर 1.34 प्रतिशत है। मंत्रालय ने कहा कि राष्ट्रव्यापी टीकाकरण अभियान के तहत अब तक कोविड-19 टीकों की कुल 55.47 करोड़ खुराक दी गई हैं, जिसमें पिछले 24 घंटों में 88.13 लाख से अधिक खुराक दी गई हैं, जो कि एक दिन में अब तक का सबसे अधिक टीकाकरण है। भारत में कोविड-19 मामलों का आंकड़ा सात अगस्त, 2020 को 20 लाख, 23 अगस्त को 30 लाख, पांच सितंबर को 40 लाख और 16 सितंबर को 50 लाख को पार कर गया था। यह 28 सितंबर को 60 लाख, 11 अक्टूबर को 70 लाख को पार कर गया था। इसने 29 अक्टूबर को 80 लाख, 20 नवंबर को 90 लाख और 19 दिसंबर को एक करोड़ का आंकड़ा पार किया था। देश में संक्रमण की संख्या चार मई को दो करोड़ और 23 जून को तीन करोड़ के आंकड़े को पार कर गई थी।\n",
            "Generated Summary: देश में पिछले 24 घंटों में 25,166 नए कोविड मामले सामने आए, जो पिछले 154 दिनों में सबसे कम आंकड़ा है। सक्रिय मामले घटकर 3,69,846 रह गए हैं। रिकवरी रेट 97.51% है। वहीं पिछले 24 घंटे में 437 और लो\n",
            "Reference Summary: देश में सक्रिय मामले घटकर 3,69,846 रह गए हैं। रिकवरी रेट 97.51% है। वहीं पिछले 24 घंटे में 25,166 नए कोविड मामले सामने आए हैं।\n",
            "Metrics: {'rouge1': 84.2105, 'rouge2': 82.3529, 'rougeL': 63.1579, 'rougeLsum': 63.1579, 'bert_score_f1': 74.4214}\n",
            "\n",
            "---\n",
            "\n"
          ]
        },
        {
          "metadata": {
            "tags": null
          },
          "name": "stderr",
          "output_type": "stream",
          "text": [
            "Some weights of RobertaModel were not initialized from the model checkpoint at roberta-large and are newly initialized: ['roberta.pooler.dense.bias', 'roberta.pooler.dense.weight']\n",
            "You should probably TRAIN this model on a down-stream task to be able to use it for predictions and inference.\n"
          ]
        },
        {
          "metadata": {
            "tags": null
          },
          "name": "stdout",
          "output_type": "stream",
          "text": [
            "Article 16699:\n",
            "Article: मुजफ्फरनगर: उत्तर प्रदेश के जनपद मुजफ्फरनगर की पुलिस का खौफ अपराधियों के दिमाग में इस क़दर घर कर गया है कि अब बदमाश पुलिस की कार्रवाई के डर से खुद ही थाने पहुंचकर सरेंडर कर रहे हैं।सोमवार को नगर कोतवाली में एक हिस्ट्रीशीटर बदमाश बशीरुद्दीन अकेला ही हाथ जोड़कर पहुंचा। बशीरुद्दीन ने कोतवाली में कान पकड़कर पुलिस के सामने अपराध से तौबा करते हुए आत्मसमर्पण किया।सीओ सिटी कुलदीप कुमार सिंह ने कहा कि पुलिस के दो चेहरे होते है। एक आम आदमी के लिए मित्रता का और दूसरा अपराधी के लिए बहुत ही खौफनाक चेहरा। मुज़फ्फरनगर पुलिस के इस खौफ के कारण ही अपराधी आत्मसमर्पण कर रहे हैं।कुलदीप कुमार सिंह ने कहा कि पुलिस की कार्रवाई के डर से बशीरुद्दीन नाम के अपराधी ने कोतवाली में आत्मसमर्पण किया है। वह हिस्ट्रीशीटर बदमाश है, जो गैंगस्टर के मामले में वांछित चल रहा था। इस पर करीब आधा दर्जन आपराधिक मामले दर्ज हैं।\n",
            "Generated Summary: उत्तर प्रदेश के जनपद मुजफ्फरनगर की पुलिस का खौफ अपराधियों के दिमाग में इस क़दर घर कर गया है कि अब बदमाश पुलिस की कार्रवाई के डर से खुद ही थाने पहुंचकर सरेंडर कर रहे हैं।\n",
            "Reference Summary: सीओ सिटी कुलदीप कुमार सिंह ने कहा कि पुलिस के दो चेहरे होते है। एक आम आदमी के लिए मित्रता का और दूसरा अपराधी के लिए बहुत ही खौफनाक चेहरा। मुज़फ्फरनगर पुलिस के इस खौफ के कारण ही अपराधी आत्मसमर्पण कर रहे हैं।\n",
            "Metrics: {'rouge1': 0.0, 'rouge2': 0.0, 'rougeL': 0.0, 'rougeLsum': 0.0, 'bert_score_f1': 54.2327}\n",
            "\n",
            "---\n",
            "\n"
          ]
        },
        {
          "metadata": {
            "tags": null
          },
          "name": "stderr",
          "output_type": "stream",
          "text": [
            "Some weights of RobertaModel were not initialized from the model checkpoint at roberta-large and are newly initialized: ['roberta.pooler.dense.bias', 'roberta.pooler.dense.weight']\n",
            "You should probably TRAIN this model on a down-stream task to be able to use it for predictions and inference.\n"
          ]
        },
        {
          "metadata": {
            "tags": null
          },
          "name": "stdout",
          "output_type": "stream",
          "text": [
            "Article 1799:\n",
            "Article: उत्तर प्रदेश के कानपुर में एक बस आगरा-लखनऊ एक्सप्रेस वे से उतरकर गंगा पुल के पास सड़क किनारे खाई में गिर गई। इस हादसे में 19 लोग घायल हो गए। उन्हें इलाज के लिए अस्पताल में भर्ती कराया गया है। बस में 65 लोग सवार थे। \n",
            "आज की अन्य प्रमुख खबरें...\n",
            "झारखंड के रांची में दो गुटों में झड़प हुई, 5 लोग घायल\n",
            "झारखंड के रांची में शनिवार रात दो गुटों में झड़प हुई, जिसमें 5 लोग घायल हो गए। रांची के एसपी सिटी सुभांशु जैन ने बताया- एक दुकानदार ने शख्स पर उसकी बाइक को नुकसान पहुंचाने का आरोप लगाया था। मुआवजा मांगने पर दोनों में बहस हुई। इसके बाद दोनों पक्ष आपस में भिड़ गए। शांति बनाए रखने के लिए इलाके में पुलिस बल तैनात किया गया है।\n",
            "नागपुर में ओवरब्रिज से रेलवे ट्रैक पर गिरी तेज रफ्तार कार, 5 लोग गंभीर रूप से घायल\n",
            "महाराष्ट्र के नागपुर में एक तेज रफ्तार कार ओवरब्रिज से रेलवे ट्रैक पर गिर गई। हादसे में कार पूरी तरह टूट गई, वहीं उसमें बैठे 5 लोग गंभीर रूप से घायल हो गए। हादसा रविवार सुबह 7.30 बजे बोरखेड़ी शिवार के पास हुआ। घायलों को अस्पताल में इलाज के लिए भर्ती कराया गया है।\n",
            "दिल्ली की गीता कॉलोनी में मिठाई की दुकान में आग लगी\n",
            "दिल्ली की गीता कॉलोनी में रविवार को एक मिठाई की दुकान में आग लग गई। फायर ब्रिगेड की गाड़ियां आग बुझाने में लगी हुई हैं। दिल्ली पुलिस और फायर सर्विस के जवानों ने दो लोगों को रेस्क्यू किया है।\n",
            "20 जुलाई से 11 अगस्त तक चलेगा राज्यसभा सत्र\n",
            "संसद के मानसून सत्र में राज्यसभा 20 जुलाई से 11 अगस्त तक चलेगी। राज्यसभा सचिवालय ने यह जानकारी दी है। संसद का मानसून सत्र 23 दिनों तक चलेगा।\n",
            "बालासोर हादसे के 13 और शव परिवारों को सौंपे गए, DNA टेस्ट से हुई पहचान\n",
            "बालासोर हादसे में मारे गए 13 और लोगों के शव उनके परिवारों को सौंप दिए गए हैं। इनकी पहचान DNA टेस्ट के जरिए की गई थी। सौंपे गए शवों में से 1 झारखंड, 4 बिहार और 8 पश्चिम बंगाल भेजे गए हैं। इससे पहले शुक्रवार को 6 शव उनके परिजनों को सौंपे गए।\n",
            "अधिकारियों के मुताबिक, अभी भी 62 शवों की पहचान नहीं हो सकी है। उन्हें एम्स भुवनेश्वर में रखा गया है।\n",
            "दिल्ली के भजनपुरा में बुलडोजर से हटाए गए मंदिर और मजार\n",
            "दिल्ली के भजनपुरा इलाके में रविवार सुबह बुलडोजर चलाकर एक मंदिर और मजार को हटाया गया। इस दौरान बड़ी संख्या में पुलिसकर्मी तैनात रहे। पुलिस ने ड्रोन से पूरे इलाके की निगरानी की, जिससे कोई अप्रिय स्थिति न बने।\n",
            "दिल्ली नॉर्थ-ईस्ट के डीसीपी जॉय एन तिर्के ने बताया कि दिल्ली की धार्मिक मामलों की कमेटी ने भजनपुरा इलाके में एक हनुमान मंदिर और एक मजार को हटाने का फैसला लिया था। जिससे सहारनपुर हाईवे के रोड को चौड़ा किया जा सके। पूरी खबर पढ़ें...\n",
            "मुंबई के कुर्ला में भीषण आग लगी, दुकानें खाक; किसी की जान जाने की खबर नहीं\n",
            "मुंबई के कुर्ला में शनिवार शाम 6-7 दुकानों और गोदामों में आग लग गई। छह फायर ब्रिगेड ने मिलकर आग पर काबू पाया। हादसे में किसी के घायल होने या दुकानों में फंसे होने की खबर नहीं है, लेकिन दुकानें पूरी तरह जलकर खाक हो गईं।\n",
            "एलन मस्क ने ट्विटर पोस्ट पढ़ने पर लिमिट लगाई, अनवेरिफाइड अकाउंड एक दिन में सिर्फ 600 पोस्ट पढ़ पाएंगे\n",
            "ट्विटर के चेयरमैन एलन मस्क ने शनिवार को ऐलान किया कि वे ट्विटर पोस्ट पढ़े जाने पर लिमिट लगाने वाले हैं। वेरिफाइड अकाउंट दिन के 6000 पोस्ट, अनवेरिफाइड अकाउंट एक दिन में 600 पोस्ट और नए अनवेरिफाइड अकाउंट एक दिन में 300 पोस्ट ही पढ़ पाएंगे।\n",
            "उन्होंने कहा कि ये लिमिट अस्थायी होगी। कुछ देर बाद एक और ट्वीट करके उन्होंने बताया कि इस लिमिट को वे जल्द ही बढ़ाएंगे। वेरिफाइड अकाउंट एक दिन में 8000 पोस्ट, अनवेरिफाइड अकाउंट 800 पोस्ट और नए अनवेरिफाइड अकाउंट एक दिन में 400 पोस्ट पढ़ पाएंगे। पूरी खबर यहां पढ़ें...\n",
            "Generated Summary: उत्तर प्रदेश के कानपुर में एक बस आगरा-लखनऊ एक्सप्रेस वे से उतरकर गंगा पुल के पास सड़क किनारे खाई में गिर गई। इस हादसे में 19 लोग घायल हो गए। उन्हें इलाज के लिए अस्पताल में भर्ती कराया गया है। बस में 65 लो\n",
            "Reference Summary: Breaking News Headlines Today, Pictures, Videos and More From Dainik Bhaskar (दैनिक भास्कर) दिल्ली के भजनपुरा इलाके में रविवार सुबह बुलडोजर चलाकर एक मंदिर और मजार को हटाया गया। इस दौरान बड़ी संख्या में पुलिसकर्मी तैनात रहे।\n",
            "Metrics: {'rouge1': 0.0, 'rouge2': 0.0, 'rougeL': 0.0, 'rougeLsum': 0.0, 'bert_score_f1': 50.9005}\n",
            "\n",
            "---\n",
            "\n"
          ]
        },
        {
          "metadata": {
            "tags": null
          },
          "name": "stderr",
          "output_type": "stream",
          "text": [
            "Some weights of RobertaModel were not initialized from the model checkpoint at roberta-large and are newly initialized: ['roberta.pooler.dense.bias', 'roberta.pooler.dense.weight']\n",
            "You should probably TRAIN this model on a down-stream task to be able to use it for predictions and inference.\n"
          ]
        },
        {
          "metadata": {
            "tags": null
          },
          "name": "stdout",
          "output_type": "stream",
          "text": [
            "Article 13922:\n",
            "Article: इंडियन आर्मी ने शुक्रवार को कश्मीर में नियंत्रण रेखा के पार पाकिस्तानी सेना के बॉर्डर पोस्ट, बंकरों और फ्यूल डंप्स पर जोरदार जवाबी हमला किया। यह पाकिस्तान द्वारा 8 जगहों पर बेमतलब की गई उस भारी गोलाबारी का बदला था, जिसमें भारतीय सेना के 5 जवानों के साथ-साथ एक महिला सहित 5 नागरिकों की जान चली गई। भारतीय सेना के सूत्रों ने देर रात बताया कि जवाबी कार्रवाई में 11 पाकिस्तानी सैनिक मारे गए और 16 अन्य घायल हो गए।भारतीय सेना के सूत्रों ने आरोप लगाया कि पाकिस्तानी सैनिकों ने बारामूला, डावर, केरन, उरी और नौगाम सेक्टरों में 778 किलोमीटर लंबी LOC पर भारी मोर्टार और अन्य हथियारों के साथ गोलाबारी शुरू कर दी। यह गोलाबारी केरन सेक्टर में पाकिस्तानी आतंकवादियों की घुसपैठ को आसान बनाने के लिए की गई थी, जिसे नाकाम कर दिया गया। पुंछ में पाकिस्तानी सैनिकों द्वारा फॉरवर्ड एरिया में मोर्टार दागे जाने से 5 नागरिक घायल हो गए। सेना के सूत्रों ने बताया कि पाकिस्तान द्वारा की गई गोलाबारी के चलते बांदीपोरा में 2 स्कूली छात्राओं सहित 5 नागरिक घायल हो गए।भारतीय सेना ने शुक्रवार को 105 मिमी और 155 मिमी की तोपों, एंटी-टैंक गाइडेड मिसाइलों और भारी मोर्टार के साथ जोरदार जवाबी कार्रवाई करते हुए पाकिस्तान की कई निगरानी चौकियों और बंकरों को पूरी तरह तबाह कर दिया। भारतीय सेना द्वारा किए गए इस हमले में पाकिस्तान के हथियार और ईंधन के भंडारों समेत कई आतंकी लॉन्च पैड जमींदोज हो गए। सेना के सूत्रों ने कहा कि पाकिस्तानी रेडियो इंटरसेप्ट्स के मुताबिक, हमले में 11 पाकिस्तानी सैनिक मारे गए जिनमें स्पेशल सर्विस ग्रुप (SSG) के 2 या 3 कमांडो भी शामिल हैं। SSG के कमांडो अक्सर LoC पर हमले करने वाली बॉर्डर ऐक्शन टीम में शामिल होते रहे हैं। सेना के सूत्रों ने कहा कि 10 से 12 पाकिस्तानी घायल भी हुए हैं।इंडिया टीवी ने अपने प्राइम टाइम शो 'आज की बात' में भारतीय सेना द्वारा किए गए टारगेटेड हमले की एक छोटी-सी वीडियो क्लिप दिखाई थी। केरन सेक्टर में घुसपैठ की यह कोशिश इंडियन आर्मी के एक कैप्टन, 2 जवानों और BSF के एक कॉन्स्टेबल की शहादत के 5 दिन बाद की गई। भारत के ये सैनिक घुसपैठ रोकने के प्रयास में वीरगति को प्राप्त हुए थे। सेना के एक प्रवक्ता ने कहा कि शुक्रवार को पाकिस्तान ने उरी से लेकर केरन सेक्टरों तक कई जगहों पर गोलाबारी शुरू कर दी जिसके बाद भारतीय सेना ने उन्हें मुंहतोड़ जवाब दिया।पाकिस्तानी सेना ने यह बात तो मानी कि भारतीय सैनिकों ने तोपखाने और भारी मोर्टार से हमला कर नीलम घाटी, बाग घाटी और झेलम घाटी में उसकी चौकियों को तबाह कर दिया, लेकिन उसने अपने मारे गए सैनिकों की संख्या कम बताकर हताहतों के असली आंकड़े को छिपाने की कोशिश की। भारतीय सेना द्वारा जारी किए गए वीडियो क्लिप में साफ दिखाई दे रहा है कि हमारे वीर जवानों द्वारा की गई जवाबी कार्रवाई के बाद पाकिस्तानी सैनिक अपनी-अपनी चौकियों से सिर पर पैर रखकर भाग रहे हैं। भारत द्वारा किए गए इस जोरदार हमले में कम से कम 12 पाकिस्तानी बॉर्डर पोस्ट तबाह हो गईं।पाकिस्तान को बिल्कुल साफ संदेश मिल गया है कि यदि वह सीजफायर का उल्लंघन करेगा तो भारत की तरफ से जोरदार पलटवार होगा। 4 भारतीय जवानों के शहीद होने के बाद भारतीय सेना ने पाकिस्तान को ईंट का जवाब पत्थर से देने का फैसला किया, और यह वजह है कि तोपों के साथ-साथ एंटी टैंक गाइडेड मिसाइलों का भी इस्तेमाल किया गया। भारतीय सेना ने पहले उन जगहों को कैमरे पर रिकॉर्ड किया जहां से छिपकर पाकिस्तानी सैनिक गोलाबारी कर रहे थे, फिर तोपों और गाइडेड मिसाइलों से दुश्मन की चौकियों को निशाना बनाते हुए जोरदार हमला किया। पाकिस्तान द्वारा सुबह की गई गोलाबारी के दौरान जान बचाकर भागती हुए लोगों, जिनमें महिलाएं और बच्चे भी शामिल हैं, के वीडियो भी रिकॉर्ड किए गए।पाकिस्तान ने पिछले साल के 3,233 सीजफायर उल्लंघन की तुलना में इस साल अब तक कश्मीर में 4,052 बार सीजफायर का उल्लंघन किया है। इस गोलीबारी में अब तक कम से कम 20 आम नागरिकों की मौत हुई है और 47 घायल हुए हैं। प्रधानमंत्री नरेंद्र मोदी ने जवानों के साथ दिवाली मनाने की अपनी परंपरा को लगातार सातवें साल जारी रखते हुए शनिवार को राजस्थान के जैसलमेर सीमा पर लोंगेवाला का दौरा किया। इस मौके पर उनके साथ चीफ ऑफ डिफेंस स्टाफ जनरल बिपिन रावत, आर्मी चीफ जनरल एमएम नरवणे और बीएसएफ चीफ राकेश अस्थाना शामिल थे।मोदी ने जवानों को दिवाली की मिठाई बांटी और सभी से मुलाकात भी की। प्रधानमंत्री ने सभी देशवासियों से अपील की है कि वे इस दिवाली के दिन सैनिकों के सम्मान में एक दीया जरूर जलाएं। उन्होंने ट्वीट किया, ‘इस दिवाली हम सभी एक दीया उन सैनिकों के सम्मान में जलाएं जो निडर होकर देश की रक्षा करते हैं। सैनिकों की अनुकरणीय बहादुरी के लिए उनके प्रति शब्दों से कृतज्ञता ज्ञापित करने की भावना न्याय नहीं कर सकती। हम सीमाओं पर डटे सैनिकों के परिवार वालों के प्रति भी कृतज्ञ हैं।’नरेंद्र मोदी देश के ऐसे पहले प्रधानमंत्री हैं जो हर साल दिवाली सैनिकों के साथ मनाते हैं। जब देश का प्रधानमंत्री सीमा पर जवानों के बीच खड़ा होता है, तो प्रत्येक जवान अपने पीछे चट्टान की तरह खड़े 130 करोड़ भारतीयों की ताकत को महसूस करता है। सेना अतीत में भी अदम्य साहस और वीरता का परिचय देती रही है, लेकिन शायद ही कभी इसकी चर्चा होती थी।नरेंद्र मोदी ने वक्त को बदल दिया है। हमारी फौज पाकिस्तान को सबक सिखाती है, सर्जिकल स्ट्राइक करती है, एयर स्ट्राइक करती है, उसके बंकर उड़ाती है, घर में घुस कर मारती है और फिर आम जनता को इन हमलों के वीडियो भी दिखाती है। हमारी सेना पहली बार बिना कुछ छिपाए पूरी दुनिया को बता रही है कि हम किस तरह अपने दुश्मनों को सबक सिखा रहे हैं। हम दुनिया को बता रहे हैं कि अगर पाकिस्तान सीजफायर के उल्लंघन और आतंकी हमलों को नहीं रोकता है तो हम यूं ही जवाबी कार्रवाई करते रहेंगे।सवाल ये है कि पाकिस्तान की सेना इतनी परेशान क्यों है कि बार-बार मार खाने के बाद भी सीजफायर वॉयलेशन की हिमाकत करती है। इसकी एक बड़ी बजह तो ये है कि पाकिस्तानी फौज पिछले कई महीनों से घुसपैठ नहीं करवा पा रही है। भारी फायरिंग की आड़ में जब भी घुसपैठियों को हमारी सरहद में घुसाने की कोसिश की गई, उसे हर बार हमारी फौज ने नाकाम कर दिया। ऐसा ही कुछ शुक्रवार को दिवाली के एक दिन पहले हुआ।पाकिस्तान के प्रधानमंत्री इमरान खान बीते कई दिनों से पूरी दुनिया को बता रहे हैं कि भारत, पाकिस्तान के 3 टुकड़े करना चाहता है। पहले ही पाकिस्तान की मिलिटरी लीडरशिप अपने देश की संसद में हुए उस खुलासे को लेकर शर्मिंदा है जिसमें उसके नेताओं ने स्वीकार किया था कि पुलवामा में आतंकी हमला पाकिस्तान ने ही करवाया था और इसके आर्मी जनरलों ने भारत से हमले की धमकी मिलने के बाद विंग कमांडर अभिनंदन को रिहा करने का फैसला किया था। पाकिस्तान को लगता था कि चीन के साथ भारत का टकराव बढ़ेगा तो वह उसका फायदा उठाएगा, लेकिन अब इस बात के आसार हैं कि चीन की फौज अपने सैन्य साजो-सामान के साथ पीछे हट जाएगी। भारत की डिप्लोमैसी की इस कामयाबी ने भी पाकिस्तान को और फ्रस्ट्रेट कर दिया है।मुझे लग रहा है कि पाकिस्तान बार-बार ये भूल जाता है कि ये नरेंद्र मोदी की लीडरशिप वाला इंडिया है। उसे पता होना चाहिए कि जब भी वह सीजफायर का उल्लंघन करेगा तो भारत जोरदार जवाबी कार्रवाई करेगा। जब भी पाकिस्तान भारत पर गोली बरसाएगा तो भारत उसे घर में घुसकर गोले मारेगा। मुझे लता जी का गाया और प्रदीप जी का लिखा मशहूर गीत 'ऐ मेरे वतन के लोगों' याद आ रहा है। उस गाने में कुछ पंक्तियां थीं, 'जब देश में थी दिवाली, वे खेल रहे थे होली, जब हम बैठे थे घरों में, वे झेल रहे थे गोली।' इसलिए दिवाली के मौके पर हम एक दीया अपने देश के उन सैनिकों के लिए भी जलाएं जो पूरी लगन के साथ हमारी सरहदों की निगरानी कर रहे हैं। वे वहां डटे हुए हैं, ताकि हम और आप चैन की नींद सो सकें। (रजत शर्मा)देखें: ‘आज की बात, रजत शर्मा के साथ’ 13 नवंबर, 2020 का पूरा एपिसोड  /*.jw-reset-text, .jw-reset{line-height: 2em;}*/  .jw-time-tip .jw-time-chapter{display:none;}  if ('' == comscore_jw_loaded || 'undefined' == comscore_jw_loaded || undefined == comscore_jw_loaded) {var comscore_jw_loaded = 1;firstjw = document.getElementsByClassName('jwvidplayer')[0];cs_jw_script = document.createElement('script');cs_jw_script.src = 'https://sb.scorecardresearch.com/internal-c2/plugins/streamingtag_plugin_jwplayer.js';firstjw.parentNode.insertBefore(cs_jw_script, firstjw.nextSibling);  }  var jwconfig_6263413650 = {\"file\": \"https://indiatv-vh.akamaihd.net/i/vod/0_nom0flfg_,20,21,22,.mp4.csmil/master.m3u8\",\"image\": \"https://thumbs.indiatvnews.com/vod/0_nom0flfg_big_thumb.jpg\",\"title\": \"आज की बात: योगी आदित्यनाथ ने अयोध्या में मिट्टी के दीप जलाकर विश्व रिकॉर्ड बनाया\",\"height\": \"440px\",\"width\": \"100%\",\"aspectratio\": \"16:9\",\"autostart\": false,\"controls\": true,\"mute\": false,\"volume\": 100,\"floating\": false,\"sharing\": {\"code\": \"\",\"sites\": [\"facebook\",\"twitter\",\"email\"]},\"stretching\": \"exactfit\",\"primary\": \"html5\",\"hlshtml\": true,\"duration\": 3098,\"advertising\": {\"client\": \"vast\",\"autoplayadsmuted\": true,\"skipoffset\": 5,\"cuetext\": \"\",\"skipmessage\": \"Skip ad in xx\",\"skiptext\": \"SKIP\",\"preloadAds\": true,\"schedule\": [{\"offset\": \"pre\",\"tag\": \"https://pubads.g.doubleclick.net/gampad/ads?iu=/8323530/Hindi_Video_Desktop_PreRoll&description_url=http%3A%2F%2Fwww.indiatv.in&tfcd=0&npa=0&sz=640x480&gdfp_req=1&output=vast&unviewed_position_start=1&env=vp&impl=s&correlator=\",\"type\": \"linear\"},{\"offset\": \"50%\",\"tag\": \"https://pubads.g.doubleclick.net/gampad/ads?iu=/8323530/Hindi_Video_Desktop_MidRoll&description_url=http%3A%2F%2Fwww.indiatv.in&tfcd=0&npa=0&sz=640x480&gdfp_req=1&output=vast&unviewed_position_start=1&env=vp&impl=s&correlator=\"},{\"offset\": \"post\",\"tag\": \"https://pubads.g.doubleclick.net/gampad/ads?iu=/8323530/Hindi_Video_Desktop_PostRoll&description_url=http%3A%2F%2Fwww.indiatv.in&tfcd=0&npa=0&sz=640x480&gdfp_req=1&output=vast&unviewed_position_start=1&env=vp&impl=s&correlator=\",\"type\": \"linear\"}]}};  var jwvidplayer_6263413650 = '';  jwsetup_6263413650();  function jwsetup_6263413650() {jwvidplayer_6263413650 = jwplayer(\"jwvidplayer_6263413650\").setup(jwconfig_6263413650);jwvidplayer_6263413650.on('ready', function () {  ns_.StreamingAnalytics.JWPlayer(jwvidplayer_6263413650, {publisherId: \"20465327\",labelmapping: \"c2=\\\"20465327\\\", c3=\\\"India TV Hindi\\\", c4=\\\"null\\\", c6=\\\"null\\\", ns_st_mp=\\\"jwplayer\\\", ns_st_cl=\\\"0\\\", ns_st_ci=\\\"0_nom0flfg\\\", ns_st_pr=\\\"आज की बात: योगी आदित्यनाथ ने अयोध्या में मिट्टी के दीप जलाकर विश्व रिकॉर्ड बनाया\\\", ns_st_sn=\\\"0\\\", ns_st_en=\\\"0\\\", ns_st_ep=\\\"आज की बात: योगी आदित्यनाथ ने अयोध्या में मिट्टी के दीप जलाकर विश्व रिकॉर्ड बनाया\\\", ns_st_ct=\\\"null\\\", ns_st_ge=\\\"News\\\", ns_st_st=\\\"आज की बात: योगी आदित्यनाथ ने अयोध्या में मिट्टी के दीप जलाकर विश्व रिकॉर्ड बनाया\\\", ns_st_ce=\\\"0\\\", ns_st_ia=\\\"0\\\", ns_st_ddt=\\\"2020-11-13\\\", ns_st_tdt=\\\"2020-11-13\\\", ns_st_pu=\\\"India TV Hindi\\\", ns_st_cu=\\\"https://indiatv-vh.akamaihd.net/i/vod/0_nom0flfg_,20,21,22,.mp4.csmil/master.m3u8\\\", ns_st_ty=\\\"video\\\"\"  });});jwvidplayer_6263413650.on('all', function (r) {  if (jwvidplayer_6263413650.getState() == 'error' || jwvidplayer_6263413650.getState() == 'setupError') {jwvidplayer_6263413650.stop();jwvidplayer_6263413650.remove();jwvidplayer_6263413650 = '';jwsetup_6263413650();return;  }});jwvidplayer_6263413650.on('error', function (t) {  jwvidplayer_6263413650.stop();  jwvidplayer_6263413650.remove();  jwvidplayer_6263413650 = '';  jwsetup_6263413650();  return;});jwvidplayer_6263413650.on('mute', function (event) {  ga('send', 'event', 'JW Player Events', 'Errors', event.message);});jwvidplayer_6263413650.on('adPlay', function (event) {  ga('send', 'event', 'JW Player Events', 'Errors', event.message);});jwvidplayer_6263413650.on('adPause', function (event) {  ga('send', 'event', 'JW Player Events', 'Errors', event.message);});jwvidplayer_6263413650.on('pause', function (event) {  ga('send', 'event', 'JW Player Events', 'Errors', event.message);});jwvidplayer_6263413650.on('error', function (event) {  ga('send', 'event', 'JW Player Events', 'Errors', event.message);});jwvidplayer_6263413650.on('adBlock', function (event) {  ga('send', 'event', 'JW Player Events', 'Errors', event.message);});jwvidplayer_6263413650.on('adSkipped', function (event) {  ga('send', 'event', 'JW Player Events', 'Errors', event.message);});  }\n",
            "Generated Summary: प्रधानमंत्री नरेंद्र मोदी ने जवानों के साथ दिवाली मनाने की अपनी परंपरा को लगातार सातवें साल जारी रखते हुए शनिवार को राजस्थान के जैसलमेर सीमा पर लोंगेवाला का दौरा किया। इस मौके पर उनके साथ चीफ ऑफ डिफेंस\n",
            "Reference Summary: मुझे लग रहा है कि पाकिस्तान बार-बार ये भूल जाता है कि ये नरेंद्र मोदी की लीडरशिप वाला इंडिया है। उसे पता होना चाहिए कि जब भी वह सीजफायर का उल्लंघन करेगा तो भारत जोरदार जवाबी कार्रवाई करेगा।\n",
            "Metrics: {'rouge1': 0.0, 'rouge2': 0.0, 'rougeL': 0.0, 'rougeLsum': 0.0, 'bert_score_f1': 54.9443}\n",
            "\n",
            "---\n",
            "\n"
          ]
        },
        {
          "metadata": {
            "tags": null
          },
          "name": "stderr",
          "output_type": "stream",
          "text": [
            "Some weights of RobertaModel were not initialized from the model checkpoint at roberta-large and are newly initialized: ['roberta.pooler.dense.bias', 'roberta.pooler.dense.weight']\n",
            "You should probably TRAIN this model on a down-stream task to be able to use it for predictions and inference.\n"
          ]
        },
        {
          "metadata": {
            "tags": null
          },
          "name": "stdout",
          "output_type": "stream",
          "text": [
            "Article 10131:\n",
            "Article: तिरुवनंतपुरम: केरल में ब्रिटेन से लौटे चार और यात्री कोरोना वायरस से संक्रमित पाए गए। वहीं, राज्य में बृहस्पतिवार को कोविड-19 के 5,051 नए मामले सामने आए और बीमारी से 25 और मरीजों की मौत हो गई। इन नए मामलों के साथ राज्य में संक्रमण के कुल मामले बढ़कर 7,95,933 हो गए और मरने वालों की संख्या बढ़कर 3,234 हो गई। इसके साथ ही राज्य में अब तक ब्रिटेन से आए कुल 47 लोगों में संक्रमण की पुष्टि हो चुकी है। राज्य की स्वास्थ्य मंत्री के के शैलजा ने कहा कि 5,683 लोग आज संक्रमण से उबर गए, जिससे राज्य में ठीक हो चुके लोगों की कुल संख्या बढ़कर 7,28,060 हो गई। राज्य में फिलहाल 64,445 मरीज उपचाराधीन हैं। राज्य में पिछले 24 घंटों में 60,613 नमूनों की जांच की गई। शैलजा ने कहा, ‘‘ब्रिटेन से राज्य आने वाले चार और व्यक्तियों को कोविड-19 से संक्रमित पाया गया है और वर्तमान में, उस देश से आए 47 लोग संक्रमित पाए गए हैं। उनके नमूने एनआईवी को भेजे गए हैं।’’वहीं, पूरे देश की बात करें तो भारत में एक दिन में कोविड-19 के 20,346 नए मामले सामने आने के बाद देश में संक्रमण के मामले बढ़कर 1,03,95,278 हो गए। वहीं, एक करोड़ से अधिक लोग संक्रमण मुक्त भी हो चुके हैं। केन्द्रीय स्वास्थ्य मंत्रालय की ओर से सुबह आठ बजे जारी किए गए आंकड़ों के अनुसार, पिछले 24 घंटे में 222 और लोगों की मौत के बाद मृतक संख्या बढ़कर 1,50,336 हो गई।आंकड़ों के अनुसार, पिछले 24 घंटे में 222 लोगों की मौत हुई, उनमें से महाराष्ट्र के 66, केरल के 25, पश्चिम बंगाल के 22 और दिल्ली के 16 लोग थे। मंत्रालय के आंकड़ों के अनुसार देश में वायरस से अभी तक 1,50,336 लोगों की मौत हुई है, जिनमें से महाराष्ट्र के 49,825, तमिलनाडु के 12,188, कर्नाटक के 12,124, दिल्ली के 10,625, पश्चिम बंगाल के 9,863, उत्तर प्रदेश के 8,441, आंध्र प्रदेश के 7,125 और पंजाब के 5,412 लोग थे।आंकड़ों के अनुसार कुल 1,00,16,859 लोगों के संक्रमण मुक्त होने के साथ ही देश में मरीजों के ठीक होने की दर बढ़कर 96.36 प्रतिशत हो गई। वहीं कोविड-19 से मृत्यु दर 1.45 प्रतिशत है। देश में लगातार 17 दिनों से कोविड-19 के मामले तीन लाख से कम है। अभी 2,28,083 लोगों का कोरोना वायरस संक्रमण का इलाज चल रहा है, जो कुल मामलों का 2.19 प्रतिशत है। भारतीय आयुर्विज्ञान परिषद (आईसीएमआर) के अनुसार, देश में छह जनवरी तक कुल 17,84,00,995 नमूनों की कोविड-19 संबंधी जांच की गई, जिनमें से 9,37,590 नमूनों की जांच बुधवार को की गई।भारत में सात अगस्त को संक्रमितों की संख्या 20 लाख, 23 अगस्त को 30 लाख और पांच सितम्बर को 40 लाख के पार चली गई थी। वहीं, संक्रमण के कुल मामले 16 सितम्बर को 50 लाख, 28 सितम्बर को 60 लाख, 11 अक्टूबर को 70 लाख, 29 अक्टूबर को 80 लाख और 20 नवम्बर को 90 लाख और 19 दिसम्बर को एक करोड़ के पार चले गए थे। (इनपुट- भाषा)\n",
            "Generated Summary: केंद्रीय स्वास्थ्य मंत्रालय की ओर से सुबह आठ बजे जारी किए गए आंकड़ों के अनुसार, पिछले 24 घंटे में 222 और लोगों की मौत के बाद मृतक संख्या बढ़कर 1,50,336 हो गई।\n",
            "Reference Summary: केरल में ब्रिटेन से लौटे चार और यात्री कोरोना वायरस से संक्रमित पाए गए। वहीं, राज्य में बृहस्पतिवार को कोविड-19 के 5,051 नए मामले सामने आए और बीमारी से 25 और मरीजों की मौत हो गई।\n",
            "Metrics: {'rouge1': 0.0, 'rouge2': 0.0, 'rougeL': 0.0, 'rougeLsum': 0.0, 'bert_score_f1': 56.6734}\n",
            "\n",
            "---\n",
            "\n"
          ]
        },
        {
          "metadata": {
            "tags": null
          },
          "name": "stderr",
          "output_type": "stream",
          "text": [
            "Some weights of RobertaModel were not initialized from the model checkpoint at roberta-large and are newly initialized: ['roberta.pooler.dense.bias', 'roberta.pooler.dense.weight']\n",
            "You should probably TRAIN this model on a down-stream task to be able to use it for predictions and inference.\n"
          ]
        },
        {
          "metadata": {
            "tags": null
          },
          "name": "stdout",
          "output_type": "stream",
          "text": [
            "Article 6698:\n",
            "Article: राजस्थान के पूर्व उप मुख्यमंत्री सचिन पायलट का अपनी ही सरकार के खिलाफ एक दिन का अनशन 5 घंटे में ही खत्म हो गया। मंगलवार शाम करीब पौने 4 बजे समर्थकों ने मिठाई खिलाकर पायलट का अनशन तुड़वाया।\n",
            "अनशन खत्म होने के बाद पायलट ने कहा- मैंने सिर्फ करप्शन पर कार्रवाई के मकसद से अनशन रखा था। यदि बात संगठन की होती तो मैं संगठन से बात करता। साल भर से मैं मुख्यमंत्री से मांग कर रहा था।\n",
            "पायलट ने कहा कि करप्शन के खिलाफ हमारी जीरो टॉलरेंस की पॉलिसी रही है तो कार्रवाई भी होनी चाहिए। मुझे उम्मीद है कि कार्रवाई जरूर होगी। करप्शन के खिलाफ हमारा संघर्ष जारी रहेगा, हम चाहते हैं कि देश और प्रदेश में स्वच्छ राजनीति हो।\n",
            "पायलट बोले- पुराने प्रभारी को लेटर मार्क किए थे\n",
            "सचिन पायलट ने बीजेपी राज के करप्शन पर प्रभारी रंधावा से बात नहीं करने के सवाल पर कहा कि रंधावा अभी नए प्रभारी बने हैं। इनसे पहले जो प्रभारी थे, उन्हें लेटर की कॉपी मार्क की थी। चर्चा करते रहते हैं। रंधावा ने कहा था कि बीजेपी राज के करप्शन की जांच को लेकर सचिन पायलट ने उनसे बात नहीं की।\n",
            "पायलट भाजपा की सीएम वसुंधरा राजे के शासन में हुए घोटालों की जांच की मांग को लेकर गहलोत सरकार के खिलाफ अनशन पर बैठे थे। वे सुबह अपने समर्थकों के साथ यहां पहुंचे। ऐसा कहा जा रहा था कि वे कोई अलग पॉलिटिकल लाइन ले सकते हैं, लेकिन अभी तक उन्होंने ऐसी कोई घोषणा नहीं की है।\n",
            "इधर, पायलट के अनशन शुरू होने के बाद राजस्थान के मुख्यमंत्री अशोक गहलोत ने वीडियो मैसेज जारी कर एक बार फिर मिशन 2030 की बात दोहराई। उन्होंने कहा- मैंने तय किया है कि 2030 तक राजस्थान को देश का नंबर वन राज्य बनाना है। पायलट के अनशन के बीच मिशन 2030 की बात दोहराने के भी सियासी मायने निकाले जा रहे हैं।\n",
            "सचिन पायलट के अनशन को लेकर दिल्ली में पवन खेड़ा ने दिन में ये कहा था कि इस मुद्दे पर महासचिव जयराम रमेश शाम को बयान जारी करेंगे। हालांकि कोई बयान जारी नहीं हुआ।\n",
            "कांग्रेस, राहुल-सोनिया पोस्टर से गायब \n",
            "अनशन स्थल पर लगे पोस्टरों में न राहुल-सोनिया का फोटो दिखा, न ही कांग्रेस का सिंबल। केवल महात्मा गांधी की फोटो नजर आई। उधर, प्रदेश कांग्रेस प्रभारी सुखजिंदर सिंह रंधावा ने जयपुर दौरा रद्द कर दिया। वे पायलट से बातचीत करने के लिए आज दोपहर बाद जयपुर पहुंचने वाले थे। अब वह बुधवार को जयपुर आ सकते हैं। उन्होंने कल पायलट की कार्रवाई को पार्टी विरोधी बताया था।\n",
            "पायलट ने अलग पॉलिटिकल लाइन नहीं ली, अब भी असमंजस बरकरार\n",
            "बीजेपी राज के करप्शन के मुद्दे पर जिस तरह पायलट ने पहले तेवर दिखाए थे, उससे लग रहा था कि आज अनशन के बाद कोई अलग पॉलिटिकल लाइन ले सकते हैं। अनशन खत्म होते-होते पूरी तस्वीर बदल गई। पायलट ने नई पॉलिटिकल लाइन लेने की जगह फिलहाल कांग्रेस में रहकर करप्शन का मुद्दा उठाने के संकेत दिए। सुबह आप के प्रदेश प्रभारी विनय मिश्रा ने पायलट के अनशन का समर्थन किया, लेकिन आप का स्टैंड भी बदल गया।\n",
            "पायलट ने रविवार को प्रेस कॉन्फ्रेंस में अनशन की घोषणा की थी। आज के धरना में प्रदेश भर से उनके समर्थक जयपुर पहुंचे। इससे पहले पायलट गुट के नेताओं और विधायकों ने चुनिंदा समर्थकों को जयपुर पहुंचने का मैसेज भेजा। कांग्रेस राज में अपनी ही सरकार के खिलाफ अनशन का हाल के दो दशक में यह पहला मौका था।\n",
            "गाैरतलब है कि 9 अप्रैल को पायलट ने प्रेस कॉन्फ्रेंस कर कहा था कि हमने वसुंधरा सरकार पर करीब 45 हजार करोड़ के भ्रष्टाचार के आरोप लगाए थे और वादा किया था कि सरकार में आने पर इनकी जांच कर कार्रवाई करेंगे, लेकिन सवा चार साल बीतने के बाद भी सरकार ने कोई कार्रवाई नहीं की। मैंने दो बार मुख्यमंत्री गहलोत को इस संबंध में चिट्‌ठी लिखी, लेकिन कोई जवाब नहीं मिला, इसलिए कार्रवाई की मांग को लेकर मैं अनशन पर बैठ रहा हूं।\n",
            "अनशन से जुड़े अपडेट्स \n",
            "अब अनशन की तस्वीरें... \n",
            "आम आदमी पार्टी का पायलट को समर्थन\n",
            "आम आदमी पार्टी ने पायलट के अनशन का समर्थन किया। आप प्रभारी विनय मिश्रा ने ट्वीट कर कहा कि आज अगर राजस्थान को किसी ने लूटा है तो वो वसुंधरा जी और अशोक गहलोत जी का अटूट गठबंधन है।\n",
            "जिसके कारण राजस्थान पर देश में सबसे ज्यादा 5 लाख करोड़ का कर्ज है। मैं इस बात को हमेशा से कहता आ रहा हूं कि कांग्रेस और भाजपा का अटूट गठबंधन है। अब तो खुद इनके नेता कह रहे हैं कि गहलोत जी और वसुंधरा जी मिलकर सरकार बना रहे हैं। ये बेहद गंभीर मामला है।\n",
            "ये भी पढ़ें...\n",
            "1. 'पायलट का सीधे अनशन करना गलत':प्रदेश प्रभारी बोले- CM तो मैं भी नहीं बन पाया था; सचिन को तो बहुत कुछ मिला है\n",
            "सचिन पायलट ने मंगलवार को जयपुर में शहीद स्मारक पर अनशन करने की घोषणा कर कांग्रेस की अंदरूनी राजनीति को फिर सतह पर ला दिया है। सचिन पायलट की घोषणा के बाद राजस्थान प्रभारी सुखजिंदर सिंह रंधावा डैमेज कंट्रोल में लगे हैं, लेकिन पायलट अनशन पर अड़े हैं। सुखजिंदर सिंह रंधावा ने भास्कर को दिए इंटरव्यू में कहा- मुख्यमंत्री तो मैं भी नहीं बन पाया, लेकिन इसका यह मतलब नहीं कि पार्टी छोड़कर चले जाएं। (पूरी खबर पढ़ें)\n",
            "2. क्या हाईकमान ने छोड़ दिया है पायलट का साथ?:3 साल से न पद, न संगठन में अहमियत, सिर्फ आश्वासन मिले, अब अनशन आखिरी दांव\n",
            "राहुल गांधी की भारत जोड़ाे यात्रा राजस्थान आने से पहले ही गहलोत ने एक टीवी इंटरव्यू में पायलट को गद्दार बताते हुए यहां तक कह दिया था कि जिसके पास दस विधायक नहीं, उसे कैसे सीएम बनाया जा सकता है? गहलोत के सख्त स्टैंड के कारण हाईकमान भी पीछे हटता चला गया और पायलट को सीएम बनाने का मामला धीरे-धीरे खत्म हो गया।\n",
            "इससे पायलट हताश हो गए और वे सरकार के खिलाफ हमलावर होते चले गए। सरकार को पेपर लीक मामले में मास्टर माइंड को नहीं पकड़ने के मुद्दे पर घेरना और इसके बाद वीरांगनाओं के मुद्दे पर सरकार को चिट्‌ठी लिखना इसी रणनीति का हिस्सा था।(पूरी खबर पढ़ें)\n",
            "Generated Summary: राजस्थान के पूर्व उप मुख्यमंत्री सचिन पायलट का अपनी ही सरकार के खिलाफ एक दिन का अनशन 5 घंटे में ही खत्म हो गया। मंगलवार शाम करीब पौने 4 बजे समर्थकों ने मिठाई खिलाकर पायलट का अनशन तुड़वाया।\n",
            "Reference Summary: Rajasthan Congress Leader Sachin Pilot Anshan - In Charge Sukhjinder Singh Randhawa Jaipur Meeting Schedule. पूर्व डिप्टी सीएम सचिन पायलट कल अपने समर्थक कार्यकर्ताओं के साथ जयपुर के शहीद स्मारक पर दिन भर अनशन करेंगे। पायलट ने वसुंधरा राजे के सीएम रहते हुए घोटालों पर कार्रवाई नहीं होने को मुद्दा बबोनाकर अनशन की घोषणा की है।\n",
            "Metrics: {'rouge1': 0.0, 'rouge2': 0.0, 'rougeL': 0.0, 'rougeLsum': 0.0, 'bert_score_f1': 51.7843}\n",
            "\n",
            "---\n",
            "\n"
          ]
        },
        {
          "metadata": {
            "tags": null
          },
          "name": "stderr",
          "output_type": "stream",
          "text": [
            "Some weights of RobertaModel were not initialized from the model checkpoint at roberta-large and are newly initialized: ['roberta.pooler.dense.bias', 'roberta.pooler.dense.weight']\n",
            "You should probably TRAIN this model on a down-stream task to be able to use it for predictions and inference.\n"
          ]
        },
        {
          "metadata": {
            "tags": null
          },
          "name": "stdout",
          "output_type": "stream",
          "text": [
            "Article 13626:\n",
            "Article: नई दिल्लीः 6 अप्रैल 1980 को दिल्ली के फिरोजशाह कोटला मैदान में एक नए राजनीतिक दल की घोषणा की गई जिसका नाम था भारतीय जनता पार्टी। भारतीय जनता पार्टी आज अपना 42वां स्थापना दिवस मना रही है। पार्टी बनने के बाद पहले आम चुनाव में महज 2 सीटों पर जीत हासिल करने वाली बीजेपी आज दुनिया की सबसे बड़ी राजनीतिक पार्टी है। शुरूआत से लेकर अब तक बीजेपी के विधायकों संख्या में 900 फीसदी, मतदाता 1000 फीसदी और सांसद 15000 फीसदी बढ़े हैं। आज देश की सियासत में बीजेपी का कद इतना ऊंचा हो चुका है कि अन्य दल उसके सामने बहुत छोटे लगने लगे हैं। किसे पता था कि एक दिन जनसंघ से निकाले गए अटल बिहारी बाजपेयी और लाल कृष्ण आडवाणी की जोड़ी देश ही नहीं बल्कि दुनिया की सबसे बड़ी राजनीतिक दल की नींव रखने वाले हैं। समय के साथ-साथ देशभर में बीजेपी का प्रभाव और जनता में पार्टी के प्रति लोगों का झुकाव लगातार बढ़ता रहा। जिसका नतीजा यह रहा कि आज बीजेपी दुनिया के सबसे बड़े लोकतंत्र की सबसे बड़ी पार्टी बन चुकी है। बीजेपी की स्थापना से लेकर अब तक पार्टी के विधायकों की संख्या में जबरदस्त उछाल देखने को मिला है।जहां साल 1981 तक बीजेपी के देशभर में महज 148 विधायक थे। लेकिन पार्टी के विधायकों की संख्या साल दर साल बढ़ती रही। जो 1991 में बढ़कर 751 और 2001 में 770 तक पहुंच गई। बीजेपी के विधायकों की संख्या में वृद्धि निरंतर जारी रही। साल 2011 में जो बढ़कर 869 पर पहुंच गई। लेकि बीते एक दशक में देशभर में बीजेपी के विधायकों की संख्या में जबरदस्त उछाल देखने को मिला है। वर्तमान में बीजेपी के देशभर में कुल 1296 विधायक हैं। जो उसके मजबूत जनाधार का सबूत है। बीजेपी की स्थापना के बाद पार्टी ने सबसे पहले 1984 के लोकसभा चुनाव लड़ा। उस समय इंदिरा गांधी की हत्या के बाद देश में सहानुभूति की लहर चल रही थी। जिसके कारण चुनाव में कांग्रेस को इसका फायदा मिला। बीजेपी लोकसभा चुनाव में महज दो सीट पर ही जीत हासिल कर पाई। लेकिन इसके अगले लोकसभा चुनाव में बीजेपी ने जबरदस्त प्रदर्शन करते हुए 2 से 85 सीटों तक का सफर तय किया। हांलाकि, ये देश में सरकार बनाने के लिए आवश्यक सीटों के आकड़े से काफी दूर था। लेकिन बीजेपी भविष्य में आने वाले तमाम लोकसभा चुनाव में अपना प्रदर्शन बेहतर किया। जिसकी बदोलत बीजेपी 1991 में 120, 1996 में 161 और 1998 में 182 लोकसभा सीटों पर जीत हासिल करने में कामयाब रही।लोकसभा में बीजेपी के सांसदों की संख्या हर चुनाव में बढ़ती रही। इसके बाद 2014 का वो समय भी आया जब बीजेपी ने अकेले अपने दम पर 282 सीटों पर जीत हासिल की। इस जीत की बदोलत बीजेपी पहली बार देश में अपनी सरकार बनाने में कामयाब रही। नरेंद्र मोदी देश के प्रधानमंत्री बने। 2014 लोकसभा चुनाव में मिली अप्रत्याशित जीत के बाद बीजेपी ने 2019 के लोकसभा चुनाव में विपक्ष के तमाम सियासी दावों को झूठा साबित करते हुए 303 सीटों पर जीत हासिल की। 1984 के लोकसभा चुनाव से लेकर अब तक बीजेपी के सांसदों की संख्या में 15000 फीसदी की बढ़ोतरी हुई है। हिंदुत्व की विचारधारा से प्रेरित बीजेपी का अबतक का सियासी सफर अप्रत्याशित रहा है। समय के साथ ना केवल इसके विधायक, सांसदों की संख्या बढ़ी बल्कि बीजेपी को मिलने वाले वोटों की संख्या में भी 1000 प्रतिशत की बढ़ोतरी हुई है। 1984 में बीजेपी के खाते में महज 1.82 करोड़ वोट पड़े। जो अगले पांच साल में बढ़कर 3.41 करोड़ तो साल 1991 में बढ़कर 5.53 करोड़ हो गए। बीजेपी को मिलने वाले वोटों की संख्या में उछाल का सिलसिला यहीं नहीं रुका। यह 1996 में बढ़कर 6.79 करोड़ वोट के आकड़ें पर पहुंच गया। हर पांच साल में बीजेपी के वोटर्स की संख्या लगातार बढ़ती रही। साल 2014 में इसमें सबसे अधिक उछाल देखने को मिला।इस साल मोदी लहर का जादू  देश में वोटर्स के सिर चढ़कर बोल रहा था। जिसके कारण बीजेपी को साल 2014 में 17.1 वोट हासिल हुए। ये बीजेपी को अब तक मिले सर्वाधिक वोट थे। इसकी बदोलत बीजेपी देश में पहली बार अपने दम पर सरकार बनाने में कामयाब रही। नरेंद्र मोदी देश के प्रधानमंत्री बनाए गए। बतौर प्रधानमंत्री नरेंद्र मोदी ने अपने पहले कार्यकाल में कुछ अहम और कढ़े फैसले लिए। जिसका जनता और विपक्ष ने जमकर  विरोध। फिर ऐसा लगने लगा कि अगले लोकसभा चुनाव में बीजेपी को सत्ता से बाहर होना पड़ सकता है। लेकिन 2019 के लोकसभा चुनाव में बीजेपी ने विपक्ष के सभी दांवों को धवस्त करते हुए 22.9 वोट हासिल किए।\n",
            "Generated Summary: भारतीय जनता पार्टी आज अपना 42वां स्थापना दिवस मना रही है। पार्टी बनने के बाद पहले आम चुनाव में महज 2 सीटों पर जीत हासिल करने वाली बीजेपी आज दुनिया की सबसे बड़ी राजनीतिक पार्टी है। शुरूआत से लेकर अब तक बी\n",
            "Reference Summary: शुरूआत से लेकर अब तक बीजेपी के विधायकों संख्या में 900 फीसदी, मतदाता 1000 फीसदी और सांसद 15000 फीसदी बढ़े हैं\n",
            "Metrics: {'rouge1': 0.0, 'rouge2': 0.0, 'rougeL': 0.0, 'rougeLsum': 0.0, 'bert_score_f1': 50.1271}\n",
            "\n",
            "---\n",
            "\n"
          ]
        },
        {
          "metadata": {
            "tags": null
          },
          "name": "stderr",
          "output_type": "stream",
          "text": [
            "Some weights of RobertaModel were not initialized from the model checkpoint at roberta-large and are newly initialized: ['roberta.pooler.dense.bias', 'roberta.pooler.dense.weight']\n",
            "You should probably TRAIN this model on a down-stream task to be able to use it for predictions and inference.\n"
          ]
        },
        {
          "metadata": {
            "tags": null
          },
          "name": "stdout",
          "output_type": "stream",
          "text": [
            "Article 16578:\n",
            "Article: नयी दिल्ली: देश में एक दिन में कोरोना वायरस (Coronavirus) के 67,084 नए मामले सामने आने के बाद  संक्रमितों की संख्या बढ़कर 4,24,78,060 हो गई। वहीं, एक्टिव मरीजों की संख्या घटकर 7,90,789 रह गई है। केन्द्रीय स्वास्थ्य मंत्रालय की ओर से बृहस्पतिवार सुबह आठ बजे जारी किए गए आंकड़ों के अनुसार, देश में कोविड-19 से 1,241 और लोगों की मौत के बाद, संक्रमण से जान गंवाने वालों की कुल संख्या बढ़कर 5,06,520 हो गई। देश में अभी 7,90,789 कोरोना वायरस संक्रमितों का इलाज चल रहा है, जो संक्रमण के कुल मामलों का 1.86 प्रतिशत है। मंत्रालय के मुताबिक पिछले 24 घंटे में कोविड-19 के उपचाराधीन मरीजों की संख्या में 1,02,039 की कमी दर्ज की गयी। देश में मरीजों के ठीक होने की राष्ट्रीय दर 96.95 प्रतिशत है। उल्लेखनीय है कि देश में सात अगस्त 2020 को संक्रमितों की संख्या 20 लाख, 23 अगस्त 2020 को 30 लाख और पांच सितंबर 2020 को 40 लाख से अधिक हो गई थी। संक्रमण के कुल मामले 16 सितंबर 2020 को 50 लाख, 28 सितंबर 2020 को 60 लाख, 11 अक्टूबर 2020 को 70 लाख, 29 अक्टूबर 2020 को 80 लाख और 20 नवंबर को 90 लाख के पार चले गए थे। देश में 19 दिसंबर 2020 को ये मामले एक करोड़ के पार हो गए थे।पिछले साल चार मई को संक्रमितों की संख्या दो करोड़ के पार और 23 जून 2021 को तीन करोड़ के पार पहुंच गई थी। इस साल 26 जनवरी को मामले चार करोड़ के पार पहुंच गए।\n",
            "Generated Summary: देश में एक दिन में कोरोना वायरस (Coronavirus) के 67,084 नए मामले सामने आने के बाद संक्रमितों की संख्या बढ़कर 4,24,78,060 हो गई। वहीं, एक्टिव मरीजों की संख्या घटकर 7,90,789 रह गई है।\n",
            "Reference Summary: देश में कोविड-19 से 1,241 और लोगों की मौत के बाद, संक्रमण से जान गंवाने वालों की कुल संख्या बढ़कर 5,06,520 हो गई।\n",
            "Metrics: {'rouge1': 0.0, 'rouge2': 0.0, 'rougeL': 0.0, 'rougeLsum': 0.0, 'bert_score_f1': 58.9648}\n",
            "\n",
            "---\n",
            "\n"
          ]
        },
        {
          "metadata": {
            "tags": null
          },
          "name": "stderr",
          "output_type": "stream",
          "text": [
            "Some weights of RobertaModel were not initialized from the model checkpoint at roberta-large and are newly initialized: ['roberta.pooler.dense.bias', 'roberta.pooler.dense.weight']\n",
            "You should probably TRAIN this model on a down-stream task to be able to use it for predictions and inference.\n"
          ]
        },
        {
          "metadata": {
            "tags": null
          },
          "name": "stdout",
          "output_type": "stream",
          "text": [
            "Article 8429:\n",
            "Article: इंफोसिस के प्रेसिडेंट मोहित जोशी ने इस्तीफा दे दिया है। वे अब टेक महिंद्रा के मैनेजिंग डायरेक्टर और CEO होंगे। पिछले 22 साल से वे इंफोसिस में काम कर रहे थे। 11 मार्च, 2023 से मोहित छुट्टी पर रहेंगे और कंपनी के साथ उनका आखिरी दिन 09 जून, 2023 होगा।\n",
            "20 दिसंबर से संभालेंगे टेक महिंद्रा की कमान\n",
            "अभी टेक महिंद्रा में MD और CEO की जिम्मेदारी सीपी गुरनानी संभाल रहे हैं। वो इंडियन आईटी सेक्टर के सबसे लंबे समय तक सेवा देने वाले CEO में से एक रहे हैं। 19 दिसंबर को उनके रिटायरमेंट के बाद मोहित जोशी इस पद को संभालेंगे। मोहित ने इंफोसिस से पहले ABN Amro, ANZ Grindlays कंपनी में काम किया है।\n",
            "इंफोसिस में मोहित के पास सॉफ्टवेयर, फाइनेंशियल सर्विस, हेल्थ केयर, लाइफ साइंस बिजनेस की जिम्मेदारी थी। मोहित एशिया, अमेरिका और यूरोप में रह चुके हैं। वर्तमान में वह लंदन में अपनी पत्नी और दो बेटियों के साथ रहते हैं।\n",
            "साल 2000 में इंफोसिस में शामिल हुए थे मोहित जोशी\n",
            "मोहित साल 2000 में इंफोसिस में शामिल हुए और तब से उन्होंने फर्म के लिए कई पोजीशन पर काम किया। अपने पिछले रोल में, वे यूरोप में फाइनेंशियल सर्विस बिजनेस को लीड कर रहे थे। 2007 में, मोहित को इंफोसिस मेक्सिको के CEO के रूप में नियुक्त किया गया था और लैटिन अमेरिका में पहली सब्सिडियरी स्थापित करने में महत्वपूर्ण भूमिका निभाई थी।\n",
            "वह अवीवा पीएलसी में एक नॉन एग्जीक्यूटिव डायरेक्टर भी हैं।\n",
            "दिल्ली यूनिवर्सिटी से किया MBA\n",
            "मोहित जोशी ने दिल्ली यूनिवर्सिटी से फैकल्टी ऑफ मैनेजमेंट स्टडीज में MBA किया है। उन्होंने इससे पहले दिल्ली के सेंट स्टीफंस कॉलेज से हिस्ट्री में ग्रेजुएशन किया था। मोहित साल 2014 में वर्ल्ड इकोनॉमिक फोरम दावोस के यंग ग्लोबल लीडर प्रोग्राम से भी जुड़े थे। इसके अलावा वे यंग प्रेसिडेंट ऑर्गेनाइजेशन के भी मेंबर हैं। \n",
            "टेक महिंद्रा परिवार में शामिल होने की खुशी\n",
            "जोशी ने कहा, 'टेक महिंद्रा की ग्रोथ जर्नी शानदार रही है। मुझे टेक महिंद्रा परिवार में शामिल होने की खुशी है और सभी एसोसिएट्स, पार्टनर्स और कस्टमर्स के साथ मिलकर नए मील के पत्थर हासिल करने, सकारात्मक बदलाव लाने और एक साथ आगे बढ़ने के लिए तत्पर हूं।'\n",
            "\n",
            "Generated Summary: टेक महिंद्रा के प्रेसिडेंट मोहित जोशी ने इस्तीफा दे दिया है। वे अब टेक महिंद्रा के मैनेजिंग डायरेक्टर और CEO होंगे। पिछले 22 साल से वे इंफोसिस में काम कर रहे थे। 11 मार्च, 2023 से मोहित छुट्टी पर रहेंगे और क\n",
            "Reference Summary: Infosys President Mohit Joshi Resigns, Tech Mahindra to have new MD and CEO इंफोसिस के प्रेसिडेंट मोहित जोशी ने इस्तीफा दे दिया है। मोहित अब टेक महिंद्रा के मेनेजिंग डायरेक्टर और सीईओ होंगे। मोहित जोशी जून तक इंफोसिस में काम करेंगे।\n",
            "Metrics: {'rouge1': 11.7647, 'rouge2': 0.0, 'rougeL': 11.7647, 'rougeLsum': 11.7647, 'bert_score_f1': 64.4107}\n",
            "\n",
            "---\n",
            "\n"
          ]
        },
        {
          "metadata": {
            "tags": null
          },
          "name": "stderr",
          "output_type": "stream",
          "text": [
            "Some weights of RobertaModel were not initialized from the model checkpoint at roberta-large and are newly initialized: ['roberta.pooler.dense.bias', 'roberta.pooler.dense.weight']\n",
            "You should probably TRAIN this model on a down-stream task to be able to use it for predictions and inference.\n"
          ]
        },
        {
          "metadata": {
            "tags": null
          },
          "name": "stdout",
          "output_type": "stream",
          "text": [
            "Article 4665:\n",
            "Article: सुप्रीम कोर्ट ने मंगलवार को जेल में वकीलों से मिलने का समय बढ़ाने वाली याचिका पर सुकेश चंद्रशेखर को फटकार लगाई। कोर्ट ने कहा कि आप हमें वकीलों का नाम दें, हम जेल के अधिकारियों से आपके वकीलों को जेल में रहने की अनुमति देने के लिए कह देंगे।\n",
            "जस्टिस अजय रस्तोगी और बेला एम त्रिवेदी की बेंच ने कहा कि आप जेल नियमों के अनुसार पहले ही वकीलों से मिल रहे हैं। आप कोर्ट में ये किस तरह की बातें कर रहे हैं? क्या आप जेल में विशेषाधिकार चाहते हैं।\n",
            "कोर्ट में क्या दलीलें दी गईं...\n",
            "चंद्रशेखर के वकील- मेरे मुवक्किल के खिलाफ छह शहरों में 28 मामले लंबित हैं। इन मामलों में 10 से ज्यादा वकील काम कर रहे हैं। जेल नियमों के अनुसार उन्हें वकीलों से मिलने के लिए सप्ताह में दो बार केवल 30 मिनट दिए जा रहे हैं, जो पर्याप्त नहीं है। मेरे मुवक्किल के अधिकार का उल्लंघन हो रहा है।\n",
            "सुप्रीम कोर्ट- याचिकाकर्ता ने जो मांग की है, उसकी अनुमति नहीं दी जा सकती। कैदी को उसके रिश्तेदारों या दोस्तों से हफ्ते में दो बार 30 मिनट की मुलाकात करने की अनुमति दी जा सकती है।\n",
            "4 करोड़ की धोखाधड़ी मामले में सुनवाई 13 जुलाई तक टली\n",
            "उधर, 4 करोड़ रुपए की धोखाधड़ी केस में सुकेश के खिलाफ दाखिल याचिका पर मंगलवार को सुनवाई हुई। ED ने बताया कि चार्जशीट की कॉपी और दूसरे दस्तावेज आरोपियों को दे दिए गए हैं। वहीं, सुकेश चंद्रशेखर के वकील ने दस्तावेजों की जांच के लिए समय मांगा है। मामले में अगली सुनवाई 13 जुलाई को होगी।\n",
            "सुकेश पर रजोकरी की रहने वाली महिला जपना सिंह ने 4 करोड़ रुपए की धोखाधड़ी का आरोप लगाया था। महिला का आरोप है कि सुकेश ने 2021 में जपना को लैंडलाइन नंबर से कॉल किया था और खुद को लॉ सेक्रेटरी बताया था। सुकेश ने तिहाड़ जेल में बंद उनके पति मलविंदर सिंह की सुरक्षा का हवाला देते हुए उनसे 4 करोड़ रुपए वसूले थे।\n",
            "कौन है सुकेश चंद्रशेखर?\n",
            "सुकेश चंद्रशेखर कर्नाटक के बेंगलुरु का रहने वाला है। कहा जाता है कि उसने लैविश लाइफस्टाइल जीने के लिए 17 साल की उम्र से ही लोगों को ठगना शुरू कर दिया था। बेंगलुरु में ठगी करने के बाद उसने चेन्नई और दूसरे शहरों में भी लोगों को निशाना बनाया। उसके निशाने पर टॉप पॉलिटिशियन, बिजनेसमैन से लेकर बॉलीवुड सेलिब्रिटीज रहे हैं।\n",
            "सुकेश चंद्रशेखर 2017 से मंडोली जेल में बंद है। उसे बीच में तिहाड़ भी शिफ्ट किया गया था। साल 2022 में ED ने सुकेश चंद्रशेखर और अन्य के खिलाफ 200 करोड़ रुपए के मनी लॉन्ड्रिंग मामले में चार्जशीट दाखिल की थी। आरोप के मुताबिक सुकेश ने तिहाड़ जेल में सजा काटते हुए एक कारोबारी की पत्नी से जबरन वसूली की थी।\n",
            "इस जबरन वसूली के केस में ED ने जैकलीन फर्नांडीज और नोरा फतेही को गवाह बनाया है, इसलिए जांच एजेंसी उन्हें बार-बार पूछताछ के लिए बुलाती रहती है। सुकेश, जैकलीन और नोरा के अलावा चाहत खन्ना और निक्की तंबोली को भी अपने जाल में फंसाने की कोशिश कर चुका है। हालांकि इन सभी एक्ट्रेसेस ने सुकेश के खिलाफ अपना बयान दर्ज कराया है। सबका एक ही मानना है कि सुकेश ने उनके साथ धोखाधड़ी की है।\n",
            "सुकेश चंद्रशेखर से जुड़ी अन्य खबरें भी पढ़ें...\n",
            "सुकेश ने याचिका में जज पर पक्षपात का आरोप लगाया, कोर्ट ने कहा- आरोपी को जज पर कमेंट करने का अधिकार नहीं\n",
            "दिल्ली की पटियाला हाउस कोर्ट ने महाठग सुकेश चंद्रशेखर को फटकार लगाई। सुकेश ने 200 करोड़ के मनी लॉन्ड्रिंग केस की सुनवाई कर रहे जज पर पक्षपात का आरोप लगाया था। उसने कोर्ट में एक याचिका दाखिल कर केस दूसरे जज को ट्रांसफर करने की मांग की थी। कोर्ट ने उसकी याचिका पर नाराजगी जताते हुए कहा कि आरोपी को पीठासीन अधिकारी पर कमेंट करने का अधिकार नहीं है। पढ़ें पूरी खबर...\n",
            "ठग सुकेश कैदियों को 5 करोड़ दान करना चाहता है, जेल DG को लिखा- मेरे जन्मदिन के दिन परमिशन देंगे तो खुशी होगी\n",
            "200 करोड़ की ठगी के केस में दिल्ली की मंडोली जेल में बंद सुकेश चंद्रशेखर ने जेल के डायरेक्टर जनरल को एक चिट्‌ठी लिखी। जिसमें उसने कैदियों और उनके परिवार के कल्याण के लिए 5.11 करोड़ रुपए का डिमांड ड्राफ्ट देने की परमिशन मांगी। सुकेश जिन कैदियों की भलाई के लिए पैसा देना चाहता है उनमें वे कैदी भी शामिल हैं जो अपनी जमानत बॉन्ड का भुगतान नहीं कर पाने के कारण कई साल से जेल में बंद हैं। पढ़ें पूरी खबर...\n",
            "Generated Summary: सुप्रीम कोर्ट ने मंगलवार को जेल में वकीलों से मिलने का समय बढ़ाने वाली याचिका पर सुकेश चंद्रशेखर को फटकार लगाई। कोर्ट ने कहा कि आप हमें वकीलों का नाम दें, हम जेल के अधिकारियों से आपके वकीलों को जेल में रहने की\n",
            "Reference Summary: Sukesh Chandrasekhar Money Laundering Case सुप्रीम कोर्ट ने जेल में वकीलों से मिलने का समय बढ़ाने वाली याचिका पर सुकेश चंद्रशेखर को फटकार लगाई।\n",
            "Metrics: {'rouge1': 0.0, 'rouge2': 0.0, 'rougeL': 0.0, 'rougeLsum': 0.0, 'bert_score_f1': 69.122}\n",
            "\n",
            "---\n",
            "\n"
          ]
        },
        {
          "metadata": {
            "tags": null
          },
          "name": "stderr",
          "output_type": "stream",
          "text": [
            "Some weights of RobertaModel were not initialized from the model checkpoint at roberta-large and are newly initialized: ['roberta.pooler.dense.bias', 'roberta.pooler.dense.weight']\n",
            "You should probably TRAIN this model on a down-stream task to be able to use it for predictions and inference.\n"
          ]
        },
        {
          "metadata": {
            "tags": null
          },
          "name": "stdout",
          "output_type": "stream",
          "text": [
            "Article 5134:\n",
            "Article: 16 मई से फ्रांस में कान्स फिल्म फेस्टिवल का आगाज होने जा रहा है। करीब 12 दिनों तक चलने वाले इस फेस्टिवल दुनिया भर की चुनिंदा बेहतरीन फिल्मों की स्क्रीनिंग की जाएगी। इनमें से मलेशियाई फिल्म टाइगर स्ट्रिप्स को भी इस साल फेस्टिवल में दिखाया जाएगा, जिसका डायरेक्शन अमांडा नेल ने किया है। टाइगर स्ट्रिप्स कान्स फिल्म फेस्टिवल में दिखाई जाने वाली पहली फिल्म है, जिसका डायरेक्शन एक मलेशियाई महिला ने किया है। यह वाकई मलेशियाई फिल्म इंडस्ट्री के लिए ऐतिहासिक मौका है।\n",
            "क्या है फिल्म टाइगर स्ट्रिप्स की कहानी? \n",
            "फिल्म टाइगर स्ट्रिप्स एक 12 साल की लड़की की जफान की कहानी है, जिसका किरदार चाइल्ड एक्ट्रेस जैफरीन आफरीना जैरीजल ने निभाया है। वह एक छोटे से गांव में रहती है। अचानक से उसके शरीर में गंभीर बदलाव आते हैं और वो एक शेरनी की तरह बर्ताव करने लगती है। जैसे ही यह बात स्कूल में फैलती है, जफान के सभी दोस्त उससे दूर हो जाते हैं। गांव भर में लोगों के बीच शैतानी शक्ति का डर फैल जाता है। तब एक डॉक्टर आकर गांव लोगों की मदद करता है।\n",
            "अब तक कुल चार मलेशियाई फिल्मों को कान्स फिल्म फेस्टिवल में दिखाया जा चुका है। वहीं 13 साल बाद बड़े यह पहली फिल्म है,जो इवेंट के दौरान दिखाई जाएगी।\n",
            "अनुराग कश्यप की कैनेडी, राहुल रॉय की आगरा है कान्स फिल्म फेस्टिवल का हिस्सा\n",
            "आशिकी एक्टर राहुल रॉय की फिल्म आगरा को कान्स फिल्म फेस्टिवल में वर्ल्ड प्रीमियर पर दिखाया जाएगा। इस फिल्म का डायरेक्शन कानू बहल ने किया है, वहीं इसे हिंदी फिल्म सारेगामा इंडिया लिमिटेड, UFO प्रोडक्शन और O8 फिल्म के निर्देशन में तैयार किया गया है। इसके अलावा राहुल भट्ट और सनी लियोन स्टारर फिल्म कैनेडी को भी इस फिल्म फेस्टिवल में दिखाया जाना है।\n",
            "कान्स 2023 में अनुष्का शर्मा का डेब्यू \n",
            "बॉलीवुड एक्ट्रेस अनुष्का शर्मा कान्स डेब्यू के लिए तैयार है। एक्ट्रेस मई के महीने में फ्रेंच रिवेरा जाएंगी और इस ग्रैंड इवेंट का हिस्सा होंगी। फ्रांसीसी राजदूत इमैनुएल लेनिन ने खुद प्रियंका के इस इवेंट में इवाइटेड होने की पुष्टि की है।\n",
            "अनुष्का के अलावा एक्ट्रेस शर्मिला टैगोर, ऐश्वर्या राय, विद्या बालन और दीपिका पादुकोण बतौर ज्यूरी इस खास इवेंट का हिस्सा होंगी।\n",
            "Generated Summary: अमांडा नेल ने किया है, वहीं इसे हिंदी फिल्म सारेगामा इंडिया लिमिटेड, UFO प्रोडक्शन और O8 फिल्म के निर्देशन में तैयार किया गया है। इसके अलावा राहुल भट्ट और सनी लियोन स्टारर फिल्म कैनेडी को भी\n",
            "Reference Summary: Cannes Film Festival 2023; 16 मई से फ्रांस में कान्स फिल्म फेस्टिवल का आगाज होने जा रहा है। करीब 12 दिनों तक चलने वाले इस फेस्टिवल दुनिया भर की चुनिंदा बेहतरीन फिल्मों की स्क्रीनिंग की जाएगी। इनमें से मलेशियाई फिल्म टाइगर स्ट्रिप्स को भी इस साल फेस्टिवल में दिखाया जाएगा\n",
            "Metrics: {'rouge1': 0.0, 'rouge2': 0.0, 'rougeL': 0.0, 'rougeLsum': 0.0, 'bert_score_f1': 52.6513}\n",
            "\n",
            "---\n",
            "\n"
          ]
        },
        {
          "metadata": {
            "tags": null
          },
          "name": "stderr",
          "output_type": "stream",
          "text": [
            "Some weights of RobertaModel were not initialized from the model checkpoint at roberta-large and are newly initialized: ['roberta.pooler.dense.bias', 'roberta.pooler.dense.weight']\n",
            "You should probably TRAIN this model on a down-stream task to be able to use it for predictions and inference.\n"
          ]
        },
        {
          "metadata": {
            "tags": null
          },
          "name": "stdout",
          "output_type": "stream",
          "text": [
            "Article 14940:\n",
            "Article: Indian Railways: भारतीय रेलवे ने बिहार आने-जाने वाली कई स्पेशल ट्रेनों की मियाद बढ़ा दी है। अब 26 स्पेशल ट्रेनें अब 30 जून तक चलेंगी। मध्य रेलवे ने कहा है कि अब ये ट्रेनें 31 मार्च के बजाए अब 30 जून तक चलेंगी। वहीं पूर्व मध्य रेलवे के अगले आदेश तक 7 सवारी गाड़ियां चलती रहेंगी। रेलवे के इस फैसले से पटना, कटिहार, दरभंगा, गया के साथ ही रांची, इंदौर, लखनऊ, हावड़ा, और जम्मू तक सफर करने वाले यात्रियों को फायदा मिलेगा। ये 26 ट्रेनें अब 30 जून तक चलेंगी रेलवे की तरफ से जिन स्पेशल ट्रेनों के संचालन की अवधि बढ़ाई गई है, उनमें कुल 26 ट्रेनें शामिल हैं। इनमें दरभंगा-मैसूर, गया-चेन्नै, पाटलिपुत्र-यशवंतपुर, पटना-सीटीएमएस, गया-दिल्ली, राजेंद्रनगर-अजमेर, पाटलिपुत्र-चंडीगढ़ के बीच चलने वाली ट्रेनें शामिल हैं।देखिए पूरी लिस्टट्रेन संख्यानाम02577/78दरभंगा-मैसूर02389/90गया-चैन्नै03251/52पाटलीपुत्र-यशवंतपुर03259/60पटना-सीएसटीएम02397/98गया-दिल्ली02395/96राजेंद्र नगर-अजमेर03257/58दानापुर-आनंद विहार02355/56अर्चना एक्सप्रेस03255/56पाटलिपुत्र-चंडीगढ़02352/51राजेंद्र नगर-हावड़ा03329/30धनबाद-पटना02363/64पटना-रांची03347-48बरकाकाना-सिंगरौली02741/42वास्कोडिगामा-पटना02253/54यशवंतपुर-भागलपुर09271/72पटना-बांद्रा09313/14इंदौर-पटना (दो सप्ताह में एक बार)09321/22इंदौर-पटना (साप्ताहिक)02530/29लखनऊ-पाटलिपुत्र02332-31हावड़ा-जम्मूतवी (हिमगिरी)08311/12संबलपुर-मंडुआडीह08449/50पटना-पुरी05713/14कटिहार-पटना08623/24हटिया-इस्लामपुर 08183/84 दानापुर-पटना (सुपर)अगले आदेश तक चलती रहेंगी सवारी गाड़ियांरेलवे ने एक्सप्रेस ट्रेनों के अलावा 7 सवारी गाड़ियों का संचालन भी अगले आदेश तक जारी रखने की अनुमति दी है। इस फैसले से रोजाना यात्रा करने वाले रेल यात्रियों को फायदा मिलेगा। इन सवारी गाड़ियों में झाझा-पटना, पटना-डीडीयू, कटिहार-सोनपुर, रक्सौल-पाटलिपुत्र, सहरसा-जमालपुर, दरभंगा पटना और सहरसा-पटना के बीच चलने वाली ट्रेनें शामिल हैं।झारखंड, मध्यप्रदेश वालों को भी मिलेगा फायदारेलवे की तरफ से जिन ट्रेनों के संचालन की अवधि बढ़ाई गई है उनमें झारखंड के रांची के साथ ही मध्यप्रदेश के इंदौर से चलने वाली ट्रेनें भी शामिल हैं। पटना-रांची, इंदौर-पटना के बीच चलने वाली ट्रेनों के अलावा अर्चना एक्सप्रेस की संचालन अवधि बढ़ाई गई है। वास्को डा गामा से पटना, यशवंतपुर-भागलपुर, पटना-बांद्रा, गोरखपुर-पाटलिपुत्र, हावड़ा-जम्मूतवी हिमगिरी, पटना-पुरी, कटिहार-पटना के बीच चलने वाली ट्रेन का भी संचालन अवधि 30 जून की गई है।\n",
            "Generated Summary: भारत रेलवे ने बिहार आने-जाने वाली कई स्पेशल ट्रेनों की मियाद बढ़ा दी है। अब 26 स्पेशल ट्रेनें अब 30 जून तक चलेंगी। मध्य रेलवे ने कहा है कि अब ये ट्रेनें 31 मार्च के बजाए अब 30 जून तक चलेंगी। वहीं\n",
            "Reference Summary: भारतीय रेलवे ने बिहार आने-जाने वाली कई स्पेशल ट्रेनों की मियाद बढ़ा दी है। अब 26 स्पेशल ट्रेनें अब 30 जून तक चलेंगी। मध्य रेलवे ने कहा है कि अब ये ट्रेनें 31 मार्च के बजाए अब 30 जून तक चलेंगी।\n",
            "Metrics: {'rouge1': 100.0, 'rouge2': 100.0, 'rougeL': 100.0, 'rougeLsum': 100.0, 'bert_score_f1': 92.4876}\n",
            "\n",
            "---\n",
            "\n"
          ]
        },
        {
          "metadata": {
            "tags": null
          },
          "name": "stderr",
          "output_type": "stream",
          "text": [
            "Some weights of RobertaModel were not initialized from the model checkpoint at roberta-large and are newly initialized: ['roberta.pooler.dense.bias', 'roberta.pooler.dense.weight']\n",
            "You should probably TRAIN this model on a down-stream task to be able to use it for predictions and inference.\n"
          ]
        },
        {
          "metadata": {
            "tags": null
          },
          "name": "stdout",
          "output_type": "stream",
          "text": [
            "Article 7323:\n",
            "Article: ट्रेजेडी क्वीन मीना कुमारी को गुजरे आज 51 साल हो चुके हैं। हीरो इनके साथ फिल्में करने से डरते थे कि कहीं वो फिल्म में अनदेखे न रह जाएं। रानी की तरह जिंदगी जीती थीं, बिस्तर में रोज गुलाब के फूल बिछाकर सोती थीं और इंपाला कार से घूमा करती थीं, जो उस समय किसी के पास नहीं थी। दिलीप कुमार जैसे कलाकार भी इनके सामने सहम जाते थे और मधुबाला जैसी अदाकार भी इनकी फैन थी।\n",
            "इन सबके बावजूद मीना की 38 साल की जिंदगी दर्दनाक रही। बचपन में पिता अनाथ आश्रम छोड़ आए, तो कभी पति कमाल अमरोही के जुल्मों से ये शराब की आदी हो गईं। इनके दर्द का अंदाजा इस बात से लगाया जा सकता है कि फिल्मों में रोने के लिए कभी इन्होंने ग्लिसरीन का इस्तेमाल नहीं किया। आंखों से गिरने वाला हर आंसू असली था।\n",
            "कभी पति के कहने पर उनके असिस्टेंट ने मीना को थप्पड़ मार दिया, तो कभी बुरी नजर रखने वाले डायरेक्टर ने बदला लेने के लिए इन्हें हीरो से 31 थप्पड़ पड़वाए।\n",
            "आज डेथ एनिवर्सरी पर पढ़िए पाकीजा सी मीना की डरावनी और हर मोड़ पर दुख देने वाली कहानी की 10 सबसे बड़ी ट्रेजेडी-\n",
            "बेटे की चाह रखने वाले अली बक्श के घर जब 1 अगस्त 1933 को बेटी का जन्म हुआ तो उन्हें बहुत गुस्सा आया। पहले ही एक बेटी थी और गरीबी चरम पर थी। इतनी गरीबी की अस्पताल की फीस के पैसे तक नहीं थे। तंगहाल और निराश अली बक्श बेटी को अनाथाश्रम छोड़ आए। घर आए तो पत्नी इकबाल बेगम के समझाने पर उनका दिल पिघल गया। कुछ घंटों बाद वो बेटी को वापस ले आए और नाम दिया महजबीं।\n",
            "पढ़ना चाहती थीं, गरीबी से उबरने के लिए 4 साल की उम्र से करनी पड़ी एक्टिंग\n",
            "मीना कुमारी पढ़ाई करना चाहती थीं, लेकिन गरीबी के चलते ऐसा नहीं हो सका। जब थिएटर आर्टिस्ट अली बक्श के लिए घर चलाना मुश्किल हुआ तो वो 4 साल की मीना को सेट पर ले जाने लगे। एक दिन डायरेक्टर विजय भट्ट ने उन्हें अपनी फिल्म लेदरफेस (1939) में बतौर चाइल्ड आर्टिस्ट कास्ट कर लिया। पहली फिल्म की उन्हें 25 रुपए फीस मिली। इसके बाद से ही फिल्मों में काम करते हुए महजबीं उर्फ मीना ने घर की जिम्मेदारी उठाई।\n",
            "आधा दर्जन फिल्मों में बतौर चाइल्ड आर्टिस्ट काम करने के बाद मीना को 13 साल की उम्र में बतौर हीरोइन फिल्म बच्चों का खेल में कास्ट किया गया। फिल्म रिलीज के 18 महीने बाद ही मां इकबाल बेगम के निधन से मीना बुरी तरह टूट गईं। मीना सदमे में थीं, लेकिन घर चलाने के लिए उन्हें शोक मनाने का भी समय नहीं मिल सका। सराय, पिया घर आजा, बिछड़े बलम जैसी फिल्मों से मीना को कोई खास पहचान नहीं मिल रही थी।\n",
            "50 के दशक में मीना कुमारी सबसे कामयाब और खूबसूरत एक्ट्रेस हुआ करती थीं। एक बार उन्हें बड़े निर्देशक की फिल्म मिली, जिसका बड़ा रुतबा और दबदबा था। एक दिन शूटिंग से पहले वो डायरेक्टर मीना कुमारी के मेकअप रूम में पहुंच गया। वहां लंच के लिए टेबल पहले ही रखवा दिया गया था। उस डायरेक्टर ने टीम से पहले ही कह दिया था कि वो मीना के साथ अकेले उनके मेकअप रूम में लंच करेंगे, जिससे उनसे फिल्म पर बात की जा सके।\n",
            "डायरेक्टर की गंदी नीयत और बद्तमीजी\n",
            "जैसे ही लंच शुरू हुआ तो वो डायरेक्टर टेबल के नीचे मीना कुमारी के पैर पर अपना पैर रखने लगा और हाथ करीब लाकर चूमने लगा। मीना कुमारी उसकी मंशा समझ गईं और जोर-जोर से शोर मचाने लगीं। बाहर खड़े लोग अंदर आ गए और सेट पर हंगामा हो गया। मीना कुमारी ने गुस्से में उस डायरेक्टर को पीटना शुरू कर दिया। डायरेक्टर चुप रहा और फिर सबको कहने लगा कि ये एक सीन की रिहर्सल थी। जो लोग सच्चाई जान चुके थे, उन्हें धमकी दी गई कि इस बात का जिक्र बाहर न हो, वर्ना नौकरी जाएगी।\n",
            "सरेआम पड़े थे 31 थप्पड़, किसी ने नहीं दिया सहारा\n",
            "उस समय तो डायरेक्टर खामोश रहा, लेकिन उनसे बेइज्जती का बदला लेने की ठान ली थी। कॉन्ट्रैक्ट के चलते मीना भी फिल्म नहीं छोड़ सकीं। शूटिंग शुरू हुई तो उस डायरेक्टर ने स्क्रिप्ट बदलवाते हुए मीना को थप्पड़ पड़ने का एक सीन डाल दिया। अचानक स्क्रिप्ट बदलने से हर एक्टर शॉक था, लेकिन डायरेक्टर की मनमानी के आगे किसी की नहीं चली। उस डायरेक्टर ने सीन शुरू करने से पहले कहा कि शॉट नजदीक का है, ऐसे में मीना को असली जोरदार थप्पड़ मारा जाए, जिससे रीटेक न करना पड़े।\n",
            "डायरेक्टर के एक्शन बोलते ही भारी हाथ वाले एक एक्टर ने मीना को जोरदार थप्पड़ मारा। मीना हिल गईं और उनका गाल लाल पड़ गया। डायरेक्टर ने बदला लेने की मंशा से कहा, शॉट खराब था दोबारा करना पड़ेगा। मीना कुमारी समझ चुकी थीं कि उनसे बदला लिया जा रहा है, वो खामोश रहीं और ऐसे ही चुपचाप उन्हें 31 थप्पड़ खाने पड़े। इस बात के गवाह एक्टर अनवर हुसैन थे, जिन्होंने ये किस्सा बलराज साहनी से शेयर किया था।\n",
            "1952 में कमाल अमरोही ने मीना कुमारी को फिल्म अनारकली में साइन किया था। वैसे कमाल ने मीना को 5 साल की उम्र में तब देखा था जब वो एक चाइल्ड आर्टिस्ट की तलाश में थे, लेकिन तब बात नहीं बनी थी। 19 साल की मीना कमाल अमरोही की फिल्म अनारकली की हीरोइन बनीं जरूर, लेकिन एक बड़े हादसे का शिकार होने से उन्हें अस्पताल में भर्ती होना पड़ा। कमाल अमरोही रोज फूल लेकर अस्पताल पहुंचते थे और घंटों मीना से बात करते थे। उस समय कमाल पहले ही दो शादियां कर चुके थे और मीना से दोगुनी उम्र के थे।\n",
            "नजर रखा करते थे पिता\n",
            "मीना कुमारी के पिता अली बक्श बेहद सख्त मिजाज के आदमी थे। वो मीना को खूब पाबंदियों में रखते थे। जब उन्होंने कमाल और मीना के बीच बातचीत बढ़ती देखी तो वो खुद अस्पताल में बैठने लगे। ऐसे में कमाल मीना खतों के जरिए बातचीत किया करते थे। 4 महीने तक साथ समय बिताते और बात करते हुए दोनों एक-दूसरे को चाहने लगे। मीना के पिता को जैसे ही रिश्ते की भनक लगी तो उन्होंने पाबंदी बढ़ा दी और उन्हें फिल्म अनारकली छोड़ने को कहा।\n",
            "फिजियोथैरेपी के बहाने भागकर कर ली गुपचुप शादी\n",
            "अस्पताल से निकलने के बाद मीना कुमारी की फिजियोथेरेपी हुई। मीना को अकेले घर से निकलने की भी इजाजत नहीं थी। पिता रोजाना उन्हें छोटी बहन मधु के साथ 8 बजे सुबह क्लीनिक छोड़ते और ठीक 10 बजे लेने पहुंच जाते थे। पाबंदियां बढ़ीं तो प्यार और परवान चढ़ गया। मीना जानती थीं कि पिता नही मानेंगे तो एक दिन वो थैरेपी के बहाने क्लीनिक पहुंचीं। पिता के निकलते ही कमाल आए और मीना और उनकी छोटी बहन को साथ ले जाकर निकाह कर लिया।\n",
            "वो तारीख 14 फरवरी 1952 थी, जब महज 2 घंटे में मीना-कमाल की सीक्रेट शादी हुई थी। दोनों तुरंत लौटे और पिता के साथ रोज की तरह घर आ गए। शादी के बावजूद मीना पिता के साथ ही रहती रहीं, लेकिन एक दिन राज खुल गया। पिता ने तलाक का खूब दबाव बनाया और घर में घूब हंगामा हुआ। जब मीना कुमारी ने कमाल की फिल्म दायरा साइन की तो पिता ने एक दिन उनके लिए दरवाजा ही नहीं खोला। मीना ने तुरंत गाड़ी घुमाई और कमाल के घर रहने पहुंच गईं।\n",
            "आजादी के बदले साथ रखने को राजी हुए थे कमाल\n",
            "जब मीना कमाल के घर पहुंची तो उन्होंने शर्तें रखीं। पहली शर्त किसी दूसरे डायरेक्टर की फिल्म नहीं करना। कोई लड़का घर छोड़ने नहीं आना चाहिए। शाम 6 बजे से पहले घर लौटना होगा। रिवीलिंग कपड़े नहीं पहनना होगा और कोई पुरुष उनके मेकअप रूम के अंदर नहीं आना चाहिए। मीना मान गईं और दोनों साथ रहने लगे। पिता की पाबंदियों के बाद मीना पर अब पति की पाबंदियां थीं।\n",
            "नरगिस ने सुनी थी चीखने की आवाजें\n",
            "फिल्म मैं चुप रहूंगी की शूटिंग के दौरान नरगिस और मीना कुमारी का कमरा आस-पास था। एक दिन नरगिस ने मीना के कमरों से चीखने की आवाजें सुनीं। थोड़ी देर बाद कमाल कमरे से निकलते दिखे। अगले दिन मीना कुमारी का चेहरा बेहाल था। एक बार जब साहेब बीवी और गुलाम के सेट पर मीना को घर जाने में देरी हुई तो पति के डर से उन्होंने रोते हुए शूटिंग की थी। कमाल सरेआम मीना कुमारी की बेइज्जती कर दिया करते थे और उन्हें अपशब्द कहते थे।\n",
            "शादी के 8 महीने तक मीना ने सारी शर्तें मानीं, लेकिन फिर उन्होंने विरोध किया। घर में रोज झगड़े होते जिनका अंत मारपीट से होता। एक बार तो कमाल मीना की दूसरी फिल्मों में काम करने की जिद पर राजी हो गए, लेकिन फिर शर्त रख दी कि फिल्म साइन करने से पहले वो सारी स्क्रिप्ट पढ़ेंगे।\n",
            "मीना कुमारी और कमाल की कोई संतान नहीं थी। दरअसल, मीना कुमारी मां नहीं बनना चाहती थीं। पहली बार मीना प्रेग्नेंट हुईं तो उनका मिसकैरेज हो गया था। इसके बाद मीना दो बार और प्रेग्नेंट हुईं, लेकिन दोनों बार उन्होंने बच्चा गिरा दिया, वो भी पति कमाल को बताए बिना। जैसे ही कमाल को ये बात पता चली तो उन्होंने गुस्से में मीना को जोरदार थप्पड़ मारा। मीना कुमारी के सौतेले बेटे ताजदार अमरोही ने एक इंटरव्यू में बताया कि मीना शादी के बाद भी फिल्मों की टॉप एक्ट्रेस रहना चाहती थीं, इसीलिए वो कभी बच्चा नहीं चाहती थीं, जबकि कमाल की सोच एकदम अलग थी।\n",
            "शक्की मिजाज कमाल अमरोही, मीना कुमारी पर अपने असिस्टेंट बकर अली से नजर रखवाते थे। एक दिन जब असिस्टेंट बकर अली ने देखा कि गुलजार, मीना के मेकअप रूम में गए तो उन्होंने सरेआम मीना को थप्पड़ जड़ दिया। इस भारी बेइज्जती के बाद जब मीना ने शिकायत करने पति को कॉल किया तो भी उन्हें ही बातें सुनाई गईं।\n",
            "पति का घर छोड़ बहन के साथ रहने लगीं\n",
            "असिस्टेंट के थप्पड़ से बुरी तरह टूट चुकीं मीना कुमारी ने तुरंत ही पति कमाल का घर छोड़ दिया और बहन के साथ रहने लगीं। मीना कुमारी डिप्रेशन में चली गईं, उन्हें क्रोनिक इन्सोम्निया (नींद न आने की बीमारी) हो गया। जब डॉक्टर के पास गईं तो डॉक्टर सईद तिमुर्जना ने उन्हें सलाह दी की रोजाना सोने से पहले एक ढक्कन ब्रांडी पिएं। कब वो एक ढक्कन ब्रांडी कई ग्लासों में तब्दील हो गई, किसी को नहीं पता।\n",
            "लगातार शराब का सेवन करते हुए मीना कुमारी लगातार बीमार रहने लगीं। 1968 में मीना कुमारी को लिवर सिरोसिस का पता चला। जून 1968 में ही मीना को इलाज के लिए लंदन और स्विट्डरलैंड गईं। एक महीने बाद सितंबर में वो रिकवर होकर लौटीं जरूर, लेकिन पूरी तरह ठीक नहीं हुईं। मीना को बताया जा चुका था कि उनके पास ज्यादा दिन नहीं हैं।\n",
            "लौटते ही मीना ने पहली बार कार्टर रोड, बांद्रा की लैंडमार्क बिल्डिंग की 11वीं मंजिल में अपार्टमेंट खरीदा। मीना कुमारी ने सालों पहले 1956 में पति कमाल से वादा किया था कि उनकी ड्रीम फिल्म पाकीजा में वही हीरोइन बनेंगी। बीमारी और तलाक के बावजूद मीना ने वो वादा निभाया और पाकीजा की शूटिंग पूरी की। शूटिंग के दौरान कई बार उनकी तबीयत इतनी बिगड़ी कि उन्हें सेट से ही अस्पताल ले जाया गया था। कई बार तो मीना की जगह बॉडी डबल को शूट पूरा करना पड़ता था।\n",
            "डेटॉल की बोतल में शराब छिपाकर रखती थीं मीना कुमारी\n",
            "कमाल अमरोही जानते थे कि शराब की लत से मीना की हालत बिगड़ती जा रही है, ऐसे में उन्होंने मीना को खूब समझाया। मीना ने वादा किया कि वो शराब नहीं पिएंगी। एक दिन जब कमाल अमरोही उनके घर पहुंचे तो देखा कि बाथरूम में रखी डेटॉल की बोतल में शराब भरी हुई है। मीना रोज चोरी-छिपे शराब पीती थीं।\n",
            "मौत से पहले चुकाया था मुमताज का कर्ज\n",
            "मुमताज ने मीना कुमारी के कहने पर फिल्म गोमती के किनारे में काम किया था। वैसे तो फीस 3 लाख रुपए बनती थी, लेकिन मुमताज ने फीस नहीं मांगी। जब आखिरी दिनों में मीना बहुत बीमार रहने लगीं तो उन्होंने मुमताज को घर बुलाया। उन्होंने अपने सामने चंद पेपर तैयार करवाए और मुमताज को सौंप दिए। पेपर देखकर मुमताज हैरान थीं, क्योंकि मीना ने अपना कार्टर रोड स्थित बंगला उनके नाम कर दिया था।\n",
            "पाकीजा के प्रीमियर में कमाल अमरोही के ठीक बाजू में जाकर बैठी थीं मीना\n",
            "3 फरवरी 1972 को पाकीजा फिल्म का प्रीमियर, मुंबई के मराठा मंदिर थिएटर में हुआ। मीना, कमाल के साथ ही पहुंचीं और उनके ठीक बाजू वाली कुर्सी पर बैठीं। फिल्म देखकर मीना ने कहा, मैं मान गई हूं कि मेरे पति एक मंझे हुए कलाकार हैं।\n",
            "मौत से पहले 3 दिन कोमा में थीं\n",
            "28 मार्च को मीना कुमारी को गंभीर हालत में अस्पताल में भर्ती करवाया गया, जहां वो कोमा में चली गईं। तीन दिन के इलाज के बाद उनकी 31 मार्च 1972 को मौत हो गई। मीना कुमारी की मौत पाकीजा फिल्म के लिए फायदेमेंद साबित हुई और लोग उन्हें आखिरी बार देखने थिएटर जाने लगे। कुछ समय बाद फिल्म को ब्लॉकबस्टर घोषित किया गया, लेकिन अफसोस मीना पाकीजा की कामयाबी नहीं देख सकीं।\n",
            "कमाल अमरोही के कहने पर मीना को रहमतबाद कब्रिस्तान में दफनाया गया था। मीना ने मौत से कुछ समय पहले कब्र के पत्थर पर लिखने के लिए दो लाइन लिखी थीं- राह देखा करेंगे सदियों तक, हम चले जाएंगे जहां तन्हा।\n",
            "मीना कुमारी की आखिरी फिल्म गोमती के किनारे थी, जो उनकी मौत के बाद रिलीज हुई। सावन, मीना की इतनी इज्जत करते थे कि उन्हें फिल्म में भी मीना नहीं बल्कि मीना जी नाम से क्रेडिट दिया गया था। अफसोस की मीना ये फिल्म देख नहीं सकीं। मीना की मौत के बाद सावन कई घंटों तक उनकी कब्र के पास बैठकर रोते रहे थे। कमाल अमरोही की आखिरी ख्वाहिश के अनुसार उन्हें 11 फरवरी 1993 में मीना की कब्र के ठीक बाजू वाली कब्र में दफनाया गया था।\n",
            "नरगिस ने कहा था- तुम्हें मौत मुबारक हो\n",
            "मीना कुमारी की मौत के बाद नरगिस ने उर्दू मैगजीन के लिए एक कॉलम लिखा था। इसमें उन्होंने कहा, ‘मीना तुम्हें मौत मुबारक हो। मैंने ऐसा कभी पहले नहीं कहा। आज तुम्हारी बाजी तुम्हें मौत पर मुबारकबाद दे रही है और चाहती है कि अब कभी इस दुनिया में कदम मत रखना। ये दुनिया तुम जैसे लोगों के लिए नहीं है।’\n",
            "Generated Summary: अली बक्श के साथ ही मीना कुमारी के घर पहुंचीं। वहां लंच के लिए टेबल पहले ही रखवा दिया गया था। उस डायरेक्टर ने टीम से पहले ही कह दिया था कि वो मीना के साथ अकेले उनके मेकअप रूम में\n",
            "Reference Summary: Tragedy Queen Mahjabeen Bano (Meena Kumari) Struggle Story; Why was Meena called tragedy queen? Follow Meena Kumari Death Anniversary Special Story On Dainik Bhaskar (दैनिक भास्कर)\n",
            "Metrics: {'rouge1': 0.0, 'rouge2': 0.0, 'rougeL': 0.0, 'rougeLsum': 0.0, 'bert_score_f1': -21.9436}\n",
            "\n",
            "---\n",
            "\n"
          ]
        },
        {
          "metadata": {
            "tags": null
          },
          "name": "stderr",
          "output_type": "stream",
          "text": [
            "Some weights of RobertaModel were not initialized from the model checkpoint at roberta-large and are newly initialized: ['roberta.pooler.dense.bias', 'roberta.pooler.dense.weight']\n",
            "You should probably TRAIN this model on a down-stream task to be able to use it for predictions and inference.\n"
          ]
        },
        {
          "metadata": {
            "tags": null
          },
          "name": "stdout",
          "output_type": "stream",
          "text": [
            "Article 540:\n",
            "Article: ‘स्त्री’, ‘प्रेम कोशम’, और ‘नरसिम्हा नायडू’ जैसी फिल्मों में काम कर चुकीं एक्ट्रेस फ्लोरा सैनी ने अपनी आपबीती में कहा है कि वह एक मशहूर प्रोड्यूसर के साथ एब्यूजिव रिलेशनशिप में थीं।\n",
            "फ्लोरा ने इसी साल फरवरी में अपनी निजी जिंदगी के बारे में खुलासा करते हुए कहा कि वह व्यक्ति उनके चेहरे और प्राइवेट पार्ट्स को चोट पहुंचाता था।\n",
            "इंस्टाग्राम पर अपनी आपबीती शेयर करते हुए उन्होंने बताया था कि मैं तो उसके प्यार में थी, मगर जल्द ही सब कुछ बदल गया।\n",
            "वह मुझे अक्सर बुरी तरह मारता-पीटता। मेरा फोन भी वह अपने पास रख लेता और मुझ पर एक्टिंग छोड़ने का दबाव बनाता।\n",
            "आखिर में एक शाम उसने मुझे पेट पर मुक्का मारा। इसके बाद मैं वहां से भाग गई और अपने माता-पिता के पास आ गई।\n",
            "ऐसा नहीं है कि कामयाब या अमीर महिलाओं से पार्टनर या पति की मारपीट के ऐसे वाकये सिर्फ भारत जैसे देशों में ही होते हैं। पूरी दुनिया में यह एक बड़ी समस्या बनकर उभरी है। इसके बाद भी ये कामयाब महिलाएं पिटती और सहती रहती हैं। ऐसे बुरे रिश्ते से जल्दी निकल नहीं पातीं। आइए-कामयाब अमेरिकी एक्ट्रेस रचेल वुड की भी आपबीती जान लेते हैं।\n",
            "रचेल वुड अमेरिका के मशहूर म्यूजिशियन मर्लिन मैंसन के प्यार में थीं।\n",
            "एक ब्लॉग में वह कहती हैं कि पार्टनर जब भी उन्हें अब्यूज करता तो वह गाना गाता कि मैं तुम्हें मारना चाहता हूं, तुम्हारी खोपड़ी तोड़ना चाहता हूं।\n",
            "उन्होंने बताया कि मैंसन अक्सर उनका सेलफोन चेक करता और ऑनलाइन एक्टीविटीज पर भी नजर रखता। वह उन्हें रातभर जगाकर रखता, कुछ खाने नहीं देता।\n",
            "उसने रचेल को दोस्तों और परिवार से अलग कर दिया और कहता कि ‘तुम्हारी कोई औकात नहीं है।\n",
            "अपनी पार्टनर के लिए बनाया ‘रेप रूम’, जबरन बनाता संबंध\n",
            "रचेल वुड ने बताया कि मैंसन ने घर में एक 'रेप रूम' बना रखा था। ग्रैमी अवॉर्ड के लिए नामित हो चुकीं फोबे ब्रिजर्स टीनएज में मैंसन की फैन थीं।\n",
            "एक बार फोबे अपने दोस्तों के साथ मैंसन के घर गईं तो मैंसन ने उसे एक कमरा दिखाते हुए कहा यह उसका ‘रेप रूम’ है।\n",
            "जहां वह रचेल के साथ जबरन संबंध बनाता और रात-रात भर डरा-धमकाकर यातना देता।\n",
            "रचेल ने कहा है कि मैंसन मेरी कामयाबी से बहुत जलता, जिसका नतीजा मुझे घर की चारदीवारी के भीतर भुगतना पड़ता।\n",
            "आखिरकार बड़ी मुश्किल से रचेल का मैंसन से पीछा छूटा। ब्रेकअप के बाद भी मैंसन ने 150 से ज्यादा फोन किए और मार डालने की धमकी दी।\n",
            "सोसाइटी का गणित ऐसा कि महिला हमेशा कमजोर महसूस करे\n",
            "दिल्ली में साउथ एशियन यूनिवर्सिटी में समाजशास्त्र के प्रोफेसर डॉ. देवनाथ पाठक कहते हैं कि पितृसत्तात्मक समाज ने जेंडर आधारित फर्क को समय के साथ और मजबूत बनाया है।\n",
            "पहले तो समाज या परिवार यह जताता है कि तुम लड़की हो और लड़की या महिला कितनी ही काबिल या कामयाब हो उसे पुरुष का सहारा जरूर चाहिए।\n",
            "कहने को जमाना भले बदल गया हो, मगर सोसाइटी का मूल मंत्र है, कि कोई महिला पुरुष के बगैर अधूरी है।\n",
            "यह सोच घर, स्कूल और समाज में रची-बसी है। महिला आईएएस, बिजनेसवुमन या एथलीट ही क्यों न बन जाए उसे यह महसूस कराया जाता है कि तुम अब भी कमतर हो।\n",
            "पति के बगैर उसका करियर, कामयाबी और शोहरत सब बेकार समझी जाती है। यही वजह है कि स्त्री कई समझौते करती है।\n",
            "रिश्ता निभाने की बात बचपन से महिला के मन में बिठाई जाती है\n",
            "देवनाथ पाठक कहते हैं कि ज्यादातर महिलाएं रिश्ते को ‘निभाने’ में भरोसा करती हैं। यह निभाना इसी पितृसत्ता की देन है, जो महिला के मन में बचपन से बैठा दी जाती है।\n",
            "परिवार में ही होता है महिला के चरित्र का निर्माण, जीवनभर उसी के अनुसार करती हैं बर्ताव\n",
            "जेंडर बेस्ड सोच कहती है कि पुरुषों को करियर में सफल पत्नी का आगे आना मंजूर नहीं है। रिश्ते के इस गणित में लिंगभेद को प्राकृतिक भेद माना जाता है।\n",
            "यानी पितृसत्तात्मक समाज बार-बार इस बात पर जोर देता है कि लड़की या लड़के में फर्क सामाजिक नहीं, प्राकृतिक है और यह भेद बना रहना चाहिए।\n",
            "चर्चित समाजशास्त्री लीला दुबे ने अपनी किताब में 'एंथ्रोपॉलिजकल एक्सप्लोरेशंस इन जेंडर' में बताया है कि परिवार में ही लड़कियों के चरित्र का निर्माण होता है। जीवनभर वो उसी के अनुसार बर्ताव करती रहती हैं।\n",
            "पार्टनर से अलग होने में कामयाब महिलाओं के सामने क्या होती हैं चुनौतियां\n",
            "क्लिनिकल साइकोलॉजिस्ट डॉ. प्रियंका श्रीवास्तव कहती हैं कि कोई अमीर या कामयाब महिला मार-पीट, लड़ाई-झगड़े और रोज की किचकिच वाले रिश्ते से आसानी से और जल्दी क्यों नहीं निकल पाती। इसके पीछे कई वजहें हैं।\n",
            "शादी बचाने की आस्था: कामयाब महिलाओं में से कई तो इस आस्था में यकीन करती हैं कि भले ही वे कितनी पिटें, मगर शादी बची रहनी चाहिए।\n",
            "पैसा, करियर, सोशल स्टेटस छिनने का खौफ: अमीर और कामयाब महिलाएं भी पैसों को लेकर अपने पति पर भरोसा करती हैं और उन्हें लगता है कि अलग होने पर कहीं ये पैसा या करियर उनसे छिन न जाए।\n",
            "बच्चों के पिता को खोने का डर: कुछ महिलाओं को लगता है कि अगर वे शादी तोड़ देती हैं तो बच्चे अपने पिता से वंचित हो जाएंगे। यही बच्चे बाद में इस बात को लेकर उन्हें कोसेंगे।\n",
            "परिवार के आरोप: रिश्ता टूटने पर परिवार वाले सारा आरोप महिला पर ही मढ़ देते हैं। परिवार सोचता है कि वह थोड़ा सह ले तो शादी बचाई जा सकती है।\n",
            "चोट लगने या मौत का डर: अपने बुरे पार्टनर से अलग होने वाली महिलाओं को लगता है कि अगर वे रिश्ते से अलग होंगी तो शायद मार दी जाएं या बुरी तरह चोट लग सकती है।\n",
            "संस्था ‘वुमंस एड’ के मुताबिक, ब्रिटेन में हर 4 में से एक महिला जीवन भर घरेलू हिंसा झेलती है।\n",
            "बैंकर, सेलिब्रिटी या मशहूर वकील ही क्यों न हो, सभी ने घरेलू हिंसा झेली है। इनमें और आम महिलाओं में बस फर्क यही है कि उन्हें सपोर्ट सिस्टम जल्दी और आसानी से मिल जाता है। वे खर्चीले प्राइवेट क्लिनिक में इलाज करा पाती हैं। पुलिस से फौरी तौर पर मदद मिलती है। मीडिया का ध्यान भी इन पर जाता है।\n",
            "यह एक गलतफहमी है कि अमीर या सफल महिलाएं अब्यूजिव रिलेशनशिप से जब चाहें बाहर आ सकती हैं। दरअसल, खराब रिश्ते के दौरान उनकी पैसों से जुड़ी आजादी छीन ली जाती है।\n",
            "पति-पत्नी के बीच ईगो प्रॉब्लम बनती है वजह\n",
            "मैरिज काउंसलर सुप्रिया गिरि कहती हैं कि हमारे पास कई ऐसी महिलाएं आती हैं, जो अच्छे पैसे कमा रही हैं और जो वेल सेटल्ड हैं, मगर उनके पार्टनर से रिश्ते ठीक नहीं हैं।\n",
            "कुछ तो गंभीर रूप से घरेलू हिंसा का सामना भी कर रही हैं, जहां उनके ससुरालवाले या पति उनके कमाए पैसों पर अधिकार चाहते हैं।\n",
            "वे चाहते हैं कि पति की पूरी कमाई बची रहे और घर का खर्च पत्नी ही उठाए। कुछ पीड़ित ऐसी हैं कि जिनके पति बहुत कम कमाते हैं या काम नहीं करते।\n",
            "वे अपनी कमाऊ पत्नी को शक की नजर से देखते हैं। उससे जलते भी हैं और बात-बात पर हाथ उठाते हैं।\n",
            "‘लेडीज फर्स्ट’ की सोच- महिलाओं की निगरानी करना\n",
            "अमेरिका की मशहूर उपन्यासकार एलिस वॉकर के चर्चित नॉवेल 'लाइट ऑफ माई फादर्स स्माइल' में एक किरदार आइरीन कहती है- ’क्या तुम्हें पता है कि \"लेडीज फर्स्ट\" क्यों कहा जाता है?\n",
            "दरअसल, ऐसा इसलिए है, क्योंकि शुरुआती दिनों में अगर महिलाओं को आदमी के पीछे चलने की मंजूरी दी जाती, तो उन्हें लगता कि हम भाग जाते।\n",
            "हमें सामने इसलिए रखा गया कि ताकि वो हम पर नजर रख सकें।'\n",
            "मशहूर ब्रिटिश लेखिका वर्जीनिया वुल्फ भी कह चुकी हैं- महिला को आजाद होना है तो उसके पास पैसा होना चाहिए।\n",
            "उसके पास अपना एक कमरा हो, जहां वो खुलकर सांस ले सके, लेकिन कई बार पैसा होने के बावजूद महिलाएं खुलकर सांस नहीं ले पातीं।\n",
            "दुनिया में हर तीन महिला में से एक ने सही पार्टनर की मारपीट\n",
            "संयुक्त राष्ट्र की संस्था ‘यूएन वुमन’ के मुताबिक, दुनियाभर में हर तीन में से एक महिला को मार-पीट सहनी पड़ी या उसके साथ सेक्शुअल अब्यूज होता है।\n",
            "मार-पीट करने वाले पार्टनर या पति का मकसद अपनी पत्नी या पार्टनर को अपने हिसाब से ढालना है।\n",
            "वह उसे पैसों को लेकर धमकाता है और उसे अहसास कराता है कि पत्नी उसे छोड़कर कहीं नहीं जा सकती। यह स्थिति सबसे खतरनाक होती है।\n",
            "खबर से जुड़े इस पोल में अपनी राय दें\n",
            "मारपीट के बारे में मुंह खोलने से बचती हैं महिलाएं\n",
            "कनाडा में घरेलू हिंसा की शिकार महिलाओं पर एक सर्वे हुआ, जिसके मुताबिक सर्वे में शामिल 70 फीसदी महिलाओं ने पार्टनर की मारपीट छिपा ली। ये महिलाएं अमीर-गरीब, पढ़ी-लिखी और अनपढ़ भी थीं।\n",
            "उन्हें बताया गया कि अगर वो अपने साथ हुए अन्याय के बारे में बात करेंगी तो उन्हें कई तरह के फायदे मिलेंगे।\n",
            "मगर इसके बावजूद महिलाओं ने मुंह नहीं खोला। ये एब्यूजिव रिलेशनशिप की तस्वीर है।\n",
            "पार्टनर या पति चाहता है कि महिला पूरी तरह उस पर आश्रित हो जाए\n",
            "सुप्रिया गिरि कहती हैं कि मार-पीट या लड़ाई-झगड़े करने वाला पार्टनर धीरे-धीरे अपने पार्टनर या बीवी की आजादी पर अंकुश लगाता है।\n",
            "उसकी कोशिश रहती है कि वह हर एक दिन पूरी तरह उसी पर आश्रित हो जाए।\n",
            "कई कामयाब महिलाएं यह कहती हैं कि दुनिया को नहीं पता कि उनकी शादी किन हालात से गुजरी है।\n",
            "मैं कमाती हूं, पर मेरा पैसा कब, कहां और कैसे खर्च होता है, मुझे पता नहीं चलता। वह मेरे पैसे को इसलिए काबू करता है ताकि मुझे काबू कर सके।\n",
            "मार-पीट के साथ इमोशनल टॉर्चर भी करता है पार्टनर\n",
            "विश्व स्वास्थ्य संगठन (WHO) के 10 देशों में महिलाओं की सेहत और घरेलू हिंसा को लेकर 24 हजार महिलाओं पर सर्वे किया गया।\n",
            "स्टडी के मुताबिक, 13-61 फीसदी महिलाओं को अपने पार्टनर से मार-पीट झेलनी पड़ी।\n",
            "वहीं, 4-49 फीसदी को लड़ाई-झगड़े में गंभीर चोटें लगीं। 6-59 फीसदी से यौन हिंसा हुई, जबकि 20-75 फीसदी को भावनात्मक रूप से टाॅर्चर किया गया।\n",
            "बुरे रिश्ते में डूबी रहने वालीं महिलाएं सोचतीं-शायद बदल जाए उनका पार्टनर\n",
            "साइकोलॉजिस्ट प्रियंका श्रीवास्तव कहती हैं कि महिला भले ही अच्छा कमाती हो, बिजनेसवुमन हो तो भी उसमें चिड़चिड़ापन, अवसाद, खुद पर संदेह और अपने आपको तुच्छ समझने जैसी भावनाएं इसीलिए देखने को मिलती हैं।\n",
            "मैं काउंसिलिंग के दौरान यह चीज अक्सर महसूस करती हूं। ज्यादातर महिलाएं अपने साथ हुए दुर्व्यवहार या हिंसा के बारे में शिकायत तक नहीं करतीं।\n",
            "खुद से ज्यादा महिला को इस बात की चिंता होती है कि लोग इसके बारे में क्या सोचेंगे। वह अपने करियर को दागदार होने से बचाना चाहती है।\n",
            "वह रिश्ते से नाउम्मीद तो होती है, लेकिन बाहर निकल नहीं पाती। इस उम्मीद में रहती है कि शायद उसका पार्टनर या पति एक दिन बदल जाए।\n",
            "महिलाओं के बारे में पुरानी मान्यताओं का पुनर्जन्म, हर हाल में बना रहे नारीत्व\n",
            "‘फैमिली, किनशिप एंड मैरिज इन इंडिया’ और ‘फ्रीडम एंड डेस्टिनी’ किताबों की लेखिका और दिल्ली यूनिवर्सिटी में इंस्टीट्यूट ऑफ चाइनीज स्टडीज की चेयरपर्सन पैट्रीशिया ओबेरॉय के अनुसार भारत में महिलाओं के बारे में जो भी पुरानी मान्यताएं हैं, वे नए-नए रूपों में जन्म लेती रहती हैं।\n",
            "उनका अवतार बस नया होता है, बाकी धारणाएं पुरानी होती हैं। यह माना जाता है कि महिला कितनी भी आगे क्यों न बढ़ जाए, उसके अंदर की ‘नारी’ को जिंदा रहना चाहिए।\n",
            "वह जरूरत के मुताबिक दबी-सहमी या चुप नजर आनी चाहिए। वो आवाज न उठाए। पैट्रीशिया ओबेराॅय ने भारतीय फिल्मों के पोस्टर, विज्ञापन और होर्डिंग्स में महिलाओं को दर्शाए जाने का गहराई से अध्ययन किया है।\n",
            "लेकिन क्या महिला होने का अर्थ समाज की नजरों में यह है कि उसे परिवार, रिश्ते और वर्कप्लेस में दबी, सहमी, खामोश रहना चाहिए?\n",
            "अगर समाज की सोच इसी ढर्रे पर टिकी रही तो बेटियों को पढ़ाने, बचाने, उन्हें आगे बढ़ाने का कोई फायदा नहीं।\n",
            "क्योंकि उसकी सफलताएं ही अगर उसकी मुश्किलों की वजह बनेंगी तो फिर उसकी बगावत के लिए समाज तैयार रहे जहां समाज के दिखावटी स्लोगन और नारों के अंदर छिपे छल की पोल खुल जाएगी।\n",
            "ग्राफिक्स: सत्यम परिडा\n",
            "नॉलेज बढ़ाने और जरूरी जानकारी देने वाली ऐसी खबरें लगातार पाने के लिए डीबी ऐप पर 'मेरे पसंदीदा विषय' में 'वुमन' या प्रोफाइल में जाकर जेंडर में 'मिस' सिलेक्ट करें।\n",
            "Generated Summary: महिलाओं के बारे में पुरानी मान्यताओं का पुनर्जन्म, हर हाल में बना रहे नारीत्व ‘फैमिली, किनशिप एंड मैरिज इन इंडिया’ और ‘फ्रीडम एंड डेस्टिनी’ किताबों की लेखिका और दिल्ली यूनिवर्सिटी में इंस्टीट्यूट ऑफ\n",
            "Reference Summary: पति या पार्टनर से पिटने वालीं अमीर या सफल महिलाएं अब्यूजिव रिलेशनशिप से जल्दी नहीं निकल पाती हैं। दरअसल, खराब रिश्ते के दौरान उनकी पैसों से जुड़ी आजादी छीन ली जाती है। उन्हें अपना कैरियर और रुतबा खोने का डर लगा रहता है।\n",
            "Metrics: {'rouge1': 0.0, 'rouge2': 0.0, 'rougeL': 0.0, 'rougeLsum': 0.0, 'bert_score_f1': 52.0326}\n",
            "\n",
            "---\n",
            "\n"
          ]
        },
        {
          "metadata": {
            "tags": null
          },
          "name": "stderr",
          "output_type": "stream",
          "text": [
            "Some weights of RobertaModel were not initialized from the model checkpoint at roberta-large and are newly initialized: ['roberta.pooler.dense.bias', 'roberta.pooler.dense.weight']\n",
            "You should probably TRAIN this model on a down-stream task to be able to use it for predictions and inference.\n"
          ]
        },
        {
          "metadata": {
            "tags": null
          },
          "name": "stdout",
          "output_type": "stream",
          "text": [
            "Article 11758:\n",
            "Article: श्रीनगर: जम्मू-कश्मीर के पुलवामा जिले में सुरक्षा बलों और आतंकवादियों के बीच मंगलवार को हुई मुठभेड़ में लश्कर ए तैयबा का एक आतंकवादी मारा गया। मुठभेड़ में मारे गए आतंकवादी की पहचान सुभानपुरा के निवासी ओवैस राजा के रूप में की गई है। पुलिस रिकॉर्ड के मुताबिक मारा गया आतंकवादी प्रतिबंधित संगठन लश्कर ए तैयबा का आतंकवादी था। मुठभेड़ की जगह से सुरक्षा बलों को एके-56 राइफल, तीन मैगजीन और 80 गोलियां बरामद हुई है।मुठभेड़ में लश्कर आतंकी ढेरपुलिस ने बताया कि अवंतीपुरा के गांव चरसू में एक आतंकवादी के होने की सूचना मिली थी जिसके बाद घेराबंदी और तलाशी अभियान चलाया गया। सुरक्षा बलों के संदिग्ध स्थल के पास जाते ही छिपे हुए आतंकी ने गोलीबारी शुरू कर दी जिसके बाद सुरक्षा बलों ने जवाबी फायरिंग की जिसमें लश्कर ए तैयबा एक आतंकी ढ़ेर हो गया।पुलिस हमले के कई मामले में था शामिलपुलिस ने बताया की पुलिस रिकॉर्ड के मुताबिक मारा गया आतंकी ओवैस राजा देश के प्रतिबंधित संगठन लश्कर ए तैयबा का आतंकवादी था। लश्कर ए तैयबा के ऐसे समूह का हिस्सा था जिस समूह ने पुलिस और सुरक्षा बलों पर हमले के कई किए है। सुरक्षा बलों ने इस ऑपरेशन को श्रीनगर-जम्मू राष्ट्रीय राजमार्ग के बिलकुल पास में अंजाम दिया। (भाषा)\n",
            "Generated Summary: जम्मू-कश्मीर के पुलवामा जिले में सुरक्षा बलों और आतंकवादियों के बीच मंगलवार को हुई मुठभेड़ में लश्कर ए तैयबा का एक आतंकवादी मारा गया। मुठभेड़ में मारे गए आतंकवादी की पहचान सुभानपुरा के नि\n",
            "Reference Summary: जम्मू-कश्मीर के अवंतीपोरा में मारे गए लश्कर आतंकी औवैस राजा की पहचान सुभानपोरा बिजबेहड़ा निवासी के तौर पर हुई है.\n",
            "Metrics: {'rouge1': 0.0, 'rouge2': 0.0, 'rougeL': 0.0, 'rougeLsum': 0.0, 'bert_score_f1': 59.8811}\n",
            "\n",
            "---\n",
            "\n"
          ]
        },
        {
          "metadata": {
            "tags": null
          },
          "name": "stderr",
          "output_type": "stream",
          "text": [
            "Some weights of RobertaModel were not initialized from the model checkpoint at roberta-large and are newly initialized: ['roberta.pooler.dense.bias', 'roberta.pooler.dense.weight']\n",
            "You should probably TRAIN this model on a down-stream task to be able to use it for predictions and inference.\n"
          ]
        },
        {
          "metadata": {
            "tags": null
          },
          "name": "stdout",
          "output_type": "stream",
          "text": [
            "Article 1975:\n",
            "Article: सावन महीने के अलावा भगवान शिव की पूजा और व्रत के लिए प्रदोष तिथि को बहुत खास माना जाता है। प्रदोष यानी त्रयोदशी तिथि। शनिवार को ये तिथि होने से शनि प्रदोष का संयोग बनता है। जो कि इस बार 1 जुलाई को बन रहा है।\n",
            "ग्रंथों में सावन महीने से ठीक पहले आने वाले इस प्रदोष व्रत का बहुत महत्व बताया गया है, क्योंकि इस संयोग में होने वाली शिव आराधना कई गुना फलदायी होती है।\n",
            "शास्त्रों का कहना है कि प्रदोष व्रत से भगवान शिव की कृपा जल्दी मिलती है। जिससे हर तरह के सुख, समृद्धि, भोग और ऐश्वर्य मिलता है। शादीशुदा जीवन में सुख बढ़ता है। उम्र के साथ अच्छी सेहत भी मिलती है।\n",
            "प्रदोष व्रत और पूजा की विधि\n",
            "व्रत करने वाले को सूर्योदय से पहले उठकर नहाने के बाद भगवान शिव की पूजा और ध्यान करते हुए व्रत शुरू करना चाहिए। त्रयोदशी यानी प्रदोष व्रत में भगवान शिव और देवी पार्वती की पूजा की जाती है। दिनभर बिना पानी पिए रहकर ये व्रत करने का विधान है, लेकिन सेहत संबंधी परेशानियों के चलते ऐसा न कर पाएं तो पानी पी भी सकते हैं। \n",
            "सूर्योदय से पहले उठकर भगवान शिव की बेलपत्र, गंगाजल, अक्षत, धूप, दीप सहित पूजा करें। शाम को फिर से नहाकर सफेद कपड़े पहनकर इसी तरह शिवजी की पूजा करनी चाहिए। शाम को शिव पूजा के बाद पानी पी सकते हैं।\n",
            "शनि प्रदोष है खास\n",
            "शनिदेव के गुरू भगवान शिव हैं, इसलिए शनि संबंधी दोष दूर करने और शनिदेव की शांति के लिए शनि प्रदोष का व्रत किया जाता है। संतान पाने की कामना के लिये शनि त्रयोदशी का व्रत खासतौर से सौभाग्यशाली माना जाता है। \n",
            "इस व्रत से शनि का प्रकोप, शनि की साढ़ेसाती या ढैया का अशुभ असर कम हो जाता है। शनिवार को पड़ने वाला प्रदोष व्रत धन-धान्य और हर तरह के दुखों से छुटकारा देने वाला होता है। इस दिन दशरथकृत शनि स्त्रोत का पाठ करने से शनि के अशुभ असर से बचा जा सकता है। इसके अलावा शनि चालीसा और शिव चालीसा का पाठ भी करना चाहिए।\n",
            "प्रदोष व्रत का महत्व\n",
            "सूरज डूबने के बाद और रात होने से पहले प्रदोष काल होता है। मान्यता है कि प्रदोष काल में शिव जी साक्षात शिवलिंग में प्रकट होते हैं और इसीलिए इस समय शिव का ध्यान करके उनका पूजन किया जाए तो उत्तम फल मिलता है। \n",
            "प्रदोष व्रत से चंद्रमा के अशुभ असर और दोष दूर हो जाते हैं। शरीर में मौजूद चंद्र तत्व मजबूत होता है। चंद्रमा, शरीर में मौजूद पानी और मन का स्वामी है, इसलिए चंद्रमा संबंधी दोष दूर होने से मानसिक शांति और खुशी मिलती है। शरीर का ज्यादातर हिस्सा जल है इसलिए चंद्रमा के प्रभाव से शारीरिक स्वस्थता मिलती है। शनि प्रदोष पर सुबह भगवान शिव की पूजा करनी चाहिए। इसके बाद शनिदेव का पूजन करें।\n",
            "Generated Summary: प्रदोष व्रत का महत्व सूरज डूबने के बाद और रात होने से पहले प्रदोष काल होता है। मान्यता है कि प्रदोष काल में शिव जी साक्षात शिवलिंग में प्रकट होते हैं और इसीलिए इस समय शिव का ध्यान करके उनका पूजन किया जाए\n",
            "Reference Summary: Shani Pradosh on July 1, according to Shiva Purana, fasting and worship in this yoga remove the evils, सावन महीने के अलावा भगवान शिव की पूजा और व्रत के लिए प्रदोष तिथि को बहुत खास माना जाता है। प्रदोष यानी त्रयोदशी तिथि। शनिवार को ये तिथि होने से शनि प्रदोष का संयोग बनता है।\n",
            "Metrics: {'rouge1': 0.0, 'rouge2': 0.0, 'rougeL': 0.0, 'rougeLsum': 0.0, 'bert_score_f1': 52.9579}\n",
            "\n",
            "---\n",
            "\n"
          ]
        },
        {
          "metadata": {
            "tags": null
          },
          "name": "stderr",
          "output_type": "stream",
          "text": [
            "Some weights of RobertaModel were not initialized from the model checkpoint at roberta-large and are newly initialized: ['roberta.pooler.dense.bias', 'roberta.pooler.dense.weight']\n",
            "You should probably TRAIN this model on a down-stream task to be able to use it for predictions and inference.\n"
          ]
        },
        {
          "metadata": {
            "tags": null
          },
          "name": "stdout",
          "output_type": "stream",
          "text": [
            "Article 17468:\n",
            "Article: मुंबई: प्रधानमंत्री नरेन्द्र मोदी को एक ‘जन नेता’ बताते हुए केन्द्रीय मंत्री मुख्तार अब्बास नकवी (Mukhtar Abbas Naqvi) ने शनिवार को कहा कि ‘मोदी को कोसने वाली ब्रिगेड’ (Modi bashing brigade) 2014 से प्रधानमंत्री और भारत को बदनाम करने की कोशिश कर रही है। उन्होंने कहा कि ‘इंडिया फोबिया’ से ग्रस्त लोग अब ‘इस्लामोफोबिया’ का हौआ बनाकर देश को बदनाम करने की साजिश कर रहे हैं। उन्होंने कहा कि लेकिन ऐसा करने की कोशिश करने वाले कभी भी अपने ‘नापाक मंसूबों’ में सफल नहीं होंगे।‘पीएम मोदी एक जन नेता हैं’भारतीय जनता पार्टी के वरिष्ठ नेता नकवी ने कहा कि भारत दुनिया का एकमात्र देश है जहां सभी धर्मों के अनुयायी पूर्ण धार्मिक स्वतंत्रता और संवैधानिक अधिकारों के साथ रहते हैं। उन्होंने कहा, ‘प्रधानमंत्री मोदी (Narendra Modi) एक जन नेता हैं, न कि किसी विशेष जाति, समुदाय, क्षेत्र और धर्म के नेता। इसलिए विकास के प्रति उनकी प्रतिबद्धता सभी का समावेशी सशक्तिकरण सुनिश्चित करने में सफल हो रही है।’ अल्पसंख्यक मामलों के मंत्री ने कहा कि प्रधानमंत्री ने जाति, समुदाय और सांप्रदायिकता की बाधाओं को तोड़कर आम लोगों को देश की प्रगति के प्रयासों में साझेदार बनाया है।‘2014 से कोशिश में लगे हैं ये लोग’नकवी ने कहा, ‘प्रधानमंत्री मोदी को कोसने वाली ब्रिगेड 2014 से उन्हें (मोदी) और भारत को बदनाम करने की कोशिश कर रही है। लेकिन ऐसा करने की कोशिश करने वाले कभी भी अपने ‘नापाक मंसूबों’ में सफल नहीं होंगे। सद्भाव और भाईचारे की हमारी ताकत देश के खिलाफ किसी भी सांप्रदायिक साजिश को असफल कर देगी। भारत दुनिया का एकमात्र देश है जहां सभी धर्मों के अनुयायी पूर्ण धार्मिक स्वतंत्रता और संवैधानिक अधिकारों के साथ रहते हैं। ‘अनेकता में एकता’ भारत को ‘एक भारत, श्रेष्ठ भारत’ बनाती है।’‘संविधान मौलिक कर्तव्यों का संदेश है’नकवी ने कहा, ‘हमारा संविधान मौलिक अधिकारों के साथ-साथ मौलिक कर्तव्यों का एक संदेश है। हमारी संवैधानिक प्रतिबद्धता भारत के सांप्रदायिक एवं सामाजिक सद्भाव और शांतिपूर्ण सह-अस्तित्व के ताने-बाने को बिगाड़ने संबंधी किसी भी साजिश की अनुमति नहीं देगी।’\n",
            "Generated Summary: प्रधानमंत्री नरेन्द्र मोदी को एक ‘जन नेता’ बताते हुए केन्द्रीय मंत्री मुख्तार अब्बास नकवी (Mukhtar Abbas Naqvi) ने शनिवार को कहा कि ‘मोदी को कोसने वाली ब्रिगेड’ (Modi bashing brigade) 2014 से प्रधानमंत्री और भारत को बदनाम करने\n",
            "Reference Summary: नकवी ने कहा कि भारत दुनिया का एकमात्र देश है जहां सभी धर्मों के अनुयायी पूर्ण धार्मिक स्वतंत्रता और संवैधानिक अधिकारों के साथ रहते हैं।\n",
            "Metrics: {'rouge1': 0.0, 'rouge2': 0.0, 'rougeL': 0.0, 'rougeLsum': 0.0, 'bert_score_f1': 46.3146}\n",
            "\n",
            "---\n",
            "\n"
          ]
        },
        {
          "metadata": {
            "tags": null
          },
          "name": "stderr",
          "output_type": "stream",
          "text": [
            "Some weights of RobertaModel were not initialized from the model checkpoint at roberta-large and are newly initialized: ['roberta.pooler.dense.bias', 'roberta.pooler.dense.weight']\n",
            "You should probably TRAIN this model on a down-stream task to be able to use it for predictions and inference.\n"
          ]
        },
        {
          "metadata": {
            "tags": null
          },
          "name": "stdout",
          "output_type": "stream",
          "text": [
            "Article 17505:\n",
            "Article: लखनऊ। कोरोना वायरस वैक्सीन Covidshield को पुणे से देश के 13 अलग-अलग शहरों को भेज दिया गया है और इन शहरों में उत्तर प्रदेश की राजधानी लखनऊ भी है। लखनऊ में भी आज वैक्सीन पहुंचने वाली है। इंडिया टीवी को मिली जानकारी के मुताबिक लखनऊ में वैक्सीन शाम 4 बजे के करीब पहुंचेगी। मिली जानकारी के मुताबिक एयरलाइन कंपनी GoAir की फ्लाइट से शाम 4 बजे के करीब वैक्सीन लखनऊ एयरपोर्ट पर लैंड करेगी।पुणे से वैक्सीन को 13 शहरों में भेजा जा चुका है और दिल्ली, अहमदाबाद, बेंगलुरू में वैक्सीन लैंड भी कर चुकी है, करनाल जाने वाली वैक्सीन भी दिल्ली पहुंच गई है। वहीं दिल्ली में इस्तेमाल होने वाली वैक्सीन को दिलशाद गार्डन में स्थित राजीव गांधी सुपर स्पैशिएलिटी अस्पताल में रखा जाएगा। दिल्ली पुलिस की तरफ से कहा गया है कि वैक्सीन को केंद्र तक पहुंचाने के लिए ग्रीन कॉरिडोर बनाया जाएगा ताकि बिना विलंब वैक्सीन केंद्र तक पहुंच सके।स्पाइस जेट के चेयरमैन और मनेजिंग डायरेक्टर अजय सिंह ने कहा-'यह बताते हुए खुशी हो रही है कि स्पाइस जेट विमान कोरोना वैक्सीन की पहली खेप लेकर रवाना हो रहा है। कोविशिल्ड कोरोना वैक्सीन की पहली खेप पुणे से दिल्ली रवाना की जा रही है। पहली खेप में कुल 34 बॉक्स हैं और इनका वजन 1088 किलोग्राम है। इसे स्पाइसजेट की फ्लाइट 8937 से रवाना किया गया है। हम गुवाहाटी, कोलकाता, हैदराबाद, भुवनेश्वर, बेंगलुरु, पटना और विजयवाड़ा सहित विभिन्न भारतीय शहरों में वैक्सीन की कई खेप लेकर जाएंगे। देश के भीतर और बाहर कोरोना वायरस वैक्सीन के परिवहन के लिए स्पाइटजेट पूरी तरह तैयार और प्रतिबद्ध है। आज भारत में महामारी के खिलाफ एक लंबे और निर्णायक चरण की शुरुआत हुई है।'\n",
            "Generated Summary: कोरोना वायरस वैक्सीन Covidshield को पुणे से देश के 13 अलग-अलग शहरों को भेज दिया गया है और इन शहरों में उत्तर प्रदेश की राजधानी लखनऊ भी है। लखनऊ में भी आज वैक्सीन पहुंचने वाली है। इंडिया टीवी को मिली जान\n",
            "Reference Summary: पुणे से वैक्सीन को 13 शहरों में भेजा जा चुका है और दिल्ली, अहमदाबाद, बेंगलुरू में वैक्सीन लैंड भी कर चुकी है, करनाल जाने वाली वैक्सीन भी दिल्ली पहुंच गई है।\n",
            "Metrics: {'rouge1': 66.6667, 'rouge2': 0.0, 'rougeL': 66.6667, 'rougeLsum': 66.6667, 'bert_score_f1': 58.6197}\n",
            "\n",
            "---\n",
            "\n"
          ]
        },
        {
          "metadata": {
            "tags": null
          },
          "name": "stderr",
          "output_type": "stream",
          "text": [
            "Some weights of RobertaModel were not initialized from the model checkpoint at roberta-large and are newly initialized: ['roberta.pooler.dense.bias', 'roberta.pooler.dense.weight']\n",
            "You should probably TRAIN this model on a down-stream task to be able to use it for predictions and inference.\n"
          ]
        },
        {
          "metadata": {
            "tags": null
          },
          "name": "stdout",
          "output_type": "stream",
          "text": [
            "Article 19878:\n",
            "Article: अमेठी (उत्तर प्रदेश): उत्तर प्रदेश के अमेठी जिले में 25 वर्षीय महिला ने अपनी ढाई साल बच्ची की फांसी लगाकर कथित तौर पर हत्या करने के बाद फंदे पर लटककर खुदकुशी कर ली। पुलिस सूत्रों ने बृहस्पतिवार को बताया कि अमेठी जिले के शिवरतन गंज क्षेत्र में सुशीना बानू (25) और उसकी ढाई वर्षीय पुत्री कनीज फातिमा के शव सुबह फांसी से लटकते पाए गए।उन्होंने बताया कि प्रथम दृष्टया यह पाया गया कि महिला ने पहले अपनी बेटी को फांसी दी और उसके बाद आत्महत्या कर ली। सूत्रों ने बताया कि शव को कब्जे में लेकर पोस्टमार्टम के लिए भेज दिया गया है।प्रथम दृष्टया यह आत्महत्या की घटना लग रही है लेकिन फिर भी हर पहलू से मामले की जांच की जा रही है।\n",
            "Generated Summary: उत्तर प्रदेश के अमेठी जिले में 25 वर्षीय महिला ने अपनी ढाई साल बच्ची की फांसी लगाकर कथित तौर पर हत्या करने के बाद फंदे पर लटककर खुदकुशी कर ली।\n",
            "Reference Summary: उत्तर प्रदेश के अमेठी जिले में 25 वर्षीय महिला ने अपनी ढाई साल बच्ची की फांसी लगाकर कथित तौर पर हत्या करने के बाद फंदे पर लटककर खुदकुशी कर ली।\n",
            "Metrics: {'rouge1': 100.0, 'rouge2': 0.0, 'rougeL': 100.0, 'rougeLsum': 100.0, 'bert_score_f1': 100.0}\n",
            "\n",
            "---\n",
            "\n"
          ]
        },
        {
          "metadata": {
            "tags": null
          },
          "name": "stderr",
          "output_type": "stream",
          "text": [
            "Some weights of RobertaModel were not initialized from the model checkpoint at roberta-large and are newly initialized: ['roberta.pooler.dense.bias', 'roberta.pooler.dense.weight']\n",
            "You should probably TRAIN this model on a down-stream task to be able to use it for predictions and inference.\n"
          ]
        },
        {
          "metadata": {
            "tags": null
          },
          "name": "stdout",
          "output_type": "stream",
          "text": [
            "Article 19807:\n",
            "Article: नई दिल्ली. कांग्रेस महासचिव प्रियंका गांधी वाड्रा ने केंद्र सरकार की टीकाकरण नीति को विफल करार देते हुए मंगलवार को आरोप लगाया कि इस सरकार की दिशाहीनता के कारण ही टीके का उत्पादन और वितरण दोनों चौपट हो गया है। उन्होंने सरकार से प्रश्न पूछने की अपनी श्रृंखला ‘जिम्मेदार कौन’ के तहत किए गए फेसबुक पोस्ट में यह दावा भी किया कि केंद्र सरकार की नीति के चलते इस वक्त देश में टीके के अलग अलग दाम हैं तथा इंटरनेट एवं दस्तावेजों से वंचित लोगों को टीका लगाने की कोई व्यवस्था नहीं की गई है।प्रियंका ने कहा, ‘‘विशेषज्ञों का मानना है कि ज़्यादा से ज़्यादा लोगों का, और जल्द टीकाकरण कोरोना वायरस को हराने के लिए ज़रूरी है। जिन देशों ने अपने यहां ज़्यादा आबादी को टीका लगवाया, उनके यहां कोविड-19 महामारी की दूसरी लहर का कम प्रभाव पड़ा। हमारे देश में दूसरी लहर, पहली लहर से 320 फीसदी ज़्यादा भयानक साबित हुई। इसके लिए जिम्मेदार कौन?’’उन्होंने आरोप लगाया, ‘‘भारत के पास चेचक, पोलियो का टीका घर-घर पहुंचाने का अनुभव है, लेकिन मोदी सरकार की दिशाहीनता ने कोविड रोधी वैक्सीन के उत्पादन और वितरण दोनों को चौपट कर दिया है।’’ कांग्रेस महासचिव ने कहा, ‘‘15 अगस्त 2020 के भाषण में (प्रधानमंत्री नरेंद्र) मोदी जी ने देश के हर एक नागरिक का टीकाकरण करने की ज़िम्मेदारी लेते हुए कहा था कि पूरा खाका तैयार है। लेकिन अप्रैल 2021 में, दूसरी लहर की तबाही के दौरान, मोदी जी ने सबको वैक्सीन देने की ज़िम्मेदारी से अपने हाथ खींचते हुए, इसका आधा भार राज्य सरकारों पर डाल दिया।’’उन्होंने दावा किया, ‘‘आज कई टीकाकरण केन्द्रों पर ताले लटके हैं एवं 18-45 साल के आयुवर्ग की आबादी को वैक्सीन लगाने का काम बहुत धीमी गति से चल रहा है।’’प्रियंका के मुताबिक, ‘‘मोदी सरकार की विफल टीकाकरण नीति के चलते अलग-अलग दाम पर टीके मिल रहे हैं। जो टीका केंद्र सरकार को 150 रुपये में मिल रहा है, वही राज्य सरकारों को 400 रुपये में और निजी अस्पतालों को 600 रुपये में मिल रहा है। टीका तो अंततः देशवासियों को ही लगेगा, तो फिर यह भेदभाव क्यों?’’ उन्होंने कहा, ‘‘अगर हम दिसम्बर 2021 तक हर हिंदुस्तानी का टीकाकरण करना चाहते हैं तो हमें प्रतिदिन 70-80 लाख लोगों को टीका लगाना पड़ेगा। लेकिन मई महीने में औसतन प्रतिदिन 19 लाख लोगों को ही टीके लगे हैं।’’\n",
            "Generated Summary: प्रधानमंत्री नरेंद्र मोदी जी ने देश के हर एक नागरिक का टीकाकरण करने की ज़िम्मेदारी लेते हुए कहा था कि पूरा खाका तैयार है। लेकिन अप्रैल 2021 में, दूसरी लहर की तबाही के दौरान, मोदी जी ने सबको वैक्सीन देने की ज़िम्मेदारी\n",
            "Reference Summary: प्रियंका गांधी ने दावा किया, ‘‘आज कई टीकाकरण केन्द्रों पर ताले लटके हैं एवं 18-45 साल के आयुवर्ग की आबादी को वैक्सीन लगाने का काम बहुत धीमी गति से चल रहा है।’’\n",
            "Metrics: {'rouge1': 0.0, 'rouge2': 0.0, 'rougeL': 0.0, 'rougeLsum': 0.0, 'bert_score_f1': 51.5542}\n",
            "\n",
            "---\n",
            "\n"
          ]
        },
        {
          "metadata": {
            "tags": null
          },
          "name": "stderr",
          "output_type": "stream",
          "text": [
            "Some weights of RobertaModel were not initialized from the model checkpoint at roberta-large and are newly initialized: ['roberta.pooler.dense.bias', 'roberta.pooler.dense.weight']\n",
            "You should probably TRAIN this model on a down-stream task to be able to use it for predictions and inference.\n"
          ]
        },
        {
          "metadata": {
            "tags": null
          },
          "name": "stdout",
          "output_type": "stream",
          "text": [
            "Article 18159:\n",
            "Article: तिरुवनंतपुरम: भारतीय जनता पार्टी की केरल इकाई के अध्यक्ष के सुरेंद्रन ने शनिवार को आरोप लगाया कि अफगानिस्तान पर तालिबान के कब्जे के बाद से राज्य की मुख्यधारा की पार्टियों में उसे समर्थन देने की होड़ लगी हुई है। उन्होंने आरोप लगाया कि पड़ोसी देश में तालिबान के सत्ता में आने के बाद से सत्तारूढ़ मार्क्सवादी कम्युनिस्ट पार्टी नीत वाम लोकतांत्रिक मोर्चा (LDF) और कांग्रेस नीत विपक्षी संयुक्त लोकतांत्रिक मोर्चा (UDF) अलग तरह की राजनीति कर रही हैं। सुरेंद्रन ने आरोप लगाया कि जिन्होंने तालिबान के समर्थन का रुख अपनाया,वे वही हैं जो 1921 में राज्य में हुए मोपला दंगों पर लीपापोती करने कोशिश कर रहे हैं।‘तालिबान का समर्थन करने के लिए पार्टियों में होड़’बीजेपी के प्रदेश अध्यक्ष ने तिरुवनंतपुरम में एक प्रेस कॉन्फ्रेंस में कहा, ‘केरल में, मुख्य धारा की पार्टियां तालिबान का समर्थन करने के लिए एक दूसरे से होड़ कर रही हैं। राज्य में नेता दूध और शहद देकर धार्मिक उग्रवाद का पोषण कर रहे हैं।’ केरल की वाम सरकार और यहां की पुलिस पर हमला करते हुए बीजेपी नेता कहा कि उनके ‘गैरजिम्मेदाराना’ रुख की वजह से राज्य में चरमपंथी शक्तियों की ताकत बढ़ रही है। उन्होंने जम्मू-कश्मीर के युवाओं की बिना लाइसेंसी हथियार के साथ राज्य में हाल में हुई गिरफ्तारी को ‘गंभीर’ करार दिया।मोपला विद्रोह पर राज्य में चल रही बहसराज्य में इस बात को लेकर बहस चल रही है कि वर्ष 1921 में राज्य के उत्तरी हिस्से में शुरु हुआ मालाबार विद्रोह उर्फ ‘मोपला विद्रोह ब्रिटिश सरकार के खिलाफ विद्रोह था या सांप्रदायिक दंगा। ऐसे में सुरेंद्रन के बयान को अहम माना जा रहा है। CPM ने इसे सामंतवादी जमींदारों के शोषण के खिलाफ सबसे संगठित विरोध करार दिया है, जबकि कांग्रेस ने इसे साम्राज्यवादी ताकतों के खिलाफ आंदोलन बताया है। इसके उलट बीजेपी और RSS ने इसे भारत में तालिबानी मानसिकता का पहला प्रदर्शन करार दिया है। बीजेपी और RSS ने वाम दलों और कांग्रेस द्वारा इसे भारतीय स्वतंत्रता संग्राम के हिस्से के रूप में देखे जाने का विरोध किया है।  /*.jw-reset-text, .jw-reset{line-height: 2em;}*/  .jw-time-tip .jw-time-chapter{display:none;}  if ('' == comscore_jw_loaded || 'undefined' == comscore_jw_loaded || undefined == comscore_jw_loaded) {var comscore_jw_loaded = 1;firstjw = document.getElementsByClassName('jwvidplayer')[0];cs_jw_script = document.createElement('script');cs_jw_script.src = 'https://sb.scorecardresearch.com/internal-c2/plugins/streamingtag_plugin_jwplayer.js';firstjw.parentNode.insertBefore(cs_jw_script, firstjw.nextSibling);  }  var jwconfig_4040301629 = {\"file\": \"https://vod-indiatv.akamaized.net/hls/2021/09/0_xh4a5xnl/master.m3u8\",\"image\": \"https://resize.indiatv.in/resize/vod/1200_-/2021/09/0_xh4a5xnl.jpg\",\"title\": \"ग्राउन्ड रिपोर्ट | फिरोजाबाद में वायरल बुखार, डेंगू से 52 लोगों की मौत\",\"height\": \"440px\",\"width\": \"100%\",\"aspectratio\": \"16:9\",\"autostart\": false,\"controls\": true,\"mute\": false,\"volume\": 100,\"floating\": false,\"sharing\": {\"code\": \"\",\"sites\": [\"facebook\",\"twitter\",\"email\"]},\"stretching\": \"exactfit\",\"primary\": \"html5\",\"hlshtml\": true,\"duration\": 277,\"advertising\": {\"client\": \"vast\",\"autoplayadsmuted\": true,\"skipoffset\": 5,\"cuetext\": \"\",\"skipmessage\": \"Skip ad in xx\",\"skiptext\": \"SKIP\",\"preloadAds\": true,\"schedule\": [{\"offset\": \"pre\",\"tag\": \"https://pubads.g.doubleclick.net/gampad/ads?iu=/8323530/Hindi_Video_Desktop_PreRoll&description_url=http%3A%2F%2Fwww.indiatv.in&tfcd=0&npa=0&sz=640x480&gdfp_req=1&output=vast&unviewed_position_start=1&env=vp&impl=s&correlator=\",\"type\": \"linear\"},{\"offset\": \"50%\",\"tag\": \"https://pubads.g.doubleclick.net/gampad/ads?iu=/8323530/Hindi_Video_Desktop_MidRoll&description_url=http%3A%2F%2Fwww.indiatv.in&tfcd=0&npa=0&sz=640x480&gdfp_req=1&output=vast&unviewed_position_start=1&env=vp&impl=s&correlator=\"},{\"offset\": \"post\",\"tag\": \"https://pubads.g.doubleclick.net/gampad/ads?iu=/8323530/Hindi_Video_Desktop_PostRoll&description_url=http%3A%2F%2Fwww.indiatv.in&tfcd=0&npa=0&sz=640x480&gdfp_req=1&output=vast&unviewed_position_start=1&env=vp&impl=s&correlator=\",\"type\": \"linear\"}]}};  var jwvidplayer_4040301629 = '';  jwsetup_4040301629();  function jwsetup_4040301629() {jwvidplayer_4040301629 = jwplayer(\"jwvidplayer_4040301629\").setup(jwconfig_4040301629);jwvidplayer_4040301629.on('ready', function () {  ns_.StreamingAnalytics.JWPlayer(jwvidplayer_4040301629, {publisherId: \"20465327\",labelmapping: \"c2=\\\"20465327\\\", c3=\\\"India TV Hindi\\\", c4=\\\"null\\\", c6=\\\"null\\\", ns_st_mp=\\\"jwplayer\\\", ns_st_cl=\\\"0\\\", ns_st_ci=\\\"0_xh4a5xnl\\\", ns_st_pr=\\\"ग्राउन्ड रिपोर्ट | फिरोजाबाद में वायरल बुखार, डेंगू से 52 लोगों की मौत\\\", ns_st_sn=\\\"0\\\", ns_st_en=\\\"0\\\", ns_st_ep=\\\"ग्राउन्ड रिपोर्ट | फिरोजाबाद में वायरल बुखार, डेंगू से 52 लोगों की मौत\\\", ns_st_ct=\\\"null\\\", ns_st_ge=\\\"News\\\", ns_st_st=\\\"ग्राउन्ड रिपोर्ट | फिरोजाबाद में वायरल बुखार, डेंगू से 52 लोगों की मौत\\\", ns_st_ce=\\\"0\\\", ns_st_ia=\\\"0\\\", ns_st_ddt=\\\"2021-09-04\\\", ns_st_tdt=\\\"2021-09-04\\\", ns_st_pu=\\\"India TV Hindi\\\", ns_st_cu=\\\"https://vod-indiatv.akamaized.net/hls/2021/09/0_xh4a5xnl/master.m3u8\\\", ns_st_ty=\\\"video\\\"\"  });});jwvidplayer_4040301629.on('all', function (r) {  if (jwvidplayer_4040301629.getState() == 'error' || jwvidplayer_4040301629.getState() == 'setupError') {jwvidplayer_4040301629.stop();jwvidplayer_4040301629.remove();jwvidplayer_4040301629 = '';jwsetup_4040301629();return;  }});jwvidplayer_4040301629.on('error', function (t) {  jwvidplayer_4040301629.stop();  jwvidplayer_4040301629.remove();  jwvidplayer_4040301629 = '';  jwsetup_4040301629();  return;});jwvidplayer_4040301629.on('mute', function (event) {  ga('send', 'event', 'JW Player Events', 'Errors', event.message);});jwvidplayer_4040301629.on('adPlay', function (event) {  ga('send', 'event', 'JW Player Events', 'Errors', event.message);});jwvidplayer_4040301629.on('adPause', function (event) {  ga('send', 'event', 'JW Player Events', 'Errors', event.message);});jwvidplayer_4040301629.on('pause', function (event) {  ga('send', 'event', 'JW Player Events', 'Errors', event.message);});jwvidplayer_4040301629.on('error', function (event) {  ga('send', 'event', 'JW Player Events', 'Errors', event.message);});jwvidplayer_4040301629.on('adBlock', function (event) {  ga('send', 'event', 'JW Player Events', 'Errors', event.message);});jwvidplayer_4040301629.on('adSkipped', function (event) {  ga('send', 'event', 'JW Player Events', 'Errors', event.message);});  }\n",
            "Generated Summary: भारतीय जनता पार्टी की केरल इकाई के अध्यक्ष के सुरेंद्रन ने शनिवार को आरोप लगाया कि अफगानिस्तान पर तालिबान के कब्जे के बाद से राज्य की मुख्यधारा की पार्टियों में उसे समर्थन देने की होड़ लगी हुई है।\n",
            "Reference Summary: केरल बीजेपी चीफ के सुरेंद्रन ने कहा कि राज्य में नेता दूध और शहद देकर धार्मिक उग्रवाद का पोषण कर रहे हैं।\n",
            "Metrics: {'rouge1': 0.0, 'rouge2': 0.0, 'rougeL': 0.0, 'rougeLsum': 0.0, 'bert_score_f1': 58.6125}\n",
            "\n",
            "---\n",
            "\n"
          ]
        },
        {
          "metadata": {
            "tags": null
          },
          "name": "stderr",
          "output_type": "stream",
          "text": [
            "Some weights of RobertaModel were not initialized from the model checkpoint at roberta-large and are newly initialized: ['roberta.pooler.dense.bias', 'roberta.pooler.dense.weight']\n",
            "You should probably TRAIN this model on a down-stream task to be able to use it for predictions and inference.\n"
          ]
        },
        {
          "metadata": {
            "tags": null
          },
          "name": "stdout",
          "output_type": "stream",
          "text": [
            "Article 14349:\n",
            "Article: लखनऊ। उत्तर प्रदेश विधानसभा के पूर्व अध्यक्ष सुखदेव राजभर का सोमवार को निधन हो गया। सुखदेव राजभर पिछले की दिनों से बीमार चल रहे थे और लखनऊ के एक निजी अस्पताल में इलाज के दौरान उनका निधन हो गया। वह वर्तमान में बीएसपी के टिकट पर आजमगढ़ की दीदारगंज सीट से विधायक थे। सुखदेव राजभर के निधन पर यूपी के सीएम योगी आदित्यनाथ और सपा के राष्ट्रीय अध्यक्ष अखिलेश यादव ने दुख व्यक्त किया है। योगी आदित्यनाथ ने ट्वीट कर कहा कि 'उत्तर प्रदेश विधान सभा के पूर्व अध्यक्ष एवं माननीय विधायक श्री सुखदेव राजभर जी का निधन अत्यंत दुःखद है। प्रभु श्री राम से प्रार्थना है कि दिवंगत आत्मा को अपने श्री चरणों में स्थान व शोकाकुल परिजनों को यह दुःख सहने की शक्ति प्रदान करें। ॐ शांति!'अखिलेश यादव ने ट्वीट कर कहा 'अत्यंत दु:खद! यूपी विधानसभा के पूर्व अध्यक्ष एवं वरिष्ठ राजनेता श्री सुखदेव राजभर जी का निधन अपूरणीय क्षति। शोक संतप्त परिवार के प्रति संवेदना, दिवंगत आत्मा को शांति दे भगवान! 'सामाजिक न्याय' को समर्पित आप का राजनीतिक जीवन सदैव प्रेरणा देता रहेगा। विनम्र श्रद्धांजलि!'कांग्रेस के प्रदेश अध्यक्ष अजय कुमार लल्लू ने भी सुखदेव राजभर के निधन पर दुख व्यक्त किया है। अजय कुमार लल्लू ने ट्वीट कर कहा कि 'पूर्व विधानसभा अध्यक्ष, विधायक श्री सुखदेव राजभर जी के निधन का समाचार दु:खद है। आप वंचित समाज के लिए समर्पित रहे, आपका जाना समाज के लिए अपूर्णीय क्षति है। परिवारजनों के प्रति मेरी गहरी संवेदनाएं। ईश्वर दिवंगत आत्मा को शांति प्रदान करें।'\n",
            "Generated Summary: उत्तर प्रदेश विधानसभा के पूर्व अध्यक्ष सुखदेव राजभर का सोमवार को निधन हो गया। सुखदेव राजभर पिछले की दिनों से बीमार चल रहे थे और लखनऊ के एक निजी अस्पताल में इलाज के दौरान उनका निधन हो गया।\n",
            "Reference Summary: उत्तर प्रदेश विधानसभा के पूर्व अध्यक्ष सुखदेव राजभर का सोमवार को निधन हो गया। सुखदेव राजभर पिछले की दिनों से बीमार चल रहे थे और लखनऊ के एक निजी अस्पताल में इलाज के दौरान उनका निधन हो गया।\n",
            "Metrics: {'rouge1': 0.0, 'rouge2': 0.0, 'rougeL': 0.0, 'rougeLsum': 0.0, 'bert_score_f1': 100.0}\n",
            "\n",
            "---\n",
            "\n"
          ]
        },
        {
          "metadata": {
            "tags": null
          },
          "name": "stderr",
          "output_type": "stream",
          "text": [
            "Some weights of RobertaModel were not initialized from the model checkpoint at roberta-large and are newly initialized: ['roberta.pooler.dense.bias', 'roberta.pooler.dense.weight']\n",
            "You should probably TRAIN this model on a down-stream task to be able to use it for predictions and inference.\n"
          ]
        },
        {
          "metadata": {
            "tags": null
          },
          "name": "stdout",
          "output_type": "stream",
          "text": [
            "Article 10756:\n",
            "Article: नई दिल्ली: केंद्रीय स्वास्थ्य मंत्रालय ने शनिवार को स्पष्ट किया कि कोवैक्सिन 2 खुराकों वाला कोरोना वायरस टीका है और हरियाणा के स्वास्थ्य मंत्री अनिल विज को सिर्फ पहली खुराक ही दी गयी थी। विज ने घोषणा की है कि वह कोरोना वायरस से संक्रमित हो गए हैं। कोवैक्सिन एक स्वदेशी संभावित टीका है जिसे भारतीय आयुर्विज्ञान अनुसंधान परिषद (आईसीएमआर) के साथ मिलकर भारत बायोटेक विकसित कर रही है। विज ने कोवैक्सिन के तीसरे चरण के परीक्षण में पहला स्वयंसेवी बनने की पेशकश की थी। संक्रमित होने की अनिल विज की घोषणा के बाद केंद्रीय स्वास्थ्य मंत्रालय ने शनिवार को कहा कि टीका की दूसरी खुराक लेने के कुछ दिन बाद ही किसी व्यक्ति में संक्रमण के खिलाफ एंटीबॉडी का निर्माण होता है। यह दो खुराकों वाला टीका है और मंत्री ने टीका की केवल एक ही खुराक ली थी। हरियाणा के स्वास्थ्य मंत्री विज ने भी कहा कि दूसरी खुराक लेने के बाद एंटीबॉडी का निर्माण होने लगता है और पहली खुराक के 28 दिनों बाद दूसरी खुराक दी जाती है। इस बीच की अवधि में कोई सुरक्षा नहीं होती। 67 वर्षीय विज को 20 नवंबर को पहली खुराक दी गयी थी। विज ने कहा कि कोविड टीका कैसे काम करता है, इस बारे में विशेषज्ञ ही ज्यादा बेहतर तरीके से जानते हैं। उन्होंने कहा, ‘‘मुझे बताया गया कि दूसरी खुराक के बाद एंटीबॉडी बनने लगती है और दूसरी खुराक पहली खुराक के 28 दिनों बाद दी जाती है। और, दूसरी खुराक के 14 दिनों बाद पूरी तरह से एंटीबॉडी बनती है। इसलिए यह पूरा चक्र 42 दिनों का होता है। इस अवधि में कोई सुरक्षा नहीं होती है।’’मंत्री से जब उनकी तबीयत के बारे में पूछा गया तो उन्होंने कहा कि उनके गले में परेशानी है, बुखार और शरीर में दर्द है। भाजपा नेता ने कहा, ‘‘लेकिन, कुल मिलाकर मैं ठीक हूं।’’ विज ने कहा कि वह कुछ दिन पहले पानीपत गए थे, जहां उन्होंने एक भाजपा नेता के साथ दो-तीन घंटे का समय व्यतीत किया था। वह भाजपा नेता भी कोरोना वायरस से संक्रमित पाए गए हैं।\n",
            "Generated Summary: केंद्रीय स्वास्थ्य मंत्रालय ने शनिवार को स्पष्ट किया कि कोवैक्सिन 2 खुराकों वाला कोरोना वायरस टीका है और हरियाणा के स्वास्थ्य मंत्री अनिल विज को सिर्फ पहली खुराक ही दी गयी थी। विज ने घोषणा की है कि वह कोरोना वायरस से सं\n",
            "Reference Summary: केंद्रीय स्वास्थ्य मंत्रालय ने शनिवार को स्पष्ट किया कि कोवैक्सिन दो खुराकों वाला कोरोना वायरस टीका है और हरियाणा के स्वास्थ्य मंत्री अनिल विज को सिर्फ पहली खुराक ही दी गयी थी।\n",
            "Metrics: {'rouge1': 0.0, 'rouge2': 0.0, 'rougeL': 0.0, 'rougeLsum': 0.0, 'bert_score_f1': 86.773}\n",
            "\n",
            "---\n",
            "\n"
          ]
        },
        {
          "metadata": {
            "tags": null
          },
          "name": "stderr",
          "output_type": "stream",
          "text": [
            "Some weights of RobertaModel were not initialized from the model checkpoint at roberta-large and are newly initialized: ['roberta.pooler.dense.bias', 'roberta.pooler.dense.weight']\n",
            "You should probably TRAIN this model on a down-stream task to be able to use it for predictions and inference.\n"
          ]
        },
        {
          "metadata": {
            "tags": null
          },
          "name": "stdout",
          "output_type": "stream",
          "text": [
            "Article 8567:\n",
            "Article: देश-विदेश में फेमस पुष्कर की होली मंगलवार को धूमधाम से खेली गई। यहां मेला स्टेडियम के पास रेतीले धोरों के बीच गुलाल उड़े, कपड़े फाड़े गए। पूरी पुष्कर नगरी होली के रंगों में रंगी नजर आई। मेला ग्राउंड के पास रेत के धोरों में फायर ब्रिगेड की गाड़ी से लोगों पर पानी की बौछार की गई।\n",
            "जैसे-जैसे दिन चढ़ता गया लोगों में जोश बढ़ता जा रहा। डीजे की धुनों पर देसी-विदेशी मेहमान झूमते रहे। एक-दूसरे को गुलाल लगाकर होली की शुभकामनाएं दीं। इजरायल, यूके, यूएसए, लंदन, अमेरिका, जापान सहित कई देशों के मेहमान होली की मस्ती में शामिल हुए। पाबंदी के बावजूद कई लोगों ने होली के दौरान कपडे़ फाडे़।\n",
            "एसपी बोले- कपड़े फाड़े तो बंद कर देंगे\n",
            "फेस्टिवल में पहुंचे एसपी चुनाराम जाट ने कहा- कोई भी अपने कपडे़ नहीं फाडे़गा। अगर ऐसा किया तो उठाकर बंद कर दिया जाएगा। होली के त्योहार की मर्यादा बनाए रखें। होली के त्योहार का आनन्द लें।\n",
            "यहां युवतियों ने भी बेखौफ होकर होली खेली। सुरक्षा के पुख्ता बंदोबस्त किए गए थे। पहले यह कार्यक्रम वराह घाट व ब्रह्म चौक में होता था। पुलिस व प्रशासन की ओर से वराह घाट चौक व ब्रह्म चौक में डीजे पार्टी की अनुमति देने से इनकार कर दिया गया था। इसके बाद पालिकाध्यक्ष कमल पाठक की पहल पर मेला ग्राउंड के पास रेत के धोरों में पार्टी के आयोजन की अनुमति मिली है।\n",
            "मेहमान बोले- बहुत अच्छा लगा\n",
            "2018 में बंद हो गई थी कपड़ा फाड़ होली\n",
            "पुष्कर में पहले कपड़ा फाड़ होली खेली जाती थी। उसकी अंतरराष्ट्रीय स्तर पर अपनी अलग पहचान थी। होली पर यहां जमकर धमाल मचता था। नगरवासियों के साथ देश के विभिन्न नगरों व महानगरों से आए युवक-युवतियों सहित विदेशी मेहमान दिल खोल कर होली खेलते थे। मुख्य बाजार की सड़कें होली के रंग में सराबोर हो जाती थीं। होली का मुख्य केंद्र वराह घाट चौक रहता था। चौक में जैसे-जैसे दिन चढ़ता जाता लोगों में जोश बढ़ता रहता था।\n",
            "डीजे पर गूंजते हिंदी एवं पाश्चात्य संगीत की धुनों पर जहां होली के रंग में रंगे देसी के साथ विदेशी झूमते रहते, वहीं एक-दूसरे के कपड़े फाड़ने की होड़ मचती। साल 2018 में पुलिस ने इस पर रोक लगा दी और इसके बाद सतरंगी होली का आयोजन किया जाने लगा।\n",
            "आज होंगे ये आयोजन\n",
            "शाम 6:30 बजे गऊ घाट पर महा आरती होगी। मेला मैदान में शाम 7 बजे आतिशबाजी होगी। बॉलीवुड गायक अमित त्रिवेदी अपनी प्रस्तुति मेला मैदान में देंगे।\n",
            "सोमवार को 1.25 लाख दिए एक साथ जलाए\n",
            "इससे पहले सोमवार को फेस्टिवल के तीसरे दिन 52 घाटों को सवा लाख दीपों से सजाया गया था। इससे पहले शाम 4 से 6.30 बजे तक ब्रह्म चौक, होली का चौक और ब्रह्म वाटिका पर चंग, डफ, कच्छी घोड़ी और गैर नृत्य किया गया था। प्रसिद्ध नाथूलाल सोलंकी सरोवर के जयपुर घाट पर शाम को नगाड़ा वादन किया था।\n",
            "होली से जुड़ी ये खबरें भी पढे़ं ...\n",
            "1.25 लाख दीपों से जगमगाए पुष्कर के 52 घाट:रेतीले धोरों में कल होगी होली, डीजे की धुन पर झूमेंगे देसी-विदेशी टूरिस्ट \n",
            "पुष्कर में अंतर्राष्ट्रीय होली महोत्सव के तीसरे दिन सोमवार को 52 घाटों को सवा लाख दीपों से सजाया गया। इससे पहले शाम 4 से 6.30 बजे तक ब्रह्म चौक, होली का चौक और ब्रह्म वाटिका पर चंग, डफ, कच्छी घोड़ी और गैर नृत्य किया गया। प्रसिद्ध नाथूलाल सोलंकी सरोवर के जयपुर घाट पर शाम को नगाड़ा वादन किया। इस दौरान हेलिकॉप्टर जॉय राइड की शुरुआत भी की गई। पूरी खबर पढ़ने के लिए करें क्लिक\n",
            "पुष्कर में होली खेलने के लिए पहुंचे विदेशी पर्यटक:महाआरती के बार शुरू चार दिन का फेस्टिवल; बॉलीवुड सिंगर करेंगे परफॉर्म\n",
            "पुष्कर में 4 दिवसीय अन्तर्राष्ट्रीय होली महोत्सव की शनिवार शाम पुष्कर सरोवर के ब्रह्मघाट पर महाआरती से शुरुआत हुई। राजस्थान पर्यटन विकास निगम (आरटीडीसी) के अध्यक्ष धर्मेंद्र राठौड़ ने महाआरती की। इसके बाद ब्रह्मा मंदिर स्थित ब्रह्म वाटिका एम्फी थियेटर में भजन संध्या हुई। इसमें प्रतिष्ठित शास्त्रीय गायिका विद्या शाह ने प्रस्तुति दी। पूरी खबर पढ़ने के लिए करें क्लिक\n",
            "मुंह में जलती लकड़ी लेकर ऊंटों ने दिखाए करतब:पुष्कर में होली महोत्सव, IG-SP ने ऊंट पर किया डांस\n",
            "पुष्कर में अंतरराष्ट्रीय होली महोत्सव के दूसरे दिन रविवार को ऊंट पर एसपी चुनाराम जाट और आईजी रूपेन्द्र सिंह ने डांस किया। शाम करीब चार बजे मेला ग्राउंड में कैमल शो की शुरुआत हुई। देर शाम तक ऊंट से संबंधित तमाम प्रतियोगिताएं कराई गईं। इसका टूरिस्ट ने खूब आनंद उठाया। पूरी खबर पढ़ने के लिए करें क्लिक\n",
            "Generated Summary: पुष्कर में अंतरराष्ट्रीय होली महोत्सव के तीसरे दिन सोमवार को 52 घाटों को सवा लाख दीपों से सजाया गया। इससे पहले शाम 4 से 6.30 बजे तक ब्रह्म चौक, होली का चौक और ब्रह्म वाटिका पर चंग, डफ, क\n",
            "Reference Summary: Rajasthan Ajmer (Pushkar) International Holi Mahotsav 2023 - अजमेर सहित जिले भर में होली खेली जा रही है। पुष्कर में इंटरनेशनल होली फेस्टिवल-2023 का आज लास्ट डे है। यहां परंपरागत होली मंगलवार को मेला स्टेडियम से सटे रेतीले धोरों में खेली जा रही है।\n",
            "Metrics: {'rouge1': 0.0, 'rouge2': 0.0, 'rougeL': 0.0, 'rougeLsum': 0.0, 'bert_score_f1': 47.4932}\n",
            "\n",
            "---\n",
            "\n"
          ]
        },
        {
          "metadata": {
            "tags": null
          },
          "name": "stderr",
          "output_type": "stream",
          "text": [
            "Some weights of RobertaModel were not initialized from the model checkpoint at roberta-large and are newly initialized: ['roberta.pooler.dense.bias', 'roberta.pooler.dense.weight']\n",
            "You should probably TRAIN this model on a down-stream task to be able to use it for predictions and inference.\n"
          ]
        },
        {
          "metadata": {
            "tags": null
          },
          "name": "stdout",
          "output_type": "stream",
          "text": [
            "Article 10880:\n",
            "Article: नयी दिल्ली: रक्षा मंत्री राजनाथ सिंह ने बृहस्पतिवार को कहा कि भारत अपने सैन्य उपकरणों की जरुरतों को पूरा करने के लिए विदेशी सरकारों और विदेशी आपूर्तिकर्ताओं के ऊपर निर्भर नहीं रह सकता और रक्षा क्षेत्र में आत्मनिर्भता अन्य क्षेत्र से कहीं अधिक महत्वपूर्ण है। सिंह ने यह बात सार्वजनिक क्षेत्र के कई रक्षा उपक्रमों और आयुध निर्माणी बोर्ड द्वारा लाए गए कई नए उत्पादों को लांच करते हुए की।सिंह ने कहा, ‘‘किसी भी राष्ट्र के विकास के लिए सुरक्षा पहली प्राथमिकता है। यह हम सभी जानते हैं कि जो राष्ट्र अपनी रक्षा करने में सक्षम हैं, वे वैश्विक स्तर पर अपनी मजबूत छवि बनाने में सफल रहे हैं।’’ उन्होंने कहा, ‘‘हम अपनी रक्षा जरूरतों को पूरा करने के लिए विदेशी सरकारों, विदेशी आपूर्तिकर्ताओं और विदेशी रक्षा उत्पादों पर निर्भर नहीं हो सकते हैं। यह मजबूत और आत्मनिर्भर भारत के उद्देश्यों और भावनाओं के अनुकूल नहीं है।’’ सिंह ने कहा, ‘‘हमें न केवल अपने राष्ट्रीय हितों की पूर्ति सुनिश्चित करने में सक्षम होना चाहिए बल्कि जरूरत के समय अन्य लोगों की भी मदद करने में सक्षम होना चाहिए। रक्षा क्षेत्र में आत्मनिर्भरता किसी भी अन्य क्षेत्र की तुलना में कहीं अधिक महत्वपूर्ण है।’’ हथियार प्रणालियों की आयात सूची में वर्ष वार आधार पर कमी करने के निर्णय की सबसे पहले घोषणा वित्त मंत्री निर्मला सीतारमण द्वारा मई में की गई थी, जब उन्होंने रक्षा विनिर्माण क्षेत्र के सुधार के उपाय पेश किये थे।\n",
            "Generated Summary: रक्षा मंत्री राजनाथ सिंह ने बृहस्पतिवार को कहा कि भारत अपने सैन्य उपकरणों की जरुरतों को पूरा करने के लिए विदेशी सरकारों और विदेशी आपूर्तिकर्ताओं के ऊपर निर्भर नहीं रह सकता और रक्षा क्षेत्र में आत्मनिर्भता अन्य क्षेत्र से क\n",
            "Reference Summary: रक्षा मंत्री राजनाथ सिंह ने बृहस्पतिवार को कहा कि भारत अपने सैन्य उपकरणों की जरुरतों को पूरा करने के लिए विदेशी सरकारों और विदेशी आपूर्तिकर्ताओं के ऊपर निर्भर नहीं रह सकता और रक्षा क्षेत्र में आत्मनिर्भता अन्य क्षेत्र से कहीं अधिक महत्वपूर्ण है।\n",
            "Metrics: {'rouge1': 0.0, 'rouge2': 0.0, 'rougeL': 0.0, 'rougeLsum': 0.0, 'bert_score_f1': 95.7476}\n",
            "\n",
            "---\n",
            "\n"
          ]
        },
        {
          "metadata": {
            "tags": null
          },
          "name": "stderr",
          "output_type": "stream",
          "text": [
            "Some weights of RobertaModel were not initialized from the model checkpoint at roberta-large and are newly initialized: ['roberta.pooler.dense.bias', 'roberta.pooler.dense.weight']\n",
            "You should probably TRAIN this model on a down-stream task to be able to use it for predictions and inference.\n"
          ]
        },
        {
          "metadata": {
            "tags": null
          },
          "name": "stdout",
          "output_type": "stream",
          "text": [
            "Article 7625:\n",
            "Article: सिंगर सोनू निगम ने बीती रात 'संगीत कला केन्द्र' की 50वीं एनिवर्सरी में परफॉर्म किया है। इवेंट से जुड़ा एक वीडियो सोशल मीडिया पर सामने आया, जिसमें सोनू स्टेज में जाने से पहले मंच के पैर छूते हुए नजर आए। ये वीडियो सोशल मीडिया पर जमकर वायरल हो रहा है। इस वीडियो को देखने के बाद सोशल मीडिया यूजर्स काफी इम्प्रेस हुए।\n",
            "रणबीर कपूर को लगाया गले \n",
            "सोनू के इस वीडियो में पहले वह रणबीर कपूर से मिलते हुए नजर आए। इस दौरान दोनों ने एक दूसरे को गले लगाया, फिर सिंगर परफॉर्म करने के लिए जब सेट की तरफ आगे बढ़े तो उन्होंने प्रणाम करके एंट्री ली।\n",
            "सोनू के पिता के घर हुई थी 72 लाख रुपए की चोरी\n",
            "सिंगर सोनू निगम के पिता अगम कुमार निगम के घर से बीते दिनों 72 लाख रुपए की चोरी हुई थी, जिसकी शिकायत उन्होंने मुंबई के ओशिवारा पुलिस स्टेशन ने दर्ज करवाई थी। इस वारदात को उनके पुराने ड्राइवर ने अंजाम दिया है। जानकारी के मुताबिक,ड्राइवर ने डुप्लीकेट चाबी से अलमारी का लॉकर खोलकर चोरी की है। वहीं ड्राइवर को गिरफ्तार कर लिया गया है। पूछताछ में आरोपी ने चोरी करने की बात कबूल ली और उसकी निशानदेही पर पुलिस ने कोल्हापुर से चोरी के 70 लाख रुपए बरामद कर लिए हैं।\n",
            "Generated Summary: सिंगर सोनू निगम ने बीती रात 'संगीत कला केन्द्र' की 50वीं एनिवर्सरी में परफॉर्म किया है। इवेंट से जुड़ा एक वीडियो सोशल मीडिया पर सामने आया, जिसमें सोनू स्टेज में जाने से पहले मंच के पैर छूते हु\n",
            "Reference Summary: सोनू निगम ने छुए मंच के पैर, Performed at Sangeet Kala Kendra's 50th anniversary, fans praised after watching the video\n",
            "Metrics: {'rouge1': 0.0, 'rouge2': 0.0, 'rougeL': 0.0, 'rougeLsum': 0.0, 'bert_score_f1': 23.0294}\n",
            "\n",
            "---\n",
            "\n"
          ]
        },
        {
          "metadata": {
            "tags": null
          },
          "name": "stderr",
          "output_type": "stream",
          "text": [
            "Some weights of RobertaModel were not initialized from the model checkpoint at roberta-large and are newly initialized: ['roberta.pooler.dense.bias', 'roberta.pooler.dense.weight']\n",
            "You should probably TRAIN this model on a down-stream task to be able to use it for predictions and inference.\n"
          ]
        },
        {
          "metadata": {
            "tags": null
          },
          "name": "stdout",
          "output_type": "stream",
          "text": [
            "Article 8621:\n",
            "Article: कांग्रेस के पूर्व अध्यक्ष राहुल गांधी इन दिनों ब्रिटेन के दौरे पर हैं। राहुल गांधी ने सोमवार को लंदन में हाउस ऑफ पार्लियामेंट के परिसर में ब्रिटिश सांसदों से बातचीत की। उन्होंने कहा कि भारतीय संसद में विपक्षी नेताओं के माइक्रोफोन बंद कर दिए जाते हैं। वहां विपक्ष का दमन हो रहा है।\n",
            "ब्रिटेन में अपोजीशन लेबर पार्टी के भारतीय मूल के सांसद वीरेंद्र शर्मा ने पार्लियामेंट के ग्रैंड कमेटी रूम में राहुल गांधी के लिए एक कार्यक्रम आयोजित किया। इस कार्यक्रम में राहुल ने अपने भारत जोड़ो यात्रा के अनुभवों को भी शेयर किया।\n",
            "राहुल बोले- भारत में विपक्ष का दमन किया जा रहा है\n",
            "राहुल कार्यक्रम में जिस माइक्रोफोन का इस्तेमाल कर रहे थे, वह खराब था। राहुल ने जानबूझकर इसी माइक में बोलना शुरू किया। उन्होंने कहा कि भारत में हमारे माइक खराब नहीं हैं, वे काम कर रहे हैं, लेकिन आप उन्हें चालू नहीं कर सकते। जब मैंने भारतीय संसद में अपनी बात रखने की कोशिश की है, तो ऐसा मेरे साथ कई बार हुआ है। राहुल ने कहा कि भारत में विपक्ष का दमन किया जा रहा है।\n",
            "नोटबंदी और GST पर चर्चा की इजाजत नहीं \n",
            "कार्यक्रम में राहुल ने नोटबंदी का भी जिक्र किया। उन्होंने कहा कि भारत में नोटबंदी एक विनाशकारी फाइनेंशियल डिसीजन था, लेकिन हमें इस पर चर्चा करने की इजाजत नहीं थी। यहां तक की हमें GST पर भी चर्चा नहीं करने दी जाती है। चीनी सैनिकों के भारतीय इलाके में प्रवेश करने के मामले में चर्चा करने की भी हमें अनुमति नहीं थी। ऐसे में हमें एक घुटन महसूस होती है।\n",
            "भारतीय लोकतंत्र कमजोर हुआ, तो दुनिया कमजोर हो जाएगी\n",
            "समारोह में राहुल गांधी ने कहा कि भारत में लोकतंत्र एक वैश्विक सार्वजनिक अच्छाई है। भारत काफी बड़ा है, अगर भारत में लोकतंत्र को कमजोर किया जाता है, तो यह पूरी दुनिया में कमजोर हो जाता है। भारत का लोकतंत्र अमेरिका और यूरोप के आकार का तीन गुना है और अगर यह लोकतंत्र टूट जाता है, तो यह पूरे विश्व में लोकतंत्र के लिए एक बड़ा झटका होगा।\n",
            "चैथम हाउस में बोले राहुल- कांग्रेस का अंत हो गया, ऐसा सोचना बेतुका खयाल है\n",
            "सोमवार शाम को राहुल ने चैथम हाउस में बातचीत के सेशन में भाग लिया। यहां उन्होंने कहा कि भाजपा को लगता है कि वह भारत में हमेशा के लिए सत्ता में बनी रहेगी, लेकिन ऐसा नहीं है। और ये कहना कि कांग्रेस का अंत हो गया है, ये बेतुका खयाल है। भाजपा के 10 साल शासन से पहले कांग्रेस 10 साल सत्ता में रही है। अगर आप इसे ठीक से देखें तो आजादी से लेकर अब तक कांग्रेस पार्टी ने ज्यादा समय तक देश संभाला है।\n",
            "RSS एक सीक्रेट सासाइटी जैसी, जिसने सारे इंस्टीट्यूशंस पर कब्जा कर लिया है \n",
            "राहुल ने राष्ट्रीय स्वयंसेवी संघ (RSS) को लेकर कहा, 'यह एक सीक्रेट सोसाइटी जैसी है, जो फासीवादी है। इस संस्था ने देश के तकरीबन सभी इंस्टीटयूशंस पर कब्जा कर लिया है। BJP इसी संस्था का हिस्सा है। उसका मकसद रहता है चुनाव का इस्तेमाल करके सत्ता में आना और फिर लोकतंत्र को दरकिनार कर देना।'\n",
            "उन्होंने कहा, 'मैं यह देखकर बहुत हैरान हूं कि RSS ने कैसे इतने संस्थानों पर कब्जा किया है। प्रेस, ज्यूडिशियरी, पार्लियामेंट, इलेक्शन कमीशन, सभी इंस्टीट्यूशंस उसके दबाव और डर में हैं। ऐसे में विपक्ष को कुछ बोलने नहीं दिया जाता है। ऐसे में लोगों तक पहुंचने के लिए हमने भारत जोड़ो यात्रा निकाली।'\n",
            "प्रवासी भारतीयों से बोले राहुल- भारत खुले विचारों वाला देश था, अब नहीं रहा\n",
            "राहुल गांधी ने रविवार को लंदन के हाउंस्लो में 1500 प्रवासी भारतीयों के बीच स्पीच दी। यहां उन्होंने कहा कि हमारा देश और खुले विचारों वाला देश है। एक ऐसा देश जहां हम अपने ज्ञान को गर्व के साथ देखते हैं। एक-दूसरे का हम सम्मान करते हैं। अब यह सब तबाह हो गया है। आप मीडिया में भी इसे देख सकते हैं। इसके बाद ही हमने भारत जोड़ो यात्रा करने की ठानी।\n",
            "उन्होंने कहा, 'मुझे बड़ा अजीब लगता है। एक भारतीय लीडर कैंब्रिज में अपनी बात कह सकता है। हार्वर्ड में अपनी बात कह सकता है, लेकिन भारतीय यूनिवर्सिटी में वह अपनी बात नहीं रख सकता है। विपक्ष किसी मुद्दे पर चर्चा करे, सरकार ऐसा नहीं होने देती। यह वो भारत नहीं है, जिसे हम कभी जानते थे।' पूरी खबर यहां पढ़ें...\n",
            "राहुल गांधी से जुड़ीं ये खबरें भी पढ़ें...\n",
            "कैंब्रिज में राहुल ने चीन की तारीफ की, कहा- चीन शांति पसंद देश\n",
            "कांग्रेस नेता राहुल गांधी ने ब्रिटेन की कैंब्रिज यूनिवर्सिटी में चीन की तारीफ की। उन्होंने कहा कि चीन का इंफ्रास्ट्रक्चर देखिए, वहां रेलवे हो, एयरपोर्ट हो, सब कुछ नेचर से जुड़े हैं। चीन प्रकृति से मजबूती से जुड़ा हुआ है। वहीं, अगर हम अमेरिका की बात करें तो वह खुद को नेचर से भी बड़ा मानता है। यह बताने के लिए काफी है कि चीन को शांति पसंद है। वहां सरकार एक कॉर्पोरेशन की तरह काम करती है। पढ़ें पूरी खबर..\n",
            "लर्निंग टु लिसन यानी सुनने की कला पर भी बोले थे राहुल\n",
            "राहुल के 7 दिन के ब्रिटेन दौरे की शुरुआत 1 मार्च से हुई। उन्होंने कैंब्रिज यूनिवर्सिटी में बिजनेस स्कूल के छात्रों को संबोधित किया था। राहुल ने कहा कि हम एक ऐसी दुनिया को बनते हुए नहीं देख सकते, जो लोकतांत्रिक मूल्यों से जुड़ी हुई न हो। इसलिए, इस बारे में हमें नई सोच की जरूरत है। सुनने की कला बहुत पावरफुल होती है। दुनिया में लोकतांत्रिक माहौल को बढ़ावा देने के लिए नई सोच जरूरी है, लेकिन उसे थोपा न जाए। पढ़ें पूरी खबर...\n",
            "Generated Summary: ब्रिटेन में अपोजीशन लेबर पार्टी के भारतीय मूल के सांसद वीरेंद्र शर्मा ने पार्लियामेंट के ग्रैंड कमेटी रूम में राहुल गांधी के लिए एक कार्यक्रम आयोजित किया। इस कार्यक्रम में राहुल ने अपने भारत जोड़ो यात्रा के अनुभवों को भी शेयर किया।\n",
            "Reference Summary: Congress Leader Rahul Gandhi UK Parliament Speech Update  ब्रिटिश संसद के ग्रैंड कमेटी रूम में ब्रिटिश सांसदों, पत्रकारों, समुदाय के नेताओं और इंडियन ओवरसीज कांग्रेस के नेताओं के आगे स्पीच देते राहुल गांधी।\n",
            "Metrics: {'rouge1': 0.0, 'rouge2': 0.0, 'rougeL': 0.0, 'rougeLsum': 0.0, 'bert_score_f1': 52.8724}\n",
            "\n",
            "---\n",
            "\n"
          ]
        },
        {
          "metadata": {
            "tags": null
          },
          "name": "stderr",
          "output_type": "stream",
          "text": [
            "Some weights of RobertaModel were not initialized from the model checkpoint at roberta-large and are newly initialized: ['roberta.pooler.dense.bias', 'roberta.pooler.dense.weight']\n",
            "You should probably TRAIN this model on a down-stream task to be able to use it for predictions and inference.\n"
          ]
        },
        {
          "metadata": {
            "tags": null
          },
          "name": "stdout",
          "output_type": "stream",
          "text": [
            "Article 3781:\n",
            "Article: सरकारी नौकरी की तलाश में जुटे युवाओं के लिए हम फिर से 5 लेटेस्ट सरकारी नौकरियों की जानकारी के साथ हाजिर हैं…\n",
            "पहली नौकरी: 12वीं पास युवाओं के लिए इंडियन नेवी में अग्निवीर बनने का शानदार मौका है। कुल 1365 वैकेंसी हैं। सिलेक्शन होने पर 30 हजार रुपए मंथली सैलरी मिलेगी।\n",
            "दूसरी नौकरी: भारत इलेक्ट्रॉनिक्स लिमिटेड में 10वीं पासआउट के लिए हवलदार की 12 वैकेंसी निकली है। इसमें सिलेक्शन होने पर 20 हजार से 50 हजार रुपए तक सैलरी मिलेगी।\n",
            "तीसरी नौकरी: नवोदय विद्यालय में PGT, TGT के 321 पदों पर भर्ती निकली है। सिलेक्शन होने पर 35,750 रुपए तक हर महीना सैलरी मिलेगी।\n",
            "चौथी नौकरी: गृह मंत्रालय के अंतर्गत आने वाले इंटेलिजेंस ब्यूरो में 797 भर्तियां निकली हैं। 3 जून से आवेदन शुरू होंगे। सैलरी 30 हजार से 81 हजार रुपए हर महीने मिलेगी।\n",
            "पांचवी नौकरी: बिहार लोक सेवा आयोगा यानी BPSC में स्कूल टीचर के लिए 1,70,461 पदों पर भर्ती का नोटिफिकेशन जारी हुआ है। 15 जून से आवेदन शुरू होंगे। सिलेक्शन होने पर सैलरी 25 से 32 हजार रुपए हर महीने मिलेगी।\n",
            "आपने यहां 5 नौकरियों के बारे में जाना। आपके मन में कुछ सवाल होंगे। इसलिए आप दी गई वेबसाइट के जरिए ऑफिशियल नोटिफिकेशन को जरूर देखें। बाकी जिन नौकरियों के बारे में बताया गया है। अगर लगता है कि इससे आपके भाई-दोस्त या फिर रिश्तेदार की जरूरत पूरी होती है तो उन्हें यह जरूर भेजें।\n",
            "आखिर में हम 10 लेटेस्ट करेंट अफेयर्स के सवाल-जवाब दे रहे हैं। इन्हें रोज देखिए। हो सके तो सेव करते जाएं, ताकि आगामी परीक्षाओं में यह आपके लिए फायदेमंद साबित हों।\n",
            "\n",
            "Generated Summary: बिहार लोक सेवा आयोगा यानी BPSC में स्कूल टीचर के लिए 1,70,461 पदों पर भर्ती का नोटिफिकेशन जारी हुआ है। 15 जून से आवेदन शुरू होंगे। सिलेक्शन होने पर सैलरी 25 से 32 हजार रुपए हर महीने मिलेगी।\n",
            "Reference Summary: Sarkari Naukri 2023 Latest Sarkari Job Alert - Bharat Electronics Navodaya Vidyalaya Vacancy Eligibility And Selection Process Latest Details   सरकारी नौकरी की तलाश में जुटे युवाओं के लिए हम फिर से 5 लेटेस्ट सरकारी नौकरियों की जानकारी के साथ हाजिर हैं…\n",
            "Metrics: {'rouge1': 0.0, 'rouge2': 0.0, 'rougeL': 0.0, 'rougeLsum': 0.0, 'bert_score_f1': 35.8559}\n",
            "\n",
            "---\n",
            "\n"
          ]
        },
        {
          "metadata": {
            "tags": null
          },
          "name": "stderr",
          "output_type": "stream",
          "text": [
            "Some weights of RobertaModel were not initialized from the model checkpoint at roberta-large and are newly initialized: ['roberta.pooler.dense.bias', 'roberta.pooler.dense.weight']\n",
            "You should probably TRAIN this model on a down-stream task to be able to use it for predictions and inference.\n"
          ]
        },
        {
          "metadata": {
            "tags": null
          },
          "name": "stdout",
          "output_type": "stream",
          "text": [
            "Article 9096:\n",
            "Article: म्यामांर से सटे नगालैंड में आज विधानसभा चुनाव के लिए वोटिंग हुई। हालांकि, ये रिपोर्ट वोटिंग या चुनावी माहौल पर नहीं, बल्कि म्यांमार बॉर्डर पर बसे भारत के एक गांव के बारे में है। जहां राजा है, उसकी 7 रानियां हैं, एक महल है। राजा का बेडरूम म्यांमार में और किचन इंडिया में। राजा की रियासत के 5 गांव भारत और 30 गांव म्यांमार में हैं। दोनों देशों के 50 हजार से ज्यादा लोग उनकी प्रजा में शामिल हैं।\n",
            "इस गांव का नाम है लोंग्वा। दिल्ली से 2,367 किमी दूर। मैं इस गांव में चुनावी माहौल देखने पहुंचा था, पर यहां कहानी ही कुछ और मिल गई। मोन जिले से करीब 42 किमी दूर इस गांव तक पहुंचने के लिए बॉर्डर रोड ऑर्गेनाइजेशन (BRO) ने पक्की सड़कें बनाई हैं। घने जंगलों से होते हुए मैंने पहले मोन और फिर टोंग क्रॉस किया, फिर यहां से 14 किमी दूर भारत-म्यांमार बॉर्डर पर पहुंचा।\n",
            "फोटो लेने पर कहा- पहले राजा से इजाजत लीजिए\n",
            "लोंग्वा गांव के 70% घर भारत में और 30% म्यांमार में हैं। पूरी आबादी क्रिश्चियन है। गांव में घुसते ही ज्यादातर घरों पर मुझे BJP के झंडे नजर आए। कुछ घरों पर NCP, कांग्रेस और नगा पीपुल्स फ्रंट के बैनर और पोस्टर भी लगे थे। मैंने गांव वालों से पूछा कि यहां BJP के ज्यादा झंडे क्यों दिख रहे हैं, जवाब मिला- पोमचिंग विधानसभा सीट से BJP के टिकट पर चुनाव लड़ रहे के. कोंनगम कोनयाक इसी गांव के रहने वाले हैं।\n",
            "अब मैं गांव के अंदर था। फोटो लेने लगा तो एक आदमी ने टोक दिया। बोला- बिना इजाजत फोटो नहीं ले सकते। मैंने पूछा- किससे इजाजत लेनी है? उसने कहा- ‘अंग यानी राजा से’ यहां के लोग राजा को अंग बोलते हैं।\n",
            "मैंने पूछा- राजा कौन हैं, कहां रहते हैं? उसने गांव की सबसे ऊंची चोटी की ओर इशारा कर दिया। मैं राजा से मिलने उनके महल की तरफ चल पड़ा।\n",
            "राजा का नाम टोनीआई फवांग कोनयाक हैं। वे अपनी 7 रानियों के साथ महल में रहते हैं। मैं महल में पहुंचा, तब राजा टोनीआई फवांग कोनयाक डाइनिंग एरिया में एक साथी से बात कर रहे थे।\n",
            "‘कुर्सी भारत में खिसका लीजिए, अभी आप म्यांमार में बैठे हैं'\n",
            "किंग टोनीआई फवांग से मुलाकात हुई, तो वे टूटी-फूटी हिंदी में बोले- ‘पहली बार हिंदी मीडिया से कोई मेरे घर आया है।’ चाय पीते-पीते बात शुरू की, किंग टोनीआई फवांग ने मजाकिया लहजे में मुझसे कहा- ‘कुर्सी भारत में खिसका लीजिए, अभी आप म्यांमार में बैठे हैं।’\n",
            "मुझे उनकी बात समझ नहीं आई, मैंने मतलब पूछ लिया। वे बोले- ‘मेरे महल का आधा हिस्सा इंडिया में और आधा म्यांमार में है। किचन भारत में और बेडरूम म्यांमार में है। फिर हंसते हुए बोले- ‘मैं भारत में खाना खाता हूं और सोने के लिए म्यांमार जाता हूं।'\n",
            "महल में सात बेडरूम हैं, इनमें किंग की 7 रानियां रहती हैं। फवांग के पूर्वजों की 60 तक रानियां भी हुई हैं। इनमें एक महारानी और बाकी उनकी सहयोगी रहती हैं। महारानी भी किसी राजघराने से ताल्लुक रखती हैं। राजा के न रहने पर उनके बड़े बेटे को गद्दी मिलती है। गांव के हर छोटे-बड़े झगड़े किंग ही सुलझाते हैं। CM भी गांव में आने से पहले किंग की अनुमति लेते हैं।\n",
            "दुश्मनों का सिर काटने वाले कबीले से आते हैं किंग\n",
            "किंग फवांग 'हेड हंटर्स' ट्राइब के नाम से मशहूर कोनयाक ट्राइब से आते हैं। इस कबीले के लोग दुश्मन का सिर काटकर गांव ले आते थे। आजादी से पहले ही यानी 1940 में 'हेड हंटिंग' पर रोक लगा दी गई।\n",
            "नगालैंड के राज्य बनने के बाद इसे पूरी तरह से बंद करवाया गया। कटे हुए सिरों को कई साल तक बहादुरी के प्रतीक के तौर पर एक घर में सजाकर रखा गया था। ईसाई धर्म के आने के बाद उन सिरों का अंतिम संस्कार कर घर बंद कर दिया गया। अब आम लोगों का उस घर में जाना मना है।\n",
            "भारत में पक्की सड़क, बिजली-पानी, म्यांमार का इलाका वीरान\n",
            "गांव से निकली सड़क भारत और म्यांमार का बंटवारा करती है। दोनों हिस्सों को देखकर समझ आ जाता है कि कौन सा हिस्सा किस देश का है। भारत वाले हिस्से में पक्की सड़क, बिजली और पानी का इंतजाम है। म्यांमार का हिस्सा वीरान और कच्ची सड़कों वाला है।\n",
            "वहां के लोग भारतीय हिस्से से पानी लेकर जाते हैं। बिजली का कनेक्शन नहीं है। म्यांमार वाले हिस्से में कई घरों पर सोलर पैनल लगे हैं, ये भी भारत सरकार की ओर से बतौर गिफ्ट लगवाए गए हैं। किंग फवांग कहते हैं कि ‘वे भी मेरी ही प्रजा हैं। मैं अपनी रियासत में रहने वाले किसी भी व्यक्ति से भेदभाव नहीं करता हूं। वे भी मेरा उतना ही सम्मान करते हैं।’\n",
            "गांव के ज्यादातर लोग दोनों देशों में वोट डालते हैं\n",
            "किंग फवांग ने बताया कि मेरे पास भारत और म्यांमार दोनों देशों की नागरिकता, आईडी कार्ड और पासपोर्ट हैं। मैं, मेरा परिवार और गांव के ज्यादातर लोग दोनों देशों में वोट डाल सकते हैं। गांव में 6 पोलिंग स्टेशन बनते हैं। भारत के हर चुनाव में मैं वोट डालता हूं। म्यांमार में जब भी चुनाव हुआ, मैं वोट डालने गया था। दोनों देशों के अधिकारी, पुलिस, सेना के लोग यहां आते रहते हैं।\n",
            "महल के अंदर भालू, भैंस और हिरन के सिर सजाकर रखे \n",
            "किंग फवांग मुझे अपना महल दिखाने लगे। महल के अंदर कोनयाक ट्राइब की ट्रेडिशनल ज्वेलरी के स्टॉल हैं, बाहरी लोग भी इन्हें खरीद सकते हैं। बाहरी हिस्से में ड्राइंग रूम है, जिसमें गांव, अब तक आए खास मेहमानों और पुराने महल की तस्वीरें लगी हैं। इसमें एक बड़ा गोंग (बड़ी घंटी) भी है। पहले इसे बजाकर दरबार बुलाया जाता था। यहां मिथुन (गोवंश का ही एक पशु) का सिर, हाथी के दांत और भालू के सिर सजाकर रखे गए हैं।\n",
            "ड्राइंग रूम के एक कोने में सेकेंड वर्ल्ड वॉर में क्रैश हुए फाइटर जेट के पायलट की सीट भी रखी है। इस रूम को किंग अपना म्यूजियम भी कहते हैं। इसके दूसरे हिस्से में लकड़ी की गद्दी है, जिसमें मरने पर राजा या राजपरिवार के सदस्य को रखा जाता है।\n",
            "महल के बाहरी हिस्से में दोनों देशों के ध्वज\n",
            "महल के ठीक बीच से इंटरनेशनल बॉर्डर गुजरता है। महल में एंट्री से पहले एक गेट भी है, जिसके दाएं हिस्से में म्यांमार के राज्य सगिंग और बाएं हिस्से में इंडिया के राज्य नगालैंड का नाम लिखा हुआ है। बाहरी गेट पर दोनों देशों के फ्लैग लगे हैं। महल से बाहर निकलते हुए हुए मुझे पुराने राजा और रानी की कब्र नजर आई।\n",
            "भारत में घर और दुकान म्यांमार में\n",
            "किंग फवांग से मिलकर मैं गांव के बाजार में पहुंचा। यह भी दोनों देशों में बंटा है। सड़क ही इसकी इंटरनेशनल बॉर्डर लाइन है। यहां ज्यादातर जनरल स्टोर, कपड़े और लोकल ज्वेलरी की दुकानें हैं। एलसीना कोनयाक सड़क के दाएं हिस्से में जनरल स्टोर चलाती हैं। वे भारतीय हैं, लेकिन उनकी दुकान म्यांमार में है।\n",
            "मोन से लोंग्वा के रास्ते में सिर्फ एक जगह छोटी सी चेक पोस्ट बनी है। वहां मौजूद पुलिस ने सिर्फ हमारा आधार कार्ड देखा और जाने दिया। गांव का बॉर्डर खुला हुआ है और कोई भी आसानी से बॉर्डर पार कर सकता है। बाजार में हमें म्यांमार से आए लोग घूमते दिखे। उनके पास कोई डॉक्यूमेंट नहीं था। मैंने उनसे पूछा कि वे यहां क्या कर रहे हैं, तो बताया कि किराना और दूसरा सामान लेने आए हैं।\n",
            "म्यांमार से चीन में बनी बाइक लेकर आते हैं लोग\n",
            "गांव के अंदर मुझे ऐसी बाइक दिखाई दीं, जिन पर नंबर प्लेट नहीं थीं। ये बाइक भारत में होती भी नहीं हैं। पता किया तो मालूम हुआ कि ये बाइक चीन में बनती हैं। मैंने ऐसी दो बाइक लेकर म्यांमार से यहां आए लोगों से बात करने की कोशिश की। भाषा समझ न आने की वजह से बात नहीं हो सकी। पर एक सवाल रह गया कि बाइक पर नंबर नहीं हैं, बॉर्डर पर रोक नहीं है, ऐसे में अगर क्राइम हो जाए तो अपराधी को पकड़ना मुश्किल होगा।\n",
            "बाजार में घूमते हुए मैं ऐसी दुकानों में भी गया, जहां म्यांमार में बने सामान बिक रहे थे। किराना शॉप चला रही 65 साल की सुंगला कोनयाक कहती हैं- ‘बाजार में म्यांमार में बने बेकरी प्रोडक्ट काफी बिकते हैं। इसलिए हम वहां जाते हैं और सामान ले आते हैं।\n",
            "म्यांमार के स्कूल में भारतीय बच्चे स्टूडेंट\n",
            "गांव के बाहरी इलाके में दो मंजिला इमारत बनी है। लोगों ने बताया कि ये स्कूल है। इसके सभी टीचर म्यांमार से है, लेकिन भारत के बच्चे भी इसमें पढ़ते हैं। स्कूल के बाहर म्यांमार का झंडा लगा है पर लोंग्वा आने वाला कोई भी व्यक्ति यहां आसानी से जा सकता है।\n",
            "‘हेड हंटर’ समुदाय के लोग अब भी मौजूद, घूमते मिल जाते हैं \n",
            "बाजार में मुझे कोनयाक ट्राइब के ऐसे लोग भी मिले, जिन्होंने सदियों पुरानी विरासत को संभालकर रखा है। ये लोग ट्रैडीशनल अंदाज में बाल संवारते हैं। हड्डियों से बनी कैप पहनते हैं और पारंपरिक लिबास पहनते हैं। ये सभी ‘हेड हंटिंग’ समुदाय से आते हैं। ये हमेशा अपने साथ एक धारदार हथियार (दाऊ) रखते हैं। ये नागमिस भाषा बोलते हैं, जो नगा और असमी से मिलकर बनी है। वे मेरी भाषा नहीं समझ पाए, लेकिन कैमरा देख फोटो खिंचवाने लगे।\n",
            "गांव में वाटर लाइन, पर पानी नहीं आता \n",
            "मैं गांव में गुलक नाम के शख्स से मिला। उनके पास भी दोनों देशों की नागरिकता है। मैंने पूछा कि यहां रहने में कोई दिक्कत तो नहीं होती। उन्होंने कहा- 'दिक्कतें तो हैं, गांव में पानी की लाइन कई साल पहले आ गई थी, लेकिन उसमें पानी नहीं आता। गांव बहुत ऊंचाई पर है, इसलिए पानी आने में समस्या है। गांव के मुख्य बाजार तक ही सड़क है, हम चाहते हैं कि अंदरूनी हिस्सों और गलियों में भी सड़क बने।' गुलक ने बताया कि वे सिर्फ भारत में वोटिंग करते हैं।\n",
            "ओपन बॉर्डर होने से ड्रग्स की स्मगलिंग, असम तक सप्लाई\n",
            "इंटरनेशनल बॉर्डर ओपन होने ये लोग्वां गांव तस्करी का रूट बन गया है। गांव के कुछ लोगों ने ऑफ कैमरा बताया कि यहां म्यांमार से ड्रग्स लाकर बेची जाती है। यह ड्रग असम तक सप्लाई होती है। ड्रग्स एडिक्ट की बढ़ती संख्या देखते हुए मोन सिटी में एक रिहैब सेंटर भी खोला गया है।\n",
            "16 किमी एरिया फ्री मूमेंट रिजीम, दोनों ओर के लोग आ-जा सकते हैं\n",
            "SP टी. उनील किछु ने बताया, ‘म्यांमार के हिस्से में रह रहे जिन लोगों के पास भारत का वोटर कार्ड है, वहीं यहां आकर वोट डाल सकते हैं। यहां के लोगों के लिए एक स्पेशल फ्री मूवमेंट रिजीम है। इससे कोई भी व्यक्ति बॉर्डर के 16 किलोमीटर दोनों ओर आसानी से आ-जा सकता है। हम अपनी ओर सब कंट्रोल कर सकते हैं, लेकिन दूसरे हिस्से को कंट्रोल करना मुश्किल है।\n",
            "नगालैंड की सुमी ट्राइब में जीबी सिस्टम काम करता है, इसके तहत गांव का एक राजा और 4 असिस्टेंट जीबी होते हैं, पढ़िए ये ग्राउंड रिपोर्ट...\n",
            "PM-CM से भी ऊपर है ‘जीबी सिस्टम', रेप किया हो या मर्डर, राजा की इजाजत के बिना गिरफ्तारी नहीं\n",
            "‘कोई भी प्रधानमंत्री हो, CM हो, लेकिन हमारे लिए हेड जीबी या गांव बोरा (Gaon Burahs) ही हमारा राजा है। उसके कहे शब्द, हमारे लिए पत्थर की लकीर हैं। यहां से निकलकर अगर कोई CM भी बन जाए, तो गांव लौटने पर उसे भी राजा का आदेश मानना ही पड़ेगा।’ सुहोई गांव के जिओ सीपी येप्थो विलेज हेड की परंपरा के बारे में गर्व से बताते हैं। ये गांव नगालैंड की राजधानी कोहिमा से 50 किमी दूर दीमापुर जिले में आता है। गांव के लोग किसे वोट देंगे, ये भी हेड जीबी ही तय करता है।\n",
            "पढ़िए पूरी खबर... \n",
            "Generated Summary: भारत में पक्की सड़क, बिजली-पानी, म्यांमार का इलाका वीरान गांव से निकली सड़क भारत और म्यांमार का बंटवारा करती है। दोनों हिस्सों को देखकर समझ आ जाता है कि कौन सा हिस्सा किस देश का है।\n",
            "Reference Summary: Nagaland Vidhan Sabha (Assembly) Election 2023 - Dainik Bhaskar (दैनिक भास्कर) Ground Report From India Myanmar Border Last Village (Longwa). म्यामांर से सटे नगालैंड में आज विधानसभा चुनाव के लिए वोटिंग है। ये रिपोर्ट वोटिंग या चुनावी माहौल पर नहीं, बल्कि म्यांमार बॉर्डर पर बसे भारत के एक गांव की है\n",
            "Metrics: {'rouge1': 0.0, 'rouge2': 0.0, 'rougeL': 0.0, 'rougeLsum': 0.0, 'bert_score_f1': 47.1504}\n",
            "\n",
            "---\n",
            "\n"
          ]
        },
        {
          "metadata": {
            "tags": null
          },
          "name": "stderr",
          "output_type": "stream",
          "text": [
            "Some weights of RobertaModel were not initialized from the model checkpoint at roberta-large and are newly initialized: ['roberta.pooler.dense.bias', 'roberta.pooler.dense.weight']\n",
            "You should probably TRAIN this model on a down-stream task to be able to use it for predictions and inference.\n"
          ]
        },
        {
          "metadata": {
            "tags": null
          },
          "name": "stdout",
          "output_type": "stream",
          "text": [
            "Article 19105:\n",
            "Article: बागपत: बागपत में सब इंस्पेक्टर की दाढ़ी पर विवाद के बाद उत्तर प्रदेश के डीजीपी हितेश चन्द्र अवस्थी ने पुलिस वालों के लिए सर्कुलर जारी कर पुलिस में वर्दी, जूते, दाढी, मूछ के लिए जो नियम है उनका सख्ती से पालन करने के लिए कहा गया है। सर्कुलर में कहा गया है कि सिख धर्म के अलावा  सभी पुलिसकर्मियों को दाढी क्लीन शेव करना होगा। धार्मिक आधार पर कुछ दिनों के लिए दाढी रखने के लिए परमीशन लेनी होगी। इसके अलावा लम्बे बाल रखने की अनुमति नही होगी। नियम के अनुसार पुलिस वालों को वर्दी में रहना होगा, पैटर्न शू पहनना होंगे। पुलिसकर्मी जूता, चप्पल, सैंडिल नही पहन सकेंगे और कमीज़ के बटन खुले नही रख सकेंगे। उत्तर प्रदेश के बागपत जनपद में दाढ़ी रखने पर अनुशासनहीनता में निलंबित किए गए दारोगा इंतसार अली ने आखिरकार कार्रवाई होने के बाद अपनी दाढ़ी कटवा ली। पुलिस अधीक्षक ने अली को फिर से बहाल कर दिया। बागपत के पुलिस अधीक्षक अभिषेक सिंह ने बताया कि दारोगा इंतसार अली अपनी दाढ़ी कटवाकर आज उनसे मिलने आए थे और अपने कृत्य पर खेद भी जताया, जिसके बाद उनका निलंबन रद्द करते हुए उन्हें रमाला थाने में तैनाती दी गई है। दरअसल, पुलिस में सिखों को छोड़कर किसी भी धर्म के शख्स को दाढ़ी रखने के लिए अपने आला अधिकारियों से पूर्व स्वीकृति लेनी होती है। उन्होंने कहा कि बागपत के रमाला थाने में तैनात दारोगा इंतसार अली ने दाढ़ी बढ़ा ली, लेकिन इसके लिए उन्हें कोई स्वीकृति नहीं दी गई थी। उन्होंने कहा कि दारोगा इंतसार अली को अनुशासनहीनता को लेकर चेतावनी दी गई, लेकिन उन्होंने दाढ़ी नहीं कटवाई। एसपी ने बताया कि 20 अक्टूबर को कार्रवाई करते हुए दारोगा को निलंबित कर दिया गया था। निलंबित दारोगा कैमरे पर बोलने से बच रहे थे, लेकिन शनिवार को दाढ़ी कटवाकर दारोगा इंतसार अली कप्तान से मिलने पहुंच गए। एसपी ने भी देर नहीं की और अली की बहाली कर दी।\n",
            "Generated Summary: उत्तर प्रदेश के बागपत जनपद में दाढ़ी रखने पर अनुशासनहीनता में निलंबित किए गए दारोगा इंतसार अली ने आखिरकार कार्रवाई होने के बाद अपनी दाढ़ी कटवा ली। पुलिस अधीक्षक ने अली को फिर से बहाल कर दिया।\n",
            "Reference Summary: बागपत में सब इंस्पेक्टर की दाढ़ी पर विवाद के बाद उत्तर प्रदेश के डीजीपी हितेश चन्द्र अवस्थी ने पुलिस वालों के लिए सर्कुलर जारी कर पुलिस में वर्दी, जूते, दाढी, मूछ के लिए जो नियम है उनका सख्ती से पालन करने के लिए कहा गया है।\n",
            "Metrics: {'rouge1': 0.0, 'rouge2': 0.0, 'rougeL': 0.0, 'rougeLsum': 0.0, 'bert_score_f1': 58.8866}\n",
            "\n",
            "---\n",
            "\n"
          ]
        },
        {
          "metadata": {
            "tags": null
          },
          "name": "stderr",
          "output_type": "stream",
          "text": [
            "Some weights of RobertaModel were not initialized from the model checkpoint at roberta-large and are newly initialized: ['roberta.pooler.dense.bias', 'roberta.pooler.dense.weight']\n",
            "You should probably TRAIN this model on a down-stream task to be able to use it for predictions and inference.\n"
          ]
        },
        {
          "metadata": {
            "tags": null
          },
          "name": "stdout",
          "output_type": "stream",
          "text": [
            "Article 20426:\n",
            "Article: तिरुवनंतपुरम: केरल में सत्तारूढ़ मार्क्सवादी कम्युनिस्ट पार्टी (माकपा) ने केंद्रीय मंत्री वी. मुरलीधरन को रविवार को आड़े हाथों लिया, जो राज्य में उसकी महत्वकांक्षी 'सिल्वर लाइन परियोजना' के खिलाफ अभियान चला रहे हैं। माकपा ने कहा कि उनका विरोध देश के संघीय ढांचे के सिद्धांत के खिलाफ है। माकपा ने कहा कि 'के-रेल परियोजना' के लिए भूमि सर्वेक्षण का कार्य केंद्र सरकार से सैद्धांतिक मंजूरी मिलने के बाद शुरू किया गया और यहां तक कि उच्चतम न्यायालय ने भी प्रस्तावित परियोजना का सामाजिक प्रभाव आकलन करने के साथ इस पर आगे बढ़ने की अनुमति दी। इसके बाद भी इस परियोजना को राज्य में भारी विरोध का सामना करना पड़ रहा है।माकपा ने यहां जारी बयान में कहा, 'हाल में तिरुवनंतपुरम में केंद्रीय मंत्री ने उस परियोजना के खिलाफ अभियान चलाया था, जिसे सैद्धांतिक मंजूरी केंद्र ने दी है। यह विरोधाभास है कि केंद्रीय मंत्री उस विकास परियोजना का विरोध कर रहे हैं जिसकी अनुमति उच्चतम न्यायालय ने दी है।' वहीं, मुरलीधरन ने आरोप को खारिज करते हुए कहा कि, 'वामपंथी दल उनके सीधे तौर पर लोगों से मिलने को लेकर चिंतित क्यों है?'केरल के मुख्यमंत्री पिनाराई विजयन ने मुरलीधरन के परियोजना-विरोधी अभियान पर निशाना साधा और कहा कि केंद्रीय मंत्री अब के-रेल परियोजना के प्रति जनता के सकारात्मक व्यवहार को समझ गए हैं। विजयन ने कन्नूर में उनकी सरकार के दूसरे कार्यकाल की पहली वर्षगांठ के अवसर पर आयोजित कार्यक्रम में कहा, 'आप हमारी परिस्थिति की कल्पना कीजिए, हमारे पास ऐसे केंद्रीय मंत्री हैं। क्या आप कल्पना कर सकते हैं कि कोई केंद्रीय मंत्री राज्य की विकास परियोजना के खिलाफ अभियान चला रहे हैं?' बता दें, मुरलीधरन ने शनिवार को केरल सरकार की महत्वकांक्षी परियोजना का विरोध किया था, जिसके बाद केरल के मुख्यमंत्री का यह बयान आया है।  गौरतलब है कि केरल की विपक्षी पार्टियां सिल्वर लाइन परियोजना के लिए विभिन्न स्थानों पर सर्वेक्षण पत्थर लगाने का विरोध कर रही हैं। हालांकि, राज्य की वाम सरकार ने इसके बावजूद परियोजना पर आगे बढ़ने का फैसला किया है। सिल्वरलाइन परियोजना के तहत राज्य की राजधानी तिरुवनंतपुरम को कासरगोड से रेल गलियारे से जोड़ने का प्रस्ताव है। निर्माण पूरा होने पर इन दोनों स्थानों के बीच की दूरी तय करने में मौजूदा समय के मुकाबले चार घंटे कम समय लगेगा। यह 530 किलोमीटर लंबा रेल गलियारा होगा जिसके निर्माण पर 64 हजार करोड़ रुपये का खर्च आएगा। इस परियोजना का विकास केरल सरकार और रेलवे का संयुक्त उपक्रम के-रेल कर रहा है। इनपुट-भाषा\n",
            "Generated Summary: केंद्रीय मंत्री वी. मुरलीधरन को रविवार को आड़े हाथों लिया, जो राज्य में उसकी महत्वकांक्षी 'सिल्वर लाइन परियोजना' के खिलाफ अभियान चला रहे हैं। माकपा ने कहा कि उनका विरोध देश के संघीय ढांचे के सिद्धांत के खिलाफ है\n",
            "Reference Summary: माकपा ने यहां जारी बयान में कहा, 'हाल में तिरुवनंतपुरम में केंद्रीय मंत्री ने उस परियोजना के खिलाफ अभियान चलाया था, जिसे सैद्धांतिक मंजूरी केंद्र ने दी है।'\n",
            "Metrics: {'rouge1': 0.0, 'rouge2': 0.0, 'rougeL': 0.0, 'rougeLsum': 0.0, 'bert_score_f1': 61.3539}\n",
            "\n",
            "---\n",
            "\n"
          ]
        },
        {
          "metadata": {
            "tags": null
          },
          "name": "stderr",
          "output_type": "stream",
          "text": [
            "Some weights of RobertaModel were not initialized from the model checkpoint at roberta-large and are newly initialized: ['roberta.pooler.dense.bias', 'roberta.pooler.dense.weight']\n",
            "You should probably TRAIN this model on a down-stream task to be able to use it for predictions and inference.\n"
          ]
        },
        {
          "metadata": {
            "tags": null
          },
          "name": "stdout",
          "output_type": "stream",
          "text": [
            "Article 4962:\n",
            "Article: ब्रिटेन में किंग चार्ल्स की ताजपोशी के बाद रॉयल फैमिली ने पहली बार नए राजा-रानी का ऑफिशियल पोर्ट्रेट जारी किया। तस्वीर में चार्ल्स ने पर्पल रंग के कपड़े और शाही रोब्स पहन रखी हैं। उनके सिर पर इम्पीरियल स्टेट क्राउन, हाथ में सेप्टर और सॉवरिन ऑर्ब है। चार्ल्स जिस सिंहासन पर बैठे नजर आ रहे हैं। वो 121 साल पुराना है। इस तब के राजा किंग जॉर्ज पंचम और क्वीन मैरी के लिए बनाया गया था।\n",
            "इसके अलावा भी रॉयल फैमिली ने कई तस्वीरें जारी कीं। इनमें नई क्वीन कैमिला, सहित राजा-रानी की साथ में फोटो और एक फैमिली फोटो भी शामिल हैं। इसमें किंग-क्वीन के साथ राजगद्दी के वारिस प्रिंस विलियम और उनकी पत्नी केट भी नजर आ रही हैं। हालांकि, इस फोटो के लिए प्रिंस हैरी को न्योता नहीं दिया गया।\n",
            "किंग चार्ल्स ने कहा- शानदार समारोह के लिए सभी को धन्यवाद\n",
            "ब्रिटेन में 3 दिन तक चले ताजपोशी समारोह के खत्म होने पर किंग चार्ल्स ने एक संदेश भी जारी किया। उन्होंने समारोह में शामिल होने के लिए सभी मेहमानों को धन्यवाद दिया। इसके अलावा उन्होंने कहा- इस समारोह को सफल बनाने के लिए मैं और मेरी पत्नी उन सभी लोगों को शुक्रिया कहते हैं जिन्होंने अपना कीमती समय दिया। लंदन, विंस्डर और देशभर में अलग-अलग जगहों पर सेरेमनी के दौरान सुरक्षा और शांति बनाए रखने के लिए भी सबका धन्यवाद।\n",
            "जिन लोगों ने भी अपने घरों में या स्ट्रीट पर पार्टीज की उनको भी इस जश्न में शामिल होने के लिए मैं शुक्रिया कहता हूं। देश की जनता ने रॉयल फैमिली में हमेशा भरोसा जताया है और इसी नाते हम उनकी सेवा के लिए हमेशा तैयार रहेंगे।\n",
            "देखिए किंग चार्ल्स और क्वीन कैमिला की ऑफिशियल फोटोज...\n",
            "कोहिनूर की जगह कलिनन हीरे वाला ताज पहना\n",
            "किंग चार्ल्स को इम्पीरियल स्टेट क्राउन पहनाया गया है। इसका वजन 1.06 किलोग्राम है। इसमें 2 हजार 868 हीरे, 17 सैफायर, 11 एमरल्ड, 269 मोती और 4 रूबी जड़े हुए हैं। इस ताज में कलिनन डायमंड का दूसरा सबसे बड़ा टुकड़ा कलिनन II डायमंड जड़ा हुआ है। इसे कोहिनूर की जगह लगाया गया है। कलिनन दुनिया का सबसा बड़ा हीरा है।\n",
            "ब्रिटेन के सबसे बुजुर्ग राजा-रानी बने चार्ल्स-कैमिला\n",
            "पिछले साल सितंबर में क्वीन एलिजाबेथ के निधन के बाद चार्ल्स को नया राजा घोषित किया गया था। इसके बाद 6 मई को ताजपोशी समारोह का आयोजन किया गया। दोपहर 3:30 बजे शुरू हुई इस सेरेमनी में चार्ल्स और कैमिला को UK के नए राजा-रानी घोषित किया गया। इसके साथ ही किंग चार्ल्स ब्रिटेन के अब तक के सबसे बुजुर्ग राजा बन गए। किंग चार्ल्स की उम्र 74 साल है। किंग-क्वीन का काफिला दोपहर करीब 2:50 पर बकिंघम पैलेस से डायमंड जुबली स्टेट कोच से निकला। इसके बाद करीब 2 किलोमीटर की यात्रा करके काफिला वेस्टमिंस्टर ऐबे चर्च पहुंचा।\n",
            "यहां 5 स्टेप्स में किंग की ताजपोशी की गई। सबसे पहले उन्हें किंग के तौर पर पहचान मिली। फिर आर्कबिशप ने चार्ल्स को शपथ दिलाई। इसके बाद उनका अभिषेक हुआ और फिर किंग चार्ल्स को सेंट एडवर्ड क्राउन पहनाया गया। आखिरी स्टेप में किंग और क्वीन अपनी राजगद्दी पर बैठे। 80 मिनट तक चली इस सेरेमनी के बाद किंग-क्वीन सुनहरे रथ में बैठकर बकिंघम पैलेस लौटे। इस दौरान ब्रिटेन के 5 हजार से ज्यादा सैनिकों ने मार्च पास्ट किया। ताजपोशी के बाद ब्रिटेन में अलग-अलग जगहों पर गन से सलामी दी गई।\n",
            "Generated Summary: ब्रिटेन में किंग चार्ल्स की ताजपोशी के बाद रॉयल फैमिली ने पहली बार नए राजा-रानी का ऑफिशियल पोर्ट्रेट जारी किया। तस्वीर में चार्ल्स ने पर्पल रंग के कपड़े और शाही रोब्स पहन रखी हैं।\n",
            "Reference Summary: Latest Update On King Charles Coronation; Follow King Charles Coronation Latest News, Videos On Dainik Bhaskar ब्रिटेन में 3 दिन तक चले ताजपोशी समारोह के खत्म होने पर किंग चार्ल्स ने एक संदेश भी जारी किया। उन्होंने समारोह में शामिल होने के लिए सभी मेहमानों को धन्यवाद दिया।\n",
            "Metrics: {'rouge1': 0.0, 'rouge2': 0.0, 'rougeL': 0.0, 'rougeLsum': 0.0, 'bert_score_f1': 54.9361}\n",
            "\n",
            "---\n",
            "\n"
          ]
        },
        {
          "metadata": {
            "tags": null
          },
          "name": "stderr",
          "output_type": "stream",
          "text": [
            "Some weights of RobertaModel were not initialized from the model checkpoint at roberta-large and are newly initialized: ['roberta.pooler.dense.bias', 'roberta.pooler.dense.weight']\n",
            "You should probably TRAIN this model on a down-stream task to be able to use it for predictions and inference.\n"
          ]
        },
        {
          "metadata": {
            "tags": null
          },
          "name": "stdout",
          "output_type": "stream",
          "text": [
            "Article 11425:\n",
            "Article: बुलंदशहर (उप्र): उत्तर प्रदेश के बुलंदशहर में एक शादी समारोह में सपना चौधरी का गीत बजाने को लेकर हुए झगड़े में कथित तौर पर एक युवक की पीट-पीटकरहत्या कर दी गई। घटना सोमवार की देर रात को कोतवाली पुलिस सर्कल में आने वाले बुलंदशहर के एक मैरिज हॉल में हुई। घायल युवक को एक अस्पताल में भर्ती कराया गया था, जहां मंगलवार को इलाज के दौरान उसकी मृत्यु हो गई।खबरों के अनुसार, कुछ युवक एक शादी में नाच रहे थे तभी उन्होंने डीजे से सपना चौधरी का एक गाना बजाने की मांग की। जब डीजे ने मना कर दिया, तो वे हिंसक हो गए और इसके कारण 2 समूहों के बीच झड़प हो गई।पुलिस ने 4 लोगों के खिलाफ मामला दर्ज कर लिया है और मृतक के शव को पोस्टमार्टम के लिए भेज दिया है। कथित आरोपियों को पूछताछ के लिए हिरासत में लिया गया है। पुलिस चश्मदीद गवाहों से भी बात कर रही है।बुलंदशहर के एसपी संतोष कुमार सिंह ने दावा किया कि मृतक ने झड़प के दौरान हस्तक्षेप करने की कोशिश की थी और उसे तभी दिल का दौरा पड़ गया। उन्होंने कहा, \"पहली नजर में ऐसा लगता है कि उसकी मृत्यु कार्डियक अरेस्ट के कारण हुई। मामले की जांच की जा रही है और उसी के अनुसार कार्रवाई की जाएगी।\"शादी में एक चश्मदीद ने दावा किया कि लड़कों का एक समूह नशे में धुत था और उन्होंने सपना चौधरी का गाना बजाने की मांग की लेकिन डीजे ने ऐसा करने में असमर्थता जताई। उन्होंने कहा, \"जैसे ही डीजे ने कहा कि उसके पास यह गाना नहीं है, युवक हिंसक हो गया। उसने डीजे और उसके साथ के समूह को पीटना शुरू कर दिया। पीड़ित को भी पीटा गया और फिर वह जमीन पर गिर गया।\"इनपुट-आईएएनएस\n",
            "Generated Summary: उत्तर प्रदेश के बुलंदशहर में एक शादी समारोह में सपना चौधरी का गीत बजाने को लेकर हुए झगड़े में कथित तौर पर एक युवक की पीट-पीटकरहत्या कर दी गई। घटना सोमवार की देर रात को कोतवाली पुलिस सर्कल में आने वाले बु\n",
            "Reference Summary: उत्तर प्रदेश के बुलंदशहर में एक शादी समारोह में सपना चौधरी का गीत बजाने को लेकर हुए झगड़े में कथित तौर पर एक युवक की पीट-पीटकरहत्या कर दी गई।\n",
            "Metrics: {'rouge1': 0.0, 'rouge2': 0.0, 'rougeL': 0.0, 'rougeLsum': 0.0, 'bert_score_f1': 90.5155}\n",
            "\n",
            "---\n",
            "\n"
          ]
        },
        {
          "metadata": {
            "tags": null
          },
          "name": "stderr",
          "output_type": "stream",
          "text": [
            "Some weights of RobertaModel were not initialized from the model checkpoint at roberta-large and are newly initialized: ['roberta.pooler.dense.bias', 'roberta.pooler.dense.weight']\n",
            "You should probably TRAIN this model on a down-stream task to be able to use it for predictions and inference.\n"
          ]
        },
        {
          "metadata": {
            "tags": null
          },
          "name": "stdout",
          "output_type": "stream",
          "text": [
            "Article 2877:\n",
            "Article: चंडीगढ़ पुलिस में नौकरी का सपना देख रहे युवाओं के लिए अच्छी खबर है। असिस्टेंट सब इंस्पेक्टर (एग्जीक्यूटिव) के 44 पदों पर भर्ती निकली है। जिसके लिए नोटिफिकेशन जारी कर दिया गया है। भर्ती के लिए आवेदन प्रक्रिया 21 जून से शुरू होगी। उम्मीदवार ऑफिशियल वेबसाइट chandigarhpolice.gov.in पर जाकर आवेदन कर सकते हैं।\n",
            "इन पदों पर आवेदन करने के लिए आखिरी तारीख 15 जुलाई तय की गई है। वहीं, लिखित परीक्षा 20 अगस्त को होगी।\n",
            "उम्मीदवार का ग्रेजुएट होना जरूरी\n",
            "इस भर्ती प्रक्रिया के जरिए कुल 44 पदों को भरा जाएगा। इनमें 23 पद पुरुषों व 16 पद महिला उम्मीदवारों के लिए आरक्षित किए गए हैं। साथ ही ESM के लिए अलग से 5 पद रखे गए हैं। आवेदन करने वाले उम्मीदवारों का ग्रेजुएट होना जरूरी है। उम्मीदवारों का सलेक्शन रिटन एग्जाम और फिजिकल टेस्ट के आधार पर होगा।\n",
            "Generated Summary: चंडीगढ़ पुलिस में नौकरी का सपना देख रहे युवाओं के लिए अच्छी खबर है। असिस्टेंट सब इंस्पेक्टर (एग्जीक्यूटिव) के 44 पदों पर भर्ती निकली है। जिसके लिए नोटिफिकेशन जारी कर दिया गया है। भर्ती के लिए आवेद\n",
            "Reference Summary: चंडीगढ़ पुलिस में नौकरी का सपना देख रहे युवाओं के लिए अच्छी खबर है। असिस्टेंट सब इंस्पेक्टर (एग्जीक्यूटिव) के 44 पदों पर भर्ती निकली है। जिसके लिए नोटिफिकेशन जारी कर दिया गया है। भर्ती के लिए आवेदन प्रक्रिया 21 जून से शुरू होगी।\n",
            "Metrics: {'rouge1': 66.6667, 'rouge2': 0.0, 'rougeL': 66.6667, 'rougeLsum': 66.6667, 'bert_score_f1': 94.6532}\n",
            "\n",
            "---\n",
            "\n"
          ]
        },
        {
          "metadata": {
            "tags": null
          },
          "name": "stderr",
          "output_type": "stream",
          "text": [
            "Some weights of RobertaModel were not initialized from the model checkpoint at roberta-large and are newly initialized: ['roberta.pooler.dense.bias', 'roberta.pooler.dense.weight']\n",
            "You should probably TRAIN this model on a down-stream task to be able to use it for predictions and inference.\n"
          ]
        },
        {
          "metadata": {
            "tags": null
          },
          "name": "stdout",
          "output_type": "stream",
          "text": [
            "Article 19639:\n",
            "Article: लखनऊ: उत्तर प्रदेश में शुक्रवार को कोरोना वायरस संक्रमण से और 312 मरीजों की मौत हो गई जबकि संक्रमण के 15,747 नये मामले सामने आए हैं। अपर मुख्‍य सचिव स्‍वास्‍थ्‍य अमित मोहन प्रसाद ने शुक्रवार को पत्रकारों को बताया कि पिछले 24 घंटे में संक्रमण से 312 मरीजों की मौत होने के साथ ही महामारी से राज्य में होने वाली मौतों की संख्या बढ़कर 16,958 हो गई है। उन्होंने बताया कि राज्य में संक्रमण के 15,747 नए मामले आए हैं, जबकि अभी तक कुल 15,96,628 लोगों के संक्रमित होने की पुष्टि हुई है।प्रसाद ने बताया कि पिछले 13 दिनों में राज्य में उपचाराधीन मरीजों की संख्या में 1.17 लाख से अधिक की कमी आई है। उन्होंने कहा कि उत्तर प्रदेश में अब कोविड-19 से मुक्त होने की दर 86.8 प्रतिशत है। अधिकारी ने बताया कि 30 अप्रैल को लगभग 3.10 लाख उपचाराधीन मरीज थे और वर्तमान में यह संख्या घटकर 1,93,815 रह गई है। उन्होंने बताया कि पिछले 24 घंटे में 15,747 नये मामले आये जबकि इस अवधि में 26,174 लोग संक्रमण मुक्त हुए हैं। राज्य में अब तक संक्रमण से मुक्त होने वाले रोगियों की कुल संख्या बढ़कर 13,85,855 हो गई है।प्रसाद ने कहा कि अब तक राज्य में 4.41 करोड़ से अधिक नमूनों का परीक्षण किया गया है। इसमें बुधवार को परीक्षण किए गए 2.63 लाख से अधिक नमूने शामिल हैं। उन्होंने कहा कि राज्य के फिलहाल संक्रमित लोगों में से 1,57,257 पृथकवास में हैं और घर पर रह कर ही स्‍वास्‍थ्‍य लाभ ले रहे हैं और बाकी लोगों का इलाज सरकारी और निजी अस्पतालों में हो रहा है।राज्य में चल रहे टीकाकरण अभियान के बारे में उन्होंने कहा कि कुल 1.44 करोड़ से अधिक खुराक दी गई जिसमें 1.13 करोड़ से अधिक लोगों को पहली खुराक दी गई है। उन्होंने कहा कि राज्य के 18 जिलों में अभी तक 18 से अधिक उम्र के लोगों का टीकाकरण चल रहा था और 17 मई से राज्य के 23 जिलों में टीकाकरण किया जाएगा।   /*.jw-reset-text, .jw-reset{line-height: 2em;}*/  .jw-time-tip .jw-time-chapter{display:none;}  if ('' == comscore_jw_loaded || 'undefined' == comscore_jw_loaded || undefined == comscore_jw_loaded) {var comscore_jw_loaded = 1;firstjw = document.getElementsByClassName('jwvidplayer')[0];cs_jw_script = document.createElement('script');cs_jw_script.src = 'https://sb.scorecardresearch.com/internal-c2/plugins/streamingtag_plugin_jwplayer.js';firstjw.parentNode.insertBefore(cs_jw_script, firstjw.nextSibling);  }  var jwconfig_3617975741 = {\"file\": \"https://vod-indiatv.akamaized.net/hls/2021/05/0_e98crqgl/master.m3u8\",\"image\": \"https://resize.indiatv.in/resize/vod/1200_-/2021/05/0_e98crqgl.jpg\",\"title\": \"जीतेगा इंडिया: Sputnic V के एक टीके का दाम होगा 948 रुपये+5% GST, डॉ. रेड्डी बनाएगी देश में स्पूतनिक वैक्सीन\",\"height\": \"440px\",\"width\": \"100%\",\"aspectratio\": \"16:9\",\"autostart\": false,\"controls\": true,\"mute\": false,\"volume\": 100,\"floating\": false,\"sharing\": {\"code\": \"\",\"sites\": [\"facebook\",\"twitter\",\"email\"]},\"stretching\": \"exactfit\",\"primary\": \"html5\",\"hlshtml\": true,\"duration\": 928,\"advertising\": {\"client\": \"vast\",\"autoplayadsmuted\": true,\"skipoffset\": 5,\"cuetext\": \"\",\"skipmessage\": \"Skip ad in xx\",\"skiptext\": \"SKIP\",\"preloadAds\": true,\"schedule\": [{\"offset\": \"pre\",\"tag\": \"https://pubads.g.doubleclick.net/gampad/ads?iu=/8323530/Hindi_Video_Desktop_PreRoll&description_url=http%3A%2F%2Fwww.indiatv.in&tfcd=0&npa=0&sz=640x480&gdfp_req=1&output=vast&unviewed_position_start=1&env=vp&impl=s&correlator=\",\"type\": \"linear\"},{\"offset\": \"50%\",\"tag\": \"https://pubads.g.doubleclick.net/gampad/ads?iu=/8323530/Hindi_Video_Desktop_MidRoll&description_url=http%3A%2F%2Fwww.indiatv.in&tfcd=0&npa=0&sz=640x480&gdfp_req=1&output=vast&unviewed_position_start=1&env=vp&impl=s&correlator=\"},{\"offset\": \"post\",\"tag\": \"https://pubads.g.doubleclick.net/gampad/ads?iu=/8323530/Hindi_Video_Desktop_PostRoll&description_url=http%3A%2F%2Fwww.indiatv.in&tfcd=0&npa=0&sz=640x480&gdfp_req=1&output=vast&unviewed_position_start=1&env=vp&impl=s&correlator=\",\"type\": \"linear\"}]}};  var jwvidplayer_3617975741 = '';  jwsetup_3617975741();  function jwsetup_3617975741() {jwvidplayer_3617975741 = jwplayer(\"jwvidplayer_3617975741\").setup(jwconfig_3617975741);jwvidplayer_3617975741.on('ready', function () {  ns_.StreamingAnalytics.JWPlayer(jwvidplayer_3617975741, {publisherId: \"20465327\",labelmapping: \"c2=\\\"20465327\\\", c3=\\\"India TV Hindi\\\", c4=\\\"null\\\", c6=\\\"null\\\", ns_st_mp=\\\"jwplayer\\\", ns_st_cl=\\\"0\\\", ns_st_ci=\\\"0_e98crqgl\\\", ns_st_pr=\\\"जीतेगा इंडिया: Sputnic V के एक टीके का दाम होगा 948 रुपये+5% GST, डॉ. रेड्डी बनाएगी देश में स्पूतनिक वैक्सीन\\\", ns_st_sn=\\\"0\\\", ns_st_en=\\\"0\\\", ns_st_ep=\\\"जीतेगा इंडिया: Sputnic V के एक टीके का दाम होगा 948 रुपये+5% GST, डॉ. रेड्डी बनाएगी देश में स्पूतनिक वैक्सीन\\\", ns_st_ct=\\\"null\\\", ns_st_ge=\\\"News\\\", ns_st_st=\\\"जीतेगा इंडिया: Sputnic V के एक टीके का दाम होगा 948 रुपये+5% GST, डॉ. रेड्डी बनाएगी देश में स्पूतनिक वैक्सीन\\\", ns_st_ce=\\\"0\\\", ns_st_ia=\\\"0\\\", ns_st_ddt=\\\"2021-05-14\\\", ns_st_tdt=\\\"2021-05-14\\\", ns_st_pu=\\\"India TV Hindi\\\", ns_st_cu=\\\"https://vod-indiatv.akamaized.net/hls/2021/05/0_e98crqgl/master.m3u8\\\", ns_st_ty=\\\"video\\\"\"  });});jwvidplayer_3617975741.on('all', function (r) {  if (jwvidplayer_3617975741.getState() == 'error' || jwvidplayer_3617975741.getState() == 'setupError') {jwvidplayer_3617975741.stop();jwvidplayer_3617975741.remove();jwvidplayer_3617975741 = '';jwsetup_3617975741();return;  }});jwvidplayer_3617975741.on('error', function (t) {  jwvidplayer_3617975741.stop();  jwvidplayer_3617975741.remove();  jwvidplayer_3617975741 = '';  jwsetup_3617975741();  return;});jwvidplayer_3617975741.on('mute', function (event) {  ga('send', 'event', 'JW Player Events', 'Errors', event.message);});jwvidplayer_3617975741.on('adPlay', function (event) {  ga('send', 'event', 'JW Player Events', 'Errors', event.message);});jwvidplayer_3617975741.on('adPause', function (event) {  ga('send', 'event', 'JW Player Events', 'Errors', event.message);});jwvidplayer_3617975741.on('pause', function (event) {  ga('send', 'event', 'JW Player Events', 'Errors', event.message);});jwvidplayer_3617975741.on('error', function (event) {  ga('send', 'event', 'JW Player Events', 'Errors', event.message);});jwvidplayer_3617975741.on('adBlock', function (event) {  ga('send', 'event', 'JW Player Events', 'Errors', event.message);});jwvidplayer_3617975741.on('adSkipped', function (event) {  ga('send', 'event', 'JW Player Events', 'Errors', event.message);});  }\n",
            "Generated Summary: उत्तर प्रदेश में शुक्रवार को कोरोना वायरस संक्रमण से और 312 मरीजों की मौत हो गई जबकि संक्रमण के 15,747 नये मामले सामने आए हैं। अपर मुख् य सचिव स् वास् थ् य अमित मोहन प्रसाद ने शुक्रवार को पत्रकारों को\n",
            "Reference Summary: उत्तर प्रदेश में शुक्रवार को कोरोना वायरस संक्रमण से और 312 मरीजों की मौत हो गई जबकि संक्रमण के 15,747 नये मामले सामने आए हैं।\n",
            "Metrics: {'rouge1': 100.0, 'rouge2': 100.0, 'rougeL': 100.0, 'rougeLsum': 100.0, 'bert_score_f1': 84.9505}\n",
            "\n",
            "---\n",
            "\n"
          ]
        },
        {
          "metadata": {
            "tags": null
          },
          "name": "stderr",
          "output_type": "stream",
          "text": [
            "Some weights of RobertaModel were not initialized from the model checkpoint at roberta-large and are newly initialized: ['roberta.pooler.dense.bias', 'roberta.pooler.dense.weight']\n",
            "You should probably TRAIN this model on a down-stream task to be able to use it for predictions and inference.\n"
          ]
        },
        {
          "metadata": {
            "tags": null
          },
          "name": "stdout",
          "output_type": "stream",
          "text": [
            "Article 11001:\n",
            "Article: धनबाद (झारखंड): झारखंड के धनबाद में बृहस्पतिवार को खाली छोड़ी गई कोयला खदान धंसने से उसमें कई लोगों के फंसे होने की आशंका है।अधिकारियों ने यह जानकारी दी। उन्होंने बताया कि अबतक पता नहीं चला है कि खदान में वास्तव में कितने लोग फंसे हैं। झारखंड सरकार के खान विभाग के निदेशक अमित कुमार ने बताया, ‘‘कुछ ग्रामीणों के खदान में फंसे होने की आशंका है और बचाव अभियान चल रहा है।’’भारत कोकिंग कोल लिमिटेड (BCCL) के प्रवक्ता से जब संपर्क किया गया तो उन्होंने बताया कि यहां से करीब 45 किलोमीटर दूर निरसा के चांच विक्टोरिया कोयलरी इलाके में बीसीसीएल द्वारा छोड़े गए कोयला खदान में हुई घटना की सूचना मिली है लेकिन लोगों की उसमें फंसे होने की पुष्टि नहीं हुई है। बार-बार संपर्क करने के बावजूद धनबाद के वरिष्ठ पुलिस अधीक्षक या पुलिस अधीक्षक (ग्रामीण) से संपर्क नहीं हो सका।गौरतलब है कि इस साल फरवरी में पांच लोगों की मौत धनबाद के गोपीनाथपुर में ईसीएन की छोड़ दी गई खदान धंसने से हो गई थी।(इनपुट- भाषा)\n",
            "Generated Summary: झारखंड के धनबाद में बृहस्पतिवार को खाली छोड़ी गई कोयला खदान धंसने से उसमें कई लोगों के फंसे होने की आशंका है।अधिकारियों ने यह जानकारी दी। उन्होंने बताया कि अबतक पता नहीं चला है कि खदान में \n",
            "Reference Summary: झारखंड सरकार के खान विभाग के निदेशक अमित कुमार ने बताया, ‘‘कुछ ग्रामीणों के खदान में फंसे होने की आशंका है और बचाव अभियान चल रहा है।’’\n",
            "Metrics: {'rouge1': 0.0, 'rouge2': 0.0, 'rougeL': 0.0, 'rougeLsum': 0.0, 'bert_score_f1': 58.0762}\n",
            "\n",
            "---\n",
            "\n"
          ]
        },
        {
          "metadata": {
            "tags": null
          },
          "name": "stderr",
          "output_type": "stream",
          "text": [
            "Some weights of RobertaModel were not initialized from the model checkpoint at roberta-large and are newly initialized: ['roberta.pooler.dense.bias', 'roberta.pooler.dense.weight']\n",
            "You should probably TRAIN this model on a down-stream task to be able to use it for predictions and inference.\n"
          ]
        },
        {
          "metadata": {
            "tags": null
          },
          "name": "stdout",
          "output_type": "stream",
          "text": [
            "Article 12600:\n",
            "Article: नई दिल्ली. देशभर में पिछले 24 घंटे में कोरोना संक्रमण के 39 हजार 70 नए मामले सामने आए हैं जबकि इस दौरान 43 हजार 910 मरीज कोरोना संक्रमण से उबरने में सफल रहे हैं और 491 मरीजों की इस महामारी की वजह से मौत हो गई है। स्वास्थ्य विभाग द्वारा जारी किए गए ताजा आकंड़ों के बाद, देश में अबतक सामने आए कोरोना संक्रमण के कुल मामले बढ़कर 3 करोड़ 19 लाख 34 हजार 455 हो गए हैं।स्वास्थ्य मंत्रालय के अनुसार, कुल मामलों में से अबतक 3 करोड़ 10 लाख 99 हजार 771 मरीज कोरोना से उबर चुके हैं। 4 लाख 27 हजार 862 मरीजों की मौत हो चुकी है। इस वक्त देश में कोरोना के 6 लाख 6 हजार 822 एक्टिव मामले हैं, जो संक्रमण के कुल मामलों का 1.27 प्रतिशत है। कोरोना वायरस से स्वस्थ होने की राष्ट्रीय दर 97.39 प्रतिशत है। आंकड़ों के मुताबिक, पिछले 24 घंटे में कोविड-19 के उपचाराधीन मरीजों की संख्या में 5,331 मामलों की कमी आयी है।इस बीमारी से उबरने वाले लोगों की संख्या बढ़कर 3,10,99,771 हुई है जबकि मृत्यु दर 1.34 प्रतिशत है। मंत्रालय ने बताया कि शनिवार को कोविड-19 का पता लगाने के लिए 17,22,221 नमूनों की जांच की गयी और इसी के साथ ही अब तक जांचे गए नमूनों की संख्या 48,00,39,185 हो गयी है। दैनिक संक्रमण दर 2.27 प्रतिशत है। पिछले 13 दिनों से यह तीन प्रतिशत से कम है। साप्ताहिक संक्रमण दर 2.38 प्रतिशत है।  रविवार सुबह तक देशव्यापी टीकाकरण अभियान के तहत कोविड-19 रोधी टीकों की 50.68 करोड़ खुराक दी जा चुकी है।मंत्रालय के आंकड़ों के अनुसार, जिन 491 और लोगों की मौत हुई है उनमें से 139 की केरल में और 128 लोगों की मौत महाराष्ट्र में हुई है। देश में अभी तक इस महामारी से कुल 4,27,862 लोग जान गंवा चुके हैं। इनमें से सबसे अधिक 1,33,845 लोगों की मौत महाराष्ट्र में, 36,773 की कर्नाटक, 34,289 की तमिलनाडु, 25,066 की दिल्ली, 22,773 की उत्तर प्रदेश, 18,217 की पश्चिम बंगाल और 17,654 लोगों की मौत केरल में हुई। स्वास्थ्य मंत्रालय ने बताया कि अब तक जिन लोगों की मौत हुई है, उनमें से 70 प्रतिशत से ज्यादा मरीजों को अन्य बीमारियां थीं। मंत्रालय ने अपनी वेबसाइट पर बताया कि उसके आंकड़ों का भारतीय आयुर्विज्ञान अनुसंधान परिषद (आईसीएमआर) के आंकड़ों के साथ मिलान किया जा रहा है।\n",
            "Generated Summary: देशभर में पिछले 24 घंटे में कोरोना संक्रमण के 39 हजार 70 नए मामले सामने आए हैं जबकि इस दौरान 43 हजार 910 मरीज कोरोना संक्रमण से उबरने में सफल रहे हैं और 491 मरीजों की इस महामारी की वजह से मौत हो गई है\n",
            "Reference Summary: स्वास्थ्य विभाग द्वारा जारी किए गए ताजा आकंड़ों के बाद, देश में अबतक सामने आए कोरोना संक्रमण के कुल मामले बढ़कर 3 करोड़ 19 लाख 34 हजार 455 हो गए हैं।\n",
            "Metrics: {'rouge1': 0.0, 'rouge2': 0.0, 'rougeL': 0.0, 'rougeLsum': 0.0, 'bert_score_f1': 52.1793}\n",
            "\n",
            "---\n",
            "\n"
          ]
        },
        {
          "metadata": {
            "tags": null
          },
          "name": "stderr",
          "output_type": "stream",
          "text": [
            "Some weights of RobertaModel were not initialized from the model checkpoint at roberta-large and are newly initialized: ['roberta.pooler.dense.bias', 'roberta.pooler.dense.weight']\n",
            "You should probably TRAIN this model on a down-stream task to be able to use it for predictions and inference.\n"
          ]
        },
        {
          "metadata": {
            "tags": null
          },
          "name": "stdout",
          "output_type": "stream",
          "text": [
            "Article 10419:\n",
            "Article: नई दिल्ली। पश्चिम बंगाल में भाजपा अध्यक्ष जेपी नड्डा और भाजपा महासचिव कैलाश विजयवर्गीय के काफिले पर गुरुवार को कथित तौर पर TMC समर्थकों द्वारा हुए हमले को लेकर जेपी नड्डा ने प्रेस कॉन्फ्रेंस करते हुए कहा कि बंगाल में डर का राज है। बंगाल में अराजकता, असहिष्णुता है। जेपी नड्डा ने ममता बनर्जी पर सीधा निशाना साधते हुए कहा कि ममता जी को पढ़ने-लिखने का शौक कम है, विवेकानंद के हिंदुत्व को नहीं समझती हैं। ममता जी सुन लीजिए बीजेपी का कार्यकर्ता हर इलाके में जाएगा। ये घटना प्रजातंत्र के लिए घाटक है। बंगाल में प्रशासन नाम की कोई चीज नहीं है। नड्डा ने आगे कहा कि मेरे कई नाम ममता जी ने गिनाएं, ये ममता का संस्कार है बंगाली कल्चर ऐसा नहीं है। बंगाल में अंतिम संस्कार के दौरान भी रिश्वत देनी पड़ रही है।प. बंगाल में अपने काफिले के ऊपर हुए हमले पर भाजपा राष्ट्रीय अध्यक्ष जे.पी. नड्डा ने कहा कि ये घटना बंगाल के बारे में एक गलत धारणा बनाने के लिए प्रमाण के रूप में हमारे सामने आती है। साफ दिखता है कि यहां अराजकता है, असहिष्णुता है और पॉलिटिकल डिबेट के लिए कोई स्थान नहीं है। जो बंगाल विचारों के आदान-प्रदान के लिए जाना जाता रहा, बंगाल जिसने देश और दुनिया को दृष्टि दी... उस बंगाल में आज ममता सरकार ने जिस तरीके से राजनैतिक घटनाक्रम चलाया है ये अत्यंत घातक है। ये स्पष्ट बताता है कि असहिष्णुता-ममता का नाम है। मैं ममता जी को बताना चाहता हूं कि हमारा एक-एक कार्यकर्ता सभी निर्वाचन क्षेत्रों में जाकर भाजपा के लिए काम करेगा, कमल खिलाएगा और विचारधारा के आदान-प्रदान से लोगों का दिल जीतेगा। बंगाल में बांग्लादेशी लोग बस रहे हैं, लेकिन राज्य के लोगों को भगाया जा रहा है: नड्डाभाजपा अध्यक्ष जे पी नड्डा ने गुरुवार को आरोप लगाया कि बांग्लादेश के लोग यहां आ रहे हैं और बस रहे हैं, लेकिन तृणमूल कांग्रेस राज्य के निवासियों को भगा रही है। दक्षिण 24 परगना जिले में मछुआरा समुदाय के लोगों के साथ एक बैठक में नड्डा ने आरोप लगाया कि केंद्र द्वारा राज्य को भेजे जाने वाले अनाज को तृणमूल कांग्रेस के नेता हड़प जाते हैं। उन्होंने कहा, ‘‘भ्रष्टतम सरकारों में से एक यहां चल रही है। यह चाल (चावल) चोर की सरकार है।’’ नड्डा ने आरोप लगाया, ‘‘बांग्लादेश से लोग यहां आ रहे हैं और बस रहे हैं, जबकि पश्चिम बंगाल के निवासियों को तृणमूल कांग्रेस राज्य से बाहर भगा रही है।’’बंगाल में जेपी नड्डा के काफिले पर हुए हमले को लेकर केंद्र ने बंगाल की ममता बनर्जी सरकार से रिपोर्ट मांगी है। इस बीच, केंद्रीय गृह मंत्री अमित शाह ने हमले की निंदा की और ट्विट कर कहा 'आज बंगाल में भाजपा के राष्ट्रीय अध्यक्ष जेपी नड्डा जी के ऊपर हुआ हमला बहुत ही निंदनीय है, उसकी जितनी भी निंदा की जाये वो कम है।' शाह ने कहा कि केंद्र सरकार इस हमले को पूरी गंभीरता से ले रही है। बंगाल सरकार को इस प्रायोजित हिंसा के लिए प्रदेश की शांतिप्रिय जनता को जवाब देना होगा। नड्डा को अपेक्षित सुरक्षा नहीं दी : तोमर केंद्रीय कृषि मंत्री नरेंद्र तोमर ने कहा कि बुधवार को भी समाचार आया था कि जैसी सुरक्षा नड्डा जी को अपेक्षित थी वो उन्हें नहीं दी गई। सामान्यतः मतभिन्नता लोकतंत्र में स्वाभाविक है लेकिन ऐसी घटनाएं देखने को नहीं मिलती थी। इस घटना पर ममता बनर्जी सरकार की अनदेखी घोर निंदनीय है। मैं संबंधित लोगों पर कार्रवाई की मांग करता हूं।गौरतलब है कि, बीजेपी अध्यक्ष जेपी नड्डा पश्चिम बंगाल की दो दिवसीय यात्रा पर हैं। गुरुवार को वह दक्षिण 24 परगना जिले के डायमंड हार्बर के रास्ते में थे तभी उनके काफिले पर पत्थर फेंका गया। भाजपा सूत्रों और प्रत्यक्षदर्शियों ने बताया कि नड्डा के काफिले पर यह हमला उस वक्‍त हुआ जब वह पार्टी कार्यकर्ताओं को संबोधित करने डायमंड हार्बर जा रहे थे। हमले में भाजपा महासचिव कैलाश विजयवर्गीय समेत कई नेता घायल हुए हैं। इस घटना को लेकर भाजपा ने टीएमसी के खिलाफ मोर्चा खोल दिया है। भाजपा के आला नेताओं ने ममता बनर्जी सरकार पर सवाल उठाए हैं। बंगाल में सत्तारूढ़ तृणमूल कांग्रेस ने हालांकि आरोप लगाया कि पूरे प्रकरण को बीजेपी ने ही प्लान किया था। एक कार्यक्रम में ममता बनर्जी ने दावा कि अगले साल भी टीएमसी की ही सरकार रहेगी और सवाल किया कि बाहर के लोग बंगाल चुनाव में क्यों आएंगे? ममता बनर्जी ने सवाल किया कि बंगाल चुनाव में बाहर के लोग क्यों आएंगे, बाहर के गुंडों को अटकाएं और बंगाल को बचाएं।  /*.jw-reset-text, .jw-reset{line-height: 2em;}*/  .jw-time-tip .jw-time-chapter{display:none;}  if ('' == comscore_jw_loaded || 'undefined' == comscore_jw_loaded || undefined == comscore_jw_loaded) {var comscore_jw_loaded = 1;firstjw = document.getElementsByClassName('jwvidplayer')[0];cs_jw_script = document.createElement('script');cs_jw_script.src = 'https://sb.scorecardresearch.com/internal-c2/plugins/streamingtag_plugin_jwplayer.js';firstjw.parentNode.insertBefore(cs_jw_script, firstjw.nextSibling);  }  var jwconfig_2761212193 = {\"file\": \"https://indiatv-vh.akamaihd.net/i/vod/0_7pskn7h4_,20,21,22,.mp4.csmil/master.m3u8\",\"image\": \"https://thumbs.indiatvnews.com/vod/0_7pskn7h4_big_thumb.jpg\",\"title\": \"जेपी नड्डा ने ममता दीदी पर साधा निशाना कहा - हमारे कार्यकर्ता सभी क्षेत्रों में जाकर भाजपा के लिए काम करेंगे\",\"height\": \"440px\",\"width\": \"100%\",\"aspectratio\": \"16:9\",\"autostart\": false,\"controls\": true,\"mute\": false,\"volume\": 100,\"floating\": false,\"sharing\": {\"code\": \"\",\"sites\": [\"facebook\",\"twitter\",\"email\"]},\"stretching\": \"exactfit\",\"primary\": \"html5\",\"hlshtml\": true,\"duration\": 873,\"advertising\": {\"client\": \"vast\",\"autoplayadsmuted\": true,\"skipoffset\": 5,\"cuetext\": \"\",\"skipmessage\": \"Skip ad in xx\",\"skiptext\": \"SKIP\",\"preloadAds\": true,\"schedule\": [{\"offset\": \"pre\",\"tag\": \"https://pubads.g.doubleclick.net/gampad/ads?iu=/8323530/Hindi_Video_Desktop_PreRoll&description_url=http%3A%2F%2Fwww.indiatv.in&tfcd=0&npa=0&sz=640x480&gdfp_req=1&output=vast&unviewed_position_start=1&env=vp&impl=s&correlator=\",\"type\": \"linear\"},{\"offset\": \"50%\",\"tag\": \"https://pubads.g.doubleclick.net/gampad/ads?iu=/8323530/Hindi_Video_Desktop_MidRoll&description_url=http%3A%2F%2Fwww.indiatv.in&tfcd=0&npa=0&sz=640x480&gdfp_req=1&output=vast&unviewed_position_start=1&env=vp&impl=s&correlator=\"},{\"offset\": \"post\",\"tag\": \"https://pubads.g.doubleclick.net/gampad/ads?iu=/8323530/Hindi_Video_Desktop_PostRoll&description_url=http%3A%2F%2Fwww.indiatv.in&tfcd=0&npa=0&sz=640x480&gdfp_req=1&output=vast&unviewed_position_start=1&env=vp&impl=s&correlator=\",\"type\": \"linear\"}]}};  var jwvidplayer_2761212193 = '';  jwsetup_2761212193();  function jwsetup_2761212193() {jwvidplayer_2761212193 = jwplayer(\"jwvidplayer_2761212193\").setup(jwconfig_2761212193);jwvidplayer_2761212193.on('ready', function () {  ns_.StreamingAnalytics.JWPlayer(jwvidplayer_2761212193, {publisherId: \"20465327\",labelmapping: \"c2=\\\"20465327\\\", c3=\\\"India TV Hindi\\\", c4=\\\"null\\\", c6=\\\"null\\\", ns_st_mp=\\\"jwplayer\\\", ns_st_cl=\\\"0\\\", ns_st_ci=\\\"0_7pskn7h4\\\", ns_st_pr=\\\"जेपी नड्डा ने ममता दीदी पर साधा निशाना कहा - हमारे कार्यकर्ता सभी क्षेत्रों में जाकर भाजपा के लिए काम करेंगे\\\", ns_st_sn=\\\"0\\\", ns_st_en=\\\"0\\\", ns_st_ep=\\\"जेपी नड्डा ने ममता दीदी पर साधा निशाना कहा - हमारे कार्यकर्ता सभी क्षेत्रों में जाकर भाजपा के लिए काम करेंगे\\\", ns_st_ct=\\\"null\\\", ns_st_ge=\\\"News\\\", ns_st_st=\\\"जेपी नड्डा ने ममता दीदी पर साधा निशाना कहा - हमारे कार्यकर्ता सभी क्षेत्रों में जाकर भाजपा के लिए काम करेंगे\\\", ns_st_ce=\\\"0\\\", ns_st_ia=\\\"0\\\", ns_st_ddt=\\\"2020-12-10\\\", ns_st_tdt=\\\"2020-12-10\\\", ns_st_pu=\\\"India TV Hindi\\\", ns_st_cu=\\\"https://indiatv-vh.akamaihd.net/i/vod/0_7pskn7h4_,20,21,22,.mp4.csmil/master.m3u8\\\", ns_st_ty=\\\"video\\\"\"  });});jwvidplayer_2761212193.on('all', function (r) {  if (jwvidplayer_2761212193.getState() == 'error' || jwvidplayer_2761212193.getState() == 'setupError') {jwvidplayer_2761212193.stop();jwvidplayer_2761212193.remove();jwvidplayer_2761212193 = '';jwsetup_2761212193();return;  }});jwvidplayer_2761212193.on('error', function (t) {  jwvidplayer_2761212193.stop();  jwvidplayer_2761212193.remove();  jwvidplayer_2761212193 = '';  jwsetup_2761212193();  return;});jwvidplayer_2761212193.on('mute', function (event) {  ga('send', 'event', 'JW Player Events', 'Errors', event.message);});jwvidplayer_2761212193.on('adPlay', function (event) {  ga('send', 'event', 'JW Player Events', 'Errors', event.message);});jwvidplayer_2761212193.on('adPause', function (event) {  ga('send', 'event', 'JW Player Events', 'Errors', event.message);});jwvidplayer_2761212193.on('pause', function (event) {  ga('send', 'event', 'JW Player Events', 'Errors', event.message);});jwvidplayer_2761212193.on('error', function (event) {  ga('send', 'event', 'JW Player Events', 'Errors', event.message);});jwvidplayer_2761212193.on('adBlock', function (event) {  ga('send', 'event', 'JW Player Events', 'Errors', event.message);});jwvidplayer_2761212193.on('adSkipped', function (event) {  ga('send', 'event', 'JW Player Events', 'Errors', event.message);});  }\n",
            "Generated Summary: पश्चिम बंगाल में भाजपा अध्यक्ष जेपी नड्डा और भाजपा महासचिव कैलाश विजयवर्गीय के काफिले पर गुरुवार को कथित तौर पर TMC समर्थकों द्वारा हुए हमले को लेकर जेपी नड्डा ने प्रेस कॉन्फ्रेंस करते हुए कहा कि बं\n",
            "Reference Summary: जेपी नड्डा ने ममता बनर्जी पर सीधा निशाना साधते हुए कहा कि ममता जी को पढ़ने-लिखने का शौक कम है, विवेकानंद के हिंदुत्व को नहीं समझती हैं।\n",
            "Metrics: {'rouge1': 0.0, 'rouge2': 0.0, 'rougeL': 0.0, 'rougeLsum': 0.0, 'bert_score_f1': 51.9358}\n",
            "\n",
            "---\n",
            "\n"
          ]
        },
        {
          "metadata": {
            "tags": null
          },
          "name": "stderr",
          "output_type": "stream",
          "text": [
            "Some weights of RobertaModel were not initialized from the model checkpoint at roberta-large and are newly initialized: ['roberta.pooler.dense.bias', 'roberta.pooler.dense.weight']\n",
            "You should probably TRAIN this model on a down-stream task to be able to use it for predictions and inference.\n"
          ]
        },
        {
          "metadata": {
            "tags": null
          },
          "name": "stdout",
          "output_type": "stream",
          "text": [
            "Article 12102:\n",
            "Article: नई दिल्ली: किसान नेता राकेश टिकैत ने राजस्थान के सीकर में ऐलान किया कि अगर केंद्र सरकार ने कृषि कानूनों को वापस नहीं लिया तो इस बार आह्वान संसद घेरने का होगा और वहां चार लाख नहीं चालीस लाख ट्रैक्टर जाएंगे। इसके साथ ही उन्होंने किसानों से तैयार रहने को कहा क्योंकि कभी भी दिल्ली जाने का आह्वान हो सकता है। टिकैत संयुक्त किसान मोर्चा की किसान महापंचायत को संबोधित कर रहे थे। उन्होंने कहा,'' कान खोलकर सुन ले दिल्ली, ये किसान भी वही हैं और ट्रैक्टर भी वही होंगे। अबकी बार आह्वान संसद का होगा। कहकर जाएंगे संसद पर। इस बार चार लाख नहीं चालीस लाख ट्रैक्टर जाएंगे।''राकेश टिकैत ने कहा कि किसान इंडिया गेट के पास के पार्कों में जुताई करेगा और फसल भी उगाएगा। साथ ही कहा कि संसद को घेरने के लिए तारीख संयुक्त मोर्चा तय करेगा। किसाने नेता ने कहा, ''26 जनवरी की घटना के मामले में देश के किसानों को बदनाम करने की साजिश की गई। देश के किसानों को तिरंगे से प्यार है, लेकिन इस देश के नेताओं को नहीं।'' टिकैत ने कहा कि सरकार को किसानों की तरफ से खुली चुनौती है कि सरकार ने तीनों कृषि कानून वापस नहीं लिए और एमएसपी लागू नहीं की तो बड़ी-बड़ी कंपनियों के गोदाम को ध्वस्त करने का काम भी देश का किसान करेगा। टिकैत ने कहा कि इसके लिए संयुक्त मोर्चा जल्द तारीख भी बताएगा। महापंचायत को स्वराज आंदोलन के नेता योगेंद्र यादव, अखिल भारतीय किसान सभा के राष्ट्रीय उपाध्यक्ष अमराराम, किसान यूनियन के राष्ट्रीय महामंत्री चौधरी युद्धवीर सिंह सहित कई किसान नेताओं ने भी संबोधित किया। इससे पहले टिकैत ने चूरू जिले के सरदारशहर में भी किसानों की सभा को संबोधित किया। वहीं भारतीय किसान यूनियन (भाकियू) के राष्ट्रीय अध्यक्ष नरेश टिकैत ने कहा कि केंद्र सरकार की मनमानी नहीं चलेगी। उन्होंने कहा कि अगर केंद्र सरकार तीनों कृषि कानूनों को खत्म करे तो किसान बातचीत को तैयार हैं। नरेश टिकैत बीबीनगर जाते वक्त कुछ देर के लिए हापुड़ के गांव धनौरा में भाकियू के मंडल सचिव ज्ञानेश्वर त्यागी के आवास पर आए और मीडिया से बातचीत की। उन्होंने कहा कि पहले सरकार तीनों कानूनों को वापस ले और न्यूनतम समर्थन मूल्य (एमएसपी) पर कानून बनाए, इन शर्तों के पूरा होने तक किसान पीछे नहीं हटेंगे। नरेश टिकैत ने कहा कि यह आंदोलन अनिश्चितकालीन है, जो मरते दम तक जारी रहेगा। उन्होंने दावा किया कि तीनों कृषि कानून किसानों के हक में नहीं है और यह बात सरकार भी जानती है, लेकिन अपनी जिद के चलते वह किसानों की बात सुनने को तैयार नहीं है। टिकैत ने दावा किया कि बीजेपी में ऐसे कई नेता हैं जो इस समस्या को सुलझा सकते हैं, लेकिन उन पर भी दबाव बनाया हुआ है। उन्होंने कहा कि सरकार अपनी जिद छोड़ दे क्योंकि किसान बातचीत करने के लिए तैयार हैं। उन्होंने यह भी कहा कि कृषि कानूनों को सरकार को वापस लेना ही होगा, यह शर्त माने जाने तक किसान पीछे नहीं हटेंगे। उन्होंने कहा,‘‘सरकार किसानों को कई नाम दे रही है, जो किसानों के लिए अपमान की बात है, लेकिन सरकार यह भूल गई है कि किसानों का शोषण करने वाला कभी सफल नहीं हुआ है। इसका परिणाम उसे भुगतना ही पड़ेगा।’’ ये भी पढ़ें  /*.jw-reset-text, .jw-reset{line-height: 2em;}*/  .jw-time-tip .jw-time-chapter{display:none;}  if ('' == comscore_jw_loaded || 'undefined' == comscore_jw_loaded || undefined == comscore_jw_loaded) {var comscore_jw_loaded = 1;firstjw = document.getElementsByClassName('jwvidplayer')[0];cs_jw_script = document.createElement('script');cs_jw_script.src = 'https://sb.scorecardresearch.com/internal-c2/plugins/streamingtag_plugin_jwplayer.js';firstjw.parentNode.insertBefore(cs_jw_script, firstjw.nextSibling);  }  var jwconfig_5884346211 = {\"file\": \"https://vod-indiatv.akamaized.net/hls/2021/02/0_fkz0p5le/master.m3u8\",\"image\": \"https://resize.indiatv.in/resize/vod/1200_-/2021/02/0_fkz0p5le.jpg\",\"title\": \"प्रियंका गांधी ने मथुरा की महापंचायत में पीएम मोदी पर किया हमला | और ख़बरों के लिए देखिये 'सुपर 100'\",\"height\": \"440px\",\"width\": \"100%\",\"aspectratio\": \"16:9\",\"autostart\": false,\"controls\": true,\"mute\": false,\"volume\": 100,\"floating\": false,\"sharing\": {\"code\": \"\",\"sites\": [\"facebook\",\"twitter\",\"email\"]},\"stretching\": \"exactfit\",\"primary\": \"html5\",\"hlshtml\": true,\"duration\": 628,\"advertising\": {\"client\": \"vast\",\"autoplayadsmuted\": true,\"skipoffset\": 5,\"cuetext\": \"\",\"skipmessage\": \"Skip ad in xx\",\"skiptext\": \"SKIP\",\"preloadAds\": true,\"schedule\": [{\"offset\": \"pre\",\"tag\": \"https://pubads.g.doubleclick.net/gampad/ads?iu=/8323530/Hindi_Video_Desktop_PreRoll&description_url=http%3A%2F%2Fwww.indiatv.in&tfcd=0&npa=0&sz=640x480&gdfp_req=1&output=vast&unviewed_position_start=1&env=vp&impl=s&correlator=\",\"type\": \"linear\"},{\"offset\": \"50%\",\"tag\": \"https://pubads.g.doubleclick.net/gampad/ads?iu=/8323530/Hindi_Video_Desktop_MidRoll&description_url=http%3A%2F%2Fwww.indiatv.in&tfcd=0&npa=0&sz=640x480&gdfp_req=1&output=vast&unviewed_position_start=1&env=vp&impl=s&correlator=\"},{\"offset\": \"post\",\"tag\": \"https://pubads.g.doubleclick.net/gampad/ads?iu=/8323530/Hindi_Video_Desktop_PostRoll&description_url=http%3A%2F%2Fwww.indiatv.in&tfcd=0&npa=0&sz=640x480&gdfp_req=1&output=vast&unviewed_position_start=1&env=vp&impl=s&correlator=\",\"type\": \"linear\"}]}};  var jwvidplayer_5884346211 = '';  jwsetup_5884346211();  function jwsetup_5884346211() {jwvidplayer_5884346211 = jwplayer(\"jwvidplayer_5884346211\").setup(jwconfig_5884346211);jwvidplayer_5884346211.on('ready', function () {  ns_.StreamingAnalytics.JWPlayer(jwvidplayer_5884346211, {publisherId: \"20465327\",labelmapping: \"c2=\\\"20465327\\\", c3=\\\"India TV Hindi\\\", c4=\\\"null\\\", c6=\\\"null\\\", ns_st_mp=\\\"jwplayer\\\", ns_st_cl=\\\"0\\\", ns_st_ci=\\\"0_fkz0p5le\\\", ns_st_pr=\\\"प्रियंका गांधी ने मथुरा की महापंचायत में पीएम मोदी पर किया हमला | और ख़बरों के लिए देखिये 'सुपर 100'\\\", ns_st_sn=\\\"0\\\", ns_st_en=\\\"0\\\", ns_st_ep=\\\"प्रियंका गांधी ने मथुरा की महापंचायत में पीएम मोदी पर किया हमला | और ख़बरों के लिए देखिये 'सुपर 100'\\\", ns_st_ct=\\\"null\\\", ns_st_ge=\\\"News\\\", ns_st_st=\\\"प्रियंका गांधी ने मथुरा की महापंचायत में पीएम मोदी पर किया हमला | और ख़बरों के लिए देखिये 'सुपर 100'\\\", ns_st_ce=\\\"0\\\", ns_st_ia=\\\"0\\\", ns_st_ddt=\\\"2021-02-23\\\", ns_st_tdt=\\\"2021-02-23\\\", ns_st_pu=\\\"India TV Hindi\\\", ns_st_cu=\\\"https://vod-indiatv.akamaized.net/hls/2021/02/0_fkz0p5le/master.m3u8\\\", ns_st_ty=\\\"video\\\"\"  });});jwvidplayer_5884346211.on('all', function (r) {  if (jwvidplayer_5884346211.getState() == 'error' || jwvidplayer_5884346211.getState() == 'setupError') {jwvidplayer_5884346211.stop();jwvidplayer_5884346211.remove();jwvidplayer_5884346211 = '';jwsetup_5884346211();return;  }});jwvidplayer_5884346211.on('error', function (t) {  jwvidplayer_5884346211.stop();  jwvidplayer_5884346211.remove();  jwvidplayer_5884346211 = '';  jwsetup_5884346211();  return;});jwvidplayer_5884346211.on('mute', function (event) {  ga('send', 'event', 'JW Player Events', 'Errors', event.message);});jwvidplayer_5884346211.on('adPlay', function (event) {  ga('send', 'event', 'JW Player Events', 'Errors', event.message);});jwvidplayer_5884346211.on('adPause', function (event) {  ga('send', 'event', 'JW Player Events', 'Errors', event.message);});jwvidplayer_5884346211.on('pause', function (event) {  ga('send', 'event', 'JW Player Events', 'Errors', event.message);});jwvidplayer_5884346211.on('error', function (event) {  ga('send', 'event', 'JW Player Events', 'Errors', event.message);});jwvidplayer_5884346211.on('adBlock', function (event) {  ga('send', 'event', 'JW Player Events', 'Errors', event.message);});jwvidplayer_5884346211.on('adSkipped', function (event) {  ga('send', 'event', 'JW Player Events', 'Errors', event.message);});  }\n",
            "Generated Summary: टिकैत ने कहा कि सरकार को किसानों की तरफ से खुली चुनौती है कि सरकार ने तीनों कृषि कानून वापस नहीं लिए और एमएसपी लागू नहीं की तो बड़ी-बड़ी कंपनियों के गोदाम को ध्वस्त करने का काम भी देश का किसान करेगा।\n",
            "Reference Summary: किसान नेता राकेश टिकैत ने राजस्थान के सीकर में ऐलान किया कि अगर केंद्र सरकार ने कृषि कानूनों को वापस नहीं लिया तो इस बार आह्वान संसद घेरने का होगा और वहां चार लाख नहीं चालीस लाख ट्रैक्टर जाएंगे।\n",
            "Metrics: {'rouge1': 0.0, 'rouge2': 0.0, 'rougeL': 0.0, 'rougeLsum': 0.0, 'bert_score_f1': 59.6393}\n",
            "\n",
            "---\n",
            "\n"
          ]
        },
        {
          "metadata": {
            "tags": null
          },
          "name": "stderr",
          "output_type": "stream",
          "text": [
            "Some weights of RobertaModel were not initialized from the model checkpoint at roberta-large and are newly initialized: ['roberta.pooler.dense.bias', 'roberta.pooler.dense.weight']\n",
            "You should probably TRAIN this model on a down-stream task to be able to use it for predictions and inference.\n"
          ]
        },
        {
          "metadata": {
            "tags": null
          },
          "name": "stdout",
          "output_type": "stream",
          "text": [
            "Article 11991:\n",
            "Article: रायपुर: कांग्रेस के वरिष्ठ नेता कपिल सिब्बल द्वारा पंजाब मामले में पार्टी नेतृत्व पर सवाल खड़ा किए जाने के बाद छत्तीसगढ़ के मुख्यमंत्री भूपेश बघेल ने उनके बयान को दुर्भाग्यपूर्ण बताया। मुख्यमंत्री बघेल ने गुरुवार को कहा, ‘कपिल सिब्बल हमारे वरिष्ठ नेता और पूर्व मंत्री हैं। वह वरिष्ठ वकील भी हैं। उनका इस प्रकार से बयान देना निश्चित रूप से दुर्भाग्यपूर्ण है। राष्ट्रीय अध्यक्ष पद से राहुल के इस्तीफे के बाद कार्यकारी अध्यक्ष के रूप में सभी ने सोनिया गांधी को स्वीकार किया और वह अभी तक कार्यरत हैं। बीच में चुनाव की घोषणा हुई लेकिन कोविड-19 के मद्देनजर उसे स्थगित कर दिया गया। उसके बाद यह सवाल उठाना हास्यास्पद है।’कपिल सिब्बल ने खड़े किए थे सवालसिब्बल ने पार्टी की पंजाब इकाई में मचे घमासान और कांग्रेस की मौजूदा स्थिति को लेकर बुधवार को पार्टी नेतृत्व पर सवाल खड़े किए थे और कहा था कि कांग्रेस कार्य समिति (CWC) की बैठक बुलाकर इस स्थिति पर चर्चा होनी चाहिए और संगठनात्मक चुनाव कराए जाने चाहिए। उन्होंने कई नेताओं के पार्टी छोड़ने का उल्लेख करते हुए गांधी परिवार पर इशारों-इशारों में कटाक्ष किया कि ‘जो लोग इनके खासमखास थे वो छोड़कर चले गए, लेकिन जिन्हें वे खासमखास नहीं मानते वे आज भी इनके साथ खड़े हैं। हम ‘जी हुजूर 23’ नहीं हैं। हम अपनी बात रखते रहेंगे।’कांग्रेस नेताओं के निशाने पर सिब्बलइस बयान को लेकर सिब्बल अपनी ही पार्टी के कई नेताओं और कार्यकर्ताओं के निशाने पर हैं। पूर्व केंद्रीय मंत्री अजय माकन ने आरोप लगाया कि सिब्बल जैसे नेता पार्टी के उन कार्यकर्ताओं का हौसला पस्त कर रहे हैं जो कांग्रेस की विचारधारा के साथ खड़े हैं। कांग्रेस नेता अलका लांबा ने दावा किया, ‘कपिल सिब्बल जी से 2020 के विधानसभा चुनावों में मैं निवेदन करती रही सर एक बार चांदनी चौक आ जाइए, एक बार भी नहीं आए, अपने घर पर जिन कार्यकर्ताओं स्थानीय नेताओं की मीटिंग बुलाई, अगले ही दिन सभी ने आम आदमी पार्टी का दामन थाम लिया, ना ही 2019 का चुनाव लड़ने वाले ही आए। इनके दम पर कांग्रेस चलेगी?’  /*.jw-reset-text, .jw-reset{line-height: 2em;}*/  .jw-time-tip .jw-time-chapter{display:none;}  if ('' == comscore_jw_loaded || 'undefined' == comscore_jw_loaded || undefined == comscore_jw_loaded) {var comscore_jw_loaded = 1;firstjw = document.getElementsByClassName('jwvidplayer')[0];cs_jw_script = document.createElement('script');cs_jw_script.src = 'https://sb.scorecardresearch.com/internal-c2/plugins/streamingtag_plugin_jwplayer.js';firstjw.parentNode.insertBefore(cs_jw_script, firstjw.nextSibling);  }  var jwconfig_3846450330 = {\"file\": \"https://vod-indiatv.akamaized.net/hls/2021/09/0_q0doqh9r/master.m3u8\",\"image\": \"https://resize.indiatv.in/resize/vod/1200_-/2021/09/0_q0doqh9r.jpg\",\"title\": \"चुनाव मंच | डर या दहशत से चुनाव नहीं जीते जाते: राजा भैया\",\"height\": \"440px\",\"width\": \"100%\",\"aspectratio\": \"16:9\",\"autostart\": false,\"controls\": true,\"mute\": false,\"volume\": 100,\"floating\": false,\"sharing\": {\"code\": \"\",\"sites\": [\"facebook\",\"twitter\",\"email\"]},\"stretching\": \"exactfit\",\"primary\": \"html5\",\"hlshtml\": true,\"duration\": 1631,\"advertising\": {\"client\": \"vast\",\"autoplayadsmuted\": true,\"skipoffset\": 5,\"cuetext\": \"\",\"skipmessage\": \"Skip ad in xx\",\"skiptext\": \"SKIP\",\"preloadAds\": true,\"schedule\": [{\"offset\": \"pre\",\"tag\": \"https://pubads.g.doubleclick.net/gampad/ads?iu=/8323530/Hindi_Video_Desktop_PreRoll&description_url=http%3A%2F%2Fwww.indiatv.in&tfcd=0&npa=0&sz=640x480&gdfp_req=1&output=vast&unviewed_position_start=1&env=vp&impl=s&correlator=\",\"type\": \"linear\"},{\"offset\": \"50%\",\"tag\": \"https://pubads.g.doubleclick.net/gampad/ads?iu=/8323530/Hindi_Video_Desktop_MidRoll&description_url=http%3A%2F%2Fwww.indiatv.in&tfcd=0&npa=0&sz=640x480&gdfp_req=1&output=vast&unviewed_position_start=1&env=vp&impl=s&correlator=\"},{\"offset\": \"post\",\"tag\": \"https://pubads.g.doubleclick.net/gampad/ads?iu=/8323530/Hindi_Video_Desktop_PostRoll&description_url=http%3A%2F%2Fwww.indiatv.in&tfcd=0&npa=0&sz=640x480&gdfp_req=1&output=vast&unviewed_position_start=1&env=vp&impl=s&correlator=\",\"type\": \"linear\"}]}};  var jwvidplayer_3846450330 = '';  jwsetup_3846450330();  function jwsetup_3846450330() {jwvidplayer_3846450330 = jwplayer(\"jwvidplayer_3846450330\").setup(jwconfig_3846450330);jwvidplayer_3846450330.on('ready', function () {  ns_.StreamingAnalytics.JWPlayer(jwvidplayer_3846450330, {publisherId: \"20465327\",labelmapping: \"c2=\\\"20465327\\\", c3=\\\"India TV Hindi\\\", c4=\\\"null\\\", c6=\\\"null\\\", ns_st_mp=\\\"jwplayer\\\", ns_st_cl=\\\"0\\\", ns_st_ci=\\\"0_q0doqh9r\\\", ns_st_pr=\\\"चुनाव मंच | डर या दहशत से चुनाव नहीं जीते जाते: राजा भैया\\\", ns_st_sn=\\\"0\\\", ns_st_en=\\\"0\\\", ns_st_ep=\\\"चुनाव मंच | डर या दहशत से चुनाव नहीं जीते जाते: राजा भैया\\\", ns_st_ct=\\\"null\\\", ns_st_ge=\\\"News\\\", ns_st_st=\\\"चुनाव मंच | डर या दहशत से चुनाव नहीं जीते जाते: राजा भैया\\\", ns_st_ce=\\\"0\\\", ns_st_ia=\\\"0\\\", ns_st_ddt=\\\"2021-09-30\\\", ns_st_tdt=\\\"2021-09-30\\\", ns_st_pu=\\\"India TV Hindi\\\", ns_st_cu=\\\"https://vod-indiatv.akamaized.net/hls/2021/09/0_q0doqh9r/master.m3u8\\\", ns_st_ty=\\\"video\\\"\"  });});jwvidplayer_3846450330.on('all', function (r) {  if (jwvidplayer_3846450330.getState() == 'error' || jwvidplayer_3846450330.getState() == 'setupError') {jwvidplayer_3846450330.stop();jwvidplayer_3846450330.remove();jwvidplayer_3846450330 = '';jwsetup_3846450330();return;  }});jwvidplayer_3846450330.on('error', function (t) {  jwvidplayer_3846450330.stop();  jwvidplayer_3846450330.remove();  jwvidplayer_3846450330 = '';  jwsetup_3846450330();  return;});jwvidplayer_3846450330.on('mute', function (event) {  ga('send', 'event', 'JW Player Events', 'Errors', event.message);});jwvidplayer_3846450330.on('adPlay', function (event) {  ga('send', 'event', 'JW Player Events', 'Errors', event.message);});jwvidplayer_3846450330.on('adPause', function (event) {  ga('send', 'event', 'JW Player Events', 'Errors', event.message);});jwvidplayer_3846450330.on('pause', function (event) {  ga('send', 'event', 'JW Player Events', 'Errors', event.message);});jwvidplayer_3846450330.on('error', function (event) {  ga('send', 'event', 'JW Player Events', 'Errors', event.message);});jwvidplayer_3846450330.on('adBlock', function (event) {  ga('send', 'event', 'JW Player Events', 'Errors', event.message);});jwvidplayer_3846450330.on('adSkipped', function (event) {  ga('send', 'event', 'JW Player Events', 'Errors', event.message);});  }\n",
            "Generated Summary: कांग्रेस के वरिष्ठ नेता कपिल सिब्बल द्वारा पंजाब मामले में पार्टी नेतृत्व पर सवाल खड़ा किए जाने के बाद छत्तीसगढ़ के मुख्यमंत्री भूपेश बघेल ने उनके बयान को दुर्भाग्यपूर्ण बताया।\n",
            "Reference Summary: सिब्बल ने पार्टी की पंजाब इकाई में मचे घमासान और कांग्रेस की मौजूदा स्थिति को लेकर बुधवार को पार्टी नेतृत्व पर सवाल खड़े किए थे।\n",
            "Metrics: {'rouge1': 0.0, 'rouge2': 0.0, 'rougeL': 0.0, 'rougeLsum': 0.0, 'bert_score_f1': 60.2151}\n",
            "\n",
            "---\n",
            "\n"
          ]
        },
        {
          "metadata": {
            "tags": null
          },
          "name": "stderr",
          "output_type": "stream",
          "text": [
            "Some weights of RobertaModel were not initialized from the model checkpoint at roberta-large and are newly initialized: ['roberta.pooler.dense.bias', 'roberta.pooler.dense.weight']\n",
            "You should probably TRAIN this model on a down-stream task to be able to use it for predictions and inference.\n"
          ]
        },
        {
          "metadata": {
            "tags": null
          },
          "name": "stdout",
          "output_type": "stream",
          "text": [
            "Article 1209:\n",
            "Article: श्रेयस अय्यर अक्टूबर से भारत में होने वाला वनडे वर्ल्ड कप खेल सकते हैं। उन्होंने मंगलवार को बेंगलुरु की नेशनल क्रिकेट एकेडमी में नेट प्रैक्टिस की। नेट्स में बैटिंग का उनका वीडियो वायरल हो रहा है। रिपोर्ट्स के अनुसार, अय्यर वर्ल्ड कप से पहले ही 100% फिट हो जाएंगे और टूर्नामेंट का हिस्सा भी बन सकते हैं।\n",
            "एशिया कप से पहले भी अय्यर का फिटनेस टेस्ट होगा। अगर वे इस टेस्ट को भी पास कर लेते हैं तो वह इस चैंपियनशिप में भी खेल सकते हैं। एशिया कप 31 अगस्त से शुरू होगा।\n",
            "ऑस्ट्रेलिया के खिलाफ टेस्ट में चोटिल हुए थे, IPL नहीं खेला\n",
            "श्रेयस अय्यर इसी साल में मार्च में ऑस्ट्रेलिया के खिलाफ टेस्ट मैच में चोटिल हो गए थे। चोट के कारण वह टेस्ट मैच में भारत की ओर से दूसरी पारी में बैटिंग करने भी नहीं उतरे थे। अप्रैल में अय्यर ने लंदन में पीठ की सर्जरी कराई।\n",
            "सर्जरी के कारण अय्यर ने IPL सीजन में कोलकाता (KKR) से एक भी मैच नहीं खेला और वर्ल्ड टेस्ट चैम्पियनशिप में भी भारत का हिस्सा नहीं हो सके। वह NCA में फिटनेस पर काम करते रहे और वेस्टइंडीज दौरे पर भी टीम का हिस्सा नहीं बन सके।\n",
            "बुमराह की आयरलैंड के खिलाफ वापसी संभव\n",
            "15 अप्रैल को तेज गेंदबाज जसप्रीत बुमराह की सर्जरी हुई, 28 जून को उन्होंने भी नेट्स में गेंदबाजी करनी शुरू कर दी थी। वह नेट प्रैक्टिस में तब हर दिन 7 ओवर गेंदबाजी कर रहे थे। रिपोर्ट्स में कहा गया था कि वह जुलाई में कुछ प्रैक्टिस मैच भी खेलेंगे। श्रेयस अय्यर की सर्जरी 21 अप्रैल को हुई थी और अब 11 जुलाई को उनके भी नेट प्रैक्टिस करने के विजुअल्स सामने आ गए।\n",
            "रिपोर्ट्स के अनुसार, बुमराह आयरलैंड के खिलाफ टी-20 सीरीज से वापसी कर सकते हैं। भारत आयरलैंड के खिलाफ 18, 21 और 23 अगस्त को 3 टी-20 खेलेगा। बुमराह अगर फिट रहे तो उन्हें 31 अगस्त से शुरू होने वाले वनडे एशिया कप का हिस्सा भी बनाया जा सकता है।\n",
            "अय्यर के आने से नंबर-4 की समस्या खत्म होगी \n",
            "श्रेयस अय्यर के फिट होने से भारत को नंबर-4 पर किसी और बैटर की तलाश नहीं करनी पड़ेगी। टीम इंडिया में युवराज सिंह और सुरेश रैना के बाद से इस पोजिशन पर कोई दमदार खिलाड़ी नहीं आया। यही समस्या टीम को 2015 और 2019 के वर्ल्ड कप में भी आई।\n",
            "अय्यर ने 2019 के बाद से ही टीम इंडिया में जगह पक्की की और नंबर-4 पर बैटिंग कर इस पोजिशन को अपना बना लिया। 2019 वनडे वर्ल्ड कप के बाद उन्होंने इस पोजिशन पर 22 मैचों में 805 रन बनाए। उनसे ज्यादा रन इस पोजिशन पर कोई और भारतीय बैटर नहीं बना सका।\n",
            "अगले ग्राफिक में देखिए 2019 के बाद से नंबर-4 पर अय्यर सहित अन्य भारतीय बैटर्स का प्रदर्शन...\n",
            "भारत-कुवैत का फुटबॉल फाइनल भी देखने पहुंचे थे\n",
            "श्रेयस अय्यर पिछले कई महीनों से बेंगलुरु में ही है। वह 4 जुलाई को भारत और कुवैत के बीच हुए SAFF फुटबॉल चैम्पियनशिप का फाइनल मुकाबला देखने भी पहुंचे थे। उन्होंने बेंगलुरु के ही कंतिरवा स्टेडियम में अपने दोस्तों के साथ बैठकर फाइनल मैच देखा था।\n",
            "फाइनल मैच भारत ने पेनल्टी शूटआउट में 5-4 से जीता था। फुल टाइम और एक्स्ट्रा टाइम के बाद दोनों टीमें 1-1 गोल ही कर सकी थी, इसीलिए नतीजे के लिए पेनल्टी शूटआउट का सहारा लिया गया। पढ़ें पूरी खबर...\n",
            "श्रेयस अय्यर अगर फिट हुए तो भारत के लिए वनडे वर्ल्ड कप भी खेल सकते हैं। पढ़ें वर्ल्ड कप का GK...\n",
            "स्पोर्ट्स की ये खबरें भी पढ़ें...\n",
            "क्रिकेट किंग था वेस्टइंडीज, 29 टेस्ट सीरीज तक हारा नहीं\n",
            "लगातार गर्त में जा रही वेस्टइंडीज टीम की स्थिति हमेशा ऐसी नहीं रही थी। इस सदी में लगातार डिक्लाइन देखने वाली इस टीम ने पिछली सदी में करीब 20 साल तक क्रिकेट की दुनिया पर राज किया था। पूरी खबर पढ़ने के लिए यहां क्लिक करें...\n",
            "कैरेबियाई टीम पर लगातार 9वीं सीरीज जीत का मौका, डेब्यू करेंगे यशस्वी जायसवाल\n",
            "टीम इंडिया आज से वेस्टइंडीज के खिलाफ वर्ल्ड टेस्ट चैंपियनशिप 2023-25 में अपने अभियान का आगाज करेगी। दो टेस्ट की सीरीज का पहला मुकाबला आज शाम 7:30 बजे से खेला जाएगा। मुकाबले में युवा यशस्वी जायसवाल टेस्ट डेब्यू करेंगे। दोनों टीमें चार साल बाद टेस्ट में एक-दूसरे का सामना करेंगी। आखिरी बार दोनों टीमें साल 2019 में आमने-सामने हुई थीं। पूरी खबर पढ़ने के लिए यहां क्लिक करें...\n",
            "Generated Summary: भारतीय टीम इंडिया आज से वेस्टइंडीज के खिलाफ वर्ल्ड टेस्ट चैंपियनशिप 2023-25 में अपने अभियान का आगाज करेगी। दो टेस्ट की सीरीज का पहला मुकाबला आज शाम 7:30 बजे से खेला जाएगा। मुकाबले में युवा यशस्वी जायसवाल टे\n",
            "Reference Summary: Shreyas Iyer Injury Update; Team India Player Shreyas Iyer to Participate in October's ODI World Cup in India श्रेयस अय्यर अक्टूबर से भारत में होने वाला वनडे वर्ल्ड कप खेल सकते हैं। उन्होंने मंगलवार को बेंगलुरु की नेशनल क्रिकेट एकेडमी में नेट प्रैक्टिस की। नेट्स में बैटिंग का उनका वीडियो वायरल हो रहा है\n",
            "Metrics: {'rouge1': 0.0, 'rouge2': 0.0, 'rougeL': 0.0, 'rougeLsum': 0.0, 'bert_score_f1': 47.8024}\n",
            "\n",
            "---\n",
            "\n"
          ]
        },
        {
          "metadata": {
            "tags": null
          },
          "name": "stderr",
          "output_type": "stream",
          "text": [
            "Some weights of RobertaModel were not initialized from the model checkpoint at roberta-large and are newly initialized: ['roberta.pooler.dense.bias', 'roberta.pooler.dense.weight']\n",
            "You should probably TRAIN this model on a down-stream task to be able to use it for predictions and inference.\n"
          ]
        },
        {
          "metadata": {
            "tags": null
          },
          "name": "stdout",
          "output_type": "stream",
          "text": [
            "Article 15511:\n",
            "Article: गंगटोक: पूर्वी सिक्किम में बुधवार को सेना के जवानों को ले जा रहा एक ट्रक खाई में गिर गया जिससे तीन जवानों की मौत हो गई और तीन अन्य जवान गंभीर रूप से घायल हो गए। पुलिस ने यह जानकारी दी। एक अधिकारी ने बताया कि यह दुर्घटना न्यू जवाहलाल नेहरू रोड पर हुई। उन्होंने बताया कि यह मार्ग गंगटोक को सोमगो झील और भारत-चीन सीमा के निकट नाथुला से जोड़ता है। उन्होंने बताया कि ट्रक में कुमाऊं रेजिमेंट के छह जवान सवार थे और ये गंगटोक की तरफ जा रहे थे तभी चालक वाहन से नियंत्रण खो बैठा और यह 600 फुट गहरी खाई में जा गिरा। चालक तथा दो अन्य जवानों की मौत घटनास्थल पर ही हो गई। अधिकारी ने बताया कि सेना, बीआरओ, पुलिस और स्थानीय लोगों ने इस दुर्गम क्षेत्र में खराब मौसम के बीच बचाव अभियान चलाया और तीन घायल सैनिकों को गंगटोक के सेना अस्पताल में भर्ती कराया, जहां से उन्हें पश्चिम बंगाल के सिलीगुड़ी में इलाज के लिए भेजा गया है।   /*.jw-reset-text, .jw-reset{line-height: 2em;}*/  .jw-time-tip .jw-time-chapter{display:none;}  if ('' == comscore_jw_loaded || 'undefined' == comscore_jw_loaded || undefined == comscore_jw_loaded) {var comscore_jw_loaded = 1;firstjw = document.getElementsByClassName('jwvidplayer')[0];cs_jw_script = document.createElement('script');cs_jw_script.src = 'https://sb.scorecardresearch.com/internal-c2/plugins/streamingtag_plugin_jwplayer.js';firstjw.parentNode.insertBefore(cs_jw_script, firstjw.nextSibling);  }  var jwconfig_4884032483 = {\"file\": \"https://vod-indiatv.akamaized.net/hls/2021/06/0_63yopgt0/master.m3u8\",\"image\": \"https://resize.indiatv.in/resize/vod/1200_-/2021/06/0_63yopgt0.jpg\",\"title\": \"सुपर 100: आज कैबिनेट बैठक की अध्यक्षता करेंगे पीएम नरेंद्र मोदी\",\"height\": \"440px\",\"width\": \"100%\",\"aspectratio\": \"16:9\",\"autostart\": false,\"controls\": true,\"mute\": false,\"volume\": 100,\"floating\": false,\"sharing\": {\"code\": \"\",\"sites\": [\"facebook\",\"twitter\",\"email\"]},\"stretching\": \"exactfit\",\"primary\": \"html5\",\"hlshtml\": true,\"duration\": 677,\"advertising\": {\"client\": \"vast\",\"autoplayadsmuted\": true,\"skipoffset\": 5,\"cuetext\": \"\",\"skipmessage\": \"Skip ad in xx\",\"skiptext\": \"SKIP\",\"preloadAds\": true,\"schedule\": [{\"offset\": \"pre\",\"tag\": \"https://pubads.g.doubleclick.net/gampad/ads?iu=/8323530/Hindi_Video_Desktop_PreRoll&description_url=http%3A%2F%2Fwww.indiatv.in&tfcd=0&npa=0&sz=640x480&gdfp_req=1&output=vast&unviewed_position_start=1&env=vp&impl=s&correlator=\",\"type\": \"linear\"},{\"offset\": \"50%\",\"tag\": \"https://pubads.g.doubleclick.net/gampad/ads?iu=/8323530/Hindi_Video_Desktop_MidRoll&description_url=http%3A%2F%2Fwww.indiatv.in&tfcd=0&npa=0&sz=640x480&gdfp_req=1&output=vast&unviewed_position_start=1&env=vp&impl=s&correlator=\"},{\"offset\": \"post\",\"tag\": \"https://pubads.g.doubleclick.net/gampad/ads?iu=/8323530/Hindi_Video_Desktop_PostRoll&description_url=http%3A%2F%2Fwww.indiatv.in&tfcd=0&npa=0&sz=640x480&gdfp_req=1&output=vast&unviewed_position_start=1&env=vp&impl=s&correlator=\",\"type\": \"linear\"}]}};  var jwvidplayer_4884032483 = '';  jwsetup_4884032483();  function jwsetup_4884032483() {jwvidplayer_4884032483 = jwplayer(\"jwvidplayer_4884032483\").setup(jwconfig_4884032483);jwvidplayer_4884032483.on('ready', function () {  ns_.StreamingAnalytics.JWPlayer(jwvidplayer_4884032483, {publisherId: \"20465327\",labelmapping: \"c2=\\\"20465327\\\", c3=\\\"India TV Hindi\\\", c4=\\\"null\\\", c6=\\\"null\\\", ns_st_mp=\\\"jwplayer\\\", ns_st_cl=\\\"0\\\", ns_st_ci=\\\"0_63yopgt0\\\", ns_st_pr=\\\"सुपर 100: आज कैबिनेट बैठक की अध्यक्षता करेंगे पीएम नरेंद्र मोदी\\\", ns_st_sn=\\\"0\\\", ns_st_en=\\\"0\\\", ns_st_ep=\\\"सुपर 100: आज कैबिनेट बैठक की अध्यक्षता करेंगे पीएम नरेंद्र मोदी\\\", ns_st_ct=\\\"null\\\", ns_st_ge=\\\"News\\\", ns_st_st=\\\"सुपर 100: आज कैबिनेट बैठक की अध्यक्षता करेंगे पीएम नरेंद्र मोदी\\\", ns_st_ce=\\\"0\\\", ns_st_ia=\\\"0\\\", ns_st_ddt=\\\"2021-06-30\\\", ns_st_tdt=\\\"2021-06-30\\\", ns_st_pu=\\\"India TV Hindi\\\", ns_st_cu=\\\"https://vod-indiatv.akamaized.net/hls/2021/06/0_63yopgt0/master.m3u8\\\", ns_st_ty=\\\"video\\\"\"  });});jwvidplayer_4884032483.on('all', function (r) {  if (jwvidplayer_4884032483.getState() == 'error' || jwvidplayer_4884032483.getState() == 'setupError') {jwvidplayer_4884032483.stop();jwvidplayer_4884032483.remove();jwvidplayer_4884032483 = '';jwsetup_4884032483();return;  }});jwvidplayer_4884032483.on('error', function (t) {  jwvidplayer_4884032483.stop();  jwvidplayer_4884032483.remove();  jwvidplayer_4884032483 = '';  jwsetup_4884032483();  return;});jwvidplayer_4884032483.on('mute', function (event) {  ga('send', 'event', 'JW Player Events', 'Errors', event.message);});jwvidplayer_4884032483.on('adPlay', function (event) {  ga('send', 'event', 'JW Player Events', 'Errors', event.message);});jwvidplayer_4884032483.on('adPause', function (event) {  ga('send', 'event', 'JW Player Events', 'Errors', event.message);});jwvidplayer_4884032483.on('pause', function (event) {  ga('send', 'event', 'JW Player Events', 'Errors', event.message);});jwvidplayer_4884032483.on('error', function (event) {  ga('send', 'event', 'JW Player Events', 'Errors', event.message);});jwvidplayer_4884032483.on('adBlock', function (event) {  ga('send', 'event', 'JW Player Events', 'Errors', event.message);});jwvidplayer_4884032483.on('adSkipped', function (event) {  ga('send', 'event', 'JW Player Events', 'Errors', event.message);});  }ये भी पढ़ें\n",
            "Generated Summary: पूर्वी सिक्किम में बुधवार को सेना के जवानों को ले जा रहा एक ट्रक खाई में गिर गया जिससे तीन जवानों की मौत हो गई और तीन अन्य जवान गंभीर रूप से घायल हो गए। पुलिस ने यह जानकारी दी।\n",
            "Reference Summary: पूर्वी सिक्किम में बुधवार को सेना के जवानों को ले जा रहा एक ट्रक खाई में गिर गया जिससे तीन जवानों की मौत हो गई और तीन अन्य जवान गंभीर रूप से घायल हो गए। पुलिस ने यह जानकारी दी।\n",
            "Metrics: {'rouge1': 0.0, 'rouge2': 0.0, 'rougeL': 0.0, 'rougeLsum': 0.0, 'bert_score_f1': 100.0}\n",
            "\n",
            "---\n",
            "\n"
          ]
        },
        {
          "metadata": {
            "tags": null
          },
          "name": "stderr",
          "output_type": "stream",
          "text": [
            "Some weights of RobertaModel were not initialized from the model checkpoint at roberta-large and are newly initialized: ['roberta.pooler.dense.bias', 'roberta.pooler.dense.weight']\n",
            "You should probably TRAIN this model on a down-stream task to be able to use it for predictions and inference.\n"
          ]
        },
        {
          "metadata": {
            "tags": null
          },
          "name": "stdout",
          "output_type": "stream",
          "text": [
            "Article 4022:\n",
            "Article: जिंदल ग्रुप…एक कंपनी जिसकी शुरुआत लोहे की बाल्टी बनाने से हुई। आज वह कंपनी भारत में स्टील मैन्युफैक्चरिंग, माइनिंग, पावर, इंडस्ट्रियल गैस और पोर्ट सर्विसेज के सेक्टर में टॉप कंपनियों में से एक है। भारत के साथ ही अमेरिका, इंग्लैंड, मिडिल ईस्ट और इंडोनेशिया में उसकी मैन्युफैक्चरिंग यूनिट्स हैं। जब कंपनी शुरू हुई तब यह भारत में स्टील पाइप और ट्यूब बनाने वाली पहली कंपनी थी। ओ पी जिंदल पूरी तरह स्वदेशी डिजाइन वाला पाइप और ट्यूब बनाने वाले भारत के पहले व्यक्ति थे। आज मेगा एम्पायर में जानिए जिंदल ग्रुप के एम्पायर बनने की कहानी…\n",
            "शुरुआत: वॉर वेस्ट को बेचकर भारत की तीसरी लोहा उत्पादन की फैक्ट्री लगाई\n",
            "दूसरे विश्व युद्ध के समय ब्रिटिश सेना ने असम में एयरफोर्स बेस बना रखा था। जापान की सेना को बर्मा में रोकने के लिए वह इस्तेमाल कर रही थी, लेकिन 1945 में दूसरा विश्व युद्ध खत्म होने पर ये एयरबेस बिना काम के हो गए। ऐसे में, इन्हें बनाने में जो लोहा इस्तेमाल हुआ था उसे स्थानीय लोग निकालकर बेचने लगे। इन्हीं बेकार और फेंके गए लोहे को खरीदकर ओम प्रकाश जिंदल ने व्यापार शुरू किया।\n",
            "जिंदल की पैदाइश हरियाणा में हिसार की थी। वो एक किसान परिवार से आते थे। 22 साल की उम्र में हिसार में ही उन्होंने बाल्टी बनाने की छोटी मैन्युफैक्चरिंग यूनिट लगाई, पर कुछ समय बाद वहां से कोलकाता आ गए। उन्हें यहां असम के बाजारों में सस्ते दाम पर नीलाम होने वाले लोहे के बारे में पता चला था। उन्हें खरीदकर वो कलकत्ता समेत पूर्वी भारत में बेचने लगे।\n",
            "इसके बाद 1952 में कलकत्ता में ही एक पाइप बेंड और सॉकेट बनाने की फैक्ट्री लगा दी। इस काम में उनके भाई भी साथ थे। तब कंपनी का नाम रखा जिंदल इंडिया लिमिटेड। आज स्टील सेगमेंट में यह टाटा और कलिंग के बाद भारत की तीसरी सबसे बड़ी फैक्ट्री है।\n",
            "घर वापसी: हिसार आकर शहर को स्टील बनाने का कारखाना बना दिया\n",
            "1964 में ओ पी जिंदल वापस अपने शहर हिसार में आ गए। यहां खुद से एक फैक्ट्री डिजाइन कर 42 हजार इंवेस्टमेंट के साथ एक पाइप मैन्युफैक्चरिंग यूनिट शुरू की। फैक्ट्री में इस्तेमाल होने वाली सारी मशीनों को उन्होंने खुद ही बनाया। जबकि उन्होंने कभी इंजीनियरिंग की पढ़ाई नहीं की थी। 1969 में कलकत्ता में हिसार की फैक्ट्री से बड़ी मैन्युफैक्चरिंग यूनिट लगाई। इसमें बनी पाइप हरियाणा, पंजाब, पश्चिमी उत्तर प्रदेश और राजस्थान में धड़ल्ले से बिकने लगी।\n",
            "इसके बाद स्टील बाल्टी बनाने की फैक्ट्री भी शुरू कर दी। 1970 में हिसार में स्टील की बड़ी फैक्ट्री खोली। 1960 से 1990 के बीच हिसार शहर में जिंदल ग्रुप ने कई फैक्ट्रियां खोली। यहां के ज्यादातर लोगों के लिए यह रोजगार का जरिया भी बन गया।\n",
            "कामयाबी: भारत में 30 और अमेरिका में 3 मैन्युफैक्चरिंग यूनिट खोली\n",
            "1960 के दशक के बाद जब तक ओ पी जिंदल जीवित रहे, उन्होंने देश-विदेश में 34 मैन्युफैक्चरिंग यूनिट लगाईं। इनमें से 30 भारत में, 3 अमेरिका में और एक इंडिनेशिया में हैें। जिंदल समूह ने समय के साथ पाइप्स में नई तकनीक को अपनाया और कार्बन स्टील से लेकर स्टेनलेस स्टील की पाइप्स बनाने लगे।\n",
            "इन्हीं दशकों में जिंदल ग्रुप को उन्होंने अलग-अलग हिस्सों में भी बांटा। सबसे पहले ग्रुप के चार हिस्से किए। जिंदल सॉ पाइप्स, जिंदल साउथ वेस्ट, जिंदल स्टेनलेस और जिंदल स्टील एंड पावर लिमिटेड। ये चारों समूह फिलहाल उनके चार बेटों के पास है। इसमें पृथ्वीराज जिंदल, सज्जन जिंदल, रतन जिंदल और नवीन जिंदल शामिल हैं।\n",
            "2005 में जिंदल समूह के कर्ता-धर्ता ओम प्रकाश जिंदल की हेलिकॉप्टर क्रैश में मृत्यु हो गई। अपने पीछे वह पत्नी सावित्री देवी जिंदल और चार बेटे छोड़कर गए थे। कंपनी की बागडोर सावित्री देवी जिंदल के हाथ आई। उन्होंने कंपनी की नेट वर्थ को साल दर साल बढ़ाना जारी रखा। 2021 में फोर्ब्स सूची में भारत की सबसे अमीर महिलाओं में वे टॉप 10 में रहीं। यह मुकाम हासिल करने वाली भारत की पहली महिला भी हैं।\n",
            "शख्सियत: पहले इंडस्ट्रियलिस्ट, जो लोकसभा चुनाव जीतकर संसद पहुंचे\n",
            "आज भी हिसार शहर के विकास में ओ पी जिंदल के योगदान को याद किया जाता है। उनके बारे में एक किस्सा बताया जाता है कि उन्होंने एक बार स्टील की पाइप को देखा जिस पर ‘मेड इन इंग्लैंड’ लिखा हुआ था। यहां से उन्होंने ये ठाना कि एक दिन ये सभी प्रोडक्ट भारत में बनेंगे और उस पर ‘मेड इन इंडिया’ लिखा होगा। उनका मानना था कि गरीब और कमजोर वर्ग के लोगों को बेहतर जिंदगी दिए बिना हम एक सफल देश नहीं बन सकते हैं। अपने इसी जज्बे को लेकर उन्होंने राजनीति में जाने का मन बनाया।\n",
            "1990 के दशक में ओ पी जिंदल को राजनीति में भी सफलता मिली। 1991 में हिसार विधानसभा क्षेत्र से वो पहली बार विधायक चुने गए। 1996 में कांग्रेस की टिकट पर उन्होंने कुरुक्षेत्र से लोकसभा चुनाव लड़ा और जीतकर आए। भारत में यह पहली बार था कि कोई इंडस्ट्रियलिस्ट संसद में चुनकर गया हो। इसके बाद हिसार से दोबारा उन्होंने विधानसभा चुनाव जीता। \n",
            "विवाद: नवील जिंदल पर कोल ब्लॉक आवंटन व फॉरेन करेंसी एक्सचेंज कानून तोड़ने का आरोप\n",
            "साल 2019 में ओ पी जिंदल के सबसे छोटे बेटे और जिंदल स्टील एंड पावर कंपनी के मालिक नवीन जिंदल पर मध्यप्रदेश में कोल ब्लॉक के आवंटन में गड़बड़ी को लेकर केस दर्ज हुआ। कोर्ट में उनके साथ 4 अफसरों पर चीटिंग और क्रिमिनल कॉन्सपिरेसी का आरोप लगा।\n",
            "अप्रैल 2022 में इन्फोर्समेंट डायरेक्टोरेट (ईडी) ने नवीन जिंदल की कंपनी जिंदल स्टील एंड पावर कंपनी के कई जगहों पर छापा मारा। फॉरेन एक्सचेंज मैनेजमेंट एक्ट यानी फेमा कानून के उल्लंघन में यह छापेमारी की गई थी। नवीन जिंदल और उनकी कंपनी पर आरोप है कि उन्होंने आरबीआई के नियमों के खिलाफ फॉरेन से करेंसी एक्सचेंज किया था।\n",
            "Generated Summary: इंडस्ट्रियलिस्ट, जो लोकसभा चुनाव जीतकर संसद पहुंचे आज भी हिसार शहर के विकास में ओ पी जिंदल के योगदान को याद किया जाता है। उनके बारे में एक किस्सा बताया जाता है कि उन्होंने एक बार स्टील की पाइप को देखा जिस पर\n",
            "Reference Summary: How Jindal Group Becoming An Empire - Everything You Need To Know. जिंदल ग्रुप…एक कंपनी जिसकी शुरुआत लोहे की बाल्टी बनाने से हुई। आज वह कंपनी भारत में स्टील मैन्युफैक्चरिंग, माइनिंग, पावर, इंडस्ट्रियल गैस और पोर्ट सर्विसेज के सेक्टर में टॉप कंपनियों में से एक है।\n",
            "Metrics: {'rouge1': 0.0, 'rouge2': 0.0, 'rougeL': 0.0, 'rougeLsum': 0.0, 'bert_score_f1': 54.5476}\n",
            "\n",
            "---\n",
            "\n"
          ]
        },
        {
          "metadata": {
            "tags": null
          },
          "name": "stderr",
          "output_type": "stream",
          "text": [
            "Some weights of RobertaModel were not initialized from the model checkpoint at roberta-large and are newly initialized: ['roberta.pooler.dense.bias', 'roberta.pooler.dense.weight']\n",
            "You should probably TRAIN this model on a down-stream task to be able to use it for predictions and inference.\n"
          ]
        },
        {
          "metadata": {
            "tags": null
          },
          "name": "stdout",
          "output_type": "stream",
          "text": [
            "Article 6551:\n",
            "Article: फ्रांस के राष्ट्रपति इमैनुअल मैक्रों बुधवार को नीदरलैंड्स दौरे पर थे। इस दौरान उन्होंने कहा कि वो चीन दौरे के वक्त दिए गए अपने बयान पर कायम हैं। मैक्रों ने कहा- अमेरिका के सहयोगी होने का मतलब उनका जागीरदार होना नहीं है। इसका मतलब ये नहीं है कि हम अपने बारे में नहीं सोच सकते।\n",
            "फ्रेंच प्रेसिडेंट ने आगे कहा- ताइवान में यथास्थित को लेकर फ्रांस का पूरा समर्थन है। हम चीन की वन चाइना पॉलिसी के साथ हैं और चाहते हैं कि समस्या का समाधान शांतिपूर्ण तरह से निकाला जाए। मैक्रों के बयान पर व्हाइट हाउस ने कहा कि हमें फ्रांस के साथ अपने द्विपक्षीय संबंधों पर पूरा भरोसा है।\n",
            "मैक्रों बोले- यूरोप को अमेरिका पर निर्भर नहीं होना चाहिए\n",
            "5 अप्रैल को 3 दिन के दौरे पर बीजिंग पहुंचे राष्ट्रपति इमैनुअल मैक्रों ने चीनी राष्ट्रपति शी जिनपिंग से मुलाकात की थी। इस दौरान दोनों देशों के बीच ट्रेड और इकोनॉमी सहित ताइवान विवाद पर भी चर्चा हुई थी। बैठक के बाद मीडिया को संबोधित करते हुए फ्रांस ने कहा था कि यूरोप को अमेरिका पर अपनी निर्भरता कम करनी चाहिए। हमें ताइवान को लेकर चीन और अमेरिका के बीच टकराव में घसीटे जाने से बचना चाहिए।\n",
            "यूरोप हमेशा उन लड़ाइयों में फंसता है जहां उसे नहीं होना चाहिए\n",
            "पॉलिटिको को दिए एक बयान में फ्रेंच राष्ट्रपति ने कहा- यूरोप हमेशा उन लड़ाइयों में फंस जाता है जो उसकी है भी नहीं। इस वजह से हम कभी भी अपने रणनीतिक हितों को देखते हुए फैसले नहीं ले पाते हैं। यूरोप के लीडर्स को ये सोचना चाहिए कि ताइवान से जुड़े विवाद को और बढ़ाना हमारे हित में नहीं है। हम यूक्रेन में भी समस्या का समाधान नहीं कर सकते। ऐसे में हम ताइवान से ये किस बुनियाद पर कहेंगे कि अगर कुछ गलत होता है तो हम उनके लिए मौजूद रहेंगे। ये सिर्फ तनाव बढ़ाने का तरीका है।\n",
            "यूक्रेन बोला- फ्रांस अपने सिद्धांतों को भूल गया है\n",
            "वहीं मैक्रों के बयान पर ताइवान की संसद के स्पीकर यू सी-कुन ने कहा- क्या फ्रांस अब अपने 3 सबसे जरूरी सिद्धांत स्वाधीनता, बराबरी और भाईचारे को भूल गया है? क्या संविधान का हिस्सा होने के बाद इसे अनदेखा करना ठीक है? या क्या लोकतांत्रिक देश दूसरे देशों में लोगों के जीवन और मृत्यु को नजरअंदाज कर सकते हैं? एक्सपर्ट्स के मुताबिक, मैक्रों ने अपने बयान के जरिए ताइवान की स्थिति के लिए चीन और अमेरिका दोनों को जिम्मेदार ठहराया है। ऐसे में EU के लिए भविष्य में चीन को लेकर सख्त रवैया अपनाना मुश्किल हो जाएगा।\n",
            "3 दिन के दौरे पर चीन गए थे मैक्रों\n",
            "इससे पहले चीन पहुंचकर मैक्रों ने रूस-यूक्रेन जंग के मुद्दे पर भी शी जिनपिंग से बात की थी। उन्होंने कहा था कि एक साल से ज्यादा समय से चल रही जंग की वजह से अंतरराष्ट्रीय शांति को नुकसान पहुंचा है। मुझे भरोसा है कि जिनपिंग रूस से बात करके सभी को नेगोसिएशन के लिए एक साथ ला सकते हैं। इस पर चीन के राष्ट्रपति जिनपिंग ने कहा- दुनिया में इस वक्त ऐतिहासिक बदलाव हो रहे हैं। ऐसे में फ्रांस और चीन के बीच संबंध सकारात्मक और स्थिर हैं। दोनों देशों में मतभेद और प्रतिबंधों को पार करके साथ आने की क्षमता है।\n",
            "अमेरिका-चीन के रिश्तों में ताइवान सबसे बड़ा फ्लैश पॉइंट\n",
            "\n",
            "Generated Summary: चीन के राष्ट्रपति इमैनुअल मैक्रों बुधवार को नीदरलैंड्स दौरे पर थे। इस दौरान उन्होंने कहा कि वो चीन दौरे के वक्त दिए गए अपने बयान पर कायम हैं। मैक्रों ने कहा- अमेरिका के सहयोगी होने\n",
            "Reference Summary: France President Emmanuel Macron  Netherlands Visit, फ्रांस के राष्ट्रपति इमैनुअल मैक्रों बुधवार को नीदरलैंड्स दौरे पर थे। इस दौरान उन्होंने कहा कि वो चीन दौरे के वक्त दिए गए अपने बयान पर कायम हैं।\n",
            "Metrics: {'rouge1': 0.0, 'rouge2': 0.0, 'rougeL': 0.0, 'rougeLsum': 0.0, 'bert_score_f1': 79.4373}\n",
            "\n",
            "---\n",
            "\n"
          ]
        },
        {
          "metadata": {
            "tags": null
          },
          "name": "stderr",
          "output_type": "stream",
          "text": [
            "Some weights of RobertaModel were not initialized from the model checkpoint at roberta-large and are newly initialized: ['roberta.pooler.dense.bias', 'roberta.pooler.dense.weight']\n",
            "You should probably TRAIN this model on a down-stream task to be able to use it for predictions and inference.\n"
          ]
        },
        {
          "metadata": {
            "tags": null
          },
          "name": "stdout",
          "output_type": "stream",
          "text": [
            "Article 2014:\n",
            "Article: लंदन के चर्चित क्यूडी स्टोर्स के सुरक्षा अधिकारी साइमन मैकेंजी एंट्री गेट पर खड़े-खड़े हांफ रहे थे। वे तीन शॉपलिफ्टर्स का पीछा करके लौटे थे, जो वॉशिंग पाउडर के पैकेट लेकर भागे थे। कुछ देर बाद वे स्टोर के पीछे बने रूम में बैठ गए, ताकि अपराधियों के चेहरों को फेसवॉच (फेस पहचानने वाला सॉफ्टवेयर) में सेव कर सकें। इससे अगली बार जब वे लोग फेसवॉच इस्तेमाल करने वाले किसी स्टोर में पहुंचेंगे, तो उस स्टोर के कर्मचारियों को अलर्ट मिलेगा। पुलिस को भी इससे मदद मिल सकेगी।\n",
            "टेक्नोलॉजी में सुधार और लागत में कमी के कारण फेस रिकग्निशन जैसी टेक्नोलॉजी अब सरकारी जांच एजेंसियों तक सीमित नहीं रही है। समस्या पैदा करने वाले ग्राहकों से लेकर शॉपलिफ्टर्स तक की पहचान के लिए भी इसकी मदद ली जा रही है। लाइव फेशियल रिकग्निशन के इस्तेमाल में ब्रिटेन सबसे आगे है। लंदन व कार्डिफ में पुलिस सड़क पर चलते समय वॉन्टेड अपराधियों की पहचान के लिए यह टेक्नोलॉजी इस्तेमाल कर रही है। मई में चार्ल्स (तृतीय) के राज्याभिषेक के दौरान भीड़ को स्कैन करने में भी इसकी मदद ली गई थी।\n",
            "फेस आइडेंटिफिकेशन टेक्नोलॉजी गेम चेंजर हो सकती है\n",
            "बायोमेट्रिक्स एवं सर्विलांस कैमरा कमिश्नर फ्रेजर सैम्पसन कहते हैं, ‘गति, पैमाने, सटीकता व लागत के मामले में फेस आइडेंटिफिकेशन टेक्नोलॉजी गेम चेंजर हो सकती है।’ फेसवॉच की वॉचलिस्ट लगातार बढ़ रही है क्योंकि स्टोर शॉपलिफ्टर्स और संदेहास्पद ग्राहकों की तस्वीरें अपलोड करते हैं। यह डेटा सालभर तक सिस्टम में रहता है।\n",
            "हर बार जब फेसवॉच का सिस्टम शॉपलिफ्टर को पहचानता है, तो इसकी सूचना सुपर आइडेंटिफायर के पास जाती है। यह चेहरे को याद रखने की विशेष प्रतिभा वाला व्यक्ति होता है। सुपर आइडेंटिफायर को कुछ सेकंड में ही फेसवॉच डेटाबेस से इसकी पुष्टि करनी होती है। इसके बाद स्टोर्स को अलर्ट भेजा जाता है।\n",
            "स्टोर संचालक लियाम अर्डर्न मानते हैं कि फेस पहचानने के गोपनीयता जोखिमों को बढ़ा-चढ़ाकर बताया जाता है। आलोचक यह नहीं समझते कि हम कम मार्जिन पर काम करते हैं। अगर शॉपलिफ्टिंग कम नहीं होती तो चीजों के दाम बढ़ाने होंगे या कर्मचारी घटाने होंगे।’\n",
            "स्टोर में एंट्री करते ही चेहरे की बायोमेट्रिक डिटेल्स पढ़ लेता है सॉफ्टवेयर\n",
            "फेसवॉच सॉफ्टवेयर का आइडिया बार मालिक साइमन गॉर्डन का था। जेबकतरों से सुरक्षा के लिए स्थानीय प्रशासन के साथ उन्होंने 2010 में यह इनोवेशन किया था। गार्डन कहते हैं,‘अपनी मदद खुद करनी होगी। हमेशा पुलिस के भरोसे नहीं बैठ सकते।’\n",
            "फेसवॉच ब्रिटेन के 400 स्टोर्स में है। लाखों फोटो व वीडियो से लैस सिस्टम किसी व्यक्ति के स्टोर में आते ही उसके चेहरे की बायोमेट्रिक जानकारी पढ़ता है और फ्लैग्ड लोगों के डेटाबेस के आधार पर जांचता है। दो दर्जन लॉरेंस हंट स्टोर चलाने वाले लियाम अर्डर्न कहते हैं,‘फेसवॉच से उन्होंने 3 साल में 52 लाख रुपए का नुकसान रोका है।’\n",
            "Generated Summary: ब्रिटेन के 400 स्टोर्स में है। लाखों फोटो व वीडियो से लैस सिस्टम किसी व्यक्ति के स्टोर में आते ही उसके चेहरे की बायोमेट्रिक जानकारी पढ़ता है और फ्लैग्ड लोगों के डेटाबेस के आधार पर जांचता है।\n",
            "Reference Summary: लंदन के चर्चित क्यूडी स्टोर्स के सुरक्षा अधिकारी साइमन मैकेंजी एंट्री गेट पर खड़े-खड़े हांफ रहे थे। वे तीन शॉपलिफ्टर्स का पीछा करके लौटे थे, जो वॉशिंग पाउडर के पैकेट लेकर भागे थे। British merchants are increasingly using Facial Recognition technology to combat shoplifting\n",
            "Metrics: {'rouge1': 0.0, 'rouge2': 0.0, 'rougeL': 0.0, 'rougeLsum': 0.0, 'bert_score_f1': 51.5015}\n",
            "\n",
            "---\n",
            "\n"
          ]
        },
        {
          "metadata": {
            "tags": null
          },
          "name": "stderr",
          "output_type": "stream",
          "text": [
            "Some weights of RobertaModel were not initialized from the model checkpoint at roberta-large and are newly initialized: ['roberta.pooler.dense.bias', 'roberta.pooler.dense.weight']\n",
            "You should probably TRAIN this model on a down-stream task to be able to use it for predictions and inference.\n"
          ]
        },
        {
          "metadata": {
            "tags": null
          },
          "name": "stdout",
          "output_type": "stream",
          "text": [
            "Article 5377:\n",
            "Article: पंजाबी सिंगर सिद्धू मूसेवाला की हत्या के 1 साल बाद ब्रिटिश रैपर टियोन वेन गांव मूसा पहुंचे। वेन ने गांव मूसा में मूसेवाला के पिता बलकौर सिंह व मां चरण कौर से मुलाकात की। वे बीते कुछ दिनों से यहां हैं और परिवार के साथ समय भी बिता रहे हैं। वेन ने तस्वीरों व वीडियो को सोशल मीडिया पर पोस्ट भी किया है।\n",
            "वेन के भारत आकर बलकौर सिंह से मुलाकात करने के बाद कयास यह भी लगाए जा रहे हैं कि सिद्धू मूसेवाला का अगला गाना उनके साथ हो सकता है और उसे फिल्माया भी पंजाब में ही जा सकता है। इससे पहले भी सिद्धू मूसेवाला के कुछ गीत वेन के साथ रिलीज हो चुके हैं। गौरतलब है कि पिछले साल बलकौर सिंह यूके ट्रिप पर गए थे और बरना बॉय के साथ मुलाकात की थी। बीते दिनों रिलीज हुआ गीत 'मेरा ना' बरना बॉय के साथ ही था।\n",
            "5911 ट्रैक्टर पर ली राइड\n",
            "वेन ने इस दौरान पिता बलकौर सिंह के साथ सिद्धू मूसेवाला के पसंदीदा ट्रैक्टर 5911 पर राइड भी ली और तस्वीरें भी साझा की। उन्होंने 5911 ट्रैक्टर के करतब भी देखे और उन्हें कैमरे में कैद किया। उन्होंने सिद्धू मूसेवाला की टीम को वैसा ही करतब करने को कहा, जैसा मूसेवाला खुद अगले टायरों को हवा में उठा कर करते थे।\n",
            "गांव जवाहरके जाकर भावुक हुए वेन\n",
            "वेन गांव जवाहरके भी गए। जहां सिद्धू मूसेवाला को बीच सड़क पर गोलियां मारी गई थी। दीवार पर गोलियों के निशान और उन पर सिद्धू मूसेवाला के पोस्टर देखकर वेन भावुक हो गए। उन्होंने यह तस्वीर अपने इंस्टाग्राम की स्टोरी पर भी शेयर की।\n",
            "\n",
            "Generated Summary: पंजाबी सिंगर सिद्धू मूसेवाला की हत्या के 1 साल बाद ब्रिटिश रैपर टियोन वेन गांव मूसा पहुंचे। वेन ने गांव मूसा में मूसेवाला के पिता बलकौर सिंह व मां चरण कौर से मुलाकात की। वे बीते कुछ दिनों से \n",
            "Reference Summary: Rapper Tion Wyan Sidhu Moosewala Village; Tractor 5911 In Moosa | Meet Family Balkaur Singh Charan Kaur सिद्ध मूसेवाला की हत्या के 1 साल बाद ब्रिटिश रैपर टियोन वेन सिद्धू मूसेवाला के गांव मूसा पहुंचे हैं। वेन ने गांव मूसा में मेसूवाला के पिता पिता बलकौर सिंह व मां चरण कौर से मुलाकात की।\n",
            "Metrics: {'rouge1': 11.1111, 'rouge2': 0.0, 'rougeL': 11.1111, 'rougeLsum': 11.1111, 'bert_score_f1': 69.8621}\n",
            "\n",
            "---\n",
            "\n"
          ]
        },
        {
          "metadata": {
            "tags": null
          },
          "name": "stderr",
          "output_type": "stream",
          "text": [
            "Some weights of RobertaModel were not initialized from the model checkpoint at roberta-large and are newly initialized: ['roberta.pooler.dense.bias', 'roberta.pooler.dense.weight']\n",
            "You should probably TRAIN this model on a down-stream task to be able to use it for predictions and inference.\n"
          ]
        },
        {
          "metadata": {
            "tags": null
          },
          "name": "stdout",
          "output_type": "stream",
          "text": [
            "Article 11728:\n",
            "Article: नई दिल्ली. आज सुबह जब दिल्ली NCR वालों की आंखे खुली तो बारिश होती देख ज्यादातर लोगों के चेहरे खिल गए। भारतीय मौसम विभाग के अनुसार, बहादुरगढ़, गुरुग्राम, मानेसर, फरीदाबाद, बल्लभगढ़, नोएडा, गाजियाबाद, गोहाना, गन्नौर, सोनीपत, रोहतक, झज्जर, नरनौल सहित दिल्ली NCR के ज्यादातर इलाकों में हल्की बारिश हुई। आपको बता दें कि मौसम विभाग ने अगले 72 घंटों तक पूरे उत्तर भारत में भारी बारिश का अनुमान जताया है।मौसम विभाग के मुताबिक, जम्मू कश्मीर से लेकर उत्तराखंड तक और दिल्ली-NCR से लेकर हरियाणा और राजस्थान तक अगले तीन दिन भारी बारिश हो सकती है। इसके अलावा गुजरात और मध्य प्रदेश में भी भारी बारिश की आशंका जताई गई है। खास तौर पर आज के दिन दिल्ली से लेकर चंडीगढ़ तक भार से बहुत भारी बारिश का अनुमान जताया गया है। मौसम विभाग के ये भी कहना है कि इसके बाद बारिश में कमी आ सकती है.लेकिन आने वाले तीन दिन भारी बारिश की आशंका है।उत्तर प्रदेश के पूर्वी हिस्से में भी बारिशनई दिल्ली. आज सुबह जब दिल्ली NCR वालों की आंखे खुली तो बारिश होती देख ज्यादातर लोगों के चेहरे खिल गए। भारतीय मौसम विभाग के अनुसार, बहादुरगढ़, गुरुग्राम, मानेसर, फरीदाबाद, बल्लभगढ़, नोएडा, गाजियाबाद, गोहाना, गन्नौर, सोनीपत, रोहतक, झज्जर, नरनौल सहित दिल्ली NCR के ज्यादातर इलाकों में हल्की बारिश हुई। आपको बता दें कि मौसम विभाग ने अगले 72 घंटों तक पूरे उत्तर भारत में भारी बारिश का अनुमान जताया है।मौसम विभाग के मुताबिक, जम्मू कश्मीर से लेकर उत्तराखंड तक और दिल्ली-NCR से लेकर हरियाणा और राजस्थान तक अगले तीन दिन भारी बारिश हो सकती है। इसके अलावा गुजरात और मध्य प्रदेश में भी भारी बारिश की आशंका जताई गई है। खास तौर पर आज के दिन दिल्ली से लेकर चंडीगढ़ तक भार से बहुत भारी बारिश का अनुमान जताया गया है। मौसम विभाग के ये भी कहना है कि इसके बाद बारिश में कमी आ सकती है.लेकिन आने वाले तीन दिन भारी बारिश की आशंका है।दक्षिण-पश्चिमी मानसून अब राज्य के पूर्वी हिस्सों पर मेहरबान हुआ है और पिछले 24 घंटे के दौरान इन इलाकों में अनेक स्थानों पर जोरदार बारिश हुई। आंचलिक मौसम केंद्र की रिपोर्ट के मुताबिक पिछले 24 घंटों के दौरान राज्य के पूर्वी हिस्सों में अनेक स्थानों पर जबकि पश्चिमी भागों में कुछ जगहों पर बारिश हुई। राजधानी लखनऊ तथा आसपास के इलाकों में भी हल्की बारिश हुई जिससे लोगों को उमस भरी गर्मी से कुछ राहत मिली अगले 24 घंटों के दौरान राज्य के कई हिस्सों में बारिश होने की संभावना है। वहीं 20 और 21 जुलाई को प्रदेश के ज्यादातर हिस्सों में वर्षा होने का अनुमान है।\n",
            "Generated Summary: उत्तर प्रदेश के पूर्वी हिस्से में भी बारिशनई दिल्ली. आज सुबह जब दिल्ली NCR वालों की आंखे खुली तो बारिश होती देख ज्यादातर लोगों के चेहरे खिल गए। भारतीय मौसम विभाग के अनुसार, बहादुरगढ़, गुरुग्राम, मानेसर, फरीदाबाद,\n",
            "Reference Summary: आज सुबह जब दिल्ली NCR वालों की आंखे खुली तो बारिश होती देख ज्यादातर लोगों के चेहरे खिल गए। रात से ही राजधानी दिल्ली के कई इलाकों में बारिश हो रही है, गाजियाबाद और नोएडा के कई इलाकों में आज सुबह चार बजे के बाद से हल्की फुहार पड़ रही है।\n",
            "Metrics: {'rouge1': 100.0, 'rouge2': 0.0, 'rougeL': 100.0, 'rougeLsum': 100.0, 'bert_score_f1': 57.6967}\n",
            "\n",
            "---\n",
            "\n"
          ]
        },
        {
          "metadata": {
            "tags": null
          },
          "name": "stderr",
          "output_type": "stream",
          "text": [
            "Some weights of RobertaModel were not initialized from the model checkpoint at roberta-large and are newly initialized: ['roberta.pooler.dense.bias', 'roberta.pooler.dense.weight']\n",
            "You should probably TRAIN this model on a down-stream task to be able to use it for predictions and inference.\n"
          ]
        },
        {
          "metadata": {
            "tags": null
          },
          "name": "stdout",
          "output_type": "stream",
          "text": [
            "Article 10255:\n",
            "Article: नई दिल्ली: भारतीय विदेश मंत्रालय ने पूर्वी लद्दाख में गतिरोध पर कहा, ''जिम्मेदाराना तरीके से स्थिति को संभाला जाना चाहिए।'' मंत्रालय ने अपने बयान में कहा, ''यह स्पष्ट है कि बीते चार महीने में हमने जो हालात देखे हैं वे प्रत्यक्ष रूप से चीनी पक्ष की गतिविधियों का नतीजा हैं। चीन की गतिविधियों का मकसद यथास्थिति में एकतरफा बदलाव करना है। भारतीय विदेश मंत्रालय ने कहा कि हम पुरजोर तरीके से चीन से आग्रह करते हैं कि वह पूरी तरह पीछे हटकर सीमा पर तेजी से शांति बहाली के लिये गंभीरता से भारतीय पक्ष का साथ दे। आगे भी बातचीत जारी रहेगी, भारत संवाद के जरिये सभी मुद्दों के समाधान के लिये प्रतिबद्ध है। भारतीय वायुसेना पूरी तरह तैयारभारतीय वायुसेना के प्रमुख आर.के.एस.भदौरिया ने पूर्वी वायु (सेना) कमान के तहत आने वाले मुख्य ठिकानों का दौरा किया। साथ ही, चीन के साथ सीमा पर तनाव बढ़ने के मद्देनजर अरूणाचल प्रदेश और सिक्किम में वास्तविक नियंत्रण रेखा (एलएसी) पर बल की अभियान संबंधी तैयारियों की भी समीक्षा की। अधिकारियों ने यह जानकारी दी। अधिकारियों ने बृहस्पतिवार को बताया कि एयर चीफ मार्शल भदौरिया ने इलाके में सामरिक रूप से महवपूर्ण कुछ खास स्थानों पर कब्जा करने की चीन की नाकाम कोशिश के बाद पूर्वी लद्दाख में पैंगोंग झील इलाके में उभरती स्थिति को ध्यान में रखते हुए वायुसेना के जांबाज जवानों से अत्यधिक सतर्क रहने को कहा है। वायुसेना की पूर्वी कमान का मुख्यालय शिलांग में है, जो सिक्किम और अरूणाचल प्रदेश में एलएसी से लगे संवेदनशील इलाकों और क्षेत्र के कई अन्य हिस्सों में हवाई रक्षा की जिम्मेदारी संभालता है। वायुसेना के प्रवक्ता ने वायुसेना के ठिकानों के नामों का उल्लेख किये बगैर कहा, ‘‘एयर चीफ मार्शल भदौरिया ने बुधवार को पूर्वी वायु (सेना) कमान में अग्रिम एयर बेस का दौरा किया।’’ सभी अहम ठिकानों पर सतर्कता बढ़ीथल सेना और वायुसेना ने करीब 3,400 किमी लंबी एलएसी पर सभी अहम ठिकानों पर सतर्कता बढ़ा दी है। पूर्वी लद्दाख में पैंगोंग झील के दक्षिणी तट पर यथा स्थिति में बदलाव करने की चीन की हालिया कोशिश के बाद ऐसा किया गया है। वायुसेना प्रवक्ता ने कहा कि वायुसेना प्रमुख को कमान के तहत लड़ाकू इकाइयों की ‘‘तैयारियों की स्थिति’’ और अभियानगत तैयारियों के बारे में अवगत कराया गया। अधिकारी ने कहा, ‘‘एयर चीफ मार्शल भदौरिया ने इन इकाइयों में सेवारत वायुसेना के जांबाज जवानों से भी अपने दौरे पर बातचीत की। उन्होंने सभी भूमिकाओं के निर्वहन में वायुसेना ठिकाने के कर्मियों के लक्ष्य केंद्रित प्रयासों की भी सराहना की और उनसे पूरी कर्मठता से अपने कर्तव्यों का निर्वहन करने को कहा। ’’ भारतीय थल सेना ने इलाके में सामरिक रूप से महत्वपूर्ण कई पर्वत चोटियों पर कब्जा कियापैंगोंग झील के दक्षिणी तट पर यथा स्थिति में बदलाव करने की चीन की कोशिश के बाद, भारतीय थल सेना ने इलाके में सामरिक रूप से महत्वपूर्ण कई पर्वत चोटियों पर कब्जा किया है, जहां से चीन के महत्वपूर्ण मोर्चों पर नजर रखी जा सकती है। मई की शुरूआत में पूर्वी लद्दाख में भारतीय और चीनी सैनिकों के बीच झड़प होने से उपजे सीमा विवाद के बाद से वायुसेना प्रमुख नियमित रूप से एलएसी से लगे वायु सेना के अहम ठिकानों का दौरा कर रहे हैं। जून में भदौरिया ने वायुसेना की संपूर्ण तैयारियों की समीक्षा के लिये बल के लद्दाख और श्रीनगर स्थित ठिकानों का दौरा किया था। सुखोई 30 एमकेआई, जगुआर और मिराज 200 लड़ाकू विमान तैनातपिछले दो महीने में वायुसेना ने पूर्वी लद्दाख में एलएसी पर अहम सीमांत एयर बेसों पर अग्रिम मोर्चे के अपने लगभग सभी श्रेणी के लड़ाकू विमानों को तैनात किया है, जिनमें सुखोई 30 एमकेआई, जगुआर और मिराज 200 लड़ाकू विमान शामिल हैं। वायुसेना ने अपाचे हमलावर हेलीकॉप्टर और सैनिकों को क्षेत्र में विभिन्न अग्रिम स्थानों पर पहुंचाने के लिये चिनूक हेलीकॉप्टर भी तैनात किये हैं। वायुसेना के विमान रात में पूर्वी लद्दाख क्षेत्र में हवाई गश्त कर रहेंवायुसेना के विमान रात में पूर्वी लद्दाख क्षेत्र में हवाई गश्त कर रहे हैं , जो संभवत: चीन को यह संदेश देने के लिये है कि यह इस पर्वतीय क्षेत्र में किसी भी अकस्मात स्थिति से निपटने के लिये तैयार है। सोमवार को, थल सेना ने कहा कि चीनी सेना ने पैंगोंग झील के दक्षिणी तट पर 29 और 30 अगस्त की दरम्यानी रात यथा स्थिति में एकतरफा बदलाव करने के इरादे से उकसाने वाली सैन्य गतिविधियां की, लेकिन उसकी यह कोशिश भारतीय सैनिकों ने नाकाम कर दी। विदेश मंत्रालय के प्रवक्ता अनुराग श्रीवास्तव ने मंगलवार को कहा कि चीन की पीपुल्स लिबरेशन आर्मी (पीएलए) ने एक दिन पहले उकसाने वाली हरकत की थी ।उस समय दोनों पक्षों के कमांडर तनाव दूर करने के लिये वार्ता कर रहे थे।\n",
            "Generated Summary: भारतीय विदेश मंत्रालय ने पूर्वी लद्दाख में गतिरोध पर कहा, ''जिम्मेदाराना तरीके से स्थिति को संभाला जाना चाहिए।'' मंत्रालय ने अपने बयान में कहा, ''यह स्पष्ट है कि बीते चार महीने में हमने जो हालात देखे हैं वे प्रत्यक्ष रूप से \n",
            "Reference Summary: विदेश मंत्रालय ने पूर्वी लद्दाख में गतिरोध पर कहा, ''जिम्मेदाराना तरीके से स्थिति को संभाला जाना चाहिए।'' मंत्रालय ने अपने बयान में कहा, ''यह स्पष्ट है कि बीते चार महीने में हमने जो हालात देखे हैं वे प्रत्यक्ष रूप से चीनी पक्ष की गतिविधियों का नतीजा हैं।\n",
            "Metrics: {'rouge1': 0.0, 'rouge2': 0.0, 'rougeL': 0.0, 'rougeLsum': 0.0, 'bert_score_f1': 88.1781}\n",
            "\n",
            "---\n",
            "\n"
          ]
        },
        {
          "metadata": {
            "tags": null
          },
          "name": "stderr",
          "output_type": "stream",
          "text": [
            "Some weights of RobertaModel were not initialized from the model checkpoint at roberta-large and are newly initialized: ['roberta.pooler.dense.bias', 'roberta.pooler.dense.weight']\n",
            "You should probably TRAIN this model on a down-stream task to be able to use it for predictions and inference.\n"
          ]
        },
        {
          "metadata": {
            "tags": null
          },
          "name": "stdout",
          "output_type": "stream",
          "text": [
            "Article 8845:\n",
            "Article: बॉलीवुड के पसंदीदा कपल्स में से एक करीना कपूर और सैफ अली खान को हाल ही में एक साथ स्पॉट किया गया, जिसका एक वीडियो सामने आया है, जिसमें सैफ पत्नी करीना कपूर के साथ नजर आ रहे हैं। इसी बीच पैपराजी उनसे उनसे फोटो के लिए कहते हैं, तो सैफ ने कहा, 'एक काम करिए हमारे बेडरूम में आ जाइए'। ये सुनते ही मीडिया पर्सन उन्हें सॉरी भी बोलते हैं। इसके बाद कपल घर के अंदर चले जाते हैं और सैफ दरवाजा बंद कर लेते हैं।\n",
            "वीडियो देख भड़के यूजर्स \n",
            "इस वीडियो के सामने आते ही सोशल मीडिया पर यूजर्स अपना जमकर रिएक्शन दे रहे हैं। एक यूजर ने कमेंट करते हुए लिखा, 'फालतू का एटीट्यूड'। तो वहीं दूसरे यूजर ने लिखा, 'क्या जरूरत है इनके पीछे भागने की'।\n",
            "मलाइका अरोड़ा की पार्टी में गए थे सैफ- करीना \n",
            "बता दे, बॉलीवुड एक्ट्रेस और करीना की बेस्टफ्रेंड मलाइका अरोड़ा ने बीती रात अपनी मां का बर्थडे सेलिब्रेट किया, इस खास मौके पर एक्ट्रेस ने एक बर्थडे पार्टी होस्ट की जिसमें करीना, सैफ समेत कई बॉलीवुड सेलेब्स पहुंचे थे, जिसके कई वीडियो और फोटोज सोशल मीडिया पर सामने आए है।\n",
            "\n",
            "Generated Summary: बॉलीवुड के पसंदीदा कपल्स में से एक करीना कपूर और सैफ अली खान को हाल ही में एक साथ स्पॉट किया गया, जिसका एक वीडियो सामने आया है, जिसमें सैफ पत्नी करीना कपूर के साथ नजर आ रहे हैं।\n",
            "Reference Summary: Bollywood Couple Kareena-Saif Paparazzi Photo Controversy - बॉलीवुड एक्टर करीना कपूर और सैफ अली खान को हालही में एक साथ स्पॉट किया गया,\n",
            "Metrics: {'rouge1': 0.0, 'rouge2': 0.0, 'rougeL': 0.0, 'rougeLsum': 0.0, 'bert_score_f1': 58.3316}\n",
            "\n",
            "---\n",
            "\n"
          ]
        },
        {
          "metadata": {
            "tags": null
          },
          "name": "stderr",
          "output_type": "stream",
          "text": [
            "Some weights of RobertaModel were not initialized from the model checkpoint at roberta-large and are newly initialized: ['roberta.pooler.dense.bias', 'roberta.pooler.dense.weight']\n",
            "You should probably TRAIN this model on a down-stream task to be able to use it for predictions and inference.\n"
          ]
        },
        {
          "metadata": {
            "tags": null
          },
          "name": "stdout",
          "output_type": "stream",
          "text": [
            "Article 5998:\n",
            "Article: पाकिस्तान के रक्षा मंत्री ख्वाजा मुहम्मद आसिफ ने पंजाब में चुनाव देर से करवाने का एक कारण भारत से जंग की आशंका को बताया है। रक्षा मंत्री ने कहा- पंजाब प्रांत में चुनाव से देश में अस्थिरता बढ़ेगी। इससे भारत को जल विवाद, जातीय विवाद समेत कई मुद्दों पर फायदा उठाने का मौका मिल जाएगा।\n",
            "रिपोर्ट में पाकिस्तान सरकार ने आशंका जताई है कि इससे पाकिस्तान उस 'ग्लोबल ग्रेट गेम' का फिर शिकार होगा जिसमें भारत की अहम भूमिका है। सुप्रीम कोर्ट को सौंपी रिपोर्ट में शाहबाज सरकार ने कहा- पाकिस्तान क्रॉस-बॉर्डर टेरेरिज्म, अस्थिरता, आतंकी खतरों, पाकिस्तान लौट रहे इस्लामिक स्टेट (IS) के लड़ाके, भारतीय जासूस एजेंसी RAW और युद्ध के खतरों से जूझ रहा है। ऐसे में अभी चुनाव कराना देशहित में नहीं है।\n",
            "अक्टूबर में चुनाव करवाना चाहती है शाहबाज सरकार\n",
            "दरअसल, पाकिस्तान में लंबे समय से पंजाब चुनाव को लेकर उथल-पुथल मची हुई है। शाहबाज सरकार इसे अक्टूबर तक टालना चाहती है लेकिन पूर्व PM इमरान खान जल्द से जल्द चुनाव करवाने के पक्ष में हैं। ऐसे में मामला सुप्रीम कोर्ट पहुंचा। इस पर कोर्ट ने इलेक्शन कमीशन को मई में चुनाव कराने के आदेश दिए।\n",
            "कोर्ट ने कहा कि पंजाब प्रांत में इलेक्शन के लिए सरकार 21 अरब रुपए इलेक्शन कमीशन को दे। इसके लिए 10 अप्रैल डेडलाइन रखी गई। हालांकि, सरकार ने कोर्ट का आदेश नहीं माना और चुनाव को अक्टूबर में कराने की याचिका लगाई। लिहाजा, अदालत विधानसभा चुनाव में देरी की अपील पर सुनवाई कर रही है।\n",
            "2 बार चुनाव का खर्च नहीं उठा सकती पाक सरकार\n",
            "SC में सुनवाई के दौरान शाहबाज सरकार ने सुप्रीम कोर्ट को एक रिपोर्ट सौंपी है जिसमें भारत से युद्ध की आशंका को चुनाव न कराने के कारण के तौर पर बताया गया है। इसी का हवाला देते हुए रक्षा मंत्री ने SC से चुनाव की तारीख के आदेश को वापस लेने की अपील की। सरकार ने कहा कि अगर पंजाब और खैबर पख्तूनख्वा में विधानसभा चुनाव होते हैं, तो दूसरे प्रांतों में भी होने वाले चुनाव से पहले आतंकवाद का खतरा बढ़ने की आशंका है।\n",
            "शाहबाज सरकार का कहना है कि अक्टूबर में जनरल इलेक्शन होने हैं। तभी पंजाब समेत चारों सूबों में विधानसभा चुनाव भी कराए जाने चाहिए। पाकिस्तान में आर्थिक स्थिति ठीक नहीं है। ऐसे में दो बार चुनाव पर खर्च करना देश के लिए सही नहीं होगा। सरकार ने अपनी रिपोर्ट में कहा- पाकिस्तान के अंदर भी राजनीति और सुरक्षा के मामले में हालात अच्छे नहीं हैं।\n",
            "पंजाब में इस साल 150 आंतकी हमलों की चेतावनी मिली\n",
            "पंजाब प्रांत में इस साल अब तक 150 आंतकी हमलों की चेतावनी मिल चुकी है। इनमें से इंटेलीजेंस की मदद से 78 खतरों को टाला जा चुका है लेकिन 8 मामलों में काउंटर-टेररिजम टीम फेल हो गई। हालांकि, रिपोर्ट में उम्मीद जताई गई है कि हाल ही में चीन, पाकिस्तान, ईरान और अफगानिस्तान में आतंकवाद से लड़ने को लेकर हुई बातचीत के बाद अगले 6-8 महीनों में हालात बेहतर होंगे।\n",
            "Generated Summary: पाकिस्तान में लंबे समय से पंजाब चुनाव को लेकर उथल-पुथल मची हुई है। शाहबाज सरकार इसे अक्टूबर तक टालना चाहती है लेकिन पूर्व PM इमरान खान जल्द से जल्द चुनाव करवाने के पक्ष में हैं। ऐसे में मामला सुप्रीम कोर्ट पहुं\n",
            "Reference Summary: Pakistan's Defense Minister Raises Concerns of War with India During Upcoming Elections पाकिस्तान के रक्षा मंत्री ख्वाजा मुहम्मद आसिफ ने पंजाब में चुनाव देर से करवाने का एक कारण भारत से जंग की आशंका को बताया है। रक्षा मंत्री ने कहा- पंजाब प्रांत में चुनाव से देश में अस्थिरता बढ़ेगी।\n",
            "Metrics: {'rouge1': 0.0, 'rouge2': 0.0, 'rougeL': 0.0, 'rougeLsum': 0.0, 'bert_score_f1': 53.413}\n",
            "\n",
            "---\n",
            "\n"
          ]
        },
        {
          "metadata": {
            "tags": null
          },
          "name": "stderr",
          "output_type": "stream",
          "text": [
            "Some weights of RobertaModel were not initialized from the model checkpoint at roberta-large and are newly initialized: ['roberta.pooler.dense.bias', 'roberta.pooler.dense.weight']\n",
            "You should probably TRAIN this model on a down-stream task to be able to use it for predictions and inference.\n"
          ]
        },
        {
          "metadata": {
            "tags": null
          },
          "name": "stdout",
          "output_type": "stream",
          "text": [
            "Article 20176:\n",
            "Article: पटना. बिहार में एनडीए की बैठक से पहले राजद के नेता मनोज झा ने बड़ा हमला बोला है। मनोज झा ने नीतीश कुमार पर हमला बोले हुए कहा, \"40 सीटें पाकर कोई मुख्यमंत्री कैसे बन सकता है? लोगों का जनादेश उनके खिलाफ है, उनका कद कम हो चुका है और उन्हें इस बारे में विचार करना चाहिए। बिहार को इसका विकल्प मिलेगा, जो जल्द ही होगा। इसमें एक सप्ताह, दस दिन या एक महीना लग सकता है लेकिन ऐसा होगा।\"उन्होंने कहा कि कुछ दिन इंतज़ार कीजिए 40 सीट लाकर के जनता द्वारा खारिज कर देने के बाद अगर कोई व्यक्ति विशेष मुख्यमंत्री बनने का ख्वाब देख रहा है तो ये ख्वाब बिहार को नहीं पच रहा।मनोज जा ने कहा, \"कितनी बड़ी विडंबना है कि BJP 74 सीट लाती है लेकिन CM का चेहरा नहीं है उनके पास, मिल भी नहीं रहा है, खोजना भी नहीं चाह रहे हैं, बड़ा दवाब है! तो 40 सीट वाले को CM पद का उम्मीदवार चुनेंगे। 4 सीट HAM और VIP की है। इस विडंबना का अनफोल्डिंग आगे कैसे होगा, हमें इंतज़ार है।\"\n",
            "Generated Summary: बिहार में एनडीए की बैठक से पहले राजद के नेता मनोज झा ने बड़ा हमला बोला है। मनोज झा ने नीतीश कुमार पर हमला बोले हुए कहा, \"40 सीटें पाकर कोई मुख्यमंत्री कैसे बन सकता है? लोगों का जनादेश उनके खिलाफ है,\n",
            "Reference Summary: उन्होंने कहा कि कुछ दिन इंतज़ार कीजिए 40 सीट लाकर के जनता द्वारा खारिज कर देने के बाद अगर कोई व्यक्ति विशेष मुख्यमंत्री बनने का ख्वाब देख रहा है तो ये ख्वाब बिहार को नहीं पच रहा।\n",
            "Metrics: {'rouge1': 100.0, 'rouge2': 0.0, 'rougeL': 100.0, 'rougeLsum': 100.0, 'bert_score_f1': 54.0556}\n",
            "\n",
            "---\n",
            "\n"
          ]
        },
        {
          "metadata": {
            "tags": null
          },
          "name": "stderr",
          "output_type": "stream",
          "text": [
            "Some weights of RobertaModel were not initialized from the model checkpoint at roberta-large and are newly initialized: ['roberta.pooler.dense.bias', 'roberta.pooler.dense.weight']\n",
            "You should probably TRAIN this model on a down-stream task to be able to use it for predictions and inference.\n"
          ]
        },
        {
          "metadata": {
            "tags": null
          },
          "name": "stdout",
          "output_type": "stream",
          "text": [
            "Article 15549:\n",
            "Article: नई दिल्ली. हज़ारों करोड़ के घोटालेबाज मेहुल चोकसी को भारत वापस लाने की कोशिशें तेज़ हो गई हैं। भारत सरकार ने डोमिनिका से साफ-साफ कह दिया है कि चोकसी हमारा नागरिक है। उसने बहुत बड़ा क्राइम किया है। भारत में साढ़े तेरह हजार करोड़ के घोटाले का गुनहगार है। उसके ख़िलाफ़ इंटरपोल ने रेड कॉर्नर नोटिस जारी कर रखा है, इसलिए डोमिनिका सरकार उसे भारत को सौंप दे।चोकसी को भारत लाने के लिए देश की कई एजेंसियां डोमिनिका सरकार से संपर्क कर रही हैं। सूत्रों के मुताबिक डोमिनिका के पड़ोसी देश एंटीगुआ ने भी डोमिनिका से कहा है कि वो चोकसी को सीधे भारत को सौंपे क्योंकि चोकसी भगोड़ा है, एंटीगुआ से लापता चोकसी डोमिनिका में पकड़ा गया था।इस बीच खबर ये भी है कि चोकसी को डोमिनिका से भारत वापस लाने के लिए भारत ने प्रत्यर्पण दस्तावेज के साथ एक निजी विमान को डोमिनिका भेजा है। एंटीगुआ और बारबुडा के प्रधानमंत्री गेस्टन ब्राउन ने अपने देश में एक रेडियो शो में इस बारे में बताया। हालांकि भारतीय प्राधिकारों ने इस बारे में आधिकारिक तौर पर पुष्टि नहीं की है।‘एंटीगुआ न्यूज रूम’ के मुताबिक कतर एयरवेज का एक निजी विमान डोमिनिका में डगलस-चार्ल्स हवाई अड्डे पर उतरा। जिसके बाद चोकसी के प्रत्यर्पण को लेकर अटकलें लगने लगी हैं। एंटीगुआ और बारबुडा से रहस्यमयी परिस्थितियों में लापता हुए चोकसी को पड़ोस के डोमिनिका में पकड़ा गया। ब्राउन ने रेडिशा शो में बताया कि चोकसी के प्रत्यर्पण के लिए जरूरी दस्तावेज लेकर विमान भारत से आया है।कतर की एक्जीक्यूटिव उड़ान ए7सीईई के सार्वजनिक तौर पर उपलब्ध आंकड़ों के मुताबिक इस विमान ने 28 मई को तड़के तीन बजकर 44 मिनट पर दिल्ली हवाई अड्डे से उड़ान भरी और उसी दिन स्थानीय समयानुसार दिन में एक बजकर 16 मिनट पर डोमिनिका पहुंचा। चोकसी ने आरोप लगाया है कि एंटीगुआ और भारतीय की तरह दिखने वाले पुलिसकर्मियों ने उसे एंटीगुआ और बारबुडा में जॉली बंदरगाह से अगवा किया और उसे डोमिनिका ले गए।डोमिनिका से चोकसी की एक तस्वीर सामने आयी है जिसमें उसकी आंखे सूजी हुई थीं और उसके हाथ पर खरोंच के निशान थे। चोकसी और उसके भांजे नीरव मोदी ने पंजाब नेशनल बैंक से 13,500 करोड़ रुपये की धनराशि का कथित तौर पर गबन किया। नीरव मोदी लंदन की एक जेल में बंद है और वह भारत प्रत्यर्पित किए जाने के खिलाफ मुकदमा लड़ रहा है। चोकसी ने 2017 में एंटीगुआ एंड बारबुडा की नागरिकता ली थी और जनवरी 2018 के पहले हफ्ते में भारत से भाग गया था। इसके बाद ही यह घोटाला सामने आया था। दोनों ही सीबीआई जांच का सामना कर रहे हैं।\n",
            "Generated Summary: हज़ारों करोड़ के घोटालेबाज मेहुल चोकसी को भारत वापस लाने की कोशिशें तेज़ हो गई हैं। भारत सरकार ने डोमिनिका से साफ-साफ कह दिया है कि चोकसी हमारा नागरिक है। उसने बहुत बड़ा क्राइम किया है। भारत में सा\n",
            "Reference Summary: चोकसी को भारत लाने के लिए देश की कई एजेंसियां डोमिनिका सरकार से संपर्क कर रही हैं। सूत्रों के मुताबिक डोमिनिका के पड़ोसी देश एंटीगुआ ने भी डोमिनिका से कहा है कि वो चोकसी को सीधे भारत को सौंपे क्योंकि चोकसी भगोड़ा है, एंटीगुआ से लापता चोकसी डोमिनिका में पकड़ा गया था।\n",
            "Metrics: {'rouge1': 0.0, 'rouge2': 0.0, 'rougeL': 0.0, 'rougeLsum': 0.0, 'bert_score_f1': 55.6627}\n",
            "\n",
            "---\n",
            "\n"
          ]
        },
        {
          "metadata": {
            "tags": null
          },
          "name": "stderr",
          "output_type": "stream",
          "text": [
            "Some weights of RobertaModel were not initialized from the model checkpoint at roberta-large and are newly initialized: ['roberta.pooler.dense.bias', 'roberta.pooler.dense.weight']\n",
            "You should probably TRAIN this model on a down-stream task to be able to use it for predictions and inference.\n"
          ]
        },
        {
          "metadata": {
            "tags": null
          },
          "name": "stdout",
          "output_type": "stream",
          "text": [
            "Article 18370:\n",
            "Article: भुवनेश्वर: पाकिस्तान के लाहौर में 20 साल जेल की सजा काटने के बाद ओडिशा का 50 वर्षीय बिरजू आखिकार अपने वतन वापस लौट आया। सुंदरगढ़ जिले का निवासी बिरजू शुक्रवार को अपने घर पहुंचा। सीमा पर भटकने की वजह से वह भूलवश पाकिस्तान पहुंच गया था। जैसे ही बिरजू अपने गांव जंगतेली पहुंचा, वहां लोगों ने सादेरी भाषा में गीत गाकर और नृत्य करके उसका स्वागत किया। एक अधिकारी ने कहा, ‘कथित तौर पर मानसिक रूप से अस्थिर बिरजू रहस्यमयी परिस्थितियों में गायब हो गया था। उसे भारत के लिए जासूसी करने के संदेह में पाकिस्तान की जेल में बंद रखा गया था।’‘मैंने सोचा नहीं था कि भाई वापस आएगा’जिला प्रशासन की एक टीम बीते सप्ताह उसे उसके पैतृक गांव पहुंचाने के लिए अमृतसर गई थी। बिरजू को अमृतसर में कोविड अस्पताल में क्वॉरन्टीन में रखा गया था। अपने भाई को 20 साल बाद देख भावुक बिरजू की बहन ने कहा, ‘मैं अपने भाई का फिर से घर पर स्वागत करके काफी खुश हूं। मैंने जिंदगी में कभी नहीं सोचा था कि मेरा भाई कभी वापस आ पाएगा। उसने हमलोगों के लिए दोबारा जन्म लिया है।’ हालांकि इतने दिन पाकिस्तान में रहने के बाद बिरजू उड़िया और जनजातीय बोली सादरी भूल गया है। बिरजू हिंदी भाषा में बात कर रहा है।‘खुश हूं कि अपने घर आ गया’बिरजू ने कहा, ‘बहुत खूश हूं कि मैं वापस अपने घर आ गया।’ हालांकि उसे याद नहीं है कि वह पाकिस्तानी सीमा पर कैसे पहुंचा और कैसे लाहौर जेल में बंद हो गया। बिरजू के सुंदरगढ़ पहुंचने के बाद, उसे कुत्रा ब्लॉक ऑफिस ले जाया गया, जहां बीडीओ ने उसका स्वागत किया। कुत्रा बीडीओ मानस रंजन रे ने कहा, ‘बिरजू को विभिन्न सरकारी परियोजनाओं के तहत सभी सुविधाएं मुहैया कराई जाएंगी। उसे आधार और राशन कार्ड दिया जाएगा। उसे घर और ऋण भी मुहैया कराया जाएगा।’\n",
            "Generated Summary: पाकिस्तान के लाहौर में 20 साल जेल की सजा काटने के बाद ओडिशा का 50 वर्षीय बिरजू आखिकार अपने वतन वापस लौट आया। सुंदरगढ़ जिले का निवासी बिरजू शुक्रवार को अपने घर पहुंचा। सीमा पर भटकने की वजह से \n",
            "Reference Summary: पाकिस्तान के लाहौर में 20 साल जेल की सजा काटने के बाद ओडिशा का 50 वर्षीय बिरजू आखिकार अपने वतन वापस लौट आया।\n",
            "Metrics: {'rouge1': 100.0, 'rouge2': 100.0, 'rougeL': 100.0, 'rougeLsum': 100.0, 'bert_score_f1': 82.4985}\n",
            "\n",
            "---\n",
            "\n"
          ]
        },
        {
          "metadata": {
            "tags": null
          },
          "name": "stderr",
          "output_type": "stream",
          "text": [
            "Some weights of RobertaModel were not initialized from the model checkpoint at roberta-large and are newly initialized: ['roberta.pooler.dense.bias', 'roberta.pooler.dense.weight']\n",
            "You should probably TRAIN this model on a down-stream task to be able to use it for predictions and inference.\n"
          ]
        },
        {
          "metadata": {
            "tags": null
          },
          "name": "stdout",
          "output_type": "stream",
          "text": [
            "Article 7119:\n",
            "Article: राजस्थान में चुनावी साल शुरू होने के साथ ही आरोप प्रत्यारोप का सिलसिला शुरू हो गया है। जयपुर बम ब्लास्ट मामले में रिहाई के बाद अब बीजेपी ने कांग्रेस सरकार के खिलाफ मोर्चा खोल दिया है। सोमवार को जयपुर बीजेपी मुख्यालय में पार्टी के पूर्व प्रदेशाध्यक्ष अरूण चतुर्वेदी ने प्रेस कॉन्फ्रेंस कर कांग्रेस सरकार पर निशाना साधा। चतुर्वेदी ने कहा कि वोट की राजनीति के कारण कांग्रेस सरकार एक वर्ग का तुष्टिकरण कर रही है। बम ब्लास्ट कांड के मंजर के सभी साक्षी है। यह मानवता पर हमला था, बम ब्लास्ट करने वालों ने न जाति देखा ना धर्म देखा मानवता को आहत करने का काम किया।\n",
            "लेकिन जिस प्रकार का फैसला 4 दिन पहले आया है। उसमें उच्च न्यायालय ने कहा है कि पैरवी और जांच में कमी रही है। लोअर कोर्ट ने 6 लोगों को फांसी की सजा सुनाई थी। ऐसे में अब राजस्थान और देश की जनता जानना चाहती है। उन्होंने कहा कि राजसहान सरकार छोटे-छोटे कामों में बड़े-बड़े वकील खड़े कर देती है। जबकि बूम ब्लास्ट मामले में कोई अपीयर नहीं हुआ। वहीं सरकार ने जूनियर एडवोकेट को इस केस को सौंपा था। जिससे कांग्रेस की कथनी और करनी के अंतर को राजस्थान की जनता समझ चुकी है।\n",
            "चतुर्वेदी ने कहा कि रकबर मोब लिंचिंग मामले में सरकार मजबूती से पैरवी कर रही है। उसके लिए अलग से स्पेशल पीपी किया गया है। तो आखिर बम ब्लास्ट मामले में उचित पैरवी क्यों नहीं की गई। उन्होंने कहा कि जयपुर सीरियल ब्लास्ट का मामला आज तक एनआईए को ट्रांसफर नहीं किया गया। भाजपा सरकार के समय स्पेशल पीपी अपलोड किए गए और दोषियों को फांसी की सजा दिलवाई गई। अभी भी सरकार ने सुप्रीम कोर्ट में अपील फाइल नहीं की है।\n",
            "चतुर्वेदी ने कहा कि हमारी सरकार से मांग है कि जो लापरवाही हुई है उसके लिए केवल AAG ही दोषी नहीं है। CM खुद इसकी जिम्मेदारी लें। ऐसे में अगर सरकार ने सही रुख नहीं अपनाया। तो बीजेपी जयपुर कि जनता के हक़ के लिए सड़कों पर उतरेगी।\n",
            "Generated Summary: जयपुर बम ब्लास्ट मामले में रिहाई के बाद अब बीजेपी ने कांग्रेस सरकार के खिलाफ मोर्चा खोल दिया है। सोमवार को जयपुर बीजेपी मुख्यालय में पार्टी के पूर्व प्रदेशाध्यक्ष अरूण चतुर्वेदी ने प्रेस कॉन्फ्रेंस कर कांग्रेस सरकार पर \n",
            "Reference Summary: Rajasthan Jaipur Bomb Blast Verdict Update - राजस्थान में चुनावी साल शुरू होने के साथ ही आरोप प्रत्यारोप का सिलसिला शुरू हो गया है। जयपुर बम ब्लास्ट मामले में रिहाई के बाद अब बीजेपी ने कांग्रेस सरकार के खिलाफ मोर्चा खोल दिया है\n",
            "Metrics: {'rouge1': 0.0, 'rouge2': 0.0, 'rougeL': 0.0, 'rougeLsum': 0.0, 'bert_score_f1': 61.0084}\n",
            "\n",
            "---\n",
            "\n"
          ]
        },
        {
          "metadata": {
            "tags": null
          },
          "name": "stderr",
          "output_type": "stream",
          "text": [
            "Some weights of RobertaModel were not initialized from the model checkpoint at roberta-large and are newly initialized: ['roberta.pooler.dense.bias', 'roberta.pooler.dense.weight']\n",
            "You should probably TRAIN this model on a down-stream task to be able to use it for predictions and inference.\n"
          ]
        },
        {
          "metadata": {
            "tags": null
          },
          "name": "stdout",
          "output_type": "stream",
          "text": [
            "Article 2952:\n",
            "Article: टीम इंडिया को वर्ल्ड टेस्ट चैम्पियनशिप (WTC) के फाइनल मुकाबले में 209 रनों की करारी हार झेलनी पड़ी है। द ओवल के मैदान पर भारतीय टीम को ऑस्ट्रेलिया ने हराया।\n",
            "क्रिकेट पंडित इस हार का ठीकरा इंडियन प्रीमियर लीग (IPL) के सिर फोड़ रहे हैं। ऐसे में हमने जानने की कोशिश कि WTC फाइनल में भारत की हार के लिए IPL कितना जिम्मेदार है। इसके लिए हमने IPL आने के बाद के 15 साल (2008 से 2023 तक) और IPL से पहले के 15 साल (1992 से 2008 तक) के बीच भारतीय टीम के प्रदर्शन का विश्लेषण किया। हमने यह भी जाना कि IPL का तीनों फॉर्मेंट में भारतीय टीम के परफॉर्मेंस पर क्या असर पड़ा...?\n",
            "ट्रॉफी के नंबर बराबर, मैच विनिंग और स्कोरिंग रेट IPL के बाद बढ़ा \n",
            "IPL से पहले और बाद के 15 साल के पीरियड में ICC टूर्नामेंट जीतने के मामले में भारतीय टीम का प्रदर्शन एक जैसा रहा है। टीम इंडिया ने लीग से पहले और बाद इस टाइम पीरियड में दो-दो ICC ट्रॉफियां जीती हैं। अंतर इतना है कि भारतीय टीम ने लीग से 15 साल पहले 11 टूर्नामेंट खेले हैं। वहीं लीग के आने के बाद से अब तक टीम ने 15 ICC टूर्नामेंट में हिस्सा लिया। लीग से पहले भारत ने चार दफा खिताबी मुकाबले में प्रवेश किया है, जबकि लीग के बाद टीम 6 बार ICC टूर्नामेंट के फाइनल तक पहुंच सकी है।\n",
            "ये रकॉर्ड इसी ओर संकेत करते हैं कि IPL का भारतीय टीम के प्रदर्शन पर निगेटिव असर नहीं पड़ा है। फिर भी इस बार IPL की इतनी ज्यादा आलोचना क्यों हो रही है? आगे जानते हैं...\n",
            "टाइम कम होने का पॉइंट कितना वैलिड\n",
            "अब तक 7 बार टीम इंडिया IPL खत्म होने के 1 महीने के अंदर कोई ICC टूर्नामेंट खेलने उतरी है। 6 में गैप 4 से 13 दिन का ही रहा, वहीं वनडे वर्ल्ड कप 2019 के दौरान टीम को तैयारियों के लिए 23 दिन का समय मिला था।\n",
            "जिन 6 टूर्नामेंट में भारत को IPL के बाद सिर्फ 4 से 13 दिन का समय मिला उनमें 2013 और 2017 की चैम्पियंस ट्रॉफी भी शामिल है। 2013 में भारत चैम्पियन बना था वहीं, 2017 में फाइनल में हारा था। इनमें तीन टी-20 वर्ल्ड कप (2009, 2010 और 2021) भी शामिल हैं। भारत इन तीनों के सेमीफाइनल में नहीं पहुंच सका।.\n",
            "IPL आने के बाद तीनों फॉर्मेट में भारत के खेल में क्या बदलाव आया...\n",
            "वनडे में स्कोरिंग रेट तेज हुआ\n",
            "18 अप्रैल 2008 से भारत में फ्रेंचाइजी क्रिकेट टूर्नामेंट IPL शुरू हुआ। 20-20 ओवर के इस फॉर्मेट के आने से टीम इंडिया का स्कोरिंग रेट तेज हुआ। 1992 से 2007 तक भारत वनडे में 4.96 के रन रेट से स्कोर रहा था, वहीं 2008 के बाद से टीम 5.68 रन प्रति ओवर के हिसाब से स्कोर करने लगी।\n",
            "वनडे में टीम करीब 49% मैच ही जीत पाती थी, लेकिन IPL के बाद भारत ने करीब 62% मुकाबले जीते। टीम को 2008 के बाद 32% मैचों में ही हार मिली। उससे पहले के 16 सालों में ये आंकड़ा करीब 46% पर था। टीम इंडिया ने इस दौरान करीब 100 मैच कम खेले, लेकिन टीम का विनिंग रेट पहले के मुकाबले IPL के बाद तेजी से बढ़ा।\n",
            "टेस्ट में ज्यादा मैच जीतने लगे\n",
            "टेस्ट में टीम के ज्यादातर मैच पहले ड्रॉ होते थे और टीम का जीत परसेंट भी कम था। IPL आने के बाद ड्रॉ मैचों की संख्या भी कम हुई और भारत अब 50% से ज्यादा टेस्ट जीतने लगा है। 1992 से 2007 तक टीम इंडिया करीब 35% मैच ही जीत पाती थी, इस दौरान टीम ने करीब 39% ड्रॉ मुकाबले भी खेले। जबकि IPL के बाद टीम के महज 21% मैच ही ड्रॉ रहे।\n",
            "इतना ही नहीं टीम इंडिया में इस वक्त मोहम्मद सिराज, नवदीप सैनी, जसप्रीत बुमराह, शार्दूल ठाकुर, थंगारसु नटराजन, प्रसिद्ध कृष्णा और उमरान मलिक जैसे पेसर्स के ऑप्शन हैं, जो लगातार 140 किमी प्रति घंटे की रफ्तार से गेंदें फेंक रहे हैं। इनकी ही बदौलत टीम इंडिया ने विदेश में इंग्लैंड, ऑस्ट्रेलिया और साउथ अफ्रीका को टेस्ट हराए और लगातार दूसरी बार WTC फाइनल में जगह बनाई।\n",
            "टी-20 और IPL एक ही साथ आए\n",
            "भारत के लिए IPL और टी-20 क्रिकेट लगभग एक ही साथ आए, ऐसे में दोनों का ग्रोथ भी एक जैसा ही हुआ। भारत ने टी-20 फॉर्मेट में अपनी पहली ट्रॉफी 2007 में IPL के पहले जीती थी, लेकिन IPL के बाद टीम इंडिया में कई टैलेंटेड प्लेयर्स ने जगह बनाई। लिमिटेड ओवर्स टीम के उप कप्तान हार्दिक पंड्या उन्हीं में से एक हैं।\n",
            "इनके अलावा वरुण चक्रवर्ती, बुमराह, सूर्यकुमार यादव, क्रुणाल पंड्या, राहुल चाहर, अर्शदीप सिंह, दीपक हुड्डा जैसे कई टैलेंटेड प्लेयर्स ने IPL में अच्छा करने के बाद टीम इंडिया में जगह बनाई। सूर्या तो पिछले 2 सालों में टी-20 बैटर्स रैंकिंग में नंबर-1 प्लेयर भी हैं।\n",
            "\n",
            "Generated Summary: भारत ने टी-20 फॉर्मेट में अपनी पहली ट्रॉफी 2007 में IPL के पहले जीती थी, लेकिन IPL के बाद टीम ने करीब 62% मुकाबले जीते। टीम को 2008 के बाद 32% मैचों में ही हार मिली। उससे पहले के 16 सालों में ये आ\n",
            "Reference Summary: WTC Final 2023: Impact of Indian Team's Performance across all Three Formats of IPL टीम इंडिया को वर्ल्ड टेस्ट चैम्पियनशिप (WTC) के फाइनल मुकाबले में 209 रनों की करारी हार झेलनी पड़ी है। द ओवल के मैदान पर भारतीय टीम को ऑस्ट्रेलिया ने हराया।\n",
            "Metrics: {'rouge1': 8.0, 'rouge2': 0.0, 'rougeL': 8.0, 'rougeLsum': 8.0, 'bert_score_f1': 48.6549}\n",
            "\n",
            "---\n",
            "\n"
          ]
        },
        {
          "metadata": {
            "tags": null
          },
          "name": "stderr",
          "output_type": "stream",
          "text": [
            "Some weights of RobertaModel were not initialized from the model checkpoint at roberta-large and are newly initialized: ['roberta.pooler.dense.bias', 'roberta.pooler.dense.weight']\n",
            "You should probably TRAIN this model on a down-stream task to be able to use it for predictions and inference.\n"
          ]
        },
        {
          "metadata": {
            "tags": null
          },
          "name": "stdout",
          "output_type": "stream",
          "text": [
            "Article 5908:\n",
            "Article: बॉलीवुड एक्टर अजय देवगन- काजोल की बेटी निसा देवगन हाल ही में अपने दोस्तों के साथ पार्टी करने पहुंचे, जहां वह गिरने से बाल- बाल बचीं। इसी से जुड़ा एक वीडियो सोशल मीडिया पर सामने आया है। वीडियो में निसा एक रेस्टोरेंट के बाद गाड़ी से पहुंचती हैं और जैसे ही वह गाड़ी से उतरी उनका पैर फिसला और सामने से गेट खोलने आ रहे बॉडी गार्ड से टकरा गईं। हालांकि इसके बाद निसा भी हंसते हुए सीधे अंदर चली गईं। निसा के साथ उनके बेस्ट फ्रेंड ओरी भी नजर आ रहे हैं।\n",
            "यूजर ने दिए रिएक्शन\n",
            "लोग इस वीडियो को देखकर एक बार उन्हें ट्रोल करने लगे, वीडियो पर एक यूजर ने कमेंट कर लिखा, कुछ तो गड़बड़ है इस लड़की में'। दूसरे यूजर ने लिखा, 'इन्होने साबित कर दिया कि काजोल की बेटी हैं। काजोल भी हमेशा गिरती पड़ती हैं'।\n",
            "पिता अजय देवगन के साथ मनाया 20वां बर्थडे\n",
            "निसा देवगन ने 20 अप्रैल को अपना 20वां बर्थडे पिता अजय देवगन और फैमिली के साथ सेलिब्रेट किया है। जिसका एक वीडियो भी सोशल मीडिया पर सामने आया था। वीडियो में निसा अपने पिता अजय देवगन और दादी वीना देवगन के साथ बर्थडे केक काटती हुई नजर आई थीं।\n",
            "\n",
            "Generated Summary: अजय देवगन- काजोल की बेटी निसा देवगन हाल ही में अपने दोस्तों के साथ पार्टी करने पहुंचे, जहां वह गिरने से बाल- बाल बचीं। इसी से जुड़ा एक वीडियो सोशल मीडिया पर सामने आया है। वीडियो में निसा एक रेस्टोरेंट\n",
            "Reference Summary: Ajay Devgn Daughter Nysa Devgan Video Goes Viral - बॉलीवुड एक्टर अजय देवगन- काजोल की बेटी निसा देवगन हाल ही में अपने दोस्तों के साथ पार्टी करने पहुंचे, जहां वह गिरने से बाल- बाल बचीं\n",
            "Metrics: {'rouge1': 0.0, 'rouge2': 0.0, 'rougeL': 0.0, 'rougeLsum': 0.0, 'bert_score_f1': 63.8617}\n",
            "\n",
            "---\n",
            "\n"
          ]
        },
        {
          "metadata": {
            "tags": null
          },
          "name": "stderr",
          "output_type": "stream",
          "text": [
            "Some weights of RobertaModel were not initialized from the model checkpoint at roberta-large and are newly initialized: ['roberta.pooler.dense.bias', 'roberta.pooler.dense.weight']\n",
            "You should probably TRAIN this model on a down-stream task to be able to use it for predictions and inference.\n"
          ]
        },
        {
          "metadata": {
            "tags": null
          },
          "name": "stdout",
          "output_type": "stream",
          "text": [
            "Article 13868:\n",
            "Article: नयी दिल्ली: केंद्रीय अल्पसंख्यक कार्य मंत्री मुख्तार अब्बास नकवी ने मंगलवार को कहा कि इस साल हज की यात्रा के लिए भारत सरकार ने अपनी तरफ से पूरी तैयारी कर ली है। राज्यसभा में शून्यकाल के दौरान तृणमूल कांग्रेस के एक सांसद की ओर से 2 साल से हज की यात्रा न होने का मुद्दा उठाए जाने के जवाब में नकवी ने जवाब देते हुए कहा कि हज यात्रा को लेकर सउदी अरब की सरकार के फैसले का इंतजार किया जा रहा है।नकवी ने कहा, ‘कोरोना महामारी के दौरान पिछले 2 वर्ष से भारतीय हज यात्रा पर नहीं जा सके हैं। इस बार हम कोशिश कर रहे हैं। हमारी तैयारियां हैं। सऊदी सरकार को तय करना है कि हज यात्रा कब होगी और कितने लोग हिंदुस्तान से जाएंगे। सऊदी अरब की सरकार जैसे ही यह तय करेगी, हम उसके साथ हैं। हमने अपनी तैयारी पूरी कर ली है।’ नकवी ने कहा कि केंद्र में नरेंद्र मोदी के नेतृत्व में सरकार बनने के बाद रिकॉर्ड 2 लाख से ज्यादा हज यात्री हिंदुस्तान से हज यात्रा करने गए हैं।इससे पहले तृणमूल कांग्रेस के सदस्य मोहम्मद नदीमुल हक ने इस मुद्दे को उठाते हुए कहा कि पिछले दो साल से कोविड-19 की वजह से हज यात्रा नहीं हो पाई है। हक ने कहा कि कई लोगों ने यात्रा के लिए फॉर्म भर कर जमा कर दिया है लेकिन मगर अल्पसंख्यक मंत्रालय की ओर से स्थिति स्पष्ट नहीं की गई है। उन्होंने कहा कि हज कमेटी में 11 सदस्यों को नामित किया गया है और इसमें कुछ खामियां रह गई है।हक ने कहा कि 4 संयुक्त सचिवों को वोट देने का अधिकार नहीं है और 9 सदस्य अलग-अलग राज्यों से चुनकर लाते हैं, उनका अभी तक चुनाव नहीं हो सका है।\n",
            "Generated Summary: केंद्रीय अल्पसंख्यक कार्य मंत्री मुख्तार अब्बास नकवी ने मंगलवार को कहा कि इस साल हज की यात्रा के लिए भारत सरकार ने अपनी तरफ से पूरी तैयारी कर ली है। राज्यसभा में शून्यकाल के दौरान तृणमूल कांग्रेस के एक सांसद की ओर\n",
            "Reference Summary: मुख्तार अब्बास नकवी ने कहा, कोरोना महामारी के दौरान पिछले 2 वर्ष से भारतीय हज यात्रा पर नहीं जा सके हैं।\n",
            "Metrics: {'rouge1': 0.0, 'rouge2': 0.0, 'rougeL': 0.0, 'rougeLsum': 0.0, 'bert_score_f1': 56.7225}\n",
            "\n",
            "---\n",
            "\n"
          ]
        },
        {
          "metadata": {
            "tags": null
          },
          "name": "stderr",
          "output_type": "stream",
          "text": [
            "Some weights of RobertaModel were not initialized from the model checkpoint at roberta-large and are newly initialized: ['roberta.pooler.dense.bias', 'roberta.pooler.dense.weight']\n",
            "You should probably TRAIN this model on a down-stream task to be able to use it for predictions and inference.\n"
          ]
        },
        {
          "metadata": {
            "tags": null
          },
          "name": "stdout",
          "output_type": "stream",
          "text": [
            "Article 18483:\n",
            "Article: जौनपुर/गाजीपुर (उप्र): उत्तर प्रदेश के मुख्‍यमंत्री योगी आदित्‍यनाथ ने ''अब्बाजान'' कहने वालों पर राशन हड़पने का आरोप लगाने के बाद सोमवार को कहा कि ''क्या सपा सरकार में आपको राशन मिलता था, सपा सरकार से पहले बहन जी (मायावती) की सरकार में तो हाथी का पेट इतना बड़ा था कि पता ही नहीं लगता था कि जनता का राशन कहां जा रहा है।''जौनपुर में मुख्‍यमंत्री ने करोड़ों रुपये की परियोजनाओं का शिलान्यास और लोकार्पण करने के बाद मुंगराबादशाहपुर में आयोजित जनसभा को संबोधित करते हुए कहा कि ''क्या सपा सरकार में आपको राशन मिलता था, सपा सरकार से पहले बहन जी (मायावती) की सरकार में तो हाथी का पेट इतना बड़ा था कि पता ही नहीं लगता था कि जनता का राशन कहां जा रहा है।''गौरतलब है कि योगी ने गत 12 सितंबर को कुशीनगर की एक जनसभा में योगी ने कहा था, ''अब्बा जान कहने वाले गरीबों की नौकरी पर डकैती डाल देते थे। पूरा परिवार झोला लेकर वसूली के लिए निकल पड़ता था, अब्बाजान कहने वाले राशन हजम कर जाते थे और राशन नेपाल व बांग्लादेश पहुंच जाता था लेकिन आज जो गरीबों का राशन निगलेगा वह जेल चला जाएगा।'' योगी के इस बयान के बाद विपक्ष ने तीखी प्रतिक्रिया व्यक्त की थी।भाजपा के आधिकारिक ट्विटर हैंडल के अनुसार जौनपुर की सभा में योगी ने कहा, ''पहले तो न दुर्गा पूजा होती थी, न रामलीला का आयोजन होने दिया जाता था, न यज्ञ होने दिया जाता था और ऐसा लगता था कि मारीच (मारीच लंकापति रावण का रिश्तेदार था और भेष बदलने में माहिर था) और सुबाहु (मारीच का भाई) इन्हीं (विपक्षी दलों) के यहां पैदा हो गए हैं।''उन्होंने कहा, '' पहले कोरोना नहीं था तो भी सरकारें यज्ञ और दुर्गा पूजा नहीं होने देती थीं, लेकिन इस बार दुर्गा पूजा की अनुमति दी जाएगी।'' योगी ने कहा, ''अयोध्या में राम मंदिर के निर्माण का कार्य क्या सपा करती, क्या बसपा करती, क्या आप कांग्रेस से उम्मीद करते हैं।'' उन्होंने कहा, ''पहले मुख्‍यमंत्री होते ही मैं और मेरा खानदान, उससे बाहर कोई नहीं निकलता था, जब प्रदेश के लोग गंभीर बीमारियों की चपेट में होते थे, तब सैफई का परिवार सैफई में बड़ी-बड़ी हस्तियों को बुलाकर नाच-गाने का कार्यक्रम करता था, तब प्रदेश की जनता दिखाई नहीं देती थी।''योगी ने कहा, ''देश महत्वपूर्ण होता है और उसकी सुरक्षा अधिक महत्वपूर्ण है, ध्यान रखिए कांग्रेस के लोग भी आपके पास आएंगे और बड़ी-बड़ी घोषणाएं करेंगे, लेकिन याद रखिए चीन जब देश के अंदर घुसपैठ करता था तो यही लोग कहते थे कि चुप हो जाओ, चीन के खिलाफ कुछ बोलना मत।'' मुख्यमंत्री ने कहा, '' पहले सड़कें नहीं बनती थीं, जहां से गड्ढे शुरू हो जाएं, पता लगता था कि यूपी आ गया, जहां से अंधेरा प्रारंभ होता था, वहां से समझा जाता था कि यूपी आ गया, जहां बेटियों की इज्जत तार-तार होती थी, समझा जाता था कि यूपी आ गया और पहले जहां बड़े-बड़े दंगे होते थे, वो यूपी था।''योगी ने कहा, ‘‘हमारी सरकार में साढ़े चार वर्ष में एक भी दंगा नहीं हुआ और हर क्षेत्र में विकास हुआ है।’’ इससे पहले गाजीपुर की सभा में मुख्‍यमंत्री योगी आदित्‍यनाथ ने कहा कि भारतीय जनता पार्टी (भाजपा) की सरकार गुंडों और माफियाओं से अच्छी तरह निपटना जानती है और भाजपा के शासन में उनपर बुलडोजर चल रहा है। मुख्‍यमंत्री ने सोमवार को गाजीपुर जिला मुख्यालय से 40 किलोमीटर दूर सैदपुर के टाउन नेशनल इंटर कॉलेज में कई योजनाओं का लोकार्पण और शिलान्यास किया। उन्होंने कहा, ‘‘पिछली सरकारों में गुंडों, माफियाओं को सरकारी संरक्षण मिलता था लेकिन अब उत्तर प्रदेश से माफियाओं का सफाया किया जा रहा है। भाजपा ने सभी क्षेत्रों में व्यापक परिवर्तन करके दिखाया है और प्रधानमंत्री नरेंद्र मोदी के नेतृत्व में पूरे देश में विकास हो रहा है।’’योगी ने कहा कि उनकी सरकार ने बिना किसी की जाति पूछे लाखों युवाओं को रोजगार दिया है, युवाओं को नई पहचान दी है और युवा गर्व से कह सकते हैं कि वे उत्तर प्रदेश के हैं। उन्होंने कहा कि भाजपा सरकार ने जाति, क्षेत्र, चेहरा नहीं देखा और इस सरकार में सभी वर्गों एवं समाज का विकास किया गया। मुख्यमंत्री ने योजनाओं के लाभार्थियों को प्रमाण पत्र प्रदान किए। उन्होंने कहा कि अब गाजीपुर में मेडिकल कॉलेज का नाम महर्षि विश्वामित्र के नाम पर होगा।\n",
            "Generated Summary: उत्तर प्रदेश के मुख् यमंत्री योगी आदित् यनाथ ने ''अब्बाजान'' कहने वालों पर राशन हड़पने का आरोप लगाने के बाद सोमवार को कहा कि ''क्या सपा सरकार में आपको राशन मिलता था, सपा सरकार से पहले बहन जी (मायावती) की सरकार में तो हा\n",
            "Reference Summary: योगी ने कहा, ''पहले तो न दुर्गा पूजा होती थी, न रामलीला का आयोजन होने दिया जाता था, न यज्ञ होने दिया जाता था और ऐसा लगता था कि मारीच (मारीच लंकापति रावण का रिश्तेदार था और भेष बदलने में माहिर था) और सुबाहु (मारीच का भाई) इन्हीं (विपक्षी दलों) के यहां पैदा हो गए हैं।''\n",
            "Metrics: {'rouge1': 0.0, 'rouge2': 0.0, 'rougeL': 0.0, 'rougeLsum': 0.0, 'bert_score_f1': 50.3878}\n",
            "\n",
            "---\n",
            "\n"
          ]
        },
        {
          "output_type": "stream",
          "name": "stderr",
          "text": [
            "Some weights of RobertaModel were not initialized from the model checkpoint at roberta-large and are newly initialized: ['roberta.pooler.dense.bias', 'roberta.pooler.dense.weight']\n",
            "You should probably TRAIN this model on a down-stream task to be able to use it for predictions and inference.\n"
          ]
        },
        {
          "output_type": "stream",
          "name": "stdout",
          "text": [
            "Article 4699:\n",
            "Article: लोकसभा चुनाव- 2024 के चुनाव परिणाम जो भी हों और जैसे भी हों, लेकिन इतना तय है कि कर्नाटक में काँग्रेस की विजय ने समूचे विपक्ष में नई ऊर्जा भर दी है। जो ममता बनर्जी कांग्रेस से ही निकलकर पश्चिम बंगाल में कांग्रेस को बर्बाद करने पर तुली हुई थीं, उन्होंने भी कह दिया है कि अब कांग्रेस जहां भी मज़बूत है, हम सब मिलकर वहाँ उसका सहयोग करेंगे।\n",
            "दूसरी तरफ़ उन्होंने सीटों का एक फ़ॉर्मूला भी सुझाया कि अकेली कांग्रेस 243 सीटों पर लड़े और बाक़ी दल 300 सीटों पर लड़ें। जीत का मंत्र इसी फ़ॉर्मूले से निकलेगा। इस फ़ॉर्मूले में दो बातें हैं। ममता एक तरफ़ तो कह रही हैं कि कांग्रेस क्षेत्रीय दलों का सम्मान करते हुए उन्हें तीन सौ सीटें दे दे।\n",
            "दूसरी तरफ़ वे कांग्रेस को 243 सीटों तक सीमित भी कर रही हैं। इसका सीधा-सा अर्थ यह है कि कांग्रेस अगर पूरी 243 सीटें भी जीत जाए तो भी वह अकेले अपने दम पर तो सरकार नहीं ही बना सकती। अब यह कांग्रेस को सोचना है कि क्या वह अकेले अपने दम पर सरकार बनाने की हिमाक़त कर सकती है या क्षेत्रीय पार्टियों से मिलकर अपनी ताक़त बढ़ाने के फ़ॉर्मूले पर जाती है। वैसे विपक्षी एकता कहने-सुनने में तो अच्छी लगती है, लेकिन सही मायने में एकता हो नहीं पाती।\n",
            "कभी बात सीटों के बँटवारे पर अटक जाती है। कभी नेताओं का अहम आड़े आ जाता है। जैसे फ़लाँ मीटिंग में उसे बुलाया, हमें नहीं बुलाया टाइप। इन सब झंझटों से पार पा भी लें तो नेता चयन में तो अड़चन आती ही है। राहुल गांधी को ममता और नीतीश कुमार जैसे नेता स्वीकार कर पाते हैं या नहीं, यह एक बड़ा सवाल है। हालाँकि, यह सब जीती हुई सीटों की संख्या पर निर्भर ज़्यादा करता है। कई बार ऐसा भी हो जाता है कि कांग्रेस जैसे बड़े दल बैठे रह जाते हैं और छप्पन सांसदों के साथ चंद्रशेखर अपनी सरकार बना लेते हैं।\n",
            "बहरहाल, कर्नाटक की जीत विपक्ष के लिए नया पैग़ाम तो लाई है। कर्नाटक से याद आया, वहाँ अभी मुख्यमंत्री पद के लिए होड़ चल रही है। राजनीतिक प्रेक्षक कहते हैं कि सिद्धारमैया का सीएम बनना लगभग तय है। हालाँकि डीके शिवकुमार ने इस चुनाव में जी-तोड़ मेहनत की। सारी ताक़त फूंक दी।\n",
            "आलाकमान भी उन्हें पसंद करता है, लेकिन ईडी और सीबीआई का डर हो सकता है शिवकुमार के रास्ते का रोड़ा बन जाए। उन पर कुछ मुक़दमे (राजनीतिक) चल रहे हैं। हालाँकि सीएम पद की होड़ का नतीजा भी आज-कल में आ ही जाएगा।\n",
            "Generated Summary: कर्नाटक में काँग्रेस की विजय ने समूचे विपक्ष में नई ऊर्जा भर दी है। जो ममता बनर्जी कांग्रेस से ही निकलकर पश्चिम बंगाल में कांग्रेस को बर्बाद करने पर तुली हुई थीं, उन्होंने भी कह दिया है कि अब कांग्रेस ज\n",
            "Reference Summary: Karnataka Election; Mamata Banerjee's Party and Congress' New Seat Sharing Formula उन्होंने सीटों का एक फ़ॉर्मूला भी सुझाया कि अकेली कांग्रेस 243 सीटों पर लड़े और बाक़ी दल 300 सीटों पर लड़ें। जीत का मंत्र इसी फ़ॉर्मूले से निकलेगा।\n",
            "Metrics: {'rouge1': 0.0, 'rouge2': 0.0, 'rougeL': 0.0, 'rougeLsum': 0.0, 'bert_score_f1': 43.5176}\n",
            "\n",
            "---\n",
            "\n"
          ]
        },
        {
          "output_type": "stream",
          "name": "stderr",
          "text": [
            "Some weights of RobertaModel were not initialized from the model checkpoint at roberta-large and are newly initialized: ['roberta.pooler.dense.bias', 'roberta.pooler.dense.weight']\n",
            "You should probably TRAIN this model on a down-stream task to be able to use it for predictions and inference.\n"
          ]
        },
        {
          "output_type": "stream",
          "name": "stdout",
          "text": [
            "Article 1015:\n",
            "Article: देश के विधि आयोग ने 14 जून को अधिसूचना जारी कर यूनिफॉर्म सिविल कोड (UCC) पर सुझाव मांगे थे। गुरुवार तक इस पर 60 लाख से ज्यादा सुझाव मिले। अब तक किसी कानून या मामले पर इतनी बड़ी संख्या में राय नहीं मिली है। इन सुझावों की छंटनी के लिए AI टूल्स का सहारा लिया जाएगा।\n",
            "UCC बनाने की प्रक्रिया पर सार्वजनिक सुझाव और आपत्तियां देने करने का समय अब 28 जुलाई तक बढ़ा दिया गया है। पहले इसकी लास्ट डेट गुरुवार को थी। 20 जुलाई से शुरू हो रहे संसद के मानसून सत्र में UCC बिल नहीं पेश किय जाएगा। दरअसल सरकार ने 21 विधेयक लिस्ट किए हैं जिसमें UCC का नाम नहीं है।\n",
            "ई-मेल से मिले 90% से ज्यादा सुझाव\n",
            "बड़ी संख्या में सुझाव मिलने के बाद बड़ी चुनौती जवाबों की स्क्रूटनी है। एक जैसे सुझावों की छंटनी होगी। सूत्रों के अनुसार 90 प्रतिशत से अधिक सुझाव ईमेल से मिलने के कारण इन्हें आसानी से AI टूल्स से छांट सकेंगे। ईमेल के अलावा मिले लिखित सुझावों की अलग श्रेणियों बनाई जा रही हैं। अंग्रेजी-हिंदी के अलावा अन्य भाषाओं में मिले सुझावों का अनुवाद होगा। इससे पहले 2018 में UCC पर 76 हजार सुझाव मिले थे।\n",
            "मुस्लिम संगठनों से मिले सबसे ज्यादा सुझाव और आपत्तियां\n",
            "UCC के बारे में सबसे ज्यादा आपत्तियां और सुझाव मुस्लिम संगठनों से मिली हैं। इनमें से उन सुझावों को अलग कर दिया जाएगा, जिनमें UCC न लाने की वकालत है। अगले एक महीने में ज्यादा से ज्यादा संगठनों, संस्थाओं, गैर सरकारी निकायों, विशेषज्ञ केंद्रों के प्रतिवेदनों को आमने-सामने सुनवाई के लिए बुलाया जाएगा।\n",
            "सूत्रों के अनुसार हजारों सुझावों की शब्दावली एक-दूसरे से हूबहू मेल खाती है। जाहिर है ये मत किसी के इशारे पर भेजे गए हैं।\n",
            "बड़ी संख्या में पीड़ितों के पत्र मिले\n",
            "आयोग को बड़ी संख्या में पीड़िताओं ने अपनी कहानी लिखकर भेजी हैं। इनमें विभिन्न धर्मों की महिलाओं ने बताया है कि तलाक लेने, संपत्ति में हिस्सेदारी और बच्चों की कस्टडी लेने में उन्हें निजी कानूनों की बाधाओं का सामना करना पड़ता है।\n",
            "UCC पर विदेशों से भी सुझाव आए हैं। इनमें ज्यादातर कनाडा, ब्रिटेन और खाड़ी देशों से मिले हैं। इन पर भी आयोग मेरिट पर विचार करेगा। आयोग अगले 40-50 दिन में इन पर सुनवाई और निपटारे की प्रक्रिया पूरी करना चाहता है। हालांकि, UCC का मूल ढांचा सुझाव आमंत्रित करने से पहले ही तैयार किया जा चुका है। इनमें ऐसे मानकों को रखा गया है जिन पर कोई समझौता नहीं किया जाएगा।\n",
            "Generated Summary: देश के विधि आयोग ने 14 जून को अधिसूचना जारी कर यूनिफॉर्म सिविल कोड (UCC) पर सुझाव मांगे थे। गुरुवार तक इस पर 60 लाख से ज्यादा सुझाव मिले। अब तक किसी कानून या मामले पर इतनी बड़ी संख्या में राय नहीं\n",
            "Reference Summary: Uniform Civil Code Suggestions Update  देश के विधि आयोग ने 14 जून को अधिसूचना जारी कर यूनिफॉर्म सिविल कोड (UCC) पर सुझाव मांगे थे। गुरुवार तक इस पर 60 लाख से ज्यादा सुझाव मिले।\n",
            "Metrics: {'rouge1': 54.5455, 'rouge2': 44.4444, 'rougeL': 54.5455, 'rougeLsum': 54.5455, 'bert_score_f1': 81.3023}\n",
            "\n",
            "---\n",
            "\n"
          ]
        },
        {
          "output_type": "stream",
          "name": "stderr",
          "text": [
            "Some weights of RobertaModel were not initialized from the model checkpoint at roberta-large and are newly initialized: ['roberta.pooler.dense.bias', 'roberta.pooler.dense.weight']\n",
            "You should probably TRAIN this model on a down-stream task to be able to use it for predictions and inference.\n"
          ]
        },
        {
          "output_type": "stream",
          "name": "stdout",
          "text": [
            "Article 20467:\n",
            "Article: श्रीनगर: पाकिस्तान मुस्लिम लीग-नवाज (पीएमएल-एन) के अध्यक्ष शहबाज शरीफ को सोमवार को संसद ने निर्विरोध रूप से पाकिस्तान का नया प्रधानमंत्री चुन लिया है। शहबाज शरीफ पाकिस्तानी समय अनुसार रात 8:30 बजे प्रधानमंत्री पद की शपथ लेंगे। पड़ोसी देश में सत्ता परिवर्तन होते ही जम्मू कश्मीर की पूर्व मुख्यमंत्री और पीडीपी अध्यक्ष का बड़ा बयान सामने आया है। महबूबा ने कहा कि पाकिस्तान में लोकतंत्र की जड़ें मजबूत हो रही हैं और पड़ोसी देश में राजनीतिक स्थिरता हमारे लिए अच्छी है।बता दें कि नेशनल असेंबली में अविश्वास प्रस्ताव के बाद पाकिस्तानी संसद में शहबाज शरीफ को आज देश का नया प्रधानमंत्री चुन लिया गया है। इससे पहले प्रतिद्वंद्वी उम्मीदवार पाकिस्तान तहरीक-ए-इंसाफ पार्टी के शाह महमूद कुरैशी ने घोषणा की थी कि वह मतदान का बहिष्कार करेंगे और सदन से वॉकआउट कर गए। नेशनल असेंबली में कुरैशी के चुनाव के बहिष्कार के बाद शहबाज इस पद के लिए एक मात्र दावेदार बचे थे। जीत के लिए 342 सदस्यीय सदन में 172 सांसदों का समर्थन जरूरी था। इस दौरान तीन बार पूर्व प्रधानमंत्री रहे नवाज शरीफ के छोटे भाई शहबाज को 174 मत मिले जो 172 के साधारण बहुमत से दो ज्यादा है। शहबाज पाकिस्तान के 23वें प्रधानमंत्री हैं। वह तीन बार देश के सबसे अधिक आबादी वाले और राजनीतिक रूप से महत्वपूर्ण पंजाब प्रांत के मुख्यमंत्री रहे हैं। पूर्व राष्ट्रपति और पाकिस्तान पीपुल्स पार्टी (पीपीपी) के सह-अध्यक्ष आसिफ अली जरदारी ने अविश्वास प्रस्ताव के जरिए हटाए गए इमरान खान की जगह लेने के लिए संयुक्त विपक्ष की बैठक में प्रधानमंत्री पद के लिए शहबाज के नाम का प्रस्ताव रखा था। सदन के नए नेता के चुनाव की प्रक्रिया रविवार को प्रधानमंत्री इमरान खान को अविश्वास मत के माध्यम से पद से हटाए जाने के बाद शुरू हुई। खान सदन का विश्वास खोने के बाद देश के इतिहास में पहले प्रधानमंत्री बने जिन्हें पद छोड़ना पड़ा। पाकिस्तान 1947 में अपने गठन के बाद से कई शासन परिवर्तन और सैन्य तख्तापलट के साथ राजनीतिक अस्थिरता से जूझ रहा है। किसी भी प्रधानमंत्री ने अब तक पूरे पांच साल का कार्यकाल पूरा नहीं किया है।\n",
            "Generated Summary: Pakistan मुस्लिम लीग-नवाज (पीएमएल-एन) के अध्यक्ष शहबाज शरीफ को सोमवार को संसद ने निर्विरोध रूप से पाकिस्तान का नया प्रधानमंत्री चुन लिया है। शहबाज शरीफ पाकिस्तानी समय अनुसार रात 8:30 बजे प्रधानमंत्री पद की शपथ\n",
            "Reference Summary: पाकिस्तान मुस्लिम लीग-नवाज (पीएमएल-एन) के अध्यक्ष शहबाज शरीफ को सोमवार को संसद ने निर्विरोध रूप से पाकिस्तान का नया प्रधानमंत्री चुन लिया है। शहबाज शरीफ पाकिस्तानी समय अनुसार रात 8:30 बजे प्रधानमंत्री पद की शपथ लेंगे।\n",
            "Metrics: {'rouge1': 80.0, 'rouge2': 66.6667, 'rougeL': 80.0, 'rougeLsum': 80.0, 'bert_score_f1': 87.5293}\n",
            "\n",
            "---\n",
            "\n"
          ]
        },
        {
          "output_type": "stream",
          "name": "stderr",
          "text": [
            "Some weights of RobertaModel were not initialized from the model checkpoint at roberta-large and are newly initialized: ['roberta.pooler.dense.bias', 'roberta.pooler.dense.weight']\n",
            "You should probably TRAIN this model on a down-stream task to be able to use it for predictions and inference.\n"
          ]
        },
        {
          "output_type": "stream",
          "name": "stdout",
          "text": [
            "Article 3118:\n",
            "Article: भारत में दुनिया का सबसे बड़ा और लंबा पॉड टैक्सी नेटवर्क तैयार होगा। उत्तर प्रदेश में देश के पहले पॉड टैक्सी प्रोजेक्ट को बनाने की मंजूरी दी जा चुकी है।\n",
            "जानना जरूरी है, क्या है बिना ड्राइवर के चलने वाली पॉड टैक्सी? जो 3 रोड लेन के बराबर ट्रैफिक कंट्रोल कर सकती है। ऊपर दिए गए फोटो पर क्लिक करें और देखें वीडियो…\n",
            "Generated Summary: भारत में दुनिया का सबसे बड़ा और लंबा पॉड टैक्सी नेटवर्क तैयार होगा। उत्तर प्रदेश में देश के पहले पॉड टैक्सी प्रोजेक्ट को बनाने की मंजूरी दी जा चुकी है। जानना जरूरी है, क्या है बिना ड्राइवर के चलने वाली\n",
            "Reference Summary: Uttar Pradesh Noida Pod Taxi Project Network - What Is Pod Taxi, Pod Taxi Route From Noida Airport To Film City. All You Need To Know. क्या होता है Pod taxi system? कैसे काम करता है ये? और सबसे जरूरी सवाल भारत में कैसे ऑपरेट होगा दुनिया का सबसे बड़ा और लंबा pod taxi system?\n",
            "Metrics: {'rouge1': 0.0, 'rouge2': 0.0, 'rougeL': 0.0, 'rougeLsum': 0.0, 'bert_score_f1': 44.206}\n",
            "\n",
            "---\n",
            "\n"
          ]
        },
        {
          "output_type": "stream",
          "name": "stderr",
          "text": [
            "Some weights of RobertaModel were not initialized from the model checkpoint at roberta-large and are newly initialized: ['roberta.pooler.dense.bias', 'roberta.pooler.dense.weight']\n",
            "You should probably TRAIN this model on a down-stream task to be able to use it for predictions and inference.\n"
          ]
        },
        {
          "output_type": "stream",
          "name": "stdout",
          "text": [
            "Article 20718:\n",
            "Article: भारत के कई राज्यों में लगभग 17 महीने के बाद स्कूल फिर से खुल गए हैं। ज्यादातर छात्र एक बार फिर अपने स्कूल में जाकर और अपने पुराने दोस्तों से मिलकर बेहद खुश नजर आए। हालांकि ज्यादातर अभिभावकों के मन में कोविड-19 को लेकर बैठे डर के कारण स्कूलों में छात्रों की उपस्थिति काफी कम थी। स्कूलों के प्रबंधन ने सोशल डिस्टैंसिंग, अल्टरनेट सिटिंग अरेंजमेंट, व्यवस्थित लंच ब्रेक, थर्मल स्क्रीनिंग और मास्क पहनने जैसी चीजों को कड़ाई से लागू किया, लेकिन अभिभावक इस बात को लेकर आशंकित थे कि क्या ये उपाय उनके बच्चों को कोरोना वायरस से संक्रमित होने से रोक पाएंगे।महामारी की संभावित तीसरी लहर को लेकर भी अभिभावकों के मन में सवाल हैं। ICMR (इंडियन काउंसिल ऑफ मेडिकल रिसर्च) की एक रिपोर्ट कहती है कि देश में कोरोना की तीसरी लहर आएगी और यह अक्टूबर में अपने पीक पर पहुंच सकती है। ऐसे में कई अभिभावक सवाल उठा रहे हैं कि जब एक महीने बाद तीसरी लहर आनी ही है तो अभी स्कूलों को खोलने की क्या जरूरत थी। वहीं, आईआईटी कानपुर की एक अन्य रिसर्च में कहा गया है कि फिलहाल तीसरी लहर आने की कोई संभावना नहीं है।अब बच्चों के माता-पिता पसोपेश में हैं कि आखिर किसके दावे पर यकीन करें। लोग इस बात को लेकर डरे हुए हैं कि अगर तीसरी लहर आई और उसका असर बच्चों पर हुआ तो उन्हें कैसे बचाएंगे। अमेरिका से खबरें आईं है कि वहां तीसरी लहर में बच्चे बड़ी संख्या में कोरोना वायरस का शिकार हो गए हैं। बच्चों की कोरोना वैक्सीन को लेकर भी अनिश्चितताएं हैं, और उसका आना भी अभी बाकी है। अभिभावक इस बात को लेकर असमंजस में हैं कि बच्चों को वैक्सीन की 2 डोज लगवाने के बाद ही स्कूल भेजें या बगैर वैक्सीन लगाए ही स्कूल भेजना शुरू करें।राज्य सरकारों ने बच्चों की जिम्मेदारी स्कूलों पर डाल दी है, और स्कूलों के मैनेजमेंट ने ये जिम्मेदारी अभिभावकों पर डाल दी है। आज देश भर के परिवारों में इस बात को लेकर असमंजस है कि बच्चों को स्कूल भेजा जाए या फिर घर पर ही ऑनलाइन पढ़ाई करवाई जाए और हालात के ठीक होने का इंतजार किया जाए।1 सितंबर को दिल्ली, उत्तर प्रदेश, हरियाणा, मध्य प्रदेश, राजस्थान और तमिलनाडु के स्कूल सख्त एसओपी (standard operating protocol) दिशानिर्देशों के तहत फिर से खुल गए, लेकिन छात्रों की उपस्थिति काफी कम थी। ज्यादातर लोगों ने अपने बच्चों को स्कूल नहीं भेजने का फैसला किया। जहां तक बच्चों का सवाल है, तो वे डेढ़ साल से भी ज्यादा समय के बाद स्कूल लौट कर अपने पुराने दोस्तों से मिलने पर बेहद खुश नज़र आए।मुझे बहुत से लोग मिले, जो अपने बच्चों को लेकर परेशान हैं। उन्होंने मुझे बताया कि पिछले 17 महीनों के दौरान घर में रहने से बच्चों का सामाजिक विकास रुक गया है और उनके सामाजिक आचरण में काफी बदलाव आया है। घर में ऑनलाइन क्लासेज हो रही हैं, बाहर खेलना-कूदना बंद है, इसलिए वे सिर्फ टीवी और मोबाइल पर अपना ज्यादा वक्त बिताते हैं। छोटे छोटे बच्चे अपना ज्यादातर समय मोबाइल फोन और लैपटॉप पर लगाते हैं, इसके कारण उनके मानसिक स्वास्थ्य पर प्रतिकूल प्रभाव पड़ रहा है। छोटे बच्चे बोलना नहीं सीख पा रहे हैं और उनकी स्पीच थेरेपी करानी पड़ रही है। आजकल के टीनेजर्स काफी जल्दी गुस्सा हो जाते हैं और बाहरी दुनिया के संपर्क में न आने के कारण वे चिड़चिड़े हो गए हैं।बुधवार की रात अपने प्राइम टाइम शो 'आज की बात' में मैंने AIIMS के डायरेक्टर डॉक्टर रणदीप गुलेरिया का इंटरव्यू लिया और उनसे महामारी की तीसरी लहर की संभावना के बारे में पूछा। उन्होंने कहा कि तीसरी लहर की संभावना अभी भी मौजूद है क्योंकि भारत में अधिकांश लोगों को अभी भी वैक्सीन लगनी बाकी है, इसके कारण बड़ी संख्या में लोगों के शरीर में एंटीबॉडी नहीं बन पाए हैं। डॉ. गुलेरिया ने कहा कि अगर तीसरी लहर आती है तो हो सकता है कि कोरोना के मामलों में इजाफा हो, लेकिन दूसरी लहर की तुलना में इस बार अस्पताल में भर्ती होने वालों और जान गंवाने वालों की संख्या में कमी देखने को मिल सकती है।डॉ. गुलेरिया ने कहा कि अब तक किए गए सीरो सर्वे के मुताबिक, ज्यादातर लोगों ने वैक्सीन की एक डोज ले ली है, और अगर तीसरी लहर आती है तो गंभीर बीमारी के बहुत ज्यादा मामले सामने नहीं आएंगे। उन्होंने बताया कि आमतौर पर कोविड की वैक्सीन गंभीर बीमारी, अस्पताल में भर्ती होने और मौतों से सुरक्षा प्रदान करती हैं। उन्होंने कहा, ICMR मॉडलिंग डेटा में अक्टूबर से जनवरी तक तीसरी लहर की रेंज दिखाई गई है, जबकि अन्य मॉडलिंग डेटा में कई वेरिएबल्स के आधार पर दूसरे निष्कर्ष सामने आए, हम ये नहीं जानते कि ये वेरिएबल्स क्या हैं।AIIMS डायरेक्टर ने मुझे बताया कि काफी कुछ कोरोना वायरस पर निर्भर करता है। उन्होंने कहा, ' अगर ये वायरस अन्य वेरिएंट्स में बदल जाता है और फिर फैलता है, तो निश्चित रूप से मामलों की संख्या में वृद्धि होगी। यह बड़े पैमाने पर लोगों के व्यवहार पर भी निर्भर करता है। अगर भारत में लोग आने वाले त्योहारों के महीनों में कोविड उपयुक्त व्यवहार का पालन करते हैं, तो हो सकता है कि तीसरी लहर या तो बिल्कुल न आए या अगर आती भी है तो यह घातक नहीं होगी।'जब मैंने पूछा कि क्या संभावित तीसरी लहर बच्चों को ज्यादा प्रभावित कर सकती है, डॉ. गुलेरिया ने कहा, ‘तीसरी लहर की चपेट में बच्चों के ज्यादा आने की बात इसलिए कही जा रही थी क्योंकि अब तक किसी भी बच्चे का वैक्सीनेशन नहीं हो पाया है। अगर हम भारत, यूरोप और ब्रिटेन में दूसरी लहर के आंकड़ों पर गौर करें तो हम पाएंगे कि बहुत कम बच्चे इस वायरस से प्रभावित हुए थे और उनमें गंभीर रूप से बीमार होने के मामले बहुत कम थे।’डॉ. गुलेरिया ने कहा, ‘कोविड की चपेट में आने वाले स्वस्थ बच्चों को आमतौर पर हल्के संक्रमण का सामना करना पड़ा। इसके अलावा ICMR सीरो सर्वे के आंकड़े बताते हैं कि 55 से 60 फीसदी बच्चों में पहले से ही वायरस के खिलाफ मजबूत एंटीबॉडी विकसित हो चुकी है। इसका मतलब है कि आधे से भी ज्यादा बच्चे पहले ही कोरोना से संक्रमित हो चुके थे और उनके शरीर में एंटीबॉडी बन गई है । इसलिए कुल मिलाकर अब हम कह सकते हैं कि काफी संख्य़ा में बच्चों में एंटीबॉडी विकसित हो चुकी है। ऐसे में अगर तीसरी लहर आती भी है तो हो सकता है कि बच्चे गंभीर रूप से बीमार न हों और उन्हें हल्के संक्रमण का ही सामना करना पड़े।’जब मैंने पूछा कि क्या मां-बाप को अभी अपने बच्चों को स्कूल भेजना चाहिए या नहीं, एम्स निदेशक ने कहा, ‘ मां-बाप अपने बच्चों को उन राज्यों के स्कूलों में भेज सकते हैं जहां पॉजिटिविटी रेट कम है, जैसे कि दिल्ली में। फिर भी छात्रों को स्कूलों में कोविड उपयुक्त व्यवहार का पालन करना चाहिए, और शिक्षकों एवं स्कूल के सभी कर्मचारियों को वैक्सीन लगवा लेनी चाहिए।’डॉ. गुलेरिया ने कहा, ‘स्कूलों को 50 पर्सेंट अटेंडेंस के साथ या अलग-अलग शिफ्ट में शुरू करना चाहिए, और छात्रों को हैंड सैनिटाइजर समेत कोरोना से बचाव के लिए अन्य चीजें देनी चाहिए। स्कूल उन्हीं इलाकों में खोले जाने चाहिए, जहां पॉजिटिविटी रेट कम है। इसकी लगातार मॉनिटरिंग की जानी चाहिए और पॉजिटिविटी रेट में बढ़ोत्तरी पाए जाने पर स्कूलों को बंद भी किया जाना चाहिए । स्कूल खोलने का मतलब यह नहीं है कि हम उन्हें स्थायी रूप से खोल रहे हैं, इसके पीछे जोखिम और फायदे वाली एनालिसिस है। हमें स्कूलों को केवल कम पॉजिटिविटी रेट वाले इलाकों में खोलने की इजाजत देनी चाहिए, और वह भी कड़ी निगरानी और कोविड उपयुक्त व्यवहार का पूरी तरह पालन करते हुए।’जब मैंने बताया कि अमेरिका में महामारी फिर से फैल गई है और पिछले 15 दिनों के दौरान रोजाना 2 लाख मामले सामने आ रहे हैं, और बच्चे भी बड़े पैमाने पर संक्रमित हो रहे हैं, तो AIIMS डायरेक्टर ने कहा: 'यह सच है कि अमेरिका में अब डेल्टा वेरिएंट के मामले बढ़ रहे हैं। अमेरिका में कुछ राज्य ऐसे भी थे जहां कोविड उपयुक्त व्यवहार का पालन नहीं किया जा रहा था, लोगों ने मास्क पहनना बंद कर दिया था और वे पार्टियों में जाने लगे थे। हमें इन देशों से सीखना चाहिए और जो गलतियां वहां की गई हैं, उनसे बचना चाहिए।'बच्चों के वैक्सीनेशन पर डॉ. गुलेरिया ने कहा, 'अगर हम सभी बच्चों के वैक्सीनेशन का इंतजार करते रहे, तो हम अगले साल तक स्कूल नहीं खोल पाएंगे। उस समय भी अगर कोई नया वेरिएंट सामने आ जाता है तो बच्चों को बूस्टर डोज देने को लेकर सवाल उठने लगेंगे। यदि हम वैक्सीन और नए वेरिएंट्स की राह देखते रहे तो स्कूलों को लंबे समय तक नहीं खोल पाएंगे।'उन्होंने कहा, '12 साल और उससे ज्यादा की उम्र के बच्चों के लिए पहले से ही ZyCov-D वैक्सीन को मंजूरी दी जा चुकी है। इसी तरह, भारत बायोटेक का टीनेजर्स पर कोवैक्सिन का ट्रायल पहले ही पूरा हो चुका है और उसका विश्लेषण जारी है। एक बार ये टीके आने के बाद, 12 वर्ष से अधिक आयु वर्ग के बच्चों को टीका लगाया जा सकता है। यहां तक कि अमेरिका की फाइजर कंपनी का टीका भी भारत में बच्चों को दिया जा सकता है। इसलिए, इस समय भारत के कई राज्यों में स्कूलों को फिर से खोलने से जोखिम कम है, और फायदा ज्यादा है। हम स्कूलों के फिर से खुलने के लिए अनंतकाल तक इंतजार नहीं कर सकते।'डॉ. गुलेरिया ने अपने इंटरव्यू में जो कुछ कहा है, उसे भारत में स्कूल जाने वाले बच्चों के मां-बाप को ध्यान से सुनना चाहिए। पहला, स्कूलों को केवल उन्हीं इलाकों में फिर से खोला जाना चाहिए जहां पॉजिटिविटी रेट बहुत कम है, दूसरा, सभी स्कूलों को कोविड उपयुक्त व्यवहार का सख्ती से पालन करना चाहिए, और तीसरा, यदि स्कूल कड़ी देखरेख में कम पॉजिटिविटी रेट वाले इलाकों में फिर से खोले जाते हैं तो रिस्क कम है और फायदा ज्यादा है।डॉ. गुलेरिया ने सही कहा कि हम स्कूलों के फिर से खुलने के लिए अनंतकाल तक इंतजार नहीं कर सकते। टीनेजर्स के लिए वैक्सीन पहले ही बनाई जा रही है, और स्कूल अब सख्त कोविड उपयुक्त व्यवहार और कड़ी निगरानी का पालन करते हुए शुरू हो सकते हैं। बच्चों को उनके व्यक्तित्व विकास के लिए स्कूलों में भेजना जरूरी है, लेकिन माता-पिता को भी उन पर निगरानी बनाए रखनी चाहिए। स्कूलों में जहां बच्चों को मास्क पहनना चाहिए, भीड़-भाड़ से बचना चाहिए और बार-बार हाथ धोने चाहिए, वहीं शिक्षकों और स्कूल के कर्मचारियों को वैक्सीन लगवा लेनी चाहिए। (रजत शर्मा)देखें: ‘आज की बात, रजत शर्मा के साथ’ 01 सितंबर, 2021 का पूरा एपिसोड  /*.jw-reset-text, .jw-reset{line-height: 2em;}*/  .jw-time-tip .jw-time-chapter{display:none;}  if ('' == comscore_jw_loaded || 'undefined' == comscore_jw_loaded || undefined == comscore_jw_loaded) {var comscore_jw_loaded = 1;firstjw = document.getElementsByClassName('jwvidplayer')[0];cs_jw_script = document.createElement('script');cs_jw_script.src = 'https://sb.scorecardresearch.com/internal-c2/plugins/streamingtag_plugin_jwplayer.js';firstjw.parentNode.insertBefore(cs_jw_script, firstjw.nextSibling);  }  var jwconfig_6424868838 = {\"file\": \"https://vod-indiatv.akamaized.net/hls/2021/09/0_4pws4pgd/master.m3u8\",\"image\": \"https://resize.indiatv.in/resize/vod/1200_-/2021/09/0_4pws4pgd.jpg\",\"title\": \"आज की बात: स्कूल खुलने पर क्या बच्चे कोविड से सुरक्षित रह सकते हैं? क्यों चिंतित हैं माता-पिता?\",\"height\": \"440px\",\"width\": \"100%\",\"aspectratio\": \"16:9\",\"autostart\": false,\"controls\": true,\"mute\": false,\"volume\": 100,\"floating\": false,\"sharing\": {\"code\": \"\",\"sites\": [\"facebook\",\"twitter\",\"email\"]},\"stretching\": \"exactfit\",\"primary\": \"html5\",\"hlshtml\": true,\"duration\": 3009,\"advertising\": {\"client\": \"vast\",\"autoplayadsmuted\": true,\"skipoffset\": 5,\"cuetext\": \"\",\"skipmessage\": \"Skip ad in xx\",\"skiptext\": \"SKIP\",\"preloadAds\": true,\"schedule\": [{\"offset\": \"pre\",\"tag\": \"https://pubads.g.doubleclick.net/gampad/ads?iu=/8323530/Hindi_Video_Desktop_PreRoll&description_url=http%3A%2F%2Fwww.indiatv.in&tfcd=0&npa=0&sz=640x480&gdfp_req=1&output=vast&unviewed_position_start=1&env=vp&impl=s&correlator=\",\"type\": \"linear\"},{\"offset\": \"50%\",\"tag\": \"https://pubads.g.doubleclick.net/gampad/ads?iu=/8323530/Hindi_Video_Desktop_MidRoll&description_url=http%3A%2F%2Fwww.indiatv.in&tfcd=0&npa=0&sz=640x480&gdfp_req=1&output=vast&unviewed_position_start=1&env=vp&impl=s&correlator=\"},{\"offset\": \"post\",\"tag\": \"https://pubads.g.doubleclick.net/gampad/ads?iu=/8323530/Hindi_Video_Desktop_PostRoll&description_url=http%3A%2F%2Fwww.indiatv.in&tfcd=0&npa=0&sz=640x480&gdfp_req=1&output=vast&unviewed_position_start=1&env=vp&impl=s&correlator=\",\"type\": \"linear\"}]}};  var jwvidplayer_6424868838 = '';  jwsetup_6424868838();  function jwsetup_6424868838() {jwvidplayer_6424868838 = jwplayer(\"jwvidplayer_6424868838\").setup(jwconfig_6424868838);jwvidplayer_6424868838.on('ready', function () {  ns_.StreamingAnalytics.JWPlayer(jwvidplayer_6424868838, {publisherId: \"20465327\",labelmapping: \"c2=\\\"20465327\\\", c3=\\\"India TV Hindi\\\", c4=\\\"null\\\", c6=\\\"null\\\", ns_st_mp=\\\"jwplayer\\\", ns_st_cl=\\\"0\\\", ns_st_ci=\\\"0_4pws4pgd\\\", ns_st_pr=\\\"आज की बात: स्कूल खुलने पर क्या बच्चे कोविड से सुरक्षित रह सकते हैं? क्यों चिंतित हैं माता-पिता?\\\", ns_st_sn=\\\"0\\\", ns_st_en=\\\"0\\\", ns_st_ep=\\\"आज की बात: स्कूल खुलने पर क्या बच्चे कोविड से सुरक्षित रह सकते हैं? क्यों चिंतित हैं माता-पिता?\\\", ns_st_ct=\\\"null\\\", ns_st_ge=\\\"News\\\", ns_st_st=\\\"आज की बात: स्कूल खुलने पर क्या बच्चे कोविड से सुरक्षित रह सकते हैं? क्यों चिंतित हैं माता-पिता?\\\", ns_st_ce=\\\"0\\\", ns_st_ia=\\\"0\\\", ns_st_ddt=\\\"2021-09-01\\\", ns_st_tdt=\\\"2021-09-01\\\", ns_st_pu=\\\"India TV Hindi\\\", ns_st_cu=\\\"https://vod-indiatv.akamaized.net/hls/2021/09/0_4pws4pgd/master.m3u8\\\", ns_st_ty=\\\"video\\\"\"  });});jwvidplayer_6424868838.on('all', function (r) {  if (jwvidplayer_6424868838.getState() == 'error' || jwvidplayer_6424868838.getState() == 'setupError') {jwvidplayer_6424868838.stop();jwvidplayer_6424868838.remove();jwvidplayer_6424868838 = '';jwsetup_6424868838();return;  }});jwvidplayer_6424868838.on('error', function (t) {  jwvidplayer_6424868838.stop();  jwvidplayer_6424868838.remove();  jwvidplayer_6424868838 = '';  jwsetup_6424868838();  return;});jwvidplayer_6424868838.on('mute', function (event) {  ga('send', 'event', 'JW Player Events', 'Errors', event.message);});jwvidplayer_6424868838.on('adPlay', function (event) {  ga('send', 'event', 'JW Player Events', 'Errors', event.message);});jwvidplayer_6424868838.on('adPause', function (event) {  ga('send', 'event', 'JW Player Events', 'Errors', event.message);});jwvidplayer_6424868838.on('pause', function (event) {  ga('send', 'event', 'JW Player Events', 'Errors', event.message);});jwvidplayer_6424868838.on('error', function (event) {  ga('send', 'event', 'JW Player Events', 'Errors', event.message);});jwvidplayer_6424868838.on('adBlock', function (event) {  ga('send', 'event', 'JW Player Events', 'Errors', event.message);});jwvidplayer_6424868838.on('adSkipped', function (event) {  ga('send', 'event', 'JW Player Events', 'Errors', event.message);});  }\n",
            "Generated Summary: उत्तर प्रदेश, हरियाणा, मध्य प्रदेश, राजस्थान और तमिलनाडु के स्कूल सख्त एसओपी (standard operating protocol) दिशानिर्देशों के तहत फिर से खुल गए हैं। ज्यादातर छात्र एक बार फिर अपने स्कूल में जाकर और अपने पुराने दोस्तों से मिलकर\n",
            "Reference Summary: राज्य सरकारों ने बच्चों की जिम्मेदारी स्कूलों पर डाल दी है, और स्कूलों के मैनेजमेंट ने ये जिम्मेदारी अभिभावकों पर डाल दी है।\n",
            "Metrics: {'rouge1': 0.0, 'rouge2': 0.0, 'rougeL': 0.0, 'rougeLsum': 0.0, 'bert_score_f1': 44.5117}\n",
            "\n",
            "---\n",
            "\n"
          ]
        },
        {
          "output_type": "stream",
          "name": "stderr",
          "text": [
            "Some weights of RobertaModel were not initialized from the model checkpoint at roberta-large and are newly initialized: ['roberta.pooler.dense.bias', 'roberta.pooler.dense.weight']\n",
            "You should probably TRAIN this model on a down-stream task to be able to use it for predictions and inference.\n"
          ]
        },
        {
          "output_type": "stream",
          "name": "stdout",
          "text": [
            "Article 18435:\n",
            "Article: गुवाहाटी: प्रतिबंधित उग्रवादी संगठन यूनाइटेड लिबरेशन फ्रंट ऑफ असम उल्फा (स्वतंत्र) ने कहा है कि यदि शांति वार्ता के लिए असम के मुख्यमंत्री हिमंत बिस्व सरमा को केंद्र द्वारा मध्यस्थ नियुक्त किया जाता है तो उसे कोई आपत्ति नहीं होगी। उल्फा (आई) ने कहा कि सरमा एक योग्य व्यक्ति हैं और वह इस समस्या के ऐतिहासिक परिप्रेक्ष्य को जानते हैं। उल्फा (आई) के प्रमुख परेश बरुआ ने एक स्थानीय टेलीविजन चैनल को दिए इंटरव्यू में कहा, ‘मुख्यमंत्री पद संभालने के बाद से ही बार-बार कह रहे हैं कि वह उग्रवाद की समस्या को हल करने के लिए अपनी पूरी कोशिश करेंगे।’‘हमें सरमा को मध्यस्था बनाने पर कोई आपत्ति नहीं’बरुआ ने कहा, ‘सरमा की यह पहल राज्य की लंबे समय से चली आ रही समस्याओं को हल करने की दिशा में वास्तविक और साहसिक कदम प्रतीत होती है। अगर भारत सरकार उन्हें मध्यस्थ के रूप में नियुक्त करती है, तो हमें इस पर कोई आपत्ति नहीं है। वह एक सक्षम एवं योग्य व्यक्ति हैं जो समस्या के ऐतिहासिक परिप्रेक्ष्य को जानते हैं। हमें उम्मीद है कि वह 42 साल पुराने इस मुद्दे का कोई समाधान खोज निकालेंगे। उल्फा का यह दृढ़ विश्वास है कि चूंकि सरमा हमारे संघर्ष से पूरी तरह परिचित हैं, इसलिए वह केंद्र सरकार के सामने इस समस्या और उसकी ऐतिहासिक पृष्ठभूमि को किसी भी अन्य मध्यस्थ की तुलना में बेहतर तरीके से प्रस्तुत करने में सक्षम होंगे।’उल्फा (आई) ने किया एकतरफा सीजफायर का ऐलानबरुआ ने कहा कि उनके भूमिगत संगठन को उम्मीद है कि सरमा केंद्र को समस्या की जटिलता के बारे में समझाने में सक्षम होंगे, जिसका समाधान करने की जरूरत है। उल्फा (आई) के प्रमुख ने कहा कि सरमा जानते हैं कि यह एक राजनीतिक मुद्दा है, जिसका समाधान वह कर सकते हैं। गौरतलब है कि सरमा ने 10 मई को मुख्यमंत्री पद की शपथ लेने के बाद उल्फा (आई) को शांति वार्ता के लिए आमंत्रित किया था। इसके परिणामस्वरूप उल्फा (आई) ने 15 मई को तीन महीने के लिए एकतरफा संघर्ष विराम की घोषणा की थी और 14 अगस्त को इसे 3 महीने के लिए बढ़ा दिया था। (भाषा)  /*.jw-reset-text, .jw-reset{line-height: 2em;}*/  .jw-time-tip .jw-time-chapter{display:none;}  if ('' == comscore_jw_loaded || 'undefined' == comscore_jw_loaded || undefined == comscore_jw_loaded) {var comscore_jw_loaded = 1;firstjw = document.getElementsByClassName('jwvidplayer')[0];cs_jw_script = document.createElement('script');cs_jw_script.src = 'https://sb.scorecardresearch.com/internal-c2/plugins/streamingtag_plugin_jwplayer.js';firstjw.parentNode.insertBefore(cs_jw_script, firstjw.nextSibling);  }  var jwconfig_8094580898 = {\"file\": \"https://vod-indiatv.akamaized.net/hls/2021/09/0_myfj6xck/master.m3u8\",\"image\": \"https://resize.indiatv.in/resize/vod/1200_-/2021/09/0_myfj6xck.jpg\",\"title\": \"विशेष समाचार: फारुक अब्दुल्ला ने जताई उम्मीद, अफगानिस्तान में अच्छी हुकूमत चलाएंगे तालिबान\",\"height\": \"440px\",\"width\": \"100%\",\"aspectratio\": \"16:9\",\"autostart\": false,\"controls\": true,\"mute\": false,\"volume\": 100,\"floating\": false,\"sharing\": {\"code\": \"\",\"sites\": [\"facebook\",\"twitter\",\"email\"]},\"stretching\": \"exactfit\",\"primary\": \"html5\",\"hlshtml\": true,\"duration\": 205,\"advertising\": {\"client\": \"vast\",\"autoplayadsmuted\": true,\"skipoffset\": 5,\"cuetext\": \"\",\"skipmessage\": \"Skip ad in xx\",\"skiptext\": \"SKIP\",\"preloadAds\": true,\"schedule\": [{\"offset\": \"pre\",\"tag\": \"https://pubads.g.doubleclick.net/gampad/ads?iu=/8323530/Hindi_Video_Desktop_PreRoll&description_url=http%3A%2F%2Fwww.indiatv.in&tfcd=0&npa=0&sz=640x480&gdfp_req=1&output=vast&unviewed_position_start=1&env=vp&impl=s&correlator=\",\"type\": \"linear\"},{\"offset\": \"50%\",\"tag\": \"https://pubads.g.doubleclick.net/gampad/ads?iu=/8323530/Hindi_Video_Desktop_MidRoll&description_url=http%3A%2F%2Fwww.indiatv.in&tfcd=0&npa=0&sz=640x480&gdfp_req=1&output=vast&unviewed_position_start=1&env=vp&impl=s&correlator=\"},{\"offset\": \"post\",\"tag\": \"https://pubads.g.doubleclick.net/gampad/ads?iu=/8323530/Hindi_Video_Desktop_PostRoll&description_url=http%3A%2F%2Fwww.indiatv.in&tfcd=0&npa=0&sz=640x480&gdfp_req=1&output=vast&unviewed_position_start=1&env=vp&impl=s&correlator=\",\"type\": \"linear\"}]}};  var jwvidplayer_8094580898 = '';  jwsetup_8094580898();  function jwsetup_8094580898() {jwvidplayer_8094580898 = jwplayer(\"jwvidplayer_8094580898\").setup(jwconfig_8094580898);jwvidplayer_8094580898.on('ready', function () {  ns_.StreamingAnalytics.JWPlayer(jwvidplayer_8094580898, {publisherId: \"20465327\",labelmapping: \"c2=\\\"20465327\\\", c3=\\\"India TV Hindi\\\", c4=\\\"null\\\", c6=\\\"null\\\", ns_st_mp=\\\"jwplayer\\\", ns_st_cl=\\\"0\\\", ns_st_ci=\\\"0_myfj6xck\\\", ns_st_pr=\\\"विशेष समाचार: फारुक अब्दुल्ला ने जताई उम्मीद, अफगानिस्तान में अच्छी हुकूमत चलाएंगे तालिबान\\\", ns_st_sn=\\\"0\\\", ns_st_en=\\\"0\\\", ns_st_ep=\\\"विशेष समाचार: फारुक अब्दुल्ला ने जताई उम्मीद, अफगानिस्तान में अच्छी हुकूमत चलाएंगे तालिबान\\\", ns_st_ct=\\\"null\\\", ns_st_ge=\\\"News\\\", ns_st_st=\\\"विशेष समाचार: फारुक अब्दुल्ला ने जताई उम्मीद, अफगानिस्तान में अच्छी हुकूमत चलाएंगे तालिबान\\\", ns_st_ce=\\\"0\\\", ns_st_ia=\\\"0\\\", ns_st_ddt=\\\"2021-09-08\\\", ns_st_tdt=\\\"2021-09-08\\\", ns_st_pu=\\\"India TV Hindi\\\", ns_st_cu=\\\"https://vod-indiatv.akamaized.net/hls/2021/09/0_myfj6xck/master.m3u8\\\", ns_st_ty=\\\"video\\\"\"  });});jwvidplayer_8094580898.on('all', function (r) {  if (jwvidplayer_8094580898.getState() == 'error' || jwvidplayer_8094580898.getState() == 'setupError') {jwvidplayer_8094580898.stop();jwvidplayer_8094580898.remove();jwvidplayer_8094580898 = '';jwsetup_8094580898();return;  }});jwvidplayer_8094580898.on('error', function (t) {  jwvidplayer_8094580898.stop();  jwvidplayer_8094580898.remove();  jwvidplayer_8094580898 = '';  jwsetup_8094580898();  return;});jwvidplayer_8094580898.on('mute', function (event) {  ga('send', 'event', 'JW Player Events', 'Errors', event.message);});jwvidplayer_8094580898.on('adPlay', function (event) {  ga('send', 'event', 'JW Player Events', 'Errors', event.message);});jwvidplayer_8094580898.on('adPause', function (event) {  ga('send', 'event', 'JW Player Events', 'Errors', event.message);});jwvidplayer_8094580898.on('pause', function (event) {  ga('send', 'event', 'JW Player Events', 'Errors', event.message);});jwvidplayer_8094580898.on('error', function (event) {  ga('send', 'event', 'JW Player Events', 'Errors', event.message);});jwvidplayer_8094580898.on('adBlock', function (event) {  ga('send', 'event', 'JW Player Events', 'Errors', event.message);});jwvidplayer_8094580898.on('adSkipped', function (event) {  ga('send', 'event', 'JW Player Events', 'Errors', event.message);});  }\n",
            "Generated Summary: भारतीय उग्रवादी संगठन यूनाइटेड लिबरेशन फ्रंट ऑफ असम उल्फा (स्वतंत्र) ने कहा है कि यदि शांति वार्ता के लिए असम के मुख्यमंत्री हिमंत बिस्व सरमा को केंद्र द्वारा मध्यस्थ नियुक्त किया जाता है तो उसे कोई आपत्ति नहीं हो\n",
            "Reference Summary: बरुआ ने कहा कि सरमा की यह पहल राज्य की लंबे समय से चली आ रही समस्याओं को हल करने की दिशा में वास्तविक और साहसिक कदम प्रतीत होती है।\n",
            "Metrics: {'rouge1': 0.0, 'rouge2': 0.0, 'rougeL': 0.0, 'rougeLsum': 0.0, 'bert_score_f1': 49.09}\n",
            "\n",
            "---\n",
            "\n"
          ]
        },
        {
          "output_type": "stream",
          "name": "stderr",
          "text": [
            "Some weights of RobertaModel were not initialized from the model checkpoint at roberta-large and are newly initialized: ['roberta.pooler.dense.bias', 'roberta.pooler.dense.weight']\n",
            "You should probably TRAIN this model on a down-stream task to be able to use it for predictions and inference.\n"
          ]
        },
        {
          "output_type": "stream",
          "name": "stdout",
          "text": [
            "Article 8168:\n",
            "Article: पंजाब के मुख्यमंत्री भगवंत मान ने बुधवार को अपने 14 में से 5 मंत्रियों के विभागों में फेरबदल किया। जिन पांच मंत्रियों के विभाग बदले गए हैं, उनमें अमन अरोड़ा, गुरमीत सिंह मीत हेयर, लालजीत सिंह भुल्लर, चेतन सिंह जौड़ामाजरा और अनमोल गगन मान शामिल है। इस फेरबदल में अमन अरोड़ा का रुतबा घटाते हुए उनसे दो बड़े महकमे वापस ले लिए गए।\n",
            "अमन अरोड़ा ने कुछ दिन पहले ही गैंगस्टरों के हाथों मारे गए पंजाबी सिंगर सिद्धू मूसेवाला को लेकर बयानबाजी की थी। मुख्यमंत्री ने उनसे लोकल बॉडीज और इन्फार्मेशन एंड पब्लिक रिलेशन महकमा वापस लेकर बदले में गवर्नेंस रिफॉर्म्स विभाग दे दिया। यह महकमा अब तक मीत हेयर के पास था।\n",
            "अमन अरोड़ा के पास अब कुल चार विभागों की जिम्मेदारी रहेगी। अरोड़ा से वापस लिया गया इन्फार्मेशन एंड पब्लिक रिलेशन (PR) महकमा चेतन सिंह जौड़ामाजरा को दे दिया गया वहीं जौड़ामाजरा से फूड प्रोसेसिंग महकमा लेकर लालजीत सिंह भुल्लर को सौंप दिया गया।\n",
            "मुख्यमंत्री भगवंत मान ने होम, विजिलेंस, इंडस्ट्री, जेल और अर्बन एंड हाउसिंग समेत कुल 10 विभाग अपने पास रखे हैं। CM ने अपने 9 मंत्रियों के महकमों में कोई बदलाव नहीं किया। जिन मंत्रियों के विभागों में बदलाव नहीं किया गया उनमें हरपाल सिंह चीमा, डॉ. बलजीत कौर, हरभजन ईटीओ, लालचंद कटारुचक्क, कुलदीप सिंह धालीवाल, ब्रह्मशंकर जिंपा, हरजोत बैंस, इंदरबीर सिंह निज्जर और डॉ. बलवीर सिंह शामिल हैं।\n",
            "सवा 2 महीने में दूसरी बार फेरबदल\n",
            "पंजाब में सवा 2 महीने में दूसरी बार मंत्रियों के विभागों में फेरबदल किया गया है। इससे पहले 7 जनवरी 2023 को तत्कालीन कैबिनेट मंत्री फौजा सिंह सरारी के इस्तीफे के बाद मंत्रियों के महकमों में फेरबदल किया गया था।\n",
            "सरारी को भ्रष्टाचार के आरोप लगने के बाद मंत्री पद छोड़ना पड़ा था। सरारी के इस्तीफे के चंद घंटे बाद, 7 जनवरी को ही डॉ. बलवीर सिंह को नए कैबिनेट मंत्री के रूप में शपथ दिलाई गई थी। डॉ. बलबीर सिंह पटियाला रूरल सीट से AAP के विधायक हैं।\n",
            "डॉ. बलवीर सिंह के मंत्री बनने के बाद मुख्यमंत्री ने कई मंत्रियों के विभाग बदलते हुए जेल मंत्रालय खुद रख लिया था। उस समय डॉ. बलवीर सिंह को सेहत मंत्रालय, चेतन सिंह जोड़ामाजरा को फूड प्रोसेसिंग और बागवानी, हरजोत सिंह बैंस को एजुकेशन, मीत हेयर को माइनिंग महकमे की जिम्मेदारी सौंपी गई थी।\n",
            "\n",
            "Generated Summary: पंजाब के मुख्यमंत्री भगवंत मान ने बुधवार को अपने 14 में से 5 मंत्रियों के विभागों में फेरबदल किया। जिन पांच मंत्रियों के विभाग बदले गए हैं, उनमें अमन अरोड़ा, गुरमीत सिंह मीत हेयर, लालजीत सिंह भुल्लर, चे\n",
            "Reference Summary: पंजाब के मुख्यमंत्री भगवंत मान ने बुधवार को अपने मंत्रिमंडल में बड़ा फेरबदल किया। इस फेरबदल में अमन अरोड़ा का रुतबा कम करते हुए उन्हें दो बड़े महकमे वापस ले लिए गए।\n",
            "Metrics: {'rouge1': 0.0, 'rouge2': 0.0, 'rougeL': 0.0, 'rougeLsum': 0.0, 'bert_score_f1': 67.4603}\n",
            "\n",
            "---\n",
            "\n"
          ]
        },
        {
          "output_type": "stream",
          "name": "stderr",
          "text": [
            "Some weights of RobertaModel were not initialized from the model checkpoint at roberta-large and are newly initialized: ['roberta.pooler.dense.bias', 'roberta.pooler.dense.weight']\n",
            "You should probably TRAIN this model on a down-stream task to be able to use it for predictions and inference.\n"
          ]
        },
        {
          "output_type": "stream",
          "name": "stdout",
          "text": [
            "Article 18916:\n",
            "Article: चंडीगढ़: पंजाब के मुख्यमंत्री अमरिंदर सिंह ने राज्य में रोजाना कोविड-19 जांच की क्षमता 30,000 तक बढ़ाने के लिए दिशानिर्देश जारी किए हैं। एक बयान में बताया गया कि राज्य में कोविड-19 जांच की मौजूदा क्षमता रोजाना 20,000 है। सरकारी बयान के अनुसार मुख्यमंत्री ने शीर्ष स्वास्थ्य अधिकारियों और चिकित्सा विशेषज्ञों के साथ वीडियो कॉन्फ्रेंस के जरिए बैठक करते हुए राज्य में कोविड-19 स्थिति की समीक्षा की। उन्होंने इसी दौरान जांच क्षमता बढ़ाने का निर्देश दिया। बैठक के दौरान सिंह ने स्वास्थ्य विभाग को निर्देश दिया है कि वे चिकित्सा कॉलेजों और निजी अस्पतालों में वेंटिलेटर की मुफ्त में आपूर्ति करें।पंजाब में पिछले चौबीस घंटे में कोविड-19 से 24 मरीजों की मौत हो गई और संक्रमण के 1,693 नए मामले बुधवार को सामने आए। इसके बाद कोरोना वायरस संक्रमण के कुल मामलों की संख्या राज्य में बढ़कर 36,083 हो गई और महामारी से मरने वालों की संख्या 920 पर पहुंच गई। अधिकारियों ने बुधवार को यह जानकारी दी। चिकित्सकीय बुलेटिन में दी गई जानकारी के अनुसार, लुधियाना में आठ, पटियाला में छह, जालंधर में तीन और अमृतसर, बरनाला, फतेहगढ़ साहिब, फिरोजपुर, कपूरथला, मनसा और पठानकोट में एक-एक मरीज की मौत हो गई। बुलेटिन के अनुसार, सोमवार को कोविड-19 के 941 मरीज ठीक हो गए। अब तक राज्य में 22,703 मरीज ठीक हो चुके हैं और वर्तमान में 12,460 मरीजों का इलाज चल रहा है।\n",
            "Generated Summary: पंजाब के मुख्यमंत्री अमरिंदर सिंह ने राज्य में रोजाना कोविड-19 जांच की क्षमता 30,000 तक बढ़ाने के लिए दिशानिर्देश जारी किए हैं। एक बयान में बताया गया कि राज्य में कोविड-19 जांच की मौजूदा क्षमता रोजाना 20,000 है।\n",
            "Reference Summary: पंजाब के मुख्यमंत्री अमरिंदर सिंह ने राज्य में रोजाना कोविड-19 जांच की क्षमता 30,000 तक बढ़ाने के लिए दिशानिर्देश जारी किए हैं।\n",
            "Metrics: {'rouge1': 66.6667, 'rouge2': 57.1429, 'rougeL': 66.6667, 'rougeLsum': 66.6667, 'bert_score_f1': 81.3496}\n",
            "\n",
            "---\n",
            "\n"
          ]
        },
        {
          "output_type": "error",
          "ename": "KeyboardInterrupt",
          "evalue": "",
          "traceback": [
            "\u001b[0;31m---------------------------------------------------------------------------\u001b[0m",
            "\u001b[0;31mKeyboardInterrupt\u001b[0m                         Traceback (most recent call last)",
            "\u001b[0;32m<ipython-input-14-c5b67b326664>\u001b[0m in \u001b[0;36m<cell line: 26>\u001b[0;34m()\u001b[0m\n\u001b[1;32m     26\u001b[0m \u001b[0;32mfor\u001b[0m \u001b[0mindex\u001b[0m\u001b[0;34m,\u001b[0m \u001b[0mrow\u001b[0m \u001b[0;32min\u001b[0m \u001b[0mval\u001b[0m\u001b[0;34m.\u001b[0m\u001b[0miterrows\u001b[0m\u001b[0;34m(\u001b[0m\u001b[0;34m)\u001b[0m\u001b[0;34m:\u001b[0m\u001b[0;34m\u001b[0m\u001b[0;34m\u001b[0m\u001b[0m\n\u001b[1;32m     27\u001b[0m     \u001b[0;31m# Generate summary\u001b[0m\u001b[0;34m\u001b[0m\u001b[0;34m\u001b[0m\u001b[0m\n\u001b[0;32m---> 28\u001b[0;31m     \u001b[0mgenerated_summaries\u001b[0m \u001b[0;34m=\u001b[0m \u001b[0msummarizer\u001b[0m\u001b[0;34m(\u001b[0m\u001b[0mrow\u001b[0m\u001b[0;34m[\u001b[0m\u001b[0;34m\"Article\"\u001b[0m\u001b[0;34m]\u001b[0m\u001b[0;34m,\u001b[0m \u001b[0mmax_length\u001b[0m\u001b[0;34m=\u001b[0m\u001b[0;36m80\u001b[0m\u001b[0;34m,\u001b[0m \u001b[0mmin_length\u001b[0m\u001b[0;34m=\u001b[0m\u001b[0;36m30\u001b[0m\u001b[0;34m,\u001b[0m \u001b[0mlength_penalty\u001b[0m\u001b[0;34m=\u001b[0m\u001b[0;36m2.0\u001b[0m\u001b[0;34m,\u001b[0m \u001b[0mnum_beams\u001b[0m\u001b[0;34m=\u001b[0m\u001b[0;36m4\u001b[0m\u001b[0;34m)\u001b[0m\u001b[0;34m\u001b[0m\u001b[0;34m\u001b[0m\u001b[0m\n\u001b[0m\u001b[1;32m     29\u001b[0m     \u001b[0mgenerated_summary\u001b[0m \u001b[0;34m=\u001b[0m \u001b[0mgenerated_summaries\u001b[0m\u001b[0;34m[\u001b[0m\u001b[0;36m0\u001b[0m\u001b[0;34m]\u001b[0m\u001b[0;34m[\u001b[0m\u001b[0;34m'summary_text'\u001b[0m\u001b[0;34m]\u001b[0m\u001b[0;34m\u001b[0m\u001b[0;34m\u001b[0m\u001b[0m\n\u001b[1;32m     30\u001b[0m \u001b[0;34m\u001b[0m\u001b[0m\n",
            "\u001b[0;32m/usr/local/lib/python3.10/dist-packages/transformers/pipelines/text2text_generation.py\u001b[0m in \u001b[0;36m__call__\u001b[0;34m(self, *args, **kwargs)\u001b[0m\n\u001b[1;32m    267\u001b[0m               \u001b[0mids\u001b[0m \u001b[0mof\u001b[0m \u001b[0mthe\u001b[0m \u001b[0msummary\u001b[0m\u001b[0;34m.\u001b[0m\u001b[0;34m\u001b[0m\u001b[0;34m\u001b[0m\u001b[0m\n\u001b[1;32m    268\u001b[0m         \"\"\"\n\u001b[0;32m--> 269\u001b[0;31m         \u001b[0;32mreturn\u001b[0m \u001b[0msuper\u001b[0m\u001b[0;34m(\u001b[0m\u001b[0;34m)\u001b[0m\u001b[0;34m.\u001b[0m\u001b[0m__call__\u001b[0m\u001b[0;34m(\u001b[0m\u001b[0;34m*\u001b[0m\u001b[0margs\u001b[0m\u001b[0;34m,\u001b[0m \u001b[0;34m**\u001b[0m\u001b[0mkwargs\u001b[0m\u001b[0;34m)\u001b[0m\u001b[0;34m\u001b[0m\u001b[0;34m\u001b[0m\u001b[0m\n\u001b[0m\u001b[1;32m    270\u001b[0m \u001b[0;34m\u001b[0m\u001b[0m\n\u001b[1;32m    271\u001b[0m     \u001b[0;32mdef\u001b[0m \u001b[0mcheck_inputs\u001b[0m\u001b[0;34m(\u001b[0m\u001b[0mself\u001b[0m\u001b[0;34m,\u001b[0m \u001b[0minput_length\u001b[0m\u001b[0;34m:\u001b[0m \u001b[0mint\u001b[0m\u001b[0;34m,\u001b[0m \u001b[0mmin_length\u001b[0m\u001b[0;34m:\u001b[0m \u001b[0mint\u001b[0m\u001b[0;34m,\u001b[0m \u001b[0mmax_length\u001b[0m\u001b[0;34m:\u001b[0m \u001b[0mint\u001b[0m\u001b[0;34m)\u001b[0m \u001b[0;34m->\u001b[0m \u001b[0mbool\u001b[0m\u001b[0;34m:\u001b[0m\u001b[0;34m\u001b[0m\u001b[0;34m\u001b[0m\u001b[0m\n",
            "\u001b[0;32m/usr/local/lib/python3.10/dist-packages/transformers/pipelines/text2text_generation.py\u001b[0m in \u001b[0;36m__call__\u001b[0;34m(self, *args, **kwargs)\u001b[0m\n\u001b[1;32m    165\u001b[0m         \"\"\"\n\u001b[1;32m    166\u001b[0m \u001b[0;34m\u001b[0m\u001b[0m\n\u001b[0;32m--> 167\u001b[0;31m         \u001b[0mresult\u001b[0m \u001b[0;34m=\u001b[0m \u001b[0msuper\u001b[0m\u001b[0;34m(\u001b[0m\u001b[0;34m)\u001b[0m\u001b[0;34m.\u001b[0m\u001b[0m__call__\u001b[0m\u001b[0;34m(\u001b[0m\u001b[0;34m*\u001b[0m\u001b[0margs\u001b[0m\u001b[0;34m,\u001b[0m \u001b[0;34m**\u001b[0m\u001b[0mkwargs\u001b[0m\u001b[0;34m)\u001b[0m\u001b[0;34m\u001b[0m\u001b[0;34m\u001b[0m\u001b[0m\n\u001b[0m\u001b[1;32m    168\u001b[0m         if (\n\u001b[1;32m    169\u001b[0m             \u001b[0misinstance\u001b[0m\u001b[0;34m(\u001b[0m\u001b[0margs\u001b[0m\u001b[0;34m[\u001b[0m\u001b[0;36m0\u001b[0m\u001b[0;34m]\u001b[0m\u001b[0;34m,\u001b[0m \u001b[0mlist\u001b[0m\u001b[0;34m)\u001b[0m\u001b[0;34m\u001b[0m\u001b[0;34m\u001b[0m\u001b[0m\n",
            "\u001b[0;32m/usr/local/lib/python3.10/dist-packages/transformers/pipelines/base.py\u001b[0m in \u001b[0;36m__call__\u001b[0;34m(self, inputs, num_workers, batch_size, *args, **kwargs)\u001b[0m\n\u001b[1;32m   1240\u001b[0m             )\n\u001b[1;32m   1241\u001b[0m         \u001b[0;32melse\u001b[0m\u001b[0;34m:\u001b[0m\u001b[0;34m\u001b[0m\u001b[0;34m\u001b[0m\u001b[0m\n\u001b[0;32m-> 1242\u001b[0;31m             \u001b[0;32mreturn\u001b[0m \u001b[0mself\u001b[0m\u001b[0;34m.\u001b[0m\u001b[0mrun_single\u001b[0m\u001b[0;34m(\u001b[0m\u001b[0minputs\u001b[0m\u001b[0;34m,\u001b[0m \u001b[0mpreprocess_params\u001b[0m\u001b[0;34m,\u001b[0m \u001b[0mforward_params\u001b[0m\u001b[0;34m,\u001b[0m \u001b[0mpostprocess_params\u001b[0m\u001b[0;34m)\u001b[0m\u001b[0;34m\u001b[0m\u001b[0;34m\u001b[0m\u001b[0m\n\u001b[0m\u001b[1;32m   1243\u001b[0m \u001b[0;34m\u001b[0m\u001b[0m\n\u001b[1;32m   1244\u001b[0m     \u001b[0;32mdef\u001b[0m \u001b[0mrun_multi\u001b[0m\u001b[0;34m(\u001b[0m\u001b[0mself\u001b[0m\u001b[0;34m,\u001b[0m \u001b[0minputs\u001b[0m\u001b[0;34m,\u001b[0m \u001b[0mpreprocess_params\u001b[0m\u001b[0;34m,\u001b[0m \u001b[0mforward_params\u001b[0m\u001b[0;34m,\u001b[0m \u001b[0mpostprocess_params\u001b[0m\u001b[0;34m)\u001b[0m\u001b[0;34m:\u001b[0m\u001b[0;34m\u001b[0m\u001b[0;34m\u001b[0m\u001b[0m\n",
            "\u001b[0;32m/usr/local/lib/python3.10/dist-packages/transformers/pipelines/base.py\u001b[0m in \u001b[0;36mrun_single\u001b[0;34m(self, inputs, preprocess_params, forward_params, postprocess_params)\u001b[0m\n\u001b[1;32m   1247\u001b[0m     \u001b[0;32mdef\u001b[0m \u001b[0mrun_single\u001b[0m\u001b[0;34m(\u001b[0m\u001b[0mself\u001b[0m\u001b[0;34m,\u001b[0m \u001b[0minputs\u001b[0m\u001b[0;34m,\u001b[0m \u001b[0mpreprocess_params\u001b[0m\u001b[0;34m,\u001b[0m \u001b[0mforward_params\u001b[0m\u001b[0;34m,\u001b[0m \u001b[0mpostprocess_params\u001b[0m\u001b[0;34m)\u001b[0m\u001b[0;34m:\u001b[0m\u001b[0;34m\u001b[0m\u001b[0;34m\u001b[0m\u001b[0m\n\u001b[1;32m   1248\u001b[0m         \u001b[0mmodel_inputs\u001b[0m \u001b[0;34m=\u001b[0m \u001b[0mself\u001b[0m\u001b[0;34m.\u001b[0m\u001b[0mpreprocess\u001b[0m\u001b[0;34m(\u001b[0m\u001b[0minputs\u001b[0m\u001b[0;34m,\u001b[0m \u001b[0;34m**\u001b[0m\u001b[0mpreprocess_params\u001b[0m\u001b[0;34m)\u001b[0m\u001b[0;34m\u001b[0m\u001b[0;34m\u001b[0m\u001b[0m\n\u001b[0;32m-> 1249\u001b[0;31m         \u001b[0mmodel_outputs\u001b[0m \u001b[0;34m=\u001b[0m \u001b[0mself\u001b[0m\u001b[0;34m.\u001b[0m\u001b[0mforward\u001b[0m\u001b[0;34m(\u001b[0m\u001b[0mmodel_inputs\u001b[0m\u001b[0;34m,\u001b[0m \u001b[0;34m**\u001b[0m\u001b[0mforward_params\u001b[0m\u001b[0;34m)\u001b[0m\u001b[0;34m\u001b[0m\u001b[0;34m\u001b[0m\u001b[0m\n\u001b[0m\u001b[1;32m   1250\u001b[0m         \u001b[0moutputs\u001b[0m \u001b[0;34m=\u001b[0m \u001b[0mself\u001b[0m\u001b[0;34m.\u001b[0m\u001b[0mpostprocess\u001b[0m\u001b[0;34m(\u001b[0m\u001b[0mmodel_outputs\u001b[0m\u001b[0;34m,\u001b[0m \u001b[0;34m**\u001b[0m\u001b[0mpostprocess_params\u001b[0m\u001b[0;34m)\u001b[0m\u001b[0;34m\u001b[0m\u001b[0;34m\u001b[0m\u001b[0m\n\u001b[1;32m   1251\u001b[0m         \u001b[0;32mreturn\u001b[0m \u001b[0moutputs\u001b[0m\u001b[0;34m\u001b[0m\u001b[0;34m\u001b[0m\u001b[0m\n",
            "\u001b[0;32m/usr/local/lib/python3.10/dist-packages/transformers/pipelines/base.py\u001b[0m in \u001b[0;36mforward\u001b[0;34m(self, model_inputs, **forward_params)\u001b[0m\n\u001b[1;32m   1147\u001b[0m                 \u001b[0;32mwith\u001b[0m \u001b[0minference_context\u001b[0m\u001b[0;34m(\u001b[0m\u001b[0;34m)\u001b[0m\u001b[0;34m:\u001b[0m\u001b[0;34m\u001b[0m\u001b[0;34m\u001b[0m\u001b[0m\n\u001b[1;32m   1148\u001b[0m                     \u001b[0mmodel_inputs\u001b[0m \u001b[0;34m=\u001b[0m \u001b[0mself\u001b[0m\u001b[0;34m.\u001b[0m\u001b[0m_ensure_tensor_on_device\u001b[0m\u001b[0;34m(\u001b[0m\u001b[0mmodel_inputs\u001b[0m\u001b[0;34m,\u001b[0m \u001b[0mdevice\u001b[0m\u001b[0;34m=\u001b[0m\u001b[0mself\u001b[0m\u001b[0;34m.\u001b[0m\u001b[0mdevice\u001b[0m\u001b[0;34m)\u001b[0m\u001b[0;34m\u001b[0m\u001b[0;34m\u001b[0m\u001b[0m\n\u001b[0;32m-> 1149\u001b[0;31m                     \u001b[0mmodel_outputs\u001b[0m \u001b[0;34m=\u001b[0m \u001b[0mself\u001b[0m\u001b[0;34m.\u001b[0m\u001b[0m_forward\u001b[0m\u001b[0;34m(\u001b[0m\u001b[0mmodel_inputs\u001b[0m\u001b[0;34m,\u001b[0m \u001b[0;34m**\u001b[0m\u001b[0mforward_params\u001b[0m\u001b[0;34m)\u001b[0m\u001b[0;34m\u001b[0m\u001b[0;34m\u001b[0m\u001b[0m\n\u001b[0m\u001b[1;32m   1150\u001b[0m                     \u001b[0mmodel_outputs\u001b[0m \u001b[0;34m=\u001b[0m \u001b[0mself\u001b[0m\u001b[0;34m.\u001b[0m\u001b[0m_ensure_tensor_on_device\u001b[0m\u001b[0;34m(\u001b[0m\u001b[0mmodel_outputs\u001b[0m\u001b[0;34m,\u001b[0m \u001b[0mdevice\u001b[0m\u001b[0;34m=\u001b[0m\u001b[0mtorch\u001b[0m\u001b[0;34m.\u001b[0m\u001b[0mdevice\u001b[0m\u001b[0;34m(\u001b[0m\u001b[0;34m\"cpu\"\u001b[0m\u001b[0;34m)\u001b[0m\u001b[0;34m)\u001b[0m\u001b[0;34m\u001b[0m\u001b[0;34m\u001b[0m\u001b[0m\n\u001b[1;32m   1151\u001b[0m             \u001b[0;32melse\u001b[0m\u001b[0;34m:\u001b[0m\u001b[0;34m\u001b[0m\u001b[0;34m\u001b[0m\u001b[0m\n",
            "\u001b[0;32m/usr/local/lib/python3.10/dist-packages/transformers/pipelines/text2text_generation.py\u001b[0m in \u001b[0;36m_forward\u001b[0;34m(self, model_inputs, **generate_kwargs)\u001b[0m\n\u001b[1;32m    189\u001b[0m             \u001b[0mgenerate_kwargs\u001b[0m\u001b[0;34m.\u001b[0m\u001b[0mget\u001b[0m\u001b[0;34m(\u001b[0m\u001b[0;34m\"max_length\"\u001b[0m\u001b[0;34m,\u001b[0m \u001b[0mself\u001b[0m\u001b[0;34m.\u001b[0m\u001b[0mmodel\u001b[0m\u001b[0;34m.\u001b[0m\u001b[0mconfig\u001b[0m\u001b[0;34m.\u001b[0m\u001b[0mmax_length\u001b[0m\u001b[0;34m)\u001b[0m\u001b[0;34m,\u001b[0m\u001b[0;34m\u001b[0m\u001b[0;34m\u001b[0m\u001b[0m\n\u001b[1;32m    190\u001b[0m         )\n\u001b[0;32m--> 191\u001b[0;31m         \u001b[0moutput_ids\u001b[0m \u001b[0;34m=\u001b[0m \u001b[0mself\u001b[0m\u001b[0;34m.\u001b[0m\u001b[0mmodel\u001b[0m\u001b[0;34m.\u001b[0m\u001b[0mgenerate\u001b[0m\u001b[0;34m(\u001b[0m\u001b[0;34m**\u001b[0m\u001b[0mmodel_inputs\u001b[0m\u001b[0;34m,\u001b[0m \u001b[0;34m**\u001b[0m\u001b[0mgenerate_kwargs\u001b[0m\u001b[0;34m)\u001b[0m\u001b[0;34m\u001b[0m\u001b[0;34m\u001b[0m\u001b[0m\n\u001b[0m\u001b[1;32m    192\u001b[0m         \u001b[0mout_b\u001b[0m \u001b[0;34m=\u001b[0m \u001b[0moutput_ids\u001b[0m\u001b[0;34m.\u001b[0m\u001b[0mshape\u001b[0m\u001b[0;34m[\u001b[0m\u001b[0;36m0\u001b[0m\u001b[0;34m]\u001b[0m\u001b[0;34m\u001b[0m\u001b[0;34m\u001b[0m\u001b[0m\n\u001b[1;32m    193\u001b[0m         \u001b[0;32mif\u001b[0m \u001b[0mself\u001b[0m\u001b[0;34m.\u001b[0m\u001b[0mframework\u001b[0m \u001b[0;34m==\u001b[0m \u001b[0;34m\"pt\"\u001b[0m\u001b[0;34m:\u001b[0m\u001b[0;34m\u001b[0m\u001b[0;34m\u001b[0m\u001b[0m\n",
            "\u001b[0;32m/usr/local/lib/python3.10/dist-packages/torch/utils/_contextlib.py\u001b[0m in \u001b[0;36mdecorate_context\u001b[0;34m(*args, **kwargs)\u001b[0m\n\u001b[1;32m    113\u001b[0m     \u001b[0;32mdef\u001b[0m \u001b[0mdecorate_context\u001b[0m\u001b[0;34m(\u001b[0m\u001b[0;34m*\u001b[0m\u001b[0margs\u001b[0m\u001b[0;34m,\u001b[0m \u001b[0;34m**\u001b[0m\u001b[0mkwargs\u001b[0m\u001b[0;34m)\u001b[0m\u001b[0;34m:\u001b[0m\u001b[0;34m\u001b[0m\u001b[0;34m\u001b[0m\u001b[0m\n\u001b[1;32m    114\u001b[0m         \u001b[0;32mwith\u001b[0m \u001b[0mctx_factory\u001b[0m\u001b[0;34m(\u001b[0m\u001b[0;34m)\u001b[0m\u001b[0;34m:\u001b[0m\u001b[0;34m\u001b[0m\u001b[0;34m\u001b[0m\u001b[0m\n\u001b[0;32m--> 115\u001b[0;31m             \u001b[0;32mreturn\u001b[0m \u001b[0mfunc\u001b[0m\u001b[0;34m(\u001b[0m\u001b[0;34m*\u001b[0m\u001b[0margs\u001b[0m\u001b[0;34m,\u001b[0m \u001b[0;34m**\u001b[0m\u001b[0mkwargs\u001b[0m\u001b[0;34m)\u001b[0m\u001b[0;34m\u001b[0m\u001b[0;34m\u001b[0m\u001b[0m\n\u001b[0m\u001b[1;32m    116\u001b[0m \u001b[0;34m\u001b[0m\u001b[0m\n\u001b[1;32m    117\u001b[0m     \u001b[0;32mreturn\u001b[0m \u001b[0mdecorate_context\u001b[0m\u001b[0;34m\u001b[0m\u001b[0;34m\u001b[0m\u001b[0m\n",
            "\u001b[0;32m/usr/local/lib/python3.10/dist-packages/transformers/generation/utils.py\u001b[0m in \u001b[0;36mgenerate\u001b[0;34m(self, inputs, generation_config, logits_processor, stopping_criteria, prefix_allowed_tokens_fn, synced_gpus, assistant_model, streamer, negative_prompt_ids, negative_prompt_attention_mask, **kwargs)\u001b[0m\n\u001b[1;32m   1653\u001b[0m             )\n\u001b[1;32m   1654\u001b[0m             \u001b[0;31m# 13. run beam search\u001b[0m\u001b[0;34m\u001b[0m\u001b[0;34m\u001b[0m\u001b[0m\n\u001b[0;32m-> 1655\u001b[0;31m             result = self._beam_search(\n\u001b[0m\u001b[1;32m   1656\u001b[0m                 \u001b[0minput_ids\u001b[0m\u001b[0;34m,\u001b[0m\u001b[0;34m\u001b[0m\u001b[0;34m\u001b[0m\u001b[0m\n\u001b[1;32m   1657\u001b[0m                 \u001b[0mbeam_scorer\u001b[0m\u001b[0;34m,\u001b[0m\u001b[0;34m\u001b[0m\u001b[0;34m\u001b[0m\u001b[0m\n",
            "\u001b[0;32m/usr/local/lib/python3.10/dist-packages/transformers/generation/utils.py\u001b[0m in \u001b[0;36m_beam_search\u001b[0;34m(self, input_ids, beam_scorer, logits_processor, stopping_criteria, max_length, pad_token_id, eos_token_id, output_attentions, output_hidden_states, output_scores, output_logits, return_dict_in_generate, synced_gpus, sequential, **model_kwargs)\u001b[0m\n\u001b[1;32m   3246\u001b[0m             )\n\u001b[1;32m   3247\u001b[0m             \u001b[0;32mif\u001b[0m \u001b[0mmodel_kwargs\u001b[0m\u001b[0;34m.\u001b[0m\u001b[0mget\u001b[0m\u001b[0;34m(\u001b[0m\u001b[0;34m\"past_key_values\"\u001b[0m\u001b[0;34m,\u001b[0m \u001b[0;32mNone\u001b[0m\u001b[0;34m)\u001b[0m \u001b[0;32mis\u001b[0m \u001b[0;32mnot\u001b[0m \u001b[0;32mNone\u001b[0m\u001b[0;34m:\u001b[0m\u001b[0;34m\u001b[0m\u001b[0;34m\u001b[0m\u001b[0m\n\u001b[0;32m-> 3248\u001b[0;31m                 model_kwargs[\"past_key_values\"] = self._temporary_reorder_cache(\n\u001b[0m\u001b[1;32m   3249\u001b[0m                     \u001b[0mmodel_kwargs\u001b[0m\u001b[0;34m[\u001b[0m\u001b[0;34m\"past_key_values\"\u001b[0m\u001b[0;34m]\u001b[0m\u001b[0;34m,\u001b[0m \u001b[0mbeam_idx\u001b[0m\u001b[0;34m\u001b[0m\u001b[0;34m\u001b[0m\u001b[0m\n\u001b[1;32m   3250\u001b[0m                 )\n",
            "\u001b[0;32m/usr/local/lib/python3.10/dist-packages/transformers/generation/utils.py\u001b[0m in \u001b[0;36m_temporary_reorder_cache\u001b[0;34m(self, past_key_values, beam_idx)\u001b[0m\n\u001b[1;32m   2886\u001b[0m         \u001b[0;31m# Exception 1: code path for models using the legacy cache format\u001b[0m\u001b[0;34m\u001b[0m\u001b[0;34m\u001b[0m\u001b[0m\n\u001b[1;32m   2887\u001b[0m         \u001b[0;32mif\u001b[0m \u001b[0misinstance\u001b[0m\u001b[0;34m(\u001b[0m\u001b[0mpast_key_values\u001b[0m\u001b[0;34m,\u001b[0m \u001b[0;34m(\u001b[0m\u001b[0mtuple\u001b[0m\u001b[0;34m,\u001b[0m \u001b[0mlist\u001b[0m\u001b[0;34m)\u001b[0m\u001b[0;34m)\u001b[0m\u001b[0;34m:\u001b[0m\u001b[0;34m\u001b[0m\u001b[0;34m\u001b[0m\u001b[0m\n\u001b[0;32m-> 2888\u001b[0;31m             \u001b[0mpast_key_values\u001b[0m \u001b[0;34m=\u001b[0m \u001b[0mself\u001b[0m\u001b[0;34m.\u001b[0m\u001b[0m_reorder_cache\u001b[0m\u001b[0;34m(\u001b[0m\u001b[0mpast_key_values\u001b[0m\u001b[0;34m,\u001b[0m \u001b[0mbeam_idx\u001b[0m\u001b[0;34m)\u001b[0m\u001b[0;34m\u001b[0m\u001b[0;34m\u001b[0m\u001b[0m\n\u001b[0m\u001b[1;32m   2889\u001b[0m         \u001b[0;31m# Exception 2: models with different cache formats. These are limited to `DynamicCache` until their\u001b[0m\u001b[0;34m\u001b[0m\u001b[0;34m\u001b[0m\u001b[0m\n\u001b[1;32m   2890\u001b[0m         \u001b[0;31m# cache format is standardized, to avoid adding complexity to the codebase.\u001b[0m\u001b[0;34m\u001b[0m\u001b[0;34m\u001b[0m\u001b[0m\n",
            "\u001b[0;32m/usr/local/lib/python3.10/dist-packages/transformers/models/mt5/modeling_mt5.py\u001b[0m in \u001b[0;36m_reorder_cache\u001b[0;34m(self, past_key_values, beam_idx)\u001b[0m\n\u001b[1;32m   1879\u001b[0m                 \u001b[0;31m# need to set correct `past` for each of the four key / value states\u001b[0m\u001b[0;34m\u001b[0m\u001b[0;34m\u001b[0m\u001b[0m\n\u001b[1;32m   1880\u001b[0m                 reordered_layer_past_states = reordered_layer_past_states + (\n\u001b[0;32m-> 1881\u001b[0;31m                     \u001b[0mlayer_past_state\u001b[0m\u001b[0;34m.\u001b[0m\u001b[0mindex_select\u001b[0m\u001b[0;34m(\u001b[0m\u001b[0;36m0\u001b[0m\u001b[0;34m,\u001b[0m \u001b[0mbeam_idx\u001b[0m\u001b[0;34m.\u001b[0m\u001b[0mto\u001b[0m\u001b[0;34m(\u001b[0m\u001b[0mlayer_past_state\u001b[0m\u001b[0;34m.\u001b[0m\u001b[0mdevice\u001b[0m\u001b[0;34m)\u001b[0m\u001b[0;34m)\u001b[0m\u001b[0;34m,\u001b[0m\u001b[0;34m\u001b[0m\u001b[0;34m\u001b[0m\u001b[0m\n\u001b[0m\u001b[1;32m   1882\u001b[0m                 )\n\u001b[1;32m   1883\u001b[0m \u001b[0;34m\u001b[0m\u001b[0m\n",
            "\u001b[0;31mKeyboardInterrupt\u001b[0m: "
          ]
        }
      ]
    },
    {
      "cell_type": "code",
      "source": [
        "val.shape"
      ],
      "metadata": {
        "colab": {
          "base_uri": "https://localhost:8080/"
        },
        "id": "9DOAaZHLoYfc",
        "outputId": "c3bc6b2d-ced5-4f8e-c285-db873ee9bb15"
      },
      "execution_count": null,
      "outputs": [
        {
          "output_type": "execute_result",
          "data": {
            "text/plain": [
              "(4245, 3)"
            ]
          },
          "metadata": {},
          "execution_count": 14
        }
      ]
    },
    {
      "cell_type": "code",
      "source": [
        "import numpy as np\n",
        "\n",
        "rouge1_scores = []\n",
        "rouge2_scores = []\n",
        "rougeL_scores = []\n",
        "bert_scores = []\n",
        "cosine_similarities = []\n",
        "\n",
        "test = val[:100]\n",
        "\n",
        "for index, row in test.iterrows():\n",
        "    generated_summaries = summarizer(row[\"Article\"], max_length=80, min_length=30, length_penalty=2.0, num_beams=4)\n",
        "    generated_summary = generated_summaries[0]['summary_text']\n",
        "\n",
        "    metrics = compute_metrics(generated_summary, row[\"Summary\"])\n",
        "\n",
        "    rouge1_scores.append(metrics['rouge1'])\n",
        "    rouge2_scores.append(metrics['rouge2'])\n",
        "    rougeL_scores.append(metrics['rougeL'])\n",
        "    bert_scores.append(metrics['bert_score_f1'])\n",
        "    cosine_similarities.append(metrics['cosine_similarity'])\n",
        "\n",
        "\n",
        "average_rouge1 = np.mean([score for score in rouge1_scores if score > 0])\n",
        "average_rouge2 = np.mean([score for score in rouge2_scores if score > 0])\n",
        "average_rougeL = np.mean([score for score in rougeL_scores if score > 0])\n",
        "average_bert = np.mean([score for score in bert_scores if score > 0])\n",
        "average_cosine_similarity = np.mean([score for score in cosine_similarities if score > 0])\n",
        "\n",
        "print(f\"Average ROUGE-1: {average_rouge1:.2f}\")\n",
        "print(f\"Average ROUGE-2: {average_rouge2:.2f}\")\n",
        "print(f\"Average ROUGE-L: {average_rougeL:.2f}\")\n",
        "print(f\"Average BERT: {average_bert:.2f}\")\n",
        "print(f\"Average Cosine Similarity: {average_cosine_similarity:.2f}\")"
      ],
      "metadata": {
        "colab": {
          "base_uri": "https://localhost:8080/"
        },
        "id": "B6jtIwdnUdPw",
        "outputId": "c87925f2-7f12-4387-835a-22a3335aa011"
      },
      "execution_count": null,
      "outputs": [
        {
          "output_type": "stream",
          "name": "stdout",
          "text": [
            "Average ROUGE-1: 58.88\n",
            "Average ROUGE-2: 56.95\n",
            "Average ROUGE-L: 57.36\n",
            "Average BERT: 78.95\n",
            "Average Cosine Similarity: 43.10\n"
          ]
        }
      ]
    }
  ],
  "metadata": {
    "interpreter": {
      "hash": "4576502f05eb02d3b6de5ab255787e50d09edc468e4e3e2eb125a21834dc8344"
    },
    "kernelspec": {
      "display_name": "Python 3",
      "name": "python3"
    },
    "language_info": {
      "codemirror_mode": {
        "name": "ipython",
        "version": 3
      },
      "file_extension": ".py",
      "mimetype": "text/x-python",
      "name": "python",
      "nbconvert_exporter": "python",
      "pygments_lexer": "ipython3",
      "version": "3.11.4"
    },
    "orig_nbformat": 4,
    "colab": {
      "provenance": [],
      "gpuType": "L4",
      "machine_shape": "hm"
    },
    "accelerator": "GPU",
    "widgets": {
      "application/vnd.jupyter.widget-state+json": {
        "4dc7f0b0c82542e0acb5a5e8b20bc7b1": {
          "model_module": "@jupyter-widgets/controls",
          "model_name": "HBoxModel",
          "model_module_version": "1.5.0",
          "state": {
            "_dom_classes": [],
            "_model_module": "@jupyter-widgets/controls",
            "_model_module_version": "1.5.0",
            "_model_name": "HBoxModel",
            "_view_count": null,
            "_view_module": "@jupyter-widgets/controls",
            "_view_module_version": "1.5.0",
            "_view_name": "HBoxView",
            "box_style": "",
            "children": [
              "IPY_MODEL_18d380cc4e87418ba56a6fda7ac5ebc1",
              "IPY_MODEL_e28c7dbcfb7a47258c41743b91da4d34",
              "IPY_MODEL_c11f01ebd19b400f9d812440ad6a0998"
            ],
            "layout": "IPY_MODEL_a880ce23a2eb4453ba0bef1a0787f8dd"
          }
        },
        "18d380cc4e87418ba56a6fda7ac5ebc1": {
          "model_module": "@jupyter-widgets/controls",
          "model_name": "HTMLModel",
          "model_module_version": "1.5.0",
          "state": {
            "_dom_classes": [],
            "_model_module": "@jupyter-widgets/controls",
            "_model_module_version": "1.5.0",
            "_model_name": "HTMLModel",
            "_view_count": null,
            "_view_module": "@jupyter-widgets/controls",
            "_view_module_version": "1.5.0",
            "_view_name": "HTMLView",
            "description": "",
            "description_tooltip": null,
            "layout": "IPY_MODEL_c586a8c2e819441499545fc6efef8805",
            "placeholder": "​",
            "style": "IPY_MODEL_a933df02c82d40b08992c81e8b4956a1",
            "value": "tokenizer_config.json: 100%"
          }
        },
        "e28c7dbcfb7a47258c41743b91da4d34": {
          "model_module": "@jupyter-widgets/controls",
          "model_name": "FloatProgressModel",
          "model_module_version": "1.5.0",
          "state": {
            "_dom_classes": [],
            "_model_module": "@jupyter-widgets/controls",
            "_model_module_version": "1.5.0",
            "_model_name": "FloatProgressModel",
            "_view_count": null,
            "_view_module": "@jupyter-widgets/controls",
            "_view_module_version": "1.5.0",
            "_view_name": "ProgressView",
            "bar_style": "success",
            "description": "",
            "description_tooltip": null,
            "layout": "IPY_MODEL_fed172d2371042288b10da4a3ba36357",
            "max": 376,
            "min": 0,
            "orientation": "horizontal",
            "style": "IPY_MODEL_aafbf1f0a14c43abb8fd39bff039e82e",
            "value": 376
          }
        },
        "c11f01ebd19b400f9d812440ad6a0998": {
          "model_module": "@jupyter-widgets/controls",
          "model_name": "HTMLModel",
          "model_module_version": "1.5.0",
          "state": {
            "_dom_classes": [],
            "_model_module": "@jupyter-widgets/controls",
            "_model_module_version": "1.5.0",
            "_model_name": "HTMLModel",
            "_view_count": null,
            "_view_module": "@jupyter-widgets/controls",
            "_view_module_version": "1.5.0",
            "_view_name": "HTMLView",
            "description": "",
            "description_tooltip": null,
            "layout": "IPY_MODEL_3e32e2b9908a48efa5cef3faf5595508",
            "placeholder": "​",
            "style": "IPY_MODEL_832c47ed22954190bfead190e83a7965",
            "value": " 376/376 [00:00&lt;00:00, 34.2kB/s]"
          }
        },
        "a880ce23a2eb4453ba0bef1a0787f8dd": {
          "model_module": "@jupyter-widgets/base",
          "model_name": "LayoutModel",
          "model_module_version": "1.2.0",
          "state": {
            "_model_module": "@jupyter-widgets/base",
            "_model_module_version": "1.2.0",
            "_model_name": "LayoutModel",
            "_view_count": null,
            "_view_module": "@jupyter-widgets/base",
            "_view_module_version": "1.2.0",
            "_view_name": "LayoutView",
            "align_content": null,
            "align_items": null,
            "align_self": null,
            "border": null,
            "bottom": null,
            "display": null,
            "flex": null,
            "flex_flow": null,
            "grid_area": null,
            "grid_auto_columns": null,
            "grid_auto_flow": null,
            "grid_auto_rows": null,
            "grid_column": null,
            "grid_gap": null,
            "grid_row": null,
            "grid_template_areas": null,
            "grid_template_columns": null,
            "grid_template_rows": null,
            "height": null,
            "justify_content": null,
            "justify_items": null,
            "left": null,
            "margin": null,
            "max_height": null,
            "max_width": null,
            "min_height": null,
            "min_width": null,
            "object_fit": null,
            "object_position": null,
            "order": null,
            "overflow": null,
            "overflow_x": null,
            "overflow_y": null,
            "padding": null,
            "right": null,
            "top": null,
            "visibility": null,
            "width": null
          }
        },
        "c586a8c2e819441499545fc6efef8805": {
          "model_module": "@jupyter-widgets/base",
          "model_name": "LayoutModel",
          "model_module_version": "1.2.0",
          "state": {
            "_model_module": "@jupyter-widgets/base",
            "_model_module_version": "1.2.0",
            "_model_name": "LayoutModel",
            "_view_count": null,
            "_view_module": "@jupyter-widgets/base",
            "_view_module_version": "1.2.0",
            "_view_name": "LayoutView",
            "align_content": null,
            "align_items": null,
            "align_self": null,
            "border": null,
            "bottom": null,
            "display": null,
            "flex": null,
            "flex_flow": null,
            "grid_area": null,
            "grid_auto_columns": null,
            "grid_auto_flow": null,
            "grid_auto_rows": null,
            "grid_column": null,
            "grid_gap": null,
            "grid_row": null,
            "grid_template_areas": null,
            "grid_template_columns": null,
            "grid_template_rows": null,
            "height": null,
            "justify_content": null,
            "justify_items": null,
            "left": null,
            "margin": null,
            "max_height": null,
            "max_width": null,
            "min_height": null,
            "min_width": null,
            "object_fit": null,
            "object_position": null,
            "order": null,
            "overflow": null,
            "overflow_x": null,
            "overflow_y": null,
            "padding": null,
            "right": null,
            "top": null,
            "visibility": null,
            "width": null
          }
        },
        "a933df02c82d40b08992c81e8b4956a1": {
          "model_module": "@jupyter-widgets/controls",
          "model_name": "DescriptionStyleModel",
          "model_module_version": "1.5.0",
          "state": {
            "_model_module": "@jupyter-widgets/controls",
            "_model_module_version": "1.5.0",
            "_model_name": "DescriptionStyleModel",
            "_view_count": null,
            "_view_module": "@jupyter-widgets/base",
            "_view_module_version": "1.2.0",
            "_view_name": "StyleView",
            "description_width": ""
          }
        },
        "fed172d2371042288b10da4a3ba36357": {
          "model_module": "@jupyter-widgets/base",
          "model_name": "LayoutModel",
          "model_module_version": "1.2.0",
          "state": {
            "_model_module": "@jupyter-widgets/base",
            "_model_module_version": "1.2.0",
            "_model_name": "LayoutModel",
            "_view_count": null,
            "_view_module": "@jupyter-widgets/base",
            "_view_module_version": "1.2.0",
            "_view_name": "LayoutView",
            "align_content": null,
            "align_items": null,
            "align_self": null,
            "border": null,
            "bottom": null,
            "display": null,
            "flex": null,
            "flex_flow": null,
            "grid_area": null,
            "grid_auto_columns": null,
            "grid_auto_flow": null,
            "grid_auto_rows": null,
            "grid_column": null,
            "grid_gap": null,
            "grid_row": null,
            "grid_template_areas": null,
            "grid_template_columns": null,
            "grid_template_rows": null,
            "height": null,
            "justify_content": null,
            "justify_items": null,
            "left": null,
            "margin": null,
            "max_height": null,
            "max_width": null,
            "min_height": null,
            "min_width": null,
            "object_fit": null,
            "object_position": null,
            "order": null,
            "overflow": null,
            "overflow_x": null,
            "overflow_y": null,
            "padding": null,
            "right": null,
            "top": null,
            "visibility": null,
            "width": null
          }
        },
        "aafbf1f0a14c43abb8fd39bff039e82e": {
          "model_module": "@jupyter-widgets/controls",
          "model_name": "ProgressStyleModel",
          "model_module_version": "1.5.0",
          "state": {
            "_model_module": "@jupyter-widgets/controls",
            "_model_module_version": "1.5.0",
            "_model_name": "ProgressStyleModel",
            "_view_count": null,
            "_view_module": "@jupyter-widgets/base",
            "_view_module_version": "1.2.0",
            "_view_name": "StyleView",
            "bar_color": null,
            "description_width": ""
          }
        },
        "3e32e2b9908a48efa5cef3faf5595508": {
          "model_module": "@jupyter-widgets/base",
          "model_name": "LayoutModel",
          "model_module_version": "1.2.0",
          "state": {
            "_model_module": "@jupyter-widgets/base",
            "_model_module_version": "1.2.0",
            "_model_name": "LayoutModel",
            "_view_count": null,
            "_view_module": "@jupyter-widgets/base",
            "_view_module_version": "1.2.0",
            "_view_name": "LayoutView",
            "align_content": null,
            "align_items": null,
            "align_self": null,
            "border": null,
            "bottom": null,
            "display": null,
            "flex": null,
            "flex_flow": null,
            "grid_area": null,
            "grid_auto_columns": null,
            "grid_auto_flow": null,
            "grid_auto_rows": null,
            "grid_column": null,
            "grid_gap": null,
            "grid_row": null,
            "grid_template_areas": null,
            "grid_template_columns": null,
            "grid_template_rows": null,
            "height": null,
            "justify_content": null,
            "justify_items": null,
            "left": null,
            "margin": null,
            "max_height": null,
            "max_width": null,
            "min_height": null,
            "min_width": null,
            "object_fit": null,
            "object_position": null,
            "order": null,
            "overflow": null,
            "overflow_x": null,
            "overflow_y": null,
            "padding": null,
            "right": null,
            "top": null,
            "visibility": null,
            "width": null
          }
        },
        "832c47ed22954190bfead190e83a7965": {
          "model_module": "@jupyter-widgets/controls",
          "model_name": "DescriptionStyleModel",
          "model_module_version": "1.5.0",
          "state": {
            "_model_module": "@jupyter-widgets/controls",
            "_model_module_version": "1.5.0",
            "_model_name": "DescriptionStyleModel",
            "_view_count": null,
            "_view_module": "@jupyter-widgets/base",
            "_view_module_version": "1.2.0",
            "_view_name": "StyleView",
            "description_width": ""
          }
        },
        "801afe4731954be8b5f790cf9ae8f3b1": {
          "model_module": "@jupyter-widgets/controls",
          "model_name": "HBoxModel",
          "model_module_version": "1.5.0",
          "state": {
            "_dom_classes": [],
            "_model_module": "@jupyter-widgets/controls",
            "_model_module_version": "1.5.0",
            "_model_name": "HBoxModel",
            "_view_count": null,
            "_view_module": "@jupyter-widgets/controls",
            "_view_module_version": "1.5.0",
            "_view_name": "HBoxView",
            "box_style": "",
            "children": [
              "IPY_MODEL_07fd95b06ed344c0be95aa43a5cc76e2",
              "IPY_MODEL_6d621802a7d442d2874ae1933dd3dc1b",
              "IPY_MODEL_32c441575e234858a882dc56b65767bc"
            ],
            "layout": "IPY_MODEL_6d681639515d47a6ad7f436d7c8ed8b5"
          }
        },
        "07fd95b06ed344c0be95aa43a5cc76e2": {
          "model_module": "@jupyter-widgets/controls",
          "model_name": "HTMLModel",
          "model_module_version": "1.5.0",
          "state": {
            "_dom_classes": [],
            "_model_module": "@jupyter-widgets/controls",
            "_model_module_version": "1.5.0",
            "_model_name": "HTMLModel",
            "_view_count": null,
            "_view_module": "@jupyter-widgets/controls",
            "_view_module_version": "1.5.0",
            "_view_name": "HTMLView",
            "description": "",
            "description_tooltip": null,
            "layout": "IPY_MODEL_d9f5d04318a1431da45b7f7603a83039",
            "placeholder": "​",
            "style": "IPY_MODEL_a139b118be844289a4f6d2f2bee2e6c0",
            "value": "config.json: 100%"
          }
        },
        "6d621802a7d442d2874ae1933dd3dc1b": {
          "model_module": "@jupyter-widgets/controls",
          "model_name": "FloatProgressModel",
          "model_module_version": "1.5.0",
          "state": {
            "_dom_classes": [],
            "_model_module": "@jupyter-widgets/controls",
            "_model_module_version": "1.5.0",
            "_model_name": "FloatProgressModel",
            "_view_count": null,
            "_view_module": "@jupyter-widgets/controls",
            "_view_module_version": "1.5.0",
            "_view_name": "ProgressView",
            "bar_style": "success",
            "description": "",
            "description_tooltip": null,
            "layout": "IPY_MODEL_2f88850e481d4b969c30fc086534ad7a",
            "max": 702,
            "min": 0,
            "orientation": "horizontal",
            "style": "IPY_MODEL_73b7266bbda44b05988643c05b80d4e1",
            "value": 702
          }
        },
        "32c441575e234858a882dc56b65767bc": {
          "model_module": "@jupyter-widgets/controls",
          "model_name": "HTMLModel",
          "model_module_version": "1.5.0",
          "state": {
            "_dom_classes": [],
            "_model_module": "@jupyter-widgets/controls",
            "_model_module_version": "1.5.0",
            "_model_name": "HTMLModel",
            "_view_count": null,
            "_view_module": "@jupyter-widgets/controls",
            "_view_module_version": "1.5.0",
            "_view_name": "HTMLView",
            "description": "",
            "description_tooltip": null,
            "layout": "IPY_MODEL_b5b3b374856e4bceac0f8a1e6782927f",
            "placeholder": "​",
            "style": "IPY_MODEL_c7a5b1bee1374d0ab6b0dbcb2513a508",
            "value": " 702/702 [00:00&lt;00:00, 69.5kB/s]"
          }
        },
        "6d681639515d47a6ad7f436d7c8ed8b5": {
          "model_module": "@jupyter-widgets/base",
          "model_name": "LayoutModel",
          "model_module_version": "1.2.0",
          "state": {
            "_model_module": "@jupyter-widgets/base",
            "_model_module_version": "1.2.0",
            "_model_name": "LayoutModel",
            "_view_count": null,
            "_view_module": "@jupyter-widgets/base",
            "_view_module_version": "1.2.0",
            "_view_name": "LayoutView",
            "align_content": null,
            "align_items": null,
            "align_self": null,
            "border": null,
            "bottom": null,
            "display": null,
            "flex": null,
            "flex_flow": null,
            "grid_area": null,
            "grid_auto_columns": null,
            "grid_auto_flow": null,
            "grid_auto_rows": null,
            "grid_column": null,
            "grid_gap": null,
            "grid_row": null,
            "grid_template_areas": null,
            "grid_template_columns": null,
            "grid_template_rows": null,
            "height": null,
            "justify_content": null,
            "justify_items": null,
            "left": null,
            "margin": null,
            "max_height": null,
            "max_width": null,
            "min_height": null,
            "min_width": null,
            "object_fit": null,
            "object_position": null,
            "order": null,
            "overflow": null,
            "overflow_x": null,
            "overflow_y": null,
            "padding": null,
            "right": null,
            "top": null,
            "visibility": null,
            "width": null
          }
        },
        "d9f5d04318a1431da45b7f7603a83039": {
          "model_module": "@jupyter-widgets/base",
          "model_name": "LayoutModel",
          "model_module_version": "1.2.0",
          "state": {
            "_model_module": "@jupyter-widgets/base",
            "_model_module_version": "1.2.0",
            "_model_name": "LayoutModel",
            "_view_count": null,
            "_view_module": "@jupyter-widgets/base",
            "_view_module_version": "1.2.0",
            "_view_name": "LayoutView",
            "align_content": null,
            "align_items": null,
            "align_self": null,
            "border": null,
            "bottom": null,
            "display": null,
            "flex": null,
            "flex_flow": null,
            "grid_area": null,
            "grid_auto_columns": null,
            "grid_auto_flow": null,
            "grid_auto_rows": null,
            "grid_column": null,
            "grid_gap": null,
            "grid_row": null,
            "grid_template_areas": null,
            "grid_template_columns": null,
            "grid_template_rows": null,
            "height": null,
            "justify_content": null,
            "justify_items": null,
            "left": null,
            "margin": null,
            "max_height": null,
            "max_width": null,
            "min_height": null,
            "min_width": null,
            "object_fit": null,
            "object_position": null,
            "order": null,
            "overflow": null,
            "overflow_x": null,
            "overflow_y": null,
            "padding": null,
            "right": null,
            "top": null,
            "visibility": null,
            "width": null
          }
        },
        "a139b118be844289a4f6d2f2bee2e6c0": {
          "model_module": "@jupyter-widgets/controls",
          "model_name": "DescriptionStyleModel",
          "model_module_version": "1.5.0",
          "state": {
            "_model_module": "@jupyter-widgets/controls",
            "_model_module_version": "1.5.0",
            "_model_name": "DescriptionStyleModel",
            "_view_count": null,
            "_view_module": "@jupyter-widgets/base",
            "_view_module_version": "1.2.0",
            "_view_name": "StyleView",
            "description_width": ""
          }
        },
        "2f88850e481d4b969c30fc086534ad7a": {
          "model_module": "@jupyter-widgets/base",
          "model_name": "LayoutModel",
          "model_module_version": "1.2.0",
          "state": {
            "_model_module": "@jupyter-widgets/base",
            "_model_module_version": "1.2.0",
            "_model_name": "LayoutModel",
            "_view_count": null,
            "_view_module": "@jupyter-widgets/base",
            "_view_module_version": "1.2.0",
            "_view_name": "LayoutView",
            "align_content": null,
            "align_items": null,
            "align_self": null,
            "border": null,
            "bottom": null,
            "display": null,
            "flex": null,
            "flex_flow": null,
            "grid_area": null,
            "grid_auto_columns": null,
            "grid_auto_flow": null,
            "grid_auto_rows": null,
            "grid_column": null,
            "grid_gap": null,
            "grid_row": null,
            "grid_template_areas": null,
            "grid_template_columns": null,
            "grid_template_rows": null,
            "height": null,
            "justify_content": null,
            "justify_items": null,
            "left": null,
            "margin": null,
            "max_height": null,
            "max_width": null,
            "min_height": null,
            "min_width": null,
            "object_fit": null,
            "object_position": null,
            "order": null,
            "overflow": null,
            "overflow_x": null,
            "overflow_y": null,
            "padding": null,
            "right": null,
            "top": null,
            "visibility": null,
            "width": null
          }
        },
        "73b7266bbda44b05988643c05b80d4e1": {
          "model_module": "@jupyter-widgets/controls",
          "model_name": "ProgressStyleModel",
          "model_module_version": "1.5.0",
          "state": {
            "_model_module": "@jupyter-widgets/controls",
            "_model_module_version": "1.5.0",
            "_model_name": "ProgressStyleModel",
            "_view_count": null,
            "_view_module": "@jupyter-widgets/base",
            "_view_module_version": "1.2.0",
            "_view_name": "StyleView",
            "bar_color": null,
            "description_width": ""
          }
        },
        "b5b3b374856e4bceac0f8a1e6782927f": {
          "model_module": "@jupyter-widgets/base",
          "model_name": "LayoutModel",
          "model_module_version": "1.2.0",
          "state": {
            "_model_module": "@jupyter-widgets/base",
            "_model_module_version": "1.2.0",
            "_model_name": "LayoutModel",
            "_view_count": null,
            "_view_module": "@jupyter-widgets/base",
            "_view_module_version": "1.2.0",
            "_view_name": "LayoutView",
            "align_content": null,
            "align_items": null,
            "align_self": null,
            "border": null,
            "bottom": null,
            "display": null,
            "flex": null,
            "flex_flow": null,
            "grid_area": null,
            "grid_auto_columns": null,
            "grid_auto_flow": null,
            "grid_auto_rows": null,
            "grid_column": null,
            "grid_gap": null,
            "grid_row": null,
            "grid_template_areas": null,
            "grid_template_columns": null,
            "grid_template_rows": null,
            "height": null,
            "justify_content": null,
            "justify_items": null,
            "left": null,
            "margin": null,
            "max_height": null,
            "max_width": null,
            "min_height": null,
            "min_width": null,
            "object_fit": null,
            "object_position": null,
            "order": null,
            "overflow": null,
            "overflow_x": null,
            "overflow_y": null,
            "padding": null,
            "right": null,
            "top": null,
            "visibility": null,
            "width": null
          }
        },
        "c7a5b1bee1374d0ab6b0dbcb2513a508": {
          "model_module": "@jupyter-widgets/controls",
          "model_name": "DescriptionStyleModel",
          "model_module_version": "1.5.0",
          "state": {
            "_model_module": "@jupyter-widgets/controls",
            "_model_module_version": "1.5.0",
            "_model_name": "DescriptionStyleModel",
            "_view_count": null,
            "_view_module": "@jupyter-widgets/base",
            "_view_module_version": "1.2.0",
            "_view_name": "StyleView",
            "description_width": ""
          }
        },
        "c33641574487413da36f638eb9f9ea9b": {
          "model_module": "@jupyter-widgets/controls",
          "model_name": "HBoxModel",
          "model_module_version": "1.5.0",
          "state": {
            "_dom_classes": [],
            "_model_module": "@jupyter-widgets/controls",
            "_model_module_version": "1.5.0",
            "_model_name": "HBoxModel",
            "_view_count": null,
            "_view_module": "@jupyter-widgets/controls",
            "_view_module_version": "1.5.0",
            "_view_name": "HBoxView",
            "box_style": "",
            "children": [
              "IPY_MODEL_7a8933b97db34abf8118103a2c4ac2f6",
              "IPY_MODEL_c890ab869cd44ed5a87e07a54023f5f9",
              "IPY_MODEL_17360cde65c745e4a1d6e09233e9313d"
            ],
            "layout": "IPY_MODEL_e86c6f4f5d5f4181abd9dd99c8774814"
          }
        },
        "7a8933b97db34abf8118103a2c4ac2f6": {
          "model_module": "@jupyter-widgets/controls",
          "model_name": "HTMLModel",
          "model_module_version": "1.5.0",
          "state": {
            "_dom_classes": [],
            "_model_module": "@jupyter-widgets/controls",
            "_model_module_version": "1.5.0",
            "_model_name": "HTMLModel",
            "_view_count": null,
            "_view_module": "@jupyter-widgets/controls",
            "_view_module_version": "1.5.0",
            "_view_name": "HTMLView",
            "description": "",
            "description_tooltip": null,
            "layout": "IPY_MODEL_27a155e7149f4685a5b3e0b89e8b5278",
            "placeholder": "​",
            "style": "IPY_MODEL_dac0a7e7af5349ea9a5e91d49cd97775",
            "value": "spiece.model: 100%"
          }
        },
        "c890ab869cd44ed5a87e07a54023f5f9": {
          "model_module": "@jupyter-widgets/controls",
          "model_name": "FloatProgressModel",
          "model_module_version": "1.5.0",
          "state": {
            "_dom_classes": [],
            "_model_module": "@jupyter-widgets/controls",
            "_model_module_version": "1.5.0",
            "_model_name": "FloatProgressModel",
            "_view_count": null,
            "_view_module": "@jupyter-widgets/controls",
            "_view_module_version": "1.5.0",
            "_view_name": "ProgressView",
            "bar_style": "success",
            "description": "",
            "description_tooltip": null,
            "layout": "IPY_MODEL_31224248d8ff42efbfe7b9a20c6488e7",
            "max": 4309802,
            "min": 0,
            "orientation": "horizontal",
            "style": "IPY_MODEL_1eee5cb11f2043bbaa1bc3014b28c31a",
            "value": 4309802
          }
        },
        "17360cde65c745e4a1d6e09233e9313d": {
          "model_module": "@jupyter-widgets/controls",
          "model_name": "HTMLModel",
          "model_module_version": "1.5.0",
          "state": {
            "_dom_classes": [],
            "_model_module": "@jupyter-widgets/controls",
            "_model_module_version": "1.5.0",
            "_model_name": "HTMLModel",
            "_view_count": null,
            "_view_module": "@jupyter-widgets/controls",
            "_view_module_version": "1.5.0",
            "_view_name": "HTMLView",
            "description": "",
            "description_tooltip": null,
            "layout": "IPY_MODEL_4ea06db7b6ed4f168778cb549c3b7db9",
            "placeholder": "​",
            "style": "IPY_MODEL_4ccfa16f5e224df294360780903f422a",
            "value": " 4.31M/4.31M [00:00&lt;00:00, 12.5MB/s]"
          }
        },
        "e86c6f4f5d5f4181abd9dd99c8774814": {
          "model_module": "@jupyter-widgets/base",
          "model_name": "LayoutModel",
          "model_module_version": "1.2.0",
          "state": {
            "_model_module": "@jupyter-widgets/base",
            "_model_module_version": "1.2.0",
            "_model_name": "LayoutModel",
            "_view_count": null,
            "_view_module": "@jupyter-widgets/base",
            "_view_module_version": "1.2.0",
            "_view_name": "LayoutView",
            "align_content": null,
            "align_items": null,
            "align_self": null,
            "border": null,
            "bottom": null,
            "display": null,
            "flex": null,
            "flex_flow": null,
            "grid_area": null,
            "grid_auto_columns": null,
            "grid_auto_flow": null,
            "grid_auto_rows": null,
            "grid_column": null,
            "grid_gap": null,
            "grid_row": null,
            "grid_template_areas": null,
            "grid_template_columns": null,
            "grid_template_rows": null,
            "height": null,
            "justify_content": null,
            "justify_items": null,
            "left": null,
            "margin": null,
            "max_height": null,
            "max_width": null,
            "min_height": null,
            "min_width": null,
            "object_fit": null,
            "object_position": null,
            "order": null,
            "overflow": null,
            "overflow_x": null,
            "overflow_y": null,
            "padding": null,
            "right": null,
            "top": null,
            "visibility": null,
            "width": null
          }
        },
        "27a155e7149f4685a5b3e0b89e8b5278": {
          "model_module": "@jupyter-widgets/base",
          "model_name": "LayoutModel",
          "model_module_version": "1.2.0",
          "state": {
            "_model_module": "@jupyter-widgets/base",
            "_model_module_version": "1.2.0",
            "_model_name": "LayoutModel",
            "_view_count": null,
            "_view_module": "@jupyter-widgets/base",
            "_view_module_version": "1.2.0",
            "_view_name": "LayoutView",
            "align_content": null,
            "align_items": null,
            "align_self": null,
            "border": null,
            "bottom": null,
            "display": null,
            "flex": null,
            "flex_flow": null,
            "grid_area": null,
            "grid_auto_columns": null,
            "grid_auto_flow": null,
            "grid_auto_rows": null,
            "grid_column": null,
            "grid_gap": null,
            "grid_row": null,
            "grid_template_areas": null,
            "grid_template_columns": null,
            "grid_template_rows": null,
            "height": null,
            "justify_content": null,
            "justify_items": null,
            "left": null,
            "margin": null,
            "max_height": null,
            "max_width": null,
            "min_height": null,
            "min_width": null,
            "object_fit": null,
            "object_position": null,
            "order": null,
            "overflow": null,
            "overflow_x": null,
            "overflow_y": null,
            "padding": null,
            "right": null,
            "top": null,
            "visibility": null,
            "width": null
          }
        },
        "dac0a7e7af5349ea9a5e91d49cd97775": {
          "model_module": "@jupyter-widgets/controls",
          "model_name": "DescriptionStyleModel",
          "model_module_version": "1.5.0",
          "state": {
            "_model_module": "@jupyter-widgets/controls",
            "_model_module_version": "1.5.0",
            "_model_name": "DescriptionStyleModel",
            "_view_count": null,
            "_view_module": "@jupyter-widgets/base",
            "_view_module_version": "1.2.0",
            "_view_name": "StyleView",
            "description_width": ""
          }
        },
        "31224248d8ff42efbfe7b9a20c6488e7": {
          "model_module": "@jupyter-widgets/base",
          "model_name": "LayoutModel",
          "model_module_version": "1.2.0",
          "state": {
            "_model_module": "@jupyter-widgets/base",
            "_model_module_version": "1.2.0",
            "_model_name": "LayoutModel",
            "_view_count": null,
            "_view_module": "@jupyter-widgets/base",
            "_view_module_version": "1.2.0",
            "_view_name": "LayoutView",
            "align_content": null,
            "align_items": null,
            "align_self": null,
            "border": null,
            "bottom": null,
            "display": null,
            "flex": null,
            "flex_flow": null,
            "grid_area": null,
            "grid_auto_columns": null,
            "grid_auto_flow": null,
            "grid_auto_rows": null,
            "grid_column": null,
            "grid_gap": null,
            "grid_row": null,
            "grid_template_areas": null,
            "grid_template_columns": null,
            "grid_template_rows": null,
            "height": null,
            "justify_content": null,
            "justify_items": null,
            "left": null,
            "margin": null,
            "max_height": null,
            "max_width": null,
            "min_height": null,
            "min_width": null,
            "object_fit": null,
            "object_position": null,
            "order": null,
            "overflow": null,
            "overflow_x": null,
            "overflow_y": null,
            "padding": null,
            "right": null,
            "top": null,
            "visibility": null,
            "width": null
          }
        },
        "1eee5cb11f2043bbaa1bc3014b28c31a": {
          "model_module": "@jupyter-widgets/controls",
          "model_name": "ProgressStyleModel",
          "model_module_version": "1.5.0",
          "state": {
            "_model_module": "@jupyter-widgets/controls",
            "_model_module_version": "1.5.0",
            "_model_name": "ProgressStyleModel",
            "_view_count": null,
            "_view_module": "@jupyter-widgets/base",
            "_view_module_version": "1.2.0",
            "_view_name": "StyleView",
            "bar_color": null,
            "description_width": ""
          }
        },
        "4ea06db7b6ed4f168778cb549c3b7db9": {
          "model_module": "@jupyter-widgets/base",
          "model_name": "LayoutModel",
          "model_module_version": "1.2.0",
          "state": {
            "_model_module": "@jupyter-widgets/base",
            "_model_module_version": "1.2.0",
            "_model_name": "LayoutModel",
            "_view_count": null,
            "_view_module": "@jupyter-widgets/base",
            "_view_module_version": "1.2.0",
            "_view_name": "LayoutView",
            "align_content": null,
            "align_items": null,
            "align_self": null,
            "border": null,
            "bottom": null,
            "display": null,
            "flex": null,
            "flex_flow": null,
            "grid_area": null,
            "grid_auto_columns": null,
            "grid_auto_flow": null,
            "grid_auto_rows": null,
            "grid_column": null,
            "grid_gap": null,
            "grid_row": null,
            "grid_template_areas": null,
            "grid_template_columns": null,
            "grid_template_rows": null,
            "height": null,
            "justify_content": null,
            "justify_items": null,
            "left": null,
            "margin": null,
            "max_height": null,
            "max_width": null,
            "min_height": null,
            "min_width": null,
            "object_fit": null,
            "object_position": null,
            "order": null,
            "overflow": null,
            "overflow_x": null,
            "overflow_y": null,
            "padding": null,
            "right": null,
            "top": null,
            "visibility": null,
            "width": null
          }
        },
        "4ccfa16f5e224df294360780903f422a": {
          "model_module": "@jupyter-widgets/controls",
          "model_name": "DescriptionStyleModel",
          "model_module_version": "1.5.0",
          "state": {
            "_model_module": "@jupyter-widgets/controls",
            "_model_module_version": "1.5.0",
            "_model_name": "DescriptionStyleModel",
            "_view_count": null,
            "_view_module": "@jupyter-widgets/base",
            "_view_module_version": "1.2.0",
            "_view_name": "StyleView",
            "description_width": ""
          }
        },
        "8a885972d53d496b98392df8d953bba2": {
          "model_module": "@jupyter-widgets/controls",
          "model_name": "HBoxModel",
          "model_module_version": "1.5.0",
          "state": {
            "_dom_classes": [],
            "_model_module": "@jupyter-widgets/controls",
            "_model_module_version": "1.5.0",
            "_model_name": "HBoxModel",
            "_view_count": null,
            "_view_module": "@jupyter-widgets/controls",
            "_view_module_version": "1.5.0",
            "_view_name": "HBoxView",
            "box_style": "",
            "children": [
              "IPY_MODEL_5a66631308e145dfbb59047af691498c",
              "IPY_MODEL_efa120012bd449098419347949e6cc21",
              "IPY_MODEL_d1942563e840489bb6c48f26c51e9c62"
            ],
            "layout": "IPY_MODEL_0e48267488b54e01a594089d6b4f9bc6"
          }
        },
        "5a66631308e145dfbb59047af691498c": {
          "model_module": "@jupyter-widgets/controls",
          "model_name": "HTMLModel",
          "model_module_version": "1.5.0",
          "state": {
            "_dom_classes": [],
            "_model_module": "@jupyter-widgets/controls",
            "_model_module_version": "1.5.0",
            "_model_name": "HTMLModel",
            "_view_count": null,
            "_view_module": "@jupyter-widgets/controls",
            "_view_module_version": "1.5.0",
            "_view_name": "HTMLView",
            "description": "",
            "description_tooltip": null,
            "layout": "IPY_MODEL_f3e9ad002ff14058a21932113f8577ec",
            "placeholder": "​",
            "style": "IPY_MODEL_1ae3fac3a2c845419dde8e2ff2ccd1b6",
            "value": "special_tokens_map.json: 100%"
          }
        },
        "efa120012bd449098419347949e6cc21": {
          "model_module": "@jupyter-widgets/controls",
          "model_name": "FloatProgressModel",
          "model_module_version": "1.5.0",
          "state": {
            "_dom_classes": [],
            "_model_module": "@jupyter-widgets/controls",
            "_model_module_version": "1.5.0",
            "_model_name": "FloatProgressModel",
            "_view_count": null,
            "_view_module": "@jupyter-widgets/controls",
            "_view_module_version": "1.5.0",
            "_view_name": "ProgressView",
            "bar_style": "success",
            "description": "",
            "description_tooltip": null,
            "layout": "IPY_MODEL_3163e083d9534db98bc928f9a596af8c",
            "max": 65,
            "min": 0,
            "orientation": "horizontal",
            "style": "IPY_MODEL_d4368ba1aa144b2abbcc37f01cbc85f2",
            "value": 65
          }
        },
        "d1942563e840489bb6c48f26c51e9c62": {
          "model_module": "@jupyter-widgets/controls",
          "model_name": "HTMLModel",
          "model_module_version": "1.5.0",
          "state": {
            "_dom_classes": [],
            "_model_module": "@jupyter-widgets/controls",
            "_model_module_version": "1.5.0",
            "_model_name": "HTMLModel",
            "_view_count": null,
            "_view_module": "@jupyter-widgets/controls",
            "_view_module_version": "1.5.0",
            "_view_name": "HTMLView",
            "description": "",
            "description_tooltip": null,
            "layout": "IPY_MODEL_6839348d3bba4c9996490b540f71563f",
            "placeholder": "​",
            "style": "IPY_MODEL_3b028409fdef4718bc68bcfd7aa555a3",
            "value": " 65.0/65.0 [00:00&lt;00:00, 5.98kB/s]"
          }
        },
        "0e48267488b54e01a594089d6b4f9bc6": {
          "model_module": "@jupyter-widgets/base",
          "model_name": "LayoutModel",
          "model_module_version": "1.2.0",
          "state": {
            "_model_module": "@jupyter-widgets/base",
            "_model_module_version": "1.2.0",
            "_model_name": "LayoutModel",
            "_view_count": null,
            "_view_module": "@jupyter-widgets/base",
            "_view_module_version": "1.2.0",
            "_view_name": "LayoutView",
            "align_content": null,
            "align_items": null,
            "align_self": null,
            "border": null,
            "bottom": null,
            "display": null,
            "flex": null,
            "flex_flow": null,
            "grid_area": null,
            "grid_auto_columns": null,
            "grid_auto_flow": null,
            "grid_auto_rows": null,
            "grid_column": null,
            "grid_gap": null,
            "grid_row": null,
            "grid_template_areas": null,
            "grid_template_columns": null,
            "grid_template_rows": null,
            "height": null,
            "justify_content": null,
            "justify_items": null,
            "left": null,
            "margin": null,
            "max_height": null,
            "max_width": null,
            "min_height": null,
            "min_width": null,
            "object_fit": null,
            "object_position": null,
            "order": null,
            "overflow": null,
            "overflow_x": null,
            "overflow_y": null,
            "padding": null,
            "right": null,
            "top": null,
            "visibility": null,
            "width": null
          }
        },
        "f3e9ad002ff14058a21932113f8577ec": {
          "model_module": "@jupyter-widgets/base",
          "model_name": "LayoutModel",
          "model_module_version": "1.2.0",
          "state": {
            "_model_module": "@jupyter-widgets/base",
            "_model_module_version": "1.2.0",
            "_model_name": "LayoutModel",
            "_view_count": null,
            "_view_module": "@jupyter-widgets/base",
            "_view_module_version": "1.2.0",
            "_view_name": "LayoutView",
            "align_content": null,
            "align_items": null,
            "align_self": null,
            "border": null,
            "bottom": null,
            "display": null,
            "flex": null,
            "flex_flow": null,
            "grid_area": null,
            "grid_auto_columns": null,
            "grid_auto_flow": null,
            "grid_auto_rows": null,
            "grid_column": null,
            "grid_gap": null,
            "grid_row": null,
            "grid_template_areas": null,
            "grid_template_columns": null,
            "grid_template_rows": null,
            "height": null,
            "justify_content": null,
            "justify_items": null,
            "left": null,
            "margin": null,
            "max_height": null,
            "max_width": null,
            "min_height": null,
            "min_width": null,
            "object_fit": null,
            "object_position": null,
            "order": null,
            "overflow": null,
            "overflow_x": null,
            "overflow_y": null,
            "padding": null,
            "right": null,
            "top": null,
            "visibility": null,
            "width": null
          }
        },
        "1ae3fac3a2c845419dde8e2ff2ccd1b6": {
          "model_module": "@jupyter-widgets/controls",
          "model_name": "DescriptionStyleModel",
          "model_module_version": "1.5.0",
          "state": {
            "_model_module": "@jupyter-widgets/controls",
            "_model_module_version": "1.5.0",
            "_model_name": "DescriptionStyleModel",
            "_view_count": null,
            "_view_module": "@jupyter-widgets/base",
            "_view_module_version": "1.2.0",
            "_view_name": "StyleView",
            "description_width": ""
          }
        },
        "3163e083d9534db98bc928f9a596af8c": {
          "model_module": "@jupyter-widgets/base",
          "model_name": "LayoutModel",
          "model_module_version": "1.2.0",
          "state": {
            "_model_module": "@jupyter-widgets/base",
            "_model_module_version": "1.2.0",
            "_model_name": "LayoutModel",
            "_view_count": null,
            "_view_module": "@jupyter-widgets/base",
            "_view_module_version": "1.2.0",
            "_view_name": "LayoutView",
            "align_content": null,
            "align_items": null,
            "align_self": null,
            "border": null,
            "bottom": null,
            "display": null,
            "flex": null,
            "flex_flow": null,
            "grid_area": null,
            "grid_auto_columns": null,
            "grid_auto_flow": null,
            "grid_auto_rows": null,
            "grid_column": null,
            "grid_gap": null,
            "grid_row": null,
            "grid_template_areas": null,
            "grid_template_columns": null,
            "grid_template_rows": null,
            "height": null,
            "justify_content": null,
            "justify_items": null,
            "left": null,
            "margin": null,
            "max_height": null,
            "max_width": null,
            "min_height": null,
            "min_width": null,
            "object_fit": null,
            "object_position": null,
            "order": null,
            "overflow": null,
            "overflow_x": null,
            "overflow_y": null,
            "padding": null,
            "right": null,
            "top": null,
            "visibility": null,
            "width": null
          }
        },
        "d4368ba1aa144b2abbcc37f01cbc85f2": {
          "model_module": "@jupyter-widgets/controls",
          "model_name": "ProgressStyleModel",
          "model_module_version": "1.5.0",
          "state": {
            "_model_module": "@jupyter-widgets/controls",
            "_model_module_version": "1.5.0",
            "_model_name": "ProgressStyleModel",
            "_view_count": null,
            "_view_module": "@jupyter-widgets/base",
            "_view_module_version": "1.2.0",
            "_view_name": "StyleView",
            "bar_color": null,
            "description_width": ""
          }
        },
        "6839348d3bba4c9996490b540f71563f": {
          "model_module": "@jupyter-widgets/base",
          "model_name": "LayoutModel",
          "model_module_version": "1.2.0",
          "state": {
            "_model_module": "@jupyter-widgets/base",
            "_model_module_version": "1.2.0",
            "_model_name": "LayoutModel",
            "_view_count": null,
            "_view_module": "@jupyter-widgets/base",
            "_view_module_version": "1.2.0",
            "_view_name": "LayoutView",
            "align_content": null,
            "align_items": null,
            "align_self": null,
            "border": null,
            "bottom": null,
            "display": null,
            "flex": null,
            "flex_flow": null,
            "grid_area": null,
            "grid_auto_columns": null,
            "grid_auto_flow": null,
            "grid_auto_rows": null,
            "grid_column": null,
            "grid_gap": null,
            "grid_row": null,
            "grid_template_areas": null,
            "grid_template_columns": null,
            "grid_template_rows": null,
            "height": null,
            "justify_content": null,
            "justify_items": null,
            "left": null,
            "margin": null,
            "max_height": null,
            "max_width": null,
            "min_height": null,
            "min_width": null,
            "object_fit": null,
            "object_position": null,
            "order": null,
            "overflow": null,
            "overflow_x": null,
            "overflow_y": null,
            "padding": null,
            "right": null,
            "top": null,
            "visibility": null,
            "width": null
          }
        },
        "3b028409fdef4718bc68bcfd7aa555a3": {
          "model_module": "@jupyter-widgets/controls",
          "model_name": "DescriptionStyleModel",
          "model_module_version": "1.5.0",
          "state": {
            "_model_module": "@jupyter-widgets/controls",
            "_model_module_version": "1.5.0",
            "_model_name": "DescriptionStyleModel",
            "_view_count": null,
            "_view_module": "@jupyter-widgets/base",
            "_view_module_version": "1.2.0",
            "_view_name": "StyleView",
            "description_width": ""
          }
        },
        "fa7fffcd91b046898be7f6f69d43cada": {
          "model_module": "@jupyter-widgets/controls",
          "model_name": "HBoxModel",
          "model_module_version": "1.5.0",
          "state": {
            "_dom_classes": [],
            "_model_module": "@jupyter-widgets/controls",
            "_model_module_version": "1.5.0",
            "_model_name": "HBoxModel",
            "_view_count": null,
            "_view_module": "@jupyter-widgets/controls",
            "_view_module_version": "1.5.0",
            "_view_name": "HBoxView",
            "box_style": "",
            "children": [
              "IPY_MODEL_b1276a59930347c491a6f8e4d9628db0",
              "IPY_MODEL_3a9771a44b1f49679e0ec0c2222d5b85",
              "IPY_MODEL_5bf45c5a732c4b9c959c860f8c436f9e"
            ],
            "layout": "IPY_MODEL_0bdbac16563a4830b32850696411c958"
          }
        },
        "b1276a59930347c491a6f8e4d9628db0": {
          "model_module": "@jupyter-widgets/controls",
          "model_name": "HTMLModel",
          "model_module_version": "1.5.0",
          "state": {
            "_dom_classes": [],
            "_model_module": "@jupyter-widgets/controls",
            "_model_module_version": "1.5.0",
            "_model_name": "HTMLModel",
            "_view_count": null,
            "_view_module": "@jupyter-widgets/controls",
            "_view_module_version": "1.5.0",
            "_view_name": "HTMLView",
            "description": "",
            "description_tooltip": null,
            "layout": "IPY_MODEL_9a7720671894496db9aec63faae7170a",
            "placeholder": "​",
            "style": "IPY_MODEL_a9acde6076574faba275c8ac549391a2",
            "value": "pytorch_model.bin: 100%"
          }
        },
        "3a9771a44b1f49679e0ec0c2222d5b85": {
          "model_module": "@jupyter-widgets/controls",
          "model_name": "FloatProgressModel",
          "model_module_version": "1.5.0",
          "state": {
            "_dom_classes": [],
            "_model_module": "@jupyter-widgets/controls",
            "_model_module_version": "1.5.0",
            "_model_name": "FloatProgressModel",
            "_view_count": null,
            "_view_module": "@jupyter-widgets/controls",
            "_view_module_version": "1.5.0",
            "_view_name": "ProgressView",
            "bar_style": "success",
            "description": "",
            "description_tooltip": null,
            "layout": "IPY_MODEL_7816f328d4a4468c948776243c66e5a1",
            "max": 2329735129,
            "min": 0,
            "orientation": "horizontal",
            "style": "IPY_MODEL_47d69dc3d927474c9977d513a6615048",
            "value": 2329735129
          }
        },
        "5bf45c5a732c4b9c959c860f8c436f9e": {
          "model_module": "@jupyter-widgets/controls",
          "model_name": "HTMLModel",
          "model_module_version": "1.5.0",
          "state": {
            "_dom_classes": [],
            "_model_module": "@jupyter-widgets/controls",
            "_model_module_version": "1.5.0",
            "_model_name": "HTMLModel",
            "_view_count": null,
            "_view_module": "@jupyter-widgets/controls",
            "_view_module_version": "1.5.0",
            "_view_name": "HTMLView",
            "description": "",
            "description_tooltip": null,
            "layout": "IPY_MODEL_c220796746124610b64d135d0438e89c",
            "placeholder": "​",
            "style": "IPY_MODEL_335a55f73ecf4bdca6b22d157efc71aa",
            "value": " 2.33G/2.33G [00:09&lt;00:00, 230MB/s]"
          }
        },
        "0bdbac16563a4830b32850696411c958": {
          "model_module": "@jupyter-widgets/base",
          "model_name": "LayoutModel",
          "model_module_version": "1.2.0",
          "state": {
            "_model_module": "@jupyter-widgets/base",
            "_model_module_version": "1.2.0",
            "_model_name": "LayoutModel",
            "_view_count": null,
            "_view_module": "@jupyter-widgets/base",
            "_view_module_version": "1.2.0",
            "_view_name": "LayoutView",
            "align_content": null,
            "align_items": null,
            "align_self": null,
            "border": null,
            "bottom": null,
            "display": null,
            "flex": null,
            "flex_flow": null,
            "grid_area": null,
            "grid_auto_columns": null,
            "grid_auto_flow": null,
            "grid_auto_rows": null,
            "grid_column": null,
            "grid_gap": null,
            "grid_row": null,
            "grid_template_areas": null,
            "grid_template_columns": null,
            "grid_template_rows": null,
            "height": null,
            "justify_content": null,
            "justify_items": null,
            "left": null,
            "margin": null,
            "max_height": null,
            "max_width": null,
            "min_height": null,
            "min_width": null,
            "object_fit": null,
            "object_position": null,
            "order": null,
            "overflow": null,
            "overflow_x": null,
            "overflow_y": null,
            "padding": null,
            "right": null,
            "top": null,
            "visibility": null,
            "width": null
          }
        },
        "9a7720671894496db9aec63faae7170a": {
          "model_module": "@jupyter-widgets/base",
          "model_name": "LayoutModel",
          "model_module_version": "1.2.0",
          "state": {
            "_model_module": "@jupyter-widgets/base",
            "_model_module_version": "1.2.0",
            "_model_name": "LayoutModel",
            "_view_count": null,
            "_view_module": "@jupyter-widgets/base",
            "_view_module_version": "1.2.0",
            "_view_name": "LayoutView",
            "align_content": null,
            "align_items": null,
            "align_self": null,
            "border": null,
            "bottom": null,
            "display": null,
            "flex": null,
            "flex_flow": null,
            "grid_area": null,
            "grid_auto_columns": null,
            "grid_auto_flow": null,
            "grid_auto_rows": null,
            "grid_column": null,
            "grid_gap": null,
            "grid_row": null,
            "grid_template_areas": null,
            "grid_template_columns": null,
            "grid_template_rows": null,
            "height": null,
            "justify_content": null,
            "justify_items": null,
            "left": null,
            "margin": null,
            "max_height": null,
            "max_width": null,
            "min_height": null,
            "min_width": null,
            "object_fit": null,
            "object_position": null,
            "order": null,
            "overflow": null,
            "overflow_x": null,
            "overflow_y": null,
            "padding": null,
            "right": null,
            "top": null,
            "visibility": null,
            "width": null
          }
        },
        "a9acde6076574faba275c8ac549391a2": {
          "model_module": "@jupyter-widgets/controls",
          "model_name": "DescriptionStyleModel",
          "model_module_version": "1.5.0",
          "state": {
            "_model_module": "@jupyter-widgets/controls",
            "_model_module_version": "1.5.0",
            "_model_name": "DescriptionStyleModel",
            "_view_count": null,
            "_view_module": "@jupyter-widgets/base",
            "_view_module_version": "1.2.0",
            "_view_name": "StyleView",
            "description_width": ""
          }
        },
        "7816f328d4a4468c948776243c66e5a1": {
          "model_module": "@jupyter-widgets/base",
          "model_name": "LayoutModel",
          "model_module_version": "1.2.0",
          "state": {
            "_model_module": "@jupyter-widgets/base",
            "_model_module_version": "1.2.0",
            "_model_name": "LayoutModel",
            "_view_count": null,
            "_view_module": "@jupyter-widgets/base",
            "_view_module_version": "1.2.0",
            "_view_name": "LayoutView",
            "align_content": null,
            "align_items": null,
            "align_self": null,
            "border": null,
            "bottom": null,
            "display": null,
            "flex": null,
            "flex_flow": null,
            "grid_area": null,
            "grid_auto_columns": null,
            "grid_auto_flow": null,
            "grid_auto_rows": null,
            "grid_column": null,
            "grid_gap": null,
            "grid_row": null,
            "grid_template_areas": null,
            "grid_template_columns": null,
            "grid_template_rows": null,
            "height": null,
            "justify_content": null,
            "justify_items": null,
            "left": null,
            "margin": null,
            "max_height": null,
            "max_width": null,
            "min_height": null,
            "min_width": null,
            "object_fit": null,
            "object_position": null,
            "order": null,
            "overflow": null,
            "overflow_x": null,
            "overflow_y": null,
            "padding": null,
            "right": null,
            "top": null,
            "visibility": null,
            "width": null
          }
        },
        "47d69dc3d927474c9977d513a6615048": {
          "model_module": "@jupyter-widgets/controls",
          "model_name": "ProgressStyleModel",
          "model_module_version": "1.5.0",
          "state": {
            "_model_module": "@jupyter-widgets/controls",
            "_model_module_version": "1.5.0",
            "_model_name": "ProgressStyleModel",
            "_view_count": null,
            "_view_module": "@jupyter-widgets/base",
            "_view_module_version": "1.2.0",
            "_view_name": "StyleView",
            "bar_color": null,
            "description_width": ""
          }
        },
        "c220796746124610b64d135d0438e89c": {
          "model_module": "@jupyter-widgets/base",
          "model_name": "LayoutModel",
          "model_module_version": "1.2.0",
          "state": {
            "_model_module": "@jupyter-widgets/base",
            "_model_module_version": "1.2.0",
            "_model_name": "LayoutModel",
            "_view_count": null,
            "_view_module": "@jupyter-widgets/base",
            "_view_module_version": "1.2.0",
            "_view_name": "LayoutView",
            "align_content": null,
            "align_items": null,
            "align_self": null,
            "border": null,
            "bottom": null,
            "display": null,
            "flex": null,
            "flex_flow": null,
            "grid_area": null,
            "grid_auto_columns": null,
            "grid_auto_flow": null,
            "grid_auto_rows": null,
            "grid_column": null,
            "grid_gap": null,
            "grid_row": null,
            "grid_template_areas": null,
            "grid_template_columns": null,
            "grid_template_rows": null,
            "height": null,
            "justify_content": null,
            "justify_items": null,
            "left": null,
            "margin": null,
            "max_height": null,
            "max_width": null,
            "min_height": null,
            "min_width": null,
            "object_fit": null,
            "object_position": null,
            "order": null,
            "overflow": null,
            "overflow_x": null,
            "overflow_y": null,
            "padding": null,
            "right": null,
            "top": null,
            "visibility": null,
            "width": null
          }
        },
        "335a55f73ecf4bdca6b22d157efc71aa": {
          "model_module": "@jupyter-widgets/controls",
          "model_name": "DescriptionStyleModel",
          "model_module_version": "1.5.0",
          "state": {
            "_model_module": "@jupyter-widgets/controls",
            "_model_module_version": "1.5.0",
            "_model_name": "DescriptionStyleModel",
            "_view_count": null,
            "_view_module": "@jupyter-widgets/base",
            "_view_module_version": "1.2.0",
            "_view_name": "StyleView",
            "description_width": ""
          }
        },
        "080f40c7e4784877b1dc0a9109ffee38": {
          "model_module": "@jupyter-widgets/controls",
          "model_name": "HBoxModel",
          "model_module_version": "1.5.0",
          "state": {
            "_dom_classes": [],
            "_model_module": "@jupyter-widgets/controls",
            "_model_module_version": "1.5.0",
            "_model_name": "HBoxModel",
            "_view_count": null,
            "_view_module": "@jupyter-widgets/controls",
            "_view_module_version": "1.5.0",
            "_view_name": "HBoxView",
            "box_style": "",
            "children": [
              "IPY_MODEL_8e3cdf53430d498b96420cf6f9bd0730",
              "IPY_MODEL_d558641eca3145cf97e2380b3034b5e0",
              "IPY_MODEL_16e1a227ba9d4e8c8f53f62aa0856fb8"
            ],
            "layout": "IPY_MODEL_4d77e571b80d4662a73db17d89d754a3"
          }
        },
        "8e3cdf53430d498b96420cf6f9bd0730": {
          "model_module": "@jupyter-widgets/controls",
          "model_name": "HTMLModel",
          "model_module_version": "1.5.0",
          "state": {
            "_dom_classes": [],
            "_model_module": "@jupyter-widgets/controls",
            "_model_module_version": "1.5.0",
            "_model_name": "HTMLModel",
            "_view_count": null,
            "_view_module": "@jupyter-widgets/controls",
            "_view_module_version": "1.5.0",
            "_view_name": "HTMLView",
            "description": "",
            "description_tooltip": null,
            "layout": "IPY_MODEL_c1143437a477456fac131e2cd88b6d04",
            "placeholder": "​",
            "style": "IPY_MODEL_94a8e8cb72a84e37bf1ccd6af2c56496",
            "value": "generation_config.json: 100%"
          }
        },
        "d558641eca3145cf97e2380b3034b5e0": {
          "model_module": "@jupyter-widgets/controls",
          "model_name": "FloatProgressModel",
          "model_module_version": "1.5.0",
          "state": {
            "_dom_classes": [],
            "_model_module": "@jupyter-widgets/controls",
            "_model_module_version": "1.5.0",
            "_model_name": "FloatProgressModel",
            "_view_count": null,
            "_view_module": "@jupyter-widgets/controls",
            "_view_module_version": "1.5.0",
            "_view_name": "ProgressView",
            "bar_style": "success",
            "description": "",
            "description_tooltip": null,
            "layout": "IPY_MODEL_6390fb15e1c04621af842dcafc398420",
            "max": 147,
            "min": 0,
            "orientation": "horizontal",
            "style": "IPY_MODEL_53475c6825be4d45bd68ab319179407a",
            "value": 147
          }
        },
        "16e1a227ba9d4e8c8f53f62aa0856fb8": {
          "model_module": "@jupyter-widgets/controls",
          "model_name": "HTMLModel",
          "model_module_version": "1.5.0",
          "state": {
            "_dom_classes": [],
            "_model_module": "@jupyter-widgets/controls",
            "_model_module_version": "1.5.0",
            "_model_name": "HTMLModel",
            "_view_count": null,
            "_view_module": "@jupyter-widgets/controls",
            "_view_module_version": "1.5.0",
            "_view_name": "HTMLView",
            "description": "",
            "description_tooltip": null,
            "layout": "IPY_MODEL_c360396427554a32a62faa9cacae7476",
            "placeholder": "​",
            "style": "IPY_MODEL_a63d46dca156440799d1334dfbf22e35",
            "value": " 147/147 [00:00&lt;00:00, 14.0kB/s]"
          }
        },
        "4d77e571b80d4662a73db17d89d754a3": {
          "model_module": "@jupyter-widgets/base",
          "model_name": "LayoutModel",
          "model_module_version": "1.2.0",
          "state": {
            "_model_module": "@jupyter-widgets/base",
            "_model_module_version": "1.2.0",
            "_model_name": "LayoutModel",
            "_view_count": null,
            "_view_module": "@jupyter-widgets/base",
            "_view_module_version": "1.2.0",
            "_view_name": "LayoutView",
            "align_content": null,
            "align_items": null,
            "align_self": null,
            "border": null,
            "bottom": null,
            "display": null,
            "flex": null,
            "flex_flow": null,
            "grid_area": null,
            "grid_auto_columns": null,
            "grid_auto_flow": null,
            "grid_auto_rows": null,
            "grid_column": null,
            "grid_gap": null,
            "grid_row": null,
            "grid_template_areas": null,
            "grid_template_columns": null,
            "grid_template_rows": null,
            "height": null,
            "justify_content": null,
            "justify_items": null,
            "left": null,
            "margin": null,
            "max_height": null,
            "max_width": null,
            "min_height": null,
            "min_width": null,
            "object_fit": null,
            "object_position": null,
            "order": null,
            "overflow": null,
            "overflow_x": null,
            "overflow_y": null,
            "padding": null,
            "right": null,
            "top": null,
            "visibility": null,
            "width": null
          }
        },
        "c1143437a477456fac131e2cd88b6d04": {
          "model_module": "@jupyter-widgets/base",
          "model_name": "LayoutModel",
          "model_module_version": "1.2.0",
          "state": {
            "_model_module": "@jupyter-widgets/base",
            "_model_module_version": "1.2.0",
            "_model_name": "LayoutModel",
            "_view_count": null,
            "_view_module": "@jupyter-widgets/base",
            "_view_module_version": "1.2.0",
            "_view_name": "LayoutView",
            "align_content": null,
            "align_items": null,
            "align_self": null,
            "border": null,
            "bottom": null,
            "display": null,
            "flex": null,
            "flex_flow": null,
            "grid_area": null,
            "grid_auto_columns": null,
            "grid_auto_flow": null,
            "grid_auto_rows": null,
            "grid_column": null,
            "grid_gap": null,
            "grid_row": null,
            "grid_template_areas": null,
            "grid_template_columns": null,
            "grid_template_rows": null,
            "height": null,
            "justify_content": null,
            "justify_items": null,
            "left": null,
            "margin": null,
            "max_height": null,
            "max_width": null,
            "min_height": null,
            "min_width": null,
            "object_fit": null,
            "object_position": null,
            "order": null,
            "overflow": null,
            "overflow_x": null,
            "overflow_y": null,
            "padding": null,
            "right": null,
            "top": null,
            "visibility": null,
            "width": null
          }
        },
        "94a8e8cb72a84e37bf1ccd6af2c56496": {
          "model_module": "@jupyter-widgets/controls",
          "model_name": "DescriptionStyleModel",
          "model_module_version": "1.5.0",
          "state": {
            "_model_module": "@jupyter-widgets/controls",
            "_model_module_version": "1.5.0",
            "_model_name": "DescriptionStyleModel",
            "_view_count": null,
            "_view_module": "@jupyter-widgets/base",
            "_view_module_version": "1.2.0",
            "_view_name": "StyleView",
            "description_width": ""
          }
        },
        "6390fb15e1c04621af842dcafc398420": {
          "model_module": "@jupyter-widgets/base",
          "model_name": "LayoutModel",
          "model_module_version": "1.2.0",
          "state": {
            "_model_module": "@jupyter-widgets/base",
            "_model_module_version": "1.2.0",
            "_model_name": "LayoutModel",
            "_view_count": null,
            "_view_module": "@jupyter-widgets/base",
            "_view_module_version": "1.2.0",
            "_view_name": "LayoutView",
            "align_content": null,
            "align_items": null,
            "align_self": null,
            "border": null,
            "bottom": null,
            "display": null,
            "flex": null,
            "flex_flow": null,
            "grid_area": null,
            "grid_auto_columns": null,
            "grid_auto_flow": null,
            "grid_auto_rows": null,
            "grid_column": null,
            "grid_gap": null,
            "grid_row": null,
            "grid_template_areas": null,
            "grid_template_columns": null,
            "grid_template_rows": null,
            "height": null,
            "justify_content": null,
            "justify_items": null,
            "left": null,
            "margin": null,
            "max_height": null,
            "max_width": null,
            "min_height": null,
            "min_width": null,
            "object_fit": null,
            "object_position": null,
            "order": null,
            "overflow": null,
            "overflow_x": null,
            "overflow_y": null,
            "padding": null,
            "right": null,
            "top": null,
            "visibility": null,
            "width": null
          }
        },
        "53475c6825be4d45bd68ab319179407a": {
          "model_module": "@jupyter-widgets/controls",
          "model_name": "ProgressStyleModel",
          "model_module_version": "1.5.0",
          "state": {
            "_model_module": "@jupyter-widgets/controls",
            "_model_module_version": "1.5.0",
            "_model_name": "ProgressStyleModel",
            "_view_count": null,
            "_view_module": "@jupyter-widgets/base",
            "_view_module_version": "1.2.0",
            "_view_name": "StyleView",
            "bar_color": null,
            "description_width": ""
          }
        },
        "c360396427554a32a62faa9cacae7476": {
          "model_module": "@jupyter-widgets/base",
          "model_name": "LayoutModel",
          "model_module_version": "1.2.0",
          "state": {
            "_model_module": "@jupyter-widgets/base",
            "_model_module_version": "1.2.0",
            "_model_name": "LayoutModel",
            "_view_count": null,
            "_view_module": "@jupyter-widgets/base",
            "_view_module_version": "1.2.0",
            "_view_name": "LayoutView",
            "align_content": null,
            "align_items": null,
            "align_self": null,
            "border": null,
            "bottom": null,
            "display": null,
            "flex": null,
            "flex_flow": null,
            "grid_area": null,
            "grid_auto_columns": null,
            "grid_auto_flow": null,
            "grid_auto_rows": null,
            "grid_column": null,
            "grid_gap": null,
            "grid_row": null,
            "grid_template_areas": null,
            "grid_template_columns": null,
            "grid_template_rows": null,
            "height": null,
            "justify_content": null,
            "justify_items": null,
            "left": null,
            "margin": null,
            "max_height": null,
            "max_width": null,
            "min_height": null,
            "min_width": null,
            "object_fit": null,
            "object_position": null,
            "order": null,
            "overflow": null,
            "overflow_x": null,
            "overflow_y": null,
            "padding": null,
            "right": null,
            "top": null,
            "visibility": null,
            "width": null
          }
        },
        "a63d46dca156440799d1334dfbf22e35": {
          "model_module": "@jupyter-widgets/controls",
          "model_name": "DescriptionStyleModel",
          "model_module_version": "1.5.0",
          "state": {
            "_model_module": "@jupyter-widgets/controls",
            "_model_module_version": "1.5.0",
            "_model_name": "DescriptionStyleModel",
            "_view_count": null,
            "_view_module": "@jupyter-widgets/base",
            "_view_module_version": "1.2.0",
            "_view_name": "StyleView",
            "description_width": ""
          }
        },
        "981492bf06454136b72f23d99f073943": {
          "model_module": "@jupyter-widgets/controls",
          "model_name": "HBoxModel",
          "model_module_version": "1.5.0",
          "state": {
            "_dom_classes": [],
            "_model_module": "@jupyter-widgets/controls",
            "_model_module_version": "1.5.0",
            "_model_name": "HBoxModel",
            "_view_count": null,
            "_view_module": "@jupyter-widgets/controls",
            "_view_module_version": "1.5.0",
            "_view_name": "HBoxView",
            "box_style": "",
            "children": [
              "IPY_MODEL_0c17402b48bc4412b6c23e2d1eb8414b",
              "IPY_MODEL_4d780a0ad0d741c9a0d9a81c09c048f1",
              "IPY_MODEL_bb6da3a9a5da43dcabdf7e546fc3cdaf"
            ],
            "layout": "IPY_MODEL_8d804f65ff854e79a9d7dc850d8aaa1b"
          }
        },
        "0c17402b48bc4412b6c23e2d1eb8414b": {
          "model_module": "@jupyter-widgets/controls",
          "model_name": "HTMLModel",
          "model_module_version": "1.5.0",
          "state": {
            "_dom_classes": [],
            "_model_module": "@jupyter-widgets/controls",
            "_model_module_version": "1.5.0",
            "_model_name": "HTMLModel",
            "_view_count": null,
            "_view_module": "@jupyter-widgets/controls",
            "_view_module_version": "1.5.0",
            "_view_name": "HTMLView",
            "description": "",
            "description_tooltip": null,
            "layout": "IPY_MODEL_e33bcd1ccc694158a3e2a13a590b152f",
            "placeholder": "​",
            "style": "IPY_MODEL_12b0761c993c4ae8a569c70585afdd3a",
            "value": "Map: 100%"
          }
        },
        "4d780a0ad0d741c9a0d9a81c09c048f1": {
          "model_module": "@jupyter-widgets/controls",
          "model_name": "FloatProgressModel",
          "model_module_version": "1.5.0",
          "state": {
            "_dom_classes": [],
            "_model_module": "@jupyter-widgets/controls",
            "_model_module_version": "1.5.0",
            "_model_name": "FloatProgressModel",
            "_view_count": null,
            "_view_module": "@jupyter-widgets/controls",
            "_view_module_version": "1.5.0",
            "_view_name": "ProgressView",
            "bar_style": "success",
            "description": "",
            "description_tooltip": null,
            "layout": "IPY_MODEL_cd45492e6f1f4520845da7516eb63d2e",
            "max": 16978,
            "min": 0,
            "orientation": "horizontal",
            "style": "IPY_MODEL_0705eed0b4c946009f0e53e9a4b22b9b",
            "value": 16978
          }
        },
        "bb6da3a9a5da43dcabdf7e546fc3cdaf": {
          "model_module": "@jupyter-widgets/controls",
          "model_name": "HTMLModel",
          "model_module_version": "1.5.0",
          "state": {
            "_dom_classes": [],
            "_model_module": "@jupyter-widgets/controls",
            "_model_module_version": "1.5.0",
            "_model_name": "HTMLModel",
            "_view_count": null,
            "_view_module": "@jupyter-widgets/controls",
            "_view_module_version": "1.5.0",
            "_view_name": "HTMLView",
            "description": "",
            "description_tooltip": null,
            "layout": "IPY_MODEL_9173414552a5484a9382605d7b9b98db",
            "placeholder": "​",
            "style": "IPY_MODEL_4b2e4da10dd347db8807ba00e4e7b0f6",
            "value": " 16978/16978 [00:12&lt;00:00, 1342.17 examples/s]"
          }
        },
        "8d804f65ff854e79a9d7dc850d8aaa1b": {
          "model_module": "@jupyter-widgets/base",
          "model_name": "LayoutModel",
          "model_module_version": "1.2.0",
          "state": {
            "_model_module": "@jupyter-widgets/base",
            "_model_module_version": "1.2.0",
            "_model_name": "LayoutModel",
            "_view_count": null,
            "_view_module": "@jupyter-widgets/base",
            "_view_module_version": "1.2.0",
            "_view_name": "LayoutView",
            "align_content": null,
            "align_items": null,
            "align_self": null,
            "border": null,
            "bottom": null,
            "display": null,
            "flex": null,
            "flex_flow": null,
            "grid_area": null,
            "grid_auto_columns": null,
            "grid_auto_flow": null,
            "grid_auto_rows": null,
            "grid_column": null,
            "grid_gap": null,
            "grid_row": null,
            "grid_template_areas": null,
            "grid_template_columns": null,
            "grid_template_rows": null,
            "height": null,
            "justify_content": null,
            "justify_items": null,
            "left": null,
            "margin": null,
            "max_height": null,
            "max_width": null,
            "min_height": null,
            "min_width": null,
            "object_fit": null,
            "object_position": null,
            "order": null,
            "overflow": null,
            "overflow_x": null,
            "overflow_y": null,
            "padding": null,
            "right": null,
            "top": null,
            "visibility": null,
            "width": null
          }
        },
        "e33bcd1ccc694158a3e2a13a590b152f": {
          "model_module": "@jupyter-widgets/base",
          "model_name": "LayoutModel",
          "model_module_version": "1.2.0",
          "state": {
            "_model_module": "@jupyter-widgets/base",
            "_model_module_version": "1.2.0",
            "_model_name": "LayoutModel",
            "_view_count": null,
            "_view_module": "@jupyter-widgets/base",
            "_view_module_version": "1.2.0",
            "_view_name": "LayoutView",
            "align_content": null,
            "align_items": null,
            "align_self": null,
            "border": null,
            "bottom": null,
            "display": null,
            "flex": null,
            "flex_flow": null,
            "grid_area": null,
            "grid_auto_columns": null,
            "grid_auto_flow": null,
            "grid_auto_rows": null,
            "grid_column": null,
            "grid_gap": null,
            "grid_row": null,
            "grid_template_areas": null,
            "grid_template_columns": null,
            "grid_template_rows": null,
            "height": null,
            "justify_content": null,
            "justify_items": null,
            "left": null,
            "margin": null,
            "max_height": null,
            "max_width": null,
            "min_height": null,
            "min_width": null,
            "object_fit": null,
            "object_position": null,
            "order": null,
            "overflow": null,
            "overflow_x": null,
            "overflow_y": null,
            "padding": null,
            "right": null,
            "top": null,
            "visibility": null,
            "width": null
          }
        },
        "12b0761c993c4ae8a569c70585afdd3a": {
          "model_module": "@jupyter-widgets/controls",
          "model_name": "DescriptionStyleModel",
          "model_module_version": "1.5.0",
          "state": {
            "_model_module": "@jupyter-widgets/controls",
            "_model_module_version": "1.5.0",
            "_model_name": "DescriptionStyleModel",
            "_view_count": null,
            "_view_module": "@jupyter-widgets/base",
            "_view_module_version": "1.2.0",
            "_view_name": "StyleView",
            "description_width": ""
          }
        },
        "cd45492e6f1f4520845da7516eb63d2e": {
          "model_module": "@jupyter-widgets/base",
          "model_name": "LayoutModel",
          "model_module_version": "1.2.0",
          "state": {
            "_model_module": "@jupyter-widgets/base",
            "_model_module_version": "1.2.0",
            "_model_name": "LayoutModel",
            "_view_count": null,
            "_view_module": "@jupyter-widgets/base",
            "_view_module_version": "1.2.0",
            "_view_name": "LayoutView",
            "align_content": null,
            "align_items": null,
            "align_self": null,
            "border": null,
            "bottom": null,
            "display": null,
            "flex": null,
            "flex_flow": null,
            "grid_area": null,
            "grid_auto_columns": null,
            "grid_auto_flow": null,
            "grid_auto_rows": null,
            "grid_column": null,
            "grid_gap": null,
            "grid_row": null,
            "grid_template_areas": null,
            "grid_template_columns": null,
            "grid_template_rows": null,
            "height": null,
            "justify_content": null,
            "justify_items": null,
            "left": null,
            "margin": null,
            "max_height": null,
            "max_width": null,
            "min_height": null,
            "min_width": null,
            "object_fit": null,
            "object_position": null,
            "order": null,
            "overflow": null,
            "overflow_x": null,
            "overflow_y": null,
            "padding": null,
            "right": null,
            "top": null,
            "visibility": null,
            "width": null
          }
        },
        "0705eed0b4c946009f0e53e9a4b22b9b": {
          "model_module": "@jupyter-widgets/controls",
          "model_name": "ProgressStyleModel",
          "model_module_version": "1.5.0",
          "state": {
            "_model_module": "@jupyter-widgets/controls",
            "_model_module_version": "1.5.0",
            "_model_name": "ProgressStyleModel",
            "_view_count": null,
            "_view_module": "@jupyter-widgets/base",
            "_view_module_version": "1.2.0",
            "_view_name": "StyleView",
            "bar_color": null,
            "description_width": ""
          }
        },
        "9173414552a5484a9382605d7b9b98db": {
          "model_module": "@jupyter-widgets/base",
          "model_name": "LayoutModel",
          "model_module_version": "1.2.0",
          "state": {
            "_model_module": "@jupyter-widgets/base",
            "_model_module_version": "1.2.0",
            "_model_name": "LayoutModel",
            "_view_count": null,
            "_view_module": "@jupyter-widgets/base",
            "_view_module_version": "1.2.0",
            "_view_name": "LayoutView",
            "align_content": null,
            "align_items": null,
            "align_self": null,
            "border": null,
            "bottom": null,
            "display": null,
            "flex": null,
            "flex_flow": null,
            "grid_area": null,
            "grid_auto_columns": null,
            "grid_auto_flow": null,
            "grid_auto_rows": null,
            "grid_column": null,
            "grid_gap": null,
            "grid_row": null,
            "grid_template_areas": null,
            "grid_template_columns": null,
            "grid_template_rows": null,
            "height": null,
            "justify_content": null,
            "justify_items": null,
            "left": null,
            "margin": null,
            "max_height": null,
            "max_width": null,
            "min_height": null,
            "min_width": null,
            "object_fit": null,
            "object_position": null,
            "order": null,
            "overflow": null,
            "overflow_x": null,
            "overflow_y": null,
            "padding": null,
            "right": null,
            "top": null,
            "visibility": null,
            "width": null
          }
        },
        "4b2e4da10dd347db8807ba00e4e7b0f6": {
          "model_module": "@jupyter-widgets/controls",
          "model_name": "DescriptionStyleModel",
          "model_module_version": "1.5.0",
          "state": {
            "_model_module": "@jupyter-widgets/controls",
            "_model_module_version": "1.5.0",
            "_model_name": "DescriptionStyleModel",
            "_view_count": null,
            "_view_module": "@jupyter-widgets/base",
            "_view_module_version": "1.2.0",
            "_view_name": "StyleView",
            "description_width": ""
          }
        },
        "64ad3f7d1e004b3f90c1dbf36dcc5e98": {
          "model_module": "@jupyter-widgets/controls",
          "model_name": "HBoxModel",
          "model_module_version": "1.5.0",
          "state": {
            "_dom_classes": [],
            "_model_module": "@jupyter-widgets/controls",
            "_model_module_version": "1.5.0",
            "_model_name": "HBoxModel",
            "_view_count": null,
            "_view_module": "@jupyter-widgets/controls",
            "_view_module_version": "1.5.0",
            "_view_name": "HBoxView",
            "box_style": "",
            "children": [
              "IPY_MODEL_fd1d4aa982e045cd8f8421eefebd4b7d",
              "IPY_MODEL_6f9a07a8dbc847ca94a937424c6929bf",
              "IPY_MODEL_a6e44a4cbada462990f86b30c148ebd8"
            ],
            "layout": "IPY_MODEL_9bd9566d700d47e29d4e84337b22e36b"
          }
        },
        "fd1d4aa982e045cd8f8421eefebd4b7d": {
          "model_module": "@jupyter-widgets/controls",
          "model_name": "HTMLModel",
          "model_module_version": "1.5.0",
          "state": {
            "_dom_classes": [],
            "_model_module": "@jupyter-widgets/controls",
            "_model_module_version": "1.5.0",
            "_model_name": "HTMLModel",
            "_view_count": null,
            "_view_module": "@jupyter-widgets/controls",
            "_view_module_version": "1.5.0",
            "_view_name": "HTMLView",
            "description": "",
            "description_tooltip": null,
            "layout": "IPY_MODEL_64e6cb6bf5d64798a82b2d318a6bb453",
            "placeholder": "​",
            "style": "IPY_MODEL_02b20b8ed98e4e2c840f8e095f2a04d2",
            "value": "Map: 100%"
          }
        },
        "6f9a07a8dbc847ca94a937424c6929bf": {
          "model_module": "@jupyter-widgets/controls",
          "model_name": "FloatProgressModel",
          "model_module_version": "1.5.0",
          "state": {
            "_dom_classes": [],
            "_model_module": "@jupyter-widgets/controls",
            "_model_module_version": "1.5.0",
            "_model_name": "FloatProgressModel",
            "_view_count": null,
            "_view_module": "@jupyter-widgets/controls",
            "_view_module_version": "1.5.0",
            "_view_name": "ProgressView",
            "bar_style": "success",
            "description": "",
            "description_tooltip": null,
            "layout": "IPY_MODEL_3c2a451a7fb048c0b674c14aae0005d2",
            "max": 4245,
            "min": 0,
            "orientation": "horizontal",
            "style": "IPY_MODEL_ade9ab444e2843a8ad2f128cbaf6611f",
            "value": 4245
          }
        },
        "a6e44a4cbada462990f86b30c148ebd8": {
          "model_module": "@jupyter-widgets/controls",
          "model_name": "HTMLModel",
          "model_module_version": "1.5.0",
          "state": {
            "_dom_classes": [],
            "_model_module": "@jupyter-widgets/controls",
            "_model_module_version": "1.5.0",
            "_model_name": "HTMLModel",
            "_view_count": null,
            "_view_module": "@jupyter-widgets/controls",
            "_view_module_version": "1.5.0",
            "_view_name": "HTMLView",
            "description": "",
            "description_tooltip": null,
            "layout": "IPY_MODEL_6b84ddab4b0846ffbfda2968891ebd59",
            "placeholder": "​",
            "style": "IPY_MODEL_ed300aa11cbc45f1b8e4279599d8d2fe",
            "value": " 4245/4245 [00:03&lt;00:00, 1370.02 examples/s]"
          }
        },
        "9bd9566d700d47e29d4e84337b22e36b": {
          "model_module": "@jupyter-widgets/base",
          "model_name": "LayoutModel",
          "model_module_version": "1.2.0",
          "state": {
            "_model_module": "@jupyter-widgets/base",
            "_model_module_version": "1.2.0",
            "_model_name": "LayoutModel",
            "_view_count": null,
            "_view_module": "@jupyter-widgets/base",
            "_view_module_version": "1.2.0",
            "_view_name": "LayoutView",
            "align_content": null,
            "align_items": null,
            "align_self": null,
            "border": null,
            "bottom": null,
            "display": null,
            "flex": null,
            "flex_flow": null,
            "grid_area": null,
            "grid_auto_columns": null,
            "grid_auto_flow": null,
            "grid_auto_rows": null,
            "grid_column": null,
            "grid_gap": null,
            "grid_row": null,
            "grid_template_areas": null,
            "grid_template_columns": null,
            "grid_template_rows": null,
            "height": null,
            "justify_content": null,
            "justify_items": null,
            "left": null,
            "margin": null,
            "max_height": null,
            "max_width": null,
            "min_height": null,
            "min_width": null,
            "object_fit": null,
            "object_position": null,
            "order": null,
            "overflow": null,
            "overflow_x": null,
            "overflow_y": null,
            "padding": null,
            "right": null,
            "top": null,
            "visibility": null,
            "width": null
          }
        },
        "64e6cb6bf5d64798a82b2d318a6bb453": {
          "model_module": "@jupyter-widgets/base",
          "model_name": "LayoutModel",
          "model_module_version": "1.2.0",
          "state": {
            "_model_module": "@jupyter-widgets/base",
            "_model_module_version": "1.2.0",
            "_model_name": "LayoutModel",
            "_view_count": null,
            "_view_module": "@jupyter-widgets/base",
            "_view_module_version": "1.2.0",
            "_view_name": "LayoutView",
            "align_content": null,
            "align_items": null,
            "align_self": null,
            "border": null,
            "bottom": null,
            "display": null,
            "flex": null,
            "flex_flow": null,
            "grid_area": null,
            "grid_auto_columns": null,
            "grid_auto_flow": null,
            "grid_auto_rows": null,
            "grid_column": null,
            "grid_gap": null,
            "grid_row": null,
            "grid_template_areas": null,
            "grid_template_columns": null,
            "grid_template_rows": null,
            "height": null,
            "justify_content": null,
            "justify_items": null,
            "left": null,
            "margin": null,
            "max_height": null,
            "max_width": null,
            "min_height": null,
            "min_width": null,
            "object_fit": null,
            "object_position": null,
            "order": null,
            "overflow": null,
            "overflow_x": null,
            "overflow_y": null,
            "padding": null,
            "right": null,
            "top": null,
            "visibility": null,
            "width": null
          }
        },
        "02b20b8ed98e4e2c840f8e095f2a04d2": {
          "model_module": "@jupyter-widgets/controls",
          "model_name": "DescriptionStyleModel",
          "model_module_version": "1.5.0",
          "state": {
            "_model_module": "@jupyter-widgets/controls",
            "_model_module_version": "1.5.0",
            "_model_name": "DescriptionStyleModel",
            "_view_count": null,
            "_view_module": "@jupyter-widgets/base",
            "_view_module_version": "1.2.0",
            "_view_name": "StyleView",
            "description_width": ""
          }
        },
        "3c2a451a7fb048c0b674c14aae0005d2": {
          "model_module": "@jupyter-widgets/base",
          "model_name": "LayoutModel",
          "model_module_version": "1.2.0",
          "state": {
            "_model_module": "@jupyter-widgets/base",
            "_model_module_version": "1.2.0",
            "_model_name": "LayoutModel",
            "_view_count": null,
            "_view_module": "@jupyter-widgets/base",
            "_view_module_version": "1.2.0",
            "_view_name": "LayoutView",
            "align_content": null,
            "align_items": null,
            "align_self": null,
            "border": null,
            "bottom": null,
            "display": null,
            "flex": null,
            "flex_flow": null,
            "grid_area": null,
            "grid_auto_columns": null,
            "grid_auto_flow": null,
            "grid_auto_rows": null,
            "grid_column": null,
            "grid_gap": null,
            "grid_row": null,
            "grid_template_areas": null,
            "grid_template_columns": null,
            "grid_template_rows": null,
            "height": null,
            "justify_content": null,
            "justify_items": null,
            "left": null,
            "margin": null,
            "max_height": null,
            "max_width": null,
            "min_height": null,
            "min_width": null,
            "object_fit": null,
            "object_position": null,
            "order": null,
            "overflow": null,
            "overflow_x": null,
            "overflow_y": null,
            "padding": null,
            "right": null,
            "top": null,
            "visibility": null,
            "width": null
          }
        },
        "ade9ab444e2843a8ad2f128cbaf6611f": {
          "model_module": "@jupyter-widgets/controls",
          "model_name": "ProgressStyleModel",
          "model_module_version": "1.5.0",
          "state": {
            "_model_module": "@jupyter-widgets/controls",
            "_model_module_version": "1.5.0",
            "_model_name": "ProgressStyleModel",
            "_view_count": null,
            "_view_module": "@jupyter-widgets/base",
            "_view_module_version": "1.2.0",
            "_view_name": "StyleView",
            "bar_color": null,
            "description_width": ""
          }
        },
        "6b84ddab4b0846ffbfda2968891ebd59": {
          "model_module": "@jupyter-widgets/base",
          "model_name": "LayoutModel",
          "model_module_version": "1.2.0",
          "state": {
            "_model_module": "@jupyter-widgets/base",
            "_model_module_version": "1.2.0",
            "_model_name": "LayoutModel",
            "_view_count": null,
            "_view_module": "@jupyter-widgets/base",
            "_view_module_version": "1.2.0",
            "_view_name": "LayoutView",
            "align_content": null,
            "align_items": null,
            "align_self": null,
            "border": null,
            "bottom": null,
            "display": null,
            "flex": null,
            "flex_flow": null,
            "grid_area": null,
            "grid_auto_columns": null,
            "grid_auto_flow": null,
            "grid_auto_rows": null,
            "grid_column": null,
            "grid_gap": null,
            "grid_row": null,
            "grid_template_areas": null,
            "grid_template_columns": null,
            "grid_template_rows": null,
            "height": null,
            "justify_content": null,
            "justify_items": null,
            "left": null,
            "margin": null,
            "max_height": null,
            "max_width": null,
            "min_height": null,
            "min_width": null,
            "object_fit": null,
            "object_position": null,
            "order": null,
            "overflow": null,
            "overflow_x": null,
            "overflow_y": null,
            "padding": null,
            "right": null,
            "top": null,
            "visibility": null,
            "width": null
          }
        },
        "ed300aa11cbc45f1b8e4279599d8d2fe": {
          "model_module": "@jupyter-widgets/controls",
          "model_name": "DescriptionStyleModel",
          "model_module_version": "1.5.0",
          "state": {
            "_model_module": "@jupyter-widgets/controls",
            "_model_module_version": "1.5.0",
            "_model_name": "DescriptionStyleModel",
            "_view_count": null,
            "_view_module": "@jupyter-widgets/base",
            "_view_module_version": "1.2.0",
            "_view_name": "StyleView",
            "description_width": ""
          }
        },
        "eacaf08f14974b8296d92c22afa11c7d": {
          "model_module": "@jupyter-widgets/controls",
          "model_name": "HBoxModel",
          "model_module_version": "1.5.0",
          "state": {
            "_dom_classes": [],
            "_model_module": "@jupyter-widgets/controls",
            "_model_module_version": "1.5.0",
            "_model_name": "HBoxModel",
            "_view_count": null,
            "_view_module": "@jupyter-widgets/controls",
            "_view_module_version": "1.5.0",
            "_view_name": "HBoxView",
            "box_style": "",
            "children": [
              "IPY_MODEL_9195a104a9eb42119161b38bc5c67da2",
              "IPY_MODEL_c544bde2d44d4df7bb66e6cd83b347ae",
              "IPY_MODEL_eeaa5a487d694424babbadb025cdd39e"
            ],
            "layout": "IPY_MODEL_a59aa52679db48419b9ca0683d39cab4"
          }
        },
        "9195a104a9eb42119161b38bc5c67da2": {
          "model_module": "@jupyter-widgets/controls",
          "model_name": "HTMLModel",
          "model_module_version": "1.5.0",
          "state": {
            "_dom_classes": [],
            "_model_module": "@jupyter-widgets/controls",
            "_model_module_version": "1.5.0",
            "_model_name": "HTMLModel",
            "_view_count": null,
            "_view_module": "@jupyter-widgets/controls",
            "_view_module_version": "1.5.0",
            "_view_name": "HTMLView",
            "description": "",
            "description_tooltip": null,
            "layout": "IPY_MODEL_01427869120f45e3b7646b802e647a4b",
            "placeholder": "​",
            "style": "IPY_MODEL_52f74e23a7b74d23af533333ab39d1e9",
            "value": "Downloading builder script: "
          }
        },
        "c544bde2d44d4df7bb66e6cd83b347ae": {
          "model_module": "@jupyter-widgets/controls",
          "model_name": "FloatProgressModel",
          "model_module_version": "1.5.0",
          "state": {
            "_dom_classes": [],
            "_model_module": "@jupyter-widgets/controls",
            "_model_module_version": "1.5.0",
            "_model_name": "FloatProgressModel",
            "_view_count": null,
            "_view_module": "@jupyter-widgets/controls",
            "_view_module_version": "1.5.0",
            "_view_name": "ProgressView",
            "bar_style": "success",
            "description": "",
            "description_tooltip": null,
            "layout": "IPY_MODEL_0749530f4ee54251b8500220293498be",
            "max": 2169,
            "min": 0,
            "orientation": "horizontal",
            "style": "IPY_MODEL_d2c7e35047684035ac790f6adb306c71",
            "value": 2169
          }
        },
        "eeaa5a487d694424babbadb025cdd39e": {
          "model_module": "@jupyter-widgets/controls",
          "model_name": "HTMLModel",
          "model_module_version": "1.5.0",
          "state": {
            "_dom_classes": [],
            "_model_module": "@jupyter-widgets/controls",
            "_model_module_version": "1.5.0",
            "_model_name": "HTMLModel",
            "_view_count": null,
            "_view_module": "@jupyter-widgets/controls",
            "_view_module_version": "1.5.0",
            "_view_name": "HTMLView",
            "description": "",
            "description_tooltip": null,
            "layout": "IPY_MODEL_8c64d97270fd4761b15aef165622988c",
            "placeholder": "​",
            "style": "IPY_MODEL_670ff8083eeb4e3c91978c8731402d33",
            "value": " 5.65k/? [00:00&lt;00:00, 479kB/s]"
          }
        },
        "a59aa52679db48419b9ca0683d39cab4": {
          "model_module": "@jupyter-widgets/base",
          "model_name": "LayoutModel",
          "model_module_version": "1.2.0",
          "state": {
            "_model_module": "@jupyter-widgets/base",
            "_model_module_version": "1.2.0",
            "_model_name": "LayoutModel",
            "_view_count": null,
            "_view_module": "@jupyter-widgets/base",
            "_view_module_version": "1.2.0",
            "_view_name": "LayoutView",
            "align_content": null,
            "align_items": null,
            "align_self": null,
            "border": null,
            "bottom": null,
            "display": null,
            "flex": null,
            "flex_flow": null,
            "grid_area": null,
            "grid_auto_columns": null,
            "grid_auto_flow": null,
            "grid_auto_rows": null,
            "grid_column": null,
            "grid_gap": null,
            "grid_row": null,
            "grid_template_areas": null,
            "grid_template_columns": null,
            "grid_template_rows": null,
            "height": null,
            "justify_content": null,
            "justify_items": null,
            "left": null,
            "margin": null,
            "max_height": null,
            "max_width": null,
            "min_height": null,
            "min_width": null,
            "object_fit": null,
            "object_position": null,
            "order": null,
            "overflow": null,
            "overflow_x": null,
            "overflow_y": null,
            "padding": null,
            "right": null,
            "top": null,
            "visibility": null,
            "width": null
          }
        },
        "01427869120f45e3b7646b802e647a4b": {
          "model_module": "@jupyter-widgets/base",
          "model_name": "LayoutModel",
          "model_module_version": "1.2.0",
          "state": {
            "_model_module": "@jupyter-widgets/base",
            "_model_module_version": "1.2.0",
            "_model_name": "LayoutModel",
            "_view_count": null,
            "_view_module": "@jupyter-widgets/base",
            "_view_module_version": "1.2.0",
            "_view_name": "LayoutView",
            "align_content": null,
            "align_items": null,
            "align_self": null,
            "border": null,
            "bottom": null,
            "display": null,
            "flex": null,
            "flex_flow": null,
            "grid_area": null,
            "grid_auto_columns": null,
            "grid_auto_flow": null,
            "grid_auto_rows": null,
            "grid_column": null,
            "grid_gap": null,
            "grid_row": null,
            "grid_template_areas": null,
            "grid_template_columns": null,
            "grid_template_rows": null,
            "height": null,
            "justify_content": null,
            "justify_items": null,
            "left": null,
            "margin": null,
            "max_height": null,
            "max_width": null,
            "min_height": null,
            "min_width": null,
            "object_fit": null,
            "object_position": null,
            "order": null,
            "overflow": null,
            "overflow_x": null,
            "overflow_y": null,
            "padding": null,
            "right": null,
            "top": null,
            "visibility": null,
            "width": null
          }
        },
        "52f74e23a7b74d23af533333ab39d1e9": {
          "model_module": "@jupyter-widgets/controls",
          "model_name": "DescriptionStyleModel",
          "model_module_version": "1.5.0",
          "state": {
            "_model_module": "@jupyter-widgets/controls",
            "_model_module_version": "1.5.0",
            "_model_name": "DescriptionStyleModel",
            "_view_count": null,
            "_view_module": "@jupyter-widgets/base",
            "_view_module_version": "1.2.0",
            "_view_name": "StyleView",
            "description_width": ""
          }
        },
        "0749530f4ee54251b8500220293498be": {
          "model_module": "@jupyter-widgets/base",
          "model_name": "LayoutModel",
          "model_module_version": "1.2.0",
          "state": {
            "_model_module": "@jupyter-widgets/base",
            "_model_module_version": "1.2.0",
            "_model_name": "LayoutModel",
            "_view_count": null,
            "_view_module": "@jupyter-widgets/base",
            "_view_module_version": "1.2.0",
            "_view_name": "LayoutView",
            "align_content": null,
            "align_items": null,
            "align_self": null,
            "border": null,
            "bottom": null,
            "display": null,
            "flex": null,
            "flex_flow": null,
            "grid_area": null,
            "grid_auto_columns": null,
            "grid_auto_flow": null,
            "grid_auto_rows": null,
            "grid_column": null,
            "grid_gap": null,
            "grid_row": null,
            "grid_template_areas": null,
            "grid_template_columns": null,
            "grid_template_rows": null,
            "height": null,
            "justify_content": null,
            "justify_items": null,
            "left": null,
            "margin": null,
            "max_height": null,
            "max_width": null,
            "min_height": null,
            "min_width": null,
            "object_fit": null,
            "object_position": null,
            "order": null,
            "overflow": null,
            "overflow_x": null,
            "overflow_y": null,
            "padding": null,
            "right": null,
            "top": null,
            "visibility": null,
            "width": null
          }
        },
        "d2c7e35047684035ac790f6adb306c71": {
          "model_module": "@jupyter-widgets/controls",
          "model_name": "ProgressStyleModel",
          "model_module_version": "1.5.0",
          "state": {
            "_model_module": "@jupyter-widgets/controls",
            "_model_module_version": "1.5.0",
            "_model_name": "ProgressStyleModel",
            "_view_count": null,
            "_view_module": "@jupyter-widgets/base",
            "_view_module_version": "1.2.0",
            "_view_name": "StyleView",
            "bar_color": null,
            "description_width": ""
          }
        },
        "8c64d97270fd4761b15aef165622988c": {
          "model_module": "@jupyter-widgets/base",
          "model_name": "LayoutModel",
          "model_module_version": "1.2.0",
          "state": {
            "_model_module": "@jupyter-widgets/base",
            "_model_module_version": "1.2.0",
            "_model_name": "LayoutModel",
            "_view_count": null,
            "_view_module": "@jupyter-widgets/base",
            "_view_module_version": "1.2.0",
            "_view_name": "LayoutView",
            "align_content": null,
            "align_items": null,
            "align_self": null,
            "border": null,
            "bottom": null,
            "display": null,
            "flex": null,
            "flex_flow": null,
            "grid_area": null,
            "grid_auto_columns": null,
            "grid_auto_flow": null,
            "grid_auto_rows": null,
            "grid_column": null,
            "grid_gap": null,
            "grid_row": null,
            "grid_template_areas": null,
            "grid_template_columns": null,
            "grid_template_rows": null,
            "height": null,
            "justify_content": null,
            "justify_items": null,
            "left": null,
            "margin": null,
            "max_height": null,
            "max_width": null,
            "min_height": null,
            "min_width": null,
            "object_fit": null,
            "object_position": null,
            "order": null,
            "overflow": null,
            "overflow_x": null,
            "overflow_y": null,
            "padding": null,
            "right": null,
            "top": null,
            "visibility": null,
            "width": null
          }
        },
        "670ff8083eeb4e3c91978c8731402d33": {
          "model_module": "@jupyter-widgets/controls",
          "model_name": "DescriptionStyleModel",
          "model_module_version": "1.5.0",
          "state": {
            "_model_module": "@jupyter-widgets/controls",
            "_model_module_version": "1.5.0",
            "_model_name": "DescriptionStyleModel",
            "_view_count": null,
            "_view_module": "@jupyter-widgets/base",
            "_view_module_version": "1.2.0",
            "_view_name": "StyleView",
            "description_width": ""
          }
        },
        "9f4e54e2bbdf45a1b574d330c580ffe1": {
          "model_module": "@jupyter-widgets/controls",
          "model_name": "HBoxModel",
          "model_module_version": "1.5.0",
          "state": {
            "_dom_classes": [],
            "_model_module": "@jupyter-widgets/controls",
            "_model_module_version": "1.5.0",
            "_model_name": "HBoxModel",
            "_view_count": null,
            "_view_module": "@jupyter-widgets/controls",
            "_view_module_version": "1.5.0",
            "_view_name": "HBoxView",
            "box_style": "",
            "children": [
              "IPY_MODEL_568909bba01647ec86f4fde4bfb86c8b",
              "IPY_MODEL_6ded40b9e18447498eebf999f5f031ea",
              "IPY_MODEL_9e3385acae0b43d6bd08e9fbf9753dac"
            ],
            "layout": "IPY_MODEL_476ea99a9d6a4fd1b952e8b350fa8183"
          }
        },
        "568909bba01647ec86f4fde4bfb86c8b": {
          "model_module": "@jupyter-widgets/controls",
          "model_name": "HTMLModel",
          "model_module_version": "1.5.0",
          "state": {
            "_dom_classes": [],
            "_model_module": "@jupyter-widgets/controls",
            "_model_module_version": "1.5.0",
            "_model_name": "HTMLModel",
            "_view_count": null,
            "_view_module": "@jupyter-widgets/controls",
            "_view_module_version": "1.5.0",
            "_view_name": "HTMLView",
            "description": "",
            "description_tooltip": null,
            "layout": "IPY_MODEL_4ff6774ab7aa4de4aabaabc69be73ab5",
            "placeholder": "​",
            "style": "IPY_MODEL_1d03e3812f7547a583be4ad96438a142",
            "value": "Downloading builder script: "
          }
        },
        "6ded40b9e18447498eebf999f5f031ea": {
          "model_module": "@jupyter-widgets/controls",
          "model_name": "FloatProgressModel",
          "model_module_version": "1.5.0",
          "state": {
            "_dom_classes": [],
            "_model_module": "@jupyter-widgets/controls",
            "_model_module_version": "1.5.0",
            "_model_name": "FloatProgressModel",
            "_view_count": null,
            "_view_module": "@jupyter-widgets/controls",
            "_view_module_version": "1.5.0",
            "_view_name": "ProgressView",
            "bar_style": "success",
            "description": "",
            "description_tooltip": null,
            "layout": "IPY_MODEL_266c5be192d64a5ea81ac73a30e7268e",
            "max": 2922,
            "min": 0,
            "orientation": "horizontal",
            "style": "IPY_MODEL_562bb288e9fb4e1ca41dc0a1592729c5",
            "value": 2922
          }
        },
        "9e3385acae0b43d6bd08e9fbf9753dac": {
          "model_module": "@jupyter-widgets/controls",
          "model_name": "HTMLModel",
          "model_module_version": "1.5.0",
          "state": {
            "_dom_classes": [],
            "_model_module": "@jupyter-widgets/controls",
            "_model_module_version": "1.5.0",
            "_model_name": "HTMLModel",
            "_view_count": null,
            "_view_module": "@jupyter-widgets/controls",
            "_view_module_version": "1.5.0",
            "_view_name": "HTMLView",
            "description": "",
            "description_tooltip": null,
            "layout": "IPY_MODEL_a3875031346a451db0c72d7669d6ecf7",
            "placeholder": "​",
            "style": "IPY_MODEL_2bfbfb26f3084b42bb9ac98d6efee867",
            "value": " 8.10k/? [00:00&lt;00:00, 647kB/s]"
          }
        },
        "476ea99a9d6a4fd1b952e8b350fa8183": {
          "model_module": "@jupyter-widgets/base",
          "model_name": "LayoutModel",
          "model_module_version": "1.2.0",
          "state": {
            "_model_module": "@jupyter-widgets/base",
            "_model_module_version": "1.2.0",
            "_model_name": "LayoutModel",
            "_view_count": null,
            "_view_module": "@jupyter-widgets/base",
            "_view_module_version": "1.2.0",
            "_view_name": "LayoutView",
            "align_content": null,
            "align_items": null,
            "align_self": null,
            "border": null,
            "bottom": null,
            "display": null,
            "flex": null,
            "flex_flow": null,
            "grid_area": null,
            "grid_auto_columns": null,
            "grid_auto_flow": null,
            "grid_auto_rows": null,
            "grid_column": null,
            "grid_gap": null,
            "grid_row": null,
            "grid_template_areas": null,
            "grid_template_columns": null,
            "grid_template_rows": null,
            "height": null,
            "justify_content": null,
            "justify_items": null,
            "left": null,
            "margin": null,
            "max_height": null,
            "max_width": null,
            "min_height": null,
            "min_width": null,
            "object_fit": null,
            "object_position": null,
            "order": null,
            "overflow": null,
            "overflow_x": null,
            "overflow_y": null,
            "padding": null,
            "right": null,
            "top": null,
            "visibility": null,
            "width": null
          }
        },
        "4ff6774ab7aa4de4aabaabc69be73ab5": {
          "model_module": "@jupyter-widgets/base",
          "model_name": "LayoutModel",
          "model_module_version": "1.2.0",
          "state": {
            "_model_module": "@jupyter-widgets/base",
            "_model_module_version": "1.2.0",
            "_model_name": "LayoutModel",
            "_view_count": null,
            "_view_module": "@jupyter-widgets/base",
            "_view_module_version": "1.2.0",
            "_view_name": "LayoutView",
            "align_content": null,
            "align_items": null,
            "align_self": null,
            "border": null,
            "bottom": null,
            "display": null,
            "flex": null,
            "flex_flow": null,
            "grid_area": null,
            "grid_auto_columns": null,
            "grid_auto_flow": null,
            "grid_auto_rows": null,
            "grid_column": null,
            "grid_gap": null,
            "grid_row": null,
            "grid_template_areas": null,
            "grid_template_columns": null,
            "grid_template_rows": null,
            "height": null,
            "justify_content": null,
            "justify_items": null,
            "left": null,
            "margin": null,
            "max_height": null,
            "max_width": null,
            "min_height": null,
            "min_width": null,
            "object_fit": null,
            "object_position": null,
            "order": null,
            "overflow": null,
            "overflow_x": null,
            "overflow_y": null,
            "padding": null,
            "right": null,
            "top": null,
            "visibility": null,
            "width": null
          }
        },
        "1d03e3812f7547a583be4ad96438a142": {
          "model_module": "@jupyter-widgets/controls",
          "model_name": "DescriptionStyleModel",
          "model_module_version": "1.5.0",
          "state": {
            "_model_module": "@jupyter-widgets/controls",
            "_model_module_version": "1.5.0",
            "_model_name": "DescriptionStyleModel",
            "_view_count": null,
            "_view_module": "@jupyter-widgets/base",
            "_view_module_version": "1.2.0",
            "_view_name": "StyleView",
            "description_width": ""
          }
        },
        "266c5be192d64a5ea81ac73a30e7268e": {
          "model_module": "@jupyter-widgets/base",
          "model_name": "LayoutModel",
          "model_module_version": "1.2.0",
          "state": {
            "_model_module": "@jupyter-widgets/base",
            "_model_module_version": "1.2.0",
            "_model_name": "LayoutModel",
            "_view_count": null,
            "_view_module": "@jupyter-widgets/base",
            "_view_module_version": "1.2.0",
            "_view_name": "LayoutView",
            "align_content": null,
            "align_items": null,
            "align_self": null,
            "border": null,
            "bottom": null,
            "display": null,
            "flex": null,
            "flex_flow": null,
            "grid_area": null,
            "grid_auto_columns": null,
            "grid_auto_flow": null,
            "grid_auto_rows": null,
            "grid_column": null,
            "grid_gap": null,
            "grid_row": null,
            "grid_template_areas": null,
            "grid_template_columns": null,
            "grid_template_rows": null,
            "height": null,
            "justify_content": null,
            "justify_items": null,
            "left": null,
            "margin": null,
            "max_height": null,
            "max_width": null,
            "min_height": null,
            "min_width": null,
            "object_fit": null,
            "object_position": null,
            "order": null,
            "overflow": null,
            "overflow_x": null,
            "overflow_y": null,
            "padding": null,
            "right": null,
            "top": null,
            "visibility": null,
            "width": null
          }
        },
        "562bb288e9fb4e1ca41dc0a1592729c5": {
          "model_module": "@jupyter-widgets/controls",
          "model_name": "ProgressStyleModel",
          "model_module_version": "1.5.0",
          "state": {
            "_model_module": "@jupyter-widgets/controls",
            "_model_module_version": "1.5.0",
            "_model_name": "ProgressStyleModel",
            "_view_count": null,
            "_view_module": "@jupyter-widgets/base",
            "_view_module_version": "1.2.0",
            "_view_name": "StyleView",
            "bar_color": null,
            "description_width": ""
          }
        },
        "a3875031346a451db0c72d7669d6ecf7": {
          "model_module": "@jupyter-widgets/base",
          "model_name": "LayoutModel",
          "model_module_version": "1.2.0",
          "state": {
            "_model_module": "@jupyter-widgets/base",
            "_model_module_version": "1.2.0",
            "_model_name": "LayoutModel",
            "_view_count": null,
            "_view_module": "@jupyter-widgets/base",
            "_view_module_version": "1.2.0",
            "_view_name": "LayoutView",
            "align_content": null,
            "align_items": null,
            "align_self": null,
            "border": null,
            "bottom": null,
            "display": null,
            "flex": null,
            "flex_flow": null,
            "grid_area": null,
            "grid_auto_columns": null,
            "grid_auto_flow": null,
            "grid_auto_rows": null,
            "grid_column": null,
            "grid_gap": null,
            "grid_row": null,
            "grid_template_areas": null,
            "grid_template_columns": null,
            "grid_template_rows": null,
            "height": null,
            "justify_content": null,
            "justify_items": null,
            "left": null,
            "margin": null,
            "max_height": null,
            "max_width": null,
            "min_height": null,
            "min_width": null,
            "object_fit": null,
            "object_position": null,
            "order": null,
            "overflow": null,
            "overflow_x": null,
            "overflow_y": null,
            "padding": null,
            "right": null,
            "top": null,
            "visibility": null,
            "width": null
          }
        },
        "2bfbfb26f3084b42bb9ac98d6efee867": {
          "model_module": "@jupyter-widgets/controls",
          "model_name": "DescriptionStyleModel",
          "model_module_version": "1.5.0",
          "state": {
            "_model_module": "@jupyter-widgets/controls",
            "_model_module_version": "1.5.0",
            "_model_name": "DescriptionStyleModel",
            "_view_count": null,
            "_view_module": "@jupyter-widgets/base",
            "_view_module_version": "1.2.0",
            "_view_name": "StyleView",
            "description_width": ""
          }
        },
        "a94468491d484089bb694bdf1cde875c": {
          "model_module": "@jupyter-widgets/controls",
          "model_name": "HBoxModel",
          "model_module_version": "1.5.0",
          "state": {
            "_dom_classes": [],
            "_model_module": "@jupyter-widgets/controls",
            "_model_module_version": "1.5.0",
            "_model_name": "HBoxModel",
            "_view_count": null,
            "_view_module": "@jupyter-widgets/controls",
            "_view_module_version": "1.5.0",
            "_view_name": "HBoxView",
            "box_style": "",
            "children": [
              "IPY_MODEL_3c16cce476df41bcb730572679295b9f",
              "IPY_MODEL_976287c797f644b482a3a98b6f1cb57c",
              "IPY_MODEL_66d737c799864da197aec3bf4fd8fe6c"
            ],
            "layout": "IPY_MODEL_a1f911330caf4da3b6ecb38e9c47d4a8"
          }
        },
        "3c16cce476df41bcb730572679295b9f": {
          "model_module": "@jupyter-widgets/controls",
          "model_name": "HTMLModel",
          "model_module_version": "1.5.0",
          "state": {
            "_dom_classes": [],
            "_model_module": "@jupyter-widgets/controls",
            "_model_module_version": "1.5.0",
            "_model_name": "HTMLModel",
            "_view_count": null,
            "_view_module": "@jupyter-widgets/controls",
            "_view_module_version": "1.5.0",
            "_view_name": "HTMLView",
            "description": "",
            "description_tooltip": null,
            "layout": "IPY_MODEL_9aa3862c9917499e99beb0480229b346",
            "placeholder": "​",
            "style": "IPY_MODEL_e600007f80ea412ebef6789e17e49371",
            "value": "tokenizer_config.json: 100%"
          }
        },
        "976287c797f644b482a3a98b6f1cb57c": {
          "model_module": "@jupyter-widgets/controls",
          "model_name": "FloatProgressModel",
          "model_module_version": "1.5.0",
          "state": {
            "_dom_classes": [],
            "_model_module": "@jupyter-widgets/controls",
            "_model_module_version": "1.5.0",
            "_model_name": "FloatProgressModel",
            "_view_count": null,
            "_view_module": "@jupyter-widgets/controls",
            "_view_module_version": "1.5.0",
            "_view_name": "ProgressView",
            "bar_style": "success",
            "description": "",
            "description_tooltip": null,
            "layout": "IPY_MODEL_a38f24b5f93e4d36a3eba9381e86a76c",
            "max": 49,
            "min": 0,
            "orientation": "horizontal",
            "style": "IPY_MODEL_9b99a933a492451e94da2da093a2acdd",
            "value": 49
          }
        },
        "66d737c799864da197aec3bf4fd8fe6c": {
          "model_module": "@jupyter-widgets/controls",
          "model_name": "HTMLModel",
          "model_module_version": "1.5.0",
          "state": {
            "_dom_classes": [],
            "_model_module": "@jupyter-widgets/controls",
            "_model_module_version": "1.5.0",
            "_model_name": "HTMLModel",
            "_view_count": null,
            "_view_module": "@jupyter-widgets/controls",
            "_view_module_version": "1.5.0",
            "_view_name": "HTMLView",
            "description": "",
            "description_tooltip": null,
            "layout": "IPY_MODEL_95bd3a9c7feb4746b49b8b750cc84409",
            "placeholder": "​",
            "style": "IPY_MODEL_d3aec0a0411846cda04503cc96f56515",
            "value": " 49.0/49.0 [00:00&lt;00:00, 4.57kB/s]"
          }
        },
        "a1f911330caf4da3b6ecb38e9c47d4a8": {
          "model_module": "@jupyter-widgets/base",
          "model_name": "LayoutModel",
          "model_module_version": "1.2.0",
          "state": {
            "_model_module": "@jupyter-widgets/base",
            "_model_module_version": "1.2.0",
            "_model_name": "LayoutModel",
            "_view_count": null,
            "_view_module": "@jupyter-widgets/base",
            "_view_module_version": "1.2.0",
            "_view_name": "LayoutView",
            "align_content": null,
            "align_items": null,
            "align_self": null,
            "border": null,
            "bottom": null,
            "display": null,
            "flex": null,
            "flex_flow": null,
            "grid_area": null,
            "grid_auto_columns": null,
            "grid_auto_flow": null,
            "grid_auto_rows": null,
            "grid_column": null,
            "grid_gap": null,
            "grid_row": null,
            "grid_template_areas": null,
            "grid_template_columns": null,
            "grid_template_rows": null,
            "height": null,
            "justify_content": null,
            "justify_items": null,
            "left": null,
            "margin": null,
            "max_height": null,
            "max_width": null,
            "min_height": null,
            "min_width": null,
            "object_fit": null,
            "object_position": null,
            "order": null,
            "overflow": null,
            "overflow_x": null,
            "overflow_y": null,
            "padding": null,
            "right": null,
            "top": null,
            "visibility": null,
            "width": null
          }
        },
        "9aa3862c9917499e99beb0480229b346": {
          "model_module": "@jupyter-widgets/base",
          "model_name": "LayoutModel",
          "model_module_version": "1.2.0",
          "state": {
            "_model_module": "@jupyter-widgets/base",
            "_model_module_version": "1.2.0",
            "_model_name": "LayoutModel",
            "_view_count": null,
            "_view_module": "@jupyter-widgets/base",
            "_view_module_version": "1.2.0",
            "_view_name": "LayoutView",
            "align_content": null,
            "align_items": null,
            "align_self": null,
            "border": null,
            "bottom": null,
            "display": null,
            "flex": null,
            "flex_flow": null,
            "grid_area": null,
            "grid_auto_columns": null,
            "grid_auto_flow": null,
            "grid_auto_rows": null,
            "grid_column": null,
            "grid_gap": null,
            "grid_row": null,
            "grid_template_areas": null,
            "grid_template_columns": null,
            "grid_template_rows": null,
            "height": null,
            "justify_content": null,
            "justify_items": null,
            "left": null,
            "margin": null,
            "max_height": null,
            "max_width": null,
            "min_height": null,
            "min_width": null,
            "object_fit": null,
            "object_position": null,
            "order": null,
            "overflow": null,
            "overflow_x": null,
            "overflow_y": null,
            "padding": null,
            "right": null,
            "top": null,
            "visibility": null,
            "width": null
          }
        },
        "e600007f80ea412ebef6789e17e49371": {
          "model_module": "@jupyter-widgets/controls",
          "model_name": "DescriptionStyleModel",
          "model_module_version": "1.5.0",
          "state": {
            "_model_module": "@jupyter-widgets/controls",
            "_model_module_version": "1.5.0",
            "_model_name": "DescriptionStyleModel",
            "_view_count": null,
            "_view_module": "@jupyter-widgets/base",
            "_view_module_version": "1.2.0",
            "_view_name": "StyleView",
            "description_width": ""
          }
        },
        "a38f24b5f93e4d36a3eba9381e86a76c": {
          "model_module": "@jupyter-widgets/base",
          "model_name": "LayoutModel",
          "model_module_version": "1.2.0",
          "state": {
            "_model_module": "@jupyter-widgets/base",
            "_model_module_version": "1.2.0",
            "_model_name": "LayoutModel",
            "_view_count": null,
            "_view_module": "@jupyter-widgets/base",
            "_view_module_version": "1.2.0",
            "_view_name": "LayoutView",
            "align_content": null,
            "align_items": null,
            "align_self": null,
            "border": null,
            "bottom": null,
            "display": null,
            "flex": null,
            "flex_flow": null,
            "grid_area": null,
            "grid_auto_columns": null,
            "grid_auto_flow": null,
            "grid_auto_rows": null,
            "grid_column": null,
            "grid_gap": null,
            "grid_row": null,
            "grid_template_areas": null,
            "grid_template_columns": null,
            "grid_template_rows": null,
            "height": null,
            "justify_content": null,
            "justify_items": null,
            "left": null,
            "margin": null,
            "max_height": null,
            "max_width": null,
            "min_height": null,
            "min_width": null,
            "object_fit": null,
            "object_position": null,
            "order": null,
            "overflow": null,
            "overflow_x": null,
            "overflow_y": null,
            "padding": null,
            "right": null,
            "top": null,
            "visibility": null,
            "width": null
          }
        },
        "9b99a933a492451e94da2da093a2acdd": {
          "model_module": "@jupyter-widgets/controls",
          "model_name": "ProgressStyleModel",
          "model_module_version": "1.5.0",
          "state": {
            "_model_module": "@jupyter-widgets/controls",
            "_model_module_version": "1.5.0",
            "_model_name": "ProgressStyleModel",
            "_view_count": null,
            "_view_module": "@jupyter-widgets/base",
            "_view_module_version": "1.2.0",
            "_view_name": "StyleView",
            "bar_color": null,
            "description_width": ""
          }
        },
        "95bd3a9c7feb4746b49b8b750cc84409": {
          "model_module": "@jupyter-widgets/base",
          "model_name": "LayoutModel",
          "model_module_version": "1.2.0",
          "state": {
            "_model_module": "@jupyter-widgets/base",
            "_model_module_version": "1.2.0",
            "_model_name": "LayoutModel",
            "_view_count": null,
            "_view_module": "@jupyter-widgets/base",
            "_view_module_version": "1.2.0",
            "_view_name": "LayoutView",
            "align_content": null,
            "align_items": null,
            "align_self": null,
            "border": null,
            "bottom": null,
            "display": null,
            "flex": null,
            "flex_flow": null,
            "grid_area": null,
            "grid_auto_columns": null,
            "grid_auto_flow": null,
            "grid_auto_rows": null,
            "grid_column": null,
            "grid_gap": null,
            "grid_row": null,
            "grid_template_areas": null,
            "grid_template_columns": null,
            "grid_template_rows": null,
            "height": null,
            "justify_content": null,
            "justify_items": null,
            "left": null,
            "margin": null,
            "max_height": null,
            "max_width": null,
            "min_height": null,
            "min_width": null,
            "object_fit": null,
            "object_position": null,
            "order": null,
            "overflow": null,
            "overflow_x": null,
            "overflow_y": null,
            "padding": null,
            "right": null,
            "top": null,
            "visibility": null,
            "width": null
          }
        },
        "d3aec0a0411846cda04503cc96f56515": {
          "model_module": "@jupyter-widgets/controls",
          "model_name": "DescriptionStyleModel",
          "model_module_version": "1.5.0",
          "state": {
            "_model_module": "@jupyter-widgets/controls",
            "_model_module_version": "1.5.0",
            "_model_name": "DescriptionStyleModel",
            "_view_count": null,
            "_view_module": "@jupyter-widgets/base",
            "_view_module_version": "1.2.0",
            "_view_name": "StyleView",
            "description_width": ""
          }
        },
        "e0a6829328e4429680cc4f52aa1e5131": {
          "model_module": "@jupyter-widgets/controls",
          "model_name": "HBoxModel",
          "model_module_version": "1.5.0",
          "state": {
            "_dom_classes": [],
            "_model_module": "@jupyter-widgets/controls",
            "_model_module_version": "1.5.0",
            "_model_name": "HBoxModel",
            "_view_count": null,
            "_view_module": "@jupyter-widgets/controls",
            "_view_module_version": "1.5.0",
            "_view_name": "HBoxView",
            "box_style": "",
            "children": [
              "IPY_MODEL_d87c2227c09143cf853ac1b31c78a6d4",
              "IPY_MODEL_ea97e5104fc045feb3c26eb0de4474dc",
              "IPY_MODEL_cb6e626794f143d383d2bed002d4012d"
            ],
            "layout": "IPY_MODEL_7b2b1d3c4f7b4ad489b277595a8be870"
          }
        },
        "d87c2227c09143cf853ac1b31c78a6d4": {
          "model_module": "@jupyter-widgets/controls",
          "model_name": "HTMLModel",
          "model_module_version": "1.5.0",
          "state": {
            "_dom_classes": [],
            "_model_module": "@jupyter-widgets/controls",
            "_model_module_version": "1.5.0",
            "_model_name": "HTMLModel",
            "_view_count": null,
            "_view_module": "@jupyter-widgets/controls",
            "_view_module_version": "1.5.0",
            "_view_name": "HTMLView",
            "description": "",
            "description_tooltip": null,
            "layout": "IPY_MODEL_ad688152b596415686fabade538404a0",
            "placeholder": "​",
            "style": "IPY_MODEL_1fe32f5183da4a30be0778e9f8b5ab61",
            "value": "config.json: 100%"
          }
        },
        "ea97e5104fc045feb3c26eb0de4474dc": {
          "model_module": "@jupyter-widgets/controls",
          "model_name": "FloatProgressModel",
          "model_module_version": "1.5.0",
          "state": {
            "_dom_classes": [],
            "_model_module": "@jupyter-widgets/controls",
            "_model_module_version": "1.5.0",
            "_model_name": "FloatProgressModel",
            "_view_count": null,
            "_view_module": "@jupyter-widgets/controls",
            "_view_module_version": "1.5.0",
            "_view_name": "ProgressView",
            "bar_style": "success",
            "description": "",
            "description_tooltip": null,
            "layout": "IPY_MODEL_4ba232fe460a4b3aabb2d4576b2b2434",
            "max": 625,
            "min": 0,
            "orientation": "horizontal",
            "style": "IPY_MODEL_6116812a64f34cbdad342c44e3cecd00",
            "value": 625
          }
        },
        "cb6e626794f143d383d2bed002d4012d": {
          "model_module": "@jupyter-widgets/controls",
          "model_name": "HTMLModel",
          "model_module_version": "1.5.0",
          "state": {
            "_dom_classes": [],
            "_model_module": "@jupyter-widgets/controls",
            "_model_module_version": "1.5.0",
            "_model_name": "HTMLModel",
            "_view_count": null,
            "_view_module": "@jupyter-widgets/controls",
            "_view_module_version": "1.5.0",
            "_view_name": "HTMLView",
            "description": "",
            "description_tooltip": null,
            "layout": "IPY_MODEL_ead2809594674ca5b8e0a778537e9cfd",
            "placeholder": "​",
            "style": "IPY_MODEL_e341607e204945eb88332fb5916f73bb",
            "value": " 625/625 [00:00&lt;00:00, 57.6kB/s]"
          }
        },
        "7b2b1d3c4f7b4ad489b277595a8be870": {
          "model_module": "@jupyter-widgets/base",
          "model_name": "LayoutModel",
          "model_module_version": "1.2.0",
          "state": {
            "_model_module": "@jupyter-widgets/base",
            "_model_module_version": "1.2.0",
            "_model_name": "LayoutModel",
            "_view_count": null,
            "_view_module": "@jupyter-widgets/base",
            "_view_module_version": "1.2.0",
            "_view_name": "LayoutView",
            "align_content": null,
            "align_items": null,
            "align_self": null,
            "border": null,
            "bottom": null,
            "display": null,
            "flex": null,
            "flex_flow": null,
            "grid_area": null,
            "grid_auto_columns": null,
            "grid_auto_flow": null,
            "grid_auto_rows": null,
            "grid_column": null,
            "grid_gap": null,
            "grid_row": null,
            "grid_template_areas": null,
            "grid_template_columns": null,
            "grid_template_rows": null,
            "height": null,
            "justify_content": null,
            "justify_items": null,
            "left": null,
            "margin": null,
            "max_height": null,
            "max_width": null,
            "min_height": null,
            "min_width": null,
            "object_fit": null,
            "object_position": null,
            "order": null,
            "overflow": null,
            "overflow_x": null,
            "overflow_y": null,
            "padding": null,
            "right": null,
            "top": null,
            "visibility": null,
            "width": null
          }
        },
        "ad688152b596415686fabade538404a0": {
          "model_module": "@jupyter-widgets/base",
          "model_name": "LayoutModel",
          "model_module_version": "1.2.0",
          "state": {
            "_model_module": "@jupyter-widgets/base",
            "_model_module_version": "1.2.0",
            "_model_name": "LayoutModel",
            "_view_count": null,
            "_view_module": "@jupyter-widgets/base",
            "_view_module_version": "1.2.0",
            "_view_name": "LayoutView",
            "align_content": null,
            "align_items": null,
            "align_self": null,
            "border": null,
            "bottom": null,
            "display": null,
            "flex": null,
            "flex_flow": null,
            "grid_area": null,
            "grid_auto_columns": null,
            "grid_auto_flow": null,
            "grid_auto_rows": null,
            "grid_column": null,
            "grid_gap": null,
            "grid_row": null,
            "grid_template_areas": null,
            "grid_template_columns": null,
            "grid_template_rows": null,
            "height": null,
            "justify_content": null,
            "justify_items": null,
            "left": null,
            "margin": null,
            "max_height": null,
            "max_width": null,
            "min_height": null,
            "min_width": null,
            "object_fit": null,
            "object_position": null,
            "order": null,
            "overflow": null,
            "overflow_x": null,
            "overflow_y": null,
            "padding": null,
            "right": null,
            "top": null,
            "visibility": null,
            "width": null
          }
        },
        "1fe32f5183da4a30be0778e9f8b5ab61": {
          "model_module": "@jupyter-widgets/controls",
          "model_name": "DescriptionStyleModel",
          "model_module_version": "1.5.0",
          "state": {
            "_model_module": "@jupyter-widgets/controls",
            "_model_module_version": "1.5.0",
            "_model_name": "DescriptionStyleModel",
            "_view_count": null,
            "_view_module": "@jupyter-widgets/base",
            "_view_module_version": "1.2.0",
            "_view_name": "StyleView",
            "description_width": ""
          }
        },
        "4ba232fe460a4b3aabb2d4576b2b2434": {
          "model_module": "@jupyter-widgets/base",
          "model_name": "LayoutModel",
          "model_module_version": "1.2.0",
          "state": {
            "_model_module": "@jupyter-widgets/base",
            "_model_module_version": "1.2.0",
            "_model_name": "LayoutModel",
            "_view_count": null,
            "_view_module": "@jupyter-widgets/base",
            "_view_module_version": "1.2.0",
            "_view_name": "LayoutView",
            "align_content": null,
            "align_items": null,
            "align_self": null,
            "border": null,
            "bottom": null,
            "display": null,
            "flex": null,
            "flex_flow": null,
            "grid_area": null,
            "grid_auto_columns": null,
            "grid_auto_flow": null,
            "grid_auto_rows": null,
            "grid_column": null,
            "grid_gap": null,
            "grid_row": null,
            "grid_template_areas": null,
            "grid_template_columns": null,
            "grid_template_rows": null,
            "height": null,
            "justify_content": null,
            "justify_items": null,
            "left": null,
            "margin": null,
            "max_height": null,
            "max_width": null,
            "min_height": null,
            "min_width": null,
            "object_fit": null,
            "object_position": null,
            "order": null,
            "overflow": null,
            "overflow_x": null,
            "overflow_y": null,
            "padding": null,
            "right": null,
            "top": null,
            "visibility": null,
            "width": null
          }
        },
        "6116812a64f34cbdad342c44e3cecd00": {
          "model_module": "@jupyter-widgets/controls",
          "model_name": "ProgressStyleModel",
          "model_module_version": "1.5.0",
          "state": {
            "_model_module": "@jupyter-widgets/controls",
            "_model_module_version": "1.5.0",
            "_model_name": "ProgressStyleModel",
            "_view_count": null,
            "_view_module": "@jupyter-widgets/base",
            "_view_module_version": "1.2.0",
            "_view_name": "StyleView",
            "bar_color": null,
            "description_width": ""
          }
        },
        "ead2809594674ca5b8e0a778537e9cfd": {
          "model_module": "@jupyter-widgets/base",
          "model_name": "LayoutModel",
          "model_module_version": "1.2.0",
          "state": {
            "_model_module": "@jupyter-widgets/base",
            "_model_module_version": "1.2.0",
            "_model_name": "LayoutModel",
            "_view_count": null,
            "_view_module": "@jupyter-widgets/base",
            "_view_module_version": "1.2.0",
            "_view_name": "LayoutView",
            "align_content": null,
            "align_items": null,
            "align_self": null,
            "border": null,
            "bottom": null,
            "display": null,
            "flex": null,
            "flex_flow": null,
            "grid_area": null,
            "grid_auto_columns": null,
            "grid_auto_flow": null,
            "grid_auto_rows": null,
            "grid_column": null,
            "grid_gap": null,
            "grid_row": null,
            "grid_template_areas": null,
            "grid_template_columns": null,
            "grid_template_rows": null,
            "height": null,
            "justify_content": null,
            "justify_items": null,
            "left": null,
            "margin": null,
            "max_height": null,
            "max_width": null,
            "min_height": null,
            "min_width": null,
            "object_fit": null,
            "object_position": null,
            "order": null,
            "overflow": null,
            "overflow_x": null,
            "overflow_y": null,
            "padding": null,
            "right": null,
            "top": null,
            "visibility": null,
            "width": null
          }
        },
        "e341607e204945eb88332fb5916f73bb": {
          "model_module": "@jupyter-widgets/controls",
          "model_name": "DescriptionStyleModel",
          "model_module_version": "1.5.0",
          "state": {
            "_model_module": "@jupyter-widgets/controls",
            "_model_module_version": "1.5.0",
            "_model_name": "DescriptionStyleModel",
            "_view_count": null,
            "_view_module": "@jupyter-widgets/base",
            "_view_module_version": "1.2.0",
            "_view_name": "StyleView",
            "description_width": ""
          }
        },
        "1eda3d48176f46c088086a8d29f2ef3e": {
          "model_module": "@jupyter-widgets/controls",
          "model_name": "HBoxModel",
          "model_module_version": "1.5.0",
          "state": {
            "_dom_classes": [],
            "_model_module": "@jupyter-widgets/controls",
            "_model_module_version": "1.5.0",
            "_model_name": "HBoxModel",
            "_view_count": null,
            "_view_module": "@jupyter-widgets/controls",
            "_view_module_version": "1.5.0",
            "_view_name": "HBoxView",
            "box_style": "",
            "children": [
              "IPY_MODEL_46f07bfb5ff24063b68a7273a4aa7302",
              "IPY_MODEL_093dc440afd84aa3a9f9385506462375",
              "IPY_MODEL_dc347c10494b44588cd08d539f732c41"
            ],
            "layout": "IPY_MODEL_587fc073635c4da4a8f0bd7a555021d5"
          }
        },
        "46f07bfb5ff24063b68a7273a4aa7302": {
          "model_module": "@jupyter-widgets/controls",
          "model_name": "HTMLModel",
          "model_module_version": "1.5.0",
          "state": {
            "_dom_classes": [],
            "_model_module": "@jupyter-widgets/controls",
            "_model_module_version": "1.5.0",
            "_model_name": "HTMLModel",
            "_view_count": null,
            "_view_module": "@jupyter-widgets/controls",
            "_view_module_version": "1.5.0",
            "_view_name": "HTMLView",
            "description": "",
            "description_tooltip": null,
            "layout": "IPY_MODEL_63acc799bc7741bcb6da04dcab251b33",
            "placeholder": "​",
            "style": "IPY_MODEL_bef1477bc2b240d2ba7c581eda1122b6",
            "value": "vocab.txt: 100%"
          }
        },
        "093dc440afd84aa3a9f9385506462375": {
          "model_module": "@jupyter-widgets/controls",
          "model_name": "FloatProgressModel",
          "model_module_version": "1.5.0",
          "state": {
            "_dom_classes": [],
            "_model_module": "@jupyter-widgets/controls",
            "_model_module_version": "1.5.0",
            "_model_name": "FloatProgressModel",
            "_view_count": null,
            "_view_module": "@jupyter-widgets/controls",
            "_view_module_version": "1.5.0",
            "_view_name": "ProgressView",
            "bar_style": "success",
            "description": "",
            "description_tooltip": null,
            "layout": "IPY_MODEL_915f327089454290b6f608043659b066",
            "max": 995526,
            "min": 0,
            "orientation": "horizontal",
            "style": "IPY_MODEL_d1bd84c54a294cd8a690e3538019a1de",
            "value": 995526
          }
        },
        "dc347c10494b44588cd08d539f732c41": {
          "model_module": "@jupyter-widgets/controls",
          "model_name": "HTMLModel",
          "model_module_version": "1.5.0",
          "state": {
            "_dom_classes": [],
            "_model_module": "@jupyter-widgets/controls",
            "_model_module_version": "1.5.0",
            "_model_name": "HTMLModel",
            "_view_count": null,
            "_view_module": "@jupyter-widgets/controls",
            "_view_module_version": "1.5.0",
            "_view_name": "HTMLView",
            "description": "",
            "description_tooltip": null,
            "layout": "IPY_MODEL_ee60a549f71246fab86fa705995fe35d",
            "placeholder": "​",
            "style": "IPY_MODEL_dbd68c9cbfd54e568c618b887c05d70b",
            "value": " 996k/996k [00:00&lt;00:00, 3.78MB/s]"
          }
        },
        "587fc073635c4da4a8f0bd7a555021d5": {
          "model_module": "@jupyter-widgets/base",
          "model_name": "LayoutModel",
          "model_module_version": "1.2.0",
          "state": {
            "_model_module": "@jupyter-widgets/base",
            "_model_module_version": "1.2.0",
            "_model_name": "LayoutModel",
            "_view_count": null,
            "_view_module": "@jupyter-widgets/base",
            "_view_module_version": "1.2.0",
            "_view_name": "LayoutView",
            "align_content": null,
            "align_items": null,
            "align_self": null,
            "border": null,
            "bottom": null,
            "display": null,
            "flex": null,
            "flex_flow": null,
            "grid_area": null,
            "grid_auto_columns": null,
            "grid_auto_flow": null,
            "grid_auto_rows": null,
            "grid_column": null,
            "grid_gap": null,
            "grid_row": null,
            "grid_template_areas": null,
            "grid_template_columns": null,
            "grid_template_rows": null,
            "height": null,
            "justify_content": null,
            "justify_items": null,
            "left": null,
            "margin": null,
            "max_height": null,
            "max_width": null,
            "min_height": null,
            "min_width": null,
            "object_fit": null,
            "object_position": null,
            "order": null,
            "overflow": null,
            "overflow_x": null,
            "overflow_y": null,
            "padding": null,
            "right": null,
            "top": null,
            "visibility": null,
            "width": null
          }
        },
        "63acc799bc7741bcb6da04dcab251b33": {
          "model_module": "@jupyter-widgets/base",
          "model_name": "LayoutModel",
          "model_module_version": "1.2.0",
          "state": {
            "_model_module": "@jupyter-widgets/base",
            "_model_module_version": "1.2.0",
            "_model_name": "LayoutModel",
            "_view_count": null,
            "_view_module": "@jupyter-widgets/base",
            "_view_module_version": "1.2.0",
            "_view_name": "LayoutView",
            "align_content": null,
            "align_items": null,
            "align_self": null,
            "border": null,
            "bottom": null,
            "display": null,
            "flex": null,
            "flex_flow": null,
            "grid_area": null,
            "grid_auto_columns": null,
            "grid_auto_flow": null,
            "grid_auto_rows": null,
            "grid_column": null,
            "grid_gap": null,
            "grid_row": null,
            "grid_template_areas": null,
            "grid_template_columns": null,
            "grid_template_rows": null,
            "height": null,
            "justify_content": null,
            "justify_items": null,
            "left": null,
            "margin": null,
            "max_height": null,
            "max_width": null,
            "min_height": null,
            "min_width": null,
            "object_fit": null,
            "object_position": null,
            "order": null,
            "overflow": null,
            "overflow_x": null,
            "overflow_y": null,
            "padding": null,
            "right": null,
            "top": null,
            "visibility": null,
            "width": null
          }
        },
        "bef1477bc2b240d2ba7c581eda1122b6": {
          "model_module": "@jupyter-widgets/controls",
          "model_name": "DescriptionStyleModel",
          "model_module_version": "1.5.0",
          "state": {
            "_model_module": "@jupyter-widgets/controls",
            "_model_module_version": "1.5.0",
            "_model_name": "DescriptionStyleModel",
            "_view_count": null,
            "_view_module": "@jupyter-widgets/base",
            "_view_module_version": "1.2.0",
            "_view_name": "StyleView",
            "description_width": ""
          }
        },
        "915f327089454290b6f608043659b066": {
          "model_module": "@jupyter-widgets/base",
          "model_name": "LayoutModel",
          "model_module_version": "1.2.0",
          "state": {
            "_model_module": "@jupyter-widgets/base",
            "_model_module_version": "1.2.0",
            "_model_name": "LayoutModel",
            "_view_count": null,
            "_view_module": "@jupyter-widgets/base",
            "_view_module_version": "1.2.0",
            "_view_name": "LayoutView",
            "align_content": null,
            "align_items": null,
            "align_self": null,
            "border": null,
            "bottom": null,
            "display": null,
            "flex": null,
            "flex_flow": null,
            "grid_area": null,
            "grid_auto_columns": null,
            "grid_auto_flow": null,
            "grid_auto_rows": null,
            "grid_column": null,
            "grid_gap": null,
            "grid_row": null,
            "grid_template_areas": null,
            "grid_template_columns": null,
            "grid_template_rows": null,
            "height": null,
            "justify_content": null,
            "justify_items": null,
            "left": null,
            "margin": null,
            "max_height": null,
            "max_width": null,
            "min_height": null,
            "min_width": null,
            "object_fit": null,
            "object_position": null,
            "order": null,
            "overflow": null,
            "overflow_x": null,
            "overflow_y": null,
            "padding": null,
            "right": null,
            "top": null,
            "visibility": null,
            "width": null
          }
        },
        "d1bd84c54a294cd8a690e3538019a1de": {
          "model_module": "@jupyter-widgets/controls",
          "model_name": "ProgressStyleModel",
          "model_module_version": "1.5.0",
          "state": {
            "_model_module": "@jupyter-widgets/controls",
            "_model_module_version": "1.5.0",
            "_model_name": "ProgressStyleModel",
            "_view_count": null,
            "_view_module": "@jupyter-widgets/base",
            "_view_module_version": "1.2.0",
            "_view_name": "StyleView",
            "bar_color": null,
            "description_width": ""
          }
        },
        "ee60a549f71246fab86fa705995fe35d": {
          "model_module": "@jupyter-widgets/base",
          "model_name": "LayoutModel",
          "model_module_version": "1.2.0",
          "state": {
            "_model_module": "@jupyter-widgets/base",
            "_model_module_version": "1.2.0",
            "_model_name": "LayoutModel",
            "_view_count": null,
            "_view_module": "@jupyter-widgets/base",
            "_view_module_version": "1.2.0",
            "_view_name": "LayoutView",
            "align_content": null,
            "align_items": null,
            "align_self": null,
            "border": null,
            "bottom": null,
            "display": null,
            "flex": null,
            "flex_flow": null,
            "grid_area": null,
            "grid_auto_columns": null,
            "grid_auto_flow": null,
            "grid_auto_rows": null,
            "grid_column": null,
            "grid_gap": null,
            "grid_row": null,
            "grid_template_areas": null,
            "grid_template_columns": null,
            "grid_template_rows": null,
            "height": null,
            "justify_content": null,
            "justify_items": null,
            "left": null,
            "margin": null,
            "max_height": null,
            "max_width": null,
            "min_height": null,
            "min_width": null,
            "object_fit": null,
            "object_position": null,
            "order": null,
            "overflow": null,
            "overflow_x": null,
            "overflow_y": null,
            "padding": null,
            "right": null,
            "top": null,
            "visibility": null,
            "width": null
          }
        },
        "dbd68c9cbfd54e568c618b887c05d70b": {
          "model_module": "@jupyter-widgets/controls",
          "model_name": "DescriptionStyleModel",
          "model_module_version": "1.5.0",
          "state": {
            "_model_module": "@jupyter-widgets/controls",
            "_model_module_version": "1.5.0",
            "_model_name": "DescriptionStyleModel",
            "_view_count": null,
            "_view_module": "@jupyter-widgets/base",
            "_view_module_version": "1.2.0",
            "_view_name": "StyleView",
            "description_width": ""
          }
        },
        "4d911273ab9847e99e277be5b747725a": {
          "model_module": "@jupyter-widgets/controls",
          "model_name": "HBoxModel",
          "model_module_version": "1.5.0",
          "state": {
            "_dom_classes": [],
            "_model_module": "@jupyter-widgets/controls",
            "_model_module_version": "1.5.0",
            "_model_name": "HBoxModel",
            "_view_count": null,
            "_view_module": "@jupyter-widgets/controls",
            "_view_module_version": "1.5.0",
            "_view_name": "HBoxView",
            "box_style": "",
            "children": [
              "IPY_MODEL_bd45717d22194f248235507a6b4d83b4",
              "IPY_MODEL_917650b8bcd148a490c017954b96265e",
              "IPY_MODEL_628b717dc07e48ec8033f1887b4b662c"
            ],
            "layout": "IPY_MODEL_5736956b73a5405a8ac91134e2bfb48f"
          }
        },
        "bd45717d22194f248235507a6b4d83b4": {
          "model_module": "@jupyter-widgets/controls",
          "model_name": "HTMLModel",
          "model_module_version": "1.5.0",
          "state": {
            "_dom_classes": [],
            "_model_module": "@jupyter-widgets/controls",
            "_model_module_version": "1.5.0",
            "_model_name": "HTMLModel",
            "_view_count": null,
            "_view_module": "@jupyter-widgets/controls",
            "_view_module_version": "1.5.0",
            "_view_name": "HTMLView",
            "description": "",
            "description_tooltip": null,
            "layout": "IPY_MODEL_b02857741577432aa9a37be7caf76639",
            "placeholder": "​",
            "style": "IPY_MODEL_870d153138324a47bc2fef5dedcc0487",
            "value": "tokenizer.json: 100%"
          }
        },
        "917650b8bcd148a490c017954b96265e": {
          "model_module": "@jupyter-widgets/controls",
          "model_name": "FloatProgressModel",
          "model_module_version": "1.5.0",
          "state": {
            "_dom_classes": [],
            "_model_module": "@jupyter-widgets/controls",
            "_model_module_version": "1.5.0",
            "_model_name": "FloatProgressModel",
            "_view_count": null,
            "_view_module": "@jupyter-widgets/controls",
            "_view_module_version": "1.5.0",
            "_view_name": "ProgressView",
            "bar_style": "success",
            "description": "",
            "description_tooltip": null,
            "layout": "IPY_MODEL_7d6d2dcbc5ac45499ee5137af9806dbc",
            "max": 1961828,
            "min": 0,
            "orientation": "horizontal",
            "style": "IPY_MODEL_fa85091bfe1240eeb8a3af43c9244650",
            "value": 1961828
          }
        },
        "628b717dc07e48ec8033f1887b4b662c": {
          "model_module": "@jupyter-widgets/controls",
          "model_name": "HTMLModel",
          "model_module_version": "1.5.0",
          "state": {
            "_dom_classes": [],
            "_model_module": "@jupyter-widgets/controls",
            "_model_module_version": "1.5.0",
            "_model_name": "HTMLModel",
            "_view_count": null,
            "_view_module": "@jupyter-widgets/controls",
            "_view_module_version": "1.5.0",
            "_view_name": "HTMLView",
            "description": "",
            "description_tooltip": null,
            "layout": "IPY_MODEL_37635fa1fe484d5a86acc69b944293d2",
            "placeholder": "​",
            "style": "IPY_MODEL_09c268232018454c9d8f05471e8f4061",
            "value": " 1.96M/1.96M [00:00&lt;00:00, 7.45MB/s]"
          }
        },
        "5736956b73a5405a8ac91134e2bfb48f": {
          "model_module": "@jupyter-widgets/base",
          "model_name": "LayoutModel",
          "model_module_version": "1.2.0",
          "state": {
            "_model_module": "@jupyter-widgets/base",
            "_model_module_version": "1.2.0",
            "_model_name": "LayoutModel",
            "_view_count": null,
            "_view_module": "@jupyter-widgets/base",
            "_view_module_version": "1.2.0",
            "_view_name": "LayoutView",
            "align_content": null,
            "align_items": null,
            "align_self": null,
            "border": null,
            "bottom": null,
            "display": null,
            "flex": null,
            "flex_flow": null,
            "grid_area": null,
            "grid_auto_columns": null,
            "grid_auto_flow": null,
            "grid_auto_rows": null,
            "grid_column": null,
            "grid_gap": null,
            "grid_row": null,
            "grid_template_areas": null,
            "grid_template_columns": null,
            "grid_template_rows": null,
            "height": null,
            "justify_content": null,
            "justify_items": null,
            "left": null,
            "margin": null,
            "max_height": null,
            "max_width": null,
            "min_height": null,
            "min_width": null,
            "object_fit": null,
            "object_position": null,
            "order": null,
            "overflow": null,
            "overflow_x": null,
            "overflow_y": null,
            "padding": null,
            "right": null,
            "top": null,
            "visibility": null,
            "width": null
          }
        },
        "b02857741577432aa9a37be7caf76639": {
          "model_module": "@jupyter-widgets/base",
          "model_name": "LayoutModel",
          "model_module_version": "1.2.0",
          "state": {
            "_model_module": "@jupyter-widgets/base",
            "_model_module_version": "1.2.0",
            "_model_name": "LayoutModel",
            "_view_count": null,
            "_view_module": "@jupyter-widgets/base",
            "_view_module_version": "1.2.0",
            "_view_name": "LayoutView",
            "align_content": null,
            "align_items": null,
            "align_self": null,
            "border": null,
            "bottom": null,
            "display": null,
            "flex": null,
            "flex_flow": null,
            "grid_area": null,
            "grid_auto_columns": null,
            "grid_auto_flow": null,
            "grid_auto_rows": null,
            "grid_column": null,
            "grid_gap": null,
            "grid_row": null,
            "grid_template_areas": null,
            "grid_template_columns": null,
            "grid_template_rows": null,
            "height": null,
            "justify_content": null,
            "justify_items": null,
            "left": null,
            "margin": null,
            "max_height": null,
            "max_width": null,
            "min_height": null,
            "min_width": null,
            "object_fit": null,
            "object_position": null,
            "order": null,
            "overflow": null,
            "overflow_x": null,
            "overflow_y": null,
            "padding": null,
            "right": null,
            "top": null,
            "visibility": null,
            "width": null
          }
        },
        "870d153138324a47bc2fef5dedcc0487": {
          "model_module": "@jupyter-widgets/controls",
          "model_name": "DescriptionStyleModel",
          "model_module_version": "1.5.0",
          "state": {
            "_model_module": "@jupyter-widgets/controls",
            "_model_module_version": "1.5.0",
            "_model_name": "DescriptionStyleModel",
            "_view_count": null,
            "_view_module": "@jupyter-widgets/base",
            "_view_module_version": "1.2.0",
            "_view_name": "StyleView",
            "description_width": ""
          }
        },
        "7d6d2dcbc5ac45499ee5137af9806dbc": {
          "model_module": "@jupyter-widgets/base",
          "model_name": "LayoutModel",
          "model_module_version": "1.2.0",
          "state": {
            "_model_module": "@jupyter-widgets/base",
            "_model_module_version": "1.2.0",
            "_model_name": "LayoutModel",
            "_view_count": null,
            "_view_module": "@jupyter-widgets/base",
            "_view_module_version": "1.2.0",
            "_view_name": "LayoutView",
            "align_content": null,
            "align_items": null,
            "align_self": null,
            "border": null,
            "bottom": null,
            "display": null,
            "flex": null,
            "flex_flow": null,
            "grid_area": null,
            "grid_auto_columns": null,
            "grid_auto_flow": null,
            "grid_auto_rows": null,
            "grid_column": null,
            "grid_gap": null,
            "grid_row": null,
            "grid_template_areas": null,
            "grid_template_columns": null,
            "grid_template_rows": null,
            "height": null,
            "justify_content": null,
            "justify_items": null,
            "left": null,
            "margin": null,
            "max_height": null,
            "max_width": null,
            "min_height": null,
            "min_width": null,
            "object_fit": null,
            "object_position": null,
            "order": null,
            "overflow": null,
            "overflow_x": null,
            "overflow_y": null,
            "padding": null,
            "right": null,
            "top": null,
            "visibility": null,
            "width": null
          }
        },
        "fa85091bfe1240eeb8a3af43c9244650": {
          "model_module": "@jupyter-widgets/controls",
          "model_name": "ProgressStyleModel",
          "model_module_version": "1.5.0",
          "state": {
            "_model_module": "@jupyter-widgets/controls",
            "_model_module_version": "1.5.0",
            "_model_name": "ProgressStyleModel",
            "_view_count": null,
            "_view_module": "@jupyter-widgets/base",
            "_view_module_version": "1.2.0",
            "_view_name": "StyleView",
            "bar_color": null,
            "description_width": ""
          }
        },
        "37635fa1fe484d5a86acc69b944293d2": {
          "model_module": "@jupyter-widgets/base",
          "model_name": "LayoutModel",
          "model_module_version": "1.2.0",
          "state": {
            "_model_module": "@jupyter-widgets/base",
            "_model_module_version": "1.2.0",
            "_model_name": "LayoutModel",
            "_view_count": null,
            "_view_module": "@jupyter-widgets/base",
            "_view_module_version": "1.2.0",
            "_view_name": "LayoutView",
            "align_content": null,
            "align_items": null,
            "align_self": null,
            "border": null,
            "bottom": null,
            "display": null,
            "flex": null,
            "flex_flow": null,
            "grid_area": null,
            "grid_auto_columns": null,
            "grid_auto_flow": null,
            "grid_auto_rows": null,
            "grid_column": null,
            "grid_gap": null,
            "grid_row": null,
            "grid_template_areas": null,
            "grid_template_columns": null,
            "grid_template_rows": null,
            "height": null,
            "justify_content": null,
            "justify_items": null,
            "left": null,
            "margin": null,
            "max_height": null,
            "max_width": null,
            "min_height": null,
            "min_width": null,
            "object_fit": null,
            "object_position": null,
            "order": null,
            "overflow": null,
            "overflow_x": null,
            "overflow_y": null,
            "padding": null,
            "right": null,
            "top": null,
            "visibility": null,
            "width": null
          }
        },
        "09c268232018454c9d8f05471e8f4061": {
          "model_module": "@jupyter-widgets/controls",
          "model_name": "DescriptionStyleModel",
          "model_module_version": "1.5.0",
          "state": {
            "_model_module": "@jupyter-widgets/controls",
            "_model_module_version": "1.5.0",
            "_model_name": "DescriptionStyleModel",
            "_view_count": null,
            "_view_module": "@jupyter-widgets/base",
            "_view_module_version": "1.2.0",
            "_view_name": "StyleView",
            "description_width": ""
          }
        },
        "d0e9b723d2c848b7acd857d485729de5": {
          "model_module": "@jupyter-widgets/controls",
          "model_name": "HBoxModel",
          "model_module_version": "1.5.0",
          "state": {
            "_dom_classes": [],
            "_model_module": "@jupyter-widgets/controls",
            "_model_module_version": "1.5.0",
            "_model_name": "HBoxModel",
            "_view_count": null,
            "_view_module": "@jupyter-widgets/controls",
            "_view_module_version": "1.5.0",
            "_view_name": "HBoxView",
            "box_style": "",
            "children": [
              "IPY_MODEL_a39f8c26fb7c421e92b013e6f1b25eb9",
              "IPY_MODEL_db7c5746eaba4d29a5bd22622a429889",
              "IPY_MODEL_197d590a9215422b9d8ce35e32540beb"
            ],
            "layout": "IPY_MODEL_0fe25928046b49e8aa1c31bf5ede4717"
          }
        },
        "a39f8c26fb7c421e92b013e6f1b25eb9": {
          "model_module": "@jupyter-widgets/controls",
          "model_name": "HTMLModel",
          "model_module_version": "1.5.0",
          "state": {
            "_dom_classes": [],
            "_model_module": "@jupyter-widgets/controls",
            "_model_module_version": "1.5.0",
            "_model_name": "HTMLModel",
            "_view_count": null,
            "_view_module": "@jupyter-widgets/controls",
            "_view_module_version": "1.5.0",
            "_view_name": "HTMLView",
            "description": "",
            "description_tooltip": null,
            "layout": "IPY_MODEL_307a81b40efd4c8e9b832807bbd26f94",
            "placeholder": "​",
            "style": "IPY_MODEL_37d652985bdc4cdda5f5133f893204ec",
            "value": "model.safetensors: 100%"
          }
        },
        "db7c5746eaba4d29a5bd22622a429889": {
          "model_module": "@jupyter-widgets/controls",
          "model_name": "FloatProgressModel",
          "model_module_version": "1.5.0",
          "state": {
            "_dom_classes": [],
            "_model_module": "@jupyter-widgets/controls",
            "_model_module_version": "1.5.0",
            "_model_name": "FloatProgressModel",
            "_view_count": null,
            "_view_module": "@jupyter-widgets/controls",
            "_view_module_version": "1.5.0",
            "_view_name": "ProgressView",
            "bar_style": "success",
            "description": "",
            "description_tooltip": null,
            "layout": "IPY_MODEL_12037a95d87e4f27bd3476625e533a38",
            "max": 714290682,
            "min": 0,
            "orientation": "horizontal",
            "style": "IPY_MODEL_1421409015cc4fb8bb67df26510b6f5b",
            "value": 714290682
          }
        },
        "197d590a9215422b9d8ce35e32540beb": {
          "model_module": "@jupyter-widgets/controls",
          "model_name": "HTMLModel",
          "model_module_version": "1.5.0",
          "state": {
            "_dom_classes": [],
            "_model_module": "@jupyter-widgets/controls",
            "_model_module_version": "1.5.0",
            "_model_name": "HTMLModel",
            "_view_count": null,
            "_view_module": "@jupyter-widgets/controls",
            "_view_module_version": "1.5.0",
            "_view_name": "HTMLView",
            "description": "",
            "description_tooltip": null,
            "layout": "IPY_MODEL_2a7dadadc8e74a44b1007ae5c576f427",
            "placeholder": "​",
            "style": "IPY_MODEL_e0622f72c3bb4ed48f0ea9cd75f7a999",
            "value": " 714M/714M [00:02&lt;00:00, 280MB/s]"
          }
        },
        "0fe25928046b49e8aa1c31bf5ede4717": {
          "model_module": "@jupyter-widgets/base",
          "model_name": "LayoutModel",
          "model_module_version": "1.2.0",
          "state": {
            "_model_module": "@jupyter-widgets/base",
            "_model_module_version": "1.2.0",
            "_model_name": "LayoutModel",
            "_view_count": null,
            "_view_module": "@jupyter-widgets/base",
            "_view_module_version": "1.2.0",
            "_view_name": "LayoutView",
            "align_content": null,
            "align_items": null,
            "align_self": null,
            "border": null,
            "bottom": null,
            "display": null,
            "flex": null,
            "flex_flow": null,
            "grid_area": null,
            "grid_auto_columns": null,
            "grid_auto_flow": null,
            "grid_auto_rows": null,
            "grid_column": null,
            "grid_gap": null,
            "grid_row": null,
            "grid_template_areas": null,
            "grid_template_columns": null,
            "grid_template_rows": null,
            "height": null,
            "justify_content": null,
            "justify_items": null,
            "left": null,
            "margin": null,
            "max_height": null,
            "max_width": null,
            "min_height": null,
            "min_width": null,
            "object_fit": null,
            "object_position": null,
            "order": null,
            "overflow": null,
            "overflow_x": null,
            "overflow_y": null,
            "padding": null,
            "right": null,
            "top": null,
            "visibility": null,
            "width": null
          }
        },
        "307a81b40efd4c8e9b832807bbd26f94": {
          "model_module": "@jupyter-widgets/base",
          "model_name": "LayoutModel",
          "model_module_version": "1.2.0",
          "state": {
            "_model_module": "@jupyter-widgets/base",
            "_model_module_version": "1.2.0",
            "_model_name": "LayoutModel",
            "_view_count": null,
            "_view_module": "@jupyter-widgets/base",
            "_view_module_version": "1.2.0",
            "_view_name": "LayoutView",
            "align_content": null,
            "align_items": null,
            "align_self": null,
            "border": null,
            "bottom": null,
            "display": null,
            "flex": null,
            "flex_flow": null,
            "grid_area": null,
            "grid_auto_columns": null,
            "grid_auto_flow": null,
            "grid_auto_rows": null,
            "grid_column": null,
            "grid_gap": null,
            "grid_row": null,
            "grid_template_areas": null,
            "grid_template_columns": null,
            "grid_template_rows": null,
            "height": null,
            "justify_content": null,
            "justify_items": null,
            "left": null,
            "margin": null,
            "max_height": null,
            "max_width": null,
            "min_height": null,
            "min_width": null,
            "object_fit": null,
            "object_position": null,
            "order": null,
            "overflow": null,
            "overflow_x": null,
            "overflow_y": null,
            "padding": null,
            "right": null,
            "top": null,
            "visibility": null,
            "width": null
          }
        },
        "37d652985bdc4cdda5f5133f893204ec": {
          "model_module": "@jupyter-widgets/controls",
          "model_name": "DescriptionStyleModel",
          "model_module_version": "1.5.0",
          "state": {
            "_model_module": "@jupyter-widgets/controls",
            "_model_module_version": "1.5.0",
            "_model_name": "DescriptionStyleModel",
            "_view_count": null,
            "_view_module": "@jupyter-widgets/base",
            "_view_module_version": "1.2.0",
            "_view_name": "StyleView",
            "description_width": ""
          }
        },
        "12037a95d87e4f27bd3476625e533a38": {
          "model_module": "@jupyter-widgets/base",
          "model_name": "LayoutModel",
          "model_module_version": "1.2.0",
          "state": {
            "_model_module": "@jupyter-widgets/base",
            "_model_module_version": "1.2.0",
            "_model_name": "LayoutModel",
            "_view_count": null,
            "_view_module": "@jupyter-widgets/base",
            "_view_module_version": "1.2.0",
            "_view_name": "LayoutView",
            "align_content": null,
            "align_items": null,
            "align_self": null,
            "border": null,
            "bottom": null,
            "display": null,
            "flex": null,
            "flex_flow": null,
            "grid_area": null,
            "grid_auto_columns": null,
            "grid_auto_flow": null,
            "grid_auto_rows": null,
            "grid_column": null,
            "grid_gap": null,
            "grid_row": null,
            "grid_template_areas": null,
            "grid_template_columns": null,
            "grid_template_rows": null,
            "height": null,
            "justify_content": null,
            "justify_items": null,
            "left": null,
            "margin": null,
            "max_height": null,
            "max_width": null,
            "min_height": null,
            "min_width": null,
            "object_fit": null,
            "object_position": null,
            "order": null,
            "overflow": null,
            "overflow_x": null,
            "overflow_y": null,
            "padding": null,
            "right": null,
            "top": null,
            "visibility": null,
            "width": null
          }
        },
        "1421409015cc4fb8bb67df26510b6f5b": {
          "model_module": "@jupyter-widgets/controls",
          "model_name": "ProgressStyleModel",
          "model_module_version": "1.5.0",
          "state": {
            "_model_module": "@jupyter-widgets/controls",
            "_model_module_version": "1.5.0",
            "_model_name": "ProgressStyleModel",
            "_view_count": null,
            "_view_module": "@jupyter-widgets/base",
            "_view_module_version": "1.2.0",
            "_view_name": "StyleView",
            "bar_color": null,
            "description_width": ""
          }
        },
        "2a7dadadc8e74a44b1007ae5c576f427": {
          "model_module": "@jupyter-widgets/base",
          "model_name": "LayoutModel",
          "model_module_version": "1.2.0",
          "state": {
            "_model_module": "@jupyter-widgets/base",
            "_model_module_version": "1.2.0",
            "_model_name": "LayoutModel",
            "_view_count": null,
            "_view_module": "@jupyter-widgets/base",
            "_view_module_version": "1.2.0",
            "_view_name": "LayoutView",
            "align_content": null,
            "align_items": null,
            "align_self": null,
            "border": null,
            "bottom": null,
            "display": null,
            "flex": null,
            "flex_flow": null,
            "grid_area": null,
            "grid_auto_columns": null,
            "grid_auto_flow": null,
            "grid_auto_rows": null,
            "grid_column": null,
            "grid_gap": null,
            "grid_row": null,
            "grid_template_areas": null,
            "grid_template_columns": null,
            "grid_template_rows": null,
            "height": null,
            "justify_content": null,
            "justify_items": null,
            "left": null,
            "margin": null,
            "max_height": null,
            "max_width": null,
            "min_height": null,
            "min_width": null,
            "object_fit": null,
            "object_position": null,
            "order": null,
            "overflow": null,
            "overflow_x": null,
            "overflow_y": null,
            "padding": null,
            "right": null,
            "top": null,
            "visibility": null,
            "width": null
          }
        },
        "e0622f72c3bb4ed48f0ea9cd75f7a999": {
          "model_module": "@jupyter-widgets/controls",
          "model_name": "DescriptionStyleModel",
          "model_module_version": "1.5.0",
          "state": {
            "_model_module": "@jupyter-widgets/controls",
            "_model_module_version": "1.5.0",
            "_model_name": "DescriptionStyleModel",
            "_view_count": null,
            "_view_module": "@jupyter-widgets/base",
            "_view_module_version": "1.2.0",
            "_view_name": "StyleView",
            "description_width": ""
          }
        }
      }
    }
  },
  "nbformat": 4,
  "nbformat_minor": 0
}